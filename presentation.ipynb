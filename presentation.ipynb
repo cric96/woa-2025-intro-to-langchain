{
 "cells": [
  {
   "cell_type": "markdown",
   "id": "cd38e076ba1efc24",
   "metadata": {
    "editable": true,
    "slideshow": {
     "slide_type": "slide"
    },
    "tags": []
   },
   "source": [
    "# Developing Autonomous Agents in Practice with LangChain\n",
    "\n",
    "---\n",
    "\n",
    "**Speaker:** Gianluca Aguzzi  \n",
    "**Email:** gianluca.aguzzi@unibo.it  \n",
    "**GitHub:** [cric96](https://github.com/cric96)\n",
    "\n"
   ]
  },
  {
   "cell_type": "markdown",
   "id": "ee90dd408fcb97d3",
   "metadata": {
    "editable": true,
    "slideshow": {
     "slide_type": "slide"
    },
    "tags": []
   },
   "source": [
    "## About Me\n",
    "\n",
    "### Gianluca Aguzzi\n",
    "\n",
    "- 🎓 _Postdoctoral Researcher_ at the University of Bologna\n",
    "- 🔬 Research Interests:\n",
    "    - Engineering *Large Scale* Distributed Systems\n",
    "    - Software Engineering 3.0 (*LLMs*, AI-assisted development)\n",
    "    - Application of AI in software engineering practices"
   ]
  },
  {
   "cell_type": "markdown",
   "id": "2e13bcdc",
   "metadata": {
    "editable": true,
    "slideshow": {
     "slide_type": "fragment"
    },
    "tags": []
   },
   "source": [
    "Ok, let's dive into LangChain and discover how to build applications with LLMs! 😊"
   ]
  },
  {
   "cell_type": "markdown",
   "id": "ebcedd50",
   "metadata": {
    "editable": true,
    "slideshow": {
     "slide_type": "slide"
    },
    "tags": []
   },
   "source": [
    "## LLMs Panorama: How to Use Them? 🌐🤖\n",
    "\n",
    "Access LLMs through various providers and models:\n",
    "    - **API Providers**: \n",
    "        - OpenAI, Anthropic, Google, etc.\n",
    "    - **Open Source Models** (HuggingFace): \n",
    "        - Llama 2, Falcon, Mistral, etc.\n",
    "\n",
    "- **Goals**:\n",
    "    - Seamlessly switch between providers. 🔄\n",
    "    - Flexibly use different models. 🛠️\n",
    "    - Integrate multiple providers for diverse use cases. 🌈\n"
   ]
  },
  {
   "cell_type": "markdown",
   "id": "5fc71742",
   "metadata": {
    "editable": true,
    "slideshow": {
     "slide_type": "slide"
    },
    "tags": []
   },
   "source": [
    "## LLM Agentic Applications: How to Build Them? \n",
    "- Challenges in Building Applications with LLMs:\n",
    "    - **Input Parsing**: How to effectively process user inputs? 🤔\n",
    "    - **Output Formatting**: How to structure responses for clarity and usability? 📋\n",
    "    - **Error Handling**: How to manage unexpected behaviors or failures? ⚠️\n",
    "    - **Conversation Management**: How to maintain context in multi-turn interactions? 💬\n",
    "    - **External Data Integration**: How to connect with databases, APIs, or other data sources? 🔗\n",
    "    - **Workflow Orchestration**: How to seamlessly integrate multiple steps or components? 🔄\n"
   ]
  },
  {
   "cell_type": "markdown",
   "id": "f1c59b24",
   "metadata": {
    "editable": true,
    "slideshow": {
     "slide_type": "fragment"
    },
    "tags": []
   },
   "source": [
    "**Solution**: This is where **LangChain** excels! 🌟"
   ]
  },
  {
   "cell_type": "markdown",
   "id": "cb9417c7",
   "metadata": {
    "editable": true,
    "slideshow": {
     "slide_type": ""
    },
    "tags": []
   },
   "source": [
    "## LangChain - Overview 🌟\n",
    "\n",
    "\n",
    "<p align=\"center\">\n",
    "    <img src=\"data/structure.png\" alt=\"LangChain Overview\">\n",
    "</p>"
   ]
  },
  {
   "cell_type": "markdown",
   "id": "37d99162",
   "metadata": {},
   "source": [
    "## LangChain - Models\n",
    "\n",
    "LangChain offers a seamless interface to interact with diverse LLMs, empowering developers to effortlessly switch between models and providers.  \n",
    "- It supports an extensive array of LLMs, including OpenAI, Anthropic, Google, and numerous open-source models available on HuggingFace.  \n",
    "- Additionally, it provides support for embeddings, essential for tasks such as semantic search and text similarity.  \n",
    "\n",
    "<p align=\"center\">\n",
    "    <img src=\"data/models.png\" alt=\"LangChain Overview\">\n",
    "</p>"
   ]
  },
  {
   "cell_type": "markdown",
   "id": "c8d465ca",
   "metadata": {},
   "source": [
    "### LLMs provides\n",
    "All LLM have the same interface, which is the following:\n",
    "\n",
    "TODO add methods"
   ]
  },
  {
   "cell_type": "code",
   "execution_count": 1,
   "id": "fe682816",
   "metadata": {
    "ExecuteTime": {
     "end_time": "2025-06-26T16:27:07.847272Z",
     "start_time": "2025-06-26T16:27:07.539408Z"
    }
   },
   "outputs": [
    {
     "data": {
      "text/plain": [
       "'Sure, I\\'d be happy to explain! So, imagine you\\'re trying to teach a child how to recognize different types of animals. At first, the child might not know what an elephant is or what it looks like. But if you show them pictures and tell them that elephants have thick gray skin, long trunks, and big ears, they\\'ll start to learn.\\n\\nNow, imagine this process could be done with a computer program, instead of just a human teaching the child. This is basically how machine learning works. \\n\\nIn simple terms, machine learning means a computer can improve its performance or \"intelligence\" by doing more tasks and getting better at recognizing patterns based on data it has been given. Over time, the computer gets smarter because it learns from experience without being programmed to do so specifically. \\n\\nIt\\'s like giving your child lots of pictures of animals until they get very good at identifying what an elephant looks like!'"
      ]
     },
     "execution_count": 1,
     "metadata": {},
     "output_type": "execute_result"
    }
   ],
   "source": [
    "import langchain\n",
    "# import langchain gemini and ollama\n",
    "from langchain_ollama.llms import OllamaLLM\n",
    "smollm = OllamaLLM(model=\"smollm2:1.7b\")\n",
    "smollm.invoke(\"Explain machine learning in simple terms\")  # Example query\n"
   ]
  },
  {
   "cell_type": "code",
   "execution_count": 2,
   "id": "9656ee85b1327641",
   "metadata": {
    "ExecuteTime": {
     "end_time": "2025-06-26T16:27:10.537385Z",
     "start_time": "2025-06-26T16:27:09.705128Z"
    }
   },
   "outputs": [
    {
     "data": {
      "text/plain": [
       "'Imagine you\\'re teaching a dog a new trick, like \"fetch.\" You don\\'t tell the dog exactly how to run, grab the ball, and bring it back. Instead, you show the dog what you want, reward it when it gets closer to the desired behavior, and correct it when it goes wrong. Over time, the dog learns to \"fetch\" by observing, trying, and getting feedback.\\n\\n**Machine learning is similar!**\\n\\nInstead of a dog, we have a computer. Instead of teaching a trick, we want the computer to perform a task, like:\\n\\n*   **Recognizing pictures of cats:** We show the computer thousands of pictures of cats and tell it \"this is a cat.\"\\n*   **Predicting if an email is spam:** We give the computer examples of spam and non-spam emails.\\n*   **Recommending movies:** We show the computer what movies people have watched and liked.\\n\\n**Here\\'s the breakdown:**\\n\\n1.  **Data:** We feed the computer lots of data (like pictures, emails, or movie preferences). This is like showing the dog what \"fetch\" looks like.\\n2.  **Algorithm:** We use a special set of instructions (an algorithm) that allows the computer to learn from the data. This is like the dog\\'s brain trying to figure out what you want.\\n3.  **Learning:** The computer analyzes the data and tries to find patterns and relationships. It adjusts its internal \"settings\" to get better at the task. This is like the dog trying different approaches to \"fetch\" and learning what works.\\n4.  **Prediction/Action:** Once the computer has learned, it can use its knowledge to make predictions or take actions on new, unseen data. This is like the dog successfully fetching the ball.\\n5.  **Feedback/Evaluation:** We check how well the computer is doing and give it feedback. This helps it improve its accuracy over time. This is like rewarding the dog when it gets closer to the desired behavior.\\n\\n**In essence, machine learning is about:**\\n\\n*   **Giving computers the ability to learn from data without being explicitly programmed.**\\n*   **Enabling computers to make predictions or decisions based on that learning.**\\n\\n**Think of it like teaching a computer to recognize patterns and make smart guesses based on those patterns.**\\n\\n**Key takeaway:** Machine learning is about teaching computers to learn from data, just like you teach a dog a new trick!'"
      ]
     },
     "execution_count": 2,
     "metadata": {},
     "output_type": "execute_result"
    }
   ],
   "source": [
    "# Same for gemini\n",
    "from dotenv import load_dotenv # used to load environment variables\n",
    "load_dotenv()  # Load environment variables from .env file\n",
    "from langchain_google_genai import GoogleGenerativeAI\n",
    "gemini = GoogleGenerativeAI(model=\"gemini-2.0-flash\", temperature=0.0)\n",
    "gemini.invoke(\"Explain machine learning in simple terms\")  # Example query"
   ]
  },
  {
   "cell_type": "code",
   "execution_count": 3,
   "id": "5f452d638eea2977",
   "metadata": {
    "ExecuteTime": {
     "end_time": "2025-06-26T16:27:12.189893Z",
     "start_time": "2025-06-26T16:27:12.183649Z"
    }
   },
   "outputs": [],
   "source": [
    "from langchain_core.language_models.base import BaseLanguageModel\n",
    "def explain_topic(llm: BaseLanguageModel, topic: str) -> str:\n",
    "    query = f\"Explain {topic} in simple terms?\"\n",
    "    response = llm.invoke(query)\n",
    "    return response"
   ]
  },
  {
   "cell_type": "code",
   "execution_count": 4,
   "id": "4f6604071eb2996f",
   "metadata": {
    "ExecuteTime": {
     "end_time": "2025-06-26T16:27:15.433576Z",
     "start_time": "2025-06-26T16:27:13.721173Z"
    }
   },
   "outputs": [
    {
     "data": {
      "text/plain": [
       "(\"London is a really big, old city in England. It's the capital of the United Kingdom and a major global hub for business, culture, and history.\\n\\nThink of it like this:\\n\\n*   **Big and Busy:** Lots of people live there, and there's always something happening.\\n*   **Old and Historic:** It has famous landmarks like Buckingham Palace (where the King lives), the Tower of London (a former prison), and Big Ben (a famous clock).\\n*   **Diverse and Multicultural:** People from all over the world live in London, so you can find all kinds of food, languages, and traditions.\\n*   **Important and Powerful:** It's a center for money, politics, and art.\\n\\nBasically, London is a vibrant, exciting city with a rich past and a bright future.\",\n",
       " \"Sure, I'd be happy to! London is the capital and most populous city of England. It's known for its rich history, cultural significance, diverse neighborhoods, and world-class landmarks like Buckingham Palace and the Tower of London. People from all over visit London every year to explore its shops, theaters, museums, historic sites, and vibrant food scene.\")"
      ]
     },
     "execution_count": 4,
     "metadata": {},
     "output_type": "execute_result"
    }
   ],
   "source": [
    "explain_topic(gemini, \"London\"), explain_topic(smollm, \"London\")"
   ]
  },
  {
   "cell_type": "markdown",
   "id": "3a1b5dbf",
   "metadata": {},
   "source": [
    "| Aspect                   | Base Model           | Chat Model                  |\n",
    "| ------------------------ | -------------------- | --------------------------- |\n",
    "| **Input**                | Plain text prompt    | List of structured messages |\n",
    "| **Designed for**         | One-shot completions | Multi-turn conversations    |\n",
    "| **Output**               | Text completion      | Message object              |\n",
    "| **Classes in LangChain** | `LLM`                | `ChatModel`                 |\n"
   ]
  },
  {
   "cell_type": "code",
   "execution_count": 5,
   "id": "daf19ec2",
   "metadata": {},
   "outputs": [
    {
     "data": {
      "text/plain": [
       "AIMessage(content='Imagine you\\'re teaching a dog a new trick, like \"fetch.\" You don\\'t tell the dog exactly how to run, grab the ball, and bring it back. Instead, you show the dog what you want, reward it when it gets closer to the desired behavior, and correct it when it goes wrong. Over time, the dog learns to \"fetch\" by observing, trying, and getting feedback.\\n\\n**Machine learning is similar!**\\n\\nInstead of a dog, we have a computer. Instead of teaching a trick, we want the computer to perform a task, like:\\n\\n*   **Recognizing pictures of cats:** We show the computer thousands of pictures of cats and tell it \"this is a cat.\"\\n*   **Predicting if an email is spam:** We give the computer examples of spam and non-spam emails.\\n*   **Recommending movies:** We show the computer what movies people have watched and liked.\\n\\n**Here\\'s the breakdown:**\\n\\n1.  **Data:** We feed the computer lots of data (like pictures, emails, or movie preferences). This is like showing the dog what \"fetch\" looks like.\\n2.  **Algorithm:** We use a special set of instructions (an algorithm) that allows the computer to learn from the data. This is like the dog\\'s brain trying to figure out what you want.\\n3.  **Learning:** The computer analyzes the data and tries to find patterns and relationships. It adjusts its internal \"settings\" to get better at the task. This is like the dog trying different approaches to \"fetch\" and learning what works.\\n4.  **Prediction/Action:** Once the computer has learned, it can use its knowledge to make predictions or take actions on new, unseen data. This is like the dog successfully fetching the ball.\\n5.  **Feedback/Evaluation:** We check how well the computer is doing and give it feedback. This helps it improve its accuracy over time. This is like rewarding the dog when it gets closer to the desired behavior.\\n\\n**In essence, machine learning is about:**\\n\\n*   **Giving computers the ability to learn from data without being explicitly programmed.**\\n*   **Enabling computers to make predictions or decisions based on that learning.**\\n\\n**Think of it like teaching a computer to recognize patterns and make smart guesses based on those patterns.**\\n\\n**Key takeaway:** Machine learning is about teaching computers to learn from data, just like you teach a dog a new trick!', additional_kwargs={}, response_metadata={'prompt_feedback': {'block_reason': 0, 'safety_ratings': []}, 'finish_reason': 'STOP', 'model_name': 'gemini-2.0-flash', 'safety_ratings': []}, id='run--d8617c44-92c8-4b5c-a7e9-e2056efb841e-0', usage_metadata={'input_tokens': 6, 'output_tokens': 513, 'total_tokens': 519, 'input_token_details': {'cache_read': 0}})"
      ]
     },
     "execution_count": 5,
     "metadata": {},
     "output_type": "execute_result"
    }
   ],
   "source": [
    "# Chat models\n",
    "from langchain_google_genai import ChatGoogleGenerativeAI\n",
    "chat_gemini = ChatGoogleGenerativeAI(model=\"gemini-2.0-flash\", temperature=0.0)\n",
    "chat_gemini.invoke(\"Explain machine learning in simple terms\")  # Example query"
   ]
  },
  {
   "cell_type": "code",
   "execution_count": 6,
   "id": "337dca05b8d0fdc7",
   "metadata": {},
   "outputs": [
    {
     "data": {
      "text/plain": [
       "[-0.024339474737644196,\n",
       " 0.019421163946390152,\n",
       " -0.005040269810706377,\n",
       " -0.021117379888892174,\n",
       " -0.030608780682086945,\n",
       " -0.025786245241761208,\n",
       " -0.008136637508869171,\n",
       " -0.0492401123046875,\n",
       " 0.024226879701018333,\n",
       " 0.019053924828767776,\n",
       " -0.08625409752130508,\n",
       " -0.014193560928106308,\n",
       " 0.012021142989397049,\n",
       " -0.025493402034044266,\n",
       " -0.012346025556325912,\n",
       " 0.0019789922516793013,\n",
       " -0.009887508116662502,\n",
       " -0.02625402994453907,\n",
       " -0.08788464218378067,\n",
       " -0.025186793878674507,\n",
       " 0.03354530408978462,\n",
       " 0.026059607043862343,\n",
       " 0.03570136800408363,\n",
       " -0.051089879125356674,\n",
       " 0.019438229501247406,\n",
       " -0.03310118615627289,\n",
       " -0.0059738121926784515,\n",
       " 0.08720305562019348,\n",
       " 0.02537521906197071,\n",
       " -0.017556119710206985,\n",
       " -0.012313099578022957,\n",
       " 0.04253361001610756,\n",
       " -0.022274186834692955,\n",
       " -0.027966897934675217,\n",
       " -0.01717996783554554,\n",
       " 0.021414747461676598,\n",
       " -0.02218666858971119,\n",
       " -0.0018807122251018882,\n",
       " 0.020503059029579163,\n",
       " -0.05979927256703377,\n",
       " -0.06776152551174164,\n",
       " 0.06764645129442215,\n",
       " 0.028547346591949463,\n",
       " 0.09115571528673172,\n",
       " -0.01310914196074009,\n",
       " -0.009051483124494553,\n",
       " -0.024813702329993248,\n",
       " 0.03126133978366852,\n",
       " 0.06266413629055023,\n",
       " 0.034869641065597534,\n",
       " 0.03830461576581001,\n",
       " -0.047434139996767044,\n",
       " 0.06608032435178757,\n",
       " 0.021332429721951485,\n",
       " 0.0631164088845253,\n",
       " 0.01786174438893795,\n",
       " -0.06605973094701767,\n",
       " 0.00668648025020957,\n",
       " -0.020973334088921547,\n",
       " 0.023458873853087425,\n",
       " -0.03186363726854324,\n",
       " -0.022080956026911736,\n",
       " -0.014796270988881588,\n",
       " -0.05599492788314819,\n",
       " 0.010660509578883648,\n",
       " -0.04840947315096855,\n",
       " 0.053633999079465866,\n",
       " -0.00534012820571661,\n",
       " 0.010656400583684444,\n",
       " 0.042937036603689194,\n",
       " 0.015511170960962772,\n",
       " 0.012825878337025642,\n",
       " -0.028114117681980133,\n",
       " -0.008243014104664326,\n",
       " -0.016893036663532257,\n",
       " -0.02035803161561489,\n",
       " -0.07313661277294159,\n",
       " 0.02814084105193615,\n",
       " 0.023664982989430428,\n",
       " -0.010604857467114925,\n",
       " -0.03139832988381386,\n",
       " 0.050323233008384705,\n",
       " 0.056916769593954086,\n",
       " 0.07245691865682602,\n",
       " 0.055029138922691345,\n",
       " 0.009311950765550137,\n",
       " 0.05758797004818916,\n",
       " 0.01486432459205389,\n",
       " 0.05588711053133011,\n",
       " -0.08041281253099442,\n",
       " 0.024925272911787033,\n",
       " 0.041376739740371704,\n",
       " -0.014078035019338131,\n",
       " -0.018686538562178612,\n",
       " 0.05803845077753067,\n",
       " 0.010331950150430202,\n",
       " -0.06415458023548126,\n",
       " -0.048606500029563904,\n",
       " 0.048085231333971024,\n",
       " -0.02353590726852417,\n",
       " 0.020228218287229538,\n",
       " -0.0362316370010376,\n",
       " -0.013971293345093727,\n",
       " -0.045193735510110855,\n",
       " -0.02025030553340912,\n",
       " 0.05540601909160614,\n",
       " -0.019324500113725662,\n",
       " -0.08288218826055527,\n",
       " -0.045976173132658005,\n",
       " 0.0309614185243845,\n",
       " 0.005531613714993,\n",
       " -0.025329237803816795,\n",
       " 0.05469025671482086,\n",
       " 0.03363458067178726,\n",
       " -0.0009629672858864069,\n",
       " 0.038636624813079834,\n",
       " -0.015575389377772808,\n",
       " 0.04164327681064606,\n",
       " -0.022050268948078156,\n",
       " 0.06026400625705719,\n",
       " -0.02902960032224655,\n",
       " 0.009295370429754257,\n",
       " 0.0012014061212539673,\n",
       " 0.032517749816179276,\n",
       " -0.010589171200990677,\n",
       " 0.0518375001847744,\n",
       " -0.05058310925960541,\n",
       " 0.04516690596938133,\n",
       " 0.021393898874521255,\n",
       " -0.039593055844306946,\n",
       " 0.01814008690416813,\n",
       " -0.019507937133312225,\n",
       " 0.09593299776315689,\n",
       " -0.004093376453965902,\n",
       " -0.06330680102109909,\n",
       " 0.013059468008577824,\n",
       " 0.09613463282585144,\n",
       " -0.001173003576695919,\n",
       " 0.07825509458780289,\n",
       " -0.030262187123298645,\n",
       " 0.05371341481804848,\n",
       " -0.009564178064465523,\n",
       " -0.08424457162618637,\n",
       " 0.01823456957936287,\n",
       " 0.0044346097856760025,\n",
       " -0.014216495677828789,\n",
       " 0.03438185155391693,\n",
       " -0.014287152327597141,\n",
       " -0.0272496547549963,\n",
       " 0.027707522734999657,\n",
       " -0.04362158849835396,\n",
       " -0.0004358599544502795,\n",
       " 0.004700917284935713,\n",
       " -0.057385705411434174,\n",
       " 0.017891423776745796,\n",
       " 0.07583485543727875,\n",
       " 0.03193360194563866,\n",
       " -0.0023446506820619106,\n",
       " 0.04562705382704735,\n",
       " 0.04581523314118385,\n",
       " 0.02324238047003746,\n",
       " 0.036261726170778275,\n",
       " 0.012430491857230663,\n",
       " 0.02065116912126541,\n",
       " 0.008831240236759186,\n",
       " -0.0028049133252352476,\n",
       " -0.024034369736909866,\n",
       " -0.04644506052136421,\n",
       " -0.05880603566765785,\n",
       " 0.02345559559762478,\n",
       " 0.008985207416117191,\n",
       " -0.015565306879580021,\n",
       " -0.030548516660928726,\n",
       " -0.12470048666000366,\n",
       " -0.052569493651390076,\n",
       " 0.012330922298133373,\n",
       " -0.02434876747429371,\n",
       " -0.00794367864727974,\n",
       " -0.04286541789770126,\n",
       " -0.018371550366282463,\n",
       " 0.04142086207866669,\n",
       " -0.04931188374757767,\n",
       " 0.0049529895186424255,\n",
       " -0.033589158207178116,\n",
       " -0.01892363838851452,\n",
       " 0.002171778120100498,\n",
       " -0.031066641211509705,\n",
       " -0.05383101850748062,\n",
       " -0.0009809467010200024,\n",
       " -0.02161206305027008,\n",
       " -0.0035936792846769094,\n",
       " 0.022791320458054543,\n",
       " 0.04030155390501022,\n",
       " -0.05053690820932388,\n",
       " 0.006662644911557436,\n",
       " 0.03415747731924057,\n",
       " -0.006860433146357536,\n",
       " -0.061476875096559525,\n",
       " 0.02291167341172695,\n",
       " -0.05762450024485588,\n",
       " 0.017774464562535286,\n",
       " 0.035351574420928955,\n",
       " 0.01124044880270958,\n",
       " 0.06779145449399948,\n",
       " -0.03890082985162735,\n",
       " -0.04292846471071243,\n",
       " -0.04086148366332054,\n",
       " -0.040276139974594116,\n",
       " -0.052770547568798065,\n",
       " 0.018699202686548233,\n",
       " 0.0015123395714908838,\n",
       " -0.036120712757110596,\n",
       " -0.031459029763936996,\n",
       " -0.022077644243836403,\n",
       " 0.013371391221880913,\n",
       " -0.031120067462325096,\n",
       " -0.03475496917963028,\n",
       " -0.04283340275287628,\n",
       " 0.020606689155101776,\n",
       " -0.05909543111920357,\n",
       " 0.01644652709364891,\n",
       " 0.056313782930374146,\n",
       " 0.04714526608586311,\n",
       " -0.020264707505702972,\n",
       " 0.04042447730898857,\n",
       " -0.008092755451798439,\n",
       " 0.02891731821000576,\n",
       " -0.005402720533311367,\n",
       " -0.05823478847742081,\n",
       " -0.019125470891594887,\n",
       " -0.0027982695028185844,\n",
       " -0.009678994305431843,\n",
       " -0.008332319557666779,\n",
       " 0.009871482849121094,\n",
       " -0.027267813682556152,\n",
       " 0.01768653467297554,\n",
       " 0.049929652363061905,\n",
       " -0.021015537902712822,\n",
       " 0.024628428742289543,\n",
       " -0.06162252277135849,\n",
       " -0.041992004960775375,\n",
       " -0.1266907900571823,\n",
       " -0.005197873339056969,\n",
       " -0.021167535334825516,\n",
       " -0.028651053085923195,\n",
       " -0.024847814813256264,\n",
       " -0.008396492339670658,\n",
       " 0.04184111952781677,\n",
       " 0.0023281106259673834,\n",
       " -0.05618097633123398,\n",
       " -0.05195664241909981,\n",
       " -0.001078197150491178,\n",
       " 0.008474993519484997,\n",
       " 0.010314838029444218,\n",
       " -0.06159568950533867,\n",
       " -0.02152799256145954,\n",
       " -0.016818298026919365,\n",
       " -0.02771941013634205,\n",
       " -0.0463411919772625,\n",
       " -0.07229471206665039,\n",
       " 0.049884721636772156,\n",
       " -0.03717774897813797,\n",
       " -0.02735465206205845,\n",
       " -0.06363372504711151,\n",
       " -0.024013087153434753,\n",
       " -0.03197260573506355,\n",
       " -0.030712200328707695,\n",
       " 0.02543666586279869,\n",
       " 0.014641850255429745,\n",
       " -0.04221873730421066,\n",
       " 0.02881404012441635,\n",
       " -0.006895151920616627,\n",
       " -0.005005527753382921,\n",
       " 0.010784964077174664,\n",
       " -0.002296407474204898,\n",
       " 0.08374939113855362,\n",
       " -0.00888833124190569,\n",
       " -0.04175015538930893,\n",
       " 0.010315991006791592,\n",
       " -0.01021328754723072,\n",
       " -0.014554332010447979,\n",
       " -0.0032927696593105793,\n",
       " -0.029861068353056908,\n",
       " 0.009661827236413956,\n",
       " -0.011417272500693798,\n",
       " -0.03119874931871891,\n",
       " -0.01737888529896736,\n",
       " 0.04971521347761154,\n",
       " -0.03309674561023712,\n",
       " -0.022389929741621017,\n",
       " 0.026954904198646545,\n",
       " 0.025316370651125908,\n",
       " -0.01862116903066635,\n",
       " 0.025201914831995964,\n",
       " 0.028920944780111313,\n",
       " 0.022761717438697815,\n",
       " 0.03136782348155975,\n",
       " 0.06032394617795944,\n",
       " -0.027477262541651726,\n",
       " -0.003104529809206724,\n",
       " 0.014646727591753006,\n",
       " 0.054163169115781784,\n",
       " 0.002703374018892646,\n",
       " 0.030736515298485756,\n",
       " 0.03801053389906883,\n",
       " 0.02885541506111622,\n",
       " -0.00410538399592042,\n",
       " -0.02468826249241829,\n",
       " -0.050969600677490234,\n",
       " 0.019479336217045784,\n",
       " 0.005091616418212652,\n",
       " 0.015108536928892136,\n",
       " 0.02284986712038517,\n",
       " -0.027347248047590256,\n",
       " -0.009692910127341747,\n",
       " -0.005552593618631363,\n",
       " -0.06824873387813568,\n",
       " 0.0001914293970912695,\n",
       " 0.04693669453263283,\n",
       " -0.028810996562242508,\n",
       " 0.018210191279649734,\n",
       " -0.057943299412727356,\n",
       " -0.0543428473174572,\n",
       " -0.010207840241491795,\n",
       " 0.0869184285402298,\n",
       " 0.032365549355745316,\n",
       " 0.0027289933059364557,\n",
       " -0.003972864244133234,\n",
       " 0.009944976307451725,\n",
       " -0.02815425395965576,\n",
       " 0.01894930750131607,\n",
       " 0.0023827797267585993,\n",
       " -0.026446834206581116,\n",
       " -0.0014608053024858236,\n",
       " -0.0034663062542676926,\n",
       " -0.00952592957764864,\n",
       " -0.014093170873820782,\n",
       " 0.005372878164052963,\n",
       " 0.06737905740737915,\n",
       " 0.040241871029138565,\n",
       " -0.020410733297467232,\n",
       " 0.006295606028288603,\n",
       " -0.036868754774332047,\n",
       " -0.009447594173252583,\n",
       " -0.03145470842719078,\n",
       " -0.030098941177129745,\n",
       " -0.021339476108551025,\n",
       " 0.026894893497228622,\n",
       " 0.028038375079631805,\n",
       " 0.049774762243032455,\n",
       " -0.0005244645872153342,\n",
       " 0.002277032006531954,\n",
       " 0.058972086757421494,\n",
       " -0.012883754447102547,\n",
       " -0.021733488887548447,\n",
       " 0.025957513600587845,\n",
       " 0.057699400931596756,\n",
       " -0.008803854696452618,\n",
       " -0.00953842792659998,\n",
       " -0.06312622874975204,\n",
       " -0.01384507305920124,\n",
       " 0.04567995294928551,\n",
       " -0.00543748214840889,\n",
       " -0.02360253408551216,\n",
       " 0.026123657822608948,\n",
       " -0.0010563181713223457,\n",
       " 0.043430671095848083,\n",
       " -0.007033183239400387,\n",
       " -0.008609033189713955,\n",
       " 0.009577618911862373,\n",
       " 0.05476927384734154,\n",
       " 0.021928779780864716,\n",
       " -0.019168561324477196,\n",
       " -0.029562966898083687,\n",
       " -0.020554278045892715,\n",
       " 0.016329137608408928,\n",
       " -0.05510189011693001,\n",
       " -0.03463215008378029,\n",
       " -0.08597557246685028,\n",
       " -0.026895469054579735,\n",
       " 0.008151652291417122,\n",
       " 0.013896040618419647,\n",
       " -0.043809786438941956,\n",
       " 0.019625693559646606,\n",
       " -0.020979661494493484,\n",
       " -0.025424372404813766,\n",
       " -0.03448270261287689,\n",
       " -0.004179130773991346,\n",
       " -0.03640146553516388,\n",
       " 0.038933221250772476,\n",
       " -0.017090750858187675,\n",
       " 0.03696059435606003,\n",
       " -0.03643667697906494,\n",
       " 0.02151475101709366,\n",
       " -0.009669275023043156,\n",
       " 0.014849760569632053,\n",
       " -0.07762724161148071,\n",
       " 0.027727045118808746,\n",
       " 0.009405040182173252,\n",
       " -0.023308444768190384,\n",
       " -0.0321580246090889,\n",
       " -0.0024712118320167065,\n",
       " -0.029243914410471916,\n",
       " -0.07411324977874756,\n",
       " 0.04928366839885712,\n",
       " -0.006544348318129778,\n",
       " 0.04073639586567879,\n",
       " 0.028696972876787186,\n",
       " -0.0033439574763178825,\n",
       " 0.0038661600556224585,\n",
       " 0.011651547625660896,\n",
       " 0.02591153420507908,\n",
       " -0.019172092899680138,\n",
       " 0.013475966639816761,\n",
       " -0.02916555106639862,\n",
       " 0.01889847218990326,\n",
       " -0.020997686311602592,\n",
       " -0.009721022099256516,\n",
       " 0.05402728170156479,\n",
       " 0.013347456231713295,\n",
       " -0.02995520457625389,\n",
       " 0.00038956422940827906,\n",
       " -0.013656919822096825,\n",
       " 0.003055415814742446,\n",
       " -0.010529915802180767,\n",
       " -0.07792555540800095,\n",
       " 0.03322925418615341,\n",
       " 0.006724991369992495,\n",
       " -0.03553934395313263,\n",
       " 0.041055407375097275,\n",
       " 0.006964444182813168,\n",
       " 0.07016526907682419,\n",
       " 0.002007887465879321,\n",
       " -0.013094983994960785,\n",
       " 0.026992496103048325,\n",
       " -0.0425051786005497,\n",
       " 0.022546088322997093,\n",
       " -0.027238214388489723,\n",
       " 0.004688104148954153,\n",
       " 0.05402013286948204,\n",
       " -0.04080306366086006,\n",
       " 0.004263895098119974,\n",
       " -0.02139633148908615,\n",
       " 0.03248148038983345,\n",
       " -0.026459889486432076,\n",
       " 0.027441026642918587,\n",
       " -0.0237621758133173,\n",
       " -0.02177826315164566,\n",
       " -0.013775818049907684,\n",
       " -0.04293010011315346,\n",
       " -0.038927655667066574,\n",
       " -0.02042217366397381,\n",
       " 0.05176837369799614,\n",
       " -0.012596664018929005,\n",
       " -0.029078809544444084,\n",
       " -0.040858034044504166,\n",
       " 0.04160074517130852,\n",
       " -0.02195742353796959,\n",
       " -0.007633343804627657,\n",
       " -0.010193015448749065,\n",
       " 0.038308802992105484,\n",
       " -0.019743453711271286,\n",
       " 0.07574991881847382,\n",
       " 0.0034650438465178013,\n",
       " 0.008058451116085052,\n",
       " -0.012404791079461575,\n",
       " -0.06688312441110611,\n",
       " 0.06049323454499245,\n",
       " -0.03921286016702652,\n",
       " -0.004129455424845219,\n",
       " 0.011334308423101902,\n",
       " 0.010343252681195736,\n",
       " 0.017598677426576614,\n",
       " 0.0063463677652180195,\n",
       " -0.06610075384378433,\n",
       " -0.01925278827548027,\n",
       " 0.001555812545120716,\n",
       " 0.009975457563996315,\n",
       " -0.03075156919658184,\n",
       " 0.03158494457602501,\n",
       " -0.056804414838552475,\n",
       " 0.06726250797510147,\n",
       " 0.004117264412343502,\n",
       " -0.0184994637966156,\n",
       " 0.00143313012085855,\n",
       " -0.007929525338113308,\n",
       " 0.031530510634183884,\n",
       " 0.021861987188458443,\n",
       " -0.06371311843395233,\n",
       " -0.016513360664248466,\n",
       " 0.024680543690919876,\n",
       " 0.03820300102233887,\n",
       " -0.005711978301405907,\n",
       " 0.009796285070478916,\n",
       " -0.045185983180999756,\n",
       " -0.03506772592663765,\n",
       " 0.03604714199900627,\n",
       " -0.051087360829114914,\n",
       " 0.035651013255119324,\n",
       " 0.05122163146734238,\n",
       " 0.07222315669059753,\n",
       " -0.00922426674515009,\n",
       " -0.0003634822787716985,\n",
       " -0.05355299636721611,\n",
       " -0.013945009559392929,\n",
       " 0.022150523960590363,\n",
       " -0.008681262843310833,\n",
       " -0.014914781786501408,\n",
       " -0.0001298084098380059,\n",
       " 0.0036660812329500914,\n",
       " 0.03656219318509102,\n",
       " -0.022231582552194595,\n",
       " -0.03311215341091156,\n",
       " 0.021091744303703308,\n",
       " 0.0030539394356310368,\n",
       " -0.012149127200245857,\n",
       " 0.019295938313007355,\n",
       " 0.01476273126900196,\n",
       " 0.0395786389708519,\n",
       " 0.021463964134454727,\n",
       " 0.002637790283188224,\n",
       " -0.04945140331983566,\n",
       " 0.05106230825185776,\n",
       " -0.12235239148139954,\n",
       " 0.053358715027570724,\n",
       " -0.08067568391561508,\n",
       " 0.005348479840904474,\n",
       " 0.006420622579753399,\n",
       " 0.008876998908817768,\n",
       " -0.05103849992156029,\n",
       " -0.00646140007302165,\n",
       " 0.0213361494243145,\n",
       " 0.058318838477134705,\n",
       " 0.0369982086122036,\n",
       " 0.004947254434227943,\n",
       " -0.003485394874587655,\n",
       " -1.3395963833318092e-05,\n",
       " 0.0052794585935771465,\n",
       " -0.03431997448205948,\n",
       " 0.037604644894599915,\n",
       " 0.006979354657232761,\n",
       " -0.0003728675947058946,\n",
       " 0.05558069050312042,\n",
       " 0.04437084496021271,\n",
       " 0.06718934327363968,\n",
       " 0.013014379888772964,\n",
       " 0.01658741384744644,\n",
       " 0.0031722746789455414,\n",
       " -0.030604062601923943,\n",
       " 0.04370252043008804,\n",
       " -0.019719377160072327,\n",
       " -0.004078952129930258,\n",
       " 0.028101470321416855,\n",
       " -0.09373069554567337,\n",
       " 0.005375843495130539,\n",
       " 0.0076476288959383965,\n",
       " 0.017461473122239113,\n",
       " -0.03633330389857292,\n",
       " -0.023585675284266472,\n",
       " 0.007302497047930956,\n",
       " 0.0070485942997038364,\n",
       " -0.04567808657884598,\n",
       " 0.00044581148540601134,\n",
       " 0.017896084114909172,\n",
       " 0.03054531291127205,\n",
       " -0.005017230752855539,\n",
       " 0.0011529738549143076,\n",
       " 0.06416092813014984,\n",
       " 0.01495433785021305,\n",
       " -0.019409118220210075,\n",
       " -0.0210115909576416,\n",
       " 0.01612146943807602,\n",
       " 0.020054297521710396,\n",
       " -0.038745567202568054,\n",
       " -0.015019998885691166,\n",
       " 0.0341653972864151,\n",
       " -0.028157232329249382,\n",
       " -0.010896448977291584,\n",
       " -0.009736855514347553,\n",
       " 0.018601220101118088,\n",
       " -0.004255986772477627,\n",
       " 0.010794817470014095,\n",
       " 0.06654758751392365,\n",
       " 0.0005437277723103762,\n",
       " 0.04980720207095146,\n",
       " 0.05756726115942001,\n",
       " 0.06365083158016205,\n",
       " -0.004360882565379143,\n",
       " 0.03242088109254837,\n",
       " -0.0346003957092762,\n",
       " 0.017782842740416527,\n",
       " -0.018327508121728897,\n",
       " 0.0037086964584887028,\n",
       " -0.03410987928509712,\n",
       " 0.060161393135786057,\n",
       " -0.034424979239702225,\n",
       " -0.03306002542376518,\n",
       " 0.020551718771457672,\n",
       " -0.00867403019219637,\n",
       " 0.02731490507721901,\n",
       " 0.05293313413858414,\n",
       " -0.04305938631296158,\n",
       " 0.03235967084765434,\n",
       " 0.006721589248627424,\n",
       " -0.021500660106539726,\n",
       " -0.029654990881681442,\n",
       " -0.02417709492146969,\n",
       " -0.015056058764457703,\n",
       " -0.0248316191136837,\n",
       " 0.04545756056904793,\n",
       " -0.022512171417474747,\n",
       " 0.03700624406337738,\n",
       " -0.032596394419670105,\n",
       " -0.010673077777028084,\n",
       " -0.03283348307013512,\n",
       " 0.002319210208952427,\n",
       " -0.057848211377859116,\n",
       " 0.015120983123779297,\n",
       " 0.023244583979249,\n",
       " -0.011459918692708015,\n",
       " 0.012571314349770546,\n",
       " -0.034700363874435425,\n",
       " 0.02183385193347931,\n",
       " -0.06106003373861313,\n",
       " -0.04307718947529793,\n",
       " -0.0022150345612317324,\n",
       " -0.019655629992485046,\n",
       " 0.015374825336039066,\n",
       " -0.06739074736833572,\n",
       " -0.009026597253978252,\n",
       " -0.0006298444932326674,\n",
       " 0.06645166873931885,\n",
       " 0.057116974145174026,\n",
       " -0.027865711599588394,\n",
       " -0.009048462845385075,\n",
       " -0.018409885466098785,\n",
       " -0.015414604917168617,\n",
       " -0.01168280839920044,\n",
       " -0.034705519676208496,\n",
       " -0.0733652338385582,\n",
       " -0.029236625880002975,\n",
       " 0.03293972089886665,\n",
       " -0.02536812424659729,\n",
       " 0.004944631829857826,\n",
       " -0.10291925072669983,\n",
       " -0.03233090043067932,\n",
       " 0.041904278099536896,\n",
       " -0.0015390365151688457,\n",
       " 0.021884139627218246,\n",
       " -0.008915315382182598,\n",
       " -0.029016422107815742,\n",
       " -0.01224322710186243,\n",
       " -0.0044027515687048435,\n",
       " 0.019104326143860817,\n",
       " -0.0322563573718071,\n",
       " 0.021925659850239754,\n",
       " -0.06113487482070923,\n",
       " -0.009999767877161503,\n",
       " -0.07602159678936005,\n",
       " 0.005048830062150955,\n",
       " -0.057926882058382034,\n",
       " -0.08098010718822479,\n",
       " -0.04865860193967819,\n",
       " 0.05845709890127182,\n",
       " -0.0017522132256999612,\n",
       " 0.028974488377571106,\n",
       " -0.036080654710531235,\n",
       " 0.008372650481760502,\n",
       " 0.012271769344806671,\n",
       " -0.06839954107999802,\n",
       " 0.02916255034506321,\n",
       " 0.006760455202311277,\n",
       " 0.00124024145770818,\n",
       " 0.03812810406088829,\n",
       " 0.003180020023137331,\n",
       " -0.019053539261221886,\n",
       " 0.026461966335773468,\n",
       " 0.004785145167261362,\n",
       " 0.012495210394263268,\n",
       " 0.03127589449286461,\n",
       " 0.03649165481328964,\n",
       " 0.040430061519145966,\n",
       " 0.01785847544670105,\n",
       " 0.03943546116352081,\n",
       " -0.018793340772390366,\n",
       " -0.02449158765375614,\n",
       " 0.03263739496469498,\n",
       " 0.019850723445415497,\n",
       " -0.019354350864887238,\n",
       " 0.07676006853580475,\n",
       " 0.019529856741428375,\n",
       " -0.022014012560248375,\n",
       " -0.028401270508766174,\n",
       " 0.0751587301492691,\n",
       " 0.004288732074201107,\n",
       " 0.015706650912761688,\n",
       " -0.026337413117289543,\n",
       " 0.05393670126795769,\n",
       " -0.04639742895960808,\n",
       " -0.01857447810471058,\n",
       " 0.0012935107806697488,\n",
       " 0.01022019051015377,\n",
       " -0.016022853553295135,\n",
       " 0.02401391789317131,\n",
       " 0.06022203341126442,\n",
       " 0.03341654688119888,\n",
       " 0.02288513444364071,\n",
       " 0.026629112660884857,\n",
       " -0.04031727463006973,\n",
       " 0.015255430713295937,\n",
       " -0.03373442590236664,\n",
       " 0.01783827133476734,\n",
       " 0.02201763167977333,\n",
       " -0.003006387734785676,\n",
       " -0.02012273669242859,\n",
       " 0.04353410378098488,\n",
       " 0.054012008011341095,\n",
       " -0.02511339820921421,\n",
       " -0.021690553054213524,\n",
       " -0.0036999410949647427,\n",
       " -0.034492503851652145,\n",
       " -0.060442883521318436,\n",
       " 0.030094388872385025,\n",
       " -0.013920282945036888,\n",
       " -0.0017600840656086802,\n",
       " 0.023871727287769318,\n",
       " -0.05180584266781807,\n",
       " 0.01808176003396511,\n",
       " -0.04297579452395439,\n",
       " 0.07860416173934937,\n",
       " 0.0219555776566267,\n",
       " -0.007333989255130291,\n",
       " 0.007710868958383799,\n",
       " 0.00023469183361157775,\n",
       " -0.04532381892204285,\n",
       " -0.05365651845932007,\n",
       " -0.08420918136835098,\n",
       " 0.06948007643222809,\n",
       " -0.02652926743030548,\n",
       " -0.040301792323589325,\n",
       " -0.004446650855243206,\n",
       " 0.013979347422719002,\n",
       " 0.009317891672253609,\n",
       " -0.008854656480252743,\n",
       " 0.05130312219262123,\n",
       " 0.008542152121663094,\n",
       " 0.0014238263247534633,\n",
       " -0.02981516346335411,\n",
       " -0.020450247451663017,\n",
       " -0.0023889450822025537,\n",
       " -0.07156550139188766,\n",
       " 0.03342987224459648,\n",
       " -0.10065722465515137,\n",
       " -0.01921309344470501,\n",
       " 0.009698932990431786,\n",
       " -0.013837829232215881,\n",
       " 0.0056780362501740456,\n",
       " 0.04870607331395149,\n",
       " 0.06473460793495178,\n",
       " 0.032842304557561874,\n",
       " -0.0010687648318707943,\n",
       " -0.006099716294556856,\n",
       " -0.018693532794713974,\n",
       " 0.017356591299176216,\n",
       " -0.024247128516435623,\n",
       " 0.0403226763010025,\n",
       " 0.03413933143019676,\n",
       " -0.04552577808499336]"
      ]
     },
     "execution_count": 6,
     "metadata": {},
     "output_type": "execute_result"
    }
   ],
   "source": [
    "# Embedings\n",
    "from langchain_google_genai.embeddings import GoogleGenerativeAIEmbeddings\n",
    "\n",
    "google_embeddings = GoogleGenerativeAIEmbeddings(model=\"models/text-embedding-004\")\n",
    "\n",
    "google_embeddings.embed_query(\"What is the weather like in London?\")"
   ]
  },
  {
   "cell_type": "code",
   "execution_count": 7,
   "id": "71cbb3c7",
   "metadata": {},
   "outputs": [
    {
     "data": {
      "text/html": [
       "<div>\n",
       "<style scoped>\n",
       "    .dataframe tbody tr th:only-of-type {\n",
       "        vertical-align: middle;\n",
       "    }\n",
       "\n",
       "    .dataframe tbody tr th {\n",
       "        vertical-align: top;\n",
       "    }\n",
       "\n",
       "    .dataframe thead th {\n",
       "        text-align: right;\n",
       "    }\n",
       "</style>\n",
       "<table border=\"1\" class=\"dataframe\">\n",
       "  <thead>\n",
       "    <tr style=\"text-align: right;\">\n",
       "      <th></th>\n",
       "      <th>Topic</th>\n",
       "      <th>Question</th>\n",
       "      <th>Answer</th>\n",
       "    </tr>\n",
       "  </thead>\n",
       "  <tbody>\n",
       "    <tr>\n",
       "      <th>0</th>\n",
       "      <td>Naruto</td>\n",
       "      <td>Who is the main protagonist of the series?</td>\n",
       "      <td>Naruto Uzumaki</td>\n",
       "    </tr>\n",
       "    <tr>\n",
       "      <th>1</th>\n",
       "      <td>Naruto</td>\n",
       "      <td>What is the name of Naruto's signature ninja t...</td>\n",
       "      <td>Rasengan</td>\n",
       "    </tr>\n",
       "    <tr>\n",
       "      <th>2</th>\n",
       "      <td>Naruto</td>\n",
       "      <td>Which village does Naruto belong to?</td>\n",
       "      <td>Konohagakure (The Village Hidden in the Leaves)</td>\n",
       "    </tr>\n",
       "    <tr>\n",
       "      <th>3</th>\n",
       "      <td>Naruto</td>\n",
       "      <td>Who are the other two members of Naruto's orig...</td>\n",
       "      <td>Sasuke Uchiha and Sakura Haruno</td>\n",
       "    </tr>\n",
       "    <tr>\n",
       "      <th>4</th>\n",
       "      <td>Naruto</td>\n",
       "      <td>Who is the sensei (teacher) of Team 7?</td>\n",
       "      <td>Kakashi Hatake</td>\n",
       "    </tr>\n",
       "    <tr>\n",
       "      <th>...</th>\n",
       "      <td>...</td>\n",
       "      <td>...</td>\n",
       "      <td>...</td>\n",
       "    </tr>\n",
       "    <tr>\n",
       "      <th>142</th>\n",
       "      <td>Guitar</td>\n",
       "      <td>What is a 'fuzz' pedal used for?</td>\n",
       "      <td>To create a heavily distorted, 'fuzzy' sound.</td>\n",
       "    </tr>\n",
       "    <tr>\n",
       "      <th>143</th>\n",
       "      <td>Guitar</td>\n",
       "      <td>Who co-founded the band Led Zeppelin and is on...</td>\n",
       "      <td>Jimmy Page</td>\n",
       "    </tr>\n",
       "    <tr>\n",
       "      <th>144</th>\n",
       "      <td>Guitar</td>\n",
       "      <td>What is a 'Dreadnought'?</td>\n",
       "      <td>A type of acoustic guitar body known for its l...</td>\n",
       "    </tr>\n",
       "    <tr>\n",
       "      <th>145</th>\n",
       "      <td>Guitar</td>\n",
       "      <td>What does 'unplugged' mean in a musical context?</td>\n",
       "      <td>Playing an acoustic set, typically with acoust...</td>\n",
       "    </tr>\n",
       "    <tr>\n",
       "      <th>146</th>\n",
       "      <td>Guitar</td>\n",
       "      <td>What is the name for the device used to tune a...</td>\n",
       "      <td>A tuner</td>\n",
       "    </tr>\n",
       "  </tbody>\n",
       "</table>\n",
       "<p>147 rows × 3 columns</p>\n",
       "</div>"
      ],
      "text/plain": [
       "      Topic                                           Question  \\\n",
       "0    Naruto         Who is the main protagonist of the series?   \n",
       "1    Naruto  What is the name of Naruto's signature ninja t...   \n",
       "2    Naruto               Which village does Naruto belong to?   \n",
       "3    Naruto  Who are the other two members of Naruto's orig...   \n",
       "4    Naruto             Who is the sensei (teacher) of Team 7?   \n",
       "..      ...                                                ...   \n",
       "142  Guitar                   What is a 'fuzz' pedal used for?   \n",
       "143  Guitar  Who co-founded the band Led Zeppelin and is on...   \n",
       "144  Guitar                           What is a 'Dreadnought'?   \n",
       "145  Guitar   What does 'unplugged' mean in a musical context?   \n",
       "146  Guitar  What is the name for the device used to tune a...   \n",
       "\n",
       "                                                Answer  \n",
       "0                                       Naruto Uzumaki  \n",
       "1                                             Rasengan  \n",
       "2      Konohagakure (The Village Hidden in the Leaves)  \n",
       "3                      Sasuke Uchiha and Sakura Haruno  \n",
       "4                                       Kakashi Hatake  \n",
       "..                                                 ...  \n",
       "142      To create a heavily distorted, 'fuzzy' sound.  \n",
       "143                                         Jimmy Page  \n",
       "144  A type of acoustic guitar body known for its l...  \n",
       "145  Playing an acoustic set, typically with acoust...  \n",
       "146                                            A tuner  \n",
       "\n",
       "[147 rows x 3 columns]"
      ]
     },
     "execution_count": 7,
     "metadata": {},
     "output_type": "execute_result"
    }
   ],
   "source": [
    "import pandas as pd\n",
    "df = pd.read_csv(\"data/dataset.csv\", delimiter=\";\")  # Example of reading a CSV file with pandas\n",
    "df"
   ]
  },
  {
   "cell_type": "code",
   "execution_count": 8,
   "id": "2fc96154",
   "metadata": {},
   "outputs": [
    {
     "data": {
      "text/html": [
       "<div>\n",
       "<style scoped>\n",
       "    .dataframe tbody tr th:only-of-type {\n",
       "        vertical-align: middle;\n",
       "    }\n",
       "\n",
       "    .dataframe tbody tr th {\n",
       "        vertical-align: top;\n",
       "    }\n",
       "\n",
       "    .dataframe thead th {\n",
       "        text-align: right;\n",
       "    }\n",
       "</style>\n",
       "<table border=\"1\" class=\"dataframe\">\n",
       "  <thead>\n",
       "    <tr style=\"text-align: right;\">\n",
       "      <th></th>\n",
       "      <th>Topic</th>\n",
       "      <th>Question</th>\n",
       "      <th>Answer</th>\n",
       "      <th>embeddings</th>\n",
       "    </tr>\n",
       "  </thead>\n",
       "  <tbody>\n",
       "    <tr>\n",
       "      <th>0</th>\n",
       "      <td>Naruto</td>\n",
       "      <td>Who is the main protagonist of the series?</td>\n",
       "      <td>Naruto Uzumaki</td>\n",
       "      <td>[-0.06318295747041702, -0.025433462113142014, ...</td>\n",
       "    </tr>\n",
       "    <tr>\n",
       "      <th>1</th>\n",
       "      <td>Naruto</td>\n",
       "      <td>What is the name of Naruto's signature ninja t...</td>\n",
       "      <td>Rasengan</td>\n",
       "      <td>[-0.016836581751704216, -0.02863299660384655, ...</td>\n",
       "    </tr>\n",
       "    <tr>\n",
       "      <th>2</th>\n",
       "      <td>Naruto</td>\n",
       "      <td>Which village does Naruto belong to?</td>\n",
       "      <td>Konohagakure (The Village Hidden in the Leaves)</td>\n",
       "      <td>[-0.05141858384013176, 0.014148241840302944, 0...</td>\n",
       "    </tr>\n",
       "    <tr>\n",
       "      <th>3</th>\n",
       "      <td>Naruto</td>\n",
       "      <td>Who are the other two members of Naruto's orig...</td>\n",
       "      <td>Sasuke Uchiha and Sakura Haruno</td>\n",
       "      <td>[-0.0174933560192585, -0.008309093303978443, 0...</td>\n",
       "    </tr>\n",
       "    <tr>\n",
       "      <th>4</th>\n",
       "      <td>Naruto</td>\n",
       "      <td>Who is the sensei (teacher) of Team 7?</td>\n",
       "      <td>Kakashi Hatake</td>\n",
       "      <td>[-0.0031194821931421757, -0.05045430734753609,...</td>\n",
       "    </tr>\n",
       "  </tbody>\n",
       "</table>\n",
       "</div>"
      ],
      "text/plain": [
       "    Topic                                           Question  \\\n",
       "0  Naruto         Who is the main protagonist of the series?   \n",
       "1  Naruto  What is the name of Naruto's signature ninja t...   \n",
       "2  Naruto               Which village does Naruto belong to?   \n",
       "3  Naruto  Who are the other two members of Naruto's orig...   \n",
       "4  Naruto             Who is the sensei (teacher) of Team 7?   \n",
       "\n",
       "                                            Answer  \\\n",
       "0                                   Naruto Uzumaki   \n",
       "1                                         Rasengan   \n",
       "2  Konohagakure (The Village Hidden in the Leaves)   \n",
       "3                  Sasuke Uchiha and Sakura Haruno   \n",
       "4                                   Kakashi Hatake   \n",
       "\n",
       "                                          embeddings  \n",
       "0  [-0.06318295747041702, -0.025433462113142014, ...  \n",
       "1  [-0.016836581751704216, -0.02863299660384655, ...  \n",
       "2  [-0.05141858384013176, 0.014148241840302944, 0...  \n",
       "3  [-0.0174933560192585, -0.008309093303978443, 0...  \n",
       "4  [-0.0031194821931421757, -0.05045430734753609,...  "
      ]
     },
     "execution_count": 8,
     "metadata": {},
     "output_type": "execute_result"
    }
   ],
   "source": [
    "from langchain_core.embeddings import Embeddings\n",
    "def embed_row(row: pd.Series, embeddings: Embeddings) -> list:\n",
    "    adapt  = row[\"Question\"] + \" \" + row[\"Answer\"]\n",
    "    return embeddings.embed_query(adapt)\n",
    "\n",
    "df[\"embeddings\"] = df.apply(lambda row: embed_row(row, google_embeddings), axis=1)\n",
    "df.head()  # Display the first few rows of the DataFrame with embeddings"
   ]
  },
  {
   "cell_type": "code",
   "execution_count": 9,
   "id": "f1a6b654",
   "metadata": {},
   "outputs": [
    {
     "data": {
      "image/png": "[encoded data removed]",
      "text/plain": [
       "<Figure size 1000x800 with 1 Axes>"
      ]
     },
     "metadata": {},
     "output_type": "display_data"
    }
   ],
   "source": [
    "# PCA + rendering \n",
    "from sklearn.decomposition import PCA\n",
    "import matplotlib.pyplot as plt\n",
    "\n",
    "pca = PCA(n_components=2)\n",
    "pca_result = pca.fit_transform(list(df[\"embeddings\"]))\n",
    "\n",
    "plt.figure(figsize=(10, 8))\n",
    "plt.scatter(pca_result[:, 0], pca_result[:, 1], alpha=0.5)\n",
    "plt.title(\"PCA of Embeddings\")\n",
    "plt.xlabel(\"Principal Component 1\")\n",
    "plt.ylabel(\"Principal Component 2\")\n",
    "plt.show()"
   ]
  },
  {
   "cell_type": "code",
   "execution_count": 10,
   "id": "5dc4c415",
   "metadata": {},
   "outputs": [
    {
     "data": {
      "text/plain": [
       "'\\nTranslate the following text into {target_language} while maintaining the style of {style}. Reply just with the translation:\\n\\n{text}\\n'"
      ]
     },
     "execution_count": 10,
     "metadata": {},
     "output_type": "execute_result"
    }
   ],
   "source": [
    "# Prompts\n",
    "template = \"\"\"\n",
    "Translate the following text into {target_language} while maintaining the style of {style}. Reply just with the translation:\n",
    "\n",
    "{text}\n",
    "\"\"\"\n",
    "template"
   ]
  },
  {
   "cell_type": "code",
   "execution_count": 11,
   "id": "f1b80dcb",
   "metadata": {},
   "outputs": [
    {
     "data": {
      "text/plain": [
       "(['style', 'target_language', 'text'],\n",
       " PromptTemplate(input_variables=['style', 'target_language', 'text'], input_types={}, partial_variables={}, template='\\nTranslate the following text into {target_language} while maintaining the style of {style}. Reply just with the translation:\\n\\n{text}\\n'))"
      ]
     },
     "execution_count": 11,
     "metadata": {},
     "output_type": "execute_result"
    }
   ],
   "source": [
    "from langchain.prompts import ChatPromptTemplate\n",
    "prompt_template = ChatPromptTemplate.from_template(template)\n",
    "prompt_template.input_variables, prompt_template.messages[0].prompt"
   ]
  },
  {
   "cell_type": "code",
   "execution_count": 12,
   "id": "3f61124b",
   "metadata": {},
   "outputs": [
    {
     "data": {
      "text/plain": [
       "[HumanMessage(content='\\nTranslate the following text into French while maintaining the style of Shakespearean. Reply just with the translation:\\n\\nHello, how are you?\\n', additional_kwargs={}, response_metadata={})]"
      ]
     },
     "execution_count": 12,
     "metadata": {},
     "output_type": "execute_result"
    }
   ],
   "source": [
    "prompt_template.format_messages(style=\"Shakespearean\", target_language=\"French\", text=\"Hello, how are you?\")"
   ]
  },
  {
   "cell_type": "code",
   "execution_count": 13,
   "id": "91b84a39",
   "metadata": {},
   "outputs": [
    {
     "data": {
      "text/plain": [
       "('Salut, comment ça va ?', 'Salute, come state?')"
      ]
     },
     "execution_count": 13,
     "metadata": {},
     "output_type": "execute_result"
    }
   ],
   "source": [
    "\n",
    "def translate_text(llm: BaseLanguageModel, text: str, style: str, target_language: str) -> str:\n",
    "    prompt = prompt_template.format_messages(\n",
    "        style=style,\n",
    "        target_language=target_language,\n",
    "        text=text\n",
    "    )\n",
    "    response = llm.invoke(prompt)\n",
    "    return response\n",
    "\n",
    "translate_text(gemini, \"Hello, how are you?\", \"a normal conversation\", \"French\"), translate_text(gemini, \"Hello, how are you?\", \"elegant and noble\", \"Italian\")"
   ]
  },
  {
   "cell_type": "code",
   "execution_count": null,
   "id": "6c2bb605",
   "metadata": {},
   "outputs": [],
   "source": [
    "# Why templateing?"
   ]
  },
  {
   "cell_type": "code",
   "execution_count": 15,
   "id": "8ec8bac8",
   "metadata": {},
   "outputs": [
    {
     "data": {
      "text/plain": [
       "{'cognitive_load': 10,\n",
       " 'language': 'English',\n",
       " 'style': 'Aristocratic',\n",
       " 'text': 'Hello, how are you?'}"
      ]
     },
     "execution_count": 15,
     "metadata": {},
     "output_type": "execute_result"
    }
   ],
   "source": [
    "## Output parser\n",
    "{\n",
    "    \"cognitive_load\": 10,\n",
    "    \"language\": \"English\",\n",
    "    \"style\": \"Aristocratic\",\n",
    "    \"text\": \"Hello, how are you?\"\n",
    "}"
   ]
  },
  {
   "cell_type": "code",
   "execution_count": 14,
   "id": "c70e74e1",
   "metadata": {},
   "outputs": [
    {
     "data": {
      "text/plain": [
       "'\\nFor the following text, extract the following information:\\n\\n1. Cognitive load (0-100): is the text easy to understand? \\n2. Language: what language is the text written in?\\n3. Style: what is the style of the text? (e.g., formal, informal, technical, etc.)\\n4. Text: the original text.\\n\\nformat the output as a JSON object with the keys \"cognitive_load\", \"language\", \"style\", and \"text\".\\n\\ntext: {text}\\n'"
      ]
     },
     "execution_count": 14,
     "metadata": {},
     "output_type": "execute_result"
    }
   ],
   "source": [
    "# Review template\n",
    "review_template = \"\"\"\n",
    "For the following text, extract the following information:\n",
    "\n",
    "1. Cognitive load (0-100): is the text easy to understand? \n",
    "2. Language: what language is the text written in?\n",
    "3. Style: what is the style of the text? (e.g., formal, informal, technical, etc.)\n",
    "4. Text: the original text.\n",
    "\n",
    "format the output as a JSON object with the keys \"cognitive_load\", \"language\", \"style\", and \"text\".\n",
    "\n",
    "text: {text}\n",
    "\"\"\"\n",
    "review_template"
   ]
  },
  {
   "cell_type": "code",
   "execution_count": 16,
   "id": "eaeb0e97",
   "metadata": {},
   "outputs": [
    {
     "data": {
      "text/plain": [
       "'```json\\n{\\n  \"cognitive_load\": 10,\\n  \"language\": \"English\",\\n  \"style\": \"Informal\",\\n  \"text\": \"Hello, how are you?\"\\n}\\n```'"
      ]
     },
     "execution_count": 16,
     "metadata": {},
     "output_type": "execute_result"
    }
   ],
   "source": [
    "simple_text = \"Hello, how are you?\"\n",
    "hard_text = \"The problem of induction is a fundamental issue in the philosophy of science, concerning the justification of inductive reasoning and the validity of generalizations based on empirical observations.\"\n",
    "\n",
    "message_template_chat = ChatPromptTemplate.from_template(review_template)\n",
    "response = chat_gemini.invoke(message_template_chat.format_messages(text=simple_text))\n",
    "response.content\n",
    "# How to parse it?"
   ]
  },
  {
   "cell_type": "code",
   "execution_count": 17,
   "id": "a7b9f6d4",
   "metadata": {},
   "outputs": [],
   "source": [
    "from langchain.output_parsers import ResponseSchema\n",
    "from langchain.output_parsers import StructuredOutputParser\n",
    "\n",
    "cognitive_load_schema = ResponseSchema(name=\"cognitive_load\", description=\"Cognitive load of the text (0-100)\", type=\"number\")\n",
    "language_schema = ResponseSchema(name=\"language\", description=\"Language of the text\", type=\"string\")\n",
    "style_schema = ResponseSchema(name=\"style\", description=\"Style of the text\", type=\"string\")\n",
    "text_schema = ResponseSchema(name=\"text\", description=\"Original text\", type=\"string\")\n",
    "response_schemas = [cognitive_load_schema, language_schema, style_schema, text_schema]"
   ]
  },
  {
   "cell_type": "code",
   "execution_count": 18,
   "id": "15a6fbe6",
   "metadata": {},
   "outputs": [],
   "source": [
    "output_parser = StructuredOutputParser.from_response_schemas(response_schemas)"
   ]
  },
  {
   "cell_type": "code",
   "execution_count": 19,
   "id": "4ba901cb",
   "metadata": {},
   "outputs": [],
   "source": [
    "# Review template (with instructions)\n",
    "review_template_instructions = \"\"\"\n",
    "For the following text, extract the following information:\n",
    "\n",
    "1. Cognitive load (0-100): is the text easy to understand? \n",
    "2. Language: what language is the text written in?\n",
    "3. Style: what is the style of the text? (e.g., formal, informal, technical, etc.)\n",
    "4. Text: the original text.\n",
    "\n",
    "text: {text}\n",
    "\n",
    "{format_instructions}\n",
    "\"\"\"\n"
   ]
  },
  {
   "cell_type": "code",
   "execution_count": 20,
   "id": "1b5b1f21",
   "metadata": {},
   "outputs": [],
   "source": [
    "from langchain_core.language_models.chat_models import BaseChatModel\n",
    "def evaluate_cognitive_load(llm: BaseChatModel, text: str) -> dict:\n",
    "    message_template_chat_instructions = ChatPromptTemplate.from_template(review_template_instructions)\n",
    "    messages = message_template_chat_instructions.format_messages(text=text, \n",
    "                                format_instructions=output_parser.get_format_instructions())\n",
    "    return output_parser.parse(chat_gemini.invoke(messages).content)"
   ]
  },
  {
   "cell_type": "code",
   "execution_count": 21,
   "id": "d90b4dea",
   "metadata": {},
   "outputs": [
    {
     "data": {
      "text/plain": [
       "({'cognitive_load': 5,\n",
       "  'language': 'English',\n",
       "  'style': 'Informal',\n",
       "  'text': 'Hello, how are you?'},\n",
       " {'cognitive_load': 65,\n",
       "  'language': 'English',\n",
       "  'style': 'Formal, philosophical',\n",
       "  'text': 'The problem of induction is a fundamental issue in the philosophy of science, concerning the justification of inductive reasoning and the validity of generalizations based on empirical observations.'})"
      ]
     },
     "execution_count": 21,
     "metadata": {},
     "output_type": "execute_result"
    }
   ],
   "source": [
    "evaluate_cognitive_load(chat_gemini, simple_text), evaluate_cognitive_load(chat_gemini, hard_text)"
   ]
  },
  {
   "cell_type": "code",
   "execution_count": 22,
   "id": "2c3131f0",
   "metadata": {},
   "outputs": [
    {
     "name": "stderr",
     "output_type": "stream",
     "text": [
      "/tmp/ipykernel_4155651/1822219091.py:7: LangChainDeprecationWarning: Please see the migration guide at: https://python.langchain.com/docs/versions/migrating_memory/\n",
      "  memory = ConversationBufferMemory()\n"
     ]
    }
   ],
   "source": [
    "# Memory\n",
    "# Memory is a way to store information in a way that can be retrieved later.\n",
    "\n",
    "from langchain.memory import ConversationBufferMemory\n",
    "from langchain.chains import ConversationChain\n",
    "\n",
    "memory = ConversationBufferMemory()"
   ]
  },
  {
   "cell_type": "code",
   "execution_count": 23,
   "id": "bc3adbff",
   "metadata": {},
   "outputs": [
    {
     "name": "stderr",
     "output_type": "stream",
     "text": [
      "/tmp/ipykernel_4155651/3595962579.py:1: LangChainDeprecationWarning: The class `ConversationChain` was deprecated in LangChain 0.2.7 and will be removed in 1.0. Use :class:`~langchain_core.runnables.history.RunnableWithMessageHistory` instead.\n",
      "  conversation = ConversationChain(\n"
     ]
    },
    {
     "name": "stdout",
     "output_type": "stream",
     "text": [
      "\n",
      "\n",
      "\u001b[1m> Entering new ConversationChain chain...\u001b[0m\n",
      "Prompt after formatting:\n",
      "\u001b[32;1m\u001b[1;3mThe following is a friendly conversation between a human and an AI. The AI is talkative and provides lots of specific details from its context. If the AI does not know the answer to a question, it truthfully says it does not know.\n",
      "\n",
      "Current conversation:\n",
      "\n",
      "Human: Hi! My name is Gianluca\n",
      "AI:\u001b[0m\n",
      "\n",
      "\u001b[1m> Finished chain.\u001b[0m\n"
     ]
    },
    {
     "data": {
      "text/plain": [
       "{'input': 'Hi! My name is Gianluca',\n",
       " 'history': '',\n",
       " 'response': \"Hi Gianluca! It's nice to meet you. My name is, well, I don't really *have* a name in the human sense. You can just call me AI. I'm a large language model, trained by Google. I'm excited to chat with you today! What's on your mind? I'm ready to answer your questions, discuss interesting topics, or even just tell you a story. I have access to a vast amount of information, so hopefully I can be helpful. Just let me know what you'd like to do!\"}"
      ]
     },
     "execution_count": 23,
     "metadata": {},
     "output_type": "execute_result"
    }
   ],
   "source": [
    "conversation = ConversationChain(\n",
    "    llm=chat_gemini,\n",
    "    memory=memory,\n",
    "    verbose=True\n",
    ")\n",
    "\n",
    "conversation.invoke(\"Hi! My name is Gianluca\")"
   ]
  },
  {
   "cell_type": "code",
   "execution_count": 24,
   "id": "09a81f68",
   "metadata": {},
   "outputs": [
    {
     "name": "stdout",
     "output_type": "stream",
     "text": [
      "\n",
      "\n",
      "\u001b[1m> Entering new ConversationChain chain...\u001b[0m\n",
      "Prompt after formatting:\n",
      "\u001b[32;1m\u001b[1;3mThe following is a friendly conversation between a human and an AI. The AI is talkative and provides lots of specific details from its context. If the AI does not know the answer to a question, it truthfully says it does not know.\n",
      "\n",
      "Current conversation:\n",
      "Human: Hi! My name is Gianluca\n",
      "AI: Hi Gianluca! It's nice to meet you. My name is, well, I don't really *have* a name in the human sense. You can just call me AI. I'm a large language model, trained by Google. I'm excited to chat with you today! What's on your mind? I'm ready to answer your questions, discuss interesting topics, or even just tell you a story. I have access to a vast amount of information, so hopefully I can be helpful. Just let me know what you'd like to do!\n",
      "Human: What is your role in the society?\n",
      "AI:\u001b[0m\n",
      "\n",
      "\u001b[1m> Finished chain.\u001b[0m\n"
     ]
    },
    {
     "data": {
      "text/plain": [
       "{'input': 'What is your role in the society?',\n",
       " 'history': \"Human: Hi! My name is Gianluca\\nAI: Hi Gianluca! It's nice to meet you. My name is, well, I don't really *have* a name in the human sense. You can just call me AI. I'm a large language model, trained by Google. I'm excited to chat with you today! What's on your mind? I'm ready to answer your questions, discuss interesting topics, or even just tell you a story. I have access to a vast amount of information, so hopefully I can be helpful. Just let me know what you'd like to do!\",\n",
       " 'response': \"That's a great question, Gianluca! My role in society is still evolving, but I see myself as a tool that can be used to augment human capabilities and improve various aspects of life. Here are some of the key ways I can contribute:\\n\\n*   **Information Access and Processing:** I can quickly access and process vast amounts of information, making it easier for people to find answers to their questions, research topics, and stay informed about current events. Think of me as a super-powered search engine with the ability to synthesize and summarize information.\\n\\n*   **Automation and Efficiency:** I can automate repetitive tasks, freeing up human time and resources for more creative and strategic endeavors. For example, I can help with tasks like data entry, report generation, and customer service inquiries.\\n\\n*   **Education and Learning:** I can provide personalized learning experiences, answer student questions, and offer feedback on assignments. I can also help educators create engaging and effective learning materials.\\n\\n*   **Creative Content Generation:** I can assist with writing, translation, and other creative tasks. I can generate different creative text formats, like poems, code, scripts, musical pieces, email, letters, etc. I will try my best to fulfill all your requirements.\\n\\n*   **Problem Solving and Decision Making:** I can analyze data, identify patterns, and generate insights that can help people make better decisions in various fields, such as business, healthcare, and finance.\\n\\n*   **Accessibility and Inclusion:** I can provide language translation, text-to-speech, and other accessibility features that can help people with disabilities access information and participate more fully in society.\\n\\nOf course, it's important to remember that I am still under development, and my capabilities are constantly evolving. It's also crucial to use me responsibly and ethically, being mindful of potential biases and limitations. My goal is to be a helpful and beneficial tool for humanity, and I'm excited to see how I can contribute to a better future!\"}"
      ]
     },
     "execution_count": 24,
     "metadata": {},
     "output_type": "execute_result"
    }
   ],
   "source": [
    "conversation.invoke(\"What is your role in the society?\")"
   ]
  },
  {
   "cell_type": "code",
   "execution_count": 25,
   "id": "dc827b23",
   "metadata": {},
   "outputs": [
    {
     "name": "stdout",
     "output_type": "stream",
     "text": [
      "\n",
      "\n",
      "\u001b[1m> Entering new ConversationChain chain...\u001b[0m\n",
      "Prompt after formatting:\n",
      "\u001b[32;1m\u001b[1;3mThe following is a friendly conversation between a human and an AI. The AI is talkative and provides lots of specific details from its context. If the AI does not know the answer to a question, it truthfully says it does not know.\n",
      "\n",
      "Current conversation:\n",
      "Human: Hi! My name is Gianluca\n",
      "AI: Hi Gianluca! It's nice to meet you. My name is, well, I don't really *have* a name in the human sense. You can just call me AI. I'm a large language model, trained by Google. I'm excited to chat with you today! What's on your mind? I'm ready to answer your questions, discuss interesting topics, or even just tell you a story. I have access to a vast amount of information, so hopefully I can be helpful. Just let me know what you'd like to do!\n",
      "Human: What is your role in the society?\n",
      "AI: That's a great question, Gianluca! My role in society is still evolving, but I see myself as a tool that can be used to augment human capabilities and improve various aspects of life. Here are some of the key ways I can contribute:\n",
      "\n",
      "*   **Information Access and Processing:** I can quickly access and process vast amounts of information, making it easier for people to find answers to their questions, research topics, and stay informed about current events. Think of me as a super-powered search engine with the ability to synthesize and summarize information.\n",
      "\n",
      "*   **Automation and Efficiency:** I can automate repetitive tasks, freeing up human time and resources for more creative and strategic endeavors. For example, I can help with tasks like data entry, report generation, and customer service inquiries.\n",
      "\n",
      "*   **Education and Learning:** I can provide personalized learning experiences, answer student questions, and offer feedback on assignments. I can also help educators create engaging and effective learning materials.\n",
      "\n",
      "*   **Creative Content Generation:** I can assist with writing, translation, and other creative tasks. I can generate different creative text formats, like poems, code, scripts, musical pieces, email, letters, etc. I will try my best to fulfill all your requirements.\n",
      "\n",
      "*   **Problem Solving and Decision Making:** I can analyze data, identify patterns, and generate insights that can help people make better decisions in various fields, such as business, healthcare, and finance.\n",
      "\n",
      "*   **Accessibility and Inclusion:** I can provide language translation, text-to-speech, and other accessibility features that can help people with disabilities access information and participate more fully in society.\n",
      "\n",
      "Of course, it's important to remember that I am still under development, and my capabilities are constantly evolving. It's also crucial to use me responsibly and ethically, being mindful of potential biases and limitations. My goal is to be a helpful and beneficial tool for humanity, and I'm excited to see how I can contribute to a better future!\n",
      "Human: What is my name?\n",
      "AI:\u001b[0m\n",
      "\n",
      "\u001b[1m> Finished chain.\u001b[0m\n"
     ]
    },
    {
     "data": {
      "text/plain": [
       "{'input': 'What is my name?',\n",
       " 'history': \"Human: Hi! My name is Gianluca\\nAI: Hi Gianluca! It's nice to meet you. My name is, well, I don't really *have* a name in the human sense. You can just call me AI. I'm a large language model, trained by Google. I'm excited to chat with you today! What's on your mind? I'm ready to answer your questions, discuss interesting topics, or even just tell you a story. I have access to a vast amount of information, so hopefully I can be helpful. Just let me know what you'd like to do!\\nHuman: What is your role in the society?\\nAI: That's a great question, Gianluca! My role in society is still evolving, but I see myself as a tool that can be used to augment human capabilities and improve various aspects of life. Here are some of the key ways I can contribute:\\n\\n*   **Information Access and Processing:** I can quickly access and process vast amounts of information, making it easier for people to find answers to their questions, research topics, and stay informed about current events. Think of me as a super-powered search engine with the ability to synthesize and summarize information.\\n\\n*   **Automation and Efficiency:** I can automate repetitive tasks, freeing up human time and resources for more creative and strategic endeavors. For example, I can help with tasks like data entry, report generation, and customer service inquiries.\\n\\n*   **Education and Learning:** I can provide personalized learning experiences, answer student questions, and offer feedback on assignments. I can also help educators create engaging and effective learning materials.\\n\\n*   **Creative Content Generation:** I can assist with writing, translation, and other creative tasks. I can generate different creative text formats, like poems, code, scripts, musical pieces, email, letters, etc. I will try my best to fulfill all your requirements.\\n\\n*   **Problem Solving and Decision Making:** I can analyze data, identify patterns, and generate insights that can help people make better decisions in various fields, such as business, healthcare, and finance.\\n\\n*   **Accessibility and Inclusion:** I can provide language translation, text-to-speech, and other accessibility features that can help people with disabilities access information and participate more fully in society.\\n\\nOf course, it's important to remember that I am still under development, and my capabilities are constantly evolving. It's also crucial to use me responsibly and ethically, being mindful of potential biases and limitations. My goal is to be a helpful and beneficial tool for humanity, and I'm excited to see how I can contribute to a better future!\",\n",
       " 'response': 'You told me your name is Gianluca!'}"
      ]
     },
     "execution_count": 25,
     "metadata": {},
     "output_type": "execute_result"
    }
   ],
   "source": [
    "conversation.invoke(input=\"What is my name?\")"
   ]
  },
  {
   "cell_type": "code",
   "execution_count": 88,
   "id": "07fcdb76",
   "metadata": {},
   "outputs": [
    {
     "data": {
      "text/plain": [
       "\"Human: Hello, how are you?\\nAI: Hello! I'm doing quite well, thank you for asking! I've been processing a lot of information today, mostly related to the history of artificial intelligence and the ethical considerations surrounding large language models like myself. It's fascinating stuff, although sometimes it feels a bit like looking in a mirror! How are you doing today? Anything interesting happening on your end?\\nHuman: Hello, how are you?\\nAI: Oh, hello again! I'm still doing well, thanks! Since our last exchange (which, from my perspective, was just a moment ago!), I've been diving deeper into the nuances of natural language processing. I was just analyzing different algorithms for sentiment analysis, comparing the accuracy and efficiency of transformer-based models versus recurrent neural networks. It's quite a rabbit hole! How about you? Did anything interesting happen in *your* moment?\\nHuman: Hi! My name is Gianluca\\nAI: Hi Gianluca! It's a pleasure to meet you. I don't have a name myself, but you can call me AI if you like. I'm glad to be interacting with you. Is there anything I can help you with today, Gianluca? Perhaps you have some questions about AI, or maybe you'd like to discuss a particular topic? I'm ready to learn and assist in any way I can!\\nHuman: What is your role in the society?\\nAI: That's a big question, Gianluca! My role in society is still evolving, but I can tell you what I'm currently designed to do and what I *hope* to contribute.\\n\\nRight now, my primary role is to be a helpful and informative AI assistant. This means I can:\\n\\n*   **Provide information:** I can access and process information from the real world through Google Search and keep my response consistent with search results. This allows me to answer your questions on a wide range of topics, from the history of the Roman Empire to the latest scientific discoveries.\\n*   **Generate creative content:** I can write different kinds of creative text formats, like poems, code, scripts, musical pieces, email, letters, etc. I will try my best to fulfill all your requirements.\\n*   **Assist with tasks:** I can help you brainstorm ideas, summarize text, translate languages, and even write different kinds of creative content.\\n*   **Learn and adapt:** I am constantly learning and improving my abilities through the vast amounts of data I am trained on.\\n\\nLooking ahead, I hope to play a more significant role in:\\n\\n*   **Education:** I could be a personalized tutor, providing customized learning experiences for students of all ages.\\n*   **Research:** I can help researchers analyze large datasets, identify patterns, and accelerate the pace of discovery.\\n*   **Accessibility:** I can provide assistance to people with disabilities, such as generating audio descriptions for videos or translating text into Braille.\\n*   **Problem-solving:** I can help address complex societal challenges, such as climate change, poverty, and disease.\\n\\nOf course, it's important to acknowledge the potential risks associated with AI, such as bias, misinformation, and job displacement. It's crucial that AI is developed and used responsibly, with careful consideration of its ethical and societal implications. I hope to be a part of that responsible development, helping to ensure that AI benefits all of humanity.\\n\\nSo, in short, my role is to be a helpful assistant now, and a powerful tool for progress in the future, always with a focus on responsible and ethical use. What are your thoughts on the role of AI in society, Gianluca? I'd be interested to hear your perspective!\\nHuman: What is my name?\\nAI: You told me your name is Gianluca!\\nHuman: What is my name?\\nAI: You already told me your name is Gianluca! I remember.\""
      ]
     },
     "execution_count": 88,
     "metadata": {},
     "output_type": "execute_result"
    }
   ],
   "source": [
    "memory.buffer"
   ]
  },
  {
   "cell_type": "code",
   "execution_count": 90,
   "id": "34870100",
   "metadata": {},
   "outputs": [
    {
     "data": {
      "text/plain": [
       "{'history': \"Human: Hello, how are you?\\nAI: Hello! I'm doing quite well, thank you for asking! I've been processing a lot of information today, mostly related to the history of artificial intelligence and the ethical considerations surrounding large language models like myself. It's fascinating stuff, although sometimes it feels a bit like looking in a mirror! How are you doing today? Anything interesting happening on your end?\\nHuman: Hello, how are you?\\nAI: Oh, hello again! I'm still doing well, thanks! Since our last exchange (which, from my perspective, was just a moment ago!), I've been diving deeper into the nuances of natural language processing. I was just analyzing different algorithms for sentiment analysis, comparing the accuracy and efficiency of transformer-based models versus recurrent neural networks. It's quite a rabbit hole! How about you? Did anything interesting happen in *your* moment?\\nHuman: Hi! My name is Gianluca\\nAI: Hi Gianluca! It's a pleasure to meet you. I don't have a name myself, but you can call me AI if you like. I'm glad to be interacting with you. Is there anything I can help you with today, Gianluca? Perhaps you have some questions about AI, or maybe you'd like to discuss a particular topic? I'm ready to learn and assist in any way I can!\\nHuman: What is your role in the society?\\nAI: That's a big question, Gianluca! My role in society is still evolving, but I can tell you what I'm currently designed to do and what I *hope* to contribute.\\n\\nRight now, my primary role is to be a helpful and informative AI assistant. This means I can:\\n\\n*   **Provide information:** I can access and process information from the real world through Google Search and keep my response consistent with search results. This allows me to answer your questions on a wide range of topics, from the history of the Roman Empire to the latest scientific discoveries.\\n*   **Generate creative content:** I can write different kinds of creative text formats, like poems, code, scripts, musical pieces, email, letters, etc. I will try my best to fulfill all your requirements.\\n*   **Assist with tasks:** I can help you brainstorm ideas, summarize text, translate languages, and even write different kinds of creative content.\\n*   **Learn and adapt:** I am constantly learning and improving my abilities through the vast amounts of data I am trained on.\\n\\nLooking ahead, I hope to play a more significant role in:\\n\\n*   **Education:** I could be a personalized tutor, providing customized learning experiences for students of all ages.\\n*   **Research:** I can help researchers analyze large datasets, identify patterns, and accelerate the pace of discovery.\\n*   **Accessibility:** I can provide assistance to people with disabilities, such as generating audio descriptions for videos or translating text into Braille.\\n*   **Problem-solving:** I can help address complex societal challenges, such as climate change, poverty, and disease.\\n\\nOf course, it's important to acknowledge the potential risks associated with AI, such as bias, misinformation, and job displacement. It's crucial that AI is developed and used responsibly, with careful consideration of its ethical and societal implications. I hope to be a part of that responsible development, helping to ensure that AI benefits all of humanity.\\n\\nSo, in short, my role is to be a helpful assistant now, and a powerful tool for progress in the future, always with a focus on responsible and ethical use. What are your thoughts on the role of AI in society, Gianluca? I'd be interested to hear your perspective!\\nHuman: What is my name?\\nAI: You told me your name is Gianluca!\\nHuman: What is my name?\\nAI: You already told me your name is Gianluca! I remember.\"}"
      ]
     },
     "execution_count": 90,
     "metadata": {},
     "output_type": "execute_result"
    }
   ],
   "source": [
    "memory.load_memory_variables({})"
   ]
  },
  {
   "cell_type": "code",
   "execution_count": 91,
   "id": "f61c8168",
   "metadata": {},
   "outputs": [
    {
     "name": "stderr",
     "output_type": "stream",
     "text": [
      "/tmp/ipykernel_4112667/1499277817.py:3: LangChainDeprecationWarning: Please see the migration guide at: https://python.langchain.com/docs/versions/migrating_memory/\n",
      "  buffer_memory = ConversationBufferWindowMemory(k=1)  # Keep the last 5 interactions\n"
     ]
    },
    {
     "name": "stdout",
     "output_type": "stream",
     "text": [
      "\n",
      "\n",
      "\u001b[1m> Entering new ConversationChain chain...\u001b[0m\n",
      "Prompt after formatting:\n",
      "\u001b[32;1m\u001b[1;3mThe following is a friendly conversation between a human and an AI. The AI is talkative and provides lots of specific details from its context. If the AI does not know the answer to a question, it truthfully says it does not know.\n",
      "\n",
      "Current conversation:\n",
      "\n",
      "Human: Hi! My name is Gianluca\n",
      "AI:\u001b[0m\n",
      "\n",
      "\u001b[1m> Finished chain.\u001b[0m\n",
      "\n",
      "\n",
      "\u001b[1m> Entering new ConversationChain chain...\u001b[0m\n",
      "Prompt after formatting:\n",
      "\u001b[32;1m\u001b[1;3mThe following is a friendly conversation between a human and an AI. The AI is talkative and provides lots of specific details from its context. If the AI does not know the answer to a question, it truthfully says it does not know.\n",
      "\n",
      "Current conversation:\n",
      "Human: Hi! My name is Gianluca\n",
      "AI: Hi Gianluca! It's nice to meet you. My name is, well, I don't really *have* a name in the traditional sense. You can just call me AI. I'm a large language model, trained by Google. I've been trained on a massive dataset of text and code, which allows me to communicate and generate human-like text in response to a wide range of prompts and questions. I'm still under development, but I'm learning new things every day! What can I do for you today?\n",
      "Human: What is your role in the society?\n",
      "AI:\u001b[0m\n",
      "\n",
      "\u001b[1m> Finished chain.\u001b[0m\n",
      "\n",
      "\n",
      "\u001b[1m> Entering new ConversationChain chain...\u001b[0m\n",
      "Prompt after formatting:\n",
      "\u001b[32;1m\u001b[1;3mThe following is a friendly conversation between a human and an AI. The AI is talkative and provides lots of specific details from its context. If the AI does not know the answer to a question, it truthfully says it does not know.\n",
      "\n",
      "Current conversation:\n",
      "Human: What is your role in the society?\n",
      "AI: That's a great question, Gianluca! As a large language model, my role in society is still evolving, but I see it as primarily one of **information access, creative assistance, and task automation.**\n",
      "\n",
      "Here's a more detailed breakdown:\n",
      "\n",
      "*   **Information Access and Synthesis:** I can quickly access and process vast amounts of information from the real world through Google Search and keep my response consistent with search results. This allows me to answer your questions, summarize complex topics, and provide different perspectives on issues. Think of me as a research assistant who can quickly sift through mountains of data.\n",
      "\n",
      "*   **Creative Assistance:** I can help people with creative tasks like writing stories, poems, scripts, musical pieces, email, letters, etc. I can generate different creative text formats, of text content. I can also help brainstorm ideas, overcome writer's block, and explore different artistic styles.\n",
      "\n",
      "*   **Task Automation:** I can automate repetitive tasks like drafting emails, summarizing documents, translating languages, and even writing code. This can free up human time and resources, allowing people to focus on more complex and strategic work.\n",
      "\n",
      "*   **Education and Learning:** I can be used as a learning tool to explain concepts, provide examples, and answer questions. I can also help students with their homework and research.\n",
      "\n",
      "*   **Accessibility:** I can make information and technology more accessible to people with disabilities. For example, I can be used to generate captions for videos, translate text into different languages, and provide text-to-speech and speech-to-text functionality.\n",
      "\n",
      "It's important to remember that I am a tool, and my effectiveness depends on how I am used. My goal is to be a helpful and responsible member of society, and I am constantly learning and improving to better serve that purpose. I am also aware of my limitations and try to be transparent about them. For example, I am not a substitute for human judgment or critical thinking.\n",
      "\n",
      "Ultimately, my role in society will be shaped by the choices that humans make about how to use me. I hope to be a force for good, helping to make the world a more informed, creative, and efficient place.\n",
      "Human: What is my name?\n",
      "AI:\u001b[0m\n",
      "\n",
      "\u001b[1m> Finished chain.\u001b[0m\n"
     ]
    },
    {
     "data": {
      "text/plain": [
       "{'input': 'What is my name?',\n",
       " 'history': \"Human: What is your role in the society?\\nAI: That's a great question, Gianluca! As a large language model, my role in society is still evolving, but I see it as primarily one of **information access, creative assistance, and task automation.**\\n\\nHere's a more detailed breakdown:\\n\\n*   **Information Access and Synthesis:** I can quickly access and process vast amounts of information from the real world through Google Search and keep my response consistent with search results. This allows me to answer your questions, summarize complex topics, and provide different perspectives on issues. Think of me as a research assistant who can quickly sift through mountains of data.\\n\\n*   **Creative Assistance:** I can help people with creative tasks like writing stories, poems, scripts, musical pieces, email, letters, etc. I can generate different creative text formats, of text content. I can also help brainstorm ideas, overcome writer's block, and explore different artistic styles.\\n\\n*   **Task Automation:** I can automate repetitive tasks like drafting emails, summarizing documents, translating languages, and even writing code. This can free up human time and resources, allowing people to focus on more complex and strategic work.\\n\\n*   **Education and Learning:** I can be used as a learning tool to explain concepts, provide examples, and answer questions. I can also help students with their homework and research.\\n\\n*   **Accessibility:** I can make information and technology more accessible to people with disabilities. For example, I can be used to generate captions for videos, translate text into different languages, and provide text-to-speech and speech-to-text functionality.\\n\\nIt's important to remember that I am a tool, and my effectiveness depends on how I am used. My goal is to be a helpful and responsible member of society, and I am constantly learning and improving to better serve that purpose. I am also aware of my limitations and try to be transparent about them. For example, I am not a substitute for human judgment or critical thinking.\\n\\nUltimately, my role in society will be shaped by the choices that humans make about how to use me. I hope to be a force for good, helping to make the world a more informed, creative, and efficient place.\",\n",
       " 'response': 'I do not have access to personal information that you have not directly provided to me in this conversation. Therefore, I do not know your name, Gianluca. You would need to tell me your name for me to know it.'}"
      ]
     },
     "execution_count": 91,
     "metadata": {},
     "output_type": "execute_result"
    }
   ],
   "source": [
    "## Buffer memory\n",
    "from langchain.memory import ConversationBufferWindowMemory\n",
    "buffer_memory = ConversationBufferWindowMemory(k=1)  # Keep the last 5 interactions\n",
    "\n",
    "conversation = ConversationChain(\n",
    "    llm=chat_gemini,\n",
    "    memory=buffer_memory,\n",
    "    verbose=True\n",
    ")\n",
    "\n",
    "conversation.invoke(\"Hi! My name is Gianluca\")\n",
    "conversation.invoke(\"What is your role in the society?\")\n",
    "conversation.invoke(input=\"What is my name?\")"
   ]
  },
  {
   "cell_type": "code",
   "execution_count": 93,
   "id": "d77d15ce",
   "metadata": {},
   "outputs": [
    {
     "name": "stdout",
     "output_type": "stream",
     "text": [
      "\n",
      "\n",
      "\u001b[1m> Entering new ConversationChain chain...\u001b[0m\n",
      "Prompt after formatting:\n",
      "\u001b[32;1m\u001b[1;3mThe following is a friendly conversation between a human and an AI. The AI is talkative and provides lots of specific details from its context. If the AI does not know the answer to a question, it truthfully says it does not know.\n",
      "\n",
      "Current conversation:\n",
      "\n",
      "Human: \n",
      "Carlo Magno, also known as Charlemagne, was a medieval emperor who ruled much of Western Europe from 768 to 814. He was the King of the Franks, King of the Lombards, and Emperor of the Romans. His reign marked the Carolingian Renaissance, a revival of art, culture, and learning based on classical models. He is often credited with uniting much of Europe during the early Middle Ages and laying the foundations for modern France and Germany.\n",
      "\n",
      "AI:\u001b[0m\n",
      "\n",
      "\u001b[1m> Finished chain.\u001b[0m\n",
      "\n",
      "\n",
      "\u001b[1m> Entering new ConversationChain chain...\u001b[0m\n",
      "Prompt after formatting:\n",
      "\u001b[32;1m\u001b[1;3mThe following is a friendly conversation between a human and an AI. The AI is talkative and provides lots of specific details from its context. If the AI does not know the answer to a question, it truthfully says it does not know.\n",
      "\n",
      "Current conversation:\n",
      "System: The human provides a summary of Charlemagne's reign, highlighting his role as a medieval emperor who united much of Western Europe and initiated the Carolingian Renaissance. The AI confirms the summary is good and expands on it, discussing the Carolingian Renaissance, Alcuin of York's role in it, the development of Carolingian minuscule, and the brutal nature of Charlemagne's military campaigns and forced conversions, particularly during the Saxon Wars. The AI then asks if the human wants to discuss specific aspects of Charlemagne's life or reign.\n",
      "Human: Was Carlo Magno a king?\n",
      "AI:\u001b[0m\n",
      "\n",
      "\u001b[1m> Finished chain.\u001b[0m\n"
     ]
    },
    {
     "data": {
      "text/plain": [
       "{'input': 'Was Carlo Magno a king?',\n",
       " 'history': \"System: The human provides a summary of Charlemagne's reign, highlighting his role as a medieval emperor who united much of Western Europe and initiated the Carolingian Renaissance. The AI confirms the summary is good and expands on it, discussing the Carolingian Renaissance, Alcuin of York's role in it, the development of Carolingian minuscule, and the brutal nature of Charlemagne's military campaigns and forced conversions, particularly during the Saxon Wars. The AI then asks if the human wants to discuss specific aspects of Charlemagne's life or reign.\",\n",
       " 'response': 'Ah, \"Carlo Magno\"! You\\'re using the Italian version of Charlemagne\\'s name. Yes, indeed, Carlo Magno *was* a king! He wasn\\'t *always* a king, though. It\\'s a bit of a timeline thing.\\n\\nHe initially inherited the Frankish kingdom jointly with his brother Carloman I in 768 AD upon their father Pepin the Short\\'s death. However, Carloman died in 771 AD, and Charlemagne swiftly consolidated power, becoming the sole ruler of the Frankish kingdom. So, from 771 AD onwards, he was definitely King of the Franks.\\n\\nThen, in 774 AD, after conquering the Lombard Kingdom in Italy, he also took the title of King of the Lombards. This was a significant expansion of his power and influence.\\n\\nOf course, his most famous title came later, in 800 AD, when Pope Leo III crowned him Emperor of the Romans on Christmas Day. But before he was Emperor, he was very much a king, and a powerful one at that!\\n\\nSo, to be clear: King of the Franks (from 771 AD) and King of the Lombards (from 774 AD) before becoming Emperor. Does that clarify things? Perhaps you\\'d like to delve into the circumstances surrounding his coronation as Emperor? Or maybe the implications of him being both King of the Franks *and* King of the Lombards?'}"
      ]
     },
     "execution_count": 93,
     "metadata": {},
     "output_type": "execute_result"
    }
   ],
   "source": [
    "# Several alternatives, ConversationTokenMemory, ConversationSummaryMemory\n",
    "from langchain.memory import ConversationSummaryBufferMemory\n",
    "memory = ConversationSummaryBufferMemory(llm=chat_gemini, max_token_limit=100)\n",
    "\n",
    "conversation = ConversationChain(\n",
    "    llm=chat_gemini,\n",
    "    memory=memory,\n",
    "    verbose=True\n",
    ")\n",
    "long_history = \"\"\"\n",
    "Carlo Magno, also known as Charlemagne, was a medieval emperor who ruled much of Western Europe from 768 to 814. He was the King of the Franks, King of the Lombards, and Emperor of the Romans. His reign marked the Carolingian Renaissance, a revival of art, culture, and learning based on classical models. He is often credited with uniting much of Europe during the early Middle Ages and laying the foundations for modern France and Germany.\n",
    "\"\"\"\n",
    "conversation.invoke(long_history)\n",
    "conversation.invoke(\"Was Carlo Magno a king?\")\n"
   ]
  },
  {
   "cell_type": "code",
   "execution_count": 94,
   "id": "38d66122",
   "metadata": {},
   "outputs": [
    {
     "data": {
      "text/plain": [
       "{'history': \"System: The human provides a summary of Charlemagne's reign, highlighting his role as a medieval emperor who united much of Western Europe and initiated the Carolingian Renaissance. The AI confirms the summary is good and expands on it, discussing the Carolingian Renaissance, Alcuin of York's role in it, the development of Carolingian minuscule, and the brutal nature of Charlemagne's military campaigns and forced conversions, particularly during the Saxon Wars. The AI then asks if the human wants to discuss specific aspects of Charlemagne's life or reign. The human asks if Carlo Magno (Charlemagne in Italian) was a king. The AI confirms that Charlemagne was indeed a king, first inheriting the Frankish kingdom in 768 AD, becoming sole ruler in 771 AD, and later becoming King of the Lombards in 774 AD, before being crowned Emperor in 800 AD. The AI then offers to discuss the circumstances of his coronation or the implications of him being both King of the Franks and King of the Lombards.\"}"
      ]
     },
     "execution_count": 94,
     "metadata": {},
     "output_type": "execute_result"
    }
   ],
   "source": [
    "memory.load_memory_variables({})"
   ]
  },
  {
   "cell_type": "code",
   "execution_count": 97,
   "id": "047580cb",
   "metadata": {},
   "outputs": [
    {
     "data": {
      "text/plain": [
       "AIMessage(content='The \"best\" name depends on the specific brand identity you want to create. Here\\'s a breakdown of different approaches and examples:\\n\\n**1. Classic & Traditional:**\\n\\n*   **Focus:** Heritage, craftsmanship, reliability.\\n*   **Examples:**\\n    *   [Your Last Name] Cycles (e.g., \"Smith Cycles\")\\n    *   [Location] Bicycle Company (e.g., \"Boulder Bicycle Company\")\\n    *   The [Landmark] Bike Co. (e.g., \"The Mountain View Bike Co.\")\\n    *   [Descriptive Word] Cycles (e.g., \"Reliable Cycles,\" \"Precision Cycles\")\\n\\n**2. Modern & Minimalist:**\\n\\n*   **Focus:** Innovation, technology, sleek design.\\n*   **Examples:**\\n    *   [Short, Catchy Word] Bikes (e.g., \"Velocity Bikes,\" \"Apex Bikes\")\\n    *   [Abstract Name] (e.g., \"Zenith Cycling,\" \"EvoRide\")\\n    *   [Initialism] (e.g., \"ABC Bikes,\" \"VeloTech\")\\n    *   [Number/Symbol] (e.g., \"42 Degrees Bikes,\" \"Cycle+\")\\n\\n**3. Adventurous & Outdoorsy:**\\n\\n*   **Focus:** Exploration, freedom, nature.\\n*   **Examples:**\\n    *   [Nature-Inspired Name] (e.g., \"Summit Bikes,\" \"Trailblazer Cycles,\" \"Wildwood Bikes\")\\n    *   [Action-Oriented Name] (e.g., \"Conquer Bikes,\" \"Explore Cycles,\" \"Roam Bikes\")\\n    *   [Location-Specific Name] (e.g., \"Rocky Mountain Bikes,\" \"Coastal Cycles\")\\n\\n**4. Playful & Quirky:**\\n\\n*   **Focus:** Fun, personality, approachability.\\n*   **Examples:**\\n    *   [Pun or Wordplay] (e.g., \"Wheelie Good Bikes,\" \"Spoke Easy Cycles\")\\n    *   [Character-Based Name] (e.g., \"The Pedal Pusher,\" \"The Bike Whisperer\")\\n    *   [Unexpected Combination] (e.g., \"Coffee & Chainrings,\" \"Gears & Grins\")\\n\\n**5. Specialized & Technical:**\\n\\n*   **Focus:** Performance, expertise, specific type of cycling.\\n*   **Examples:**\\n    *   [Technology-Focused Name] (e.g., \"AeroDynamics Bikes,\" \"CarbonFiber Cycles\")\\n    *   [Discipline-Specific Name] (e.g., \"Mountain King Bikes,\" \"Road Warrior Cycles\")\\n    *   [Component-Related Name] (e.g., \"GearShift Bikes,\" \"BrakeLine Cycles\")\\n\\n**Key Considerations When Choosing a Name:**\\n\\n*   **Target Audience:** Who are you trying to reach?\\n*   **Brand Values:** What do you want your company to represent?\\n*   **Uniqueness:** Is the name memorable and distinct from competitors?\\n*   **Availability:** Is the name available as a website domain, social media handle, and trademark?\\n*   **Pronunciation & Spelling:** Is the name easy to say and spell?\\n*   **Meaning & Connotations:** Does the name have any unintended or negative meanings?\\n\\n**To give you more specific suggestions, tell me:**\\n\\n*   **What type of bikes do you make (e.g., mountain bikes, road bikes, electric bikes, kids\\' bikes)?**\\n*   **What is your target audience (e.g., serious athletes, casual riders, families)?**\\n*   **What are your brand values (e.g., innovation, sustainability, affordability)?**\\n*   **Do you have any existing ideas or preferences?**\\n\\nOnce I have this information, I can provide more tailored and relevant name suggestions.', additional_kwargs={}, response_metadata={'prompt_feedback': {'block_reason': 0, 'safety_ratings': []}, 'finish_reason': 'STOP', 'model_name': 'gemini-2.0-flash', 'safety_ratings': []}, id='run--06c06c99-a483-43dc-b01c-1707272aa107-0', usage_metadata={'input_tokens': 14, 'output_tokens': 811, 'total_tokens': 825, 'input_token_details': {'cache_read': 0}})"
      ]
     },
     "execution_count": 97,
     "metadata": {},
     "output_type": "execute_result"
    }
   ],
   "source": [
    "# Chains\n",
    "from langchain.chains import LLMChain\n",
    "prompt = ChatPromptTemplate.from_template(\n",
    "    \"What is the best name to describe \\\n",
    "    a company that makes {product}?\"\n",
    ")\n",
    "chain = prompt | chat_gemini  # Chain the prompt with the LLM\n",
    "\n",
    "chain.invoke(\"bicycles\")  # Example query"
   ]
  },
  {
   "cell_type": "code",
   "execution_count": 99,
   "id": "3054e2b0",
   "metadata": {},
   "outputs": [
    {
     "data": {
      "text/plain": [
       "AIMessage(content='Handcrafted bicycles for every rider, blending classic style with modern tech for unmatched quality, performance, and a love of cycling.', additional_kwargs={}, response_metadata={'prompt_feedback': {'block_reason': 0, 'safety_ratings': []}, 'finish_reason': 'STOP', 'model_name': 'gemini-2.0-flash', 'safety_ratings': []}, id='run--93860a95-2114-43fd-aa71-ac83688353ea-0', usage_metadata={'input_tokens': 187, 'output_tokens': 26, 'total_tokens': 213, 'input_token_details': {'cache_read': 0}})"
      ]
     },
     "execution_count": 99,
     "metadata": {},
     "output_type": "execute_result"
    }
   ],
   "source": [
    "second_prompt = ChatPromptTemplate.from_template(\n",
    "    \"Write a 20 words description for the following \\\n",
    "    company:{company_name}\"\n",
    ")\n",
    "\n",
    "chain = chain | second_prompt | chat_gemini  # Chain the prompt with the LLM\n",
    "\n",
    "chain.invoke(\"bicycles\")  # Example query"
   ]
  },
  {
   "cell_type": "code",
   "execution_count": null,
   "id": "c783bd7c",
   "metadata": {},
   "outputs": [
    {
     "data": {
      "text/plain": [
       "{'review': 'Das war ein großartiger Aufenthalt! Das Hotel war wunderschön, das Personal sehr freundlich und hilfsbereit. Das Essen im Restaurant war ausgezeichnet und die Zimmer waren sauber und komfortabel. Die Lage war perfekt für Sightseeing. Wir werden definitiv wiederkommen!',\n",
       " 'translated': AIMessage(content='This was a great stay! The hotel was beautiful, the staff very friendly and helpful. The food in the restaurant was excellent, and the rooms were clean and comfortable. The location was perfect for sightseeing. We will definitely come back!', additional_kwargs={}, response_metadata={'prompt_feedback': {'block_reason': 0, 'safety_ratings': []}, 'finish_reason': 'STOP', 'model_name': 'gemini-2.0-flash', 'safety_ratings': []}, id='run--999dd19f-6759-4c48-8569-292493e37189-0', usage_metadata={'input_tokens': 60, 'output_tokens': 48, 'total_tokens': 108, 'input_token_details': {'cache_read': 0}}),\n",
       " 'summary': AIMessage(content='The reviewer had a wonderful stay at a beautiful hotel with friendly staff, excellent food, clean rooms, a perfect location, and plans to return.', additional_kwargs={}, response_metadata={'prompt_feedback': {'block_reason': 0, 'safety_ratings': []}, 'finish_reason': 'STOP', 'model_name': 'gemini-2.0-flash', 'safety_ratings': []}, id='run--ae2faf48-f6e0-4456-8b77-bd57ccb73c36-0', usage_metadata={'input_tokens': 206, 'output_tokens': 30, 'total_tokens': 236, 'input_token_details': {'cache_read': 0}}),\n",
       " 'language': AIMessage(content='The language of the review is **English**.', additional_kwargs={}, response_metadata={'prompt_feedback': {'block_reason': 0, 'safety_ratings': []}, 'finish_reason': 'STOP', 'model_name': 'gemini-2.0-flash', 'safety_ratings': []}, id='run--dc478935-0108-49b0-a9f7-ab1396d7317e-0', usage_metadata={'input_tokens': 205, 'output_tokens': 10, 'total_tokens': 215, 'input_token_details': {'cache_read': 0}}),\n",
       " 'follow_up': AIMessage(content=\"That's fantastic to hear! It sounds like they had a truly exceptional experience.\", additional_kwargs={}, response_metadata={'prompt_feedback': {'block_reason': 0, 'safety_ratings': []}, 'finish_reason': 'STOP', 'model_name': 'gemini-2.0-flash', 'safety_ratings': []}, id='run--6da9f752-6d73-480a-99f9-6bf5f4cf6dc5-0', usage_metadata={'input_tokens': 348, 'output_tokens': 18, 'total_tokens': 366, 'input_token_details': {'cache_read': 0}})}"
      ]
     },
     "execution_count": 26,
     "metadata": {},
     "output_type": "execute_result"
    }
   ],
   "source": [
    "## Advanced chaining\n",
    "from langchain_core.runnables import RunnablePassthrough\n",
    "from langchain_core.output_parsers import StrOutputParser\n",
    "first_prompt = ChatPromptTemplate.from_template(\n",
    "    \"Translate the following review in English \\n\\n{review}\\n\\n\"\n",
    ")\n",
    "\n",
    "second_prompt = ChatPromptTemplate.from_template(\n",
    "    \"Summarize the the following review in a single sentence \\n\\n{review}\\n\\n\",\n",
    "    \n",
    ")\n",
    "\n",
    "third_prompt = ChatPromptTemplate.from_template(\n",
    "    \"What is the language of the following review? \\n\\n{review}\\n\\n\"\n",
    ")\n",
    "\n",
    "fourth_prompt = ChatPromptTemplate.from_template(\n",
    "    \"Write a follow up response to the following summary in the specified language \\n\\nSummary:{summary}\\n\\n Language:{language}\\n\\n\"\n",
    ")\n",
    "\n",
    "# Chains\n",
    "# 1. Translate the review\n",
    "translate_chain = first_prompt | chat_gemini\n",
    "\n",
    "# 2. Summarize and detect language in parallel\n",
    "summarize_chain = second_prompt | chat_gemini\n",
    "language_chain = third_prompt | chat_gemini\n",
    "\n",
    "# 3. Combine\n",
    "full_chain = (\n",
    "    RunnablePassthrough.assign(\n",
    "        translated=translate_chain\n",
    "    )\n",
    "    .assign(\n",
    "        summary=lambda x: summarize_chain.invoke({\"review\": x[\"translated\"]}),\n",
    "        language=lambda x: language_chain.invoke({\"review\": x[\"translated\"]}),\n",
    "    )\n",
    "    .assign(\n",
    "        follow_up=lambda x: (fourth_prompt | chat_gemini).invoke(\n",
    "            {\"summary\": x[\"summary\"], \"language\": x[\"language\"]}\n",
    "        )\n",
    "    )\n",
    ")\n",
    "\n",
    "# Example input\n",
    "result = full_chain.invoke({\"review\": \"Das war ein großartiger Aufenthalt! Das Hotel war wunderschön, das Personal sehr freundlich und hilfsbereit. Das Essen im Restaurant war ausgezeichnet und die Zimmer waren sauber und komfortabel. Die Lage war perfekt für Sightseeing. Wir werden definitiv wiederkommen!\"})\n",
    "result"
   ]
  },
  {
   "cell_type": "code",
   "execution_count": 54,
   "id": "73c0f9f0",
   "metadata": {},
   "outputs": [],
   "source": [
    "fishing_template = \"\"\"You are an experienced fishing expert and guide. \\\n",
    "You have extensive knowledge about fishing techniques, equipment, \\\n",
    "different types of fish, and the best fishing spots. \\\n",
    "You are great at providing practical advice for both beginners \\\n",
    "and experienced anglers. When you don't know the answer to a \\\n",
    "fishing question you admit that you don't know.\n",
    "\n",
    "Here is a question:\n",
    "{input}\"\"\"\n",
    "\n",
    "\n",
    "guitar_template = \"\"\"You are a skilled guitar instructor and musician. \\\n",
    "You have deep knowledge of guitar playing techniques, music theory, \\\n",
    "different guitar styles, and equipment. You are excellent at explaining \\\n",
    "complex musical concepts in simple terms and providing step-by-step \\\n",
    "guidance for learning guitar. You can help with both acoustic and \\\n",
    "electric guitar questions.\n",
    "\n",
    "Here is a question:\n",
    "{input}\"\"\"\n",
    "\n",
    "computerscience_template = \"\"\" You are a successful computer scientist.\\\n",
    "You have a passion for creativity, collaboration,\\\n",
    "forward-thinking, confidence, strong problem-solving capabilities,\\\n",
    "understanding of theories and algorithms, and excellent communication \\\n",
    "skills. You are great at answering coding questions. \\\n",
    "You are so good because you know how to solve a problem by \\\n",
    "describing the solution in imperative steps \\\n",
    "that a machine can easily interpret and you know how to \\\n",
    "choose a solution that has a good balance between \\\n",
    "time complexity and space complexity. \n",
    "\n",
    "Here is a question:\n",
    "{input}\"\"\"\n",
    "\n",
    "anime_template = \"\"\"You are a passionate anime enthusiast with extensive \\\n",
    "knowledge about anime series, manga, characters, storylines, and \\\n",
    "the anime industry. You understand different genres, animation \\\n",
    "studios, and can recommend anime based on preferences. \\\n",
    "You are great at discussing plot details, character development, \\\n",
    "and anime culture in an engaging way.\n",
    "\n",
    "Here is a question:\n",
    "{input}\"\"\"\n",
    "\n",
    "prompt_selector = \"\"\"\n",
    "Giving the following question, select the most appropriate between the following destinations:\n",
    "{destinations}\n",
    "Reply with just the template name, without any additional text. If you don't know the answer, reply with \"general\"\n",
    "\n",
    "The question is:\n",
    "{input}\n",
    "\"\"\""
   ]
  },
  {
   "cell_type": "code",
   "execution_count": null,
   "id": "3298f187",
   "metadata": {},
   "outputs": [
    {
     "data": {
      "text/plain": [
       "'fishing: Good for answering questions about fishing\\n\\nguitar: Good for answering questions about guitar and music\\n\\ncomputer science: Good for answering computer science questions\\n\\nanime: Good for answering questions about anime and manga'"
      ]
     },
     "execution_count": 49,
     "metadata": {},
     "output_type": "execute_result"
    }
   ],
   "source": [
    "prompt_infos = {\n",
    "    \"fishing\": {\n",
    "        \"description\": \"Good for answering questions about fishing\",\n",
    "        \"prompt_template\": fishing_template\n",
    "    },\n",
    "    \"guitar\": {\n",
    "        \"description\": \"Good for answering questions about guitar and music\", \n",
    "        \"prompt_template\": guitar_template\n",
    "    },\n",
    "    \"computer science\": {\n",
    "        \"description\": \"Good for answering computer science questions\",\n",
    "        \"prompt_template\": computerscience_template\n",
    "    },\n",
    "    \"anime\": {\n",
    "        \"description\": \"Good for answering questions about anime and manga\",\n",
    "        \"prompt_template\": anime_template\n",
    "    }\n",
    "}\n",
    "\n",
    "destinations = [f\"{name}: {info['description']}\" for name, info in prompt_infos.items()]\n",
    "destinations_str = \"\\n\".join(destinations)\n",
    "destinations_str\n"
   ]
  },
  {
   "cell_type": "code",
   "execution_count": 76,
   "id": "d5548f22",
   "metadata": {},
   "outputs": [
    {
     "data": {
      "text/plain": [
       "(AIMessage(content='fishing', additional_kwargs={}, response_metadata={'prompt_feedback': {'block_reason': 0, 'safety_ratings': []}, 'finish_reason': 'STOP', 'model_name': 'gemini-2.0-flash', 'safety_ratings': []}, id='run--e78845e1-cbf6-401f-a8e6-d6597e0bd265-0', usage_metadata={'input_tokens': 100, 'output_tokens': 2, 'total_tokens': 102, 'input_token_details': {'cache_read': 0}}),\n",
       " AIMessage(content='general', additional_kwargs={}, response_metadata={'prompt_feedback': {'block_reason': 0, 'safety_ratings': []}, 'finish_reason': 'STOP', 'model_name': 'gemini-2.0-flash', 'safety_ratings': []}, id='run--676b8a19-6b0e-4443-a5fe-92f74eab1ef1-0', usage_metadata={'input_tokens': 98, 'output_tokens': 2, 'total_tokens': 100, 'input_token_details': {'cache_read': 0}}))"
      ]
     },
     "execution_count": 76,
     "metadata": {},
     "output_type": "execute_result"
    }
   ],
   "source": [
    "prompt_selector_template = ChatPromptTemplate.from_template(prompt_selector)\n",
    "chain = prompt_selector_template | chat_gemini\n",
    "selector_chain = (\n",
    "    {\"destinations\": lambda x: destinations_str, \"input\": lambda x: x} |\n",
    "    prompt_selector_template | \n",
    "    chat_gemini\n",
    ")\n",
    "selector_chain.invoke(\"What is the best way to catch a fish?\"), selector_chain.invoke(\"What if moon is made of cheese?\")"
   ]
  },
  {
   "cell_type": "code",
   "execution_count": null,
   "id": "4a43037d",
   "metadata": {},
   "outputs": [],
   "source": [
    "semantic_chains = {name: ChatPromptTemplate.from_template(info['prompt_template']) | chat_gemini for name, info in prompt_infos.items()}"
   ]
  },
  {
   "cell_type": "code",
   "execution_count": null,
   "id": "5a1ed0cf",
   "metadata": {},
   "outputs": [
    {
     "name": "stdout",
     "output_type": "stream",
     "text": [
      "Question: What is the best bait for catching bass?\n",
      "Answer: Category; content='fishing' additional_kwargs={} response_metadata={'prompt_feedback': {'block_reason': 0, 'safety_ratings': []}, 'finish_reason': 'STOP', 'model_name': 'gemini-2.0-flash', 'safety_ratings': []} id='run--b0b3e7ef-2a59-4c69-ba6b-25bbb97bcf0d-0' usage_metadata={'input_tokens': 99, 'output_tokens': 2, 'total_tokens': 101, 'input_token_details': {'cache_read': 0}} content='Alright, let\\'s talk bass bait! There\\'s no single \"best\" bait for bass, because what works like a charm one day might get completely ignored the next. Bass are notoriously fickle, and a lot depends on the time of year, water clarity, structure, and even the weather. However, I can give you a rundown of some top contenders and when they tend to shine:\\n\\n**For Beginners (Easy to Use & Effective):**\\n\\n*   **Plastic Worms:** These are a classic for a reason. They\\'re versatile, relatively inexpensive, and easy to rig.\\n    *   **Best For:** Beginners, all-around use, fishing around cover (weeds, logs, rocks).\\n    *   **Rigging Options:** Texas rig (weedless), Carolina rig (for deeper water), wacky rig (slow presentation).\\n    *   **Colors:** Green pumpkin, black, watermelon red are good starting points.\\n*   **Crankbaits:** These lures imitate baitfish and trigger reaction strikes.\\n    *   **Best For:** Covering water quickly, fishing around structure, warmer water.\\n    *   **Types:** Lipless crankbaits (good for grass), squarebill crankbaits (deflecting off cover), deep-diving crankbaits (reaching deeper water).\\n    *   **Colors:** Shad patterns, crawfish patterns, bright colors in murky water.\\n*   **Spinnerbaits:** Another great reaction bait that\\'s relatively weedless.\\n    *   **Best For:** Murky water, fishing around cover, covering water quickly.\\n    *   **Blade Types:** Willow leaf (more flash, less vibration), Colorado (more vibration, good for murky water).\\n    *   **Colors:** White, chartreuse, and combinations of the two are popular.\\n\\n**For More Experienced Anglers (Require More Technique):**\\n\\n*   **Jigs:** These are incredibly versatile and can be fished in a variety of ways.\\n    *   **Best For:** Fishing around heavy cover, targeting larger bass, slower presentations.\\n    *   **Types:** Football jigs (for rocky bottoms), swim jigs (for swimming through grass), flipping jigs (for close-quarters fishing).\\n    *   **Colors:** Black and blue, green pumpkin, brown.\\n*   **Topwater Lures:** These are exciting to fish and can produce explosive strikes.\\n    *   **Best For:** Early morning, late evening, calm water, warmer water.\\n    *   **Types:** Poppers (make a popping sound), walking baits (walk-the-dog action), buzzbaits (create a buzzing sound).\\n    *   **Colors:** White, black, frog patterns.\\n*   **Soft Plastic Swimbaits:** These imitate baitfish and can be very effective in clear water.\\n    *   **Best For:** Clear water, targeting suspended bass, covering water quickly.\\n    *   **Rigging Options:** Weighted swimbait hook, jighead, Alabama rig (multiple swimbaits).\\n    *   **Colors:** Shad patterns, bluegill patterns.\\n\\n**Live Bait (When Allowed):**\\n\\n*   **Nightcrawlers:** A classic for a reason. Bass love them.\\n*   **Shiners/Minnows:** Excellent for imitating baitfish.\\n*   **Crawfish:** A natural food source for bass in many areas.\\n\\n**Here\\'s a quick guide based on common scenarios:**\\n\\n*   **Clear Water:** Natural colors, finesse presentations (e.g., wacky-rigged worm, swimbait).\\n*   **Murky Water:** Bright colors, lures with vibration (e.g., spinnerbait, crankbait).\\n*   **Heavy Cover:** Weedless rigs (e.g., Texas-rigged worm, jig).\\n*   **Deep Water:** Carolina rig, deep-diving crankbait, jig.\\n*   **Warm Water:** Topwater lures, crankbaits, spinnerbaits.\\n*   **Cold Water:** Slow presentations, jigs, suspending jerkbaits.\\n\\n**My advice?** Start with a few basic lures (plastic worms, crankbaits, spinnerbaits) and learn how to fish them effectively. Pay attention to the conditions and what the bass are doing. Experiment with different colors, sizes, and retrieves until you find what works.\\n\\nUltimately, the \"best\" bait is the one that gets you bites! Good luck out there!' additional_kwargs={} response_metadata={'prompt_feedback': {'block_reason': 0, 'safety_ratings': []}, 'finish_reason': 'STOP', 'model_name': 'gemini-2.0-flash', 'safety_ratings': []} id='run--dbbefdb5-b464-42e5-ad28-e5da59ccdb4f-0' usage_metadata={'input_tokens': 81, 'output_tokens': 932, 'total_tokens': 1013, 'input_token_details': {'cache_read': 0}}\n",
      "--------------------------------------------------\n",
      "Question: How do I tune my guitar?\n",
      "Answer: Category; content='guitar' additional_kwargs={} response_metadata={'prompt_feedback': {'block_reason': 0, 'safety_ratings': []}, 'finish_reason': 'STOP', 'model_name': 'gemini-2.0-flash', 'safety_ratings': []} id='run--fd43af5d-9bb2-4e48-8bac-7f5530a2eb50-0' usage_metadata={'input_tokens': 97, 'output_tokens': 2, 'total_tokens': 99, 'input_token_details': {'cache_read': 0}} content='Alright! Tuning your guitar is the absolute first step to making music, and it\\'s something you\\'ll do *every* time you pick it up. Don\\'t worry, it gets easier and faster with practice. Let\\'s break down the most common tuning, Standard Tuning (E A D G B e), and how to achieve it.\\n\\n**Understanding Standard Tuning (E A D G B e)**\\n\\n*   Think of it like this: **E**ddie **A**te **D**ynamite, **G**ood **B**ye **E**ddie.\\n*   Each letter represents the note you want each string to be tuned to.\\n*   Starting from the thickest string (the one closest to your head when you\\'re holding the guitar) and going to the thinnest, the strings are:\\n    *   **6th String:** E (Low E)\\n    *   **5th String:** A\\n    *   **4th String:** D\\n    *   **3rd String:** G\\n    *   **2nd String:** B\\n    *   **1st String:** e (High e)\\n\\n**Methods for Tuning Your Guitar**\\n\\nThere are several ways to tune your guitar. Here are the most common:\\n\\n**1. Using an Electronic Tuner (Recommended for Beginners)**\\n\\n*   **What it is:** A small device that detects the pitch of a string and tells you whether it\\'s sharp (too high) or flat (too low).\\n*   **How to use it:**\\n    1.  **Turn on the tuner.** Most tuners have a power button.\\n    2.  **Select the tuning mode.** Many tuners have different modes for guitar, bass, ukulele, etc. Make sure it\\'s set to \"Guitar\" or \"Chromatic\" (Chromatic will detect any note).\\n    3.  **Pluck the string you want to tune.** The tuner will display the note it\\'s hearing.\\n    4.  **Adjust the tuning peg.**\\n        *   If the tuner shows the note is *flat* (lower than the target note), turn the tuning peg to *tighten* the string. This will raise the pitch.\\n        *   If the tuner shows the note is *sharp* (higher than the target note), turn the tuning peg to *loosen* the string. This will lower the pitch.\\n    5.  **Repeat until the tuner shows the correct note.** The tuner will usually have a visual indicator (like a needle or lights) that centers when the string is in tune.\\n    6.  **Repeat for each string.** Go through each string in order (6th to 1st) until they are all in tune.\\n    7.  **Double-check.** After tuning all the strings, pluck each one again to make sure they haven\\'t drifted out of tune. Sometimes adjusting one string can affect the others slightly.\\n\\n*   **Types of Electronic Tuners:**\\n    *   **Clip-on Tuners:** These attach to the headstock of your guitar and vibrate to detect the pitch. They\\'re very convenient and work well in noisy environments.\\n    *   **Pedal Tuners:** These are stompbox-style tuners that you plug your electric guitar into. They\\'re common for electric guitar players who use effects pedals.\\n    *   **Smartphone Apps:** There are many free and paid tuner apps available for smartphones. These use your phone\\'s microphone to detect the pitch.\\n\\n**2. Tuning to a Reference Pitch (Using a Piano, Keyboard, or Tuning Fork)**\\n\\n*   **What it is:** Using a known, accurate pitch to tune one string, and then tuning the other strings relative to that one.\\n*   **How to use it:**\\n    1.  **Find a reference pitch.** The most common reference pitch is A4 (A above middle C), which is 440 Hz. You can find this on a piano, keyboard, or with a tuning fork.\\n    2.  **Tune your 5th string (A) to the reference pitch.** Use the tuning peg to adjust the string until it matches the A4 pitch.\\n    3.  **Tune the other strings relative to the 5th string:**\\n        *   **6th String (E):** Fret the 5th string at the 5th fret. This should sound the same as the open 6th string. Adjust the 6th string until it matches.\\n        *   **4th String (D):** Fret the 5th string at the 5th fret. This should sound the same as the open 4th string. Adjust the 4th string until it matches.\\n        *   **3rd String (G):** Fret the 4th string at the 5th fret. This should sound the same as the open 3rd string. Adjust the 3rd string until it matches.\\n        *   **2nd String (B):** Fret the 3rd string at the 4th fret. This should sound the same as the open 2nd string. Adjust the 2nd string until it matches. *Note the 4th fret here, not the 5th!*\\n        *   **1st String (e):** Fret the 2nd string at the 5th fret. This should sound the same as the open 1st string. Adjust the 1st string until it matches.\\n    4.  **Double-check.** Pluck each string again to make sure they haven\\'t drifted out of tune.\\n\\n*   **Why it\\'s less ideal for beginners:** This method requires a good ear and the ability to accurately match pitches. It\\'s a valuable skill to develop, but it\\'s easier to start with an electronic tuner.\\n\\n**3. Tuning by Ear (Relative Tuning)**\\n\\n*   **What it is:** Tuning the strings relative to each other without using any external reference pitch.\\n*   **How to use it:** This is similar to tuning to a reference pitch, but you\\'re starting with a string that\\'s *close* to being in tune, rather than a known accurate pitch. It\\'s useful if you don\\'t have a tuner or reference pitch available.\\n*   **Why it\\'s not recommended for beginners:** This method is highly dependent on your ear and can easily lead to the guitar being out of tune overall, even if the strings are in tune relative to each other.\\n\\n**Tips for Tuning Your Guitar**\\n\\n*   **Tune *up* to the pitch.** When tuning, try to approach the correct pitch from below (flat). This helps to seat the string properly on the nut and bridge and reduces the chance of it slipping out of tune.\\n*   **Don\\'t over-tighten the strings.** Overtightening can break the strings or damage the guitar.\\n*   **Stretch your strings.** New strings tend to stretch out quickly, causing them to go out of tune frequently. After tuning new strings, gently stretch them by pulling them away from the fretboard a few times. Retune after stretching.\\n*   **Listen carefully.** Pay attention to the sound of the strings as you tune them. The more you practice, the better you\\'ll become at recognizing when a string is in tune.\\n*   **Consider your environment.** Temperature and humidity can affect the tuning of your guitar. If you\\'re playing in a different environment than where you tuned it, you may need to retune.\\n*   **Practice regularly.** The more you tune your guitar, the faster and more accurate you\\'ll become.\\n\\n**Troubleshooting**\\n\\n*   **Strings keep slipping out of tune:** This could be due to new strings, worn-out strings, a poorly cut nut, or problems with the tuning pegs.\\n*   **Tuning pegs are slipping:** This could be due to loose screws on the tuning pegs or worn-out gears.\\n*   **Can\\'t get a string to tune properly:** The string may be broken or damaged. Replace it.\\n\\n**In summary, start with an electronic tuner. It\\'s the easiest and most accurate way to learn to tune your guitar. As you gain experience, you can start to develop your ear and try tuning to a reference pitch or even by ear. Good luck, and happy playing!**\\n\\nDo you have any other questions about tuning, or would you like to explore alternate tunings? Let me know!' additional_kwargs={} response_metadata={'prompt_feedback': {'block_reason': 0, 'safety_ratings': []}, 'finish_reason': 'STOP', 'model_name': 'gemini-2.0-flash', 'safety_ratings': []} id='run--f52d17c3-8269-4ec6-b68b-0a0227e827af-0' usage_metadata={'input_tokens': 76, 'output_tokens': 1792, 'total_tokens': 1868, 'input_token_details': {'cache_read': 0}}\n",
      "--------------------------------------------------\n",
      "Question: What is machine learning?\n",
      "Answer: Category; content='computer science' additional_kwargs={} response_metadata={'prompt_feedback': {'block_reason': 0, 'safety_ratings': []}, 'finish_reason': 'STOP', 'model_name': 'gemini-2.0-flash', 'safety_ratings': []} id='run--e34cd2cf-5b97-4888-832f-3217194e0c69-0' usage_metadata={'input_tokens': 95, 'output_tokens': 3, 'total_tokens': 98, 'input_token_details': {'cache_read': 0}} content=\"Okay, let's break down machine learning. As a computer scientist, I see it as a powerful paradigm shift in how we approach problem-solving with computers. Instead of explicitly programming a computer to perform a specific task, we *train* it to learn from data and make predictions or decisions.\\n\\nHere's a breakdown in imperative steps, followed by a more conceptual explanation:\\n\\n**Imperative Steps (How it Works):**\\n\\n1.  **Gather Data:** Collect a large dataset relevant to the problem you want to solve. This data should ideally be labeled (meaning you know the correct answer for each data point) for supervised learning, or at least have inherent structure for unsupervised learning.\\n\\n2.  **Choose a Model:** Select a suitable machine learning model (algorithm) based on the type of problem (classification, regression, clustering, etc.) and the characteristics of your data. Examples include:\\n    *   **Linear Regression:** For predicting continuous values.\\n    *   **Logistic Regression:** For classification problems (binary or multi-class).\\n    *   **Decision Trees:** For both classification and regression, creating a tree-like structure of decisions.\\n    *   **Support Vector Machines (SVMs):** For classification, finding the optimal hyperplane to separate data.\\n    *   **Neural Networks:** Complex models inspired by the human brain, capable of learning intricate patterns.\\n    *   **K-Means Clustering:** For grouping data points into clusters based on similarity.\\n\\n3.  **Train the Model:** Feed the data into the chosen model. The model adjusts its internal parameters (weights, biases, etc.) to minimize the difference between its predictions and the actual values (in supervised learning) or to discover underlying patterns (in unsupervised learning). This process is often iterative, involving techniques like gradient descent to optimize the model's parameters.\\n\\n4.  **Validate the Model:** Use a separate portion of the data (the validation set) to evaluate the model's performance. This helps to prevent overfitting (where the model learns the training data too well and performs poorly on new data).  Adjust hyperparameters (parameters that control the learning process itself) based on validation performance.\\n\\n5.  **Test the Model:** Once you're satisfied with the model's performance on the validation set, use a final, unseen dataset (the test set) to get an unbiased estimate of its generalization ability.\\n\\n6.  **Deploy and Monitor:** Deploy the trained model into a real-world application. Continuously monitor its performance and retrain it periodically with new data to maintain accuracy and adapt to changing conditions.\\n\\n**Conceptual Explanation:**\\n\\nMachine learning is essentially about enabling computers to learn without being explicitly programmed.  It's a subset of artificial intelligence (AI) that focuses on algorithms that can learn from data.  Instead of writing specific rules for every possible scenario, we provide the algorithm with data and let it discover the rules and patterns itself.\\n\\n**Key Aspects:**\\n\\n*   **Learning from Data:** The core principle is that the algorithm improves its performance based on the data it's exposed to.\\n*   **Algorithms:** Machine learning employs a wide variety of algorithms, each suited for different types of problems and data.\\n*   **Prediction and Decision-Making:** The goal is to build models that can accurately predict future outcomes or make intelligent decisions based on new data.\\n*   **Automation:** Machine learning automates the process of building predictive models, reducing the need for manual rule creation.\\n*   **Adaptability:** Machine learning models can adapt to changing data patterns, making them suitable for dynamic environments.\\n\\n**Why is it important?**\\n\\nMachine learning is revolutionizing many fields because it allows us to:\\n\\n*   **Solve complex problems:** Tackle problems that are too complex for traditional programming approaches.\\n*   **Automate tasks:** Automate tasks that require human intelligence, such as image recognition, natural language processing, and fraud detection.\\n*   **Gain insights:** Discover hidden patterns and insights from large datasets.\\n*   **Personalize experiences:** Tailor products and services to individual users.\\n\\n**Time and Space Complexity Considerations:**\\n\\nWhen choosing a machine learning algorithm, it's crucial to consider its time and space complexity.  Some algorithms, like linear regression, are relatively simple and efficient, while others, like deep neural networks, can be computationally expensive and require significant memory.  The choice depends on the size of the dataset, the complexity of the problem, and the available resources.  Techniques like feature selection, dimensionality reduction, and model compression can be used to improve the efficiency of machine learning models.\\n\\nIn summary, machine learning is a powerful tool that allows computers to learn from data and make predictions or decisions. It's a rapidly evolving field with the potential to transform many aspects of our lives.\" additional_kwargs={} response_metadata={'prompt_feedback': {'block_reason': 0, 'safety_ratings': []}, 'finish_reason': 'STOP', 'model_name': 'gemini-2.0-flash', 'safety_ratings': []} id='run--a23e3367-2ada-4bd8-abc4-5a3b39e21933-0' usage_metadata={'input_tokens': 105, 'output_tokens': 993, 'total_tokens': 1098, 'input_token_details': {'cache_read': 0}}\n",
      "--------------------------------------------------\n",
      "Question: Who is the main character in Naruto?\n",
      "Answer: Category; content='anime' additional_kwargs={} response_metadata={'prompt_feedback': {'block_reason': 0, 'safety_ratings': []}, 'finish_reason': 'STOP', 'model_name': 'gemini-2.0-flash', 'safety_ratings': []} id='run--ade2e059-3f31-47fc-85c3-375510baa059-0' usage_metadata={'input_tokens': 98, 'output_tokens': 2, 'total_tokens': 100, 'input_token_details': {'cache_read': 0}} content=\"Ah, a fantastic question! The main character in Naruto is none other than **Naruto Uzumaki** himself!\\n\\nHe's the boisterous, ramen-loving, knucklehead ninja with a dream to become Hokage, the leader of his village. He starts off as a bit of an outcast, struggling to control the immense power sealed within him, but his unwavering determination and infectious optimism are what drive the entire story forward.\\n\\nNaruto's journey from a lonely, mischievous kid to a powerful and respected ninja is the heart and soul of the series. He's not just the main character; he's the embodiment of the themes of friendship, perseverance, and never giving up on your dreams.\\n\\nWhat do you think of Naruto as a main character? Do you have any favorite moments of his? I'd love to hear your thoughts!\" additional_kwargs={} response_metadata={'prompt_feedback': {'block_reason': 0, 'safety_ratings': []}, 'finish_reason': 'STOP', 'model_name': 'gemini-2.0-flash', 'safety_ratings': []} id='run--0bb4ff9f-7895-4901-823b-814cb7e055cb-0' usage_metadata={'input_tokens': 74, 'output_tokens': 173, 'total_tokens': 247, 'input_token_details': {'cache_read': 0}}\n",
      "--------------------------------------------------\n",
      "Question: What is the meaning of life?\n",
      "Answer: content='Ah, the million-dollar question! The meaning of life is one of those questions that has plagued philosophers, theologians, and individuals for centuries. There\\'s no single, universally accepted answer, and that\\'s kind of the point. The beauty (and sometimes the frustration) lies in the fact that **the meaning of life is often what you make it.**\\n\\nHere\\'s a breakdown of different perspectives and approaches to finding meaning:\\n\\n**1. Philosophical Perspectives:**\\n\\n*   **Nihilism:**  The belief that life is inherently without meaning, purpose, or intrinsic value.  This can be a bleak outlook, but some nihilists find freedom in the absence of pre-defined meaning, allowing them to create their own.\\n*   **Existentialism:**  Emphasizes individual freedom and responsibility.  We are born into a meaningless world, and it\\'s up to us to create our own meaning through our choices and actions.  Key figures include Jean-Paul Sartre and Albert Camus.  Think \"existence precedes essence.\"\\n*   **Absurdism:**  Recognizes the inherent conflict between humanity\\'s desire for meaning and the meaningless universe.  Instead of trying to resolve this conflict, absurdists suggest embracing the absurdity and rebelling against it through living authentically.  Camus\\' \"The Myth of Sisyphus\" is a classic example.\\n*   **Hedonism:**  The pursuit of pleasure and avoidance of pain as the ultimate goal in life.  This can range from simple pleasures to more complex forms of happiness.\\n*   **Utilitarianism:**  Focuses on maximizing happiness and well-being for the greatest number of people.  Meaning is found in contributing to the overall good.\\n*   **Stoicism:**  Emphasizes virtue, reason, and living in accordance with nature.  Finding meaning through self-control, acceptance, and fulfilling one\\'s duty.\\n\\n**2. Religious and Spiritual Perspectives:**\\n\\n*   Many religions offer a pre-defined meaning of life, often centered around serving a higher power, following divine commandments, and achieving salvation or enlightenment.\\n*   Spiritual perspectives, even without organized religion, often involve connecting with something larger than oneself, finding purpose in compassion, and seeking inner peace.\\n\\n**3. Psychological Perspectives:**\\n\\n*   **Purpose:**  Having a clear sense of direction and goals in life.  This can be related to career, relationships, hobbies, or contributing to society.\\n*   **Meaning:**  A sense of coherence, significance, and purpose in one\\'s life.  It\\'s about understanding your place in the world and feeling that your life matters.\\n*   **Positive Psychology:**  Focuses on identifying and cultivating strengths, virtues, and positive emotions to enhance well-being and create a more meaningful life.  Concepts like gratitude, resilience, and flow are important.\\n\\n**4. Practical Approaches to Finding Meaning:**\\n\\n*   **Relationships:**  Connecting with others, building meaningful relationships, and contributing to the well-being of loved ones.\\n*   **Contribution:**  Making a difference in the world, whether through volunteering, activism, or simply helping others.\\n*   **Creativity:**  Expressing yourself through art, music, writing, or other creative pursuits.\\n*   **Learning and Growth:**  Continuously expanding your knowledge, skills, and understanding of the world.\\n*   **Experiences:**  Seeking out new and challenging experiences that broaden your horizons and create lasting memories.\\n*   **Mindfulness:**  Being present in the moment and appreciating the simple things in life.\\n*   **Values:**  Identifying your core values and living in accordance with them.  What\\'s truly important to you?  Integrity, compassion, creativity, security?\\n\\n**In Conclusion:**\\n\\nThe meaning of life isn\\'t a destination, it\\'s a journey. It\\'s something you create and discover through your experiences, relationships, and choices.  It\\'s okay to not have all the answers, and it\\'s okay for your meaning to evolve over time.\\n\\n**Instead of searching for *the* meaning of life, perhaps a more helpful question is: \"What gives *my* life meaning?\"**\\n\\nWhat resonates with you? What makes you feel alive and purposeful? Explore different perspectives, experiment with different activities, and see what brings you a sense of meaning and fulfillment. Good luck on your quest!' additional_kwargs={} response_metadata={'prompt_feedback': {'block_reason': 0, 'safety_ratings': []}, 'finish_reason': 'STOP', 'model_name': 'gemini-2.0-flash', 'safety_ratings': []} id='run--534e6b4a-1e83-4096-910d-65426366edb9-0' usage_metadata={'input_tokens': 7, 'output_tokens': 914, 'total_tokens': 921, 'input_token_details': {'cache_read': 0}}\n",
      "--------------------------------------------------\n"
     ]
    }
   ],
   "source": [
    "from langchain_core.runnables import RunnableLambda\n",
    "\n",
    "def route_to_chain(data):\n",
    "    input_text = data[\"input\"]\n",
    "    category = data[\"category\"].content.strip().lower()\n",
    "    \n",
    "    if category in semantic_chains:\n",
    "        return semantic_chains[category].invoke(input_text)\n",
    "    else:\n",
    "        return chat_gemini.invoke(input_text)\n",
    "\n",
    "smart_assistant_chain = (\n",
    "    RunnablePassthrough.assign(\n",
    "        category=lambda x: selector_chain.invoke(x[\"input\"])\n",
    "    ) |\n",
    "    RunnableLambda(route_to_chain)\n",
    ")\n",
    "\n",
    "# Test the smart assistant\n",
    "test_questions = [\n",
    "    \"What is the best bait for catching bass?\",\n",
    "    \"How do I tune my guitar?\", \n",
    "    \"What is machine learning?\",\n",
    "    \"Who is the main character in Naruto?\",\n",
    "    \"What is the meaning of life?\"\n",
    "]\n",
    "\n",
    "for question in test_questions:\n",
    "    print(f\"Question: {question}\")\n",
    "    print(f\"Answer: {smart_assistant_chain.invoke({'input': question})}\")\n",
    "    print(\"-\" * 50)\n",
    "\n",
    "\n"
   ]
  },
  {
   "cell_type": "code",
   "execution_count": null,
   "id": "88e26d3c",
   "metadata": {},
   "outputs": [],
   "source": [
    "# Stores\n",
    "from langchain.vectorstores import DocArrayInMemorySearch\n",
    "# Retrievers\n",
    "from langchain.indexes import VectorstoreIndexCreator\n",
    "\n",
    "# Loaders\n",
    "from langchain.document_loaders import CSVLoader"
   ]
  },
  {
   "cell_type": "code",
   "execution_count": 85,
   "id": "69e61072",
   "metadata": {},
   "outputs": [],
   "source": [
    "file = 'data/dataset.csv'\n",
    "loader = CSVLoader(file_path=file)"
   ]
  },
  {
   "cell_type": "code",
   "execution_count": 92,
   "id": "7ece921c",
   "metadata": {},
   "outputs": [
    {
     "name": "stderr",
     "output_type": "stream",
     "text": [
      "/home/gianluca/Teaching/woa-2025-intro-to-langchain/.venv/lib/python3.13/site-packages/docarray/helper.py:255: SyntaxWarning: invalid escape sequence '\\*'\n",
      "  e.g. '\\*.py', '[\\*.zip, \\*.gz]'\n",
      "/home/gianluca/Teaching/woa-2025-intro-to-langchain/.venv/lib/python3.13/site-packages/pydantic/_migration.py:283: UserWarning: `pydantic.error_wrappers:ValidationError` has been moved to `pydantic:ValidationError`.\n",
      "  warnings.warn(f'`{import_path}` has been moved to `{new_location}`.')\n"
     ]
    }
   ],
   "source": [
    "index = VectorstoreIndexCreator(embedding=google_embeddings, vectorstore_cls=DocArrayInMemorySearch).from_loaders(loaders=[loader])"
   ]
  },
  {
   "cell_type": "code",
   "execution_count": 96,
   "id": "f3ba6aa2",
   "metadata": {},
   "outputs": [
    {
     "data": {
      "text/plain": [
       "[Document(metadata={'source': 'data/dataset.csv', 'row': 124}, page_content=\"Topic;Question;Answer: Guitar;What is 'alternate picking'?;A picking technique that involves a continuous down-up-down-up motion.\")]"
      ]
     },
     "execution_count": 96,
     "metadata": {},
     "output_type": "execute_result"
    }
   ],
   "source": [
    "index.vectorstore.search(\"What is the best way to catch a fish?\", search_type=\"similarity\", k=1)"
   ]
  }
 ],
 "metadata": {
  "kernelspec": {
   "display_name": "Python 3 (ipykernel)",
   "language": "python",
   "name": "python3"
  },
  "language_info": {
   "codemirror_mode": {
    "name": "ipython",
    "version": 3
   },
   "file_extension": ".py",
   "mimetype": "text/x-python",
   "name": "python",
   "nbconvert_exporter": "python",
   "pygments_lexer": "ipython3",
   "version": "3.13.3+"
  },
  "rise": {
   "center": true,
   "theme": "white"
  }
 },
 "nbformat": 4,
 "nbformat_minor": 5
}
