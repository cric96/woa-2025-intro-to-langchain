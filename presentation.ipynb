{
 "cells": [
  {
   "cell_type": "markdown",
   "id": "cd38e076ba1efc24",
   "metadata": {
    "editable": true,
    "slideshow": {
     "slide_type": "slide"
    },
    "tags": []
   },
   "source": [
    "# Developing Autonomous Agents in Practice with LangChain\n",
    "\n",
    "---\n",
    "\n",
    "**Speaker:** Gianluca Aguzzi  \n",
    "**Email:** gianluca.aguzzi@unibo.it  \n",
    "**GitHub:** [cric96](https://github.com/cric96)\n",
    "\n"
   ]
  },
  {
   "cell_type": "markdown",
   "id": "ee90dd408fcb97d3",
   "metadata": {
    "editable": true,
    "slideshow": {
     "slide_type": "slide"
    },
    "tags": []
   },
   "source": [
    "## About Me\n",
    "<div style=\"display: flex; align-items: center; gap: 30px;\">\n",
    "\n",
    "<div style=\"flex-shrink: 0;\">\n",
    "    <img src=\"data/myself.jpeg\" alt=\"Gianluca Aguzzi\" style=\"border-radius: 50%; height: 150px; object-fit: cover;\">\n",
    "</div>\n",
    "<div style=\"flex: 1;\">\n",
    "\n",
    "### Gianluca Aguzzi\n",
    "\n",
    "- 🎓 _Postdoctoral Researcher_ at the University of Bologna\n",
    "- 🔬 Research Interests:\n",
    "    - Engineering *Large Scale* Distributed Systems\n",
    "    - Software Engineering 3.0 (*LLMs*, AI-assisted development)\n",
    "    - Application of AI in software engineering practices\n",
    "\n",
    "</div>\n",
    "</div>"
   ]
  },
  {
   "cell_type": "markdown",
   "id": "2e13bcdc",
   "metadata": {
    "editable": true,
    "slideshow": {
     "slide_type": "fragment"
    },
    "tags": []
   },
   "source": [
    "Ok, let's dive into LangChain and discover how to build applications with LLMs! 😊"
   ]
  },
  {
   "cell_type": "markdown",
   "id": "d272ff1a",
   "metadata": {
    "editable": true,
    "slideshow": {
     "slide_type": "slide"
    },
    "tags": []
   },
   "source": [
    "## Autonomous Agents\n",
    "> **Autonomous agents** are <u>software entities</u> that can perform *tasks* or make decisions **without human intervention**.\n",
    "\n",
    "\n",
    "- **Autonomous?**\n",
    "    - Operate *independently*, making decisions based on their *programming* and *learned* experiences (via environment interactions).\n",
    "- This is a **long-standing research topic in AI**\n",
    "- Recently, **LLMs** have been used to create agents (perhaps not completely autonomous)\n",
    "- **How can LLMs be conceived as _agents_?**"
   ]
  },
  {
   "cell_type": "markdown",
   "id": "041b801e-d731-4dec-b53f-01804a24bc0a",
   "metadata": {
    "editable": true,
    "slideshow": {
     "slide_type": "subslide"
    },
    "tags": []
   },
   "source": [
    "## LLM - In a Nutshell\n",
    "> A **Language Model** is a Machine Learning model which is able to **understand and generate human language**\n",
    "\n",
    "- **How does it work internally?**\n",
    "    - Long story, please look at:\n",
    "    - ... But in a nutshell, it takes a sentence and tries to **predict the next token**\n",
    "- **Only that?**\n",
    "    - Yes (more or less), an LM has **no _memory_**, **no _environment interaction_**, or anything else\n",
    "- ... But we can **instrument these models to use external tools** (or to be **chained** with each other) to make them **powerful agents**! 😊\n"
   ]
  },
  {
   "cell_type": "markdown",
   "id": "ebcedd50",
   "metadata": {
    "editable": true,
    "slideshow": {
     "slide_type": "subslide"
    },
    "tags": []
   },
   "source": [
    "## LLMs Panorama: How to Use Them? 🌐🤖\n",
    "\n",
    "Access LLMs through various providers and models:\n",
    "- **API Providers**: \n",
    "    - OpenAI, Anthropic, Google, etc.\n",
    "- **Open Source Models** (HuggingFace): \n",
    "    - Llama 2, Falcon, Mistral, etc.\n",
    "\n",
    "- **Goals**:\n",
    "    - Seamlessly switch between providers. 🔄\n",
    "    - Flexibly use different models. 🛠️\n",
    "    - Integrate multiple providers for diverse use cases. 🌈\n"
   ]
  },
  {
   "cell_type": "markdown",
   "id": "5fc71742",
   "metadata": {
    "editable": true,
    "slideshow": {
     "slide_type": "subslide"
    },
    "tags": []
   },
   "source": [
    "## LLM Applications: How to Build Them? \n",
    "- Challenges in Building Applications with LLMs:\n",
    "    - **Input Parsing**: How to effectively process user inputs? \n",
    "    - **Output Formatting**: How to structure responses for clarity and usability? \n",
    "    - **Error Handling**: How to manage unexpected behaviors or failures? \n",
    "    - **Conversation Management**: How to maintain context in multi-turn interactions? \n",
    "    - **External Data Integration**: How to connect with databases, APIs, or other data sources? \n",
    "    - **Workflow Orchestration**: How to seamlessly integrate multiple steps or components? \n"
   ]
  },
  {
   "cell_type": "markdown",
   "id": "f1c59b24",
   "metadata": {
    "editable": true,
    "slideshow": {
     "slide_type": "fragment"
    },
    "tags": []
   },
   "source": [
    "**Solution**: This is where **LangChain** excels! "
   ]
  },
  {
   "cell_type": "markdown",
   "id": "cb9417c7",
   "metadata": {
    "editable": true,
    "slideshow": {
     "slide_type": "slide"
    },
    "tags": []
   },
   "source": [
    "## LangChain - Overview \n",
    "> **The** platform for reliable agents\n",
    "\n",
    "<p align=\"center\">\n",
    "    <img src=\"data/base.png\" alt=\"LangChain Overview\" style=\"display: block; margin: 0 auto; width: 50%;\">\n",
    "</p>\n",
    "\n",
    "<p align=\"center\">\n",
    "    <a href=\"https://www.langchain.com/\" target=\"_blank\" style=\"font-size:1.3em; font-weight:bold; text-decoration:none;\">\n",
    "        🌐 Visit the LangChain Website &rarr; langchain.com\n",
    "    </a>\n",
    "</p>\n"
   ]
  },
  {
   "cell_type": "markdown",
   "id": "37d99162",
   "metadata": {
    "editable": true,
    "slideshow": {
     "slide_type": "slide"
    },
    "tags": []
   },
   "source": [
    "## LangChain - Models\n",
    "\n",
    "**LangChain provides a _unified interface_ for interacting with a wide range of Large Language Models (LLMs):**\n",
    "\n",
    "- **Supports major providers** such as **OpenAI**, **Anthropic**, **Google**, and a variety of open-source models from **HuggingFace**.\n",
    "- **Enables seamless integration** of different LLMs within a single application.\n",
    "- **Includes support for embeddings**, which are essential for tasks like semantic search, text similarity, and information retrieval.\n",
    "\n",
    "<p align=\"center\">\n",
    "    <img src=\"data/models.png\" alt=\"LangChain Overview\" style=\"display: block; margin: 0 auto; width: 50%;\">\n",
    "</p>"
   ]
  },
  {
   "cell_type": "markdown",
   "id": "c8d465ca",
   "metadata": {
    "editable": true,
    "slideshow": {
     "slide_type": "subslide"
    },
    "tags": []
   },
   "source": [
    "### LLMs providers\n",
    "- An LLM is essentially a **function** that takes a string as input and returns a string as output.\n",
    "- The main method to interact with an LLM is the `invoke` method:\n",
    "- This provides a **uniform interface** to interact with LLMs, regardless of the provider or model used.\n",
    "\n",
    "<p align=\"center\">\n",
    "    <img src=\"data/invoke.png\" alt=\"Base Api\" style=\"display: block; margin: 0 auto; width: 50%;\">\n",
    "</p>\n"
   ]
  },
  {
   "cell_type": "markdown",
   "id": "1d669ee3",
   "metadata": {
    "editable": true,
    "slideshow": {
     "slide_type": "subslide"
    },
    "tags": []
   },
   "source": [
    "### Ollama\n",
    "Is a local LLM provider that allows you to run models on your own machine.\n",
    "See [Ollama](https://ollama.com/) for more details.\n"
   ]
  },
  {
   "cell_type": "code",
   "execution_count": 1,
   "id": "fe682816",
   "metadata": {
    "ExecuteTime": {
     "end_time": "2025-06-26T16:27:07.847272Z",
     "start_time": "2025-06-26T16:27:07.539408Z"
    },
    "editable": true,
    "slideshow": {
     "slide_type": ""
    },
    "tags": []
   },
   "outputs": [
    {
     "data": {
      "text/plain": [
       "'Machine learning is a branch of artificial intelligence that allows computers to learn from data without being explicitly programmed. It involves using algorithms and statistical models to make predictions or decisions based on patterns found in the input data, improving as it processes more examples.'"
      ]
     },
     "execution_count": 1,
     "metadata": {},
     "output_type": "execute_result"
    }
   ],
   "source": [
    "# import langchain gemini and ollama\n",
    "from langchain_ollama.llms import OllamaLLM\n",
    "qwen = OllamaLLM(model=\"qwen2.5:1.5b\")\n",
    "# Example query\n",
    "qwen.invoke(\"Explain machine learning in simple terms (max 50 words)\")  \n"
   ]
  },
  {
   "cell_type": "markdown",
   "id": "daefb0de",
   "metadata": {
    "editable": true,
    "slideshow": {
     "slide_type": "subslide"
    },
    "tags": []
   },
   "source": [
    "### Gemini\n",
    "- **Gemini** is a chat-oriented language model developed by Google.\n",
    "- Designed for multi-turn conversations and advanced dialogue management.\n",
    "- Suitable for tasks requiring context retention and conversational flow.\n",
    "- For usage details, refer to [Google AI Studio](https://aistudio.google.com/prompts/new_chat)."
   ]
  },
  {
   "cell_type": "code",
   "execution_count": 2,
   "id": "9656ee85b1327641",
   "metadata": {
    "ExecuteTime": {
     "end_time": "2025-06-26T16:27:10.537385Z",
     "start_time": "2025-06-26T16:27:09.705128Z"
    },
    "editable": true,
    "slideshow": {
     "slide_type": ""
    },
    "tags": []
   },
   "outputs": [
    {
     "data": {
      "text/plain": [
       "'Machine learning teaches computers to learn from data without explicit programming. It identifies patterns and makes predictions or decisions based on that data, improving its accuracy over time.'"
      ]
     },
     "execution_count": 2,
     "metadata": {},
     "output_type": "execute_result"
    }
   ],
   "source": [
    "# Same for gemini\n",
    "from dotenv import load_dotenv # used to load environment variables\n",
    "load_dotenv()  # Load environment variables from .env file\n",
    "from langchain_google_genai import GoogleGenerativeAI\n",
    "gemini = GoogleGenerativeAI(model=\"gemini-2.0-flash\", temperature=0.0)\n",
    "gemini.invoke(\"Explain machine learning in simple terms (max 50 words)\")  # Example query"
   ]
  },
  {
   "cell_type": "markdown",
   "id": "5864066a-eee5-4343-887e-a1b5dd675fc4",
   "metadata": {
    "editable": true,
    "jp-MarkdownHeadingCollapsed": true,
    "slideshow": {
     "slide_type": "subslide"
    },
    "tags": []
   },
   "source": [
    "### Base Language Model\n",
    "<p align=\"center\">\n",
    "        <img src=\"data/base-structure.png\" alt=\"Structure\" style=\"display: block; margin: 0 auto; width: 30%;\">\n",
    "</p>\n"
   ]
  },
  {
   "cell_type": "code",
   "execution_count": 3,
   "id": "5f452d638eea2977",
   "metadata": {
    "ExecuteTime": {
     "end_time": "2025-06-26T16:27:12.189893Z",
     "start_time": "2025-06-26T16:27:12.183649Z"
    },
    "editable": true,
    "slideshow": {
     "slide_type": "fragment"
    },
    "tags": []
   },
   "outputs": [],
   "source": [
    "from langchain_core.language_models.base import BaseLanguageModel\n",
    "\n",
    "def explain_topic(llm: BaseLanguageModel, topic: str) -> str:\n",
    "    \"\"\" A general explain topic functionality base on an LLM\"\"\"\n",
    "    query = f\"Explain {topic} in simple terms? (max 50 words)\"\n",
    "    response = llm.invoke(query)\n",
    "    return response"
   ]
  },
  {
   "cell_type": "code",
   "execution_count": 4,
   "id": "4f6604071eb2996f",
   "metadata": {
    "ExecuteTime": {
     "end_time": "2025-06-26T16:27:15.433576Z",
     "start_time": "2025-06-26T16:27:13.721173Z"
    }
   },
   "outputs": [
    {
     "data": {
      "text/plain": [
       "(\"London is the capital of England and the United Kingdom. It's a huge, diverse city with a rich history, famous landmarks like Big Ben and Buckingham Palace, and a vibrant cultural scene. It's a global hub for finance, fashion, and the arts.\",\n",
       " \"London is the capital city of England and the United Kingdom. It's known for its historic landmarks like Big Ben and Buckingham Palace, modern skyscrapers, and vibrant culture including music, theater, and art. The city has a rich history dating back centuries with contributions to technology, literature, and politics.\")"
      ]
     },
     "execution_count": 4,
     "metadata": {},
     "output_type": "execute_result"
    }
   ],
   "source": [
    "explain_topic(gemini, \"London\"), explain_topic(qwen, \"London\")"
   ]
  },
  {
   "cell_type": "markdown",
   "id": "51ab3f7a",
   "metadata": {
    "editable": true,
    "slideshow": {
     "slide_type": "subslide"
    },
    "tags": []
   },
   "source": [
    "### Chat Models\n",
    "- **Normal LLMs** are seen as simple __stateless__ functions.\n",
    "- **Chat models** are more advanced: they can handle **conversations** with multiple turns.\n",
    "- **How?**\n",
    "    - They use a **list of messages** as input, where each message has a role (**user**, **assistant**, **system**, etc.).\n",
    "- The `invoke` method is used to send a list of messages to the model and get a response.\n",
    "- **Note:**  \n",
    "    - Even for chat models, the model itself is **stateless**: the conversation history is **not stored by the model**—it's up to the user (or application) to manage and provide the history.\n",
    "\n",
    "<p align=\"center\">\n",
    "    <img src=\"data/overview-chat-models.png\" alt=\"Structure\" style=\"display: block; margin: 0 auto; width: 50%;\">\n",
    "</p>\n",
    "\n"
   ]
  },
  {
   "cell_type": "markdown",
   "id": "3a1b5dbf",
   "metadata": {
    "editable": true,
    "slideshow": {
     "slide_type": "subslide"
    },
    "tags": []
   },
   "source": [
    "### Chat Models vs BaseModel\n",
    "| Aspect                   | Base Model           | Chat Model                  |\n",
    "| ------------------------ | -------------------- | --------------------------- |\n",
    "| **Input**                | Plain text prompt    | List of structured messages |\n",
    "| **Designed for**         | One-shot completions | Multi-turn conversations    |\n",
    "| **Output**               | Text completion      | Message object              |\n",
    "| **Classes in LangChain** | `BaseLanguageModel`                | `BaseChatModel`                 |\n"
   ]
  },
  {
   "cell_type": "code",
   "execution_count": 5,
   "id": "daf19ec2",
   "metadata": {
    "editable": true,
    "slideshow": {
     "slide_type": ""
    },
    "tags": []
   },
   "outputs": [
    {
     "data": {
      "text/plain": [
       "AIMessage(content='Imagine you\\'re teaching a dog a new trick, like \"fetch.\" You don\\'t tell the dog exactly how to run, grab the ball, and bring it back. Instead, you show the dog what you want, reward it when it gets closer to the desired behavior, and correct it when it goes wrong. Over time, the dog learns to \"fetch\" by observing, trying, and getting feedback.\\n\\n**Machine learning is similar!**\\n\\nInstead of a dog, we have a computer. Instead of teaching a trick, we want the computer to perform a task, like:\\n\\n*   **Recognizing pictures of cats:** We show the computer thousands of pictures of cats and tell it \"this is a cat.\"\\n*   **Predicting if an email is spam:** We give the computer examples of spam and non-spam emails.\\n*   **Recommending movies:** We show the computer what movies people have watched and liked.\\n\\n**Here\\'s the breakdown:**\\n\\n1.  **Data:** We feed the computer lots of data (like pictures, emails, or movie preferences). This is like showing the dog what \"fetch\" looks like.\\n2.  **Algorithm:** We use a special set of instructions (an algorithm) that allows the computer to learn from the data. This is like the dog\\'s brain trying to figure out what you want.\\n3.  **Learning:** The computer analyzes the data and tries to find patterns and relationships. It adjusts its internal \"settings\" to get better at the task. This is like the dog trying different approaches to \"fetch\" and learning what works.\\n4.  **Prediction/Action:** Once the computer has learned, it can use its knowledge to make predictions or take actions on new, unseen data. This is like the dog successfully fetching the ball.\\n5.  **Feedback/Evaluation:** We check how well the computer is doing and give it feedback. This helps it improve its accuracy over time. This is like rewarding the dog when it gets closer to the desired behavior.\\n\\n**In essence, machine learning is about:**\\n\\n*   **Giving computers the ability to learn from data without being explicitly programmed.**\\n*   **Enabling computers to make predictions or decisions based on that learning.**\\n\\n**Think of it like teaching a computer to recognize patterns and make smart guesses based on those patterns.**\\n\\n**Key takeaway:** Machine learning is about teaching computers to learn from data, just like you teach a dog a new trick!', additional_kwargs={}, response_metadata={'prompt_feedback': {'block_reason': 0, 'safety_ratings': []}, 'finish_reason': 'STOP', 'model_name': 'gemini-2.0-flash', 'safety_ratings': []}, id='run--75139518-41e5-4024-854c-2554c3bdc176-0', usage_metadata={'input_tokens': 6, 'output_tokens': 513, 'total_tokens': 519, 'input_token_details': {'cache_read': 0}})"
      ]
     },
     "execution_count": 5,
     "metadata": {},
     "output_type": "execute_result"
    }
   ],
   "source": [
    "# Chat models\n",
    "from langchain_google_genai import ChatGoogleGenerativeAI\n",
    "chat_gemini = ChatGoogleGenerativeAI(model=\"gemini-2.0-flash\", temperature=0.0)\n",
    "chat_gemini.invoke(\"Explain machine learning in simple terms\")  # Example query"
   ]
  },
  {
   "cell_type": "markdown",
   "id": "a23f0e27",
   "metadata": {
    "editable": true,
    "slideshow": {
     "slide_type": "subslide"
    },
    "tags": []
   },
   "source": [
    "### Embeddings\n",
    "\n",
    "- **Embeddings** are numerical representations of text that capture semantic meaning.\n",
    "- They are specialized language models designed to represent text as vectors, rather than generate text.\n",
    "- Embeddings are used for various purposes, such as **augmenting LLM context**, **semantic search**, **clustering**, and similarity analysis.\n",
    "\n",
    "<p align=\"center\">\n",
    "    <img src=\"data/embeddings.png\" alt=\"Structure\" style=\"display: block; margin: 0 auto; width: 50%;\">\n",
    "</p>"
   ]
  },
  {
   "cell_type": "markdown",
   "id": "05d23ca6",
   "metadata": {
    "editable": true,
    "slideshow": {
     "slide_type": "subslide"
    },
    "tags": []
   },
   "source": [
    "### Embeddings - Semantics\n",
    "- **What does it mean to _capture semantics_?**\n",
    "- In the context of **embeddings**, *semantics* refers to the **meaning** and **relationships** between words or phrases.\n",
    "- As illustrated in the image below, **words with similar meanings are positioned close to each other** in the vector space.\n",
    "- By applying **distance** or **similarity measures**, we can identify words or texts that are *semantically related*.\n",
    "\n",
    "<p align=\"center\">\n",
    "    <img src=\"data/embeddings-semantics.png\" alt=\"Structure\"  style=\"display: block; margin: 0 auto; width: 50%;\">\n",
    "</p>"
   ]
  },
  {
   "cell_type": "code",
   "execution_count": 6,
   "id": "337dca05b8d0fdc7",
   "metadata": {
    "editable": true,
    "slideshow": {
     "slide_type": "fragment"
    },
    "tags": []
   },
   "outputs": [
    {
     "data": {
      "text/plain": [
       "[-0.024339474737644196,\n",
       " 0.019421163946390152,\n",
       " -0.005040269810706377,\n",
       " -0.021117379888892174,\n",
       " -0.030608780682086945]"
      ]
     },
     "execution_count": 6,
     "metadata": {},
     "output_type": "execute_result"
    }
   ],
   "source": [
    "# Embedings\n",
    "from langchain_google_genai.embeddings import GoogleGenerativeAIEmbeddings\n",
    "\n",
    "google_embeddings = GoogleGenerativeAIEmbeddings(model=\"models/text-embedding-004\")\n",
    "google_embeddings.embed_query(\"What is the weather like in London?\")[:5]"
   ]
  },
  {
   "cell_type": "markdown",
   "id": "3450ea86",
   "metadata": {
    "editable": true,
    "slideshow": {
     "slide_type": "subslide"
    },
    "tags": []
   },
   "source": [
    "### Embeddings - Visual Example of Semantic Similarity\n",
    "\n",
    "- The dataset contains a list of questions and answers on **three distinct topics**.\n",
    "- For each question and answer, we compute the corresponding **embeddings**.\n",
    "- We then use **PCA** to project the embeddings into two dimensions and **visualize** whether clusters emerge.\n"
   ]
  },
  {
   "cell_type": "code",
   "execution_count": 7,
   "id": "71cbb3c7",
   "metadata": {
    "editable": true,
    "slideshow": {
     "slide_type": "fragment"
    },
    "tags": []
   },
   "outputs": [
    {
     "data": {
      "text/html": [
       "<div>\n",
       "<style scoped>\n",
       "    .dataframe tbody tr th:only-of-type {\n",
       "        vertical-align: middle;\n",
       "    }\n",
       "\n",
       "    .dataframe tbody tr th {\n",
       "        vertical-align: top;\n",
       "    }\n",
       "\n",
       "    .dataframe thead th {\n",
       "        text-align: right;\n",
       "    }\n",
       "</style>\n",
       "<table border=\"1\" class=\"dataframe\">\n",
       "  <thead>\n",
       "    <tr style=\"text-align: right;\">\n",
       "      <th></th>\n",
       "      <th>Topic</th>\n",
       "      <th>Question</th>\n",
       "      <th>Answer</th>\n",
       "    </tr>\n",
       "  </thead>\n",
       "  <tbody>\n",
       "    <tr>\n",
       "      <th>0</th>\n",
       "      <td>Naruto</td>\n",
       "      <td>Who is the main protagonist of the series?</td>\n",
       "      <td>Naruto Uzumaki</td>\n",
       "    </tr>\n",
       "    <tr>\n",
       "      <th>1</th>\n",
       "      <td>Naruto</td>\n",
       "      <td>What is the name of Naruto's signature ninja t...</td>\n",
       "      <td>Rasengan</td>\n",
       "    </tr>\n",
       "    <tr>\n",
       "      <th>2</th>\n",
       "      <td>Naruto</td>\n",
       "      <td>Which village does Naruto belong to?</td>\n",
       "      <td>Konohagakure (The Village Hidden in the Leaves)</td>\n",
       "    </tr>\n",
       "    <tr>\n",
       "      <th>3</th>\n",
       "      <td>Naruto</td>\n",
       "      <td>Who are the other two members of Naruto's orig...</td>\n",
       "      <td>Sasuke Uchiha and Sakura Haruno</td>\n",
       "    </tr>\n",
       "    <tr>\n",
       "      <th>4</th>\n",
       "      <td>Naruto</td>\n",
       "      <td>Who is the sensei (teacher) of Team 7?</td>\n",
       "      <td>Kakashi Hatake</td>\n",
       "    </tr>\n",
       "  </tbody>\n",
       "</table>\n",
       "</div>"
      ],
      "text/plain": [
       "    Topic                                           Question  \\\n",
       "0  Naruto         Who is the main protagonist of the series?   \n",
       "1  Naruto  What is the name of Naruto's signature ninja t...   \n",
       "2  Naruto               Which village does Naruto belong to?   \n",
       "3  Naruto  Who are the other two members of Naruto's orig...   \n",
       "4  Naruto             Who is the sensei (teacher) of Team 7?   \n",
       "\n",
       "                                            Answer  \n",
       "0                                   Naruto Uzumaki  \n",
       "1                                         Rasengan  \n",
       "2  Konohagakure (The Village Hidden in the Leaves)  \n",
       "3                  Sasuke Uchiha and Sakura Haruno  \n",
       "4                                   Kakashi Hatake  "
      ]
     },
     "execution_count": 7,
     "metadata": {},
     "output_type": "execute_result"
    }
   ],
   "source": [
    "import pandas as pd\n",
    "df = pd.read_csv(\"data/dataset.csv\", delimiter=\";\")  # Example of reading a CSV file with pandas\n",
    "df.head()"
   ]
  },
  {
   "cell_type": "code",
   "execution_count": 8,
   "id": "2fc96154",
   "metadata": {
    "editable": true,
    "slideshow": {
     "slide_type": "subslide"
    },
    "tags": []
   },
   "outputs": [
    {
     "data": {
      "text/html": [
       "<div>\n",
       "<style scoped>\n",
       "    .dataframe tbody tr th:only-of-type {\n",
       "        vertical-align: middle;\n",
       "    }\n",
       "\n",
       "    .dataframe tbody tr th {\n",
       "        vertical-align: top;\n",
       "    }\n",
       "\n",
       "    .dataframe thead th {\n",
       "        text-align: right;\n",
       "    }\n",
       "</style>\n",
       "<table border=\"1\" class=\"dataframe\">\n",
       "  <thead>\n",
       "    <tr style=\"text-align: right;\">\n",
       "      <th></th>\n",
       "      <th>Topic</th>\n",
       "      <th>Question</th>\n",
       "      <th>Answer</th>\n",
       "      <th>embeddings</th>\n",
       "    </tr>\n",
       "  </thead>\n",
       "  <tbody>\n",
       "    <tr>\n",
       "      <th>0</th>\n",
       "      <td>Naruto</td>\n",
       "      <td>Who is the main protagonist of the series?</td>\n",
       "      <td>Naruto Uzumaki</td>\n",
       "      <td>[-0.06318295747041702, -0.025433462113142014, ...</td>\n",
       "    </tr>\n",
       "    <tr>\n",
       "      <th>1</th>\n",
       "      <td>Naruto</td>\n",
       "      <td>What is the name of Naruto's signature ninja t...</td>\n",
       "      <td>Rasengan</td>\n",
       "      <td>[-0.016836581751704216, -0.02863299660384655, ...</td>\n",
       "    </tr>\n",
       "    <tr>\n",
       "      <th>2</th>\n",
       "      <td>Naruto</td>\n",
       "      <td>Which village does Naruto belong to?</td>\n",
       "      <td>Konohagakure (The Village Hidden in the Leaves)</td>\n",
       "      <td>[-0.05141858384013176, 0.014148241840302944, 0...</td>\n",
       "    </tr>\n",
       "    <tr>\n",
       "      <th>3</th>\n",
       "      <td>Naruto</td>\n",
       "      <td>Who are the other two members of Naruto's orig...</td>\n",
       "      <td>Sasuke Uchiha and Sakura Haruno</td>\n",
       "      <td>[-0.0174933560192585, -0.008309093303978443, 0...</td>\n",
       "    </tr>\n",
       "    <tr>\n",
       "      <th>4</th>\n",
       "      <td>Naruto</td>\n",
       "      <td>Who is the sensei (teacher) of Team 7?</td>\n",
       "      <td>Kakashi Hatake</td>\n",
       "      <td>[-0.0031194821931421757, -0.05045430734753609,...</td>\n",
       "    </tr>\n",
       "  </tbody>\n",
       "</table>\n",
       "</div>"
      ],
      "text/plain": [
       "    Topic                                           Question  \\\n",
       "0  Naruto         Who is the main protagonist of the series?   \n",
       "1  Naruto  What is the name of Naruto's signature ninja t...   \n",
       "2  Naruto               Which village does Naruto belong to?   \n",
       "3  Naruto  Who are the other two members of Naruto's orig...   \n",
       "4  Naruto             Who is the sensei (teacher) of Team 7?   \n",
       "\n",
       "                                            Answer  \\\n",
       "0                                   Naruto Uzumaki   \n",
       "1                                         Rasengan   \n",
       "2  Konohagakure (The Village Hidden in the Leaves)   \n",
       "3                  Sasuke Uchiha and Sakura Haruno   \n",
       "4                                   Kakashi Hatake   \n",
       "\n",
       "                                          embeddings  \n",
       "0  [-0.06318295747041702, -0.025433462113142014, ...  \n",
       "1  [-0.016836581751704216, -0.02863299660384655, ...  \n",
       "2  [-0.05141858384013176, 0.014148241840302944, 0...  \n",
       "3  [-0.0174933560192585, -0.008309093303978443, 0...  \n",
       "4  [-0.0031194821931421757, -0.05045430734753609,...  "
      ]
     },
     "execution_count": 8,
     "metadata": {},
     "output_type": "execute_result"
    }
   ],
   "source": [
    "# We add embedding to the pandas dataframe\n",
    "from langchain_core.embeddings import Embeddings\n",
    "def embed_row(row: pd.Series, embeddings: Embeddings) -> list:\n",
    "    adapt  = row[\"Question\"] + \" \" + row[\"Answer\"]\n",
    "    return embeddings.embed_query(adapt)\n",
    "\n",
    "df[\"embeddings\"] = df.apply(lambda row: embed_row(row, google_embeddings), axis=1)\n",
    "df.head()  # Display the first few rows of the DataFrame with embeddings"
   ]
  },
  {
   "cell_type": "code",
   "execution_count": 23,
   "id": "f1a6b654",
   "metadata": {
    "editable": true,
    "slideshow": {
     "slide_type": "subslide"
    },
    "tags": []
   },
   "outputs": [
    {
     "data": {
      "image/png": "[encoded data removed]",
      "text/plain": [
       "<Figure size 640x480 with 1 Axes>"
      ]
     },
     "metadata": {},
     "output_type": "display_data"
    }
   ],
   "source": [
    "# PCA + rendering \n",
    "from sklearn.decomposition import PCA\n",
    "import matplotlib.pyplot as plt\n",
    "\n",
    "pca = PCA(n_components=2)\n",
    "pca_result = pca.fit_transform(list(df[\"embeddings\"]))\n",
    "\n",
    "plt.scatter(pca_result[:, 0], pca_result[:, 1], alpha=0.5)\n",
    "plt.show()"
   ]
  },
  {
   "cell_type": "markdown",
   "id": "ccd072b5",
   "metadata": {
    "editable": true,
    "slideshow": {
     "slide_type": "slide"
    },
    "tags": []
   },
   "source": [
    "## Prompts\n",
    "- **Definition:** A **prompt** is a structured input that **guides** the LLM to generate the desired output.\n",
    "- **Prompts are essential** for controlling the behavior of the LLM and ensuring it produces **relevant** and **accurate** responses.\n",
    "- **LangChain** provides a **flexible** way to define prompts, allowing you to create **templates** that can be filled with dynamic data.\n",
    "\n",
    "<p align=\"center\">\n",
    "    <img src=\"data/prompts.png\" alt=\"Prompt Engineering in LangChain\"  style=\"display: block; margin: 0 auto; width: 50%;\">\n",
    "</p>"
   ]
  },
  {
   "cell_type": "markdown",
   "id": "8bca2b32",
   "metadata": {
    "editable": true,
    "slideshow": {
     "slide_type": "subslide"
    },
    "tags": []
   },
   "source": [
    "### Prompts - Pratical Example\n",
    "A prompt is a text with some `holes` (template) that can be filled with dynamic data."
   ]
  },
  {
   "cell_type": "code",
   "execution_count": 10,
   "id": "5dc4c415",
   "metadata": {
    "editable": true,
    "slideshow": {
     "slide_type": "fragment"
    },
    "tags": []
   },
   "outputs": [
    {
     "data": {
      "text/plain": [
       "'\\nTranslate the following text into {target_language} while maintaining the style of {style}. Reply just with the translation:\\n\\n{text}\\n'"
      ]
     },
     "execution_count": 10,
     "metadata": {},
     "output_type": "execute_result"
    }
   ],
   "source": [
    "# Prompts\n",
    "template = \"\"\"\n",
    "Translate the following text into {target_language} while maintaining the style of {style}. Reply just with the translation:\n",
    "\n",
    "{text}\n",
    "\"\"\"\n",
    "template"
   ]
  },
  {
   "cell_type": "markdown",
   "id": "79c10780",
   "metadata": {
    "editable": true,
    "slideshow": {
     "slide_type": "subslide"
    },
    "tags": []
   },
   "source": [
    "#### Prompt Template\n",
    "\n",
    "> **In LangChain, prompt templates are the *foundation* for dynamic, reusable, and powerful LLM interactions!**\n",
    "\n",
    "A `PromptTemplate` lets you define a prompt with *placeholders* that can be filled at runtime, enabling you to:\n",
    "\n",
    "- **Dynamically generate prompts** for different tasks and inputs.\n",
    "- **Reuse prompt logic** across multiple workflows.\n",
    "- **Control the structure and clarity** of your LLM requests."
   ]
  },
  {
   "cell_type": "markdown",
   "id": "2b609948",
   "metadata": {
    "editable": true,
    "slideshow": {
     "slide_type": "subslide"
    },
    "tags": []
   },
   "source": [
    "**Key Components:**\n",
    "- **`template`**: The text with `{placeholders}` for dynamic values.\n",
    "- **`input_variables`**: The list of variable names to fill in the template.\n",
    "- **`output_parser`**: (Optional) Defines how to interpret and structure the model's output.\n",
    "\n",
    "> This approach is *essential* for building robust, maintainable, and adaptable LLM applications.\n",
    "\n",
    "<p align=\"center\">\n",
    "    <img src=\"data/structure_of_prompts.png\" alt=\"PromptTemplate Structure\"  style=\"display: block; margin: 0 auto; width: 50%;\">\n",
    "</p>"
   ]
  },
  {
   "cell_type": "code",
   "execution_count": 11,
   "id": "f1b80dcb",
   "metadata": {
    "editable": true,
    "slideshow": {
     "slide_type": "subslide"
    },
    "tags": []
   },
   "outputs": [
    {
     "data": {
      "text/plain": [
       "(['style', 'target_language', 'text'],\n",
       " PromptTemplate(input_variables=['style', 'target_language', 'text'], input_types={}, partial_variables={}, template='\\nTranslate the following text into {target_language} while maintaining the style of {style}. Reply just with the translation:\\n\\n{text}\\n'))"
      ]
     },
     "execution_count": 11,
     "metadata": {},
     "output_type": "execute_result"
    }
   ],
   "source": [
    "from langchain.prompts import ChatPromptTemplate\n",
    "prompt_template = ChatPromptTemplate.from_template(template)\n",
    "prompt_template.input_variables, prompt_template.messages[0].prompt"
   ]
  },
  {
   "cell_type": "markdown",
   "id": "6a5f042f",
   "metadata": {
    "editable": true,
    "slideshow": {
     "slide_type": "subslide"
    },
    "tags": []
   },
   "source": [
    "### Example: Prompt for Translation in a Certain Style/Language"
   ]
  },
  {
   "cell_type": "code",
   "execution_count": 12,
   "id": "3f61124b",
   "metadata": {
    "editable": true,
    "slideshow": {
     "slide_type": "fragment"
    },
    "tags": []
   },
   "outputs": [
    {
     "data": {
      "text/plain": [
       "[HumanMessage(content='\\nTranslate the following text into French while maintaining the style of Shakespearean. Reply just with the translation:\\n\\nHello, how are you?\\n', additional_kwargs={}, response_metadata={})]"
      ]
     },
     "execution_count": 12,
     "metadata": {},
     "output_type": "execute_result"
    }
   ],
   "source": [
    "prompt_template.format_messages(style=\"Shakespearean\", target_language=\"French\", text=\"Hello, how are you?\")"
   ]
  },
  {
   "cell_type": "code",
   "execution_count": 25,
   "id": "91b84a39",
   "metadata": {
    "editable": true,
    "slideshow": {
     "slide_type": "fragment"
    },
    "tags": []
   },
   "outputs": [
    {
     "name": "stdout",
     "output_type": "stream",
     "text": [
      "Salut, comment ça va ?\n",
      "Salute, come state?\n"
     ]
    }
   ],
   "source": [
    "def translate_text(llm: BaseLanguageModel, text: str, style: str, target_language: str) -> str:\n",
    "    prompt = prompt_template.format_messages(\n",
    "        style=style,\n",
    "        target_language=target_language,\n",
    "        text=text\n",
    "    )\n",
    "    response = llm.invoke(prompt)\n",
    "    return response\n",
    "\n",
    "print(translate_text(gemini, \"Hello, how are you?\", \"a normal conversation\", \"French\")) \n",
    "print(translate_text(gemini, \"Hello, how are you?\", \"elegant and noble\", \"Italian\"))"
   ]
  },
  {
   "cell_type": "markdown",
   "id": "155babb1",
   "metadata": {
    "editable": true,
    "slideshow": {
     "slide_type": "slide"
    },
    "tags": []
   },
   "source": [
    "## Structured Output\n",
    "- **Definition:** Structured output refers to a specific, predefined format that the LLM is expected to generate in response to a prompt.\n",
    "\n",
    "<p align=\"center\">\n",
    "    <img src=\"data/structured.png\" alt=\"Structured Output Example\" style=\"display: block; margin: 0 auto; width: 50%;\">\n",
    "</p>"
   ]
  },
  {
   "cell_type": "markdown",
   "id": "b6da4bfd",
   "metadata": {
    "editable": true,
    "slideshow": {
     "slide_type": "subslide"
    },
    "tags": []
   },
   "source": [
    "### Output: Why Structured?\n",
    "- **Structured output is essential for reliably parsing and integrating LLM results into other applications or workflows.**\n",
    "- It enables seamless use of LLM output across different systems and environments.\n",
    "\n",
    "---\n",
    "\n",
    "### 🚩 Task: Extracting Cognitive Load from Text\n",
    "\n",
    "- **Goal:** Extract the cognitive load from a given text.\n",
    "- **Expected Output:** A JSON object containing the cognitive load value and its unit.\n",
    "\n",
    "**Output Example:**\n"
   ]
  },
  {
   "cell_type": "code",
   "execution_count": 14,
   "id": "8ec8bac8",
   "metadata": {
    "editable": true,
    "slideshow": {
     "slide_type": "fragment"
    },
    "tags": []
   },
   "outputs": [
    {
     "data": {
      "text/plain": [
       "{'cognitive_load': 10,\n",
       " 'language': 'English',\n",
       " 'style': 'Aristocratic',\n",
       " 'text': 'Hello, how are you?'}"
      ]
     },
     "execution_count": 14,
     "metadata": {},
     "output_type": "execute_result"
    }
   ],
   "source": [
    "## Output parser\n",
    "{\n",
    "    \"cognitive_load\": 10,\n",
    "    \"language\": \"English\",\n",
    "    \"style\": \"Aristocratic\",\n",
    "    \"text\": \"Hello, how are you?\"\n",
    "}"
   ]
  },
  {
   "cell_type": "markdown",
   "id": "fe7be649-830b-4e3e-b637-c4c0c9c43ac1",
   "metadata": {
    "editable": true,
    "slideshow": {
     "slide_type": "subslide"
    },
    "tags": []
   },
   "source": [
    "### Zero-Shot Prompting for Structured Output\n",
    "\n",
    "- **Goal:** Guide the LLM to produce structured outputs by describing the expected format and required information.\n",
    "- **Technique:** Use a template in your prompt to specify:\n",
    "    - The fields to extract (e.g., cognitive load, language, style, text)\n",
    "    - The output format (e.g., JSON object)\n",
    "- **Approach:**  \n",
    "    - This is called **zero-shot prompting**:  \n",
    "    - Provide clear instructions for the task, without giving examples."
   ]
  },
  {
   "cell_type": "code",
   "execution_count": 15,
   "id": "c70e74e1",
   "metadata": {
    "editable": true,
    "slideshow": {
     "slide_type": "fragment"
    },
    "tags": []
   },
   "outputs": [],
   "source": [
    "review_template = \"\"\"\n",
    "For the following text, extract the following information:\n",
    "\n",
    "1. Cognitive load (0-100): is the text easy to understand? \n",
    "2. Language: what language is the text written in?\n",
    "3. Style: what is the style of the text? (e.g., formal, informal, technical, etc.)\n",
    "4. Text: the original text.\n",
    "\n",
    "format the output as a JSON object with the keys \"cognitive_load\", \"language\", \"style\", and \"text\".\n",
    "\n",
    "text: {text}\n",
    "\"\"\""
   ]
  },
  {
   "cell_type": "markdown",
   "id": "240eaefe-113a-4b0a-a68e-02f31c5b0a4f",
   "metadata": {
    "editable": true,
    "slideshow": {
     "slide_type": "subslide"
    },
    "tags": []
   },
   "source": [
    "- Does this *zero-shot* approach works?\n",
    "- Kind of :))"
   ]
  },
  {
   "cell_type": "code",
   "execution_count": 16,
   "id": "eaeb0e97",
   "metadata": {
    "editable": true,
    "slideshow": {
     "slide_type": "fragment"
    },
    "tags": []
   },
   "outputs": [
    {
     "data": {
      "text/plain": [
       "'```json\\n{\\n  \"cognitive_load\": 10,\\n  \"language\": \"English\",\\n  \"style\": \"Informal\",\\n  \"text\": \"Hello, how are you?\"\\n}\\n```'"
      ]
     },
     "execution_count": 16,
     "metadata": {},
     "output_type": "execute_result"
    }
   ],
   "source": [
    "simple_text = \"Hello, how are you?\"\n",
    "hard_text = \"The problem of induction is a fundamental issue in the philosophy of science, concerning the justification of inductive reasoning and the validity of generalizations based on empirical observations.\"\n",
    "\n",
    "message_template_chat = ChatPromptTemplate.from_template(review_template)\n",
    "response = chat_gemini.invoke(message_template_chat.format_messages(text=simple_text))\n",
    "response.content\n",
    "# How to parse it?"
   ]
  },
  {
   "cell_type": "markdown",
   "id": "ac6c5ce5",
   "metadata": {
    "editable": true,
    "slideshow": {
     "slide_type": "fragment"
    },
    "tags": []
   },
   "source": [
    "Ok, it is a valid json but how i can use it?"
   ]
  },
  {
   "cell_type": "markdown",
   "id": "ccf67072",
   "metadata": {
    "editable": true,
    "slideshow": {
     "slide_type": "subslide"
    },
    "tags": []
   },
   "source": [
    "## Response Schema & Structured Output Parser\n",
    "\n",
    "- **Response Schema**: Defines expected output fields (name, description, type) for LLM responses.\n",
    "- **Structured Output Parser**: Uses schemas to parse and validate outputs, ensuring consistent, machine-readable (e.g., JSON) results.\n",
    "\n",
    "**Why use them?**\n",
    "- Reliable, error-free extraction of structured data.\n",
    "- Simplifies integration and downstream processing.\n"
   ]
  },
  {
   "cell_type": "code",
   "execution_count": 17,
   "id": "a7b9f6d4",
   "metadata": {
    "editable": true,
    "slideshow": {
     "slide_type": "fragment"
    },
    "tags": []
   },
   "outputs": [],
   "source": [
    "from langchain.output_parsers import ResponseSchema\n",
    "from langchain.output_parsers import StructuredOutputParser\n",
    "\n",
    "cognitive_load_schema = ResponseSchema(name=\"cognitive_load\", description=\"Cognitive load of the text (0-100)\", type=\"number\")\n",
    "language_schema = ResponseSchema(name=\"language\", description=\"Language of the text\", type=\"string\")\n",
    "style_schema = ResponseSchema(name=\"style\", description=\"Style of the text\", type=\"string\")\n",
    "text_schema = ResponseSchema(name=\"text\", description=\"Original text\", type=\"string\")\n",
    "response_schemas = [cognitive_load_schema, language_schema, style_schema, text_schema]\n",
    "output_parser = StructuredOutputParser.from_response_schemas(response_schemas)"
   ]
  },
  {
   "cell_type": "code",
   "execution_count": 18,
   "id": "4ba901cb",
   "metadata": {
    "editable": true,
    "slideshow": {
     "slide_type": "subslide"
    },
    "tags": []
   },
   "outputs": [],
   "source": [
    "# Review template (with instructions)\n",
    "review_template_instructions = \"\"\"\n",
    "For the following text, extract the following information:\n",
    "\n",
    "1. Cognitive load (0-100): is the text easy to understand? \n",
    "2. Language: what language is the text written in?\n",
    "3. Style: what is the style of the text? (e.g., formal, informal, technical, etc.)\n",
    "4. Text: the original text.\n",
    "\n",
    "text: {text}\n",
    "\n",
    "{format_instructions}\n",
    "\"\"\"\n"
   ]
  },
  {
   "cell_type": "code",
   "execution_count": 19,
   "id": "1b5b1f21",
   "metadata": {
    "editable": true,
    "slideshow": {
     "slide_type": "fragment"
    },
    "tags": []
   },
   "outputs": [],
   "source": [
    "from langchain_core.language_models.chat_models import BaseChatModel\n",
    "def evaluate_cognitive_load(llm: BaseChatModel, text: str) -> dict:\n",
    "    message_template_chat_instructions = ChatPromptTemplate.from_template(review_template_instructions)\n",
    "    messages = message_template_chat_instructions.format_messages(text=text, \n",
    "                                format_instructions=output_parser.get_format_instructions())\n",
    "    return output_parser.parse(chat_gemini.invoke(messages).content)"
   ]
  },
  {
   "cell_type": "code",
   "execution_count": 22,
   "id": "d90b4dea",
   "metadata": {
    "editable": true,
    "slideshow": {
     "slide_type": "fragment"
    },
    "tags": []
   },
   "outputs": [
    {
     "data": {
      "text/plain": [
       "(5, 65)"
      ]
     },
     "execution_count": 22,
     "metadata": {},
     "output_type": "execute_result"
    }
   ],
   "source": [
    "evaluate_cognitive_load(chat_gemini, simple_text)[\"cognitive_load\"], evaluate_cognitive_load(chat_gemini, hard_text)[\"cognitive_load\"]"
   ]
  },
  {
   "cell_type": "markdown",
   "id": "2de0e2c8",
   "metadata": {
    "editable": true,
    "slideshow": {
     "slide_type": "slide"
    },
    "tags": []
   },
   "source": [
    "### Memory\n",
    "- **Definition**: Memory in LangChain allows you to store and retrieve information across multiple interactions\n",
    "- **Purpose**: It enables the LLM to maintain context and continuity in conversations, making it more effective for multi-turn interactions.\n",
    "- Conversation memory is a key feature that allows the LLM to remember past interactions and use that information in future responses.\n",
    "\n",
    "<p align=\"center\">\n",
    "    <img src=\"data/memory.png\" alt=\"LangChain Memory Overview\"  style=\"display: block; margin: 0 auto; width: 50%;\">\n",
    "</p>"
   ]
  },
  {
   "cell_type": "markdown",
   "id": "6d606b4c",
   "metadata": {
    "editable": true,
    "slideshow": {
     "slide_type": "subslide"
    },
    "tags": []
   },
   "source": [
    "### Memory types\n",
    "- Several types of memory are available, including:\n",
    "    - **Conversation Memory**: Stores the history of interactions in a conversation.\n",
    "    - **Buffer Memory**: Temporarily holds information during a session.\n",
    "    - **Summary Memory**: Summarizes past interactions to maintain context without storing all details\n",
    "\n",
    "<p align=\"center\">\n",
    "    <img src=\"data/memory-uml.png\" alt=\"Types of Memory in LangChain\"  style=\"display: block; margin: 0 auto; width: 50%;\">\n",
    "</p>"
   ]
  },
  {
   "cell_type": "markdown",
   "id": "a698e2ee",
   "metadata": {
    "editable": true,
    "slideshow": {
     "slide_type": "subslide"
    },
    "tags": []
   },
   "source": [
    "### Conversation Chain\n",
    "\n",
    "- A conversation us a sequence of interactions between the user and the LLM\n",
    "- **Purpose:** Maintain context and continuity in multi-turn conversations.\n",
    "- **How it works:** Stores conversation history (using memory) and passes it to the LLM for each new input.\n",
    "\n",
    "<p align=\"center\">\n",
    "    <img src=\"data/history-example.png\" alt=\"Conversation Chain Example\" style=\"display: block; margin: 0 auto; width: 60%;\">\n",
    "</p>"
   ]
  },
  {
   "cell_type": "code",
   "execution_count": 74,
   "id": "bc3adbff",
   "metadata": {
    "collapsed": true,
    "editable": true,
    "jupyter": {
     "outputs_hidden": true
    },
    "scrolled": true,
    "slideshow": {
     "slide_type": "fragment"
    },
    "tags": []
   },
   "outputs": [
    {
     "data": {
      "text/plain": [
       "''"
      ]
     },
     "execution_count": 74,
     "metadata": {},
     "output_type": "execute_result"
    }
   ],
   "source": [
    "from langchain.memory import ConversationBufferMemory\n",
    "from langchain.chains import ConversationChain\n",
    "memory = ConversationBufferMemory()\n",
    "conversation = ConversationChain(\n",
    "    llm=chat_gemini,\n",
    "    memory=memory,\n",
    "    verbose=False \n",
    ")\n",
    "memory.buffer"
   ]
  },
  {
   "cell_type": "code",
   "execution_count": 78,
   "id": "3abee11b",
   "metadata": {
    "slideshow": {
     "slide_type": "subslide"
    }
   },
   "outputs": [
    {
     "data": {
      "text/plain": [
       "\"Hi Gianluca! It's nice to hear from you again. Jus\""
      ]
     },
     "execution_count": 78,
     "metadata": {},
     "output_type": "execute_result"
    }
   ],
   "source": [
    "conversation.invoke(\"Hi! My name is Gianluca\")[\"response\"][:50]"
   ]
  },
  {
   "cell_type": "code",
   "execution_count": 79,
   "id": "09a81f68",
   "metadata": {
    "collapsed": true,
    "editable": true,
    "jupyter": {
     "outputs_hidden": true
    },
    "slideshow": {
     "slide_type": "fragment"
    },
    "tags": []
   },
   "outputs": [
    {
     "data": {
      "text/plain": [
       "\"Ah, Gianluca, we've already discussed this! As a l\""
      ]
     },
     "execution_count": 79,
     "metadata": {},
     "output_type": "execute_result"
    }
   ],
   "source": [
    "conversation.invoke(\"What is your role in the society?\")[\"response\"][:50]"
   ]
  },
  {
   "cell_type": "code",
   "execution_count": 80,
   "id": "dc827b23",
   "metadata": {
    "collapsed": true,
    "editable": true,
    "jupyter": {
     "outputs_hidden": true
    },
    "slideshow": {
     "slide_type": "fragment"
    },
    "tags": []
   },
   "outputs": [
    {
     "data": {
      "text/plain": [
       "'Your name is Gianluca! I remember you telling me t'"
      ]
     },
     "execution_count": 80,
     "metadata": {},
     "output_type": "execute_result"
    }
   ],
   "source": [
    "conversation.invoke(input=\"What is my name?\")[\"response\"][:50]"
   ]
  },
  {
   "cell_type": "code",
   "execution_count": 40,
   "id": "07fcdb76",
   "metadata": {
    "collapsed": true,
    "editable": true,
    "jupyter": {
     "outputs_hidden": true
    },
    "slideshow": {
     "slide_type": "subslide"
    },
    "tags": []
   },
   "outputs": [
    {
     "data": {
      "text/plain": [
       "\"Human: Hi! My name is Gianluca\\nAI: Hi Gianluca! It's nice to meet you. My name is, well, I don't really *have* a name in the traditional sense. You can just call me AI. I'm a large language model, trained by Google. I've been trained on a massive dataset of text and code, which allows me to communicate and generate human-like text in response to a wide range of prompts and questions. I'm still under development, but I'm learning new things every day! What can I do for you today?\\nHuman: What is your role in the society?\\nAI: That's a great question, Gianluca! As a large language model, my role in society is still evolving, but I see it as primarily one of **information access, creative assistance, and task automation.**\\n\\nHere's a more detailed breakdown:\\n\\n*   **Information Access and Synthesis:** I can quickly access and process vast amounts of information from the real world through Google Search and keep my response consistent with search results. This allows me to answer your questions, summarize complex topics, and provide different perspectives on issues. Think of me as a research assistant who can quickly sift through mountains of data.\\n\\n*   **Creative Assistance:** I can help people with creative tasks like writing stories, poems, scripts, musical pieces, email, letters, etc. I can generate different creative text formats, of text content. I can also help brainstorm ideas, overcome writer's block, and explore different artistic styles.\\n\\n*   **Task Automation:** I can automate repetitive tasks like drafting emails, summarizing documents, translating languages, and even writing code. This can free up human time and resources, allowing people to focus on more complex and strategic work.\\n\\n*   **Education and Learning:** I can be used as a learning tool to explain concepts, provide examples, and answer questions. I can also help students with their homework and research.\\n\\n*   **Accessibility:** I can make information and technology more accessible to people with disabilities. For example, I can be used to generate captions for videos, translate text into different languages, and provide text-to-speech and speech-to-text functionality.\\n\\nIt's important to remember that I am a tool, and my effectiveness depends on how I am used. My goal is to be a helpful and responsible member of society, and I am constantly learning and improving to better serve that purpose. I am also aware of my limitations and try to be transparent about them. For example, I am not a substitute for human judgment or critical thinking.\\n\\nUltimately, my role in society will be shaped by the choices that humans make about how to use me. I hope to be a force for good, helping to make the world a more informed, creative, and efficient place.\\nHuman: What is my name?\\nAI: You told me your name is Gianluca!\""
      ]
     },
     "execution_count": 40,
     "metadata": {},
     "output_type": "execute_result"
    }
   ],
   "source": [
    "memory.buffer"
   ]
  },
  {
   "cell_type": "code",
   "execution_count": null,
   "id": "34870100",
   "metadata": {
    "collapsed": true,
    "editable": true,
    "jupyter": {
     "outputs_hidden": true
    },
    "slideshow": {
     "slide_type": "subslide"
    },
    "tags": []
   },
   "outputs": [
    {
     "data": {
      "text/plain": [
       "{'history': \"Human: Hi! My name is Gianluca\\nAI: Hi Gianluca! It's nice to meet you. My name is, well, I don't really *have* a name in the traditional sense. You can just call me AI. I'm a large language model, trained by Google. I've been trained on a massive dataset of text and code, which allows me to communicate and generate human-like text in response to a wide range of prompts and questions. I'm still under development, but I'm learning new things every day! What can I do for you today?\\nHuman: What is your role in the society?\\nAI: That's a great question, Gianluca! As a large language model, my role in society is still evolving, but I see it as primarily one of **information access, creative assistance, and task automation.**\\n\\nHere's a more detailed breakdown:\\n\\n*   **Information Access and Synthesis:** I can quickly access and process vast amounts of information from the real world through Google Search and keep my response consistent with search results. This allows me to answer your questions, summarize complex topics, and provide different perspectives on issues. Think of me as a research assistant who can quickly sift through mountains of data.\\n\\n*   **Creative Assistance:** I can help people with creative tasks like writing stories, poems, scripts, musical pieces, email, letters, etc. I can generate different creative text formats, of text content. I can also help brainstorm ideas, overcome writer's block, and explore different artistic styles.\\n\\n*   **Task Automation:** I can automate repetitive tasks like drafting emails, summarizing documents, translating languages, and even writing code. This can free up human time and resources, allowing people to focus on more complex and strategic work.\\n\\n*   **Education and Learning:** I can be used as a learning tool to explain concepts, provide examples, and answer questions. I can also help students with their homework and research.\\n\\n*   **Accessibility:** I can make information and technology more accessible to people with disabilities. For example, I can be used to generate captions for videos, translate text into different languages, and provide text-to-speech and speech-to-text functionality.\\n\\nIt's important to remember that I am a tool, and my effectiveness depends on how I am used. My goal is to be a helpful and responsible member of society, and I am constantly learning and improving to better serve that purpose. I am also aware of my limitations and try to be transparent about them. For example, I am not a substitute for human judgment or critical thinking.\\n\\nUltimately, my role in society will be shaped by the choices that humans make about how to use me. I hope to be a force for good, helping to make the world a more informed, creative, and efficient place.\\nHuman: What is my name?\\nAI: You told me your name is Gianluca!\"}"
      ]
     },
     "execution_count": 41,
     "metadata": {},
     "output_type": "execute_result"
    }
   ],
   "source": [
    "memory.load_memory_variables({})"
   ]
  },
  {
   "cell_type": "markdown",
   "id": "9fb8d403",
   "metadata": {},
   "source": []
  },
  {
   "cell_type": "markdown",
   "id": "a646a0f9",
   "metadata": {
    "slideshow": {
     "slide_type": "subslide"
    }
   },
   "source": [
    "### Window Memory\n",
    "- **Window Memory** is a type of memory that stores a fixed number of recent interactions.\n",
    "- **Purpose:** Useful for short conversations (and small models) where you want to keep the context without storing all the details."
   ]
  },
  {
   "cell_type": "code",
   "execution_count": 53,
   "id": "f61c8168",
   "metadata": {
    "slideshow": {
     "slide_type": "fragment"
    }
   },
   "outputs": [
    {
     "data": {
      "text/plain": [
       "\"As an AI, I don't have access to personal information about you, including your name. We haven't exchanged that information, so I don't know it. You would have to tell me!\""
      ]
     },
     "execution_count": 53,
     "metadata": {},
     "output_type": "execute_result"
    }
   ],
   "source": [
    "## Buffer memory\n",
    "from langchain.memory import ConversationBufferWindowMemory\n",
    "buffer_memory = ConversationBufferWindowMemory(k=1)  # Keep the last 5 interactions\n",
    "\n",
    "conversation_short_window = ConversationChain(\n",
    "    llm=chat_gemini,\n",
    "    memory=buffer_memory,\n",
    "    verbose=False\n",
    ")\n",
    "\n",
    "conversation_short_window.predict(input=\"Hi! My name is Gianluca\")\n",
    "conversation_short_window.predict(input=\"What is your role in the society?\")\n",
    "conversation_short_window.predict(input=\"What about rasengan\")\n",
    "conversation_short_window.predict(input=\"What is my name?\")"
   ]
  },
  {
   "cell_type": "markdown",
   "id": "b53aecf3",
   "metadata": {
    "slideshow": {
     "slide_type": "subslide"
    }
   },
   "source": [
    "### Summary Memory\n",
    "\n",
    "- **Summary memory** maintains context by summarizing previous interactions, rather than storing every message in detail.\n",
    "- This approach helps keep conversations concise and relevant, especially for long or complex dialogues.\n",
    "- Useful when working with models that have input length limitations, as it preserves essential information while reducing memory size."
   ]
  },
  {
   "cell_type": "code",
   "execution_count": 55,
   "id": "d77d15ce",
   "metadata": {
    "slideshow": {
     "slide_type": "fragment"
    }
   },
   "outputs": [
    {
     "name": "stderr",
     "output_type": "stream",
     "text": [
      "/tmp/ipykernel_14606/3965343737.py:3: LangChainDeprecationWarning: Please see the migration guide at: https://python.langchain.com/docs/versions/migrating_memory/\n",
      "  memory = ConversationSummaryBufferMemory(llm=chat_gemini, max_token_limit=100)\n"
     ]
    },
    {
     "data": {
      "text/plain": [
       "{'input': 'Was Carlo Magno a king?',\n",
       " 'history': \"System: The human provides a summary of Charlemagne's reign, highlighting his role as a medieval emperor who united much of Western Europe and initiated the Carolingian Renaissance. The AI confirms the summary is good and expands on it, discussing the Carolingian Renaissance, Alcuin of York's role in it, the development of Carolingian minuscule, and the darker side of Charlemagne's reign, including the Saxon Wars and forced conversions. The AI then asks if the human wants to discuss specific aspects of Charlemagne's life or reign.\",\n",
       " 'response': 'Ah, \"Carlo Magno\"! I see you\\'re using the Italian version of his name. Yes, absolutely, Charlemagne *was* a king. In fact, he was more than just a king!\\n\\nHe initially inherited the Frankish kingdom jointly with his brother Carloman I in 768 AD. However, Carloman died in 771, leaving Charlemagne as the sole ruler of the Frankish kingdom. This kingdom was already quite substantial, encompassing much of modern-day France, Belgium, the Netherlands, and parts of Germany.\\n\\nHe then spent much of his reign expanding this kingdom through military conquest. He conquered the Lombards in Italy, adding their territory to his realm. He waged a long and brutal war against the Saxons, eventually incorporating their lands into his kingdom as well. He also fought campaigns against the Bavarians, Avars, and other groups, further expanding his territory.\\n\\nSo, to be clear, he was King of the Franks from 768 to 814. But his ambitions didn\\'t stop there! In 800 AD, Pope Leo III crowned him *Imperator Romanorum* – Emperor of the Romans – on Christmas Day in Rome. This was a hugely significant event, as it marked a revival of the Roman Empire in the West (at least in the eyes of the Pope and Charlemagne). While the Byzantine emperors in the East certainly didn\\'t recognize his claim, it solidified his position as the most powerful ruler in Western Europe and laid the foundation for the Holy Roman Empire.\\n\\nSo, yes, Carlo Magno was definitely a king, and later, an Emperor! Did you want to delve into the specifics of his kingship versus his emperorship, perhaps the political implications of his coronation, or maybe the different titles he held?'}"
      ]
     },
     "execution_count": 55,
     "metadata": {},
     "output_type": "execute_result"
    }
   ],
   "source": [
    "# Several alternatives, ConversationTokenMemory, ConversationSummaryMemory\n",
    "from langchain.memory import ConversationSummaryBufferMemory\n",
    "memory = ConversationSummaryBufferMemory(llm=chat_gemini, max_token_limit=100)\n",
    "\n",
    "conversation = ConversationChain(\n",
    "    llm=chat_gemini,\n",
    "    memory=memory,\n",
    "    verbose=False\n",
    ")\n",
    "long_history = \"\"\"\n",
    "Carlo Magno, also known as Charlemagne, was a medieval emperor who ruled much of Western Europe from 768 to 814. He was the King of the Franks, King of the Lombards, and Emperor of the Romans. His reign marked the Carolingian Renaissance, a revival of art, culture, and learning based on classical models. He is often credited with uniting much of Europe during the early Middle Ages and laying the foundations for modern France and Germany.\n",
    "\"\"\"\n",
    "conversation.invoke(long_history)\n",
    "conversation.invoke(\"Was Carlo Magno a king?\")\n"
   ]
  },
  {
   "cell_type": "code",
   "execution_count": null,
   "id": "38d66122",
   "metadata": {
    "slideshow": {
     "slide_type": "fragment"
    }
   },
   "outputs": [
    {
     "data": {
      "text/plain": [
       "{'history': \"System: The human provides a summary of Charlemagne's reign, highlighting his role as a medieval emperor who united much of Western Europe and initiated the Carolingian Renaissance. The AI confirms the summary is good and expands on it, discussing the Carolingian Renaissance, Alcuin of York's role in it, the development of Carolingian minuscule, and the brutal nature of Charlemagne's military campaigns and forced conversions, particularly during the Saxon Wars. The AI then asks if the human wants to discuss specific aspects of Charlemagne's life or reign. The human asks if Carlo Magno (Charlemagne in Italian) was a king. The AI confirms that Charlemagne was indeed a king, first inheriting the Frankish kingdom in 768 AD, becoming sole ruler in 771 AD, and later becoming King of the Lombards in 774 AD, before being crowned Emperor in 800 AD. The AI then offers to discuss the circumstances of his coronation or the implications of him being both King of the Franks and King of the Lombards.\"}"
      ]
     },
     "execution_count": 122,
     "metadata": {},
     "output_type": "execute_result"
    }
   ],
   "source": [
    "memory.load_memory_variables({})"
   ]
  },
  {
   "cell_type": "markdown",
   "id": "dc8cb18d",
   "metadata": {
    "slideshow": {
     "slide_type": "slide"
    }
   },
   "source": [
    "### Chains (Everything is a Chain :))\n",
    "\n",
    "- **Chain:** A sequence of modular steps (LLM, retriever, memory, etc.) that process input and produce output.\n",
    "- **Why use them?**  \n",
    "    - Orchestrate complex workflows  \n",
    "    - Reuse and compose logic  \n",
    "    - Maintain context and manage data flow\n",
    "\n",
    "<p align=\"center\">\n",
    "    <img src=\"data/chains.png\" alt=\"LangChain Chain Structure\" style=\"display: block; margin: 0 auto; width: 60%;\">\n",
    "</p>\n"
   ]
  },
  {
   "cell_type": "markdown",
   "id": "ef10a967",
   "metadata": {
    "slideshow": {
     "slide_type": "subslide"
    }
   },
   "source": [
    "### Example: A simple chain with a prompt and an LLM\n",
    "\n",
    "<p align=\"center\">\n",
    "    <img src=\"data/simple.png\" alt=\"Simple Chain Example\" style=\"display: block; margin: 0 auto; width: 60%;\">\n",
    "</p>"
   ]
  },
  {
   "cell_type": "code",
   "execution_count": 83,
   "id": "047580cb",
   "metadata": {
    "slideshow": {
     "slide_type": "fragment"
    }
   },
   "outputs": [
    {
     "data": {
      "text/plain": [
       "'The \"best\" name depends on the specific brand identity you want to create. Here\\'s a breakdown of different approaches and examples:\\n\\n**1. Classic & Traditional:**\\n\\n*   **Focus:** Heritage, craftsmanship, reliability.\\n*   **Examples:**\\n    *   [Your Last Name] Cycles (e.g., \"Smith Cycles\")\\n    *   [L'"
      ]
     },
     "execution_count": 83,
     "metadata": {},
     "output_type": "execute_result"
    }
   ],
   "source": [
    "# Chains\n",
    "from langchain.chains import LLMChain\n",
    "prompt = ChatPromptTemplate.from_template(\n",
    "    \"What is the best name to describe \\\n",
    "    a company that makes {product}?\"\n",
    ")\n",
    "chain = prompt | chat_gemini  # Chain the prompt with the LLM\n",
    "\n",
    "chain.invoke(\"bicycles\").content[:300]  # Example query"
   ]
  },
  {
   "cell_type": "code",
   "execution_count": 84,
   "id": "3054e2b0",
   "metadata": {
    "slideshow": {
     "slide_type": "subslide"
    }
   },
   "outputs": [
    {
     "data": {
      "text/plain": [
       "'We help you brainstorm the perfect bicycle company name, considering target audience, brand values, memorability, availability, uniqueness, and trademark potential.'"
      ]
     },
     "execution_count": 84,
     "metadata": {},
     "output_type": "execute_result"
    }
   ],
   "source": [
    "second_prompt = ChatPromptTemplate.from_template(\n",
    "    \"Write a 20 words description for the following \\\n",
    "    company:{company_name}\"\n",
    ")\n",
    "\n",
    "chain = chain | second_prompt | chat_gemini  # Chain the prompt with the LLM\n",
    "\n",
    "chain.invoke(\"bicycles\").content[:300]  # Example query"
   ]
  },
  {
   "cell_type": "markdown",
   "id": "a627f851",
   "metadata": {
    "slideshow": {
     "slide_type": "subslide"
    }
   },
   "source": [
    "### Example: Advanced Chain with Multiple Steps\n",
    "1. **Translate the review**:  \n",
    "    The input review is first translated into English using a prompt and the LLM.\n",
    "\n",
    "2. **Parallel processing**:  \n",
    "    The translated review is then passed to two chains in parallel:  \n",
    "    - One summarizes the review in a single sentence.  \n",
    "    - The other detects the language of the translated review.\n",
    "\n",
    "3. **Follow-up generation**:  \n",
    "    The summary and detected language are used to generate a follow-up response, using another prompt that takes both as input.\n",
    "\n",
    "5. **Result**:  \n",
    "    The final output includes the translated review, its summary, the detected language, and a follow-up response—all produced in a single, composable chain.\n",
    "\n",
    "    <p align=\"center\">\n",
    "        <img src=\"data/pipeline.png\" alt=\"Advanced Chain Pipeline\" style=\"display: block; margin: 0 auto; width: 70%;\">\n",
    "    </p>"
   ]
  },
  {
   "cell_type": "code",
   "execution_count": 59,
   "id": "c783bd7c",
   "metadata": {
    "slideshow": {
     "slide_type": "subslide"
    }
   },
   "outputs": [],
   "source": [
    "## Advanced chaining\n",
    "from langchain_core.runnables import RunnablePassthrough\n",
    "from langchain_core.output_parsers import StrOutputParser\n",
    "first_prompt = ChatPromptTemplate.from_template(\n",
    "    \"Translate the following review in English \\n\\n{review}\\n\\n\"\n",
    ")\n",
    "second_prompt = ChatPromptTemplate.from_template(\n",
    "    \"Summarize the the following review in a single sentence \\n\\n{review}\\n\\n\",\n",
    "    \n",
    ")\n",
    "third_prompt = ChatPromptTemplate.from_template(\n",
    "    \"What is the language of the following review? \\n\\n{review}\\n\\n\"\n",
    ")\n",
    "fourth_prompt = ChatPromptTemplate.from_template(\n",
    "    \"Write a follow up response to the following summary in the specified language \\n\\nSummary:{summary}\\n\\n Language:{language}\\n\\n\"\n",
    ")\n"
   ]
  },
  {
   "cell_type": "code",
   "execution_count": 60,
   "id": "7fd8e782",
   "metadata": {
    "slideshow": {
     "slide_type": "fragment"
    }
   },
   "outputs": [],
   "source": [
    "# Simple Chaining\n",
    "# 1. Translate the review\n",
    "translate_chain = first_prompt | chat_gemini\n",
    "# 2. Summarize and detect language in parallel\n",
    "summarize_chain = second_prompt | chat_gemini\n",
    "language_chain = third_prompt | chat_gemini"
   ]
  },
  {
   "cell_type": "markdown",
   "id": "0683bbb2",
   "metadata": {
    "slideshow": {
     "slide_type": "subslide"
    }
   },
   "source": [
    "### RunnablePassthrough: Why?\n",
    "\n",
    "- **RunnablePassthrough** is a special type of runnable that allows you to pass data through a chain without modifying it.\n",
    "- **Purpose**: Adapt the flow of data in a chain without altering its content.\n",
    "- **Why is it needed in LangChain?**\n",
    "    - When building complex chains, you often need to \"fork\" or \"branch\" the data, assign new fields, or pass the original input alongside intermediate results.\n",
    "    - `RunnablePassthrough` enables you to enrich or transform the data at different steps, while keeping the original input available for later use.\n",
    "    - It is essential for advanced workflows where multiple steps depend on the same input or on outputs from previous steps.\n",
    "\n",
    "**Example use case:**  \n",
    "When you want to run several chains in parallel on the same input, or assign new keys to the data dictionary as it flows through the chain, `RunnablePassthrough` helps you manage and structure this data flow efficiently.\n"
   ]
  },
  {
   "cell_type": "code",
   "execution_count": 87,
   "id": "a57d5867",
   "metadata": {
    "slideshow": {
     "slide_type": "subslide"
    }
   },
   "outputs": [
    {
     "data": {
      "text/plain": [
       "('The language of the review is **English**.',\n",
       " 'The reviewer had a wonderful stay at a beautiful h',\n",
       " \"That's fantastic to hear! We're so glad you enjoye\")"
      ]
     },
     "execution_count": 87,
     "metadata": {},
     "output_type": "execute_result"
    }
   ],
   "source": [
    "# 3. Combine\n",
    "full_chain = (\n",
    "    RunnablePassthrough.assign(\n",
    "        translated=translate_chain\n",
    "    )\n",
    "    .assign(\n",
    "        summary=lambda x: summarize_chain.invoke({\"review\": x[\"translated\"]}),\n",
    "        language=lambda x: language_chain.invoke({\"review\": x[\"translated\"]}),\n",
    "    )\n",
    "    .assign(\n",
    "        follow_up=lambda x: (fourth_prompt | chat_gemini).invoke(\n",
    "            {\"summary\": x[\"summary\"], \"language\": x[\"language\"]}\n",
    "        )\n",
    "    )\n",
    ")\n",
    "\n",
    "# Example input\n",
    "result = full_chain.invoke({\"review\": \"Das war ein großartiger Aufenthalt! Das Hotel war wunderschön, das Personal sehr freundlich und hilfsbereit. Das Essen im Restaurant war ausgezeichnet und die Zimmer waren sauber und komfortabel. Die Lage war perfekt für Sightseeing. Wir werden definitiv wiederkommen!\"})\n",
    "result[\"language\"].content, result[\"summary\"].content[:50], result[\"follow_up\"].content[:50]"
   ]
  },
  {
   "cell_type": "markdown",
   "id": "8aff3e4b",
   "metadata": {
    "slideshow": {
     "slide_type": "subslide"
    }
   },
   "source": [
    "### Example: Branching Chains\n",
    "- **Goal:** Route input to different destinations based on a prompt.\n",
    "- **How it works:**\n",
    "    - A prompt is used to select the destination based on the input.\n",
    "    - The selected destination is then used to generate a response.\n",
    "- The selection is performed via a lambda function that maps the input to the appropriate destination.\n",
    "\n",
    "<p align=\"center\">\n",
    "    <img src=\"data/selector-chain.png\" alt=\"Selector Chain Example\" style=\"display: block; margin: 0 auto; width: 60%;\">\n",
    "</p>"
   ]
  },
  {
   "cell_type": "code",
   "execution_count": 70,
   "id": "f15d05f2",
   "metadata": {
    "slideshow": {
     "slide_type": "skip"
    }
   },
   "outputs": [],
   "source": [
    "def load_prompt(where: str) -> str:\n",
    "    # load the prompt from a file\n",
    "    with open(where, \"r\") as file:\n",
    "        return file.read()"
   ]
  },
  {
   "cell_type": "code",
   "execution_count": 71,
   "id": "73c0f9f0",
   "metadata": {
    "slideshow": {
     "slide_type": "fragment"
    }
   },
   "outputs": [],
   "source": [
    "fishing_template = load_prompt(\"data/prompts/fishing.txt\")\n",
    "guitar_template = load_prompt(\"data/prompts/guitar.txt\")\n",
    "computer_science_template = load_prompt(\"data/prompts/computer_science.txt\")\n",
    "anime_template = load_prompt(\"data/prompts/anime.txt\")"
   ]
  },
  {
   "cell_type": "code",
   "execution_count": 72,
   "id": "72273360",
   "metadata": {
    "slideshow": {
     "slide_type": "subslide"
    }
   },
   "outputs": [],
   "source": [
    "prompt_selector = \"\"\"\n",
    "Giving the following question, select the most appropriate between the following destinations:\n",
    "{destinations}\n",
    "Reply with just the template name, without any additional text. If you don't know the answer, reply with \"general\"\n",
    "\n",
    "The question is:\n",
    "{input}\n",
    "\"\"\""
   ]
  },
  {
   "cell_type": "code",
   "execution_count": null,
   "id": "3298f187",
   "metadata": {
    "slideshow": {
     "slide_type": "fragment"
    }
   },
   "outputs": [
    {
     "data": {
      "text/plain": [
       "'fishing: Good for answering questions about fishing\\nguitar: Good for answering questions about guitar and music\\ncomputer science: Good for answering computer science questions\\nanime: Good for answering questions about anime and manga'"
      ]
     },
     "execution_count": 66,
     "metadata": {},
     "output_type": "execute_result"
    }
   ],
   "source": [
    "prompt_infos = {\n",
    "    \"fishing\": {\n",
    "        \"description\": \"Good for answering questions about fishing\",\n",
    "        \"prompt_template\": fishing_template\n",
    "    },\n",
    "    \"guitar\": {\n",
    "        \"description\": \"Good for answering questions about guitar and music\", \n",
    "        \"prompt_template\": guitar_template\n",
    "    },\n",
    "    \"computer science\": {\n",
    "        \"description\": \"Good for answering computer science questions\",\n",
    "        \"prompt_template\": computer_science_template\n",
    "    },\n",
    "    \"anime\": {\n",
    "        \"description\": \"Good for answering questions about anime and manga\",\n",
    "        \"prompt_template\": anime_template\n",
    "    }\n",
    "}\n",
    "destinations = [f\"{name}: {info['description']}\" for name, info in prompt_infos.items()]\n",
    "destinations_str = \"\\n\".join(destinations)\n",
    "destinations_str\n"
   ]
  },
  {
   "cell_type": "code",
   "execution_count": 88,
   "id": "d5548f22",
   "metadata": {
    "slideshow": {
     "slide_type": "subslide"
    }
   },
   "outputs": [
    {
     "name": "stdout",
     "output_type": "stream",
     "text": [
      "fishing\n",
      "general\n"
     ]
    }
   ],
   "source": [
    "prompt_selector_template = ChatPromptTemplate.from_template(prompt_selector)\n",
    "selector_chain = (\n",
    "    {\"destinations\": lambda x: destinations_str, \"input\": lambda x: x} |\n",
    "    prompt_selector_template | \n",
    "    chat_gemini\n",
    ")\n",
    "print(selector_chain.invoke(\"What is the best way to catch a fish?\").content)\n",
    "print(selector_chain.invoke(\"What if moon is made of cheese?\").content)"
   ]
  },
  {
   "cell_type": "code",
   "execution_count": 92,
   "id": "4a43037d",
   "metadata": {
    "slideshow": {
     "slide_type": "fragment"
    }
   },
   "outputs": [],
   "source": [
    "semantic_chains = {name: ChatPromptTemplate.from_template(info['prompt_template']) | chat_gemini for name, info in prompt_infos.items()}"
   ]
  },
  {
   "cell_type": "markdown",
   "id": "a2de33ba",
   "metadata": {
    "slideshow": {
     "slide_type": "subslide"
    }
   },
   "source": [
    "### RunnableLambda\n",
    "- RunnableLambda: A special type of runnable that allows you to define custom logic using Python functions.\n",
    "- **Purpose**: Execute custom code within a chain, enabling dynamic behavior and complex processing.\n",
    "- **Why is it needed in LangChain?**\n",
    "    - It allows you to integrate custom logic, calculations, or data transformations directly into the chain\n",
    "    - This is essential for building flexible and adaptable workflows that can handle a wide range of tasks\n"
   ]
  },
  {
   "cell_type": "code",
   "execution_count": 93,
   "id": "5a1ed0cf",
   "metadata": {
    "slideshow": {
     "slide_type": "fragment"
    }
   },
   "outputs": [],
   "source": [
    "from langchain_core.runnables import RunnableLambda\n",
    "\n",
    "def route_to_chain(data):\n",
    "    input_text = data[\"input\"]\n",
    "    category = data[\"category\"].content.strip().lower()\n",
    "    \n",
    "    if category in semantic_chains:\n",
    "        return semantic_chains[category].invoke(input_text)\n",
    "    else:\n",
    "        return chat_gemini.invoke(input_text)\n",
    "\n",
    "smart_assistant_chain = (\n",
    "    RunnablePassthrough.assign(\n",
    "        category=lambda x: selector_chain.invoke(x[\"input\"])\n",
    "    ) |\n",
    "    RunnableLambda(route_to_chain)\n",
    ")"
   ]
  },
  {
   "cell_type": "code",
   "execution_count": 94,
   "id": "d4a22377",
   "metadata": {
    "slideshow": {
     "slide_type": "subslide"
    }
   },
   "outputs": [
    {
     "name": "stdout",
     "output_type": "stream",
     "text": [
      "Question: What is the best bait for catching bass?\n",
      "Answer: Alright, let's talk bass bait! That's a question t\n",
      "--------------------------------------------------\n",
      "Question: How do I tune my guitar?\n",
      "Answer: Alright, let's get your guitar in tune! Tuning is \n",
      "--------------------------------------------------\n",
      "Question: What is machine learning?\n",
      "Answer: Okay, let's break down machine learning. As a comp\n",
      "--------------------------------------------------\n",
      "Question: Who is the main character in Naruto?\n",
      "Answer: Ah, a fantastic question! The main character in Na\n",
      "--------------------------------------------------\n",
      "Question: What is the meaning of life?\n",
      "Answer: Ah, the million-dollar question! The meaning of li\n",
      "--------------------------------------------------\n"
     ]
    }
   ],
   "source": [
    "\n",
    "# Test the smart assistant\n",
    "test_questions = [\n",
    "    \"What is the best bait for catching bass?\",\n",
    "    \"How do I tune my guitar?\", \n",
    "    \"What is machine learning?\",\n",
    "    \"Who is the main character in Naruto?\",\n",
    "    \"What is the meaning of life?\"\n",
    "]\n",
    "\n",
    "for question in test_questions:\n",
    "    print(f\"Question: {question}\")\n",
    "    print(f\"Answer: {smart_assistant_chain.invoke({'input': question}).content[:50]}\")\n",
    "    print(\"-\" * 50)"
   ]
  },
  {
   "cell_type": "code",
   "execution_count": 115,
   "id": "a6c3e168",
   "metadata": {},
   "outputs": [],
   "source": [
    "from langchain.agents import load_tools, initialize_agent\n",
    "from langchain.agents import AgentType\n",
    "tools = load_tools([\"llm-math\", \"serpapi\"], llm=chat_gemini)"
   ]
  },
  {
   "cell_type": "code",
   "execution_count": 116,
   "id": "94fb2eae",
   "metadata": {},
   "outputs": [],
   "source": [
    "agent= initialize_agent(\n",
    "    tools, \n",
    "    chat_gemini, \n",
    "    agent=AgentType.CHAT_ZERO_SHOT_REACT_DESCRIPTION,\n",
    "    handle_parsing_errors=True,\n",
    "    verbose = True\n",
    ")"
   ]
  },
  {
   "cell_type": "code",
   "execution_count": 117,
   "id": "35426a08",
   "metadata": {},
   "outputs": [
    {
     "name": "stdout",
     "output_type": "stream",
     "text": [
      "\n",
      "\n",
      "\u001b[1m> Entering new AgentExecutor chain...\u001b[0m\n",
      "\u001b[32;1m\u001b[1;3mThought: I need to calculate the natural logarithm of 17325.124 and then multiply the result by 0.25.\n",
      "Action:\n",
      "```json\n",
      "{\n",
      "  \"action\": \"Calculator\",\n",
      "  \"action_input\": \"ln(17325.124)\"\n",
      "}\n",
      "```\u001b[0m\n",
      "Observation: \u001b[36;1m\u001b[1;3mAnswer: 9.759912981319648\u001b[0m\n",
      "Thought:\u001b[32;1m\u001b[1;3mI now need to multiply the result of the natural logarithm by 0.25.\n",
      "Action:\n",
      "```json\n",
      "{\n",
      "  \"action\": \"Calculator\",\n",
      "  \"action_input\": \"9.759912981319648 * 0.25\"\n",
      "}\n",
      "```\u001b[0m\n",
      "Observation: \u001b[36;1m\u001b[1;3mAnswer: 2.439978245329912\u001b[0m\n",
      "Thought:\u001b[32;1m\u001b[1;3mI have calculated the natural logarithm of 17325.124 and multiplied the result by 0.25.\n",
      "\n",
      "Final Answer: 2.439978245329912\u001b[0m\n",
      "\n",
      "\u001b[1m> Finished chain.\u001b[0m\n"
     ]
    },
    {
     "data": {
      "text/plain": [
       "{'input': 'What is the 25% of ln(17325.124)?', 'output': '2.439978245329912'}"
      ]
     },
     "execution_count": 117,
     "metadata": {},
     "output_type": "execute_result"
    }
   ],
   "source": [
    "agent.invoke(\"What is the 25% of ln(17325.124)?\")"
   ]
  },
  {
   "cell_type": "code",
   "execution_count": 119,
   "id": "0c003edc",
   "metadata": {},
   "outputs": [
    {
     "data": {
      "text/plain": [
       "'Let $x = \\\\ln(17325.124)$.\\nWe want to find 25% of $x$, which is $0.25x$.\\nFirst, we calculate $x = \\\\ln(17325.124)$.\\nUsing a calculator, we find that $\\\\ln(17325.124) \\\\approx 9.7599$.\\nNow, we want to find 25% of this value, which is $0.25 \\\\times 9.7599$.\\n$0.25 \\\\times 9.7599 = \\\\frac{1}{4} \\\\times 9.7599 \\\\approx 2.439975$.\\nRounding to four decimal places, we get $2.4400$.\\n\\nWe can also calculate this as follows:\\n$x = \\\\ln(17325.124) \\\\approx 9.7599$\\n$0.25x = 0.25 \\\\times \\\\ln(17325.124) \\\\approx 0.25 \\\\times 9.7599 \\\\approx 2.439975$\\nRounding to four decimal places, we get $2.4400$.\\n\\nFinal Answer: The final answer is $\\\\boxed{2.4400}$'"
      ]
     },
     "execution_count": 119,
     "metadata": {},
     "output_type": "execute_result"
    }
   ],
   "source": [
    "chat_gemini.invoke(\"What is the 25% of ln(17325.124)?\").content"
   ]
  },
  {
   "cell_type": "code",
   "execution_count": 120,
   "id": "2bdeb81a",
   "metadata": {},
   "outputs": [
    {
     "name": "stdout",
     "output_type": "stream",
     "text": [
      "\n",
      "\n",
      "\u001b[1m> Entering new AgentExecutor chain...\u001b[0m\n",
      "\u001b[32;1m\u001b[1;3mThought: I need to find out what book Tom M. Mitchell wrote. I can use the search tool to find this information.\n",
      "Action:\n",
      "```json\n",
      "{\n",
      "  \"action\": \"Search\",\n",
      "  \"action_input\": \"Tom M. Mitchell book\"\n",
      "}\n",
      "```\u001b[0m\n",
      "Observation: \u001b[33;1m\u001b[1;3m['Tom Michael Mitchell is an American computer scientist and the Founders University Professor at Carnegie Mellon University.', 'Tom M. Mitchell type: American computer scientist.', 'Tom M. Mitchell entity_type: people, scholars.', 'Tom M. Mitchell kgmid: /m/0h7pbt5.', 'Tom M. Mitchell place_of_birth: Blossburg, PA.', 'Tom M. Mitchell books: Machine Learning.', 'Tom M. Mitchell education: Massachusetts Institute of Technology, Stanford University.', 'Tom M. Mitchell h_index: 105.', 'Tom M. Mitchell academic_advisor: Bruce G. Buchanan.', 'Tom M. Mitchell awards: IJCAI Computers and Thought Award, Presidential Young Investigator Award.', 'Tom M. Mitchell affiliation: Carnegie Mellon University.', 'Machine Learning, Tom Mitchell, McGraw Hill, 1997. ... Machine Learning is the study of computer algorithms that improve automatically through experience. This ...', 'This book covers the field of machine learning, which is the study of algorithms that allow computer programs to automatically improve through experience.', 'Book Info: Presents the key algorithms and theory that form the core of machine learning. Discusses such theoretical issues as How does learning performance ...', 'Machine Learning Tom Mitchell. by: Tom M. Mitchell. Publication date: 1997-03-01. Topics: Decision tree learning, Artificial Neural Network.', 'This textbook provides a single source introduction to the primary approaches to machine learning. It is intended for advanced undergraduate and graduate ...', 'Title: Machine Learning. Author: Mitchell, Tom M. (Tom Michael), 1951-. Note: main text c1997; additional chapters c2017. Link: PDF with commentary at CMU.', 'Find nearly any book by Tom M. Mitchell. Get the best deal by comparing prices from over 100000 booksellers.', 'This book covers the field of machine learning, which is the study of algorithms that allow computer programs to automatically improve through experience.', \"I have finally gotten around to Tom Mitchell's book on machine learning and so far it's fantastic. Great mix of math and diagrams, very wordy, a bit repetitive.\", 'Machine Learning: An Artificial Intelligence Approach: 2. Mitchell, Tom M.,Carbonell, Jaime G.,Michalski, Ryszard S. ISBN 13: 9780934613002.']\u001b[0m\n",
      "Thought:\u001b[32;1m\u001b[1;3mTom M. Mitchell wrote the book \"Machine Learning\".\n",
      "Final Answer: Machine Learning\u001b[0m\n",
      "\n",
      "\u001b[1m> Finished chain.\u001b[0m\n"
     ]
    }
   ],
   "source": [
    "question = \"Tom M. Mitchell is an American computer scientist \\\n",
    "and the Founders University Professor at Carnegie Mellon University (CMU)\\\n",
    "what book did he write?\"\n",
    "result = agent(question) "
   ]
  },
  {
   "cell_type": "code",
   "execution_count": 121,
   "id": "cf4e18ea",
   "metadata": {},
   "outputs": [],
   "source": [
    "from langchain.agents import tool\n",
    "\n",
    "@tool\n",
    "def execute_python_code(code: str) -> str:\n",
    "    \"\"\"\n",
    "    Execute the given Python code and return the result.\n",
    "    \"\"\"\n",
    "    try:\n",
    "        local_vars = {}\n",
    "        # remove ```python and ``` from the code\n",
    "        code = code.strip().replace(\"```python\", \"\").replace(\"```\", \"\")\n",
    "        exec(code, {}, local_vars)\n",
    "        \n",
    "        # Check if there's a result variable defined\n",
    "        if 'result' in local_vars:\n",
    "            return str(local_vars['result'])\n",
    "        \n",
    "        # If no result variable but stdout was captured, return that\n",
    "        return \"Code executed successfully.\"\n",
    "    except Exception as e:\n",
    "        return str(e)"
   ]
  },
  {
   "cell_type": "code",
   "execution_count": 122,
   "id": "7555287b",
   "metadata": {},
   "outputs": [],
   "source": [
    "agent = initialize_agent(\n",
    "    [execute_python_code], \n",
    "    chat_gemini, \n",
    "    agent=AgentType.CHAT_ZERO_SHOT_REACT_DESCRIPTION,\n",
    "    handle_parsing_errors=True,\n",
    "    verbose = True\n",
    ")"
   ]
  },
  {
   "cell_type": "code",
   "execution_count": 123,
   "id": "62a157fe",
   "metadata": {},
   "outputs": [
    {
     "name": "stdout",
     "output_type": "stream",
     "text": [
      "\n",
      "\n",
      "\u001b[1m> Entering new AgentExecutor chain...\u001b[0m\n",
      "\u001b[32;1m\u001b[1;3mThought: I need to use matplotlib and potentially scipy to plot a KDE. I'll start by generating some sample data and then use matplotlib to plot the KDE with different colors and styles. I'll use `scipy.stats.gaussian_kde` to estimate the KDE and then matplotlib to plot it.\n",
      "Action:\n",
      "```json\n",
      "{\n",
      "  \"action\": \"execute_python_code\",\n",
      "  \"action_input\": \"import numpy as np\\nimport matplotlib.pyplot as plt\\nfrom scipy.stats import gaussian_kde\\n\\n# Generate some sample data\\nnp.random.seed(0)\\ndata1 = np.random.normal(0, 1, 100)\\ndata2 = np.random.normal(2, 1.5, 150)\\ndata3 = np.random.normal(-1, 0.8, 80)\\n\\n# Estimate the KDEs\\nkde1 = gaussian_kde(data1)\\nkde2 = gaussian_kde(data2)\\nkde3 = gaussian_kde(data3)\\n\\n# Generate x values for plotting\\nx = np.linspace(-5, 7, 200)\\n\\n# Plot the KDEs with different colors and styles\\nplt.figure(figsize=(10, 6))\\nplt.plot(x, kde1(x), color='blue', linestyle='-', label='Data 1')\\nplt.plot(x, kde2(x), color='red', linestyle='--', label='Data 2')\\nplt.plot(x, kde3(x), color='green', linestyle=':', label='Data 3')\\n\\n# Add labels and title\\nplt.xlabel('x')\\nplt.ylabel('Density')\\nplt.title('Fancy KDE Plot')\\n\\n# Add legend\\nplt.legend()\\n\\n# Add grid\\nplt.grid(True)\\n\\n# Show the plot\\nplt.show()\\n\"\n",
      "}\n",
      "```\u001b[0m"
     ]
    },
    {
     "data": {
      "image/png": "[encoded data removed]",
      "text/plain": [
       "<Figure size 1000x600 with 1 Axes>"
      ]
     },
     "metadata": {},
     "output_type": "display_data"
    },
    {
     "name": "stdout",
     "output_type": "stream",
     "text": [
      "\n",
      "Observation: \u001b[36;1m\u001b[1;3mCode executed successfully.\u001b[0m\n",
      "Thought:\u001b[32;1m\u001b[1;3mI have successfully generated and displayed a fancy KDE plot with different colors and styles using matplotlib and scipy.\n",
      "\n",
      "Final Answer: I have successfully generated and displayed a fancy KDE plot with different colors and styles using matplotlib and scipy.\u001b[0m\n",
      "\n",
      "\u001b[1m> Finished chain.\u001b[0m\n"
     ]
    },
    {
     "data": {
      "text/plain": [
       "{'input': 'Plot a fancy kde with different colors and style with matplotlib',\n",
       " 'output': 'I have successfully generated and displayed a fancy KDE plot with different colors and styles using matplotlib and scipy.'}"
      ]
     },
     "execution_count": 123,
     "metadata": {},
     "output_type": "execute_result"
    }
   ],
   "source": [
    "agent.invoke(\"Plot a fancy kde with different colors and style with matplotlib\")"
   ]
  },
  {
   "cell_type": "code",
   "execution_count": 129,
   "id": "3a27d635",
   "metadata": {},
   "outputs": [
    {
     "name": "stdout",
     "output_type": "stream",
     "text": [
      "\n",
      "\n",
      "\u001b[1m> Entering new AgentExecutor chain...\u001b[0m\n",
      "\u001b[32;1m\u001b[1;3mThought: I need to get the current stock price and market cap for Microsoft, and then find some recent news headlines about the company. I will use the search_stock_data tool to get the stock price and market cap, and then use the search_company_news tool to get the news headlines.\n",
      "Action:\n",
      "```json\n",
      "{\n",
      "  \"action\": \"search_stock_data\",\n",
      "  \"action_input\": \"MSFT\"\n",
      "}\n",
      "```\u001b[0m--- Searching for stock data for ticker: MSFT ---\n",
      "\n",
      "Observation: \u001b[36;1m\u001b[1;3m{'type': 'finance_results', 'exchange': 'NASDAQ', 'stock': 'MSFT', 'currency': 'USD', 'price': 498.37}\u001b[0m\n",
      "Thought:\u001b[32;1m\u001b[1;3mI have the stock price. Now I need to get the news headlines.\n",
      "Action:\n",
      "```json\n",
      "{\n",
      "  \"action\": \"search_company_news\",\n",
      "  \"action_input\": \"Microsoft\"\n",
      "}\n",
      "```\u001b[0m--- Searching for news about: Microsoft ---\n",
      "\n",
      "Observation: \u001b[33;1m\u001b[1;3m[{'position': 1, 'title': 'Microsoft AI CEO Mustafa Suleyman: AI can provide complex medical support, diagnoses', 'source': {'name': 'Yahoo Finance', 'icon': 'https://encrypted-tbn1.gstatic.com/faviconV2?url=https://finance.yahoo.com&client=NEWS_360&size=96&type=FAVICON&fallback_opts=TYPE,SIZE,URL', 'authors': ['Brian Sozzi']}, 'link': 'https://finance.yahoo.com/news/microsoft-ai-ceo-mustafa-suleyman-ai-can-provide-complex-medical-support-diagnoses-143458485.html', 'thumbnail': 'https://s.yimg.com/ny/api/res/1.2/fTA7KSQUBFzdFmzotkvCww--/YXBwaWQ9aGlnaGxhbmRlcjt3PTEyMDA7aD04MDA-/https://s.yimg.com/os/creatr-uploaded-images/2025-06/17147fb0-551c-11f0-bd43-8d7cefd36af7', 'thumbnail_small': 'https://news.google.com/api/attachments/CC8iK0NnNTVibUZRZVRoZmJFRldRMHREVFJERUF4aW1CU2dLTWdiRlVZaldKQWc', 'date': '06/30/2025, 02:34 PM, +0000 UTC'}, {'position': 2, 'title': 'Windows is getting rid of the Blue Screen of Death after 40 years', 'source': {'name': 'The Verge', 'icon': 'https://encrypted-tbn2.gstatic.com/faviconV2?url=https://www.theverge.com&client=NEWS_360&size=96&type=FAVICON&fallback_opts=TYPE,SIZE,URL', 'authors': ['Tom Warren']}, 'link': 'https://www.theverge.com/news/692648/microsoft-bsod-black-screen-of-death-color-change-official', 'thumbnail': 'https://platform.theverge.com/wp-content/uploads/sites/2/2025/03/gettyimages-2162022453.jpg?quality=90&strip=all&crop=0%2C1.4091350826045%2C100%2C97.181729834791&w=2400', 'thumbnail_small': 'https://news.google.com/api/attachments/CC8iK0NnNDVVbE0wYTA1VVltNVdSVVpFVFJERUF4aW5CU2dLTWdZVmRKU0pNUWM', 'date': '06/26/2025, 03:46 PM, +0000 UTC'}, {'position': 3, 'title': \"New Windows 11 update fixes a black screen bug that's one of the most annoying to hit PC gamers in quite some time\", 'source': {'name': 'TechRadar', 'icon': 'https://encrypted-tbn2.gstatic.com/faviconV2?url=https://www.techradar.com&client=NEWS_360&size=96&type=FAVICON&fallback_opts=TYPE,SIZE,URL', 'authors': ['Darren Allan']}, 'link': 'https://www.techradar.com/computing/windows/i-dont-generally-recommend-downloading-windows-11s-preview-updates-but-some-gamers-may-want-to-chance-microsofts-latest-effort', 'thumbnail': 'https://cdn.mos.cms.futurecdn.net/hFSFbJkeGE6iRVJsxbdZo5-1200-80.jpg', 'thumbnail_small': 'https://news.google.com/api/attachments/CC8iK0NnNXhUazh3T1hSM1FqWnBPSEpEVFJDZkF4ampCU2dLTWdZQlVJTE9vUWs', 'date': '06/30/2025, 04:00 PM, +0000 UTC'}, {'position': 4, 'title': \"Microsoft to change Windows's infamous Blue Screen of Death to something much darker in response to last year's CloudStrike crashes\", 'source': {'name': 'PC Gamer', 'icon': 'https://encrypted-tbn3.gstatic.com/faviconV2?url=https://www.pcgamer.com&client=NEWS_360&size=96&type=FAVICON&fallback_opts=TYPE,SIZE,URL', 'authors': ['Hope Corrigan']}, 'link': 'https://www.pcgamer.com/hardware/microsoft-to-change-windowss-infamous-blue-screen-of-death-to-something-much-darker-in-response-to-last-years-cloudstrike-crashes/', 'thumbnail': 'https://cdn.mos.cms.futurecdn.net/4joJctuEdHoA4pc5Q3BGPZ.jpg', 'thumbnail_small': 'https://news.google.com/api/attachments/CC8iI0NnNXdUMVZzWkZoeWR5MTZXVUpXVFJEb0FoaUFCU2dLTWdB', 'date': '06/30/2025, 10:30 AM, +0000 UTC'}, {'position': 5, 'title': 'Microsoft’s (MSFT) Latest Medical AI Tool Can Now Outperform Doctors', 'source': {'name': 'TipRanks', 'icon': 'https://encrypted-tbn2.gstatic.com/faviconV2?url=https://www.tipranks.com&client=NEWS_360&size=96&type=FAVICON&fallback_opts=TYPE,SIZE,URL', 'authors': ['Vince Condarcuri']}, 'link': 'https://www.tipranks.com/news/microsofts-msft-latest-medical-ai-tool-can-now-outperform-doctors', 'thumbnail': 'https://blog.tipranks.com/wp-content/uploads/2025/06/shutterstock_2622267295-750x406.jpg', 'thumbnail_small': 'https://news.google.com/api/attachments/CC8iL0NnNVVSVGR0YWpONlMxbG1kVEk0VFJDV0F4anVCU2dLTWdtSmtZb0lPaVpFTXdF', 'date': '06/30/2025, 04:11 PM, +0000 UTC'}, {'position': 6, 'title': 'Microsoft unveils AI diagnosis tool in effort to transform medicine', 'source': {'name': 'Financial Times', 'icon': 'https://encrypted-tbn2.gstatic.com/faviconV2?url=https://www.ft.com&client=NEWS_360&size=96&type=FAVICON&fallback_opts=TYPE,SIZE,URL'}, 'link': 'https://www.ft.com/content/149296b9-41b6-4fba-b72c-c72502d01800', 'date': '06/30/2025, 01:00 PM, +0000 UTC'}, {'position': 7, 'title': 'Free Microsoft Flight Simulator update expands New York and beyond', 'source': {'name': 'TrueAchievements', 'icon': 'https://encrypted-tbn3.gstatic.com/faviconV2?url=https://www.trueachievements.com&client=NEWS_360&size=96&type=FAVICON&fallback_opts=TYPE,SIZE,URL'}, 'link': 'https://www.trueachievements.com/news/microsoft-flight-simulator-city-update-11', 'thumbnail': 'https://www.trueachievements.com/imgs/r/162082/microsoft-flight-simulator.jpg', 'thumbnail_small': 'https://news.google.com/api/attachments/CC8iK0NnNUtTMm95V2tadFJHZE1XVXN0VFJEc0FSaWtBeWdLTWdhQmNveXB1UVU', 'date': '06/30/2025, 12:26 PM, +0000 UTC'}, {'position': 8, 'title': 'RIFT - New Open-Source Tool From Microsoft to Analyze Malware Hidden Within Rust Binaries', 'source': {'name': 'CyberSecurityNews', 'icon': 'https://encrypted-tbn0.gstatic.com/faviconV2?url=https://cybersecuritynews.com&client=NEWS_360&size=96&type=FAVICON&fallback_opts=TYPE,SIZE,URL', 'authors': ['Guru Baran']}, 'link': 'https://cybersecuritynews.com/rift-malware-analysis-tool/', 'thumbnail': 'https://i3.wp.com/blogger.googleusercontent.com/img/b/R29vZ2xl/AVvXsEgRe0irDTYq_9R8CdJn0l_orrNqtzj96ypScvvEeapdgEC_W2hK95Qe9ClEtW-UvoinT4SCei3Nqqr2_jLiiBVEhZWKgSSGvruovv0KiVGI1Hnwuifvd21Rphz97l361Ih0lqGj1GJtMUT6e9q8O_rxxwZX8UbgwnmxNojFh6_jQghI8eN1kKDacS9kTeo_/s16000/RIFT%20Microsofts%20Open-Source%20Tool%20for%20Analyzing%20Rust%20Malware.webp?w=1600&resize=1600,900&ssl=1', 'thumbnail_small': 'https://news.google.com/api/attachments/CC8iK0NnNTBZa1JWUnpsNWFHRlljbFpqVFJDZkF4ampCU2dLTWdZQkJZQ0VCZ3c', 'date': '06/30/2025, 03:28 PM, +0000 UTC'}, {'position': 9, 'title': 'Microsoft Developer head to employees: Using … is no longer optional, as company considers another change', 'source': {'name': 'Times of India', 'icon': 'https://encrypted-tbn2.gstatic.com/faviconV2?url=https://timesofindia.indiatimes.com&client=NEWS_360&size=96&type=FAVICON&fallback_opts=TYPE,SIZE,URL'}, 'link': 'https://timesofindia.indiatimes.com/technology/tech-news/microsoft-developer-head-to-employees-using-is-no-longer-optional-as-company-considers-another-change-to-its-performance-review-process/articleshow/122160498.cms', 'thumbnail': 'https://static.toiimg.com/thumb/msid-122160488,width-1280,height-720,resizemode-4/122160488.jpg', 'thumbnail_small': 'https://news.google.com/api/attachments/CC8iI0NnNDFXakZvT0dKRVFrRkJNREZ2VFJDZkF4ampCU2dLTWdB', 'date': '06/30/2025, 11:48 AM, +0000 UTC'}, {'position': 10, 'title': 'Windows seemingly lost 400 million users in the past three years — official Microsoft statements show hints of a shrinking user base', 'source': {'name': \"Tom's Hardware\", 'icon': 'https://encrypted-tbn2.gstatic.com/faviconV2?url=https://www.tomshardware.com&client=NEWS_360&size=96&type=FAVICON&fallback_opts=TYPE,SIZE,URL', 'authors': ['Jowi Morales']}, 'link': 'https://www.tomshardware.com/software/windows/windows-seemingly-lost-400-million-users-in-the-past-three-years-official-microsoft-statements-show-hints-of-a-shrinking-user-base', 'thumbnail': 'https://cdn.mos.cms.futurecdn.net/wtvN9xqGhNUsjD72V6UgyY.png', 'thumbnail_small': 'https://news.google.com/api/attachments/CC8iK0NnNW1halUyVnpCT2RuUXRibmcwVFJDZkF4ampCU2dLTWdhRm9vb3N0UVk', 'date': '06/29/2025, 03:31 PM, +0000 UTC'}, {'position': 11, 'title': \"Microsoft's AI Bet Is Paying Off Big\", 'source': {'name': 'TradingView', 'icon': 'https://encrypted-tbn0.gstatic.com/faviconV2?url=https://www.tradingview.com&client=NEWS_360&size=96&type=FAVICON&fallback_opts=TYPE,SIZE,URL'}, 'link': 'https://www.tradingview.com/news/gurufocus:6d4ad723c094b:0-microsoft-s-ai-bet-is-paying-off-big/', 'thumbnail': 'https://s.tradingview.com/static/images/illustrations/news-story.jpg', 'thumbnail_small': 'https://news.google.com/api/attachments/CC8iK0NnNURZazV6YjAxTVVtMDBUVGxSVFJDUkF4ajhCU2dLTWdhQlVZaUV5Z00', 'date': '06/30/2025, 01:08 PM, +0000 UTC'}, {'position': 12, 'title': ':( Microsoft’s ‘Blue Screen of Death’ Is Going Away', 'source': {'name': 'The New York Times', 'icon': 'https://encrypted-tbn2.gstatic.com/faviconV2?url=https://www.nytimes.com&client=NEWS_360&size=96&type=FAVICON&fallback_opts=TYPE,SIZE,URL', 'authors': ['Sopan Deb']}, 'link': 'https://www.nytimes.com/2025/06/27/technology/microsoft-blue-screen-death-windows.html', 'thumbnail': 'https://static01.nyt.com/images/2025/06/28/multimedia/28xp-windows-ap/28xp-windows-ap-articleLarge.jpg?quality=75&auto=webp&disable=upscale', 'thumbnail_small': 'https://news.google.com/api/attachments/CC8iK0NnNTZObVZFVVVrNWJYSkVaSFYwVFJDUUF4allCQ2dLTWdZUlJJam9vUWc', 'date': '06/27/2025, 08:32 PM, +0000 UTC'}, {'position': 13, 'title': 'Microsoft’s Free New Windows Upgrade: How It Works And How To Get It', 'source': {'name': 'Forbes', 'icon': 'https://encrypted-tbn2.gstatic.com/faviconV2?url=https://www.forbes.com&client=NEWS_360&size=96&type=FAVICON&fallback_opts=TYPE,SIZE,URL', 'authors': ['David Phelan']}, 'link': 'https://www.forbes.com/sites/davidphelan/2025/06/28/microsofts-free-new-windows-upgrade-how-it-works-and-how-to-get-it/', 'thumbnail': 'https://imageio.forbes.com/specials-images/imageserve/67ff73c36758a68850092473/Windows-11-Vs--Windows-10/960x0.jpg?height=474&width=711&fit=bounds', 'thumbnail_small': 'https://news.google.com/api/attachments/CC8iL0NnNDVibk5qZW5WMU1ESmhSRnB2VFJERUF4aW1CU2dLTWdtSk1wSVNIYW1waHdJ', 'date': '06/28/2025, 09:20 AM, +0000 UTC'}, {'position': 14, 'title': \"Microsoft Edge's latest stable channel update adds MORE AI — All Copilot all the time\", 'source': {'name': 'Windows Central', 'icon': 'https://encrypted-tbn3.gstatic.com/faviconV2?url=https://www.windowscentral.com&client=NEWS_360&size=96&type=FAVICON&fallback_opts=TYPE,SIZE,URL'}, 'link': 'https://www.windowscentral.com/software-apps/microsoft-edges-latest-stable-channel-update-adds-more-ai-all-copilot-all-the-time', 'thumbnail': 'https://cdn.mos.cms.futurecdn.net/jP96heCRjbQQ9sSQ4PFf86.jpg', 'thumbnail_small': 'https://news.google.com/api/attachments/CC8iK0NnNXpOVGxFVEZCdk5tUkdSbDh5VFJDZkF4ampCU2dLTWdZaGtvUlJWUU0', 'date': '06/27/2025, 01:03 PM, +0000 UTC'}, {'position': 15, 'title': 'Microsoft Shares Latest Findings from 2025 Work Trend Index: Unlocking Indonesia’s Potential Through Human-AI Collaboration – Indonesia News Center', 'source': {'name': 'Microsoft', 'icon': 'https://encrypted-tbn2.gstatic.com/faviconV2?url=https://news.microsoft.com&client=NEWS_360&size=96&type=FAVICON&fallback_opts=TYPE,SIZE,URL'}, 'link': 'https://news.microsoft.com/id-id/2025/06/23/microsoft-shares-latest-findings-from-2025-work-trend-index-unlocking-indonesias-potential-through-human-ai-collaboration/', 'thumbnail': 'https://msftstories.thesourcemediaassets.com/sites/454/2025/06/WTI-2025.png', 'thumbnail_small': 'https://news.google.com/api/attachments/CC8iK0NnNXNXRnBKWnpnNU9USXhaa2t6VFJDZkF4ampCU2dLTWdhZFU0aXNzUVU', 'date': '06/23/2025, 06:08 AM, +0000 UTC'}, {'position': 16, 'title': \"One of France's largest cities has now also ditched Microsoft for open source software\", 'source': {'name': 'TechRadar', 'icon': 'https://encrypted-tbn2.gstatic.com/faviconV2?url=https://www.techradar.com&client=NEWS_360&size=96&type=FAVICON&fallback_opts=TYPE,SIZE,URL', 'authors': ['Craig Hale']}, 'link': 'https://www.techradar.com/pro/one-of-frances-largest-cities-has-now-also-ditched-microsoft-for-open-source-software', 'thumbnail': 'https://cdn.mos.cms.futurecdn.net/RYKwGuWxE7d4jwqXbj7Qwk.jpg', 'thumbnail_small': 'https://news.google.com/api/attachments/CC8iK0NnNW1OMlpRVkVsRVVYTmxkVUYzVFJDZkF4amlCU2dLTWdhMUU1eHhGUW8', 'date': '06/30/2025, 09:38 AM, +0000 UTC'}, {'position': 17, 'title': 'Windows 12 release is pushed back at least another year as Microsoft announces Windows 11 version 25H2', 'source': {'name': \"Tom's Hardware\", 'icon': 'https://encrypted-tbn2.gstatic.com/faviconV2?url=https://www.tomshardware.com&client=NEWS_360&size=96&type=FAVICON&fallback_opts=TYPE,SIZE,URL', 'authors': ['Hassam Nasir']}, 'link': 'https://www.tomshardware.com/software/windows/windows-12-release-is-pushed-back-at-least-another-year-as-microsoft-announces-windows-11-version-25h2', 'thumbnail': 'https://cdn.mos.cms.futurecdn.net/ypWQUxWaQxBwhGZMiKTWLj.jpg', 'thumbnail_small': 'https://news.google.com/api/attachments/CC8iJ0NnNDVlbXh4ZFc1c1UwRktibXhUVFJDZkF4amlCU2dLTWdNUkJCWQ', 'date': '06/29/2025, 01:44 PM, +0000 UTC'}, {'position': 18, 'title': 'Microsoft (MSFT) Just Got a New $530 Target — Here’s What’s Driving It', 'source': {'name': 'Yahoo Finance', 'icon': 'https://encrypted-tbn1.gstatic.com/faviconV2?url=https://finance.yahoo.com&client=NEWS_360&size=96&type=FAVICON&fallback_opts=TYPE,SIZE,URL', 'authors': ['Ghazal Ahmed']}, 'link': 'https://finance.yahoo.com/news/microsoft-msft-just-got-530-160902506.html', 'thumbnail': 'https://media.zenfs.com/en/insidermonkey.com/96a4534c492de1424099eb44a8b0355d', 'thumbnail_small': 'https://news.google.com/api/attachments/CC8iL0NnNUJjbHB6Y25kblJWZEdkMTlSVFJERUF4aW1CU2dLTWdrQlFJNWx0aVVsU1FJ', 'date': '06/29/2025, 04:09 PM, +0000 UTC'}, {'position': 19, 'title': 'Microsoft’s sketchy Win 10 vs Win 11 performance claims pit a 9-year-old PC against a modern machine to claim 2.3X gain', 'source': {'name': \"Tom's Hardware\", 'icon': 'https://encrypted-tbn2.gstatic.com/faviconV2?url=https://www.tomshardware.com&client=NEWS_360&size=96&type=FAVICON&fallback_opts=TYPE,SIZE,URL', 'authors': ['Hassam Nasir']}, 'link': 'https://www.tomshardware.com/software/windows/microsofts-sketchy-win-10-vs-win-11-performance-claims-pit-a-9-year-old-pc-against-a-modern-machine-to-claim-2-3x-gain', 'thumbnail': 'https://cdn.mos.cms.futurecdn.net/HQL28kNeQvgUfbiLqFAHBm-1200-80.jpg', 'thumbnail_small': 'https://news.google.com/api/attachments/CC8iK0NnNUVkSFIyUmxCNGVVMWFWM1JMVFJDb0FSaXNBaWdCTWdhRm9vb010UVk', 'date': '06/28/2025, 03:52 PM, +0000 UTC'}, {'position': 20, 'title': \"Windows Blue screen of death axed after 40 years, but BSOD still remains — will be replaced by new black Windows 11 'unexpected restart screen'\", 'source': {'name': \"Tom's Hardware\", 'icon': 'https://encrypted-tbn2.gstatic.com/faviconV2?url=https://www.tomshardware.com&client=NEWS_360&size=96&type=FAVICON&fallback_opts=TYPE,SIZE,URL', 'authors': ['Hassam Nasir']}, 'link': 'https://www.tomshardware.com/software/windows/windows-blue-screen-of-death-axed-after-40-years-but-bsod-still-remains-will-be-replaced-by-new-black-windows-11-unexpected-restart-screen', 'thumbnail': 'https://cdn.mos.cms.futurecdn.net/Dasgrx6ZCHKBsWxUoKAGgP.jpg', 'thumbnail_small': 'https://news.google.com/api/attachments/CC8iJ0NnNUhkemR3Ym5CVU5HMVhYeTFDVFJDZkF4ampCU2dLTWdPaGNnZw', 'date': '06/27/2025, 11:32 AM, +0000 UTC'}, {'position': 21, 'title': 'Microsoft to Preview New Windows Endpoint Security Platform After CrowdStrike Outage', 'source': {'name': 'SecurityWeek', 'icon': 'https://encrypted-tbn3.gstatic.com/faviconV2?url=https://www.securityweek.com&client=NEWS_360&size=96&type=FAVICON&fallback_opts=TYPE,SIZE,URL', 'authors': ['Eduard Kovacs']}, 'link': 'https://www.securityweek.com/microsoft-to-preview-new-windows-endpoint-security-platform-after-crowdstrike-outage/', 'thumbnail': 'https://www.securityweek.com/wp-content/uploads/2024/10/Windows-Kernel-BSOD.jpg', 'thumbnail_small': 'https://news.google.com/api/attachments/CC8iK0NnNW5Ra1ZvTjB4MVpXWkNSbTVqVFJDZkF4ampCU2dLTWdhQlk0enROUWM', 'date': '06/27/2025, 11:47 AM, +0000 UTC'}, {'position': 22, 'title': 'Is Microsoft’s new Mu for you?', 'source': {'name': 'Computerworld', 'icon': 'https://encrypted-tbn0.gstatic.com/faviconV2?url=https://www.computerworld.com&client=NEWS_360&size=96&type=FAVICON&fallback_opts=TYPE,SIZE,URL', 'authors': ['Mike Elgan']}, 'link': 'https://www.computerworld.com/article/4013501/is-microsofts-new-mu-for-you.html', 'thumbnail': 'https://www.computerworld.com/wp-content/uploads/2025/06/4013501-0-73991600-1751018582-SLM.jpg?quality=50&strip=all', 'thumbnail_small': 'https://news.google.com/api/attachments/CC8iK0NnNHdibGhIZDBoMlN6VkRWMHRYVFJDZkF4ampCU2dLTWdhWmNvcHRLUVU', 'date': '06/27/2025, 10:03 AM, +0000 UTC'}, {'position': 23, 'title': 'Microsoft to Retire the Blue Screen of Death (Again) for a Black Void', 'source': {'name': 'PCMag', 'icon': 'https://encrypted-tbn0.gstatic.com/faviconV2?url=https://www.pcmag.com&client=NEWS_360&size=96&type=FAVICON&fallback_opts=TYPE,SIZE,URL', 'authors': ['Michael Kan']}, 'link': 'https://www.pcmag.com/news/microsoft-to-retire-the-blue-screen-of-death-again-for-a-black-void', 'thumbnail': 'https://i.pcmag.com/imagery/articles/07BH75hfap7e5S5jqmE5zkG-1..v1750954888.jpg', 'thumbnail_small': 'https://news.google.com/api/attachments/CC8iK0NnNHdjRzVxTkdoT2VVdEZPRXhTVFJDZkF4ampCU2dLTWdhZGM0NnNNUWM', 'date': '06/26/2025, 07:28 PM, +0000 UTC'}, {'position': 24, 'title': 'Microsoft says goodbye to the Windows blue screen of death', 'source': {'name': 'CNBC', 'icon': 'https://encrypted-tbn0.gstatic.com/faviconV2?url=https://www.cnbc.com&client=NEWS_360&size=96&type=FAVICON&fallback_opts=TYPE,SIZE,URL', 'authors': ['Samantha Subin']}, 'link': 'https://www.cnbc.com/2025/06/26/microsoft-blue-screen-of-death-windows.html', 'thumbnail': 'https://image.cnbcfm.com/api/v1/image/108164748-1750963952057-gettyimages-2162032516-AA_19072024_1781006.jpeg?v=1750968636&w=1600&h=900', 'thumbnail_small': 'https://news.google.com/api/attachments/CC8iK0NnNHRiMk52VWxSclFrZGhYM3BpVFJDZkF4ampCU2dLTWdhTm1JcWx6Z00', 'date': '06/26/2025, 07:04 PM, +0000 UTC'}, {'position': 25, 'title': 'Windows 11 KB5060829 update released with 38 new changes, fixes', 'source': {'name': 'BleepingComputer', 'icon': 'https://encrypted-tbn0.gstatic.com/faviconV2?url=https://www.bleepingcomputer.com&client=NEWS_360&size=96&type=FAVICON&fallback_opts=TYPE,SIZE,URL', 'authors': ['Sergiu Gatlan']}, 'link': 'https://www.bleepingcomputer.com/news/microsoft/windows-11-kb5060829-update-released-with-38-new-changes-fixes/', 'thumbnail': 'https://www.bleepstatic.com/content/hl-images/2024/07/18/Windows--11.jpg', 'thumbnail_small': 'https://news.google.com/api/attachments/CC8iK0NnNUVSQzA0UmtOclpVWjFhVTh6VFJDZkF4ampCU2dLTWdhQmNaS3BOUWM', 'date': '06/27/2025, 07:28 AM, +0000 UTC'}, {'position': 26, 'title': \"Microsoft's own AI chip delayed six months in major setback — in-house chip now reportedly expected in 2026, but won't hold a candle to Nvidia Blackwell\", 'source': {'name': \"Tom's Hardware\", 'icon': 'https://encrypted-tbn2.gstatic.com/faviconV2?url=https://www.tomshardware.com&client=NEWS_360&size=96&type=FAVICON&fallback_opts=TYPE,SIZE,URL', 'authors': ['Stephen Warwick']}, 'link': 'https://www.tomshardware.com/tech-industry/semiconductors/microsofts-own-ai-chip-delayed-six-months-in-major-setback-in-house-chip-now-reportedly-expected-in-2026-but-wont-hold-a-candle-to-nvidia-blackwell', 'thumbnail': 'https://cdn.mos.cms.futurecdn.net/8RtKGnbE9zNZZ8CngUWHVY-1200-80.jpg', 'thumbnail_small': 'https://news.google.com/api/attachments/CC8iK0NnNTNNVVZuZFRFNGJtazVRVEpJVFJDb0FSaXNBaWdCTWdZUjRZelF4QVE', 'date': '06/27/2025, 02:04 PM, +0000 UTC'}, {'position': 27, 'title': 'Microsoft integrates 1Password with Windows 11 for passkey-based sign-ins', 'source': {'name': 'Business Standard', 'icon': 'https://encrypted-tbn2.gstatic.com/faviconV2?url=https://www.business-standard.com&client=NEWS_360&size=96&type=FAVICON&fallback_opts=TYPE,SIZE,URL', 'authors': ['Sweta Kumari']}, 'link': 'https://www.business-standard.com/technology/tech-news/microsoft-integrates-1password-windows-11-passkey-sign-ins-125063000472_1.html', 'thumbnail': 'https://bsmedia.business-standard.com/_media/bs/img/article/2025-06/30/full/1751270762-6356.png?im=FitAndFill=(826,465)', 'thumbnail_small': 'https://news.google.com/api/attachments/CC8iJ0NnNTNibmxDYkV0V1dHWkpMV0pOVFJDZkF4amlCU2dLTWdPUk5CUQ', 'date': '06/30/2025, 08:17 AM, +0000 UTC'}, {'position': 28, 'title': 'Microsoft’s new AI agent for Windows 11 can manage settings for you', 'source': {'name': 'PCWorld', 'icon': 'https://encrypted-tbn3.gstatic.com/faviconV2?url=https://www.pcworld.com&client=NEWS_360&size=96&type=FAVICON&fallback_opts=TYPE,SIZE,URL', 'authors': ['Viktor Eriksson']}, 'link': 'https://www.pcworld.com/article/2830528/microsoft-adds-new-ai-agent-to-windows-11-that-manages-settings-for-you.html', 'thumbnail': 'https://www.pcworld.com/wp-content/uploads/2025/06/Windows-11-key-on-keyboard-stylized-illustration-2.jpg?quality=50&strip=all', 'thumbnail_small': 'https://news.google.com/api/attachments/CC8iI0NnNU5jak5IVjJ3MmFqSllkSGxRVFJDZkF4ampCU2dLTWdB', 'date': '06/27/2025, 02:17 PM, +0000 UTC'}, {'position': 29, 'title': 'Microsoft fixes Outlook bug causing crashes when opening emails', 'source': {'name': 'BleepingComputer', 'icon': 'https://encrypted-tbn0.gstatic.com/faviconV2?url=https://www.bleepingcomputer.com&client=NEWS_360&size=96&type=FAVICON&fallback_opts=TYPE,SIZE,URL', 'authors': ['Sergiu Gatlan']}, 'link': 'https://www.bleepingcomputer.com/news/microsoft/microsoft-fixes-outlook-bug-causing-crashes-when-opening-emails/', 'thumbnail': 'https://www.bleepstatic.com/content/hl-images/2025/04/29/Outlook.jpg', 'thumbnail_small': 'https://news.google.com/api/attachments/CC8iK0NnNU1aelJzTTJKS2JuUTVVVkJaVFJDZkF4ampCU2dLTWdZZGxKQnJ0UVk', 'date': '06/26/2025, 10:26 AM, +0000 UTC'}, {'position': 30, 'title': \"Microsoft's next-gen AI chip production delayed to 2026, The Information reports\", 'source': {'name': 'Reuters', 'icon': 'https://encrypted-tbn2.gstatic.com/faviconV2?url=https://www.reuters.com&client=NEWS_360&size=96&type=FAVICON&fallback_opts=TYPE,SIZE,URL', 'authors': ['Deborah Mary Sophia', 'Shailesh Kuber']}, 'link': 'https://www.reuters.com/business/microsofts-next-gen-ai-chip-production-delayed-2026-information-reports-2025-06-27/', 'thumbnail': 'https://www.reuters.com/resizer/v2/XRZNXYTFJJMUJB6KSZVW5DJJZE.jpg?auth=f794c6f0c078a7c256e42d5b8e809044b8e9a6a5c27ec022ac106b6973bc799a&width=5760&quality=80', 'thumbnail_small': 'https://news.google.com/api/attachments/CC8iK0NnNW1TVk5DVW1obVYwcElabEJaVFJDZkF4amlCU2dLTWdZQllKS0pyQWM', 'date': '06/27/2025, 02:17 PM, +0000 UTC'}, {'position': 31, 'title': \"Microsoft is phasing out passwords soon – here's why passkeys are replacing them and what to do next\", 'source': {'name': 'TechRadar', 'icon': 'https://encrypted-tbn2.gstatic.com/faviconV2?url=https://www.techradar.com&client=NEWS_360&size=96&type=FAVICON&fallback_opts=TYPE,SIZE,URL', 'authors': ['Chris Rowlands']}, 'link': 'https://www.techradar.com/computing/cyber-security/what-are-passkeys-in-microsoft-authenticator-how-to-set-them-up', 'thumbnail': 'https://cdn.mos.cms.futurecdn.net/gRiEkBkYxa4vRAH7HVEiAB-1200-80.jpg', 'thumbnail_small': 'https://news.google.com/api/attachments/CC8iK0NnNXRZMHhYUVVWclFtdzBkVkZUVFJDb0FSaXNBaWdCTWdZQkVvd3l4UVE', 'date': '06/28/2025, 03:30 PM, +0000 UTC'}, {'position': 32, 'title': 'What’s new in Copilot Studio: May 2025', 'source': {'name': 'Microsoft', 'icon': 'https://encrypted-tbn3.gstatic.com/faviconV2?url=https://www.microsoft.com&client=NEWS_360&size=96&type=FAVICON&fallback_opts=TYPE,SIZE,URL', 'authors': ['Lili Cheng']}, 'link': 'https://www.microsoft.com/en-us/microsoft-copilot/blog/copilot-studio/whats-new-in-copilot-studio-may-2025/', 'thumbnail': 'https://www.microsoft.com/en-us/microsoft-copilot/blog/wp-content/uploads/2025/06/CopilotStudio_WhatsNew_May2025_Blog_250530_1260.webp', 'thumbnail_small': 'https://news.google.com/api/attachments/CC8iK0NnNW5UbVJGU2tKbGFWcHlTekEwVFJDZkF4ampCU2dLTWdZQmtKUWtNZ2M', 'date': '06/04/2025, 07:00 AM, +0000 UTC'}, {'position': 33, 'title': 'Microsoft KILLS iconic Windows Blue Screen of Death — Windows 11 gains new, darker OS error screen', 'source': {'name': 'Windows Central', 'icon': 'https://encrypted-tbn3.gstatic.com/faviconV2?url=https://www.windowscentral.com&client=NEWS_360&size=96&type=FAVICON&fallback_opts=TYPE,SIZE,URL', 'authors': ['Zac Bowden']}, 'link': 'https://www.windowscentral.com/software-apps/windows-11/microsoft-windows-bsod-removed-replaced-black-screen', 'thumbnail': 'https://cdn.mos.cms.futurecdn.net/ggCvqfLkmYxmcDEDDHjRER-1200-80.jpg', 'thumbnail_small': 'https://news.google.com/api/attachments/CC8iJ0NnNUdTemRqVkZwSFpUSjZOa1JSVFJDb0FSaXNBaWdCTWdPSmN3bw', 'date': '06/26/2025, 08:00 PM, +0000 UTC'}, {'position': 34, 'title': 'News and updates from Microsoft Security', 'source': {'name': 'Microsoft', 'icon': 'https://encrypted-tbn2.gstatic.com/faviconV2?url=https://news.microsoft.com&client=NEWS_360&size=96&type=FAVICON&fallback_opts=TYPE,SIZE,URL'}, 'link': 'https://news.microsoft.com/secure-2025/', 'thumbnail': 'https://msftstories.thesourcemediaassets.com/sites/722/2025/03/Hero-Image.png', 'thumbnail_small': 'https://news.google.com/api/attachments/CC8iK0NnNVBURTVUY1dSUmVrMVlUMDlYVFJDZUF4amtCU2dLTWdZdEFKSnVDUXM', 'date': '03/20/2025, 09:13 PM, +0000 UTC'}, {'position': 35, 'title': 'Microsoft fixes known issue that breaks Windows 11 updates', 'source': {'name': 'BleepingComputer', 'icon': 'https://encrypted-tbn0.gstatic.com/faviconV2?url=https://www.bleepingcomputer.com&client=NEWS_360&size=96&type=FAVICON&fallback_opts=TYPE,SIZE,URL', 'authors': ['Sergiu Gatlan']}, 'link': 'https://www.bleepingcomputer.com/news/microsoft/microsoft-fixes-known-issue-that-breaks-windows-11-updates/', 'thumbnail': 'https://www.bleepstatic.com/content/hl-images/2024/12/16/Windows.jpg', 'thumbnail_small': 'https://news.google.com/api/attachments/CC8iK0NnNVBOV1pMT0dsR1ZGcENRekZLVFJDZkF4ampCU2dLTWdhaGc1RE9zUVk', 'date': '06/24/2025, 05:13 PM, +0000 UTC'}, {'position': 36, 'title': 'Is ChatGPT making us dumber? A new MIT study claims using AI tools causes cognitive issues, and it’s not the first – Microsoft has already warned about ‘diminished independent problem-solving’', 'source': {'name': 'IT Pro', 'icon': 'https://encrypted-tbn0.gstatic.com/faviconV2?url=https://www.itpro.com&client=NEWS_360&size=96&type=FAVICON&fallback_opts=TYPE,SIZE,URL', 'authors': ['Ross Kelly']}, 'link': 'https://www.itpro.com/technology/artificial-intelligence/ai-tools-chatgpt-cognitive-impact-mit-microsoft', 'thumbnail': 'https://cdn.mos.cms.futurecdn.net/CgGHWLy5Z2oHmr6LAcNzVf.jpg', 'thumbnail_small': 'https://news.google.com/api/attachments/CC8iK0NnNVBlbXhXTjBSc1RIRTBjamxHVFJDZkF4ampCU2dLTWdheFlaQndOUVk', 'date': '06/27/2025, 10:00 AM, +0000 UTC'}, {'position': 37, 'title': 'Microsoft confirms Windows 11 version 25H2 is coming soon — will install much faster than version 24H2', 'source': {'name': 'Windows Central', 'icon': 'https://encrypted-tbn3.gstatic.com/faviconV2?url=https://www.windowscentral.com&client=NEWS_360&size=96&type=FAVICON&fallback_opts=TYPE,SIZE,URL', 'authors': ['Zac Bowden']}, 'link': 'https://www.windowscentral.com/software-apps/windows-11/windows-11-version-25h2-official-announcement', 'thumbnail': 'https://cdn.mos.cms.futurecdn.net/xhVcK68PshXPbNM4ZVwdYe.jpg', 'thumbnail_small': 'https://news.google.com/api/attachments/CC8iJ0NnNDVYemhPWlhSbmFFb3RiMFZVVFJDZkF4ampCU2dLTWdNUkFRUQ', 'date': '06/27/2025, 08:46 PM, +0000 UTC'}, {'position': 38, 'title': 'Microsoft Build 2025', 'source': {'name': 'Microsoft', 'icon': 'https://encrypted-tbn2.gstatic.com/faviconV2?url=https://news.microsoft.com&client=NEWS_360&size=96&type=FAVICON&fallback_opts=TYPE,SIZE,URL'}, 'link': 'https://news.microsoft.com/build-2025/', 'thumbnail': 'https://msftstories.thesourcemediaassets.com/sites/728/2025/05/screenshot-build-hero.png', 'thumbnail_small': 'https://news.google.com/api/attachments/CC8iK0NnNVVhV0l0Y1hsVFZERlJjRUZHVFJDS0F4aUtCaWdLTWdhaG81Ukx0UVk', 'date': '05/19/2025, 07:00 AM, +0000 UTC'}, {'position': 39, 'title': 'Microsoft Extends Windows 10 Security Updates for One Year with New Enrollment Options', 'source': {'name': 'The Hacker News', 'icon': 'https://encrypted-tbn3.gstatic.com/faviconV2?url=https://thehackernews.com&client=NEWS_360&size=96&type=FAVICON&fallback_opts=TYPE,SIZE,URL', 'authors': ['Ravie Lakshmanan']}, 'link': 'https://thehackernews.com/2025/06/microsoft-extends-windows-10-security.html', 'thumbnail': 'https://blogger.googleusercontent.com/img/b/R29vZ2xl/AVvXsEh0wh9-MeqHGc_3XMqCXsfkCQ05NlmhnBAjEvmGzBWYcbL55NWxDsBdlSjUU7gqM_zZFMBbzKh8revqQhY6ZAf0__LDdH18X5AIjVoXvLAIKcKXSeAz1yh0f1cEfPwlJ7GK2yXzxSRQ_YHaOb6cAT_m3zmiQUwYxh-BnRPTc609I9-ZBS551lNT85QLaFQv/s728-rw-e365/windows.jpg', 'thumbnail_small': 'https://news.google.com/api/attachments/CC8iK0NnNWlOa04xTTI0d1JsSmlZalI2VFJEOEFoallCU2dLTWdhbE5JN05tUVU', 'date': '06/25/2025, 05:10 AM, +0000 UTC'}, {'position': 40, 'title': 'All the Azure news you don’t want to miss from Microsoft Build 2025', 'source': {'name': 'Microsoft Azure', 'icon': 'https://encrypted-tbn2.gstatic.com/faviconV2?url=https://azure.microsoft.com&client=NEWS_360&size=96&type=FAVICON&fallback_opts=TYPE,SIZE,URL', 'authors': ['Alysa Taylor']}, 'link': 'https://azure.microsoft.com/en-us/blog/all-the-azure-news-you-dont-want-to-miss-from-microsoft-build-2025/', 'thumbnail': 'https://azure.microsoft.com/en-us/blog/wp-content/uploads/2025/06/Azure_Blog_250529-02-1.webp', 'thumbnail_small': 'https://news.google.com/api/attachments/CC8iK0NnNHpkbk5QUlZoc2VEbFpXbVJJVFJDZkF4ampCU2dLTWdZSlFJekZIZ2c', 'date': '06/03/2025, 07:00 AM, +0000 UTC'}, {'position': 41, 'title': 'Group of high-profile authors sue Microsoft over use of their books in AI training', 'source': {'name': 'The Guardian', 'icon': 'https://encrypted-tbn0.gstatic.com/faviconV2?url=https://www.theguardian.com&client=NEWS_360&size=96&type=FAVICON&fallback_opts=TYPE,SIZE,URL'}, 'link': 'https://www.theguardian.com/technology/2025/jun/26/microsoft-ai-authors-lawsuit', 'thumbnail': 'https://i.guim.co.uk/img/media/2418adff3880a127785b8b0ee9c106a19655bd68/0_0_8660_5774/master/8660.jpg?width=465&dpr=1&s=none&crop=none', 'thumbnail_small': 'https://news.google.com/api/attachments/CC8iL0NnNWpNMFpuYlVNMFpsZERkR3N6VFJDMkFoalJBeWdLTWdrQllJNktJU1pWY0FF', 'date': '06/26/2025, 03:44 PM, +0000 UTC'}, {'position': 42, 'title': 'Microsoft’s Majorana 1 chip carves new path for quantum computing - Source', 'source': {'name': 'Microsoft', 'icon': 'https://encrypted-tbn2.gstatic.com/faviconV2?url=https://news.microsoft.com&client=NEWS_360&size=96&type=FAVICON&fallback_opts=TYPE,SIZE,URL', 'authors': ['Catherine Bolgar']}, 'link': 'https://news.microsoft.com/source/features/innovation/microsofts-majorana-1-chip-carves-new-path-for-quantum-computing/', 'thumbnail': 'https://sourceasia.thesourcemediaassets.com/2025/02/19th-Feb.jpg', 'thumbnail_small': 'https://news.google.com/api/attachments/CC8iK0NnNTBYekZGYlROb2VuaDJhRTAzVFJEUEFoaVVCeWdLTWdhWklZeEtJZ2c', 'date': '02/19/2025, 08:00 AM, +0000 UTC'}, {'position': 43, 'title': 'Surface and Windows May 6 news', 'source': {'name': 'Microsoft', 'icon': 'https://encrypted-tbn2.gstatic.com/faviconV2?url=https://news.microsoft.com&client=NEWS_360&size=96&type=FAVICON&fallback_opts=TYPE,SIZE,URL'}, 'link': 'https://news.microsoft.com/may-6-announce/', 'thumbnail': 'https://msftstories.thesourcemediaassets.com/sites/726/2025/05/Hero-Surface-Laptop-13-inch-and-Surface-Pro-2.png', 'thumbnail_small': 'https://news.google.com/api/attachments/CC8iL0NnNU1ia1V4ZW1oS1gzbEpla0ZVVFJDZkF4ampCU2dLTWdrVms1SlJOYWVTN2dF', 'date': '05/06/2025, 07:00 AM, +0000 UTC'}, {'position': 44, 'title': \"Satya Nadella Warns: AI's Power Problem and Microsoft's New Focus\", 'source': {'name': 'OpenTools', 'icon': 'https://encrypted-tbn1.gstatic.com/faviconV2?url=https://opentools.ai&client=NEWS_360&size=96&type=FAVICON&fallback_opts=TYPE,SIZE,URL'}, 'link': 'https://opentools.ai/news/satya-nadella-warns-ais-power-problem-and-microsofts-new-focus', 'thumbnail': 'https://opentools.ai/_next/image?url=https%3A%2F%2Fimagedelivery.net%2FFCiXvK7dG4mSm_W_033WNA%2F0d8449f0-1d42-4de8-ce37-a0f977c09800%2Fcontentbanner&w=3840&q=75', 'thumbnail_small': 'https://news.google.com/api/attachments/CC8iI0NnNVFibloyVTBWQmVsOVdWblJXVFJEaEFSamhBU2dCTWdB', 'date': '06/29/2025, 03:04 PM, +0000 UTC'}, {'position': 45, 'title': '3 new ways AI agents can help you do even more', 'source': {'name': 'Microsoft', 'icon': 'https://encrypted-tbn2.gstatic.com/faviconV2?url=https://news.microsoft.com&client=NEWS_360&size=96&type=FAVICON&fallback_opts=TYPE,SIZE,URL', 'authors': ['Samantha Kubota']}, 'link': 'https://news.microsoft.com/source/features/ai/3-new-ways-ai-agents-can-help-you-do-even-more/', 'thumbnail': 'https://msthesource.thesourcemediaassets.com/2025/04/Designer-2.jpg', 'thumbnail_small': 'https://news.google.com/api/attachments/CC8iK0NnNUNUMHR3ZGkwMWFtd3pibFpTVFJDTkJCaklCQ2dLTWdhSmdaU3VNUWM', 'date': '04/14/2025, 07:00 AM, +0000 UTC'}, {'position': 46, 'title': 'New US visa rule, Amazon announces dates for its biggest sale of the year, Microsoft kills Blue Screen of', 'source': {'name': 'Times of India', 'icon': 'https://encrypted-tbn2.gstatic.com/faviconV2?url=https://timesofindia.indiatimes.com&client=NEWS_360&size=96&type=FAVICON&fallback_opts=TYPE,SIZE,URL'}, 'link': 'https://timesofindia.indiatimes.com/technology/tech-news/new-us-visa-rule-amazon-announces-dates-for-its-biggest-sale-of-the-year-microsoft-kills-blue-screen-of-death-error-and-other-top-tech-news-of-the-week/articleshow/122138777.cms', 'thumbnail': 'https://static.toiimg.com/thumb/msid-122138831,width-1280,height-720,resizemode-4/122138831.jpg', 'thumbnail_small': 'https://news.google.com/api/attachments/CC8iL0NnNUtRWEYzYmxwWGQyUk5TakExVFJDZkF4ampCU2dLTWdtWk1vZ3F2cU5NYUFJ', 'date': '06/29/2025, 04:53 AM, +0000 UTC'}, {'position': 47, 'title': 'Tech layoffs June 2025: Microsoft, Google, Disney, ZoomInfo join the list of companies said to be shedding jobs', 'source': {'name': 'Fast Company', 'icon': 'https://encrypted-tbn3.gstatic.com/faviconV2?url=https://www.fastcompany.com&client=NEWS_360&size=96&type=FAVICON&fallback_opts=TYPE,SIZE,URL', 'authors': ['Michael Grothaus']}, 'link': 'https://www.fastcompany.com/91358076/tech-layoffs-list-june-2025-microsoft-google-disney-zoominfo', 'thumbnail': 'https://images.fastcompany.com/image/upload/f_webp,q_auto,c_fit/wp-cms-2/2025/06/p-1-91358076-tech-layoffs-june-2025-microsoft-google-disney-zoominfo.jpg', 'thumbnail_small': 'https://news.google.com/api/attachments/CC8iK0NnNXZkekkyYlc5MFkxbFNTSGt5VFJDZkF4ampCU2dLTWdhMWtJNnh0QVk', 'date': '06/25/2025, 09:18 PM, +0000 UTC'}, {'position': 48, 'title': 'Microsoft Build 2025: The age of AI agents and building the open agentic web', 'source': {'name': 'The Official Microsoft Blog', 'icon': 'https://encrypted-tbn0.gstatic.com/faviconV2?url=https://blogs.microsoft.com&client=NEWS_360&size=96&type=FAVICON&fallback_opts=TYPE,SIZE,URL', 'authors': ['Frank X. Shaw']}, 'link': 'https://blogs.microsoft.com/blog/2025/05/19/microsoft-build-2025-the-age-of-ai-agents-and-building-the-open-agentic-web/', 'thumbnail': 'https://msblogs.thesourcemediaassets.com/2025/05/OMB-Build-2025-Hero-Art-Final-1024x576.png', 'thumbnail_small': 'https://news.google.com/api/attachments/CC8iK0NnNVRaRzVDV2xvM1YwcFdjM2xOVFJDZkF4ampCU2dLTWdhQkNJbWtUZ1E', 'date': '05/19/2025, 07:00 AM, +0000 UTC'}, {'position': 49, 'title': 'Pushing passkeys forward: Microsoft’s latest updates for simpler, safer sign-ins', 'source': {'name': 'Microsoft', 'icon': 'https://encrypted-tbn3.gstatic.com/faviconV2?url=https://www.microsoft.com&client=NEWS_360&size=96&type=FAVICON&fallback_opts=TYPE,SIZE,URL', 'authors': ['Joy Chik', 'Vasu Jakkal']}, 'link': 'https://www.microsoft.com/en-us/security/blog/2025/05/01/pushing-passkeys-forward-microsofts-latest-updates-for-simpler-safer-sign-ins/', 'thumbnail': 'https://www.microsoft.com/en-us/security/blog/wp-content/uploads/2025/05/Security_1055253_Blog_250428.png', 'thumbnail_small': 'https://news.google.com/api/attachments/CC8iK0NnNW1YMWd6WjNSRE5EQTJkVXRhVFJDZUF4amtCU2dLTWdZQlE0b3dQUVU', 'date': '05/01/2025, 07:00 AM, +0000 UTC'}, {'position': 50, 'title': 'Microsoft planning thousands of job cuts aimed at salespeople, Bloomberg News reports', 'source': {'name': 'Reuters', 'icon': 'https://encrypted-tbn2.gstatic.com/faviconV2?url=https://www.reuters.com&client=NEWS_360&size=96&type=FAVICON&fallback_opts=TYPE,SIZE,URL'}, 'link': 'https://www.reuters.com/business/world-at-work/microsoft-planning-thousands-job-cuts-aimed-salespeople-bloomberg-news-reports-2025-06-18/', 'thumbnail': 'https://www.reuters.com/resizer/v2/2U6RSVNXGNKDHEGLT276OTMLZI.jpg?auth=596bf1c5ac445c1da8decc059008b8e56d3abf28ddcd3ea6ee027e84e8997d99&width=3497&quality=80', 'thumbnail_small': 'https://news.google.com/api/attachments/CC8iK0NnNXhaa2hzYUY5bE9HWnlZa1ZtVFJERUF4aW1CU2dLTWdhSlVwQ0hMUWc', 'date': '06/18/2025, 07:00 AM, +0000 UTC'}, {'position': 51, 'title': 'Announcing a new strategic collaboration to bring clarity to threat actor naming', 'source': {'name': 'Microsoft', 'icon': 'https://encrypted-tbn3.gstatic.com/faviconV2?url=https://www.microsoft.com&client=NEWS_360&size=96&type=FAVICON&fallback_opts=TYPE,SIZE,URL', 'authors': ['Vasu Jakkal']}, 'link': 'https://www.microsoft.com/en-us/security/blog/2025/06/02/announcing-a-new-strategic-collaboration-to-bring-clarity-to-threat-actor-naming/', 'thumbnail': 'https://www.microsoft.com/en-us/security/blog/wp-content/uploads/2025/05/SEC20_Security_034-809x455.jpg', 'thumbnail_small': 'https://news.google.com/api/attachments/CC8iK0NnNXpiRVZqVlVkcmRWSkNTME5RVFJDZkF4ampCU2dLTWdZTkFJV3BWQU0', 'date': '06/02/2025, 07:00 AM, +0000 UTC'}, {'position': 52, 'title': 'Microsoft Releases Famous Flyer 12: The Piper PA-28-236 Dakota', 'source': {'name': 'FSElite', 'icon': 'https://encrypted-tbn3.gstatic.com/faviconV2?url=https://fselite.net&client=NEWS_360&size=96&type=FAVICON&fallback_opts=TYPE,SIZE,URL'}, 'link': 'https://fselite.net/content/microsoft-releases-famous-flyer-12-the-piper-pa-28-236-dakota/', 'thumbnail': 'https://fselite.net/wp-content/cache/flying-press/32c2ef9607aa35e96d1b725ebd874914.jpg', 'thumbnail_small': 'https://news.google.com/api/attachments/CC8iK0NnNWxNemhDVlV4Q2QyVkpTM296VFJDZkF4ampCU2dLTWdhZHNJQ3FZUUU', 'date': '06/29/2025, 12:31 PM, +0000 UTC'}, {'position': 53, 'title': 'Hackers Target Over 70 Microsoft Exchange Servers to Steal Credentials via Keyloggers', 'source': {'name': 'The Hacker News', 'icon': 'https://encrypted-tbn3.gstatic.com/faviconV2?url=https://thehackernews.com&client=NEWS_360&size=96&type=FAVICON&fallback_opts=TYPE,SIZE,URL', 'authors': ['Ravie Lakshmanan']}, 'link': 'https://thehackernews.com/2025/06/hackers-target-65-microsoft-exchange.html', 'thumbnail': 'https://blogger.googleusercontent.com/img/b/R29vZ2xl/AVvXsEjNfxUILQcuqUVuJBTx0OrY6RwfJFoRuZw0u7-0mkuu8XePPr38JsBZy5DA2KcJavoic1jF5mQXIOqbrKWuu_AnkGUhaEBn15wqaHMuyz2TK0aQTDSRI-rJZKspsQeywNrk543Q8uoueEHSsqmLIDyL3yBCPi2OXdGolA7rQ-MznEsSRnda5NmKJGiMbI0m/s728-rw-e365/ms-exchnage.jpg', 'thumbnail_small': 'https://news.google.com/api/attachments/CC8iK0NnNWxkM2hhV0d4eU16SnVWMm93VFJEOEFoallCU2dLTWdZaGM0eFBNUVk', 'date': '06/24/2025, 01:26 PM, +0000 UTC'}, {'position': 54, 'title': 'Microsoft layoffs: Xbox team reportedly faces new wave of cuts amid strategic overhaul', 'source': {'name': 'Mint', 'icon': 'https://encrypted-tbn1.gstatic.com/faviconV2?url=https://www.livemint.com&client=NEWS_360&size=96&type=FAVICON&fallback_opts=TYPE,SIZE,URL', 'authors': ['Govind Choudhary']}, 'link': 'https://www.livemint.com/news/world/microsoft-layoffs-xbox-team-reportedly-faces-new-wave-of-cuts-amid-strategic-overhaul-11750928860645.html', 'thumbnail': 'https://www.livemint.com/lm-img/img/2025/06/26/1600x900/MICROSOFT-LAYOFFS--0_1750928898274_1750928907568.JPG', 'thumbnail_small': 'https://news.google.com/api/attachments/CC8iK0NnNWhRbXh1UlhOS1JXNVZiRkpDVFJDZkF4ampCU2dLTWdhTlFwSm5vUWc', 'date': '06/26/2025, 09:12 AM, +0000 UTC'}, {'position': 55, 'title': 'Microsoft transfers a top cybersecurity exec: As we continue to ..., says internal memo', 'source': {'name': 'Times of India', 'icon': 'https://encrypted-tbn2.gstatic.com/faviconV2?url=https://timesofindia.indiatimes.com&client=NEWS_360&size=96&type=FAVICON&fallback_opts=TYPE,SIZE,URL'}, 'link': 'https://timesofindia.indiatimes.com/technology/tech-news/microsoft-transfers-a-top-cybersecurity-exec-as-we-continue-to-says-internal-memo/articleshow/122114585.cms', 'thumbnail': 'https://static.toiimg.com/thumb/msid-122114581,width-1280,height-720,resizemode-4/122114581.jpg', 'thumbnail_small': 'https://news.google.com/api/attachments/CC8iK0NnNXdjVFZJVmtjdGJWUTBla0V3VFJDZkF4ampCU2dLTWdZdE5acXZIUWs', 'date': '06/27/2025, 12:59 PM, +0000 UTC'}, {'position': 56, 'title': 'How to follow tech trends and news with AI', 'source': {'name': 'Microsoft', 'icon': 'https://encrypted-tbn3.gstatic.com/faviconV2?url=https://www.microsoft.com&client=NEWS_360&size=96&type=FAVICON&fallback_opts=TYPE,SIZE,URL'}, 'link': 'https://www.microsoft.com/en-us/edge/learning-center/follow-tech-trends-with-ai', 'thumbnail': 'https://cdn-dynmedia-1.microsoft.com/is/image/microsoftcorp/MSFT-Man-on-a-computer-while-listening-to-headphones?scl=1&fmt=png-alpha', 'thumbnail_small': 'https://news.google.com/api/attachments/CC8iK0NnNUxWWGxLUjBOdk1FRXliVWxEVFJDb0FSaXNBaWdCTWdZaE5aQ3VIUWs', 'date': '01/30/2025, 08:00 AM, +0000 UTC'}, {'position': 57, 'title': 'Microsoft’s new AI chip delayed to 2026: report', 'source': {'name': 'TradingView', 'icon': 'https://encrypted-tbn0.gstatic.com/faviconV2?url=https://www.tradingview.com&client=NEWS_360&size=96&type=FAVICON&fallback_opts=TYPE,SIZE,URL'}, 'link': 'https://www.tradingview.com/news/invezz:a8dbef797094b:0-microsoft-s-new-ai-chip-delayed-to-2026-report/', 'thumbnail': 'https://s3.tradingview.com/news/image/invezz:a8dbef797094b-741415046155b12ead79f18e53fa763b-resized.jpeg', 'thumbnail_small': 'https://news.google.com/api/attachments/CC8iK0NnNUxXRFZ0YjJsUFMyVlBXVlp6VFJDeEFSaWNBaWdCTWdhWlVZYU5yUVE', 'date': '06/27/2025, 03:32 PM, +0000 UTC'}, {'position': 58, 'title': 'Home page', 'source': {'name': 'Microsoft', 'icon': 'https://encrypted-tbn3.gstatic.com/faviconV2?url=https://www.microsoft.com&client=NEWS_360&size=96&type=FAVICON&fallback_opts=TYPE,SIZE,URL'}, 'link': 'https://www.microsoft.com/en-us/investor/default', 'thumbnail': 'https://cdn-dynmedia-1.microsoft.com/is/image/microsoftcorp/MS-Exec-Nadella-Satya-1259x472:VP2-859x540', 'thumbnail_small': 'https://news.google.com/api/attachments/CC8iK0NnNTNhemc0WlRjM1ZsTTBSVXRaVFJDM0F4aTdCU2dLTWdZVmFKSm9yZ2M', 'date': '09/20/2024, 08:04 PM, +0000 UTC'}, {'position': 59, 'title': \"Microsoft's in-house AI chip delayed again with crappy performance, can't compete with NVIDIA\", 'source': {'name': 'TweakTown', 'icon': 'https://encrypted-tbn0.gstatic.com/faviconV2?url=https://www.tweaktown.com&client=NEWS_360&size=96&type=FAVICON&fallback_opts=TYPE,SIZE,URL', 'authors': ['Anthony Garreffa']}, 'link': 'https://www.tweaktown.com/news/106089/microsofts-in-house-ai-chip-delayed-again-with-crappy-performance-cant-compete-nvidia/index.html', 'thumbnail': 'https://static.tweaktown.com/news/1/0/106089_801_microsofts-in-house-ai-chip-delayed-again-with-crappy-performance-cant-compete-nvidia.jpg', 'thumbnail_small': 'https://news.google.com/api/attachments/CC8iL0NnNTJWRE53WVdkQllXdDFURWh5VFJEY0FoanNCQ2dLTWdraFlaU1lJQ21MN1FF', 'date': '06/28/2025, 08:03 PM, +0000 UTC'}, {'position': 60, 'title': \"I’ve Been Following the Windows 12 Rumors—Here’s What I Think Is Coming for Microsoft's Next OS\", 'source': {'name': 'PCMag', 'icon': 'https://encrypted-tbn0.gstatic.com/faviconV2?url=https://www.pcmag.com&client=NEWS_360&size=96&type=FAVICON&fallback_opts=TYPE,SIZE,URL', 'authors': ['Michael Muchmore']}, 'link': 'https://www.pcmag.com/news/ive-been-following-windows-12-rumors-whats-next-for-microsofts-os', 'thumbnail': 'https://i.pcmag.com/imagery/articles/03sVPk1hyZq2zTGDgFJBsZ2-1..v1749487637.jpg', 'thumbnail_small': 'https://news.google.com/api/attachments/CC8iK0NnNURhbnBwWmtoUmJFc3hUekpPVFJDZkF4ampCU2dLTWdhbG9vd3lPUVU', 'date': '06/13/2025, 12:56 PM, +0000 UTC'}, {'position': 61, 'title': 'Microsoft Plans Major Job Cuts at Xbox Gaming Division', 'source': {'name': 'Bloomberg', 'icon': 'https://encrypted-tbn1.gstatic.com/faviconV2?url=https://www.bloomberg.com&client=NEWS_360&size=96&type=FAVICON&fallback_opts=TYPE,SIZE,URL', 'authors': ['Jason Schreier']}, 'link': 'https://www.bloomberg.com/news/articles/2025-06-24/microsoft-plans-major-job-cuts-at-xbox-gaming-division', 'thumbnail': 'https://assets.bwbx.io/images/users/iqjWHBFdfxIU/iRJ_zn7xyp78/v1/-1x-1.webp', 'thumbnail_small': 'https://news.google.com/api/attachments/CC8iL0NnNDBiSFZGWkdOclRWVk1NeTF1VFJERUF4aW1CU2dLTWdrQklJUUtzT05xaWdJ', 'date': '06/24/2025, 01:45 PM, +0000 UTC'}, {'position': 62, 'title': 'Authors hit Microsoft with piracy lawsuit', 'source': {'name': 'The Express Tribune', 'icon': 'https://encrypted-tbn0.gstatic.com/faviconV2?url=https://tribune.com.pk&client=NEWS_360&size=96&type=FAVICON&fallback_opts=TYPE,SIZE,URL'}, 'link': 'https://tribune.com.pk/story/2553183/authors-hit-microsoft-with-piracy-lawsuit', 'thumbnail': 'https://i.tribune.com.pk/media/images/2colm-1691751150332-0/2colm-1691751150332-0.jpg', 'thumbnail_small': 'https://news.google.com/api/attachments/CC8iK0NnNW1VWEJMYXpSblRUSkhaRzA0VFJERUF4aW1CU2dLTWdZSlVvZ25xUWM', 'date': '06/28/2025, 10:42 PM, +0000 UTC'}, {'position': 63, 'title': 'Microsoft to go into layoff mode again, Xbox and Sales hit 4th time in 18 months', 'source': {'name': 'Hindustan Times', 'icon': 'https://encrypted-tbn1.gstatic.com/faviconV2?url=https://www.hindustantimes.com&client=NEWS_360&size=96&type=FAVICON&fallback_opts=TYPE,SIZE,URL'}, 'link': 'https://www.hindustantimes.com/business/microsoft-to-go-into-layoff-mode-again-xbox-and-sales-hit-4th-time-in-18-months-101750933750460.html', 'thumbnail': 'https://www.hindustantimes.com/ht-img/img/2025/06/26/550x309/MICROSOFT-LAYOFFS--0_1750933914825_1750933933108.JPG', 'thumbnail_small': 'https://news.google.com/api/attachments/CC8iK0NnNWpkV013Wm5RMFdtdHpRVXhSVFJDMUFoaWxCQ2dLTWdhSlVwS25LUWc', 'date': '06/26/2025, 10:59 AM, +0000 UTC'}, {'position': 64, 'title': 'How to Stay on Windows 10 Without Paying $30: Microsoft Has 2 New Options', 'source': {'name': 'PCMag', 'icon': 'https://encrypted-tbn0.gstatic.com/faviconV2?url=https://www.pcmag.com&client=NEWS_360&size=96&type=FAVICON&fallback_opts=TYPE,SIZE,URL', 'authors': ['Michael Kan']}, 'link': 'https://www.pcmag.com/news/microsoft-windows-10-extended-security-updates-free-30-dollars-rewards', 'thumbnail': 'https://i.pcmag.com/imagery/articles/001UyqwihTPSRgcU0a3BmN1-1..v1750776185.jpg', 'thumbnail_small': 'https://news.google.com/api/attachments/CC8iK0NnNHhZa3hFUWtaVlgwcHZhR3RCVFJDZkF4ampCU2dLTWdhWms1Ukx0UVk', 'date': '06/24/2025, 05:05 PM, +0000 UTC'}, {'position': 65, 'title': 'How real-world businesses are transforming with AI — with 261 new stories', 'source': {'name': 'The Official Microsoft Blog', 'icon': 'https://encrypted-tbn0.gstatic.com/faviconV2?url=https://blogs.microsoft.com&client=NEWS_360&size=96&type=FAVICON&fallback_opts=TYPE,SIZE,URL'}, 'link': 'https://blogs.microsoft.com/blog/2025/04/22/https-blogs-microsoft-com-blog-2024-11-12-how-real-world-businesses-are-transforming-with-ai/', 'thumbnail': 'https://msblogs.thesourcemediaassets.com/2025/03/OMB-Art-Customer-Stories-Update-Four-Hero_250418-960x540.jpg', 'thumbnail_small': 'https://news.google.com/api/attachments/CC8iK0NnNUhVMlZVVFZScmRUUmFhRlJ2VFJDZkF4ampCU2dLTWdZSlJvcUZIZ2s', 'date': '04/22/2025, 07:00 AM, +0000 UTC'}, {'position': 66, 'title': 'Meet the Deputy CISOs who help shape Microsoft’s approach to cybersecurity: Part 2', 'source': {'name': 'Microsoft', 'icon': 'https://encrypted-tbn3.gstatic.com/faviconV2?url=https://www.microsoft.com&client=NEWS_360&size=96&type=FAVICON&fallback_opts=TYPE,SIZE,URL'}, 'link': 'https://www.microsoft.com/en-us/security/blog/2025/05/07/meet-the-deputy-cisos-who-help-shape-microsofts-approach-to-cybersecurity-part-2/', 'thumbnail': 'https://www.microsoft.com/en-us/security/blog/wp-content/uploads/2025/05/Security_1054904_Blog_250502-2.png', 'thumbnail_small': 'https://news.google.com/api/attachments/CC8iL0NnNVpkSFU1ZFdGc1VFVjZTbXRJVFJDZkF4ampCU2dLTWdrQklKcnptT3FwcGdJ', 'date': '05/07/2025, 07:00 AM, +0000 UTC'}, {'position': 67, 'title': 'Introducing Microsoft 365 Copilot Tuning, multi-agent orchestration, and more from Microsoft Build 2025', 'source': {'name': 'Microsoft', 'icon': 'https://encrypted-tbn3.gstatic.com/faviconV2?url=https://www.microsoft.com&client=NEWS_360&size=96&type=FAVICON&fallback_opts=TYPE,SIZE,URL', 'authors': ['Jared Spataro']}, 'link': 'https://www.microsoft.com/en-us/microsoft-365/blog/2025/05/19/introducing-microsoft-365-copilot-tuning-multi-agent-orchestration-and-more-from-microsoft-build-2025/', 'thumbnail': 'https://www.microsoft.com/en-us/microsoft-365/blog/wp-content/uploads/sites/2/2025/05/M365_PriorityBuildRequest_Blog_250514.png', 'thumbnail_small': 'https://news.google.com/api/attachments/CC8iK0NnNHdUVTVWV1VkaFZtUTRkVlZmVFJDZkF4ampCU2dLTWdZVmNJaUxPUVU', 'date': '05/19/2025, 07:00 AM, +0000 UTC'}, {'position': 68, 'title': 'Stay Ahead with the Latest from Copilot', 'source': {'name': 'Microsoft', 'icon': 'https://encrypted-tbn3.gstatic.com/faviconV2?url=https://www.microsoft.com&client=NEWS_360&size=96&type=FAVICON&fallback_opts=TYPE,SIZE,URL'}, 'link': 'https://www.microsoft.com/en-us/microsoft-copilot/blog/2025/02/27/stay-ahead-with-the-latest-from-copilot/', 'thumbnail': 'https://www.microsoft.com/en-us/microsoft-copilot/blog/wp-content/uploads/2025/02/AppleStore_16x9_1920x1080_1-1024x576.webp', 'thumbnail_small': 'https://news.google.com/api/attachments/CC8iK0NnNTFUV2swTmxjeWFIQkNia2x0VFJDZkF4ampCU2dLTWdZZFU0cHJKUVk', 'date': '02/27/2025, 08:00 AM, +0000 UTC'}, {'position': 69, 'title': 'Microsoft Dragon Copilot provides the healthcare industry’s first unified voice AI assistant that enables clinicians to streamline clinical documentation, surface information and automate tasks - Source', 'source': {'name': 'Microsoft', 'icon': 'https://encrypted-tbn2.gstatic.com/faviconV2?url=https://news.microsoft.com&client=NEWS_360&size=96&type=FAVICON&fallback_opts=TYPE,SIZE,URL'}, 'link': 'https://news.microsoft.com/source/2025/03/03/microsoft-dragon-copilot-provides-the-healthcare-industrys-first-unified-voice-ai-assistant-that-enables-clinicians-to-streamline-clinical-documentation-surface-information-and-automate-task/', 'thumbnail': 'https://pub-c2c1d9230f0b4abb9b0d2d95e06fd4ef.r2.dev/2025/03/DragonCopilot-Image2.png', 'thumbnail_small': 'https://news.google.com/api/attachments/CC8iL0NnNXVhekJ2TWt0WWRGOURYM1ZXVFJEWkFoajVCaWdLTWdtTmdwSkhNV2VDa2dF', 'date': '03/03/2025, 08:00 AM, +0000 UTC'}, {'position': 70, 'title': 'Microsoft Ignite 2024', 'source': {'name': 'Microsoft', 'icon': 'https://encrypted-tbn2.gstatic.com/faviconV2?url=https://news.microsoft.com&client=NEWS_360&size=96&type=FAVICON&fallback_opts=TYPE,SIZE,URL'}, 'link': 'https://news.microsoft.com/ignite-2024/', 'thumbnail': 'https://msftstories.thesourcemediaassets.com/sites/710/2024/11/IGNITE24_Satya_Full-Keynote_Thumb.png', 'thumbnail_small': 'https://news.google.com/api/attachments/CC8iL0NnNHdXbXA0YTFGNGMwWkZNRFZMVFJDZkF4ampCU2dLTWdtVk1wUXFuU2w3RFFJ', 'date': '11/19/2024, 08:00 AM, +0000 UTC'}, {'position': 71, 'title': 'Multi-agent orchestration, maker controls, and more: Microsoft Copilot Studio announcements at Microsoft Build 2025', 'source': {'name': 'Microsoft', 'icon': 'https://encrypted-tbn3.gstatic.com/faviconV2?url=https://www.microsoft.com&client=NEWS_360&size=96&type=FAVICON&fallback_opts=TYPE,SIZE,URL', 'authors': ['Lili Cheng']}, 'link': 'https://www.microsoft.com/en-us/microsoft-copilot/blog/copilot-studio/multi-agent-orchestration-maker-controls-and-more-microsoft-copilot-studio-announcements-at-microsoft-build-2025/', 'thumbnail': 'https://www.microsoft.com/en-us/microsoft-copilot/blog/wp-content/uploads/2025/05/PowerPlatform_1038776_Blog_250515-1024x576.jpg', 'thumbnail_small': 'https://news.google.com/api/attachments/CC8iK0NnNVdlRU4zUVVoWGRXaHNPRlkwVFJDZkF4ampCU2dLTWdhUlk1UnNxUWM', 'date': '05/19/2025, 07:00 AM, +0000 UTC'}, {'position': 72, 'title': 'What’s new in Power Apps: April 2025 Feature Update', 'source': {'name': 'Microsoft', 'icon': 'https://encrypted-tbn3.gstatic.com/faviconV2?url=https://www.microsoft.com&client=NEWS_360&size=96&type=FAVICON&fallback_opts=TYPE,SIZE,URL', 'authors': ['Clay Wesener']}, 'link': 'https://www.microsoft.com/en-us/power-platform/blog/2025/05/09/whats-new-in-power-apps-april-2025-feature-update/', 'thumbnail': 'https://www.microsoft.com/en-us/power-platform/blog/wp-content/uploads/2025/04/1-4.png', 'thumbnail_small': 'https://news.google.com/api/attachments/CC8iK0NnNDRTMU0zTlhkQlYwZHBRbEZrVFJDcEF4alJCU2dLTWdZQkk1cHZrUW8', 'date': '05/09/2025, 07:00 AM, +0000 UTC'}, {'position': 73, 'title': 'Microsoft 50th Anniversary + Copilot event', 'source': {'name': 'Microsoft', 'icon': 'https://encrypted-tbn2.gstatic.com/faviconV2?url=https://news.microsoft.com&client=NEWS_360&size=96&type=FAVICON&fallback_opts=TYPE,SIZE,URL'}, 'link': 'https://news.microsoft.com/april-2025-copilot-news/', 'thumbnail': 'https://msftstories.thesourcemediaassets.com/sites/723/2025/03/Copilot-hero-scaled.jpg', 'thumbnail_small': 'https://news.google.com/api/attachments/CC8iK0NnNHhkRTFhWlU5VE5XcGxWMjQ1VFJDZkF4ampCU2dLTWdZUllZNUlMUWM', 'date': '04/02/2025, 09:13 PM, +0000 UTC'}, {'position': 74, 'title': 'Microsoft Moderates A.I. Spending as Profit Increases 18%', 'source': {'name': 'The New York Times', 'icon': 'https://encrypted-tbn2.gstatic.com/faviconV2?url=https://www.nytimes.com&client=NEWS_360&size=96&type=FAVICON&fallback_opts=TYPE,SIZE,URL', 'authors': ['Karen Weise']}, 'link': 'https://www.nytimes.com/2025/04/30/technology/microsoft-earnings-ai-spending.html', 'thumbnail': 'https://static01.nyt.com/images/2025/04/30/multimedia/30Biz-Microsoft-earnings-lptf/30Biz-Microsoft-earnings-lptf-articleLarge.jpg?quality=75&auto=webp&disable=upscale', 'thumbnail_small': 'https://news.google.com/api/attachments/CC8iK0NnNW9TR0p5TURSYU9UTkVhekEwVFJDUUF4allCQ2dLTWdZQkFJckZKQVU', 'date': '04/30/2025, 07:00 AM, +0000 UTC'}, {'position': 75, 'title': 'From sea to sky: Microsoft’s Aurora AI foundation model goes beyond weather forecasting - Source', 'source': {'name': 'Microsoft', 'icon': 'https://encrypted-tbn2.gstatic.com/faviconV2?url=https://news.microsoft.com&client=NEWS_360&size=96&type=FAVICON&fallback_opts=TYPE,SIZE,URL', 'authors': ['Sally Beatty']}, 'link': 'https://news.microsoft.com/source/features/ai/microsofts-aurora-ai-foundation-model-goes-beyond-weather-forecasting/', 'thumbnail': 'https://msthesource.thesourcemediaassets.com/2025/05/Aurora-AI-model-Hero.jpg', 'thumbnail_small': 'https://news.google.com/api/attachments/CC8iK0NnNTRXVWh2WjFGMGVHVlBaR1pzVFJDUkF4ajhCU2dLTWdhQlJJcnFxUVk', 'date': '05/21/2025, 07:00 AM, +0000 UTC'}, {'position': 76, 'title': 'OpenAI makes shocking move amid fierce competition, Microsoft problems', 'source': {'name': 'TheStreet', 'icon': 'https://encrypted-tbn1.gstatic.com/faviconV2?url=https://www.thestreet.com&client=NEWS_360&size=96&type=FAVICON&fallback_opts=TYPE,SIZE,URL'}, 'link': 'https://www.thestreet.com/technology/openai-makes-shocking-move-amid-fierce-competition-microsoft-problems-', 'thumbnail': 'https://www.thestreet.com/.image/ar_1:1%2Cc_fill%2Ccs_srgb%2Cfl_progressive%2Cq_auto:good%2Cw_1200/MjAyMzUyNTU5NTYwODYwNzQw/altman-satya-nadella_kl_112023.jpg', 'thumbnail_small': 'https://news.google.com/api/attachments/CC8iL0NnNXVVbkJyVmpFNVdsWjJabmcwVFJDcUJCaXFCQ2dLTWdrSmNKS21LcWd0ekFF', 'date': '06/22/2025, 03:47 PM, +0000 UTC'}, {'position': 77, 'title': 'Microsoft launches new European Security Program', 'source': {'name': 'The Official Microsoft Blog', 'icon': 'https://encrypted-tbn0.gstatic.com/faviconV2?url=https://blogs.microsoft.com&client=NEWS_360&size=96&type=FAVICON&fallback_opts=TYPE,SIZE,URL', 'authors': ['Brad Smith']}, 'link': 'https://blogs.microsoft.com/on-the-issues/2025/06/04/microsoft-launches-new-european-security-program/', 'thumbnail': 'https://msblogs.thesourcemediaassets.com/sites/5/2025/05/5823107-OMG-FY25-Q4-PA-European-Cyber-Commitments-V3-HEADER-1-1024x576.png', 'thumbnail_small': 'https://news.google.com/api/attachments/CC8iL0NnNHlUWEZpYUhjNFpGZHJUVmhGVFJDZkF4ampCU2dLTWdtZE1JSnNKV1U5SndJ', 'date': '06/04/2025, 07:00 AM, +0000 UTC'}, {'position': 78, 'title': 'Microsoft unveils Microsoft Security Copilot agents and new protections for AI', 'source': {'name': 'Microsoft', 'icon': 'https://encrypted-tbn3.gstatic.com/faviconV2?url=https://www.microsoft.com&client=NEWS_360&size=96&type=FAVICON&fallback_opts=TYPE,SIZE,URL', 'authors': ['Vasu Jakkal']}, 'link': 'https://www.microsoft.com/en-us/security/blog/2025/03/24/microsoft-unveils-microsoft-security-copilot-agents-and-new-protections-for-ai/', 'thumbnail': 'https://www.microsoft.com/en-us/security/blog/wp-content/uploads/2025/03/a-person-sitting-at-a-desk-with-a-computer.jpeg', 'thumbnail_small': 'https://news.google.com/api/attachments/CC8iK0NnNWFiVEJ5T1c5R1NUVnROSEoyVFJERUF4aW5CU2dLTWdhZFJZenJzUVk', 'date': '03/24/2025, 07:00 AM, +0000 UTC'}, {'position': 79, 'title': 'Microsoft’s new genAI model to power agents in Windows 11', 'source': {'name': 'Computerworld', 'icon': 'https://encrypted-tbn0.gstatic.com/faviconV2?url=https://www.computerworld.com&client=NEWS_360&size=96&type=FAVICON&fallback_opts=TYPE,SIZE,URL', 'authors': ['Agam Shah']}, 'link': 'https://www.computerworld.com/article/4011232/microsofts-new-genai-model-to-power-agents-in-windows-11.html', 'thumbnail': 'https://www.computerworld.com/wp-content/uploads/2025/06/4011232-0-79972400-1750714676-shutterstock_2547416183.jpg?quality=50&strip=all', 'thumbnail_small': 'https://news.google.com/api/attachments/CC8iK0NnNVhObEo1UjNrNVFsWldaRk54VFJDZkF4ampCU2dLTWdZaFE0WVRtUWc', 'date': '06/23/2025, 07:40 PM, +0000 UTC'}, {'position': 80, 'title': 'Microsoft announces new European digital commitments - Microsoft On the Issues', 'source': {'name': 'The Official Microsoft Blog', 'icon': 'https://encrypted-tbn0.gstatic.com/faviconV2?url=https://blogs.microsoft.com&client=NEWS_360&size=96&type=FAVICON&fallback_opts=TYPE,SIZE,URL', 'authors': ['Brad Smith']}, 'link': 'https://blogs.microsoft.com/on-the-issues/2025/04/30/european-digital-commitments/', 'thumbnail': 'https://msblogs.thesourcemediaassets.com/sites/5/2025/04/FY25_Q4_PA_EU-Digital-Commitments_Blog_Header-960x540.png', 'thumbnail_small': 'https://news.google.com/api/attachments/CC8iJ0NnNTZkbXQ2WkdadWRVOTFNRjlxVFJDZkF4ampCU2dLTWdPUlV3dw', 'date': '04/30/2025, 07:00 AM, +0000 UTC'}, {'position': 81, 'title': 'What’s new in Power Apps: February 2025 Feature Update', 'source': {'name': 'Microsoft', 'icon': 'https://encrypted-tbn3.gstatic.com/faviconV2?url=https://www.microsoft.com&client=NEWS_360&size=96&type=FAVICON&fallback_opts=TYPE,SIZE,URL', 'authors': ['Clay Wesener']}, 'link': 'https://www.microsoft.com/en-us/power-platform/blog/2025/03/06/whats-new-in-power-apps-february-2025-feature-update/', 'thumbnail': 'https://www.microsoft.com/en-us/power-platform/blog/wp-content/uploads/2025/03/CLO20b_Madeline_team_office_003-scaled.jpg', 'thumbnail_small': 'https://news.google.com/api/attachments/CC8iK0NnNVdPRE5uUldkRGMyeFdVV3BLVFJERUF4aW1CU2dLTWdhWmdvWUtzZ2M', 'date': '03/06/2025, 08:00 AM, +0000 UTC'}, {'position': 82, 'title': \"What's New in Microsoft 365 — April 2025\", 'source': {'name': 'Seton Hall University', 'icon': 'https://encrypted-tbn1.gstatic.com/faviconV2?url=https://www.shu.edu&client=NEWS_360&size=96&type=FAVICON&fallback_opts=TYPE,SIZE,URL'}, 'link': 'https://www.shu.edu/technology/news/microsoft-updates-april-2025.html', 'date': '04/03/2025, 07:00 AM, +0000 UTC'}, {'position': 83, 'title': 'The latest on AI at work: December 2024', 'source': {'name': 'Microsoft', 'icon': 'https://encrypted-tbn3.gstatic.com/faviconV2?url=https://www.microsoft.com&client=NEWS_360&size=96&type=FAVICON&fallback_opts=TYPE,SIZE,URL', 'authors': ['Colette Stallbaumer']}, 'link': 'https://www.microsoft.com/en-us/microsoft-365/blog/2024/12/12/the-latest-on-ai-at-work-december-2024/', 'thumbnail': 'https://www.microsoft.com/en-us/microsoft-365/blog/wp-content/uploads/sites/2/2024/12/M365_M365-CopilotTemplates_Blog_241211_v4_1260.png', 'thumbnail_small': 'https://news.google.com/api/attachments/CC8iK0NnNWZWbmhTV2sxdFdDMXlZV1ZIVFJDZkF4amlCU2dLTWdhSmdaQ0dzUVk', 'date': '12/12/2024, 08:00 AM, +0000 UTC'}, {'position': 84, 'title': 'Microsoft launches new Surface Copilot+ PCs for Business to empower professionals across the Middle East to enhance productivity and accelerate AI innovation', 'source': {'name': 'Microsoft', 'icon': 'https://encrypted-tbn2.gstatic.com/faviconV2?url=https://news.microsoft.com&client=NEWS_360&size=96&type=FAVICON&fallback_opts=TYPE,SIZE,URL'}, 'link': 'https://news.microsoft.com/en-xm/2025/03/19/microsoft-launches-new-surface-copilot-pcs-for-business-to-empower-professionals-across-the-middle-east-to-enhance-productivity-and-accelerate-ai-innovation/', 'thumbnail': 'https://msftstories.thesourcemediaassets.com/sites/133/2025/03/SUR25-COMMR-Pro-Intel-Plat-Hero-RGB_11zon-960x640.png', 'thumbnail_small': 'https://news.google.com/api/attachments/CC8iL0NnNURURTExTjAxdmVIQXdVa3RMVFJERUF4aW1CU2dLTWdtVllveE5LV1dpS1FJ', 'date': '03/19/2025, 07:00 AM, +0000 UTC'}, {'position': 85, 'title': 'Microsoft Planning Thousands More Job Cuts Aimed at Salespeople', 'source': {'name': 'Bloomberg', 'icon': 'https://encrypted-tbn1.gstatic.com/faviconV2?url=https://www.bloomberg.com&client=NEWS_360&size=96&type=FAVICON&fallback_opts=TYPE,SIZE,URL', 'authors': ['Brody Ford', 'Matt Day']}, 'link': 'https://www.bloomberg.com/news/articles/2025-06-18/microsoft-planning-thousands-more-job-cuts-aimed-at-salespeople', 'thumbnail': 'https://assets.bwbx.io/images/users/iqjWHBFdfxIU/itRtlyzCO3og/v1/-1x-1.webp', 'thumbnail_small': 'https://news.google.com/api/attachments/CC8iK0NnNUROMEZwUkRWM2FtRTRibVpXVFJERUF4aW1CU2dLTWdhQklvU3NwUWM', 'date': '06/18/2025, 07:00 AM, +0000 UTC'}, {'position': 86, 'title': '5 ways AI is changing healthcare', 'source': {'name': 'Microsoft', 'icon': 'https://encrypted-tbn2.gstatic.com/faviconV2?url=https://news.microsoft.com&client=NEWS_360&size=96&type=FAVICON&fallback_opts=TYPE,SIZE,URL', 'authors': ['Susanna Ray']}, 'link': 'https://news.microsoft.com/source/features/ai/5-ways-ai-is-changing-healthcare/', 'thumbnail': 'https://msthesource.thesourcemediaassets.com/2025/05/Lead-image-1-300x200.jpg', 'thumbnail_small': 'https://news.google.com/api/attachments/CC8iK0NnNTVkbWRKYzBGeFVuVkNSbmg1VFJDM0FSaVRBaWdCTWdhQllwWXpvUWc', 'date': '05/07/2025, 07:00 AM, +0000 UTC'}, {'position': 87, 'title': 'Transforming R&D with agentic AI: Introducing Microsoft Discovery', 'source': {'name': 'Microsoft Azure', 'icon': 'https://encrypted-tbn2.gstatic.com/faviconV2?url=https://azure.microsoft.com&client=NEWS_360&size=96&type=FAVICON&fallback_opts=TYPE,SIZE,URL', 'authors': ['Aseem Datar']}, 'link': 'https://azure.microsoft.com/en-us/blog/transforming-rd-with-agentic-ai-introducing-microsoft-discovery/', 'thumbnail': 'https://azure.microsoft.com/en-us/blog/wp-content/uploads/2025/05/1042849_MS_Azure_Build-2025_BlogHeader-4_1260x708-1.webp', 'thumbnail_small': 'https://news.google.com/api/attachments/CC8iK0NnNXRaa0oyZEVOTlJIbGZXV1p6VFJDZkF4ampCU2dLTWdhQmQ1WmtyZ2M', 'date': '05/19/2025, 07:00 AM, +0000 UTC'}, {'position': 88, 'title': 'Microsoft Work Trend Index 2025 report reveals the “Frontier Firms” is born, a new organization blueprint is emerging', 'source': {'name': 'Microsoft', 'icon': 'https://encrypted-tbn2.gstatic.com/faviconV2?url=https://news.microsoft.com&client=NEWS_360&size=96&type=FAVICON&fallback_opts=TYPE,SIZE,URL'}, 'link': 'https://news.microsoft.com/source/asia/2025/05/02/microsoft-work-trend-index-2025-report-reveals-the-frontier-firms-is-born-a-new-organization-blueprint-is-emerging/', 'thumbnail': 'https://sourceasia.thesourcemediaassets.com/2025/05/2025-Annual-World-Trend-Index-768x432.png', 'thumbnail_small': 'https://news.google.com/api/attachments/CC8iK0NnNXdkalJIVEZscmNtcDFUMjFIVFJDZkF4ampCU2dLTWdhZFU0cXNzUVU', 'date': '05/02/2025, 07:00 AM, +0000 UTC'}, {'position': 89, 'title': 'Microsoft 2025 annual Work Trend Index', 'source': {'name': 'Microsoft', 'icon': 'https://encrypted-tbn2.gstatic.com/faviconV2?url=https://news.microsoft.com&client=NEWS_360&size=96&type=FAVICON&fallback_opts=TYPE,SIZE,URL'}, 'link': 'https://news.microsoft.com/annual-work-trend-index-2025/', 'thumbnail': 'https://msftstories.thesourcemediaassets.com/sites/725/2025/04/WTI_OMB_700-new.png', 'thumbnail_small': 'https://news.google.com/api/attachments/CC8iK0NnNTBWMHRCU0VSbGEzVmhTelpsVFJDZkF4amlCU2dLTWdhZFU0aXNzUVU', 'date': '04/23/2025, 01:08 PM, +0000 UTC'}, {'position': 90, 'title': 'Microsoft links recent Microsoft 365 outage to buggy update', 'source': {'name': 'BleepingComputer', 'icon': 'https://encrypted-tbn0.gstatic.com/faviconV2?url=https://www.bleepingcomputer.com&client=NEWS_360&size=96&type=FAVICON&fallback_opts=TYPE,SIZE,URL', 'authors': ['Sergiu Gatlan']}, 'link': 'https://www.bleepingcomputer.com/news/microsoft/microsoft-links-recent-microsoft-365-outage-to-buggy-update/', 'thumbnail': 'https://www.bleepstatic.com/content/hl-images/2024/10/04/Microsoft.jpg', 'thumbnail_small': 'https://news.google.com/api/attachments/CC8iK0NnNWhZMFZvYlVjNE5VVkVUVEpWVFJDZkF4ampCU2dLTWdhbFlvaXRNUVE', 'date': '03/03/2025, 08:00 AM, +0000 UTC'}, {'position': 91, 'title': 'New innovations in Microsoft Purview for protected, AI-ready data', 'source': {'name': 'Microsoft', 'icon': 'https://encrypted-tbn3.gstatic.com/faviconV2?url=https://www.microsoft.com&client=NEWS_360&size=96&type=FAVICON&fallback_opts=TYPE,SIZE,URL', 'authors': ['Rudra Mitra']}, 'link': 'https://www.microsoft.com/en-us/security/blog/2025/03/31/new-innovations-in-microsoft-purview-for-protected-ai-ready-data/', 'thumbnail': 'https://www.microsoft.com/en-us/security/blog/wp-content/uploads/2025/03/Security_1036521_Blog_250325.jpg', 'thumbnail_small': 'https://news.google.com/api/attachments/CC8iK0NnNDNkVzVYZW5OME5GTmZUelZ5VFJDZkF4ampCU2dLTWdiQkVvd3prUW8', 'date': '03/31/2025, 07:00 AM, +0000 UTC'}, {'position': 92, 'title': 'What’s new in Copilot Studio: April 2025', 'source': {'name': 'Microsoft', 'icon': 'https://encrypted-tbn3.gstatic.com/faviconV2?url=https://www.microsoft.com&client=NEWS_360&size=96&type=FAVICON&fallback_opts=TYPE,SIZE,URL', 'authors': ['Omar Aftab']}, 'link': 'https://www.microsoft.com/en-us/microsoft-copilot/blog/copilot-studio/whats-new-in-copilot-studio-april-2025/', 'thumbnail': 'https://www.microsoft.com/en-us/microsoft-copilot/blog/wp-content/uploads/2025/04/Copilot-Studio-4.25.webp', 'thumbnail_small': 'https://news.google.com/api/attachments/CC8iK0NnNXhlR2h5UTJsekxVUmFjbTUwVFJDZkF4ampCU2dLTWdZQmVaQ2lMZ1k', 'date': '04/30/2025, 07:00 AM, +0000 UTC'}, {'position': 93, 'title': \"What's New in Microsoft 365 — May 2025\", 'source': {'name': 'Seton Hall University', 'icon': 'https://encrypted-tbn1.gstatic.com/faviconV2?url=https://www.shu.edu&client=NEWS_360&size=96&type=FAVICON&fallback_opts=TYPE,SIZE,URL'}, 'link': 'https://www.shu.edu/technology/news/microsoft-updates-may-2025.html', 'date': '05/13/2025, 07:00 AM, +0000 UTC'}, {'position': 94, 'title': 'Meet Microsoft Dragon Copilot: Your new AI assistant for clinical workflow', 'source': {'name': 'Microsoft', 'icon': 'https://encrypted-tbn3.gstatic.com/faviconV2?url=https://www.microsoft.com&client=NEWS_360&size=96&type=FAVICON&fallback_opts=TYPE,SIZE,URL', 'authors': ['Kees Hertogh']}, 'link': 'https://www.microsoft.com/en-us/industry/blog/healthcare/2025/03/03/meet-microsoft-dragon-copilot-your-new-ai-assistant-for-clinical-workflow/', 'thumbnail': 'https://www.microsoft.com/en-us/industry/blog/wp-content/uploads/2025/03/Cloud_1025449_Blog_250225.jpg', 'thumbnail_small': 'https://news.google.com/api/attachments/CC8iK0NnNTZSV05IUVc5TFgwTmljRUZSVFJDZkF4ampCU2dLTWdhWlJJNXFvUWc', 'date': '03/03/2025, 08:00 AM, +0000 UTC'}, {'position': 95, 'title': 'Microsoft Maia AI Chip Delayed Until 2026, Will Lag Behind Nvidia Blackwell: Report', 'source': {'name': 'thedailyjagran.com', 'icon': 'https://encrypted-tbn1.gstatic.com/faviconV2?url=https://www.thedailyjagran.com&client=NEWS_360&size=96&type=FAVICON&fallback_opts=TYPE,SIZE,URL'}, 'link': 'https://www.thedailyjagran.com/technology/microsoft-maia-ai-chip-delayed-until-2026-will-lag-behind-nvidia-blackwell-report-10248570', 'thumbnail': 'https://imgeng.jagran.com/images/2025/06/03/article/image/microsoft-1748964288065_v.webp', 'thumbnail_small': 'https://news.google.com/api/attachments/CC8iMkNnNWpjR1J4TUMxTlJtdFJiSEpUVFJDb0FSaXNBaWdCTWd1Wk1JUk1MV1dDOWhnUHFn', 'date': '06/28/2025, 08:58 AM, +0000 UTC'}, {'position': 96, 'title': 'The Golden Opportunity for American AI', 'source': {'name': 'The Official Microsoft Blog', 'icon': 'https://encrypted-tbn0.gstatic.com/faviconV2?url=https://blogs.microsoft.com&client=NEWS_360&size=96&type=FAVICON&fallback_opts=TYPE,SIZE,URL', 'authors': ['Brad Smith']}, 'link': 'https://blogs.microsoft.com/on-the-issues/2025/01/03/the-golden-opportunity-for-american-ai/', 'thumbnail': 'https://msblogs.thesourcemediaassets.com/sites/5/2025/01/The-Golden-Opportunity-for-American-AI-Blog_Header_1200x675-1024x576.png', 'thumbnail_small': 'https://news.google.com/api/attachments/CC8iK0NnNWlVV1pvWW1FMFZrZFRTVFpZVFJDZkF4ampCU2dLTWdZQm9JYWt4Z1U', 'date': '01/03/2025, 08:00 AM, +0000 UTC'}, {'position': 97, 'title': 'Microsoft unveils Majorana 1, the world’s first quantum processor powered by topological qubits', 'source': {'name': 'Microsoft Azure', 'icon': 'https://encrypted-tbn2.gstatic.com/faviconV2?url=https://azure.microsoft.com&client=NEWS_360&size=96&type=FAVICON&fallback_opts=TYPE,SIZE,URL', 'authors': ['Chetan Nayak']}, 'link': 'https://azure.microsoft.com/en-us/blog/quantum/2025/02/19/microsoft-unveils-majorana-1-the-worlds-first-quantum-processor-powered-by-topological-qubits/', 'thumbnail': 'https://azure.microsoft.com/en-us/blog/quantum/wp-content/uploads/2025/02/majorana1_1260x708_v2-1024x575.jpg', 'thumbnail_small': 'https://news.google.com/api/attachments/CC8iK0NnNUpibE16YlVWelRHRkpRek5hVFJDZkF4ampCU2dLTWdZcFpZeXRxUVk', 'date': '02/19/2025, 08:00 AM, +0000 UTC'}, {'position': 98, 'title': 'Microsoft and NVIDIA accelerate AI development and performance', 'source': {'name': 'Microsoft Azure', 'icon': 'https://encrypted-tbn2.gstatic.com/faviconV2?url=https://azure.microsoft.com&client=NEWS_360&size=96&type=FAVICON&fallback_opts=TYPE,SIZE,URL', 'authors': ['Omar Khan']}, 'link': 'https://azure.microsoft.com/en-us/blog/microsoft-and-nvidia-accelerate-ai-development-and-performance/', 'thumbnail': 'https://azure.microsoft.com/en-us/blog/wp-content/uploads/2025/03/BAzure_358169_Blog_240731-1-1024x575.jpg', 'thumbnail_small': 'https://news.google.com/api/attachments/CC8iK0NnNU5hMmxVY2t4dFVUbEdTSFJLVFJDZkF4ampCU2dLTWdZTm9wUUd1UVk', 'date': '03/18/2025, 07:00 AM, +0000 UTC'}, {'position': 99, 'title': 'Announcing new Microsoft Dataverse capabilities for multi-agent operations', 'source': {'name': 'Microsoft', 'icon': 'https://encrypted-tbn3.gstatic.com/faviconV2?url=https://www.microsoft.com&client=NEWS_360&size=96&type=FAVICON&fallback_opts=TYPE,SIZE,URL'}, 'link': 'https://www.microsoft.com/en-us/microsoft-copilot/blog/copilot-studio/announcing-new-microsoft-dataverse-capabilities-for-multi-agent-operations/', 'thumbnail': 'https://www.microsoft.com/en-us/microsoft-copilot/blog/wp-content/uploads/2025/05/Nirav-blog-feat-image-1024x576.webp', 'thumbnail_small': 'https://news.google.com/api/attachments/CC8iK0NnNHRVa2szV2toV01HbG5XVGhDVFJDZkF4ampCU2dLTWdZeFpKWndKUWc', 'date': '05/20/2025, 07:00 AM, +0000 UTC'}, {'position': 100, 'title': 'Microsoft Build 2025: news and announcements from the developer conference', 'source': {'name': 'The Verge', 'icon': 'https://encrypted-tbn2.gstatic.com/faviconV2?url=https://www.theverge.com&client=NEWS_360&size=96&type=FAVICON&fallback_opts=TYPE,SIZE,URL', 'authors': ['Tom Warren']}, 'link': 'https://www.theverge.com/news/669382/microsoft-build-2025-news-ai-agents', 'thumbnail': 'https://platform.theverge.com/wp-content/uploads/sites/2/2025/05/gettyimages-2214967310.jpg?quality=90&strip=all&crop=0,0.0033827210608166,100,99.993234557878', 'thumbnail_small': 'https://news.google.com/api/attachments/CC8iK0NnNXRkSGhWUlVocFVtNVRjM0ZrVFJEQ0F4aXFCU2dLTWdhVk1wcHJIUW8', 'date': '05/21/2025, 07:00 AM, +0000 UTC'}]\u001b[0m\n",
      "Thought:\u001b[32;1m\u001b[1;3mFinal Answer:The current stock price for Microsoft (MSFT) is $498.37. Here are some recent news headlines about the company:\n",
      "\n",
      "*   Microsoft AI CEO Mustafa Suleyman: AI can provide complex medical support, diagnoses\n",
      "*   Windows is getting rid of the Blue Screen of Death after 40 years\n",
      "*   New Windows 11 update fixes a black screen bug that's one of the most annoying to hit PC gamers in quite some time\n",
      "*   Microsoft to change Windows's infamous Blue Screen of Death to something much darker in response to last year's CloudStrike crashes\n",
      "*   Microsoft’s (MSFT) Latest Medical AI Tool Can Now Outperform Doctors\n",
      "*   Microsoft unveils AI diagnosis tool in effort to transform medicine\n",
      "*   Free Microsoft Flight Simulator update expands New York and beyond\n",
      "*   RIFT - New Open-Source Tool From Microsoft to Analyze Malware Hidden Within Rust Binaries\n",
      "*   Microsoft Developer head to employees: Using … is no longer optional, as company considers another change\n",
      "*   Windows seemingly lost 400 million users in the past three years — official Microsoft statements show hints of a shrinking user base\n",
      "*   Microsoft’s AI Bet Is Paying Off Big\n",
      "*   :( Microsoft’s ‘Blue Screen of Death’ Is Going Away\n",
      "*   Microsoft’s Free New Windows Upgrade: How It Works And How To Get It\n",
      "*   Microsoft Edge's latest stable channel update adds MORE AI — All Copilot all the time\n",
      "*   Microsoft Shares Latest Findings from 2025 Work Trend Index: Unlocking Indonesia’s Potential Through Human-AI Collaboration – Indonesia News Center\n",
      "*   One of France's largest cities has now also ditched Microsoft for open source software\n",
      "*   Windows 12 release is pushed back at least another year as Microsoft announces Windows 11 version 25H2\n",
      "*   Microsoft (MSFT) Just Got a New $530 Target — Here’s What’s Driving It\n",
      "*   Microsoft’s sketchy Win 10 vs Win 11 performance claims pit a 9-year-old PC against a modern machine to claim 2.3X gain\n",
      "*   Windows Blue screen of death axed after 40 years, but BSOD still remains — will be replaced by new black Windows 11 'unexpected restart screen'\n",
      "*   Microsoft to Preview New Windows Endpoint Security Platform After CrowdStrike Outage\n",
      "*   Is Microsoft’s new Mu for you?\n",
      "*   Microsoft to Retire the Blue Screen of Death (Again) for a Black Void\n",
      "*   Microsoft says goodbye to the Windows blue screen of death\n",
      "*   Windows 11 KB5060829 update released with 38 new changes, fixes\n",
      "*   Microsoft's own AI chip delayed six months in major setback — in-house chip now reportedly expected in 2026, but won't hold a candle to Nvidia Blackwell\n",
      "*   Microsoft integrates 1Password with Windows 11 for passkey-based sign-ins\n",
      "*   Microsoft’s new AI agent for Windows 11 can manage settings for you\n",
      "*   Microsoft fixes Outlook bug causing crashes when opening emails\n",
      "*   Microsoft's next-gen AI chip production delayed to 2026, The Information reports\n",
      "*   Microsoft is phasing out passwords soon – here's why passkeys are replacing them and what to do next\n",
      "*   What’s new in Copilot Studio: May 2025\n",
      "*   Microsoft KILLS iconic Windows Blue Screen of Death — Windows 11 gains new, darker OS error screen\n",
      "*   News and updates from Microsoft Security\n",
      "*   Microsoft fixes known issue that breaks Windows 11 updates\n",
      "*   Is ChatGPT making us dumber? A new MIT study claims using AI tools causes cognitive issues, and it’s not the first – Microsoft has already warned about ‘diminished independent problem-solving’\n",
      "*   Microsoft confirms Windows 11 version 25H2 is coming soon — will install much faster than version 24H2\n",
      "*   Microsoft Build 2025\n",
      "*   Microsoft Extends Windows 10 Security Updates for One Year with New Enrollment Options\n",
      "*   All the Azure news you don’t want to miss from Microsoft Build 2025\n",
      "*   Group of high-profile authors sue Microsoft over use of their books in AI training\n",
      "*   Microsoft’s Majorana 1 chip carves new path for quantum computing - Source\n",
      "*   Surface and Windows May 6 news\n",
      "*   Satya Nadella Warns: AI's Power Problem and Microsoft's New Focus\n",
      "*   3 new ways AI agents can help you do even more\n",
      "*   New US visa rule, Amazon announces dates for its biggest sale of the year, Microsoft kills Blue Screen of\n",
      "*   Tech layoffs June 2025: Microsoft, Google, Disney, ZoomInfo join the list of companies said to be shedding jobs\n",
      "*   Microsoft Build 2025: The age of AI agents and building the open agentic web\n",
      "*   Pushing passkeys forward: Microsoft’s latest updates for simpler, safer sign-ins\n",
      "*   Microsoft planning thousands of job cuts aimed at salespeople, Bloomberg News reports\n",
      "*   Announcing a new strategic collaboration to bring clarity to threat actor naming\n",
      "*   Microsoft Releases Famous Flyer 12: The Piper PA-28-236 Dakota\n",
      "*   Hackers Target Over 70 Microsoft Exchange Servers to Steal Credentials via Keyloggers\n",
      "*   Microsoft layoffs: Xbox team reportedly faces new wave of cuts amid strategic overhaul\n",
      "*   Microsoft transfers a top cybersecurity exec: As we continue to ..., says internal memo\n",
      "*   How to follow tech trends and news with AI\n",
      "*   Microsoft’s new AI chip delayed to 2026: report\n",
      "*   Home page\n",
      "*   Microsoft's in-house AI chip delayed again with crappy performance, can't compete with NVIDIA\n",
      "*   I’ve Been Following the Windows 12 Rumors—Here’s What I Think Is Coming for Microsoft's Next OS\n",
      "*   Microsoft Plans Major Job Cuts at Xbox Gaming Division\n",
      "*   Authors hit Microsoft with piracy lawsuit\n",
      "*   Microsoft to go into layoff mode again, Xbox and Sales hit 4th time in 18 months\n",
      "*   How to Stay on Windows 10 Without Paying $30: Microsoft Has 2 New Options\n",
      "*   How real-world businesses are transforming with AI — with 261 new stories\n",
      "*   Meet the Deputy CISOs who help shape Microsoft’s approach to cybersecurity: Part 2\n",
      "*   Introducing Microsoft 365 Copilot Tuning, multi-agent orchestration, and more from Microsoft Build 2025\n",
      "*   Stay Ahead with the Latest from Copilot\n",
      "*   Microsoft Dragon Copilot provides the healthcare industry’s first unified voice AI assistant that enables clinicians to streamline clinical documentation, surface information and automate tasks - Source\n",
      "*   Microsoft Ignite 2024\n",
      "*   Multi-agent orchestration, maker controls, and more: Microsoft Copilot Studio announcements at Microsoft Build 2025\n",
      "*   What’s new in Power Apps: April 2025 Feature Update\n",
      "*   Microsoft 50th Anniversary + Copilot event\n",
      "*   Microsoft Moderates A.I. Spending as Profit Increases 18%\n",
      "*   From sea to sky: Microsoft’s Aurora AI foundation model goes beyond weather forecasting - Source\n",
      "*   OpenAI makes shocking move amid fierce competition, Microsoft problems\n",
      "*   Microsoft launches new European Security Program\n",
      "*   Microsoft unveils Microsoft Security Copilot agents and new protections for AI\n",
      "*   Microsoft’s new genAI model to power agents in Windows 11\n",
      "*   Microsoft announces new European digital commitments - Microsoft On the Issues\n",
      "*   What’s new in Power Apps: February 2025 Feature Update\n",
      "*   What's New in Microsoft 365 — April 2025\n",
      "*   The latest on AI at work: December 2024\n",
      "*   Microsoft launches new Surface Copilot+ PCs for Business to empower professionals across the Middle East to enhance productivity and accelerate AI innovation\n",
      "*   Microsoft Planning Thousands More Job Cuts Aimed at Salespeople\n",
      "*   5 ways AI is changing healthcare\n",
      "*   Transforming R&D with agentic AI: Introducing Microsoft Discovery\n",
      "*   Microsoft Work Trend Index 2025 report reveals the “Frontier Firms” is born, a new organization blueprint is emerging\n",
      "*   Microsoft 2025 annual Work Trend Index\n",
      "*   Microsoft links recent Microsoft 365 outage to buggy update\n",
      "*   New innovations in Microsoft Purview for protected, AI-ready data\n",
      "*   What’s new in Copilot Studio: April 2025\n",
      "*   What's New in Microsoft 365 — May 2025\n",
      "*   Meet Microsoft Dragon Copilot: Your new AI assistant for clinical workflow\n",
      "*   Microsoft Maia AI Chip Delayed Until 2026, Will Lag Behind Nvidia Blackwell: Report\n",
      "*   The Golden Opportunity for American AI\n",
      "*   Microsoft unveils Majorana 1, the world’s first quantum processor powered by topological qubits\n",
      "*   Microsoft and NVIDIA accelerate AI development and performance\n",
      "*   Announcing new Microsoft Dataverse capabilities for multi-agent operations\n",
      "*   Microsoft Build 2025: news and announcements from the developer conference\u001b[0m\n",
      "\n",
      "\u001b[1m> Finished chain.\u001b[0m\n"
     ]
    },
    {
     "data": {
      "text/plain": [
       "{'input': 'Give me a financial snapshot of Microsoft (MSFT). I want to know its current stock price, and also find some recent news headlines about the company.',\n",
       " 'output': \"The current stock price for Microsoft (MSFT) is $498.37. Here are some recent news headlines about the company:\\n\\n*   Microsoft AI CEO Mustafa Suleyman: AI can provide complex medical support, diagnoses\\n*   Windows is getting rid of the Blue Screen of Death after 40 years\\n*   New Windows 11 update fixes a black screen bug that's one of the most annoying to hit PC gamers in quite some time\\n*   Microsoft to change Windows's infamous Blue Screen of Death to something much darker in response to last year's CloudStrike crashes\\n*   Microsoft’s (MSFT) Latest Medical AI Tool Can Now Outperform Doctors\\n*   Microsoft unveils AI diagnosis tool in effort to transform medicine\\n*   Free Microsoft Flight Simulator update expands New York and beyond\\n*   RIFT - New Open-Source Tool From Microsoft to Analyze Malware Hidden Within Rust Binaries\\n*   Microsoft Developer head to employees: Using … is no longer optional, as company considers another change\\n*   Windows seemingly lost 400 million users in the past three years — official Microsoft statements show hints of a shrinking user base\\n*   Microsoft’s AI Bet Is Paying Off Big\\n*   :( Microsoft’s ‘Blue Screen of Death’ Is Going Away\\n*   Microsoft’s Free New Windows Upgrade: How It Works And How To Get It\\n*   Microsoft Edge's latest stable channel update adds MORE AI — All Copilot all the time\\n*   Microsoft Shares Latest Findings from 2025 Work Trend Index: Unlocking Indonesia’s Potential Through Human-AI Collaboration – Indonesia News Center\\n*   One of France's largest cities has now also ditched Microsoft for open source software\\n*   Windows 12 release is pushed back at least another year as Microsoft announces Windows 11 version 25H2\\n*   Microsoft (MSFT) Just Got a New $530 Target — Here’s What’s Driving It\\n*   Microsoft’s sketchy Win 10 vs Win 11 performance claims pit a 9-year-old PC against a modern machine to claim 2.3X gain\\n*   Windows Blue screen of death axed after 40 years, but BSOD still remains — will be replaced by new black Windows 11 'unexpected restart screen'\\n*   Microsoft to Preview New Windows Endpoint Security Platform After CrowdStrike Outage\\n*   Is Microsoft’s new Mu for you?\\n*   Microsoft to Retire the Blue Screen of Death (Again) for a Black Void\\n*   Microsoft says goodbye to the Windows blue screen of death\\n*   Windows 11 KB5060829 update released with 38 new changes, fixes\\n*   Microsoft's own AI chip delayed six months in major setback — in-house chip now reportedly expected in 2026, but won't hold a candle to Nvidia Blackwell\\n*   Microsoft integrates 1Password with Windows 11 for passkey-based sign-ins\\n*   Microsoft’s new AI agent for Windows 11 can manage settings for you\\n*   Microsoft fixes Outlook bug causing crashes when opening emails\\n*   Microsoft's next-gen AI chip production delayed to 2026, The Information reports\\n*   Microsoft is phasing out passwords soon – here's why passkeys are replacing them and what to do next\\n*   What’s new in Copilot Studio: May 2025\\n*   Microsoft KILLS iconic Windows Blue Screen of Death — Windows 11 gains new, darker OS error screen\\n*   News and updates from Microsoft Security\\n*   Microsoft fixes known issue that breaks Windows 11 updates\\n*   Is ChatGPT making us dumber? A new MIT study claims using AI tools causes cognitive issues, and it’s not the first – Microsoft has already warned about ‘diminished independent problem-solving’\\n*   Microsoft confirms Windows 11 version 25H2 is coming soon — will install much faster than version 24H2\\n*   Microsoft Build 2025\\n*   Microsoft Extends Windows 10 Security Updates for One Year with New Enrollment Options\\n*   All the Azure news you don’t want to miss from Microsoft Build 2025\\n*   Group of high-profile authors sue Microsoft over use of their books in AI training\\n*   Microsoft’s Majorana 1 chip carves new path for quantum computing - Source\\n*   Surface and Windows May 6 news\\n*   Satya Nadella Warns: AI's Power Problem and Microsoft's New Focus\\n*   3 new ways AI agents can help you do even more\\n*   New US visa rule, Amazon announces dates for its biggest sale of the year, Microsoft kills Blue Screen of\\n*   Tech layoffs June 2025: Microsoft, Google, Disney, ZoomInfo join the list of companies said to be shedding jobs\\n*   Microsoft Build 2025: The age of AI agents and building the open agentic web\\n*   Pushing passkeys forward: Microsoft’s latest updates for simpler, safer sign-ins\\n*   Microsoft planning thousands of job cuts aimed at salespeople, Bloomberg News reports\\n*   Announcing a new strategic collaboration to bring clarity to threat actor naming\\n*   Microsoft Releases Famous Flyer 12: The Piper PA-28-236 Dakota\\n*   Hackers Target Over 70 Microsoft Exchange Servers to Steal Credentials via Keyloggers\\n*   Microsoft layoffs: Xbox team reportedly faces new wave of cuts amid strategic overhaul\\n*   Microsoft transfers a top cybersecurity exec: As we continue to ..., says internal memo\\n*   How to follow tech trends and news with AI\\n*   Microsoft’s new AI chip delayed to 2026: report\\n*   Home page\\n*   Microsoft's in-house AI chip delayed again with crappy performance, can't compete with NVIDIA\\n*   I’ve Been Following the Windows 12 Rumors—Here’s What I Think Is Coming for Microsoft's Next OS\\n*   Microsoft Plans Major Job Cuts at Xbox Gaming Division\\n*   Authors hit Microsoft with piracy lawsuit\\n*   Microsoft to go into layoff mode again, Xbox and Sales hit 4th time in 18 months\\n*   How to Stay on Windows 10 Without Paying $30: Microsoft Has 2 New Options\\n*   How real-world businesses are transforming with AI — with 261 new stories\\n*   Meet the Deputy CISOs who help shape Microsoft’s approach to cybersecurity: Part 2\\n*   Introducing Microsoft 365 Copilot Tuning, multi-agent orchestration, and more from Microsoft Build 2025\\n*   Stay Ahead with the Latest from Copilot\\n*   Microsoft Dragon Copilot provides the healthcare industry’s first unified voice AI assistant that enables clinicians to streamline clinical documentation, surface information and automate tasks - Source\\n*   Microsoft Ignite 2024\\n*   Multi-agent orchestration, maker controls, and more: Microsoft Copilot Studio announcements at Microsoft Build 2025\\n*   What’s new in Power Apps: April 2025 Feature Update\\n*   Microsoft 50th Anniversary + Copilot event\\n*   Microsoft Moderates A.I. Spending as Profit Increases 18%\\n*   From sea to sky: Microsoft’s Aurora AI foundation model goes beyond weather forecasting - Source\\n*   OpenAI makes shocking move amid fierce competition, Microsoft problems\\n*   Microsoft launches new European Security Program\\n*   Microsoft unveils Microsoft Security Copilot agents and new protections for AI\\n*   Microsoft’s new genAI model to power agents in Windows 11\\n*   Microsoft announces new European digital commitments - Microsoft On the Issues\\n*   What’s new in Power Apps: February 2025 Feature Update\\n*   What's New in Microsoft 365 — April 2025\\n*   The latest on AI at work: December 2024\\n*   Microsoft launches new Surface Copilot+ PCs for Business to empower professionals across the Middle East to enhance productivity and accelerate AI innovation\\n*   Microsoft Planning Thousands More Job Cuts Aimed at Salespeople\\n*   5 ways AI is changing healthcare\\n*   Transforming R&D with agentic AI: Introducing Microsoft Discovery\\n*   Microsoft Work Trend Index 2025 report reveals the “Frontier Firms” is born, a new organization blueprint is emerging\\n*   Microsoft 2025 annual Work Trend Index\\n*   Microsoft links recent Microsoft 365 outage to buggy update\\n*   New innovations in Microsoft Purview for protected, AI-ready data\\n*   What’s new in Copilot Studio: April 2025\\n*   What's New in Microsoft 365 — May 2025\\n*   Meet Microsoft Dragon Copilot: Your new AI assistant for clinical workflow\\n*   Microsoft Maia AI Chip Delayed Until 2026, Will Lag Behind Nvidia Blackwell: Report\\n*   The Golden Opportunity for American AI\\n*   Microsoft unveils Majorana 1, the world’s first quantum processor powered by topological qubits\\n*   Microsoft and NVIDIA accelerate AI development and performance\\n*   Announcing new Microsoft Dataverse capabilities for multi-agent operations\\n*   Microsoft Build 2025: news and announcements from the developer conference\"}"
      ]
     },
     "execution_count": 129,
     "metadata": {},
     "output_type": "execute_result"
    }
   ],
   "source": [
    "from langchain_community.utilities import SerpAPIWrapper\n",
    "from langchain.agents import tool\n",
    "from datetime import datetime\n",
    "\n",
    "# laod env\n",
    "from dotenv import load_dotenv\n",
    "load_dotenv()  # Load environment variables from .env file\n",
    "@tool\n",
    "def search_stock_data(company_ticker: str) -> str:\n",
    "    \"\"\"\n",
    "    Use this tool to get the current stock price, market cap, and other key financial metrics\n",
    "    for a company. The input should be the company's stock ticker symbol (e.g., 'NVDA', 'GOOGL', 'MSFT').\n",
    "    \"\"\"\n",
    "    print(f\"--- Searching for stock data for ticker: {company_ticker} ---\")\n",
    "    # A standard Google search for a stock ticker is very effective.\n",
    "    # SerpAPI will return the contents of the Google Finance widget.\n",
    "    search = SerpAPIWrapper()\n",
    "    query = f\"{company_ticker} stock price\"\n",
    "    return search.run(query)\n",
    "\n",
    "@tool\n",
    "def search_company_news(company_name: str) -> str:\n",
    "    \"\"\"\n",
    "    Use this tool to find recent news articles and headlines about a specific company.\n",
    "    The input should be the company's full name (e.g., 'NVIDIA', 'Microsoft').\n",
    "    This provides qualitative context.\n",
    "    \"\"\"\n",
    "    print(f\"--- Searching for news about: {company_name} ---\")\n",
    "    # For news, we target the Google News engine specifically for better results.\n",
    "    search = SerpAPIWrapper(params={\"engine\": \"google_news\", \"tbm\": \"nws\"})\n",
    "    query = f\"latest news on {company_name}\"\n",
    "    return search.run(query)\n",
    "\n",
    "\n",
    "agent = initialize_agent(\n",
    "    [search_stock_data, search_company_news],\n",
    "    chat_gemini,\n",
    "    agent=AgentType.CHAT_ZERO_SHOT_REACT_DESCRIPTION,\n",
    "    handle_parsing_errors=True,\n",
    "    verbose=True\n",
    ")\n",
    "\n",
    "agent.invoke(\"Give me a financial snapshot of Microsoft (MSFT). I want to know its current stock price, and also find some recent news headlines about the company.\")"
   ]
  },
  {
   "cell_type": "markdown",
   "id": "f2766c4d",
   "metadata": {
    "slideshow": {
     "slide_type": "subslide"
    }
   },
   "source": [
    "### Vector Stores\n",
    "\n",
    "- A **vector store** is a specialized database designed to efficiently store and retrieve high-dimensional vectors, such as embeddings generated by language models.\n",
    "- **Purpose:** Enables fast similarity search and retrieval of data based on semantic meaning, rather than exact keyword matches.\n",
    "- Think of it as a \"semantic memory\"—you can find and retrieve information that is similar in meaning, even if the exact words are different. This is essential for tasks like semantic search, question answering, and recommendation systems."
   ]
  },
  {
   "cell_type": "code",
   "execution_count": 95,
   "id": "88e26d3c",
   "metadata": {},
   "outputs": [],
   "source": [
    "# Stores\n",
    "from langchain.vectorstores import DocArrayInMemorySearch\n",
    "# Retrievers\n",
    "from langchain.indexes import VectorstoreIndexCreator\n",
    "# Loaders\n",
    "from langchain.document_loaders import CSVLoader"
   ]
  },
  {
   "cell_type": "code",
   "execution_count": 97,
   "id": "7ece921c",
   "metadata": {},
   "outputs": [
    {
     "name": "stderr",
     "output_type": "stream",
     "text": [
      "/home/gianluca/Teaching/woa-2025-intro-to-langchain/.venv/lib/python3.13/site-packages/pydantic/_migration.py:283: UserWarning: `pydantic.error_wrappers:ValidationError` has been moved to `pydantic:ValidationError`.\n",
      "  warnings.warn(f'`{import_path}` has been moved to `{new_location}`.')\n"
     ]
    }
   ],
   "source": [
    "loader = CSVLoader(file_path='data/dataset.csv')\n",
    "index = VectorstoreIndexCreator(embedding=google_embeddings, vectorstore_cls=DocArrayInMemorySearch).from_loaders(loaders=[loader])"
   ]
  },
  {
   "cell_type": "code",
   "execution_count": 102,
   "id": "f3ba6aa2",
   "metadata": {},
   "outputs": [
    {
     "data": {
      "text/plain": [
       "[Document(metadata={'source': 'data/dataset.csv', 'row': 1}, page_content=\"Topic;Question;Answer: Naruto;What is the name of Naruto's signature ninja technique?;Rasengan\")]"
      ]
     },
     "execution_count": 102,
     "metadata": {},
     "output_type": "execute_result"
    }
   ],
   "source": [
    "index.vectorstore.search(\"Is rasengan a powerful attack?\", search_type=\"similarity\", k=1)"
   ]
  },
  {
   "cell_type": "code",
   "execution_count": 103,
   "id": "3d796269",
   "metadata": {},
   "outputs": [
    {
     "name": "stdout",
     "output_type": "stream",
     "text": [
      "\n",
      "\n",
      "\u001b[1m> Entering new RetrievalQA chain...\u001b[0m\n",
      "\n",
      "\u001b[1m> Finished chain.\u001b[0m\n"
     ]
    },
    {
     "data": {
      "text/plain": [
       "'The best attack of Naruto is the \"Rasengan\" technique, which involves using a combination of ninja techniques to create an opening for a powerful attack. The technique requires a deep understanding of ninja tactics and the ability to adapt quickly in different situations.'"
      ]
     },
     "execution_count": 103,
     "metadata": {},
     "output_type": "execute_result"
    }
   ],
   "source": [
    "smollm = OllamaLLM(model=\"smollm:360m\")\n",
    "index.query(\"What is the best attack of Naruto? Reply with just the attack (a word)\", llm=smollm, verbose=True)"
   ]
  },
  {
   "cell_type": "code",
   "execution_count": 104,
   "id": "0d01bb1f",
   "metadata": {},
   "outputs": [
    {
     "data": {
      "text/plain": [
       "'The best attack of Naruto depends on various factors, such as the level of difficulty, player preferences, and the specific situation. However, based on popular opinions and online discussions, here are some of the most commonly cited attacks:\\n\\n1. **Naruto\\'s \"Sword of Destiny\"**: This is a well-known attack that can be used in various situations, such as when Naruto faces a powerful enemy or needs to defeat an ancient foe. It\\'s often associated with Naruto\\'s iconic sword and is considered one of the best attacks in the series.\\n2. **Naruto\\'s \"Katana\"**: This attack is particularly effective against enemies who are using Katanas, which are more deadly than swords. It can also be used to defeat enemies who are using other types of weapons or equipment that are not designed for Katanas.\\n3. **Naruto\\'s \"Sword of Destiny\" with a twist**: This attack can be used in situations where Naruto needs to deal multiple blows quickly, such as when facing an enemy who is using a powerful sword or when dealing with a group of enemies who are using similar attacks.\\n4. **Naruto\\'s \"Katana\" with a twist**: This attack can also be used in situations where Naruto needs to deal multiple blows quickly, but the enemy uses a different type of weapon or equipment that makes it harder for Naruto to defeat. For example, if the enemy uses a sword with a unique design that makes it difficult to hit from behind, the attack can be more effective against them.\\n5. **Naruto\\'s \"Sword of Destiny\" with a twist**: This is similar to the previous attack, but it can also be used in situations where Naruto needs to deal multiple blows quickly, but the enemy uses a different type of weapon or equipment that makes it harder for Naruto to defeat. For example, if the enemy uses a sword with a unique design that makes it difficult to hit from behind, the attack can be more effective against them.\\n6. **Naruto\\'s \"Sword of Destiny\"**: This is a classic attack that can be used in various situations, such as when Naruto needs to deal multiple blows quickly or when dealing with an enemy who uses a unique type of weapon or equipment. It\\'s often associated with Naruto\\'s iconic sword and is considered one of the best attacks in the series.\\n\\nUltimately, the best attack of Naruto depends on the specific situation and the player\\'s preferences. However, if you\\'re looking for a well-rounded attack that can be used in various scenarios, the \"Sword of Destiny\" or \"Katana\" are likely good choices.'"
      ]
     },
     "execution_count": 104,
     "metadata": {},
     "output_type": "execute_result"
    }
   ],
   "source": [
    "smollm.invoke(\"What is the best attack of Naruto? Reply with just the attack (a word)\")"
   ]
  },
  {
   "cell_type": "code",
   "execution_count": null,
   "id": "763f818e",
   "metadata": {},
   "outputs": [],
   "source": [
    "# Evaluation? How to?\n",
    "file = 'data/long_dataset.csv'\n",
    "loader = CSVLoader(file_path=file)\n",
    "data = loader.load()"
   ]
  },
  {
   "cell_type": "code",
   "execution_count": null,
   "id": "7076a889",
   "metadata": {},
   "outputs": [],
   "source": [
    "index = VectorstoreIndexCreator(\n",
    "    vectorstore_cls=DocArrayInMemorySearch,\n",
    "    embedding=google_embeddings\n",
    ").from_loaders([loader])"
   ]
  },
  {
   "cell_type": "code",
   "execution_count": null,
   "id": "c664ac51",
   "metadata": {},
   "outputs": [],
   "source": [
    "data[0]"
   ]
  },
  {
   "cell_type": "code",
   "execution_count": null,
   "id": "bde7666f",
   "metadata": {},
   "outputs": [],
   "source": [
    "from langchain.chains import RetrievalQA\n",
    "qa = RetrievalQA.from_chain_type(\n",
    "    llm=chat_gemini, \n",
    "    chain_type=\"stuff\", # \"stuff\" is a simple chain that concatenates documents and passes them to the LLM\n",
    "    retriever=index.vectorstore.as_retriever(), \n",
    "    verbose=True,\n",
    ")"
   ]
  },
  {
   "cell_type": "code",
   "execution_count": null,
   "id": "4b4d19f7",
   "metadata": {},
   "outputs": [],
   "source": [
    "# How to evaluate? Dataset generation\n",
    "from langchain.evaluation.qa import QAGenerateChain\n",
    "example_gen_chain = QAGenerateChain.from_llm(llm=chat_gemini)\n"
   ]
  },
  {
   "cell_type": "code",
   "execution_count": null,
   "id": "4ae2db30",
   "metadata": {},
   "outputs": [],
   "source": [
    "new_examples = example_gen_chain.apply_and_parse(\n",
    "    [{\"doc\": t} for t in data[:5]]\n",
    ")"
   ]
  },
  {
   "cell_type": "code",
   "execution_count": null,
   "id": "af315cf3",
   "metadata": {},
   "outputs": [],
   "source": [
    "new_examples"
   ]
  },
  {
   "cell_type": "code",
   "execution_count": null,
   "id": "f37fdb0a",
   "metadata": {},
   "outputs": [],
   "source": [
    "data[0]"
   ]
  },
  {
   "cell_type": "code",
   "execution_count": null,
   "id": "80bbceca",
   "metadata": {},
   "outputs": [],
   "source": [
    "import langchain\n",
    "langchain.debug = True\n",
    "qa.run(new_examples[0]['qa_pairs'][\"query\"])"
   ]
  },
  {
   "cell_type": "code",
   "execution_count": null,
   "id": "7b851519",
   "metadata": {},
   "outputs": [],
   "source": [
    "langchain.debug = False\n",
    "from langchain.evaluation.qa import QAEvalChain\n",
    "eval_chain = QAEvalChain.from_llm(chat_gemini)\n",
    "queries = [ example['qa_pairs'] for example in new_examples ]\n",
    "predictions = qa.apply(queries)"
   ]
  },
  {
   "cell_type": "code",
   "execution_count": null,
   "id": "63332f3a",
   "metadata": {},
   "outputs": [],
   "source": [
    "graded_outputs = eval_chain.evaluate(queries, predictions)"
   ]
  },
  {
   "cell_type": "code",
   "execution_count": null,
   "id": "1c2f28df",
   "metadata": {},
   "outputs": [],
   "source": [
    "graded_outputs[0]"
   ]
  },
  {
   "cell_type": "code",
   "execution_count": null,
   "id": "b5584956",
   "metadata": {},
   "outputs": [],
   "source": [
    "for i, eg in enumerate(queries):\n",
    "    print(f\"Example {i}:\")\n",
    "    print(\"Question: \" + predictions[i]['query'])\n",
    "    print(\"Real Answer: \" + predictions[i]['answer'])\n",
    "    print(\"Predicted Answer: \" + predictions[i]['result'])\n",
    "    print(\"Predicted Grade: \" + graded_outputs[i]['results'])\n",
    "    print()"
   ]
  },
  {
   "cell_type": "code",
   "execution_count": null,
   "id": "9b527c5d",
   "metadata": {},
   "outputs": [
    {
     "name": "stdout",
     "output_type": "stream",
     "text": [
      "\n",
      "\n",
      "\u001b[1m> Entering new AgentExecutor chain...\u001b[0m\n",
      "\u001b[32;1m\u001b[1;3mThought: To create a good trip plan for Aarhus, I need to know what kind of \"fancy\" experiences the user is looking for. I will start by searching for fancy places and hotels in Aarhus to get an idea of what's available.\n",
      "Action:\n",
      "```json\n",
      "{\n",
      "  \"action\": \"search_fancy_places_in\",\n",
      "  \"action_input\": {\n",
      "    \"place\": \"Aarhus\"\n",
      "  }\n",
      "}\n",
      "```\u001b[0m"
     ]
    },
    {
     "ename": "KeyboardInterrupt",
     "evalue": "",
     "output_type": "error",
     "traceback": [
      "\u001b[0;31m---------------------------------------------------------------------------\u001b[0m",
      "\u001b[0;31mKeyboardInterrupt\u001b[0m                         Traceback (most recent call last)",
      "Cell \u001b[0;32mIn[194], line 54\u001b[0m\n\u001b[1;32m     44\u001b[0m     \u001b[38;5;28;01mreturn\u001b[39;00m SerpAPIWrapper()\u001b[38;5;241m.\u001b[39mrun(\u001b[38;5;124mf\u001b[39m\u001b[38;5;124m\"\u001b[39m\u001b[38;5;124msearch fancy hotels in \u001b[39m\u001b[38;5;132;01m{\u001b[39;00mlocation\u001b[38;5;132;01m}\u001b[39;00m\u001b[38;5;124m\"\u001b[39m)\n\u001b[1;32m     46\u001b[0m agent \u001b[38;5;241m=\u001b[39m initialize_agent(\n\u001b[1;32m     47\u001b[0m     [search_fancy_places_in, search_fancy_hotels_in],\n\u001b[1;32m     48\u001b[0m     chat_gemini,\n\u001b[0;32m   (...)\u001b[0m\n\u001b[1;32m     51\u001b[0m     verbose\u001b[38;5;241m=\u001b[39m\u001b[38;5;28;01mTrue\u001b[39;00m\n\u001b[1;32m     52\u001b[0m )\n\u001b[0;32m---> 54\u001b[0m \u001b[43magent\u001b[49m\u001b[38;5;241;43m.\u001b[39;49m\u001b[43minvoke\u001b[49m\u001b[43m(\u001b[49m\u001b[38;5;124;43m\"\u001b[39;49m\u001b[38;5;124;43mCan you create a plan for a trip to Aarhus?\u001b[39;49m\u001b[38;5;124;43m\"\u001b[39;49m\u001b[43m)\u001b[49m\n",
      "File \u001b[0;32m~/.cache/pypoetry/virtualenvs/woa-2025-intro-to-langchain-4HUP7ETl-py3.13/lib/python3.13/site-packages/langchain/chains/base.py:167\u001b[0m, in \u001b[0;36mChain.invoke\u001b[0;34m(self, input, config, **kwargs)\u001b[0m\n\u001b[1;32m    165\u001b[0m \u001b[38;5;28;01mexcept\u001b[39;00m \u001b[38;5;167;01mBaseException\u001b[39;00m \u001b[38;5;28;01mas\u001b[39;00m e:\n\u001b[1;32m    166\u001b[0m     run_manager\u001b[38;5;241m.\u001b[39mon_chain_error(e)\n\u001b[0;32m--> 167\u001b[0m     \u001b[38;5;28;01mraise\u001b[39;00m e\n\u001b[1;32m    168\u001b[0m run_manager\u001b[38;5;241m.\u001b[39mon_chain_end(outputs)\n\u001b[1;32m    170\u001b[0m \u001b[38;5;28;01mif\u001b[39;00m include_run_info:\n",
      "File \u001b[0;32m~/.cache/pypoetry/virtualenvs/woa-2025-intro-to-langchain-4HUP7ETl-py3.13/lib/python3.13/site-packages/langchain/chains/base.py:157\u001b[0m, in \u001b[0;36mChain.invoke\u001b[0;34m(self, input, config, **kwargs)\u001b[0m\n\u001b[1;32m    154\u001b[0m \u001b[38;5;28;01mtry\u001b[39;00m:\n\u001b[1;32m    155\u001b[0m     \u001b[38;5;28mself\u001b[39m\u001b[38;5;241m.\u001b[39m_validate_inputs(inputs)\n\u001b[1;32m    156\u001b[0m     outputs \u001b[38;5;241m=\u001b[39m (\n\u001b[0;32m--> 157\u001b[0m         \u001b[38;5;28;43mself\u001b[39;49m\u001b[38;5;241;43m.\u001b[39;49m\u001b[43m_call\u001b[49m\u001b[43m(\u001b[49m\u001b[43minputs\u001b[49m\u001b[43m,\u001b[49m\u001b[43m \u001b[49m\u001b[43mrun_manager\u001b[49m\u001b[38;5;241;43m=\u001b[39;49m\u001b[43mrun_manager\u001b[49m\u001b[43m)\u001b[49m\n\u001b[1;32m    158\u001b[0m         \u001b[38;5;28;01mif\u001b[39;00m new_arg_supported\n\u001b[1;32m    159\u001b[0m         \u001b[38;5;28;01melse\u001b[39;00m \u001b[38;5;28mself\u001b[39m\u001b[38;5;241m.\u001b[39m_call(inputs)\n\u001b[1;32m    160\u001b[0m     )\n\u001b[1;32m    162\u001b[0m     final_outputs: \u001b[38;5;28mdict\u001b[39m[\u001b[38;5;28mstr\u001b[39m, Any] \u001b[38;5;241m=\u001b[39m \u001b[38;5;28mself\u001b[39m\u001b[38;5;241m.\u001b[39mprep_outputs(\n\u001b[1;32m    163\u001b[0m         inputs, outputs, return_only_outputs\n\u001b[1;32m    164\u001b[0m     )\n\u001b[1;32m    165\u001b[0m \u001b[38;5;28;01mexcept\u001b[39;00m \u001b[38;5;167;01mBaseException\u001b[39;00m \u001b[38;5;28;01mas\u001b[39;00m e:\n",
      "File \u001b[0;32m~/.cache/pypoetry/virtualenvs/woa-2025-intro-to-langchain-4HUP7ETl-py3.13/lib/python3.13/site-packages/langchain/agents/agent.py:1620\u001b[0m, in \u001b[0;36mAgentExecutor._call\u001b[0;34m(self, inputs, run_manager)\u001b[0m\n\u001b[1;32m   1618\u001b[0m \u001b[38;5;66;03m# We now enter the agent loop (until it returns something).\u001b[39;00m\n\u001b[1;32m   1619\u001b[0m \u001b[38;5;28;01mwhile\u001b[39;00m \u001b[38;5;28mself\u001b[39m\u001b[38;5;241m.\u001b[39m_should_continue(iterations, time_elapsed):\n\u001b[0;32m-> 1620\u001b[0m     next_step_output \u001b[38;5;241m=\u001b[39m \u001b[38;5;28;43mself\u001b[39;49m\u001b[38;5;241;43m.\u001b[39;49m\u001b[43m_take_next_step\u001b[49m\u001b[43m(\u001b[49m\n\u001b[1;32m   1621\u001b[0m \u001b[43m        \u001b[49m\u001b[43mname_to_tool_map\u001b[49m\u001b[43m,\u001b[49m\n\u001b[1;32m   1622\u001b[0m \u001b[43m        \u001b[49m\u001b[43mcolor_mapping\u001b[49m\u001b[43m,\u001b[49m\n\u001b[1;32m   1623\u001b[0m \u001b[43m        \u001b[49m\u001b[43minputs\u001b[49m\u001b[43m,\u001b[49m\n\u001b[1;32m   1624\u001b[0m \u001b[43m        \u001b[49m\u001b[43mintermediate_steps\u001b[49m\u001b[43m,\u001b[49m\n\u001b[1;32m   1625\u001b[0m \u001b[43m        \u001b[49m\u001b[43mrun_manager\u001b[49m\u001b[38;5;241;43m=\u001b[39;49m\u001b[43mrun_manager\u001b[49m\u001b[43m,\u001b[49m\n\u001b[1;32m   1626\u001b[0m \u001b[43m    \u001b[49m\u001b[43m)\u001b[49m\n\u001b[1;32m   1627\u001b[0m     \u001b[38;5;28;01mif\u001b[39;00m \u001b[38;5;28misinstance\u001b[39m(next_step_output, AgentFinish):\n\u001b[1;32m   1628\u001b[0m         \u001b[38;5;28;01mreturn\u001b[39;00m \u001b[38;5;28mself\u001b[39m\u001b[38;5;241m.\u001b[39m_return(\n\u001b[1;32m   1629\u001b[0m             next_step_output, intermediate_steps, run_manager\u001b[38;5;241m=\u001b[39mrun_manager\n\u001b[1;32m   1630\u001b[0m         )\n",
      "File \u001b[0;32m~/.cache/pypoetry/virtualenvs/woa-2025-intro-to-langchain-4HUP7ETl-py3.13/lib/python3.13/site-packages/langchain/agents/agent.py:1328\u001b[0m, in \u001b[0;36mAgentExecutor._take_next_step\u001b[0;34m(self, name_to_tool_map, color_mapping, inputs, intermediate_steps, run_manager)\u001b[0m\n\u001b[1;32m   1317\u001b[0m \u001b[38;5;28;01mdef\u001b[39;00m\u001b[38;5;250m \u001b[39m\u001b[38;5;21m_take_next_step\u001b[39m(\n\u001b[1;32m   1318\u001b[0m     \u001b[38;5;28mself\u001b[39m,\n\u001b[1;32m   1319\u001b[0m     name_to_tool_map: \u001b[38;5;28mdict\u001b[39m[\u001b[38;5;28mstr\u001b[39m, BaseTool],\n\u001b[0;32m   (...)\u001b[0m\n\u001b[1;32m   1323\u001b[0m     run_manager: Optional[CallbackManagerForChainRun] \u001b[38;5;241m=\u001b[39m \u001b[38;5;28;01mNone\u001b[39;00m,\n\u001b[1;32m   1324\u001b[0m ) \u001b[38;5;241m-\u001b[39m\u001b[38;5;241m>\u001b[39m Union[AgentFinish, \u001b[38;5;28mlist\u001b[39m[\u001b[38;5;28mtuple\u001b[39m[AgentAction, \u001b[38;5;28mstr\u001b[39m]]]:\n\u001b[1;32m   1325\u001b[0m     \u001b[38;5;28;01mreturn\u001b[39;00m \u001b[38;5;28mself\u001b[39m\u001b[38;5;241m.\u001b[39m_consume_next_step(\n\u001b[1;32m   1326\u001b[0m         \u001b[43m[\u001b[49m\n\u001b[1;32m   1327\u001b[0m \u001b[43m            \u001b[49m\u001b[43ma\u001b[49m\n\u001b[0;32m-> 1328\u001b[0m \u001b[43m            \u001b[49m\u001b[38;5;28;43;01mfor\u001b[39;49;00m\u001b[43m \u001b[49m\u001b[43ma\u001b[49m\u001b[43m \u001b[49m\u001b[38;5;129;43;01min\u001b[39;49;00m\u001b[43m \u001b[49m\u001b[38;5;28;43mself\u001b[39;49m\u001b[38;5;241;43m.\u001b[39;49m\u001b[43m_iter_next_step\u001b[49m\u001b[43m(\u001b[49m\n\u001b[1;32m   1329\u001b[0m \u001b[43m                \u001b[49m\u001b[43mname_to_tool_map\u001b[49m\u001b[43m,\u001b[49m\n\u001b[1;32m   1330\u001b[0m \u001b[43m                \u001b[49m\u001b[43mcolor_mapping\u001b[49m\u001b[43m,\u001b[49m\n\u001b[1;32m   1331\u001b[0m \u001b[43m                \u001b[49m\u001b[43minputs\u001b[49m\u001b[43m,\u001b[49m\n\u001b[1;32m   1332\u001b[0m \u001b[43m                \u001b[49m\u001b[43mintermediate_steps\u001b[49m\u001b[43m,\u001b[49m\n\u001b[1;32m   1333\u001b[0m \u001b[43m                \u001b[49m\u001b[43mrun_manager\u001b[49m\u001b[43m,\u001b[49m\n\u001b[1;32m   1334\u001b[0m \u001b[43m            \u001b[49m\u001b[43m)\u001b[49m\n\u001b[1;32m   1335\u001b[0m \u001b[43m        \u001b[49m\u001b[43m]\u001b[49m\n\u001b[1;32m   1336\u001b[0m     )\n",
      "File \u001b[0;32m~/.cache/pypoetry/virtualenvs/woa-2025-intro-to-langchain-4HUP7ETl-py3.13/lib/python3.13/site-packages/langchain/agents/agent.py:1411\u001b[0m, in \u001b[0;36mAgentExecutor._iter_next_step\u001b[0;34m(self, name_to_tool_map, color_mapping, inputs, intermediate_steps, run_manager)\u001b[0m\n\u001b[1;32m   1409\u001b[0m     \u001b[38;5;28;01myield\u001b[39;00m agent_action\n\u001b[1;32m   1410\u001b[0m \u001b[38;5;28;01mfor\u001b[39;00m agent_action \u001b[38;5;129;01min\u001b[39;00m actions:\n\u001b[0;32m-> 1411\u001b[0m     \u001b[38;5;28;01myield\u001b[39;00m \u001b[38;5;28;43mself\u001b[39;49m\u001b[38;5;241;43m.\u001b[39;49m\u001b[43m_perform_agent_action\u001b[49m\u001b[43m(\u001b[49m\n\u001b[1;32m   1412\u001b[0m \u001b[43m        \u001b[49m\u001b[43mname_to_tool_map\u001b[49m\u001b[43m,\u001b[49m\u001b[43m \u001b[49m\u001b[43mcolor_mapping\u001b[49m\u001b[43m,\u001b[49m\u001b[43m \u001b[49m\u001b[43magent_action\u001b[49m\u001b[43m,\u001b[49m\u001b[43m \u001b[49m\u001b[43mrun_manager\u001b[49m\n\u001b[1;32m   1413\u001b[0m \u001b[43m    \u001b[49m\u001b[43m)\u001b[49m\n",
      "File \u001b[0;32m~/.cache/pypoetry/virtualenvs/woa-2025-intro-to-langchain-4HUP7ETl-py3.13/lib/python3.13/site-packages/langchain/agents/agent.py:1433\u001b[0m, in \u001b[0;36mAgentExecutor._perform_agent_action\u001b[0;34m(self, name_to_tool_map, color_mapping, agent_action, run_manager)\u001b[0m\n\u001b[1;32m   1431\u001b[0m         tool_run_kwargs[\u001b[38;5;124m\"\u001b[39m\u001b[38;5;124mllm_prefix\u001b[39m\u001b[38;5;124m\"\u001b[39m] \u001b[38;5;241m=\u001b[39m \u001b[38;5;124m\"\u001b[39m\u001b[38;5;124m\"\u001b[39m\n\u001b[1;32m   1432\u001b[0m     \u001b[38;5;66;03m# We then call the tool on the tool input to get an observation\u001b[39;00m\n\u001b[0;32m-> 1433\u001b[0m     observation \u001b[38;5;241m=\u001b[39m \u001b[43mtool\u001b[49m\u001b[38;5;241;43m.\u001b[39;49m\u001b[43mrun\u001b[49m\u001b[43m(\u001b[49m\n\u001b[1;32m   1434\u001b[0m \u001b[43m        \u001b[49m\u001b[43magent_action\u001b[49m\u001b[38;5;241;43m.\u001b[39;49m\u001b[43mtool_input\u001b[49m\u001b[43m,\u001b[49m\n\u001b[1;32m   1435\u001b[0m \u001b[43m        \u001b[49m\u001b[43mverbose\u001b[49m\u001b[38;5;241;43m=\u001b[39;49m\u001b[38;5;28;43mself\u001b[39;49m\u001b[38;5;241;43m.\u001b[39;49m\u001b[43mverbose\u001b[49m\u001b[43m,\u001b[49m\n\u001b[1;32m   1436\u001b[0m \u001b[43m        \u001b[49m\u001b[43mcolor\u001b[49m\u001b[38;5;241;43m=\u001b[39;49m\u001b[43mcolor\u001b[49m\u001b[43m,\u001b[49m\n\u001b[1;32m   1437\u001b[0m \u001b[43m        \u001b[49m\u001b[43mcallbacks\u001b[49m\u001b[38;5;241;43m=\u001b[39;49m\u001b[43mrun_manager\u001b[49m\u001b[38;5;241;43m.\u001b[39;49m\u001b[43mget_child\u001b[49m\u001b[43m(\u001b[49m\u001b[43m)\u001b[49m\u001b[43m \u001b[49m\u001b[38;5;28;43;01mif\u001b[39;49;00m\u001b[43m \u001b[49m\u001b[43mrun_manager\u001b[49m\u001b[43m \u001b[49m\u001b[38;5;28;43;01melse\u001b[39;49;00m\u001b[43m \u001b[49m\u001b[38;5;28;43;01mNone\u001b[39;49;00m\u001b[43m,\u001b[49m\n\u001b[1;32m   1438\u001b[0m \u001b[43m        \u001b[49m\u001b[38;5;241;43m*\u001b[39;49m\u001b[38;5;241;43m*\u001b[39;49m\u001b[43mtool_run_kwargs\u001b[49m\u001b[43m,\u001b[49m\n\u001b[1;32m   1439\u001b[0m \u001b[43m    \u001b[49m\u001b[43m)\u001b[49m\n\u001b[1;32m   1440\u001b[0m \u001b[38;5;28;01melse\u001b[39;00m:\n\u001b[1;32m   1441\u001b[0m     tool_run_kwargs \u001b[38;5;241m=\u001b[39m \u001b[38;5;28mself\u001b[39m\u001b[38;5;241m.\u001b[39m_action_agent\u001b[38;5;241m.\u001b[39mtool_run_logging_kwargs()\n",
      "File \u001b[0;32m~/.cache/pypoetry/virtualenvs/woa-2025-intro-to-langchain-4HUP7ETl-py3.13/lib/python3.13/site-packages/langchain_core/tools/base.py:882\u001b[0m, in \u001b[0;36mBaseTool.run\u001b[0;34m(self, tool_input, verbose, start_color, color, callbacks, tags, metadata, run_name, run_id, config, tool_call_id, **kwargs)\u001b[0m\n\u001b[1;32m    880\u001b[0m \u001b[38;5;28;01mif\u001b[39;00m error_to_raise:\n\u001b[1;32m    881\u001b[0m     run_manager\u001b[38;5;241m.\u001b[39mon_tool_error(error_to_raise)\n\u001b[0;32m--> 882\u001b[0m     \u001b[38;5;28;01mraise\u001b[39;00m error_to_raise\n\u001b[1;32m    883\u001b[0m output \u001b[38;5;241m=\u001b[39m _format_output(content, artifact, tool_call_id, \u001b[38;5;28mself\u001b[39m\u001b[38;5;241m.\u001b[39mname, status)\n\u001b[1;32m    884\u001b[0m run_manager\u001b[38;5;241m.\u001b[39mon_tool_end(output, color\u001b[38;5;241m=\u001b[39mcolor, name\u001b[38;5;241m=\u001b[39m\u001b[38;5;28mself\u001b[39m\u001b[38;5;241m.\u001b[39mname, \u001b[38;5;241m*\u001b[39m\u001b[38;5;241m*\u001b[39mkwargs)\n",
      "File \u001b[0;32m~/.cache/pypoetry/virtualenvs/woa-2025-intro-to-langchain-4HUP7ETl-py3.13/lib/python3.13/site-packages/langchain_core/tools/base.py:851\u001b[0m, in \u001b[0;36mBaseTool.run\u001b[0;34m(self, tool_input, verbose, start_color, color, callbacks, tags, metadata, run_name, run_id, config, tool_call_id, **kwargs)\u001b[0m\n\u001b[1;32m    849\u001b[0m     \u001b[38;5;28;01mif\u001b[39;00m config_param \u001b[38;5;241m:=\u001b[39m _get_runnable_config_param(\u001b[38;5;28mself\u001b[39m\u001b[38;5;241m.\u001b[39m_run):\n\u001b[1;32m    850\u001b[0m         tool_kwargs \u001b[38;5;241m=\u001b[39m tool_kwargs \u001b[38;5;241m|\u001b[39m {config_param: config}\n\u001b[0;32m--> 851\u001b[0m     response \u001b[38;5;241m=\u001b[39m \u001b[43mcontext\u001b[49m\u001b[38;5;241;43m.\u001b[39;49m\u001b[43mrun\u001b[49m\u001b[43m(\u001b[49m\u001b[38;5;28;43mself\u001b[39;49m\u001b[38;5;241;43m.\u001b[39;49m\u001b[43m_run\u001b[49m\u001b[43m,\u001b[49m\u001b[43m \u001b[49m\u001b[38;5;241;43m*\u001b[39;49m\u001b[43mtool_args\u001b[49m\u001b[43m,\u001b[49m\u001b[43m \u001b[49m\u001b[38;5;241;43m*\u001b[39;49m\u001b[38;5;241;43m*\u001b[39;49m\u001b[43mtool_kwargs\u001b[49m\u001b[43m)\u001b[49m\n\u001b[1;32m    852\u001b[0m \u001b[38;5;28;01mif\u001b[39;00m \u001b[38;5;28mself\u001b[39m\u001b[38;5;241m.\u001b[39mresponse_format \u001b[38;5;241m==\u001b[39m \u001b[38;5;124m\"\u001b[39m\u001b[38;5;124mcontent_and_artifact\u001b[39m\u001b[38;5;124m\"\u001b[39m:\n\u001b[1;32m    853\u001b[0m     \u001b[38;5;28;01mif\u001b[39;00m \u001b[38;5;129;01mnot\u001b[39;00m \u001b[38;5;28misinstance\u001b[39m(response, \u001b[38;5;28mtuple\u001b[39m) \u001b[38;5;129;01mor\u001b[39;00m \u001b[38;5;28mlen\u001b[39m(response) \u001b[38;5;241m!=\u001b[39m \u001b[38;5;241m2\u001b[39m:\n",
      "File \u001b[0;32m~/.cache/pypoetry/virtualenvs/woa-2025-intro-to-langchain-4HUP7ETl-py3.13/lib/python3.13/site-packages/langchain_core/tools/structured.py:93\u001b[0m, in \u001b[0;36mStructuredTool._run\u001b[0;34m(self, config, run_manager, *args, **kwargs)\u001b[0m\n\u001b[1;32m     91\u001b[0m     \u001b[38;5;28;01mif\u001b[39;00m config_param \u001b[38;5;241m:=\u001b[39m _get_runnable_config_param(\u001b[38;5;28mself\u001b[39m\u001b[38;5;241m.\u001b[39mfunc):\n\u001b[1;32m     92\u001b[0m         kwargs[config_param] \u001b[38;5;241m=\u001b[39m config\n\u001b[0;32m---> 93\u001b[0m     \u001b[38;5;28;01mreturn\u001b[39;00m \u001b[38;5;28;43mself\u001b[39;49m\u001b[38;5;241;43m.\u001b[39;49m\u001b[43mfunc\u001b[49m\u001b[43m(\u001b[49m\u001b[38;5;241;43m*\u001b[39;49m\u001b[43margs\u001b[49m\u001b[43m,\u001b[49m\u001b[43m \u001b[49m\u001b[38;5;241;43m*\u001b[39;49m\u001b[38;5;241;43m*\u001b[39;49m\u001b[43mkwargs\u001b[49m\u001b[43m)\u001b[49m\n\u001b[1;32m     94\u001b[0m msg \u001b[38;5;241m=\u001b[39m \u001b[38;5;124m\"\u001b[39m\u001b[38;5;124mStructuredTool does not support sync invocation.\u001b[39m\u001b[38;5;124m\"\u001b[39m\n\u001b[1;32m     95\u001b[0m \u001b[38;5;28;01mraise\u001b[39;00m \u001b[38;5;167;01mNotImplementedError\u001b[39;00m(msg)\n",
      "Cell \u001b[0;32mIn[194], line 17\u001b[0m, in \u001b[0;36msearch_fancy_places_in\u001b[0;34m(place)\u001b[0m\n\u001b[1;32m      8\u001b[0m \u001b[38;5;129m@tool\u001b[39m\n\u001b[1;32m      9\u001b[0m \u001b[38;5;28;01mdef\u001b[39;00m\u001b[38;5;250m \u001b[39m\u001b[38;5;21msearch_fancy_places_in\u001b[39m(place: \u001b[38;5;28mstr\u001b[39m) \u001b[38;5;241m-\u001b[39m\u001b[38;5;241m>\u001b[39m \u001b[38;5;28mstr\u001b[39m:\n\u001b[1;32m     10\u001b[0m \u001b[38;5;250m    \u001b[39m\u001b[38;5;124;03m\"\"\"\u001b[39;00m\n\u001b[1;32m     11\u001b[0m \u001b[38;5;124;03m    Search for fancy places in the given location using SerpAPI.\u001b[39;00m\n\u001b[1;32m     12\u001b[0m \u001b[38;5;124;03m    Args:\u001b[39;00m\n\u001b[0;32m   (...)\u001b[0m\n\u001b[1;32m     15\u001b[0m \u001b[38;5;124;03m        str: Search results for fancy places in the specified location.\u001b[39;00m\n\u001b[1;32m     16\u001b[0m \u001b[38;5;124;03m    \"\"\"\u001b[39;00m\n\u001b[0;32m---> 17\u001b[0m     \u001b[38;5;28;01mreturn\u001b[39;00m \u001b[43mSerpAPIWrapper\u001b[49m\u001b[43m(\u001b[49m\u001b[43m)\u001b[49m\u001b[38;5;241;43m.\u001b[39;49m\u001b[43mrun\u001b[49m\u001b[43m(\u001b[49m\u001b[38;5;124;43mf\u001b[39;49m\u001b[38;5;124;43m\"\u001b[39;49m\u001b[38;5;124;43mfancy places in \u001b[39;49m\u001b[38;5;132;43;01m{\u001b[39;49;00m\u001b[43mplace\u001b[49m\u001b[38;5;132;43;01m}\u001b[39;49;00m\u001b[38;5;124;43m\"\u001b[39;49m\u001b[43m)\u001b[49m\n",
      "File \u001b[0;32m~/.cache/pypoetry/virtualenvs/woa-2025-intro-to-langchain-4HUP7ETl-py3.13/lib/python3.13/site-packages/langchain_community/utilities/serpapi.py:85\u001b[0m, in \u001b[0;36mSerpAPIWrapper.run\u001b[0;34m(self, query, **kwargs)\u001b[0m\n\u001b[1;32m     83\u001b[0m \u001b[38;5;28;01mdef\u001b[39;00m\u001b[38;5;250m \u001b[39m\u001b[38;5;21mrun\u001b[39m(\u001b[38;5;28mself\u001b[39m, query: \u001b[38;5;28mstr\u001b[39m, \u001b[38;5;241m*\u001b[39m\u001b[38;5;241m*\u001b[39mkwargs: Any) \u001b[38;5;241m-\u001b[39m\u001b[38;5;241m>\u001b[39m \u001b[38;5;28mstr\u001b[39m:\n\u001b[1;32m     84\u001b[0m \u001b[38;5;250m    \u001b[39m\u001b[38;5;124;03m\"\"\"Run query through SerpAPI and parse result.\"\"\"\u001b[39;00m\n\u001b[0;32m---> 85\u001b[0m     \u001b[38;5;28;01mreturn\u001b[39;00m \u001b[38;5;28mself\u001b[39m\u001b[38;5;241m.\u001b[39m_process_response(\u001b[38;5;28;43mself\u001b[39;49m\u001b[38;5;241;43m.\u001b[39;49m\u001b[43mresults\u001b[49m\u001b[43m(\u001b[49m\u001b[43mquery\u001b[49m\u001b[43m)\u001b[49m)\n",
      "File \u001b[0;32m~/.cache/pypoetry/virtualenvs/woa-2025-intro-to-langchain-4HUP7ETl-py3.13/lib/python3.13/site-packages/langchain_community/utilities/serpapi.py:92\u001b[0m, in \u001b[0;36mSerpAPIWrapper.results\u001b[0;34m(self, query)\u001b[0m\n\u001b[1;32m     90\u001b[0m \u001b[38;5;28;01mwith\u001b[39;00m HiddenPrints():\n\u001b[1;32m     91\u001b[0m     search \u001b[38;5;241m=\u001b[39m \u001b[38;5;28mself\u001b[39m\u001b[38;5;241m.\u001b[39msearch_engine(params)\n\u001b[0;32m---> 92\u001b[0m     res \u001b[38;5;241m=\u001b[39m \u001b[43msearch\u001b[49m\u001b[38;5;241;43m.\u001b[39;49m\u001b[43mget_dict\u001b[49m\u001b[43m(\u001b[49m\u001b[43m)\u001b[49m\n\u001b[1;32m     93\u001b[0m \u001b[38;5;28;01mreturn\u001b[39;00m res\n",
      "File \u001b[0;32m~/.cache/pypoetry/virtualenvs/woa-2025-intro-to-langchain-4HUP7ETl-py3.13/lib/python3.13/site-packages/serpapi/serp_api_client.py:103\u001b[0m, in \u001b[0;36mSerpApiClient.get_dict\u001b[0;34m(self)\u001b[0m\n\u001b[1;32m     98\u001b[0m \u001b[38;5;28;01mdef\u001b[39;00m\u001b[38;5;250m \u001b[39m\u001b[38;5;21mget_dict\u001b[39m(\u001b[38;5;28mself\u001b[39m):\n\u001b[1;32m     99\u001b[0m \u001b[38;5;250m    \u001b[39m\u001b[38;5;124;03m\"\"\"Returns:\u001b[39;00m\n\u001b[1;32m    100\u001b[0m \u001b[38;5;124;03m        Dict with the formatted response content\u001b[39;00m\n\u001b[1;32m    101\u001b[0m \u001b[38;5;124;03m        (alias for get_dictionary)\u001b[39;00m\n\u001b[1;32m    102\u001b[0m \u001b[38;5;124;03m    \"\"\"\u001b[39;00m\n\u001b[0;32m--> 103\u001b[0m     \u001b[38;5;28;01mreturn\u001b[39;00m \u001b[38;5;28;43mself\u001b[39;49m\u001b[38;5;241;43m.\u001b[39;49m\u001b[43mget_dictionary\u001b[49m\u001b[43m(\u001b[49m\u001b[43m)\u001b[49m\n",
      "File \u001b[0;32m~/.cache/pypoetry/virtualenvs/woa-2025-intro-to-langchain-4HUP7ETl-py3.13/lib/python3.13/site-packages/serpapi/serp_api_client.py:96\u001b[0m, in \u001b[0;36mSerpApiClient.get_dictionary\u001b[0;34m(self)\u001b[0m\n\u001b[1;32m     92\u001b[0m \u001b[38;5;28;01mdef\u001b[39;00m\u001b[38;5;250m \u001b[39m\u001b[38;5;21mget_dictionary\u001b[39m(\u001b[38;5;28mself\u001b[39m):\n\u001b[1;32m     93\u001b[0m \u001b[38;5;250m    \u001b[39m\u001b[38;5;124;03m\"\"\"Returns:\u001b[39;00m\n\u001b[1;32m     94\u001b[0m \u001b[38;5;124;03m        Dict with the formatted response content\u001b[39;00m\n\u001b[1;32m     95\u001b[0m \u001b[38;5;124;03m    \"\"\"\u001b[39;00m\n\u001b[0;32m---> 96\u001b[0m     \u001b[38;5;28;01mreturn\u001b[39;00m \u001b[38;5;28mdict\u001b[39m(\u001b[38;5;28;43mself\u001b[39;49m\u001b[38;5;241;43m.\u001b[39;49m\u001b[43mget_json\u001b[49m\u001b[43m(\u001b[49m\u001b[43m)\u001b[49m)\n",
      "File \u001b[0;32m~/.cache/pypoetry/virtualenvs/woa-2025-intro-to-langchain-4HUP7ETl-py3.13/lib/python3.13/site-packages/serpapi/serp_api_client.py:83\u001b[0m, in \u001b[0;36mSerpApiClient.get_json\u001b[0;34m(self)\u001b[0m\n\u001b[1;32m     79\u001b[0m \u001b[38;5;250m\u001b[39m\u001b[38;5;124;03m\"\"\"Returns:\u001b[39;00m\n\u001b[1;32m     80\u001b[0m \u001b[38;5;124;03m    Formatted JSON search results using json package\u001b[39;00m\n\u001b[1;32m     81\u001b[0m \u001b[38;5;124;03m\"\"\"\u001b[39;00m\n\u001b[1;32m     82\u001b[0m \u001b[38;5;28mself\u001b[39m\u001b[38;5;241m.\u001b[39mparams_dict[\u001b[38;5;124m\"\u001b[39m\u001b[38;5;124moutput\u001b[39m\u001b[38;5;124m\"\u001b[39m] \u001b[38;5;241m=\u001b[39m \u001b[38;5;124m\"\u001b[39m\u001b[38;5;124mjson\u001b[39m\u001b[38;5;124m\"\u001b[39m\n\u001b[0;32m---> 83\u001b[0m \u001b[38;5;28;01mreturn\u001b[39;00m json\u001b[38;5;241m.\u001b[39mloads(\u001b[38;5;28;43mself\u001b[39;49m\u001b[38;5;241;43m.\u001b[39;49m\u001b[43mget_results\u001b[49m\u001b[43m(\u001b[49m\u001b[43m)\u001b[49m)\n",
      "File \u001b[0;32m~/.cache/pypoetry/virtualenvs/woa-2025-intro-to-langchain-4HUP7ETl-py3.13/lib/python3.13/site-packages/serpapi/serp_api_client.py:70\u001b[0m, in \u001b[0;36mSerpApiClient.get_results\u001b[0;34m(self, path)\u001b[0m\n\u001b[1;32m     66\u001b[0m \u001b[38;5;28;01mdef\u001b[39;00m\u001b[38;5;250m \u001b[39m\u001b[38;5;21mget_results\u001b[39m(\u001b[38;5;28mself\u001b[39m, path\u001b[38;5;241m=\u001b[39m\u001b[38;5;124m'\u001b[39m\u001b[38;5;124m/search\u001b[39m\u001b[38;5;124m'\u001b[39m):\n\u001b[1;32m     67\u001b[0m \u001b[38;5;250m    \u001b[39m\u001b[38;5;124;03m\"\"\"Returns:\u001b[39;00m\n\u001b[1;32m     68\u001b[0m \u001b[38;5;124;03m        Response text field\u001b[39;00m\n\u001b[1;32m     69\u001b[0m \u001b[38;5;124;03m    \"\"\"\u001b[39;00m\n\u001b[0;32m---> 70\u001b[0m     \u001b[38;5;28;01mreturn\u001b[39;00m \u001b[38;5;28;43mself\u001b[39;49m\u001b[38;5;241;43m.\u001b[39;49m\u001b[43mget_response\u001b[49m\u001b[43m(\u001b[49m\u001b[43mpath\u001b[49m\u001b[43m)\u001b[49m\u001b[38;5;241m.\u001b[39mtext\n",
      "File \u001b[0;32m~/.cache/pypoetry/virtualenvs/woa-2025-intro-to-langchain-4HUP7ETl-py3.13/lib/python3.13/site-packages/serpapi/serp_api_client.py:59\u001b[0m, in \u001b[0;36mSerpApiClient.get_response\u001b[0;34m(self, path)\u001b[0m\n\u001b[1;32m     57\u001b[0m     url, parameter \u001b[38;5;241m=\u001b[39m \u001b[38;5;28mself\u001b[39m\u001b[38;5;241m.\u001b[39mconstruct_url(path)\n\u001b[1;32m     58\u001b[0m     \u001b[38;5;66;03m# print(url)\u001b[39;00m\n\u001b[0;32m---> 59\u001b[0m     response \u001b[38;5;241m=\u001b[39m \u001b[43mrequests\u001b[49m\u001b[38;5;241;43m.\u001b[39;49m\u001b[43mget\u001b[49m\u001b[43m(\u001b[49m\u001b[43murl\u001b[49m\u001b[43m,\u001b[49m\u001b[43m \u001b[49m\u001b[43mparameter\u001b[49m\u001b[43m,\u001b[49m\u001b[43m \u001b[49m\u001b[43mtimeout\u001b[49m\u001b[38;5;241;43m=\u001b[39;49m\u001b[38;5;28;43mself\u001b[39;49m\u001b[38;5;241;43m.\u001b[39;49m\u001b[43mtimeout\u001b[49m\u001b[43m)\u001b[49m\n\u001b[1;32m     60\u001b[0m     \u001b[38;5;28;01mreturn\u001b[39;00m response\n\u001b[1;32m     61\u001b[0m \u001b[38;5;28;01mexcept\u001b[39;00m requests\u001b[38;5;241m.\u001b[39mHTTPError \u001b[38;5;28;01mas\u001b[39;00m e:\n",
      "File \u001b[0;32m~/.cache/pypoetry/virtualenvs/woa-2025-intro-to-langchain-4HUP7ETl-py3.13/lib/python3.13/site-packages/requests/api.py:73\u001b[0m, in \u001b[0;36mget\u001b[0;34m(url, params, **kwargs)\u001b[0m\n\u001b[1;32m     62\u001b[0m \u001b[38;5;28;01mdef\u001b[39;00m\u001b[38;5;250m \u001b[39m\u001b[38;5;21mget\u001b[39m(url, params\u001b[38;5;241m=\u001b[39m\u001b[38;5;28;01mNone\u001b[39;00m, \u001b[38;5;241m*\u001b[39m\u001b[38;5;241m*\u001b[39mkwargs):\n\u001b[1;32m     63\u001b[0m \u001b[38;5;250m    \u001b[39m\u001b[38;5;124mr\u001b[39m\u001b[38;5;124;03m\"\"\"Sends a GET request.\u001b[39;00m\n\u001b[1;32m     64\u001b[0m \n\u001b[1;32m     65\u001b[0m \u001b[38;5;124;03m    :param url: URL for the new :class:`Request` object.\u001b[39;00m\n\u001b[0;32m   (...)\u001b[0m\n\u001b[1;32m     70\u001b[0m \u001b[38;5;124;03m    :rtype: requests.Response\u001b[39;00m\n\u001b[1;32m     71\u001b[0m \u001b[38;5;124;03m    \"\"\"\u001b[39;00m\n\u001b[0;32m---> 73\u001b[0m     \u001b[38;5;28;01mreturn\u001b[39;00m \u001b[43mrequest\u001b[49m\u001b[43m(\u001b[49m\u001b[38;5;124;43m\"\u001b[39;49m\u001b[38;5;124;43mget\u001b[39;49m\u001b[38;5;124;43m\"\u001b[39;49m\u001b[43m,\u001b[49m\u001b[43m \u001b[49m\u001b[43murl\u001b[49m\u001b[43m,\u001b[49m\u001b[43m \u001b[49m\u001b[43mparams\u001b[49m\u001b[38;5;241;43m=\u001b[39;49m\u001b[43mparams\u001b[49m\u001b[43m,\u001b[49m\u001b[43m \u001b[49m\u001b[38;5;241;43m*\u001b[39;49m\u001b[38;5;241;43m*\u001b[39;49m\u001b[43mkwargs\u001b[49m\u001b[43m)\u001b[49m\n",
      "File \u001b[0;32m~/.cache/pypoetry/virtualenvs/woa-2025-intro-to-langchain-4HUP7ETl-py3.13/lib/python3.13/site-packages/requests/api.py:59\u001b[0m, in \u001b[0;36mrequest\u001b[0;34m(method, url, **kwargs)\u001b[0m\n\u001b[1;32m     55\u001b[0m \u001b[38;5;66;03m# By using the 'with' statement we are sure the session is closed, thus we\u001b[39;00m\n\u001b[1;32m     56\u001b[0m \u001b[38;5;66;03m# avoid leaving sockets open which can trigger a ResourceWarning in some\u001b[39;00m\n\u001b[1;32m     57\u001b[0m \u001b[38;5;66;03m# cases, and look like a memory leak in others.\u001b[39;00m\n\u001b[1;32m     58\u001b[0m \u001b[38;5;28;01mwith\u001b[39;00m sessions\u001b[38;5;241m.\u001b[39mSession() \u001b[38;5;28;01mas\u001b[39;00m session:\n\u001b[0;32m---> 59\u001b[0m     \u001b[38;5;28;01mreturn\u001b[39;00m \u001b[43msession\u001b[49m\u001b[38;5;241;43m.\u001b[39;49m\u001b[43mrequest\u001b[49m\u001b[43m(\u001b[49m\u001b[43mmethod\u001b[49m\u001b[38;5;241;43m=\u001b[39;49m\u001b[43mmethod\u001b[49m\u001b[43m,\u001b[49m\u001b[43m \u001b[49m\u001b[43murl\u001b[49m\u001b[38;5;241;43m=\u001b[39;49m\u001b[43murl\u001b[49m\u001b[43m,\u001b[49m\u001b[43m \u001b[49m\u001b[38;5;241;43m*\u001b[39;49m\u001b[38;5;241;43m*\u001b[39;49m\u001b[43mkwargs\u001b[49m\u001b[43m)\u001b[49m\n",
      "File \u001b[0;32m~/.cache/pypoetry/virtualenvs/woa-2025-intro-to-langchain-4HUP7ETl-py3.13/lib/python3.13/site-packages/requests/sessions.py:589\u001b[0m, in \u001b[0;36mSession.request\u001b[0;34m(self, method, url, params, data, headers, cookies, files, auth, timeout, allow_redirects, proxies, hooks, stream, verify, cert, json)\u001b[0m\n\u001b[1;32m    584\u001b[0m send_kwargs \u001b[38;5;241m=\u001b[39m {\n\u001b[1;32m    585\u001b[0m     \u001b[38;5;124m\"\u001b[39m\u001b[38;5;124mtimeout\u001b[39m\u001b[38;5;124m\"\u001b[39m: timeout,\n\u001b[1;32m    586\u001b[0m     \u001b[38;5;124m\"\u001b[39m\u001b[38;5;124mallow_redirects\u001b[39m\u001b[38;5;124m\"\u001b[39m: allow_redirects,\n\u001b[1;32m    587\u001b[0m }\n\u001b[1;32m    588\u001b[0m send_kwargs\u001b[38;5;241m.\u001b[39mupdate(settings)\n\u001b[0;32m--> 589\u001b[0m resp \u001b[38;5;241m=\u001b[39m \u001b[38;5;28;43mself\u001b[39;49m\u001b[38;5;241;43m.\u001b[39;49m\u001b[43msend\u001b[49m\u001b[43m(\u001b[49m\u001b[43mprep\u001b[49m\u001b[43m,\u001b[49m\u001b[43m \u001b[49m\u001b[38;5;241;43m*\u001b[39;49m\u001b[38;5;241;43m*\u001b[39;49m\u001b[43msend_kwargs\u001b[49m\u001b[43m)\u001b[49m\n\u001b[1;32m    591\u001b[0m \u001b[38;5;28;01mreturn\u001b[39;00m resp\n",
      "File \u001b[0;32m~/.cache/pypoetry/virtualenvs/woa-2025-intro-to-langchain-4HUP7ETl-py3.13/lib/python3.13/site-packages/requests/sessions.py:703\u001b[0m, in \u001b[0;36mSession.send\u001b[0;34m(self, request, **kwargs)\u001b[0m\n\u001b[1;32m    700\u001b[0m start \u001b[38;5;241m=\u001b[39m preferred_clock()\n\u001b[1;32m    702\u001b[0m \u001b[38;5;66;03m# Send the request\u001b[39;00m\n\u001b[0;32m--> 703\u001b[0m r \u001b[38;5;241m=\u001b[39m \u001b[43madapter\u001b[49m\u001b[38;5;241;43m.\u001b[39;49m\u001b[43msend\u001b[49m\u001b[43m(\u001b[49m\u001b[43mrequest\u001b[49m\u001b[43m,\u001b[49m\u001b[43m \u001b[49m\u001b[38;5;241;43m*\u001b[39;49m\u001b[38;5;241;43m*\u001b[39;49m\u001b[43mkwargs\u001b[49m\u001b[43m)\u001b[49m\n\u001b[1;32m    705\u001b[0m \u001b[38;5;66;03m# Total elapsed time of the request (approximately)\u001b[39;00m\n\u001b[1;32m    706\u001b[0m elapsed \u001b[38;5;241m=\u001b[39m preferred_clock() \u001b[38;5;241m-\u001b[39m start\n",
      "File \u001b[0;32m~/.cache/pypoetry/virtualenvs/woa-2025-intro-to-langchain-4HUP7ETl-py3.13/lib/python3.13/site-packages/requests/adapters.py:667\u001b[0m, in \u001b[0;36mHTTPAdapter.send\u001b[0;34m(self, request, stream, timeout, verify, cert, proxies)\u001b[0m\n\u001b[1;32m    664\u001b[0m     timeout \u001b[38;5;241m=\u001b[39m TimeoutSauce(connect\u001b[38;5;241m=\u001b[39mtimeout, read\u001b[38;5;241m=\u001b[39mtimeout)\n\u001b[1;32m    666\u001b[0m \u001b[38;5;28;01mtry\u001b[39;00m:\n\u001b[0;32m--> 667\u001b[0m     resp \u001b[38;5;241m=\u001b[39m \u001b[43mconn\u001b[49m\u001b[38;5;241;43m.\u001b[39;49m\u001b[43murlopen\u001b[49m\u001b[43m(\u001b[49m\n\u001b[1;32m    668\u001b[0m \u001b[43m        \u001b[49m\u001b[43mmethod\u001b[49m\u001b[38;5;241;43m=\u001b[39;49m\u001b[43mrequest\u001b[49m\u001b[38;5;241;43m.\u001b[39;49m\u001b[43mmethod\u001b[49m\u001b[43m,\u001b[49m\n\u001b[1;32m    669\u001b[0m \u001b[43m        \u001b[49m\u001b[43murl\u001b[49m\u001b[38;5;241;43m=\u001b[39;49m\u001b[43murl\u001b[49m\u001b[43m,\u001b[49m\n\u001b[1;32m    670\u001b[0m \u001b[43m        \u001b[49m\u001b[43mbody\u001b[49m\u001b[38;5;241;43m=\u001b[39;49m\u001b[43mrequest\u001b[49m\u001b[38;5;241;43m.\u001b[39;49m\u001b[43mbody\u001b[49m\u001b[43m,\u001b[49m\n\u001b[1;32m    671\u001b[0m \u001b[43m        \u001b[49m\u001b[43mheaders\u001b[49m\u001b[38;5;241;43m=\u001b[39;49m\u001b[43mrequest\u001b[49m\u001b[38;5;241;43m.\u001b[39;49m\u001b[43mheaders\u001b[49m\u001b[43m,\u001b[49m\n\u001b[1;32m    672\u001b[0m \u001b[43m        \u001b[49m\u001b[43mredirect\u001b[49m\u001b[38;5;241;43m=\u001b[39;49m\u001b[38;5;28;43;01mFalse\u001b[39;49;00m\u001b[43m,\u001b[49m\n\u001b[1;32m    673\u001b[0m \u001b[43m        \u001b[49m\u001b[43massert_same_host\u001b[49m\u001b[38;5;241;43m=\u001b[39;49m\u001b[38;5;28;43;01mFalse\u001b[39;49;00m\u001b[43m,\u001b[49m\n\u001b[1;32m    674\u001b[0m \u001b[43m        \u001b[49m\u001b[43mpreload_content\u001b[49m\u001b[38;5;241;43m=\u001b[39;49m\u001b[38;5;28;43;01mFalse\u001b[39;49;00m\u001b[43m,\u001b[49m\n\u001b[1;32m    675\u001b[0m \u001b[43m        \u001b[49m\u001b[43mdecode_content\u001b[49m\u001b[38;5;241;43m=\u001b[39;49m\u001b[38;5;28;43;01mFalse\u001b[39;49;00m\u001b[43m,\u001b[49m\n\u001b[1;32m    676\u001b[0m \u001b[43m        \u001b[49m\u001b[43mretries\u001b[49m\u001b[38;5;241;43m=\u001b[39;49m\u001b[38;5;28;43mself\u001b[39;49m\u001b[38;5;241;43m.\u001b[39;49m\u001b[43mmax_retries\u001b[49m\u001b[43m,\u001b[49m\n\u001b[1;32m    677\u001b[0m \u001b[43m        \u001b[49m\u001b[43mtimeout\u001b[49m\u001b[38;5;241;43m=\u001b[39;49m\u001b[43mtimeout\u001b[49m\u001b[43m,\u001b[49m\n\u001b[1;32m    678\u001b[0m \u001b[43m        \u001b[49m\u001b[43mchunked\u001b[49m\u001b[38;5;241;43m=\u001b[39;49m\u001b[43mchunked\u001b[49m\u001b[43m,\u001b[49m\n\u001b[1;32m    679\u001b[0m \u001b[43m    \u001b[49m\u001b[43m)\u001b[49m\n\u001b[1;32m    681\u001b[0m \u001b[38;5;28;01mexcept\u001b[39;00m (ProtocolError, \u001b[38;5;167;01mOSError\u001b[39;00m) \u001b[38;5;28;01mas\u001b[39;00m err:\n\u001b[1;32m    682\u001b[0m     \u001b[38;5;28;01mraise\u001b[39;00m \u001b[38;5;167;01mConnectionError\u001b[39;00m(err, request\u001b[38;5;241m=\u001b[39mrequest)\n",
      "File \u001b[0;32m~/.cache/pypoetry/virtualenvs/woa-2025-intro-to-langchain-4HUP7ETl-py3.13/lib/python3.13/site-packages/urllib3/connectionpool.py:787\u001b[0m, in \u001b[0;36mHTTPConnectionPool.urlopen\u001b[0;34m(self, method, url, body, headers, retries, redirect, assert_same_host, timeout, pool_timeout, release_conn, chunked, body_pos, preload_content, decode_content, **response_kw)\u001b[0m\n\u001b[1;32m    784\u001b[0m response_conn \u001b[38;5;241m=\u001b[39m conn \u001b[38;5;28;01mif\u001b[39;00m \u001b[38;5;129;01mnot\u001b[39;00m release_conn \u001b[38;5;28;01melse\u001b[39;00m \u001b[38;5;28;01mNone\u001b[39;00m\n\u001b[1;32m    786\u001b[0m \u001b[38;5;66;03m# Make the request on the HTTPConnection object\u001b[39;00m\n\u001b[0;32m--> 787\u001b[0m response \u001b[38;5;241m=\u001b[39m \u001b[38;5;28;43mself\u001b[39;49m\u001b[38;5;241;43m.\u001b[39;49m\u001b[43m_make_request\u001b[49m\u001b[43m(\u001b[49m\n\u001b[1;32m    788\u001b[0m \u001b[43m    \u001b[49m\u001b[43mconn\u001b[49m\u001b[43m,\u001b[49m\n\u001b[1;32m    789\u001b[0m \u001b[43m    \u001b[49m\u001b[43mmethod\u001b[49m\u001b[43m,\u001b[49m\n\u001b[1;32m    790\u001b[0m \u001b[43m    \u001b[49m\u001b[43murl\u001b[49m\u001b[43m,\u001b[49m\n\u001b[1;32m    791\u001b[0m \u001b[43m    \u001b[49m\u001b[43mtimeout\u001b[49m\u001b[38;5;241;43m=\u001b[39;49m\u001b[43mtimeout_obj\u001b[49m\u001b[43m,\u001b[49m\n\u001b[1;32m    792\u001b[0m \u001b[43m    \u001b[49m\u001b[43mbody\u001b[49m\u001b[38;5;241;43m=\u001b[39;49m\u001b[43mbody\u001b[49m\u001b[43m,\u001b[49m\n\u001b[1;32m    793\u001b[0m \u001b[43m    \u001b[49m\u001b[43mheaders\u001b[49m\u001b[38;5;241;43m=\u001b[39;49m\u001b[43mheaders\u001b[49m\u001b[43m,\u001b[49m\n\u001b[1;32m    794\u001b[0m \u001b[43m    \u001b[49m\u001b[43mchunked\u001b[49m\u001b[38;5;241;43m=\u001b[39;49m\u001b[43mchunked\u001b[49m\u001b[43m,\u001b[49m\n\u001b[1;32m    795\u001b[0m \u001b[43m    \u001b[49m\u001b[43mretries\u001b[49m\u001b[38;5;241;43m=\u001b[39;49m\u001b[43mretries\u001b[49m\u001b[43m,\u001b[49m\n\u001b[1;32m    796\u001b[0m \u001b[43m    \u001b[49m\u001b[43mresponse_conn\u001b[49m\u001b[38;5;241;43m=\u001b[39;49m\u001b[43mresponse_conn\u001b[49m\u001b[43m,\u001b[49m\n\u001b[1;32m    797\u001b[0m \u001b[43m    \u001b[49m\u001b[43mpreload_content\u001b[49m\u001b[38;5;241;43m=\u001b[39;49m\u001b[43mpreload_content\u001b[49m\u001b[43m,\u001b[49m\n\u001b[1;32m    798\u001b[0m \u001b[43m    \u001b[49m\u001b[43mdecode_content\u001b[49m\u001b[38;5;241;43m=\u001b[39;49m\u001b[43mdecode_content\u001b[49m\u001b[43m,\u001b[49m\n\u001b[1;32m    799\u001b[0m \u001b[43m    \u001b[49m\u001b[38;5;241;43m*\u001b[39;49m\u001b[38;5;241;43m*\u001b[39;49m\u001b[43mresponse_kw\u001b[49m\u001b[43m,\u001b[49m\n\u001b[1;32m    800\u001b[0m \u001b[43m\u001b[49m\u001b[43m)\u001b[49m\n\u001b[1;32m    802\u001b[0m \u001b[38;5;66;03m# Everything went great!\u001b[39;00m\n\u001b[1;32m    803\u001b[0m clean_exit \u001b[38;5;241m=\u001b[39m \u001b[38;5;28;01mTrue\u001b[39;00m\n",
      "File \u001b[0;32m~/.cache/pypoetry/virtualenvs/woa-2025-intro-to-langchain-4HUP7ETl-py3.13/lib/python3.13/site-packages/urllib3/connectionpool.py:464\u001b[0m, in \u001b[0;36mHTTPConnectionPool._make_request\u001b[0;34m(self, conn, method, url, body, headers, retries, timeout, chunked, response_conn, preload_content, decode_content, enforce_content_length)\u001b[0m\n\u001b[1;32m    461\u001b[0m \u001b[38;5;28;01mtry\u001b[39;00m:\n\u001b[1;32m    462\u001b[0m     \u001b[38;5;66;03m# Trigger any extra validation we need to do.\u001b[39;00m\n\u001b[1;32m    463\u001b[0m     \u001b[38;5;28;01mtry\u001b[39;00m:\n\u001b[0;32m--> 464\u001b[0m         \u001b[38;5;28;43mself\u001b[39;49m\u001b[38;5;241;43m.\u001b[39;49m\u001b[43m_validate_conn\u001b[49m\u001b[43m(\u001b[49m\u001b[43mconn\u001b[49m\u001b[43m)\u001b[49m\n\u001b[1;32m    465\u001b[0m     \u001b[38;5;28;01mexcept\u001b[39;00m (SocketTimeout, BaseSSLError) \u001b[38;5;28;01mas\u001b[39;00m e:\n\u001b[1;32m    466\u001b[0m         \u001b[38;5;28mself\u001b[39m\u001b[38;5;241m.\u001b[39m_raise_timeout(err\u001b[38;5;241m=\u001b[39me, url\u001b[38;5;241m=\u001b[39murl, timeout_value\u001b[38;5;241m=\u001b[39mconn\u001b[38;5;241m.\u001b[39mtimeout)\n",
      "File \u001b[0;32m~/.cache/pypoetry/virtualenvs/woa-2025-intro-to-langchain-4HUP7ETl-py3.13/lib/python3.13/site-packages/urllib3/connectionpool.py:1093\u001b[0m, in \u001b[0;36mHTTPSConnectionPool._validate_conn\u001b[0;34m(self, conn)\u001b[0m\n\u001b[1;32m   1091\u001b[0m \u001b[38;5;66;03m# Force connect early to allow us to validate the connection.\u001b[39;00m\n\u001b[1;32m   1092\u001b[0m \u001b[38;5;28;01mif\u001b[39;00m conn\u001b[38;5;241m.\u001b[39mis_closed:\n\u001b[0;32m-> 1093\u001b[0m     \u001b[43mconn\u001b[49m\u001b[38;5;241;43m.\u001b[39;49m\u001b[43mconnect\u001b[49m\u001b[43m(\u001b[49m\u001b[43m)\u001b[49m\n\u001b[1;32m   1095\u001b[0m \u001b[38;5;66;03m# TODO revise this, see https://github.com/urllib3/urllib3/issues/2791\u001b[39;00m\n\u001b[1;32m   1096\u001b[0m \u001b[38;5;28;01mif\u001b[39;00m \u001b[38;5;129;01mnot\u001b[39;00m conn\u001b[38;5;241m.\u001b[39mis_verified \u001b[38;5;129;01mand\u001b[39;00m \u001b[38;5;129;01mnot\u001b[39;00m conn\u001b[38;5;241m.\u001b[39mproxy_is_verified:\n",
      "File \u001b[0;32m~/.cache/pypoetry/virtualenvs/woa-2025-intro-to-langchain-4HUP7ETl-py3.13/lib/python3.13/site-packages/urllib3/connection.py:753\u001b[0m, in \u001b[0;36mHTTPSConnection.connect\u001b[0;34m(self)\u001b[0m\n\u001b[1;32m    751\u001b[0m \u001b[38;5;28;01mtry\u001b[39;00m:\n\u001b[1;32m    752\u001b[0m     sock: socket\u001b[38;5;241m.\u001b[39msocket \u001b[38;5;241m|\u001b[39m ssl\u001b[38;5;241m.\u001b[39mSSLSocket\n\u001b[0;32m--> 753\u001b[0m     \u001b[38;5;28mself\u001b[39m\u001b[38;5;241m.\u001b[39msock \u001b[38;5;241m=\u001b[39m sock \u001b[38;5;241m=\u001b[39m \u001b[38;5;28;43mself\u001b[39;49m\u001b[38;5;241;43m.\u001b[39;49m\u001b[43m_new_conn\u001b[49m\u001b[43m(\u001b[49m\u001b[43m)\u001b[49m\n\u001b[1;32m    754\u001b[0m     server_hostname: \u001b[38;5;28mstr\u001b[39m \u001b[38;5;241m=\u001b[39m \u001b[38;5;28mself\u001b[39m\u001b[38;5;241m.\u001b[39mhost\n\u001b[1;32m    755\u001b[0m     tls_in_tls \u001b[38;5;241m=\u001b[39m \u001b[38;5;28;01mFalse\u001b[39;00m\n",
      "File \u001b[0;32m~/.cache/pypoetry/virtualenvs/woa-2025-intro-to-langchain-4HUP7ETl-py3.13/lib/python3.13/site-packages/urllib3/connection.py:198\u001b[0m, in \u001b[0;36mHTTPConnection._new_conn\u001b[0;34m(self)\u001b[0m\n\u001b[1;32m    193\u001b[0m \u001b[38;5;250m\u001b[39m\u001b[38;5;124;03m\"\"\"Establish a socket connection and set nodelay settings on it.\u001b[39;00m\n\u001b[1;32m    194\u001b[0m \n\u001b[1;32m    195\u001b[0m \u001b[38;5;124;03m:return: New socket connection.\u001b[39;00m\n\u001b[1;32m    196\u001b[0m \u001b[38;5;124;03m\"\"\"\u001b[39;00m\n\u001b[1;32m    197\u001b[0m \u001b[38;5;28;01mtry\u001b[39;00m:\n\u001b[0;32m--> 198\u001b[0m     sock \u001b[38;5;241m=\u001b[39m \u001b[43mconnection\u001b[49m\u001b[38;5;241;43m.\u001b[39;49m\u001b[43mcreate_connection\u001b[49m\u001b[43m(\u001b[49m\n\u001b[1;32m    199\u001b[0m \u001b[43m        \u001b[49m\u001b[43m(\u001b[49m\u001b[38;5;28;43mself\u001b[39;49m\u001b[38;5;241;43m.\u001b[39;49m\u001b[43m_dns_host\u001b[49m\u001b[43m,\u001b[49m\u001b[43m \u001b[49m\u001b[38;5;28;43mself\u001b[39;49m\u001b[38;5;241;43m.\u001b[39;49m\u001b[43mport\u001b[49m\u001b[43m)\u001b[49m\u001b[43m,\u001b[49m\n\u001b[1;32m    200\u001b[0m \u001b[43m        \u001b[49m\u001b[38;5;28;43mself\u001b[39;49m\u001b[38;5;241;43m.\u001b[39;49m\u001b[43mtimeout\u001b[49m\u001b[43m,\u001b[49m\n\u001b[1;32m    201\u001b[0m \u001b[43m        \u001b[49m\u001b[43msource_address\u001b[49m\u001b[38;5;241;43m=\u001b[39;49m\u001b[38;5;28;43mself\u001b[39;49m\u001b[38;5;241;43m.\u001b[39;49m\u001b[43msource_address\u001b[49m\u001b[43m,\u001b[49m\n\u001b[1;32m    202\u001b[0m \u001b[43m        \u001b[49m\u001b[43msocket_options\u001b[49m\u001b[38;5;241;43m=\u001b[39;49m\u001b[38;5;28;43mself\u001b[39;49m\u001b[38;5;241;43m.\u001b[39;49m\u001b[43msocket_options\u001b[49m\u001b[43m,\u001b[49m\n\u001b[1;32m    203\u001b[0m \u001b[43m    \u001b[49m\u001b[43m)\u001b[49m\n\u001b[1;32m    204\u001b[0m \u001b[38;5;28;01mexcept\u001b[39;00m socket\u001b[38;5;241m.\u001b[39mgaierror \u001b[38;5;28;01mas\u001b[39;00m e:\n\u001b[1;32m    205\u001b[0m     \u001b[38;5;28;01mraise\u001b[39;00m NameResolutionError(\u001b[38;5;28mself\u001b[39m\u001b[38;5;241m.\u001b[39mhost, \u001b[38;5;28mself\u001b[39m, e) \u001b[38;5;28;01mfrom\u001b[39;00m\u001b[38;5;250m \u001b[39m\u001b[38;5;21;01me\u001b[39;00m\n",
      "File \u001b[0;32m~/.cache/pypoetry/virtualenvs/woa-2025-intro-to-langchain-4HUP7ETl-py3.13/lib/python3.13/site-packages/urllib3/util/connection.py:73\u001b[0m, in \u001b[0;36mcreate_connection\u001b[0;34m(address, timeout, source_address, socket_options)\u001b[0m\n\u001b[1;32m     71\u001b[0m \u001b[38;5;28;01mif\u001b[39;00m source_address:\n\u001b[1;32m     72\u001b[0m     sock\u001b[38;5;241m.\u001b[39mbind(source_address)\n\u001b[0;32m---> 73\u001b[0m \u001b[43msock\u001b[49m\u001b[38;5;241;43m.\u001b[39;49m\u001b[43mconnect\u001b[49m\u001b[43m(\u001b[49m\u001b[43msa\u001b[49m\u001b[43m)\u001b[49m\n\u001b[1;32m     74\u001b[0m \u001b[38;5;66;03m# Break explicitly a reference cycle\u001b[39;00m\n\u001b[1;32m     75\u001b[0m err \u001b[38;5;241m=\u001b[39m \u001b[38;5;28;01mNone\u001b[39;00m\n",
      "\u001b[0;31mKeyboardInterrupt\u001b[0m: "
     ]
    }
   ],
   "source": []
  }
 ],
 "metadata": {
  "kernelspec": {
   "display_name": "Python 3 (ipykernel)",
   "language": "python",
   "name": "python3"
  },
  "language_info": {
   "codemirror_mode": {
    "name": "ipython",
    "version": 3
   },
   "file_extension": ".py",
   "mimetype": "text/x-python",
   "name": "python",
   "nbconvert_exporter": "python",
   "pygments_lexer": "ipython3",
   "version": "3.13.3+"
  },
  "rise": {
   "center": true,
   "theme": "white"
  }
 },
 "nbformat": 4,
 "nbformat_minor": 5
}
