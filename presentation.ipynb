{
 "cells": [
  {
   "cell_type": "markdown",
   "id": "cd38e076ba1efc24",
   "metadata": {
    "editable": true,
    "slideshow": {
     "slide_type": "slide"
    },
    "tags": []
   },
   "source": [
    "# Developing Autonomous Agents in Practice with LangChain\n",
    "\n",
    "---\n",
    "\n",
    "**Speaker:** Gianluca Aguzzi  \n",
    "**Email:** gianluca.aguzzi@unibo.it  \n",
    "**GitHub:** [cric96](https://github.com/cric96)\n",
    "\n"
   ]
  },
  {
   "cell_type": "markdown",
   "id": "ee90dd408fcb97d3",
   "metadata": {
    "editable": true,
    "slideshow": {
     "slide_type": "slide"
    },
    "tags": []
   },
   "source": [
    "## About Me\n",
    "<div style=\"display: flex; align-items: center; gap: 30px;\">\n",
    "\n",
    "<div style=\"flex-shrink: 0;\">\n",
    "    <img src=\"data/myself.jpeg\" alt=\"Gianluca Aguzzi\" style=\"border-radius: 50%; height: 150px; object-fit: cover;\">\n",
    "</div>\n",
    "<div style=\"flex: 1;\">\n",
    "\n",
    "### Gianluca Aguzzi\n",
    "\n",
    "- 🎓 _Postdoctoral Researcher_ at the University of Bologna\n",
    "- 🔬 Research Interests:\n",
    "    - Engineering *Large Scale* Distributed Systems\n",
    "    - Software Engineering 3.0 (*LLMs*, AI-assisted development)\n",
    "    - Application of AI in software engineering practices\n",
    "\n",
    "</div>\n",
    "</div>"
   ]
  },
  {
   "cell_type": "markdown",
   "id": "2e13bcdc",
   "metadata": {
    "editable": true,
    "slideshow": {
     "slide_type": "fragment"
    },
    "tags": []
   },
   "source": [
    "Ok, let's dive into LangChain and discover how to build applications with LLMs! 😊"
   ]
  },
  {
   "cell_type": "markdown",
   "id": "d272ff1a",
   "metadata": {
    "editable": true,
    "slideshow": {
     "slide_type": "slide"
    },
    "tags": []
   },
   "source": [
    "## Autonomous Agents\n",
    "> **Autonomous agents** are <u>software entities</u> that can perform *tasks* or make decisions **without human intervention**.\n",
    "\n",
    "\n",
    "- **Autonomous?**\n",
    "    - Operate *independently*, making decisions based on their *programming* and *learned* experiences (via environment interactions).\n",
    "- This is a **long-standing research topic in AI**\n",
    "- Recently, **LLMs** have been used to create agents (perhaps not completely autonomous)\n",
    "- **How can LLMs be conceived as _agents_?**"
   ]
  },
  {
   "cell_type": "markdown",
   "id": "041b801e-d731-4dec-b53f-01804a24bc0a",
   "metadata": {
    "editable": true,
    "slideshow": {
     "slide_type": "subslide"
    },
    "tags": []
   },
   "source": [
    "## LLM - In a Nutshell\n",
    "> A **Language Model** is a Machine Learning model which is able to **understand and generate human language**\n",
    "\n",
    "- **How does it work internally?**\n",
    "    - Long story, please look at:\n",
    "    - ... But in a nutshell, it takes a sentence and tries to **predict the next token**\n",
    "- **Only that?**\n",
    "    - Yes (more or less), an LM has **no _memory_**, **no _environment interaction_**, or anything else\n",
    "- ... But we can **instrument these models to use external tools** (or to be **chained** with each other) to make them **powerful agents**! 😊\n"
   ]
  },
  {
   "cell_type": "markdown",
   "id": "ebcedd50",
   "metadata": {
    "editable": true,
    "slideshow": {
     "slide_type": "subslide"
    },
    "tags": []
   },
   "source": [
    "## LLMs Panorama: How to Use Them? 🌐🤖\n",
    "\n",
    "Access LLMs through various providers and models:\n",
    "- **API Providers**: \n",
    "    - OpenAI, Anthropic, Google, etc.\n",
    "- **Open Source Models** (HuggingFace): \n",
    "    - Llama 2, Falcon, Mistral, etc.\n",
    "\n",
    "- **Goals**:\n",
    "    - Seamlessly switch between providers. 🔄\n",
    "    - Flexibly use different models. 🛠️\n",
    "    - Integrate multiple providers for diverse use cases. 🌈\n"
   ]
  },
  {
   "cell_type": "markdown",
   "id": "5fc71742",
   "metadata": {
    "editable": true,
    "slideshow": {
     "slide_type": "subslide"
    },
    "tags": []
   },
   "source": [
    "## LLM Applications: How to Build Them? \n",
    "- Challenges in Building Applications with LLMs:\n",
    "    - **Input Parsing**: How to effectively process user inputs? \n",
    "    - **Output Formatting**: How to structure responses for clarity and usability? \n",
    "    - **Error Handling**: How to manage unexpected behaviors or failures? \n",
    "    - **Conversation Management**: How to maintain context in multi-turn interactions? \n",
    "    - **External Data Integration**: How to connect with databases, APIs, or other data sources? \n",
    "    - **Workflow Orchestration**: How to seamlessly integrate multiple steps or components? \n"
   ]
  },
  {
   "cell_type": "markdown",
   "id": "f1c59b24",
   "metadata": {
    "editable": true,
    "slideshow": {
     "slide_type": "fragment"
    },
    "tags": []
   },
   "source": [
    "**Solution**: This is where **LangChain** excels! "
   ]
  },
  {
   "cell_type": "markdown",
   "id": "cb9417c7",
   "metadata": {
    "editable": true,
    "slideshow": {
     "slide_type": "slide"
    },
    "tags": []
   },
   "source": [
    "## LangChain - Overview \n",
    "> **The** platform for reliable agents\n",
    "\n",
    "<p align=\"center\">\n",
    "    <img src=\"data/base.png\" alt=\"LangChain Overview\" style=\"display: block; margin: 0 auto; width: 50%;\">\n",
    "</p>\n",
    "\n",
    "<p align=\"center\">\n",
    "    <a href=\"https://www.langchain.com/\" target=\"_blank\" style=\"font-size:1.3em; font-weight:bold; text-decoration:none;\">\n",
    "        🌐 Visit the LangChain Website &rarr; langchain.com\n",
    "    </a>\n",
    "</p>\n"
   ]
  },
  {
   "cell_type": "markdown",
   "id": "37d99162",
   "metadata": {
    "editable": true,
    "slideshow": {
     "slide_type": "slide"
    },
    "tags": []
   },
   "source": [
    "## LangChain - Models\n",
    "\n",
    "**LangChain provides a _unified interface_ for interacting with a wide range of Large Language Models (LLMs):**\n",
    "\n",
    "- **Supports major providers** such as **OpenAI**, **Anthropic**, **Google**, and a variety of open-source models from **HuggingFace**.\n",
    "- **Enables seamless integration** of different LLMs within a single application.\n",
    "- **Includes support for embeddings**, which are essential for tasks like semantic search, text similarity, and information retrieval.\n",
    "\n",
    "<p align=\"center\">\n",
    "    <img src=\"data/models.png\" alt=\"LangChain Overview\" style=\"display: block; margin: 0 auto; width: 50%;\">\n",
    "</p>"
   ]
  },
  {
   "cell_type": "markdown",
   "id": "c8d465ca",
   "metadata": {
    "editable": true,
    "slideshow": {
     "slide_type": "subslide"
    },
    "tags": []
   },
   "source": [
    "### LLMs providers\n",
    "- An LLM is essentially a **function** that takes a string as input and returns a string as output.\n",
    "- The main method to interact with an LLM is the `invoke` method:\n",
    "- This provides a **uniform interface** to interact with LLMs, regardless of the provider or model used.\n",
    "\n",
    "<p align=\"center\">\n",
    "    <img src=\"data/invoke.png\" alt=\"Base Api\" style=\"display: block; margin: 0 auto; width: 50%;\">\n",
    "</p>\n"
   ]
  },
  {
   "cell_type": "markdown",
   "id": "1d669ee3",
   "metadata": {
    "editable": true,
    "slideshow": {
     "slide_type": "subslide"
    },
    "tags": []
   },
   "source": [
    "### Ollama\n",
    "Is a local LLM provider that allows you to run models on your own machine.\n",
    "See [Ollama](https://ollama.com/) for more details.\n"
   ]
  },
  {
   "cell_type": "code",
   "execution_count": 132,
   "id": "fe682816",
   "metadata": {
    "ExecuteTime": {
     "end_time": "2025-06-26T16:27:07.847272Z",
     "start_time": "2025-06-26T16:27:07.539408Z"
    },
    "editable": true,
    "slideshow": {
     "slide_type": ""
    },
    "tags": []
   },
   "outputs": [
    {
     "data": {
      "text/plain": [
       "'Machine learning is like giving a computer the ability to learn from data without being explicitly programmed. It involves algorithms that can automatically recognize patterns and improve their accuracy based on experience.'"
      ]
     },
     "execution_count": 132,
     "metadata": {},
     "output_type": "execute_result"
    }
   ],
   "source": [
    "# import langchain gemini and ollama\n",
    "from langchain_ollama.llms import OllamaLLM\n",
    "qwen = OllamaLLM(model=\"qwen2.5:1.5b\")\n",
    "# Example query\n",
    "qwen.invoke(\"Explain machine learning in simple terms (max 50 words)\")  \n"
   ]
  },
  {
   "cell_type": "markdown",
   "id": "daefb0de",
   "metadata": {
    "editable": true,
    "slideshow": {
     "slide_type": "subslide"
    },
    "tags": []
   },
   "source": [
    "### Gemini\n",
    "- **Gemini** is a chat-oriented language model developed by Google.\n",
    "- Designed for multi-turn conversations and advanced dialogue management.\n",
    "- Suitable for tasks requiring context retention and conversational flow.\n",
    "- For usage details, refer to [Google AI Studio](https://aistudio.google.com/prompts/new_chat)."
   ]
  },
  {
   "cell_type": "code",
   "execution_count": 133,
   "id": "9656ee85b1327641",
   "metadata": {
    "ExecuteTime": {
     "end_time": "2025-06-26T16:27:10.537385Z",
     "start_time": "2025-06-26T16:27:09.705128Z"
    },
    "editable": true,
    "slideshow": {
     "slide_type": ""
    },
    "tags": []
   },
   "outputs": [
    {
     "data": {
      "text/plain": [
       "'Machine learning teaches computers to learn from data without explicit programming. It identifies patterns and makes predictions or decisions based on that learning, improving its accuracy over time with more data.'"
      ]
     },
     "execution_count": 133,
     "metadata": {},
     "output_type": "execute_result"
    }
   ],
   "source": [
    "# Same for gemini\n",
    "from dotenv import load_dotenv # used to load environment variables\n",
    "load_dotenv()  # Load environment variables from .env file\n",
    "from langchain_google_genai import GoogleGenerativeAI\n",
    "gemini = GoogleGenerativeAI(model=\"gemini-2.0-flash\", temperature=0.0)\n",
    "gemini.invoke(\"Explain machine learning in simple terms (max 50 words)\")  # Example query"
   ]
  },
  {
   "cell_type": "markdown",
   "id": "5864066a-eee5-4343-887e-a1b5dd675fc4",
   "metadata": {
    "editable": true,
    "jp-MarkdownHeadingCollapsed": true,
    "slideshow": {
     "slide_type": "subslide"
    },
    "tags": []
   },
   "source": [
    "### Base Language Model\n",
    "<p align=\"center\">\n",
    "        <img src=\"data/base-structure.png\" alt=\"Structure\" style=\"display: block; margin: 0 auto; width: 30%;\">\n",
    "</p>\n"
   ]
  },
  {
   "cell_type": "code",
   "execution_count": 134,
   "id": "5f452d638eea2977",
   "metadata": {
    "ExecuteTime": {
     "end_time": "2025-06-26T16:27:12.189893Z",
     "start_time": "2025-06-26T16:27:12.183649Z"
    },
    "editable": true,
    "slideshow": {
     "slide_type": "fragment"
    },
    "tags": []
   },
   "outputs": [],
   "source": [
    "from langchain_core.language_models.base import BaseLanguageModel\n",
    "\n",
    "def explain_topic(llm: BaseLanguageModel, topic: str) -> str:\n",
    "    \"\"\" A general explain topic functionality base on an LLM\"\"\"\n",
    "    query = f\"Explain {topic} in simple terms? (max 50 words)\"\n",
    "    response = llm.invoke(query)\n",
    "    return response"
   ]
  },
  {
   "cell_type": "code",
   "execution_count": 135,
   "id": "4f6604071eb2996f",
   "metadata": {
    "ExecuteTime": {
     "end_time": "2025-06-26T16:27:15.433576Z",
     "start_time": "2025-06-26T16:27:13.721173Z"
    }
   },
   "outputs": [
    {
     "data": {
      "text/plain": [
       "(\"London is the capital of England and the United Kingdom. It's a huge, diverse city with a rich history, famous landmarks like Big Ben and Buckingham Palace, and a vibrant cultural scene. It's a global hub for finance, fashion, and the arts.\",\n",
       " \"London is the capital city of England and one of the world's largest cities with over eight million residents. It sits on the River Thames, surrounded by green parks like Hyde Park. Famous landmarks include Buckingham Palace, Big Ben, Tower Bridge, and many museums. The city offers a mix of historical sites, shopping districts, restaurants, and modern attractions.\")"
      ]
     },
     "execution_count": 135,
     "metadata": {},
     "output_type": "execute_result"
    }
   ],
   "source": [
    "explain_topic(gemini, \"London\"), explain_topic(qwen, \"London\")"
   ]
  },
  {
   "cell_type": "markdown",
   "id": "51ab3f7a",
   "metadata": {
    "editable": true,
    "slideshow": {
     "slide_type": "subslide"
    },
    "tags": []
   },
   "source": [
    "### Chat Models\n",
    "- **Normal LLMs** are seen as simple __stateless__ functions.\n",
    "- **Chat models** are more advanced: they can handle **conversations** with multiple turns.\n",
    "- **How?**\n",
    "    - They use a **list of messages** as input, where each message has a role (**user**, **assistant**, **system**, etc.).\n",
    "- The `invoke` method is used to send a list of messages to the model and get a response.\n",
    "- **Note:**  \n",
    "    - Even for chat models, the model itself is **stateless**: the conversation history is **not stored by the model**—it's up to the user (or application) to manage and provide the history.\n",
    "\n",
    "<p align=\"center\">\n",
    "    <img src=\"data/overview-chat-models.png\" alt=\"Structure\" style=\"display: block; margin: 0 auto; width: 50%;\">\n",
    "</p>\n",
    "\n"
   ]
  },
  {
   "cell_type": "markdown",
   "id": "3a1b5dbf",
   "metadata": {
    "editable": true,
    "slideshow": {
     "slide_type": "subslide"
    },
    "tags": []
   },
   "source": [
    "### Chat Models vs BaseModel\n",
    "| Aspect                   | Base Model           | Chat Model                  |\n",
    "| ------------------------ | -------------------- | --------------------------- |\n",
    "| **Input**                | Plain text prompt    | List of structured messages |\n",
    "| **Designed for**         | One-shot completions | Multi-turn conversations    |\n",
    "| **Output**               | Text completion      | Message object              |\n",
    "| **Classes in LangChain** | `BaseLanguageModel`                | `BaseChatModel`                 |\n"
   ]
  },
  {
   "cell_type": "code",
   "execution_count": 212,
   "id": "daf19ec2",
   "metadata": {
    "editable": true,
    "slideshow": {
     "slide_type": ""
    },
    "tags": []
   },
   "outputs": [
    {
     "data": {
      "text/plain": [
       "'Imagine you\\'re teaching a dog a new trick, like \"fetch.\" You don\\'t tell the dog exactly how to run, '"
      ]
     },
     "execution_count": 212,
     "metadata": {},
     "output_type": "execute_result"
    }
   ],
   "source": [
    "# Chat models\n",
    "from langchain_google_genai import ChatGoogleGenerativeAI\n",
    "chat_gemini = ChatGoogleGenerativeAI(model=\"gemini-2.0-flash\", temperature=0.0)\n",
    "chat_gemini.invoke(\"Explain machine learning in simple terms\").content[:100]  # Example query"
   ]
  },
  {
   "cell_type": "markdown",
   "id": "a23f0e27",
   "metadata": {
    "editable": true,
    "slideshow": {
     "slide_type": "subslide"
    },
    "tags": []
   },
   "source": [
    "### Embeddings\n",
    "\n",
    "- **Embeddings** are numerical representations of text that capture semantic meaning.\n",
    "- They are specialized language models designed to represent text as vectors, rather than generate text.\n",
    "- Embeddings are used for various purposes, such as **augmenting LLM context**, **semantic search**, **clustering**, and similarity analysis.\n",
    "\n",
    "<p align=\"center\">\n",
    "    <img src=\"data/embeddings.png\" alt=\"Structure\" style=\"display: block; margin: 0 auto; width: 50%;\">\n",
    "</p>"
   ]
  },
  {
   "cell_type": "markdown",
   "id": "05d23ca6",
   "metadata": {
    "editable": true,
    "slideshow": {
     "slide_type": "subslide"
    },
    "tags": []
   },
   "source": [
    "### Embeddings - Semantics\n",
    "- **What does it mean to _capture semantics_?**\n",
    "- In the context of **embeddings**, *semantics* refers to the **meaning** and **relationships** between words or phrases.\n",
    "- As illustrated in the image below, **words with similar meanings are positioned close to each other** in the vector space.\n",
    "- By applying **distance** or **similarity measures**, we can identify words or texts that are *semantically related*.\n",
    "\n",
    "<p align=\"center\">\n",
    "    <img src=\"data/embeddings-semantics.png\" alt=\"Structure\"  style=\"display: block; margin: 0 auto; width: 50%;\">\n",
    "</p>"
   ]
  },
  {
   "cell_type": "code",
   "execution_count": 137,
   "id": "337dca05b8d0fdc7",
   "metadata": {
    "editable": true,
    "slideshow": {
     "slide_type": "fragment"
    },
    "tags": []
   },
   "outputs": [
    {
     "data": {
      "text/plain": [
       "[-0.024339474737644196,\n",
       " 0.019421163946390152,\n",
       " -0.005040269810706377,\n",
       " -0.021117379888892174,\n",
       " -0.030608780682086945]"
      ]
     },
     "execution_count": 137,
     "metadata": {},
     "output_type": "execute_result"
    }
   ],
   "source": [
    "# Embedings\n",
    "from langchain_google_genai.embeddings import GoogleGenerativeAIEmbeddings\n",
    "\n",
    "google_embeddings = GoogleGenerativeAIEmbeddings(model=\"models/text-embedding-004\")\n",
    "google_embeddings.embed_query(\"What is the weather like in London?\")[:5]"
   ]
  },
  {
   "cell_type": "markdown",
   "id": "3450ea86",
   "metadata": {
    "editable": true,
    "slideshow": {
     "slide_type": "subslide"
    },
    "tags": []
   },
   "source": [
    "### Embeddings - Visual Example of Semantic Similarity\n",
    "\n",
    "- The dataset contains a list of questions and answers on **three distinct topics**.\n",
    "- For each question and answer, we compute the corresponding **embeddings**.\n",
    "- We then use **PCA** to project the embeddings into two dimensions and **visualize** whether clusters emerge.\n"
   ]
  },
  {
   "cell_type": "code",
   "execution_count": 138,
   "id": "71cbb3c7",
   "metadata": {
    "editable": true,
    "slideshow": {
     "slide_type": "fragment"
    },
    "tags": []
   },
   "outputs": [
    {
     "data": {
      "text/html": [
       "<div>\n",
       "<style scoped>\n",
       "    .dataframe tbody tr th:only-of-type {\n",
       "        vertical-align: middle;\n",
       "    }\n",
       "\n",
       "    .dataframe tbody tr th {\n",
       "        vertical-align: top;\n",
       "    }\n",
       "\n",
       "    .dataframe thead th {\n",
       "        text-align: right;\n",
       "    }\n",
       "</style>\n",
       "<table border=\"1\" class=\"dataframe\">\n",
       "  <thead>\n",
       "    <tr style=\"text-align: right;\">\n",
       "      <th></th>\n",
       "      <th>Topic</th>\n",
       "      <th>Question</th>\n",
       "      <th>Answer</th>\n",
       "    </tr>\n",
       "  </thead>\n",
       "  <tbody>\n",
       "    <tr>\n",
       "      <th>0</th>\n",
       "      <td>Naruto</td>\n",
       "      <td>Who is the main protagonist of the series?</td>\n",
       "      <td>Naruto Uzumaki</td>\n",
       "    </tr>\n",
       "    <tr>\n",
       "      <th>1</th>\n",
       "      <td>Naruto</td>\n",
       "      <td>What is the name of Naruto's signature ninja t...</td>\n",
       "      <td>Rasengan</td>\n",
       "    </tr>\n",
       "    <tr>\n",
       "      <th>2</th>\n",
       "      <td>Naruto</td>\n",
       "      <td>Which village does Naruto belong to?</td>\n",
       "      <td>Konohagakure (The Village Hidden in the Leaves)</td>\n",
       "    </tr>\n",
       "    <tr>\n",
       "      <th>3</th>\n",
       "      <td>Naruto</td>\n",
       "      <td>Who are the other two members of Naruto's orig...</td>\n",
       "      <td>Sasuke Uchiha and Sakura Haruno</td>\n",
       "    </tr>\n",
       "    <tr>\n",
       "      <th>4</th>\n",
       "      <td>Naruto</td>\n",
       "      <td>Who is the sensei (teacher) of Team 7?</td>\n",
       "      <td>Kakashi Hatake</td>\n",
       "    </tr>\n",
       "  </tbody>\n",
       "</table>\n",
       "</div>"
      ],
      "text/plain": [
       "    Topic                                           Question  \\\n",
       "0  Naruto         Who is the main protagonist of the series?   \n",
       "1  Naruto  What is the name of Naruto's signature ninja t...   \n",
       "2  Naruto               Which village does Naruto belong to?   \n",
       "3  Naruto  Who are the other two members of Naruto's orig...   \n",
       "4  Naruto             Who is the sensei (teacher) of Team 7?   \n",
       "\n",
       "                                            Answer  \n",
       "0                                   Naruto Uzumaki  \n",
       "1                                         Rasengan  \n",
       "2  Konohagakure (The Village Hidden in the Leaves)  \n",
       "3                  Sasuke Uchiha and Sakura Haruno  \n",
       "4                                   Kakashi Hatake  "
      ]
     },
     "execution_count": 138,
     "metadata": {},
     "output_type": "execute_result"
    }
   ],
   "source": [
    "import pandas as pd\n",
    "df = pd.read_csv(\"data/dataset.csv\", delimiter=\";\")  # Example of reading a CSV file with pandas\n",
    "df.head()"
   ]
  },
  {
   "cell_type": "code",
   "execution_count": 139,
   "id": "2fc96154",
   "metadata": {
    "editable": true,
    "slideshow": {
     "slide_type": "subslide"
    },
    "tags": []
   },
   "outputs": [
    {
     "data": {
      "text/html": [
       "<div>\n",
       "<style scoped>\n",
       "    .dataframe tbody tr th:only-of-type {\n",
       "        vertical-align: middle;\n",
       "    }\n",
       "\n",
       "    .dataframe tbody tr th {\n",
       "        vertical-align: top;\n",
       "    }\n",
       "\n",
       "    .dataframe thead th {\n",
       "        text-align: right;\n",
       "    }\n",
       "</style>\n",
       "<table border=\"1\" class=\"dataframe\">\n",
       "  <thead>\n",
       "    <tr style=\"text-align: right;\">\n",
       "      <th></th>\n",
       "      <th>Topic</th>\n",
       "      <th>Question</th>\n",
       "      <th>Answer</th>\n",
       "      <th>embeddings</th>\n",
       "    </tr>\n",
       "  </thead>\n",
       "  <tbody>\n",
       "    <tr>\n",
       "      <th>0</th>\n",
       "      <td>Naruto</td>\n",
       "      <td>Who is the main protagonist of the series?</td>\n",
       "      <td>Naruto Uzumaki</td>\n",
       "      <td>[-0.06318295747041702, -0.025433462113142014, ...</td>\n",
       "    </tr>\n",
       "    <tr>\n",
       "      <th>1</th>\n",
       "      <td>Naruto</td>\n",
       "      <td>What is the name of Naruto's signature ninja t...</td>\n",
       "      <td>Rasengan</td>\n",
       "      <td>[-0.016836581751704216, -0.02863299660384655, ...</td>\n",
       "    </tr>\n",
       "    <tr>\n",
       "      <th>2</th>\n",
       "      <td>Naruto</td>\n",
       "      <td>Which village does Naruto belong to?</td>\n",
       "      <td>Konohagakure (The Village Hidden in the Leaves)</td>\n",
       "      <td>[-0.05141858384013176, 0.014148241840302944, 0...</td>\n",
       "    </tr>\n",
       "    <tr>\n",
       "      <th>3</th>\n",
       "      <td>Naruto</td>\n",
       "      <td>Who are the other two members of Naruto's orig...</td>\n",
       "      <td>Sasuke Uchiha and Sakura Haruno</td>\n",
       "      <td>[-0.0174933560192585, -0.008309093303978443, 0...</td>\n",
       "    </tr>\n",
       "    <tr>\n",
       "      <th>4</th>\n",
       "      <td>Naruto</td>\n",
       "      <td>Who is the sensei (teacher) of Team 7?</td>\n",
       "      <td>Kakashi Hatake</td>\n",
       "      <td>[-0.0031194821931421757, -0.05045430734753609,...</td>\n",
       "    </tr>\n",
       "  </tbody>\n",
       "</table>\n",
       "</div>"
      ],
      "text/plain": [
       "    Topic                                           Question  \\\n",
       "0  Naruto         Who is the main protagonist of the series?   \n",
       "1  Naruto  What is the name of Naruto's signature ninja t...   \n",
       "2  Naruto               Which village does Naruto belong to?   \n",
       "3  Naruto  Who are the other two members of Naruto's orig...   \n",
       "4  Naruto             Who is the sensei (teacher) of Team 7?   \n",
       "\n",
       "                                            Answer  \\\n",
       "0                                   Naruto Uzumaki   \n",
       "1                                         Rasengan   \n",
       "2  Konohagakure (The Village Hidden in the Leaves)   \n",
       "3                  Sasuke Uchiha and Sakura Haruno   \n",
       "4                                   Kakashi Hatake   \n",
       "\n",
       "                                          embeddings  \n",
       "0  [-0.06318295747041702, -0.025433462113142014, ...  \n",
       "1  [-0.016836581751704216, -0.02863299660384655, ...  \n",
       "2  [-0.05141858384013176, 0.014148241840302944, 0...  \n",
       "3  [-0.0174933560192585, -0.008309093303978443, 0...  \n",
       "4  [-0.0031194821931421757, -0.05045430734753609,...  "
      ]
     },
     "execution_count": 139,
     "metadata": {},
     "output_type": "execute_result"
    }
   ],
   "source": [
    "# We add embedding to the pandas dataframe\n",
    "from langchain_core.embeddings import Embeddings\n",
    "def embed_row(row: pd.Series, embeddings: Embeddings) -> list:\n",
    "    adapt  = row[\"Question\"] + \" \" + row[\"Answer\"]\n",
    "    return embeddings.embed_query(adapt)\n",
    "\n",
    "df[\"embeddings\"] = df.apply(lambda row: embed_row(row, google_embeddings), axis=1)\n",
    "df.head()  # Display the first few rows of the DataFrame with embeddings"
   ]
  },
  {
   "cell_type": "code",
   "execution_count": 140,
   "id": "f1a6b654",
   "metadata": {
    "editable": true,
    "slideshow": {
     "slide_type": "subslide"
    },
    "tags": []
   },
   "outputs": [
    {
     "data": {
      "image/png": "[encoded data removed]",
      "text/plain": [
       "<Figure size 640x480 with 1 Axes>"
      ]
     },
     "metadata": {},
     "output_type": "display_data"
    }
   ],
   "source": [
    "# PCA + rendering \n",
    "from sklearn.decomposition import PCA\n",
    "import matplotlib.pyplot as plt\n",
    "\n",
    "pca = PCA(n_components=2)\n",
    "pca_result = pca.fit_transform(list(df[\"embeddings\"]))\n",
    "\n",
    "plt.scatter(pca_result[:, 0], pca_result[:, 1], alpha=0.5)\n",
    "plt.show()"
   ]
  },
  {
   "cell_type": "markdown",
   "id": "ccd072b5",
   "metadata": {
    "editable": true,
    "slideshow": {
     "slide_type": "slide"
    },
    "tags": []
   },
   "source": [
    "## Prompts\n",
    "- **Definition:** A **prompt** is a structured input that **guides** the LLM to generate the desired output.\n",
    "- **Prompts are essential** for controlling the behavior of the LLM and ensuring it produces **relevant** and **accurate** responses.\n",
    "- **LangChain** provides a **flexible** way to define prompts, allowing you to create **templates** that can be filled with dynamic data.\n",
    "\n",
    "<p align=\"center\">\n",
    "    <img src=\"data/prompts.png\" alt=\"Prompt Engineering in LangChain\"  style=\"display: block; margin: 0 auto; width: 50%;\">\n",
    "</p>"
   ]
  },
  {
   "cell_type": "markdown",
   "id": "8bca2b32",
   "metadata": {
    "editable": true,
    "slideshow": {
     "slide_type": "subslide"
    },
    "tags": []
   },
   "source": [
    "### Prompts - Pratical Example\n",
    "A prompt is a text with some `holes` (template) that can be filled with dynamic data."
   ]
  },
  {
   "cell_type": "code",
   "execution_count": 141,
   "id": "5dc4c415",
   "metadata": {
    "editable": true,
    "slideshow": {
     "slide_type": "fragment"
    },
    "tags": []
   },
   "outputs": [
    {
     "data": {
      "text/plain": [
       "'\\nTranslate the following text into {target_language} while maintaining the style of {style}. Reply just with the translation:\\n\\n{text}\\n'"
      ]
     },
     "execution_count": 141,
     "metadata": {},
     "output_type": "execute_result"
    }
   ],
   "source": [
    "# Prompts\n",
    "template = \"\"\"\n",
    "Translate the following text into {target_language} while maintaining the style of {style}. Reply just with the translation:\n",
    "\n",
    "{text}\n",
    "\"\"\"\n",
    "template"
   ]
  },
  {
   "cell_type": "markdown",
   "id": "79c10780",
   "metadata": {
    "editable": true,
    "slideshow": {
     "slide_type": "subslide"
    },
    "tags": []
   },
   "source": [
    "#### Prompt Template\n",
    "\n",
    "> **In LangChain, prompt templates are the *foundation* for dynamic, reusable, and powerful LLM interactions!**\n",
    "\n",
    "A `PromptTemplate` lets you define a prompt with *placeholders* that can be filled at runtime, enabling you to:\n",
    "\n",
    "- **Dynamically generate prompts** for different tasks and inputs.\n",
    "- **Reuse prompt logic** across multiple workflows.\n",
    "- **Control the structure and clarity** of your LLM requests."
   ]
  },
  {
   "cell_type": "markdown",
   "id": "2b609948",
   "metadata": {
    "editable": true,
    "slideshow": {
     "slide_type": "subslide"
    },
    "tags": []
   },
   "source": [
    "**Key Components:**\n",
    "- **`template`**: The text with `{placeholders}` for dynamic values.\n",
    "- **`input_variables`**: The list of variable names to fill in the template.\n",
    "- **`output_parser`**: (Optional) Defines how to interpret and structure the model's output.\n",
    "\n",
    "> This approach is *essential* for building robust, maintainable, and adaptable LLM applications.\n",
    "\n",
    "<p align=\"center\">\n",
    "    <img src=\"data/structure_of_prompts.png\" alt=\"PromptTemplate Structure\"  style=\"display: block; margin: 0 auto; width: 50%;\">\n",
    "</p>"
   ]
  },
  {
   "cell_type": "code",
   "execution_count": 142,
   "id": "f1b80dcb",
   "metadata": {
    "editable": true,
    "slideshow": {
     "slide_type": "subslide"
    },
    "tags": []
   },
   "outputs": [
    {
     "data": {
      "text/plain": [
       "(['style', 'target_language', 'text'],\n",
       " PromptTemplate(input_variables=['style', 'target_language', 'text'], input_types={}, partial_variables={}, template='\\nTranslate the following text into {target_language} while maintaining the style of {style}. Reply just with the translation:\\n\\n{text}\\n'))"
      ]
     },
     "execution_count": 142,
     "metadata": {},
     "output_type": "execute_result"
    }
   ],
   "source": [
    "from langchain.prompts import ChatPromptTemplate\n",
    "prompt_template = ChatPromptTemplate.from_template(template)\n",
    "prompt_template.input_variables, prompt_template.messages[0].prompt"
   ]
  },
  {
   "cell_type": "markdown",
   "id": "6a5f042f",
   "metadata": {
    "editable": true,
    "slideshow": {
     "slide_type": "subslide"
    },
    "tags": []
   },
   "source": [
    "### Example: Prompt for Translation in a Certain Style/Language"
   ]
  },
  {
   "cell_type": "code",
   "execution_count": 143,
   "id": "3f61124b",
   "metadata": {
    "editable": true,
    "slideshow": {
     "slide_type": "fragment"
    },
    "tags": []
   },
   "outputs": [
    {
     "data": {
      "text/plain": [
       "[HumanMessage(content='\\nTranslate the following text into French while maintaining the style of Shakespearean. Reply just with the translation:\\n\\nHello, how are you?\\n', additional_kwargs={}, response_metadata={})]"
      ]
     },
     "execution_count": 143,
     "metadata": {},
     "output_type": "execute_result"
    }
   ],
   "source": [
    "prompt_template.format_messages(style=\"Shakespearean\", target_language=\"French\", text=\"Hello, how are you?\")"
   ]
  },
  {
   "cell_type": "code",
   "execution_count": 144,
   "id": "91b84a39",
   "metadata": {
    "editable": true,
    "slideshow": {
     "slide_type": "fragment"
    },
    "tags": []
   },
   "outputs": [
    {
     "name": "stdout",
     "output_type": "stream",
     "text": [
      "Salut, comment ça va ?\n",
      "Salute, come state?\n"
     ]
    }
   ],
   "source": [
    "def translate_text(llm: BaseLanguageModel, text: str, style: str, target_language: str) -> str:\n",
    "    prompt = prompt_template.format_messages(\n",
    "        style=style,\n",
    "        target_language=target_language,\n",
    "        text=text\n",
    "    )\n",
    "    response = llm.invoke(prompt)\n",
    "    return response\n",
    "\n",
    "print(translate_text(gemini, \"Hello, how are you?\", \"a normal conversation\", \"French\")) \n",
    "print(translate_text(gemini, \"Hello, how are you?\", \"elegant and noble\", \"Italian\"))"
   ]
  },
  {
   "cell_type": "markdown",
   "id": "155babb1",
   "metadata": {
    "editable": true,
    "slideshow": {
     "slide_type": "slide"
    },
    "tags": []
   },
   "source": [
    "## Structured Output\n",
    "- **Definition:** Structured output refers to a specific, predefined format that the LLM is expected to generate in response to a prompt.\n",
    "\n",
    "<p align=\"center\">\n",
    "    <img src=\"data/structured.png\" alt=\"Structured Output Example\" style=\"display: block; margin: 0 auto; width: 50%;\">\n",
    "</p>"
   ]
  },
  {
   "cell_type": "markdown",
   "id": "b6da4bfd",
   "metadata": {
    "editable": true,
    "slideshow": {
     "slide_type": "subslide"
    },
    "tags": []
   },
   "source": [
    "### Output: Why Structured?\n",
    "- **Structured output is essential for reliably parsing and integrating LLM results into other applications or workflows.**\n",
    "- It enables seamless use of LLM output across different systems and environments.\n",
    "\n",
    "---\n",
    "\n",
    "### 🚩 Task: Extracting Cognitive Load from Text\n",
    "\n",
    "- **Goal:** Extract the cognitive load from a given text.\n",
    "- **Expected Output:** A JSON object containing the cognitive load value and its unit.\n",
    "\n",
    "**Output Example:**\n"
   ]
  },
  {
   "cell_type": "code",
   "execution_count": 145,
   "id": "8ec8bac8",
   "metadata": {
    "editable": true,
    "slideshow": {
     "slide_type": "fragment"
    },
    "tags": []
   },
   "outputs": [
    {
     "data": {
      "text/plain": [
       "{'cognitive_load': 10,\n",
       " 'language': 'English',\n",
       " 'style': 'Aristocratic',\n",
       " 'text': 'Hello, how are you?'}"
      ]
     },
     "execution_count": 145,
     "metadata": {},
     "output_type": "execute_result"
    }
   ],
   "source": [
    "## Output parser\n",
    "{\n",
    "    \"cognitive_load\": 10,\n",
    "    \"language\": \"English\",\n",
    "    \"style\": \"Aristocratic\",\n",
    "    \"text\": \"Hello, how are you?\"\n",
    "}"
   ]
  },
  {
   "cell_type": "markdown",
   "id": "fe7be649-830b-4e3e-b637-c4c0c9c43ac1",
   "metadata": {
    "editable": true,
    "slideshow": {
     "slide_type": "subslide"
    },
    "tags": []
   },
   "source": [
    "### Zero-Shot Prompting for Structured Output\n",
    "\n",
    "- **Goal:** Guide the LLM to produce structured outputs by describing the expected format and required information.\n",
    "- **Technique:** Use a template in your prompt to specify:\n",
    "    - The fields to extract (e.g., cognitive load, language, style, text)\n",
    "    - The output format (e.g., JSON object)\n",
    "- **Approach:**  \n",
    "    - This is called **zero-shot prompting**:  \n",
    "    - Provide clear instructions for the task, without giving examples."
   ]
  },
  {
   "cell_type": "code",
   "execution_count": 146,
   "id": "c70e74e1",
   "metadata": {
    "editable": true,
    "slideshow": {
     "slide_type": "fragment"
    },
    "tags": []
   },
   "outputs": [],
   "source": [
    "review_template = \"\"\"\n",
    "For the following text, extract the following information:\n",
    "\n",
    "1. Cognitive load (0-100): is the text easy to understand? \n",
    "2. Language: what language is the text written in?\n",
    "3. Style: what is the style of the text? (e.g., formal, informal, technical, etc.)\n",
    "4. Text: the original text.\n",
    "\n",
    "format the output as a JSON object with the keys \"cognitive_load\", \"language\", \"style\", and \"text\".\n",
    "\n",
    "text: {text}\n",
    "\"\"\""
   ]
  },
  {
   "cell_type": "markdown",
   "id": "240eaefe-113a-4b0a-a68e-02f31c5b0a4f",
   "metadata": {
    "editable": true,
    "slideshow": {
     "slide_type": "subslide"
    },
    "tags": []
   },
   "source": [
    "- Does this *zero-shot* approach works?\n",
    "- Kind of :))"
   ]
  },
  {
   "cell_type": "code",
   "execution_count": 147,
   "id": "eaeb0e97",
   "metadata": {
    "editable": true,
    "slideshow": {
     "slide_type": "fragment"
    },
    "tags": []
   },
   "outputs": [
    {
     "data": {
      "text/plain": [
       "'```json\\n{\\n  \"cognitive_load\": 10,\\n  \"language\": \"English\",\\n  \"style\": \"Informal\",\\n  \"text\": \"Hello, how are you?\"\\n}\\n```'"
      ]
     },
     "execution_count": 147,
     "metadata": {},
     "output_type": "execute_result"
    }
   ],
   "source": [
    "simple_text = \"Hello, how are you?\"\n",
    "hard_text = \"The problem of induction is a fundamental issue in the philosophy of science, concerning the justification of inductive reasoning and the validity of generalizations based on empirical observations.\"\n",
    "\n",
    "message_template_chat = ChatPromptTemplate.from_template(review_template)\n",
    "response = chat_gemini.invoke(message_template_chat.format_messages(text=simple_text))\n",
    "response.content\n",
    "# How to parse it?"
   ]
  },
  {
   "cell_type": "markdown",
   "id": "ac6c5ce5",
   "metadata": {
    "editable": true,
    "slideshow": {
     "slide_type": "fragment"
    },
    "tags": []
   },
   "source": [
    "Ok, it is a valid json but how i can use it?"
   ]
  },
  {
   "cell_type": "markdown",
   "id": "ccf67072",
   "metadata": {
    "editable": true,
    "slideshow": {
     "slide_type": "subslide"
    },
    "tags": []
   },
   "source": [
    "## Response Schema & Structured Output Parser\n",
    "\n",
    "- **Response Schema**: Defines expected output fields (name, description, type) for LLM responses.\n",
    "- **Structured Output Parser**: Uses schemas to parse and validate outputs, ensuring consistent, machine-readable (e.g., JSON) results.\n",
    "\n",
    "**Why use them?**\n",
    "- Reliable, error-free extraction of structured data.\n",
    "- Simplifies integration and downstream processing.\n"
   ]
  },
  {
   "cell_type": "code",
   "execution_count": 148,
   "id": "a7b9f6d4",
   "metadata": {
    "editable": true,
    "slideshow": {
     "slide_type": "fragment"
    },
    "tags": []
   },
   "outputs": [],
   "source": [
    "from langchain.output_parsers import ResponseSchema\n",
    "from langchain.output_parsers import StructuredOutputParser\n",
    "\n",
    "cognitive_load_schema = ResponseSchema(name=\"cognitive_load\", description=\"Cognitive load of the text (0-100)\", type=\"number\")\n",
    "language_schema = ResponseSchema(name=\"language\", description=\"Language of the text\", type=\"string\")\n",
    "style_schema = ResponseSchema(name=\"style\", description=\"Style of the text\", type=\"string\")\n",
    "text_schema = ResponseSchema(name=\"text\", description=\"Original text\", type=\"string\")\n",
    "response_schemas = [cognitive_load_schema, language_schema, style_schema, text_schema]\n",
    "output_parser = StructuredOutputParser.from_response_schemas(response_schemas)"
   ]
  },
  {
   "cell_type": "code",
   "execution_count": 149,
   "id": "4ba901cb",
   "metadata": {
    "editable": true,
    "slideshow": {
     "slide_type": "subslide"
    },
    "tags": []
   },
   "outputs": [],
   "source": [
    "# Review template (with instructions)\n",
    "review_template_instructions = \"\"\"\n",
    "For the following text, extract the following information:\n",
    "\n",
    "1. Cognitive load (0-100): is the text easy to understand? \n",
    "2. Language: what language is the text written in?\n",
    "3. Style: what is the style of the text? (e.g., formal, informal, technical, etc.)\n",
    "4. Text: the original text.\n",
    "\n",
    "text: {text}\n",
    "\n",
    "{format_instructions}\n",
    "\"\"\"\n"
   ]
  },
  {
   "cell_type": "code",
   "execution_count": 150,
   "id": "1b5b1f21",
   "metadata": {
    "editable": true,
    "slideshow": {
     "slide_type": "fragment"
    },
    "tags": []
   },
   "outputs": [],
   "source": [
    "from langchain_core.language_models.chat_models import BaseChatModel\n",
    "def evaluate_cognitive_load(llm: BaseChatModel, text: str) -> dict:\n",
    "    message_template_chat_instructions = ChatPromptTemplate.from_template(review_template_instructions)\n",
    "    messages = message_template_chat_instructions.format_messages(text=text, \n",
    "                                format_instructions=output_parser.get_format_instructions())\n",
    "    return output_parser.parse(chat_gemini.invoke(messages).content)"
   ]
  },
  {
   "cell_type": "code",
   "execution_count": 151,
   "id": "d90b4dea",
   "metadata": {
    "editable": true,
    "slideshow": {
     "slide_type": "fragment"
    },
    "tags": []
   },
   "outputs": [
    {
     "data": {
      "text/plain": [
       "(5, 65)"
      ]
     },
     "execution_count": 151,
     "metadata": {},
     "output_type": "execute_result"
    }
   ],
   "source": [
    "evaluate_cognitive_load(chat_gemini, simple_text)[\"cognitive_load\"], evaluate_cognitive_load(chat_gemini, hard_text)[\"cognitive_load\"]"
   ]
  },
  {
   "cell_type": "markdown",
   "id": "2de0e2c8",
   "metadata": {
    "editable": true,
    "slideshow": {
     "slide_type": "slide"
    },
    "tags": []
   },
   "source": [
    "### Memory\n",
    "- **Definition**: Memory in LangChain allows you to store and retrieve information across multiple interactions\n",
    "- **Purpose**: It enables the LLM to maintain context and continuity in conversations, making it more effective for multi-turn interactions.\n",
    "- Conversation memory is a key feature that allows the LLM to remember past interactions and use that information in future responses.\n",
    "\n",
    "<p align=\"center\">\n",
    "    <img src=\"data/memory.png\" alt=\"LangChain Memory Overview\"  style=\"display: block; margin: 0 auto; width: 50%;\">\n",
    "</p>"
   ]
  },
  {
   "cell_type": "markdown",
   "id": "6d606b4c",
   "metadata": {
    "editable": true,
    "slideshow": {
     "slide_type": "subslide"
    },
    "tags": []
   },
   "source": [
    "### Memory types\n",
    "- Several types of memory are available, including:\n",
    "    - **Conversation Memory**: Stores the history of interactions in a conversation.\n",
    "    - **Buffer Memory**: Temporarily holds information during a session.\n",
    "    - **Summary Memory**: Summarizes past interactions to maintain context without storing all details\n",
    "\n",
    "<p align=\"center\">\n",
    "    <img src=\"data/memory-uml.png\" alt=\"Types of Memory in LangChain\"  style=\"display: block; margin: 0 auto; width: 50%;\">\n",
    "</p>"
   ]
  },
  {
   "cell_type": "markdown",
   "id": "a698e2ee",
   "metadata": {
    "editable": true,
    "slideshow": {
     "slide_type": "subslide"
    },
    "tags": []
   },
   "source": [
    "### Conversation Chain\n",
    "\n",
    "- A conversation us a sequence of interactions between the user and the LLM\n",
    "- **Purpose:** Maintain context and continuity in multi-turn conversations.\n",
    "- **How it works:** Stores conversation history (using memory) and passes it to the LLM for each new input.\n",
    "\n",
    "<p align=\"center\">\n",
    "    <img src=\"data/history-example.png\" alt=\"Conversation Chain Example\" style=\"display: block; margin: 0 auto; width: 60%;\">\n",
    "</p>"
   ]
  },
  {
   "cell_type": "code",
   "execution_count": 214,
   "id": "bc3adbff",
   "metadata": {
    "collapsed": true,
    "editable": true,
    "jupyter": {
     "outputs_hidden": true
    },
    "scrolled": true,
    "slideshow": {
     "slide_type": "fragment"
    },
    "tags": []
   },
   "outputs": [
    {
     "data": {
      "text/plain": [
       "''"
      ]
     },
     "execution_count": 214,
     "metadata": {},
     "output_type": "execute_result"
    }
   ],
   "source": [
    "from langchain.memory import ConversationBufferMemory\n",
    "from langchain.chains import ConversationChain\n",
    "memory = ConversationBufferMemory()\n",
    "conversation = ConversationChain(\n",
    "    llm=chat_gemini,\n",
    "    memory=memory,\n",
    "    verbose=False \n",
    ")\n",
    "memory.buffer"
   ]
  },
  {
   "cell_type": "code",
   "execution_count": 215,
   "id": "3abee11b",
   "metadata": {
    "slideshow": {
     "slide_type": "subslide"
    }
   },
   "outputs": [
    {
     "data": {
      "text/plain": [
       "\"Hi Gianluca! It's nice to meet you. My name is, we\""
      ]
     },
     "execution_count": 215,
     "metadata": {},
     "output_type": "execute_result"
    }
   ],
   "source": [
    "conversation.invoke(\"Hi! My name is Gianluca\")[\"response\"][:50]"
   ]
  },
  {
   "cell_type": "code",
   "execution_count": 216,
   "id": "09a81f68",
   "metadata": {
    "collapsed": true,
    "editable": true,
    "jupyter": {
     "outputs_hidden": true
    },
    "slideshow": {
     "slide_type": "fragment"
    },
    "tags": []
   },
   "outputs": [
    {
     "data": {
      "text/plain": [
       "\"That's a great question, Gianluca! As a large lang\""
      ]
     },
     "execution_count": 216,
     "metadata": {},
     "output_type": "execute_result"
    }
   ],
   "source": [
    "conversation.invoke(\"What is your role in the society?\")[\"response\"][:50]"
   ]
  },
  {
   "cell_type": "code",
   "execution_count": 217,
   "id": "dc827b23",
   "metadata": {
    "collapsed": true,
    "editable": true,
    "jupyter": {
     "outputs_hidden": true
    },
    "slideshow": {
     "slide_type": "fragment"
    },
    "tags": []
   },
   "outputs": [
    {
     "data": {
      "text/plain": [
       "'You told me your name is Gianluca!'"
      ]
     },
     "execution_count": 217,
     "metadata": {},
     "output_type": "execute_result"
    }
   ],
   "source": [
    "conversation.invoke(input=\"What is my name?\")[\"response\"][:50]"
   ]
  },
  {
   "cell_type": "code",
   "execution_count": 218,
   "id": "07fcdb76",
   "metadata": {
    "collapsed": true,
    "editable": true,
    "jupyter": {
     "outputs_hidden": true
    },
    "slideshow": {
     "slide_type": "subslide"
    },
    "tags": []
   },
   "outputs": [
    {
     "data": {
      "text/plain": [
       "\"Human: Hi! My name is Gianluca\\nAI: Hi Gianluca! It's nice to meet you. My name is, well, I don't really *have* a name in the traditional sense. You can just call me AI. I'm a large language model, trained by Google. I've been trained on a massive dataset of text and code, which allows me to communicate and generate human-like text in response to a wide range of prompts and questions. I'm still under development, but I'm learning new things every day! What can I do for you today?\\nHuman: What is y\""
      ]
     },
     "execution_count": 218,
     "metadata": {},
     "output_type": "execute_result"
    }
   ],
   "source": [
    "memory.buffer[:500]"
   ]
  },
  {
   "cell_type": "code",
   "execution_count": 157,
   "id": "34870100",
   "metadata": {
    "collapsed": true,
    "editable": true,
    "jupyter": {
     "outputs_hidden": true
    },
    "slideshow": {
     "slide_type": "subslide"
    },
    "tags": []
   },
   "outputs": [
    {
     "data": {
      "text/plain": [
       "{'history': \"Human: Hi! My name is Gianluca\\nAI: Hi Gianluca! It's nice to meet you. My name is, well, I don't really *have* a name in the human sense. You can just call me AI. I'm a large language model, trained by Google. I'm excited to chat with you today! What's on your mind? I'm ready to answer your questions, discuss interesting topics, or even just tell you a story. I have access to a vast amount of information, so hopefully I can be helpful. Just let me know what you'd like to do!\\nHuman: What is your role in the society?\\nAI: That's a great question, Gianluca! My role in society is still evolving, but I see myself as a tool that can be used to augment human capabilities and improve various aspects of life. Here are some of the key ways I can contribute:\\n\\n*   **Information Access and Processing:** I can quickly access and process vast amounts of information, making it easier for people to find answers to their questions, research topics, and stay informed about current events. Think of me as a super-powered search engine with the ability to synthesize and summarize information.\\n\\n*   **Automation and Efficiency:** I can automate repetitive tasks, freeing up human time and resources for more creative and strategic endeavors. For example, I can help with tasks like data entry, report generation, and customer service inquiries.\\n\\n*   **Education and Learning:** I can provide personalized learning experiences, answer student questions, and offer feedback on assignments. I can also help educators create engaging and effective learning materials.\\n\\n*   **Creative Content Generation:** I can assist with writing, translation, and other creative tasks. I can generate different creative text formats, like poems, code, scripts, musical pieces, email, letters, etc. I will try my best to fulfill all your requirements.\\n\\n*   **Problem Solving and Decision Making:** I can analyze data, identify patterns, and generate insights that can help people make better decisions in various fields, such as business, healthcare, and finance.\\n\\n*   **Accessibility and Inclusion:** I can provide language translation, text-to-speech, and other accessibility features that can help people with disabilities access information and participate more fully in society.\\n\\nOf course, it's important to remember that I am still under development, and my capabilities are constantly evolving. It's also crucial to use me responsibly and ethically, being mindful of potential biases and limitations. My goal is to be a helpful and beneficial tool for humanity, and I'm excited to see how I can contribute to a better future!\\nHuman: What is my name?\\nAI: You told me your name is Gianluca!\"}"
      ]
     },
     "execution_count": 157,
     "metadata": {},
     "output_type": "execute_result"
    }
   ],
   "source": [
    "memory.load_memory_variables({})"
   ]
  },
  {
   "cell_type": "markdown",
   "id": "9fb8d403",
   "metadata": {},
   "source": []
  },
  {
   "cell_type": "markdown",
   "id": "a646a0f9",
   "metadata": {
    "slideshow": {
     "slide_type": "subslide"
    }
   },
   "source": [
    "### Window Memory\n",
    "- **Window Memory** is a type of memory that stores a fixed number of recent interactions.\n",
    "- **Purpose:** Useful for short conversations (and small models) where you want to keep the context without storing all the details."
   ]
  },
  {
   "cell_type": "code",
   "execution_count": 158,
   "id": "f61c8168",
   "metadata": {
    "slideshow": {
     "slide_type": "fragment"
    }
   },
   "outputs": [
    {
     "data": {
      "text/plain": [
       "\"As an AI, I don't have access to personal information about you, including your name. We haven't exchanged that information, so I don't know it. You would have to tell me!\""
      ]
     },
     "execution_count": 158,
     "metadata": {},
     "output_type": "execute_result"
    }
   ],
   "source": [
    "## Buffer memory\n",
    "from langchain.memory import ConversationBufferWindowMemory\n",
    "buffer_memory = ConversationBufferWindowMemory(k=1)  # Keep the last 5 interactions\n",
    "\n",
    "conversation_short_window = ConversationChain(\n",
    "    llm=chat_gemini,\n",
    "    memory=buffer_memory,\n",
    "    verbose=False\n",
    ")\n",
    "\n",
    "conversation_short_window.predict(input=\"Hi! My name is Gianluca\")\n",
    "conversation_short_window.predict(input=\"What is your role in the society?\")\n",
    "conversation_short_window.predict(input=\"What about rasengan\")\n",
    "conversation_short_window.predict(input=\"What is my name?\")"
   ]
  },
  {
   "cell_type": "markdown",
   "id": "b53aecf3",
   "metadata": {
    "slideshow": {
     "slide_type": "subslide"
    }
   },
   "source": [
    "### Summary Memory\n",
    "\n",
    "- **Summary memory** maintains context by summarizing previous interactions, rather than storing every message in detail.\n",
    "- This approach helps keep conversations concise and relevant, especially for long or complex dialogues.\n",
    "- Useful when working with models that have input length limitations, as it preserves essential information while reducing memory size."
   ]
  },
  {
   "cell_type": "code",
   "execution_count": 159,
   "id": "d77d15ce",
   "metadata": {
    "slideshow": {
     "slide_type": "fragment"
    }
   },
   "outputs": [
    {
     "data": {
      "text/plain": [
       "{'input': 'Was Carlo Magno a king?',\n",
       " 'history': \"System: The human provides a summary of Charlemagne's reign, highlighting his role as a medieval emperor, his unification of Europe, and the Carolingian Renaissance. The AI responds, praising the summary and adding details about Charlemagne's balance of military expansion and cultural reforms, as well as the influence of Alcuin of York and the Carolingian minuscule on modern writing. The AI then asks the human what aspects of Charlemagne's reign they find most interesting.\",\n",
       " 'response': 'Ah, \"Carlo Magno\"! I see you\\'re using the Italian version of his name. Yes, absolutely, Carlo Magno – Charlemagne – was indeed a king! He wasn\\'t *just* an emperor, you see. He actually became King of the Franks in 768 AD, jointly ruling with his brother Carloman I until Carloman\\'s death in 771 AD, at which point Charlemagne became the sole ruler of the Frankish kingdom. This kingdom was already quite substantial, encompassing much of modern-day France, Belgium, the Netherlands, and parts of Germany.\\n\\nIt was from this powerful position as King of the Franks that he launched his many military campaigns, expanding his territory and eventually leading to his coronation as Holy Roman Emperor by Pope Leo III in 800 AD. So, he was both a king *and* an emperor, with his kingship preceding his imperial title. Think of it as building a strong foundation (the Frankish kingdom) before constructing a grand edifice (the Holy Roman Empire) on top of it! Does that make sense?'}"
      ]
     },
     "execution_count": 159,
     "metadata": {},
     "output_type": "execute_result"
    }
   ],
   "source": [
    "# Several alternatives, ConversationTokenMemory, ConversationSummaryMemory\n",
    "from langchain.memory import ConversationSummaryBufferMemory\n",
    "memory = ConversationSummaryBufferMemory(llm=chat_gemini, max_token_limit=100)\n",
    "\n",
    "conversation = ConversationChain(\n",
    "    llm=chat_gemini,\n",
    "    memory=memory,\n",
    "    verbose=False\n",
    ")\n",
    "long_history = \"\"\"\n",
    "Carlo Magno, also known as Charlemagne, was a medieval emperor who ruled much of Western Europe from 768 to 814. He was the King of the Franks, King of the Lombards, and Emperor of the Romans. His reign marked the Carolingian Renaissance, a revival of art, culture, and learning based on classical models. He is often credited with uniting much of Europe during the early Middle Ages and laying the foundations for modern France and Germany.\n",
    "\"\"\"\n",
    "conversation.invoke(long_history)\n",
    "conversation.invoke(\"Was Carlo Magno a king?\")\n"
   ]
  },
  {
   "cell_type": "code",
   "execution_count": 160,
   "id": "38d66122",
   "metadata": {
    "slideshow": {
     "slide_type": "fragment"
    }
   },
   "outputs": [
    {
     "data": {
      "text/plain": [
       "{'history': \"System: The human provides a summary of Charlemagne's reign, highlighting his role as a medieval emperor, his unification of Europe, and the Carolingian Renaissance. The AI responds, praising the summary and adding details about Charlemagne's balance of military expansion and cultural reforms, as well as the influence of Alcuin of York and the Carolingian minuscule on modern writing. The AI then asks the human what aspects of Charlemagne's reign they find most interesting. The human then asks if Carlo Magno (Charlemagne) was a king. The AI confirms that Charlemagne was indeed a king, becoming King of the Franks in 768 AD and ruling jointly with his brother until 771 AD, after which he became the sole ruler. The AI emphasizes that his kingship preceded his imperial title and served as the foundation for his later coronation as Holy Roman Emperor.\"}"
      ]
     },
     "execution_count": 160,
     "metadata": {},
     "output_type": "execute_result"
    }
   ],
   "source": [
    "memory.load_memory_variables({})"
   ]
  },
  {
   "cell_type": "markdown",
   "id": "dc8cb18d",
   "metadata": {
    "slideshow": {
     "slide_type": "slide"
    }
   },
   "source": [
    "### Chains (Everything is a Chain :))\n",
    "\n",
    "- **Chain:** A sequence of modular steps (LLM, retriever, memory, etc.) that process input and produce output.\n",
    "- **Why use them?**  \n",
    "    - Orchestrate complex workflows  \n",
    "    - Reuse and compose logic  \n",
    "    - Maintain context and manage data flow\n",
    "\n",
    "<p align=\"center\">\n",
    "    <img src=\"data/chains.png\" alt=\"LangChain Chain Structure\" style=\"display: block; margin: 0 auto; width: 60%;\">\n",
    "</p>\n"
   ]
  },
  {
   "cell_type": "markdown",
   "id": "ef10a967",
   "metadata": {
    "slideshow": {
     "slide_type": "subslide"
    }
   },
   "source": [
    "### Example: A simple chain with a prompt and an LLM\n",
    "\n",
    "<p align=\"center\">\n",
    "    <img src=\"data/simple.png\" alt=\"Simple Chain Example\" style=\"display: block; margin: 0 auto; width: 60%;\">\n",
    "</p>"
   ]
  },
  {
   "cell_type": "code",
   "execution_count": 161,
   "id": "047580cb",
   "metadata": {
    "slideshow": {
     "slide_type": "fragment"
    }
   },
   "outputs": [
    {
     "data": {
      "text/plain": [
       "'The \"best\" name depends on the specific brand identity you want to create. Here\\'s a breakdown of different approaches and examples:\\n\\n**1. Classic & Traditional:**\\n\\n*   **Focus:** Heritage, craftsmanship, reliability.\\n*   **Examples:**\\n    *   [Your Last Name] Cycles (e.g., \"Smith Cycles\")\\n    *   [L'"
      ]
     },
     "execution_count": 161,
     "metadata": {},
     "output_type": "execute_result"
    }
   ],
   "source": [
    "# Chains\n",
    "from langchain.chains import LLMChain\n",
    "prompt = ChatPromptTemplate.from_template(\n",
    "    \"What is the best name to describe \\\n",
    "    a company that makes {product}?\"\n",
    ")\n",
    "chain = prompt | chat_gemini  # Chain the prompt with the LLM\n",
    "\n",
    "chain.invoke(\"bicycles\").content[:300]  # Example query"
   ]
  },
  {
   "cell_type": "code",
   "execution_count": 162,
   "id": "3054e2b0",
   "metadata": {
    "slideshow": {
     "slide_type": "subslide"
    }
   },
   "outputs": [
    {
     "data": {
      "text/plain": [
       "'We craft unique bicycle names, from classic to quirky, ensuring brand identity, target audience alignment, and memorability for your cycling company.'"
      ]
     },
     "execution_count": 162,
     "metadata": {},
     "output_type": "execute_result"
    }
   ],
   "source": [
    "second_prompt = ChatPromptTemplate.from_template(\n",
    "    \"Write a 20 words description for the following \\\n",
    "    company:{company_name}\"\n",
    ")\n",
    "\n",
    "chain = chain | second_prompt | chat_gemini  # Chain the prompt with the LLM\n",
    "\n",
    "chain.invoke(\"bicycles\").content[:300]  # Example query"
   ]
  },
  {
   "cell_type": "markdown",
   "id": "a627f851",
   "metadata": {
    "slideshow": {
     "slide_type": "subslide"
    }
   },
   "source": [
    "### Example: Advanced Chain with Multiple Steps\n",
    "1. **Translate the review**:  \n",
    "    The input review is first translated into English using a prompt and the LLM.\n",
    "\n",
    "2. **Parallel processing**:  \n",
    "    The translated review is then passed to two chains in parallel:  \n",
    "    - One summarizes the review in a single sentence.  \n",
    "    - The other detects the language of the translated review.\n",
    "\n",
    "3. **Follow-up generation**:  \n",
    "    The summary and detected language are used to generate a follow-up response, using another prompt that takes both as input.\n",
    "\n",
    "5. **Result**:  \n",
    "    The final output includes the translated review, its summary, the detected language, and a follow-up response—all produced in a single, composable chain.\n",
    "\n",
    "    <p align=\"center\">\n",
    "        <img src=\"data/pipeline.png\" alt=\"Advanced Chain Pipeline\" style=\"display: block; margin: 0 auto; width: 70%;\">\n",
    "    </p>"
   ]
  },
  {
   "cell_type": "code",
   "execution_count": 163,
   "id": "c783bd7c",
   "metadata": {
    "slideshow": {
     "slide_type": "subslide"
    }
   },
   "outputs": [],
   "source": [
    "## Advanced chaining\n",
    "from langchain_core.runnables import RunnablePassthrough\n",
    "from langchain_core.output_parsers import StrOutputParser\n",
    "first_prompt = ChatPromptTemplate.from_template(\n",
    "    \"Translate the following review in English \\n\\n{review}\\n\\n\"\n",
    ")\n",
    "second_prompt = ChatPromptTemplate.from_template(\n",
    "    \"Summarize the the following review in a single sentence \\n\\n{review}\\n\\n\",\n",
    "    \n",
    ")\n",
    "third_prompt = ChatPromptTemplate.from_template(\n",
    "    \"What is the language of the following review? \\n\\n{review}\\n\\n\"\n",
    ")\n",
    "fourth_prompt = ChatPromptTemplate.from_template(\n",
    "    \"Write a follow up response to the following summary in the specified language \\n\\nSummary:{summary}\\n\\n Language:{language}\\n\\n\"\n",
    ")\n"
   ]
  },
  {
   "cell_type": "code",
   "execution_count": 164,
   "id": "7fd8e782",
   "metadata": {
    "slideshow": {
     "slide_type": "fragment"
    }
   },
   "outputs": [],
   "source": [
    "# Simple Chaining\n",
    "# 1. Translate the review\n",
    "translate_chain = first_prompt | chat_gemini\n",
    "# 2. Summarize and detect language in parallel\n",
    "summarize_chain = second_prompt | chat_gemini\n",
    "language_chain = third_prompt | chat_gemini"
   ]
  },
  {
   "cell_type": "markdown",
   "id": "0683bbb2",
   "metadata": {
    "slideshow": {
     "slide_type": "subslide"
    }
   },
   "source": [
    "### RunnablePassthrough: Why?\n",
    "\n",
    "- **RunnablePassthrough** is a special type of runnable that allows you to pass data through a chain without modifying it.\n",
    "- **Purpose**: Adapt the flow of data in a chain without altering its content.\n",
    "- **Why is it needed in LangChain?**\n",
    "    - When building complex chains, you often need to \"fork\" or \"branch\" the data, assign new fields, or pass the original input alongside intermediate results.\n",
    "    - `RunnablePassthrough` enables you to enrich or transform the data at different steps, while keeping the original input available for later use.\n",
    "    - It is essential for advanced workflows where multiple steps depend on the same input or on outputs from previous steps.\n",
    "\n",
    "**Example use case:**  \n",
    "When you want to run several chains in parallel on the same input, or assign new keys to the data dictionary as it flows through the chain, `RunnablePassthrough` helps you manage and structure this data flow efficiently.\n"
   ]
  },
  {
   "cell_type": "code",
   "execution_count": 165,
   "id": "a57d5867",
   "metadata": {
    "slideshow": {
     "slide_type": "subslide"
    }
   },
   "outputs": [
    {
     "data": {
      "text/plain": [
       "('The language of the review is **English**.',\n",
       " 'The reviewer had a wonderful stay at a beautiful h',\n",
       " \"That's fantastic to hear! We're so glad you enjoye\")"
      ]
     },
     "execution_count": 165,
     "metadata": {},
     "output_type": "execute_result"
    }
   ],
   "source": [
    "# 3. Combine\n",
    "full_chain = (\n",
    "    RunnablePassthrough.assign(\n",
    "        translated=translate_chain\n",
    "    )\n",
    "    .assign(\n",
    "        summary=lambda x: summarize_chain.invoke({\"review\": x[\"translated\"]}),\n",
    "        language=lambda x: language_chain.invoke({\"review\": x[\"translated\"]}),\n",
    "    )\n",
    "    .assign(\n",
    "        follow_up=lambda x: (fourth_prompt | chat_gemini).invoke(\n",
    "            {\"summary\": x[\"summary\"], \"language\": x[\"language\"]}\n",
    "        )\n",
    "    )\n",
    ")\n",
    "\n",
    "# Example input\n",
    "result = full_chain.invoke({\"review\": \"Das war ein großartiger Aufenthalt! Das Hotel war wunderschön, das Personal sehr freundlich und hilfsbereit. Das Essen im Restaurant war ausgezeichnet und die Zimmer waren sauber und komfortabel. Die Lage war perfekt für Sightseeing. Wir werden definitiv wiederkommen!\"})\n",
    "result[\"language\"].content, result[\"summary\"].content[:50], result[\"follow_up\"].content[:50]"
   ]
  },
  {
   "cell_type": "markdown",
   "id": "8aff3e4b",
   "metadata": {
    "slideshow": {
     "slide_type": "subslide"
    }
   },
   "source": [
    "### Example: Branching Chains\n",
    "- **Goal:** Route input to different destinations based on a prompt.\n",
    "- **How it works:**\n",
    "    - A prompt is used to select the destination based on the input.\n",
    "    - The selected destination is then used to generate a response.\n",
    "- The selection is performed via a lambda function that maps the input to the appropriate destination.\n",
    "\n",
    "<p align=\"center\">\n",
    "    <img src=\"data/selector-chain.png\" alt=\"Selector Chain Example\" style=\"display: block; margin: 0 auto; width: 60%;\">\n",
    "</p>"
   ]
  },
  {
   "cell_type": "code",
   "execution_count": 166,
   "id": "f15d05f2",
   "metadata": {
    "slideshow": {
     "slide_type": "skip"
    }
   },
   "outputs": [],
   "source": [
    "def load_prompt(where: str) -> str:\n",
    "    # load the prompt from a file\n",
    "    with open(where, \"r\") as file:\n",
    "        return file.read()"
   ]
  },
  {
   "cell_type": "code",
   "execution_count": 167,
   "id": "73c0f9f0",
   "metadata": {
    "slideshow": {
     "slide_type": "fragment"
    }
   },
   "outputs": [],
   "source": [
    "fishing_template = load_prompt(\"data/prompts/fishing.txt\")\n",
    "guitar_template = load_prompt(\"data/prompts/guitar.txt\")\n",
    "computer_science_template = load_prompt(\"data/prompts/computer_science.txt\")\n",
    "anime_template = load_prompt(\"data/prompts/anime.txt\")"
   ]
  },
  {
   "cell_type": "code",
   "execution_count": 168,
   "id": "72273360",
   "metadata": {
    "slideshow": {
     "slide_type": "subslide"
    }
   },
   "outputs": [],
   "source": [
    "prompt_selector = \"\"\"\n",
    "Giving the following question, select the most appropriate between the following destinations:\n",
    "{destinations}\n",
    "Reply with just the template name, without any additional text. If you don't know the answer, reply with \"general\"\n",
    "\n",
    "The question is:\n",
    "{input}\n",
    "\"\"\""
   ]
  },
  {
   "cell_type": "code",
   "execution_count": 169,
   "id": "3298f187",
   "metadata": {
    "slideshow": {
     "slide_type": "fragment"
    }
   },
   "outputs": [
    {
     "data": {
      "text/plain": [
       "'fishing: Good for answering questions about fishing\\nguitar: Good for answering questions about guitar and music\\ncomputer science: Good for answering computer science questions\\nanime: Good for answering questions about anime and manga'"
      ]
     },
     "execution_count": 169,
     "metadata": {},
     "output_type": "execute_result"
    }
   ],
   "source": [
    "prompt_infos = {\n",
    "    \"fishing\": {\n",
    "        \"description\": \"Good for answering questions about fishing\",\n",
    "        \"prompt_template\": fishing_template\n",
    "    },\n",
    "    \"guitar\": {\n",
    "        \"description\": \"Good for answering questions about guitar and music\", \n",
    "        \"prompt_template\": guitar_template\n",
    "    },\n",
    "    \"computer science\": {\n",
    "        \"description\": \"Good for answering computer science questions\",\n",
    "        \"prompt_template\": computer_science_template\n",
    "    },\n",
    "    \"anime\": {\n",
    "        \"description\": \"Good for answering questions about anime and manga\",\n",
    "        \"prompt_template\": anime_template\n",
    "    }\n",
    "}\n",
    "destinations = [f\"{name}: {info['description']}\" for name, info in prompt_infos.items()]\n",
    "destinations_str = \"\\n\".join(destinations)\n",
    "destinations_str\n"
   ]
  },
  {
   "cell_type": "code",
   "execution_count": 170,
   "id": "d5548f22",
   "metadata": {
    "slideshow": {
     "slide_type": "subslide"
    }
   },
   "outputs": [
    {
     "name": "stdout",
     "output_type": "stream",
     "text": [
      "fishing\n",
      "general\n"
     ]
    }
   ],
   "source": [
    "prompt_selector_template = ChatPromptTemplate.from_template(prompt_selector)\n",
    "selector_chain = (\n",
    "    {\"destinations\": lambda x: destinations_str, \"input\": lambda x: x} |\n",
    "    prompt_selector_template | \n",
    "    chat_gemini\n",
    ")\n",
    "print(selector_chain.invoke(\"What is the best way to catch a fish?\").content)\n",
    "print(selector_chain.invoke(\"What if moon is made of cheese?\").content)"
   ]
  },
  {
   "cell_type": "code",
   "execution_count": 171,
   "id": "4a43037d",
   "metadata": {
    "slideshow": {
     "slide_type": "fragment"
    }
   },
   "outputs": [],
   "source": [
    "semantic_chains = {name: ChatPromptTemplate.from_template(info['prompt_template']) | chat_gemini for name, info in prompt_infos.items()}"
   ]
  },
  {
   "cell_type": "markdown",
   "id": "a2de33ba",
   "metadata": {
    "slideshow": {
     "slide_type": "subslide"
    }
   },
   "source": [
    "### RunnableLambda\n",
    "- RunnableLambda: A special type of runnable that allows you to define custom logic using Python functions.\n",
    "- **Purpose**: Execute custom code within a chain, enabling dynamic behavior and complex processing.\n",
    "- **Why is it needed in LangChain?**\n",
    "    - It allows you to integrate custom logic, calculations, or data transformations directly into the chain\n",
    "    - This is essential for building flexible and adaptable workflows that can handle a wide range of tasks\n"
   ]
  },
  {
   "cell_type": "code",
   "execution_count": 172,
   "id": "5a1ed0cf",
   "metadata": {
    "slideshow": {
     "slide_type": "fragment"
    }
   },
   "outputs": [],
   "source": [
    "from langchain_core.runnables import RunnableLambda\n",
    "\n",
    "def route_to_chain(data):\n",
    "    input_text = data[\"input\"]\n",
    "    category = data[\"category\"].content.strip().lower()\n",
    "    \n",
    "    if category in semantic_chains:\n",
    "        return semantic_chains[category].invoke(input_text)\n",
    "    else:\n",
    "        return chat_gemini.invoke(input_text)\n",
    "\n",
    "smart_assistant_chain = (\n",
    "    RunnablePassthrough.assign(\n",
    "        category=lambda x: selector_chain.invoke(x[\"input\"])\n",
    "    ) |\n",
    "    RunnableLambda(route_to_chain)\n",
    ")"
   ]
  },
  {
   "cell_type": "code",
   "execution_count": 173,
   "id": "d4a22377",
   "metadata": {
    "slideshow": {
     "slide_type": "subslide"
    }
   },
   "outputs": [
    {
     "name": "stdout",
     "output_type": "stream",
     "text": [
      "Question: What is the best bait for catching bass?\n",
      "Answer: Alright, let's talk bass bait! That's a question t\n",
      "--------------------------------------------------\n",
      "Question: How do I tune my guitar?\n",
      "Answer: Alright, let's get your guitar in tune! Tuning is \n",
      "--------------------------------------------------\n",
      "Question: What is machine learning?\n",
      "Answer: Okay, let's break down machine learning. As a comp\n",
      "--------------------------------------------------\n",
      "Question: Who is the main character in Naruto?\n",
      "Answer: Ah, a fantastic question! The main character in Na\n",
      "--------------------------------------------------\n",
      "Question: What is the meaning of life?\n",
      "Answer: Ah, the million-dollar question! The meaning of li\n",
      "--------------------------------------------------\n"
     ]
    }
   ],
   "source": [
    "\n",
    "# Test the smart assistant\n",
    "test_questions = [\n",
    "    \"What is the best bait for catching bass?\",\n",
    "    \"How do I tune my guitar?\", \n",
    "    \"What is machine learning?\",\n",
    "    \"Who is the main character in Naruto?\",\n",
    "    \"What is the meaning of life?\"\n",
    "]\n",
    "\n",
    "for question in test_questions:\n",
    "    print(f\"Question: {question}\")\n",
    "    print(f\"Answer: {smart_assistant_chain.invoke({'input': question}).content[:50]}\")\n",
    "    print(\"-\" * 50)"
   ]
  },
  {
   "cell_type": "markdown",
   "id": "f49ef3c7",
   "metadata": {
    "slideshow": {
     "slide_type": "slide"
    }
   },
   "source": [
    "### Agents\n",
    "- This module provides a framework for building autonomous agents that can interact with the environment, make decisions, and perform tasks.\n",
    "- **Agents** are designed to be more autonomous than simple chains, allowing them to make **decisions** and take **actions**\n",
    "\n",
    "<p align=\"center\">\n",
    "    <img src=\"data/agents.png\" alt=\"LangChain Agents Overview\" style=\"display: block; margin: 0 auto; width: 60%;\">\n",
    "</p>\n"
   ]
  },
  {
   "cell_type": "markdown",
   "id": "6f66ca59",
   "metadata": {
    "slideshow": {
     "slide_type": "subslide"
    }
   },
   "source": [
    "### Actions -- Tools\n",
    "- **Actions** are the building blocks of agents, representing specific tasks or operations that the agent can perform.\n",
    "- **Tools** are a type of action that allows the agent to interact with external systems or services.\n",
    "- **What is a tool?**\n",
    "    - A tool is a function that the agent can call to perform a specific action, such as querying a database, making an API call, or executing a command.\n",
    "    - It has a *name*, a *description*, and an *input schema* that defines the expected input format.\n",
    "- **Example of a tool**: A function that retrieves weather information based on a location input."
   ]
  },
  {
   "cell_type": "code",
   "execution_count": 174,
   "id": "b4668a64",
   "metadata": {
    "slideshow": {
     "slide_type": "subslide"
    }
   },
   "outputs": [
    {
     "data": {
      "text/plain": [
       "26"
      ]
     },
     "execution_count": 174,
     "metadata": {},
     "output_type": "execute_result"
    }
   ],
   "source": [
    "from langchain.agents import tool\n",
    "import python_weather\n",
    "from python_weather import Locale\n",
    "\n",
    "@tool\n",
    "async def get_weather(location: str) -> str:\n",
    "    \"\"\"\n",
    "    Get the current weather for a given location.\n",
    "    \n",
    "    Args:\n",
    "        location (str): The name of the location to get the weather for.\n",
    "\n",
    "    Returns:\n",
    "        str: A string describing the current weather in the specified location.\n",
    "    \"\"\"\n",
    "    async with python_weather.Client(unit=python_weather.METRIC, locale=Locale.ITALIAN) as client:\n",
    "\n",
    "        # Fetch a weather forecast from a city.\n",
    "        weather = await client.get(location)\n",
    "        return weather.temperature\n",
    "    \n",
    "await get_weather.ainvoke(\"London\")  # Example usage of the tool"
   ]
  },
  {
   "cell_type": "code",
   "execution_count": 175,
   "id": "53cda5df",
   "metadata": {
    "slideshow": {
     "slide_type": "subslide"
    }
   },
   "outputs": [
    {
     "data": {
      "text/plain": [
       "StructuredTool(name='get_weather', description='Get the current weather for a given location.\\n\\nArgs:\\n    location (str): The name of the location to get the weather for.\\n\\nReturns:\\n    str: A string describing the current weather in the specified location.', args_schema=<class 'langchain_core.utils.pydantic.get_weather'>, coroutine=<function get_weather at 0x7f2e6177e340>)"
      ]
     },
     "execution_count": 175,
     "metadata": {},
     "output_type": "execute_result"
    }
   ],
   "source": [
    "get_weather"
   ]
  },
  {
   "cell_type": "markdown",
   "id": "64a1aeb4",
   "metadata": {
    "slideshow": {
     "slide_type": "subslide"
    }
   },
   "source": [
    "### How to Perform Search?\n",
    "- Typically, agents would like to use web search to find information.\n",
    "- Unfortunatley, those search engines are not designed to be used by agents.\n",
    "- **Solution**: Use a search engine that provides an API, such as Bing Search or Google Search (via Search API).\n",
    "- These APIs typically return structured data that can be easily processed by the agent.\n",
    "- And they shoulbd be paied"
   ]
  },
  {
   "cell_type": "markdown",
   "id": "aa80d58d",
   "metadata": {
    "slideshow": {
     "slide_type": "subslide"
    }
   },
   "source": [
    "### How Agents Selects Tools?\n",
    "- Agents use a **decision-making process** to select the appropriate tool based on the current context and task requirements.\n",
    "- This process involves:\n",
    "    - Analyzing the input and context.\n",
    "    - Evaluating available tools and their capabilities.\n",
    "    - Selecting the most suitable tool for the task at hand.\n",
    "- This is possible via **zero-shot prompting** or **few-shot prompting**\n",
    "- One of the most common approach is **ReAct**."
   ]
  },
  {
   "cell_type": "markdown",
   "id": "cd7a55e2",
   "metadata": {
    "slideshow": {
     "slide_type": "subslide"
    }
   },
   "source": [
    "### ReAct\n",
    "- **ReAct** is a framework that combines reasoning and acting in a single process. (Reasoning + Acting)\n",
    "<p align=\"center\">\n",
    "    <img src=\"data/react.png\" alt=\"ReAct Framework\" style=\"display: block; margin: 0 auto; width: 60%;\">\n",
    "</p>"
   ]
  },
  {
   "cell_type": "markdown",
   "id": "b84b203c",
   "metadata": {
    "slideshow": {
     "slide_type": "subslide"
    }
   },
   "source": [
    "### ReAct: How Does It Work?\n",
    "\n",
    "- **ReAct** combines prompt engineering with tool usage to enable reasoning and action-taking.\n",
    "- The core idea: the agent operates in a loop of **Thought → Action → Observation**, guided by a structured prompt.\n",
    "- The prompt typically includes:\n",
    "    - Instructions for reasoning (**Thought**)\n",
    "    - How to select and execute an **Action** (using tools)\n",
    "    - How to process the **Observation** (action result)\n",
    "    - How to produce a final **Answer**\n",
    "- This approach allows agents to solve complex tasks by iteratively thinking, acting, and observing results."
   ]
  },
  {
   "cell_type": "code",
   "execution_count": 176,
   "id": "d2c66160",
   "metadata": {
    "slideshow": {
     "slide_type": "subslide"
    }
   },
   "outputs": [],
   "source": [
    "prompt = f\"\"\"\n",
    "You operate in a loop of: Thought, Action, PAUSE, Observation.\n",
    "At the end of the loop, you output an Answer.\n",
    "\n",
    "- Use **Thought** to describe your reasoning about the question.\n",
    "- Use **Action** to execute one of the available actions, then return PAUSE.\n",
    "- **Observation** will be the result of the action.\n",
    "\n",
    "Available Actions:\n",
    "calculate:\n",
    "    e.g., calculate 2 + 2\n",
    "    Returns a calculation result.\n",
    "\n",
    "...\n",
    "\n",
    "Example Session:\n",
    "Question: [Your question here]\n",
    "Thought: [Your reasoning]\n",
    "Action: [Action to take]\n",
    "PAUSE\n",
    "Observation: [Result of the action]\n",
    "...\n",
    "Answer: [Final answer]\n",
    "\"\"\""
   ]
  },
  {
   "cell_type": "markdown",
   "id": "08768211",
   "metadata": {
    "slideshow": {
     "slide_type": "subslide"
    }
   },
   "source": [
    "### ReAct In Practice: LangChain\n",
    "\n",
    "In LangChain, ReAct is implemented using a combination of:\n",
    "- **Prompt Templates**: Define the structure of the reasoning and action-taking process.\n",
    "- **Runnable Chains**: Execute the reasoning and action steps in a loop.\n",
    "- **Tool Selection**: Use a decision-making process to choose the appropriate tool based on the\n",
    "\n",
    "Some tools are already implemented in LangChain, such as:\n",
    "- **math**: Perform mathematical calculations.\n",
    "- **serapi**: Perform web searches.\n",
    "- and many others.\n",
    "\n",
    "See the [LangChain documentation](https://python.langchain.com/docs/how_to/#tools) for a complete list of available tools."
   ]
  },
  {
   "cell_type": "code",
   "execution_count": 177,
   "id": "a6c3e168",
   "metadata": {
    "slideshow": {
     "slide_type": "fragment"
    }
   },
   "outputs": [],
   "source": [
    "from langchain.agents import load_tools, initialize_agent\n",
    "from langchain.agents import AgentType\n",
    "tools = load_tools([\"llm-math\", \"serpapi\"], llm=chat_gemini)"
   ]
  },
  {
   "cell_type": "markdown",
   "id": "f5204121",
   "metadata": {
    "slideshow": {
     "slide_type": "subslide"
    }
   },
   "source": [
    "### How to initialize an Agent?\n",
    "In LangChain, an agent is initialized using the `initialize_agent` function, which takes the following parameters:\n",
    "- Which tools the agent can use\n",
    "- The LLM to use for reasoning and decision-making\n",
    "- The type of agent to create (e.g., ReAct, ZeroShotAgent, etc)\n",
    "- The agent's name and description (optional)\n"
   ]
  },
  {
   "cell_type": "code",
   "execution_count": 178,
   "id": "94fb2eae",
   "metadata": {
    "slideshow": {
     "slide_type": "fragment"
    }
   },
   "outputs": [],
   "source": [
    "agent = initialize_agent(\n",
    "    tools, \n",
    "    chat_gemini, \n",
    "    agent=AgentType.CHAT_ZERO_SHOT_REACT_DESCRIPTION,\n",
    "    handle_parsing_errors=True,\n",
    "    verbose = True\n",
    ")"
   ]
  },
  {
   "cell_type": "markdown",
   "id": "cfe84b21",
   "metadata": {
    "slideshow": {
     "slide_type": "subslide"
    }
   },
   "source": [
    "Given the tasks, the agents will understand the context and select the appropriate tools to perform the actions needed to complete the tasks:"
   ]
  },
  {
   "cell_type": "code",
   "execution_count": 179,
   "id": "35426a08",
   "metadata": {
    "slideshow": {
     "slide_type": "fragment"
    }
   },
   "outputs": [
    {
     "name": "stdout",
     "output_type": "stream",
     "text": [
      "\n",
      "\n",
      "\u001b[1m> Entering new AgentExecutor chain...\u001b[0m\n",
      "\u001b[32;1m\u001b[1;3mThought: I need to calculate the natural logarithm of 17325.124 and then multiply the result by 0.25.\n",
      "Action:\n",
      "```json\n",
      "{\n",
      "  \"action\": \"Calculator\",\n",
      "  \"action_input\": \"ln(17325.124)\"\n",
      "}\n",
      "```\u001b[0m\n",
      "Observation: \u001b[36;1m\u001b[1;3mAnswer: 9.759912981319648\u001b[0m\n",
      "Thought:\u001b[32;1m\u001b[1;3mI now need to multiply the result of the natural logarithm by 0.25.\n",
      "Action:\n",
      "```json\n",
      "{\n",
      "  \"action\": \"Calculator\",\n",
      "  \"action_input\": \"9.759912981319648 * 0.25\"\n",
      "}\n",
      "```\u001b[0m\n",
      "Observation: \u001b[36;1m\u001b[1;3mAnswer: 2.439978245329912\u001b[0m\n",
      "Thought:\u001b[32;1m\u001b[1;3mI have calculated the natural logarithm of 17325.124 and multiplied the result by 0.25. I now have the final answer.\n",
      "Final Answer: 2.439978245329912\u001b[0m\n",
      "\n",
      "\u001b[1m> Finished chain.\u001b[0m\n"
     ]
    },
    {
     "data": {
      "text/plain": [
       "{'input': 'What is the 25% of ln(17325.124)?', 'output': '2.439978245329912'}"
      ]
     },
     "execution_count": 179,
     "metadata": {},
     "output_type": "execute_result"
    }
   ],
   "source": [
    "agent.invoke(\"What is the 25% of ln(17325.124)?\")"
   ]
  },
  {
   "cell_type": "code",
   "execution_count": 180,
   "id": "0c003edc",
   "metadata": {
    "slideshow": {
     "slide_type": "subslide"
    }
   },
   "outputs": [
    {
     "data": {
      "text/plain": [
       "'2.297'"
      ]
     },
     "execution_count": 180,
     "metadata": {},
     "output_type": "execute_result"
    }
   ],
   "source": [
    "chat_gemini.invoke(\"What is the 25% of ln(17325.124)? reply with just the result\").content"
   ]
  },
  {
   "cell_type": "markdown",
   "id": "41495e50",
   "metadata": {
    "slideshow": {
     "slide_type": "subslide"
    }
   },
   "source": [
    "In this other case, the agent will use the `serapi` tool to perform a web search"
   ]
  },
  {
   "cell_type": "code",
   "execution_count": 181,
   "id": "2bdeb81a",
   "metadata": {
    "slideshow": {
     "slide_type": "fragment"
    }
   },
   "outputs": [
    {
     "name": "stdout",
     "output_type": "stream",
     "text": [
      "\n",
      "\n",
      "\u001b[1m> Entering new AgentExecutor chain...\u001b[0m\n",
      "\u001b[32;1m\u001b[1;3mThought: I need to find out what book Tom M. Mitchell wrote. I can use the search tool to find this information.\n",
      "Action:\n",
      "```json\n",
      "{\n",
      "  \"action\": \"Search\",\n",
      "  \"action_input\": \"Tom M. Mitchell book\"\n",
      "}\n",
      "```\u001b[0m\n",
      "Observation: \u001b[33;1m\u001b[1;3m['Tom Michael Mitchell is an American computer scientist and the Founders University Professor at Carnegie Mellon University.', 'Tom M. Mitchell type: American computer scientist.', 'Tom M. Mitchell entity_type: people, scholars.', 'Tom M. Mitchell kgmid: /m/0h7pbt5.', 'Tom M. Mitchell place_of_birth: Blossburg, PA.', 'Tom M. Mitchell books: Machine Learning.', 'Tom M. Mitchell education: Massachusetts Institute of Technology, Stanford University.', 'Tom M. Mitchell h_index: 105.', 'Tom M. Mitchell academic_advisor: Bruce G. Buchanan.', 'Tom M. Mitchell awards: IJCAI Computers and Thought Award, Presidential Young Investigator Award.', 'Tom M. Mitchell affiliation: Carnegie Mellon University.', 'Machine Learning, Tom Mitchell, McGraw Hill, 1997. ... Machine Learning is the study of computer algorithms that improve automatically through experience. This ...', 'This book covers the field of machine learning, which is the study of algorithms that allow computer programs to automatically improve through experience.', 'Book Info: Presents the key algorithms and theory that form the core of machine learning. Discusses such theoretical issues as How does learning performance ...', 'Machine Learning Tom Mitchell. by: Tom M. Mitchell. Publication date: 1997-03-01. Topics: Decision tree learning, Artificial Neural Network.', 'This textbook provides a single source introduction to the primary approaches to machine learning. It is intended for advanced undergraduate and graduate ...', 'Title: Machine Learning. Author: Mitchell, Tom M. (Tom Michael), 1951-. Note: main text c1997; additional chapters c2017. Link: PDF with commentary at CMU.', 'Machine Learning by Tom M. Mitchell 1997 Algorithms Learning Systems AI Paperbac. Pre-Owned. $30.00. Buy It Now. +$5.38 delivery. Located in United States.', 'This book covers the field of machine learning, which is the study of algorithms that allow computer programs to automatically improve through experience.', 'Find nearly any book by Tom M. Mitchell. Get the best deal by comparing prices from over 100000 booksellers.', \"I have finally gotten around to Tom Mitchell's book on machine learning and so far it's fantastic. Great mix of math and diagrams, very wordy, a bit repetitive.\"]\u001b[0m\n",
      "Thought:\u001b[32;1m\u001b[1;3mThought: The search results indicate that Tom M. Mitchell wrote the book \"Machine Learning\".\n",
      "Final Answer: Machine Learning\u001b[0m\n",
      "\n",
      "\u001b[1m> Finished chain.\u001b[0m\n"
     ]
    }
   ],
   "source": [
    "question = \"Tom M. Mitchell is an American computer scientist \\\n",
    "and the Founders University Professor at Carnegie Mellon University (CMU)\\\n",
    "what book did he write?\"\n",
    "result = agent(question) "
   ]
  },
  {
   "cell_type": "markdown",
   "id": "8eeedb43",
   "metadata": {
    "slideshow": {
     "slide_type": "subslide"
    }
   },
   "source": [
    "### Agents - Combine with memory\n",
    "- Agents can be combined with memory to maintain context across multiple interactions.\n",
    "- This allows the agent to remember past actions and observations, making it more effective in complex tasks"
   ]
  },
  {
   "cell_type": "code",
   "execution_count": 182,
   "id": "7b6fe276",
   "metadata": {
    "slideshow": {
     "slide_type": "fragment"
    }
   },
   "outputs": [],
   "source": [
    "memory = ConversationBufferMemory(memory_key=\"chat_history\")\n",
    "agent = initialize_agent(\n",
    "    [get_weather], \n",
    "    chat_gemini, \n",
    "    agent=AgentType.CONVERSATIONAL_REACT_DESCRIPTION,\n",
    "    handle_parsing_errors=True,\n",
    "    verbose = False,\n",
    "    memory=memory,\n",
    ")"
   ]
  },
  {
   "cell_type": "code",
   "execution_count": 183,
   "id": "11d581c2",
   "metadata": {
    "slideshow": {
     "slide_type": "fragment"
    }
   },
   "outputs": [
    {
     "data": {
      "text/plain": [
       "{'input': 'Hello! My name is Gianluca.. What is the weather like in London?',\n",
       " 'chat_history': '',\n",
       " 'output': 'Hello Gianluca! The current weather in London is 26 degrees.\\n```'}"
      ]
     },
     "execution_count": 183,
     "metadata": {},
     "output_type": "execute_result"
    }
   ],
   "source": [
    "await agent.ainvoke(\"Hello! My name is Gianluca.. What is the weather like in London?\")"
   ]
  },
  {
   "cell_type": "code",
   "execution_count": 184,
   "id": "12b9f25c",
   "metadata": {
    "slideshow": {
     "slide_type": "fragment"
    }
   },
   "outputs": [
    {
     "data": {
      "text/plain": [
       "{'input': 'What is my name?',\n",
       " 'chat_history': 'Human: Hello! My name is Gianluca.. What is the weather like in London?\\nAI: Hello Gianluca! The current weather in London is 26 degrees.\\n```',\n",
       " 'output': 'Your name is Gianluca.\\n```'}"
      ]
     },
     "execution_count": 184,
     "metadata": {},
     "output_type": "execute_result"
    }
   ],
   "source": [
    "await agent.ainvoke(\"What is my name?\")"
   ]
  },
  {
   "cell_type": "markdown",
   "id": "4a59c1c5",
   "metadata": {
    "slideshow": {
     "slide_type": "subslide"
    }
   },
   "source": [
    "### Agents - Can Agents Run Arbitrary Python Code?\n",
    "\n",
    "- Since ReAct agents can use arbitrary tools, they are also capable of executing Python code.\n",
    "- This enables agents to perform complex calculations, data processing, or any other programmable task.\n",
    "- **⚠️ Caution:**  \n",
    "    - Running arbitrary code is powerful but introduces significant security risks if not properly managed!\n",
    "    - Avoid allowing agents to execute unrestricted code whenever possible.\n",
    "    - If code execution is necessary, use a sandboxed environment or dedicated, well-audited tools for specific tasks (e.g., math, data processing).\n",
    "    - Prefer using specialized tools over generic code execution to minimize risk and improve reliability.\n"
   ]
  },
  {
   "cell_type": "code",
   "execution_count": 185,
   "id": "cf4e18ea",
   "metadata": {
    "slideshow": {
     "slide_type": "subslide"
    }
   },
   "outputs": [],
   "source": [
    "from langchain.agents import tool\n",
    "\n",
    "@tool\n",
    "def execute_python_code(code: str) -> str:\n",
    "    \"\"\"\n",
    "    Execute the given Python code and return the result.\n",
    "    \"\"\"\n",
    "    try:\n",
    "        local_vars = {}\n",
    "        # remove ```python and ``` from the code\n",
    "        code = code.strip().replace(\"```python\", \"\").replace(\"```\", \"\")\n",
    "        exec(code, {}, local_vars)\n",
    "        if 'result' in local_vars:\n",
    "            return str(local_vars['result'])\n",
    "        return \"Code executed successfully.\"\n",
    "    except Exception as e:\n",
    "        return str(e)"
   ]
  },
  {
   "cell_type": "code",
   "execution_count": 186,
   "id": "7555287b",
   "metadata": {
    "slideshow": {
     "slide_type": "subslide"
    }
   },
   "outputs": [],
   "source": [
    "memory = ConversationBufferMemory(memory_key=\"chat_history\")\n",
    "agent = initialize_agent(\n",
    "    [execute_python_code], \n",
    "    chat_gemini, \n",
    "    agent=AgentType.CONVERSATIONAL_REACT_DESCRIPTION,\n",
    "    handle_parsing_errors=True,\n",
    "    verbose = False,\n",
    "    memory=memory,\n",
    ")"
   ]
  },
  {
   "cell_type": "code",
   "execution_count": 187,
   "id": "62a157fe",
   "metadata": {
    "slideshow": {
     "slide_type": "subslide"
    }
   },
   "outputs": [
    {
     "data": {
      "image/png": "[encoded data removed]",
      "text/plain": [
       "<Figure size 800x600 with 1 Axes>"
      ]
     },
     "metadata": {},
     "output_type": "display_data"
    },
    {
     "data": {
      "text/plain": [
       "{'input': 'Plot a fancy kde with different colors and style with matplotlib',\n",
       " 'chat_history': '',\n",
       " 'output': 'I have generated a fancy KDE plot with different colors and styles using matplotlib and scipy.stats. The plot displays the KDE for two different distributions, labeled as \"X Distribution\" (red, dashed line) and \"Y Distribution\" (blue, solid line). It includes labels, a title, a legend, a grid, and a custom background color.'}"
      ]
     },
     "execution_count": 187,
     "metadata": {},
     "output_type": "execute_result"
    }
   ],
   "source": [
    "agent.invoke(\"Plot a fancy kde with different colors and style with matplotlib\")"
   ]
  },
  {
   "cell_type": "code",
   "execution_count": 221,
   "id": "6042dd0a",
   "metadata": {
    "slideshow": {
     "slide_type": "subslide"
    }
   },
   "outputs": [],
   "source": [
    "memory = ConversationBufferMemory(memory_key=\"chat_history\")\n",
    "agent = initialize_agent(\n",
    "    [execute_python_code], \n",
    "    chat_gemini, \n",
    "    agent=AgentType.CONVERSATIONAL_REACT_DESCRIPTION,\n",
    "    handle_parsing_errors=True,\n",
    "    verbose = False,\n",
    "    memory=memory,\n",
    ")"
   ]
  },
  {
   "cell_type": "code",
   "execution_count": 222,
   "id": "85f6ef4a",
   "metadata": {
    "slideshow": {
     "slide_type": "subslide"
    }
   },
   "outputs": [
    {
     "data": {
      "text/plain": [
       "{'input': 'I have this data: [1, 2, 3, 7, 11]',\n",
       " 'chat_history': '',\n",
       " 'output': \"Okay, I see you have the data [1, 2, 3, 7, 11]. What would you like to do with it? I can help you calculate things like the mean, median, standard deviation, or perform other operations. Just let me know what you're interested in.\"}"
      ]
     },
     "execution_count": 222,
     "metadata": {},
     "output_type": "execute_result"
    }
   ],
   "source": [
    "agent.invoke(\"I have this data: [1, 2, 3, 7, 11]\")"
   ]
  },
  {
   "cell_type": "code",
   "execution_count": 223,
   "id": "a7ee60c8",
   "metadata": {
    "slideshow": {
     "slide_type": "fragment"
    }
   },
   "outputs": [
    {
     "data": {
      "image/png": "[encoded data removed]",
      "text/plain": [
       "<Figure size 640x480 with 1 Axes>"
      ]
     },
     "metadata": {},
     "output_type": "display_data"
    },
    {
     "data": {
      "text/plain": [
       "{'input': 'Plot them please',\n",
       " 'chat_history': \"Human: I have this data: [1, 2, 3, 7, 11]\\nAI: Okay, I see you have the data [1, 2, 3, 7, 11]. What would you like to do with it? I can help you calculate things like the mean, median, standard deviation, or perform other operations. Just let me know what you're interested in.\",\n",
       " 'output': 'I have plotted the data for you. You should be able to see a graph with the data points [1, 2, 3, 7, 11] plotted against their index. The x-axis is labeled \"Index\", the y-axis is labeled \"Value\", and the plot has a title \"Plot of Data\". A grid is also displayed on the plot.'}"
      ]
     },
     "execution_count": 223,
     "metadata": {},
     "output_type": "execute_result"
    }
   ],
   "source": [
    "agent.invoke(\"Plot them please\")"
   ]
  },
  {
   "cell_type": "markdown",
   "id": "6ce1e8ce",
   "metadata": {
    "slideshow": {
     "slide_type": "subslide"
    }
   },
   "source": [
    "### Agents - Modelling Example\n",
    "- **Goal:** Create an agent that help you for financial advices:\n",
    "- **Tools**:\n",
    "    - **search_stock_data**: Search for stock data.\n",
    "    - **search_company_info**: Search for company information.\n",
    "- With those tools, the agent can:\n",
    "    - Search for stock data and company information.\n",
    "    - Provide insights and recommendations based on the retrieved data.\n",
    "\n"
   ]
  },
  {
   "cell_type": "code",
   "execution_count": 191,
   "id": "4ef0426b",
   "metadata": {
    "slideshow": {
     "slide_type": "fragment"
    }
   },
   "outputs": [],
   "source": [
    "from langchain_community.utilities import SerpAPIWrapper\n",
    "\n",
    "@tool\n",
    "def search_company_news(company_name: str) -> str:\n",
    "    \"\"\"\n",
    "    Use this tool to find recent news articles and headlines about a specific company.\n",
    "    The input should be the company's full name (e.g., 'NVIDIA', 'Microsoft').\n",
    "    This provides qualitative context.\n",
    "    \"\"\"\n",
    "    print(f\"--- Searching for news about: {company_name} ---\")\n",
    "    # For news, we target the Google News engine specifically for better results.\n",
    "    search = SerpAPIWrapper(params={\"engine\": \"google_news\", \"tbm\": \"nws\"})\n",
    "    query = f\"latest news on {company_name}\"\n",
    "    return search.run(query)\n"
   ]
  },
  {
   "cell_type": "code",
   "execution_count": 192,
   "id": "b4305038",
   "metadata": {
    "slideshow": {
     "slide_type": "subslide"
    }
   },
   "outputs": [],
   "source": [
    "@tool\n",
    "def search_stock_data(company_ticker: str) -> str:\n",
    "    \"\"\"\n",
    "    Use this tool to get the current stock price, market cap, and other key financial metrics\n",
    "    for a company. The input should be the company's stock ticker symbol (e.g., 'NVDA', 'GOOGL', 'MSFT').\n",
    "    \"\"\"\n",
    "    print(f\"--- Searching for stock data for ticker: {company_ticker} ---\")\n",
    "    # A standard Google search for a stock ticker is very effective.\n",
    "    # SerpAPI will return the contents of the Google Finance widget.\n",
    "    search = SerpAPIWrapper()\n",
    "    query = f\"{company_ticker} stock price\"\n",
    "    return search.run(query)"
   ]
  },
  {
   "cell_type": "code",
   "execution_count": 193,
   "id": "aff70ff2",
   "metadata": {
    "slideshow": {
     "slide_type": "subslide"
    }
   },
   "outputs": [
    {
     "name": "stdout",
     "output_type": "stream",
     "text": [
      "--- Searching for stock data for ticker: MSFT ---\n",
      "--- Searching for news about: Microsoft ---\n"
     ]
    },
    {
     "data": {
      "text/plain": [
       "{'input': 'Give me a financial snapshot of Microsoft (MSFT). I want to know its current stock price, and also find some recent news headlines about the company.',\n",
       " 'output': \"The current stock price for Microsoft (MSFT) is $497.41. Here are some recent news headlines about the company:\\n\\n*   All-new Surface Copilot+ PCs arrive in Singapore: The Surface Pro, 12-inch and Surface Laptop, 13-inch\\n*   Microsoft says new AI tool can diagnose patients 4 times more accurately than human doctors\\n*   Microsoft AI CEO Mustafa Suleyman: AI can provide complex medical support, diagnoses\\n*   Brave New Kernel: Microsoft Previews Safer Windows Ecosystem\\n*   Windows is getting rid of the Blue Screen of Death after 40 years\\n*   Microsoft’s (MSFT) Latest Medical AI Tool Can Now Outperform Doctors\\n*   AI vs. MDs: Microsoft AI tool outperforms doctors in diagnosing complex medical cases\\n*   Microsoft breaks out to new highs. What the charts say to do from here\\n*   Amid Rumors Of Halo On PS5 And Switch 2, Microsoft Confirms Halo News Is Coming\\n*   Microsoft releases first preview of Windows 11 25H2 update for these users\\n*   New Windows 11 update fixes a black screen bug that's one of the most annoying to hit PC gamers in quite some time\\n*   Microsoft opens new AI for manufacturing Co-Innovation Lab in Wisconsin\\n*   Microsoft retires Blue Screen of Death after 40 years\\n*   Windows 12 release is pushed back at least another year as Microsoft announces Windows 11 version 25H2\\n*   Microsoft to change Windows's infamous Blue Screen of Death to something much darker in response to last year's CloudStrike crashes\\n*   Microsoft's new AI beats doctors at diagnosing complex health conditions\\n*   Microsoft Edge's latest stable channel update adds MORE AI — All Copilot all the time\\n*   Still hoping for Windows 12 this year? Forget about that, as Windows 11 25H2 is now confirmed as a minor update - but there's good news too\\n*   Microsoft Shares Latest Findings from 2025 Work Trend Index: Unlocking Indonesia’s Potential Through Human-AI Collaboration – Indonesia News Center\\n*   Windows seemingly lost 400 million users in the past three years — official Microsoft statements show hints of a shrinking user base\\n*   Microsoft claims its new medical AI tool is 4x more accurate than doctors\\n*   Free Microsoft Flight Simulator update expands New York and beyond\\n*   Microsoft (MSFT) Just Got a New $530 Target — Here’s What’s Driving It\\n*   Microsoft’s sketchy Win 10 vs Win 11 performance claims pit a 9-year-old PC against a modern machine to claim 2.3X gain\\n*   Microsoft claims AI diagnostic tool can outperform doctors\\n*   :( Microsoft’s ‘Blue Screen of Death’ Is Going Away\\n*   Windows 11 KB5060829 update released with 38 new changes, fixes\\n*   One of France's largest cities has now also ditched Microsoft for open source software\\n*   Microsoft to Preview New Windows Endpoint Security Platform After CrowdStrike Outage\\n*   RIFT - Microsoft's New Open-Source Tool to Analyze Malware in Rust Binaries\\n*   Microsoft says goodbye to the Windows blue screen of death\\n*   Windows Blue screen of death axed after 40 years, but BSOD still remains — will be replaced by new black Windows 11 'unexpected restart screen'\\n*   Microsoft to Retire the Blue Screen of Death (Again) for a Black Void\\n*   Microsoft’s new AI agent for Windows 11 can manage settings for you\\n*   Is Microsoft’s new Mu for you?\\n*   Microsoft's own AI chip delayed six months in major setback — in-house chip now reportedly expected in 2026, but won't hold a candle to Nvidia Blackwell\\n*   What’s new in Copilot Studio: May 2025\\n*   Microsoft's AI Bet Is Paying Off Big\\n*   Microsoft is phasing out passwords soon – here's why passkeys are replacing them and what to do next\\n*   Microsoft Developer head to employees: Using … is no longer optional, as company considers another change\\n*   News and updates from Microsoft Security\\n*   This new 4K Samsung monitor does everything, including emptying your wallet for features you may never use\\n*   Microsoft Ads gets granular with new asset-level reviews\\n*   All the Azure news you don’t want to miss from Microsoft Build 2025\\n*   Microsoft Build 2025\\n*   Why Microsoft Stock Continues Hitting All-Time Highs?\\n*   Microsoft fixes Outlook bug causing crashes when opening emails\\n*   Surface and Windows May 6 news\\n*   Microsoft’s Majorana 1 chip carves new path for quantum computing - Source\\n*   Microsoft Build 2025: The age of AI agents and building the open agentic web\\n*   Microsoft Extends Windows 10 Security Updates for One Year with New Enrollment Options\\n*   Microsoft fixes known issue that breaks Windows 11 updates\\n*   3 new ways AI agents can help you do even more\\n*   Microsoft transfers a top cybersecurity exec: As we continue to ..., says internal memo\\n*   Is ChatGPT making us dumber? A new MIT study claims using AI tools causes cognitive issues, and it’s not the first – Microsoft has already warned about ‘diminished independent problem-solving’\\n*   Satya Nadella Warns: AI's Power Problem and Microsoft's New Focus\\n*   Pushing passkeys forward: Microsoft’s latest updates for simpler, safer sign-ins\\n*   New US visa rule, Amazon announces dates for its biggest sale of the year, Microsoft kills Blue Screen of\\n*   Microsoft planning thousands of job cuts aimed at salespeople, Bloomberg News reports\\n*   Announcing a new strategic collaboration to bring clarity to threat actor naming\\n*   Microsoft Releases Famous Flyer 12: The Piper PA-28-236 Dakota\\n*   How to follow tech trends and news with AI\\n*   I’ve Been Following the Windows 12 Rumors—Here’s What I Think Is Coming for Microsoft's Next OS\\n*   How real-world businesses are transforming with AI — with 261 new stories\\n*   Tech layoffs June 2025: Microsoft, Google, Disney, ZoomInfo join the list of companies said to be shedding jobs\\n*   Microsoft integrates 1Password with Windows 11 for passkey-based sign-ins\\n*   How to Stay on Windows 10 Without Paying $30: Microsoft Has 2 New Options\\n*   Meet the Deputy CISOs who help shape Microsoft’s approach to cybersecurity: Part 2\\n*   Introducing Microsoft 365 Copilot Tuning, multi-agent orchestration, and more from Microsoft Build 2025\\n*   Microsoft layoffs: Xbox team reportedly faces new wave of cuts amid strategic overhaul\\n*   Stay Ahead with the Latest from Copilot\\n*   Microsoft Dragon Copilot provides the healthcare industry’s first unified voice AI assistant that enables clinicians to streamline clinical documentation, surface information and automate tasks - Source\\n*   Transforming R&D with agentic AI: Introducing Microsoft Discovery\\n*   Microsoft Ignite 2024\\n*   Multi-agent orchestration, maker controls, and more: Microsoft Copilot Studio announcements at Microsoft Build 2025\\n*   What’s new in Power Apps: April 2025 Feature Update\\n*   From sea to sky: Microsoft’s Aurora AI foundation model goes beyond weather forecasting - Source\\n*   Microsoft 50th Anniversary + Copilot event\\n*   Microsoft beats Q3 earnings estimates on top and bottom line on strong cloud bookings\\n*   Microsoft unveils Microsoft Security Copilot agents and new protections for AI\\n*   Microsoft announces new European digital commitments - Microsoft On the Issues\\n*   Microsoft launches new European Security Program\\n*   What's New in Microsoft 365 — April 2025\\n*   What’s new in Power Apps: February 2025 Feature Update\\n*   Microsoft launches new Surface Copilot+ PCs for Business to empower professionals across the Middle East to enhance productivity and accelerate AI innovation\\n*   5 ways AI is changing healthcare\\n*   Microsoft Work Trend Index 2025 report reveals the “Frontier Firms” is born, a new organization blueprint is emerging\\n*   Microsoft links recent Microsoft 365 outage to buggy update\\n*   Microsoft’s new genAI model to power agents in Windows 11\\n*   New innovations in Microsoft Purview for protected, AI-ready data\\n*   Microsoft Planning Thousands More Job Cuts Aimed at Salespeople\\n*   What's New in Microsoft 365 — May 2025\\n*   Microsoft June 2025 Patch Tuesday fixes exploited zero-day, 66 flaws\\n*   What’s new in Copilot Studio: April 2025\\n*   Microsoft 2025 annual Work Trend Index\\n*   Meet Microsoft Dragon Copilot: Your new AI assistant for clinical workflow\\n*   Microsoft unveils Majorana 1, the world’s first quantum processor powered by topological qubits\\n*   Microsoft and NVIDIA accelerate AI development and performance\\n*   3 Actively Exploited Zero-Day Flaws Patched in Microsoft's Latest Security Update\\n*   Announcing new Microsoft Dataverse capabilities for multi-agent operations\"}"
      ]
     },
     "execution_count": 193,
     "metadata": {},
     "output_type": "execute_result"
    }
   ],
   "source": [
    "from dotenv import load_dotenv\n",
    "load_dotenv()  # Load environment variables from .env file\n",
    "\n",
    "agent = initialize_agent(\n",
    "    [search_stock_data, search_company_news],\n",
    "    chat_gemini,\n",
    "    agent=AgentType.CHAT_ZERO_SHOT_REACT_DESCRIPTION,\n",
    "    handle_parsing_errors=True,\n",
    "    verbose=False\n",
    ")\n",
    "\n",
    "agent.invoke(\"Give me a financial snapshot of Microsoft (MSFT). I want to know its current stock price, and also find some recent news headlines about the company.\")"
   ]
  },
  {
   "cell_type": "markdown",
   "id": "f2766c4d",
   "metadata": {
    "slideshow": {
     "slide_type": "slide"
    }
   },
   "source": [
    "### Vector Stores -- Extra\n",
    "- A **vector store** is a specialized database designed to efficiently store and retrieve high-dimensional vectors, such as embeddings generated by language models.\n",
    "\n",
    "- **Why use a vector store?**\n",
    "    - Enables **fast similarity search** and retrieval based on *semantic meaning* (not just keywords).\n",
    "    - Supports applications like **semantic search**, **question answering**, and **recommendation systems**.\n",
    "\n",
    "- **How does it work?**\n",
    "    - Stores vectors (embeddings) representing documents, images, or other data.\n",
    "    - When you query, it finds items with vectors *closest* to your query vector (using distance metrics like cosine similarity).\n",
    "\n",
    "- **Think of it as \"semantic memory\":**\n",
    "    - Retrieve information that is *similar in meaning*, even if the exact words are different.\n",
    "\n",
    "- **Popular vector stores:** FAISS, Pinecone, Chroma, Weaviate, Milvus, Qdrant, etc."
   ]
  },
  {
   "cell_type": "markdown",
   "id": "91ba2834",
   "metadata": {
    "slideshow": {
     "slide_type": "subslide"
    }
   },
   "source": [
    "<p align=\"center\">\n",
    "    <img src=\"data/vector-store.png\" alt=\"Vector Store Overview\" style=\"display: block; margin: 0 auto; width: 100%;\">\n",
    "</p>"
   ]
  },
  {
   "cell_type": "code",
   "execution_count": 194,
   "id": "88e26d3c",
   "metadata": {
    "slideshow": {
     "slide_type": "subslide"
    }
   },
   "outputs": [],
   "source": [
    "# Stores\n",
    "from langchain.vectorstores import DocArrayInMemorySearch\n",
    "# Retrievers\n",
    "from langchain.indexes import VectorstoreIndexCreator\n",
    "# Loaders\n",
    "from langchain.document_loaders import CSVLoader"
   ]
  },
  {
   "cell_type": "code",
   "execution_count": 230,
   "id": "7ece921c",
   "metadata": {
    "slideshow": {
     "slide_type": "fragment"
    }
   },
   "outputs": [],
   "source": [
    "loader = CSVLoader(file_path='data/dataset.csv')\n",
    "index = VectorstoreIndexCreator(embedding=google_embeddings, vectorstore_cls=DocArrayInMemorySearch).from_loaders(loaders=[loader])"
   ]
  },
  {
   "cell_type": "code",
   "execution_count": 231,
   "id": "f3ba6aa2",
   "metadata": {
    "slideshow": {
     "slide_type": "fragment"
    }
   },
   "outputs": [
    {
     "data": {
      "text/plain": [
       "[Document(metadata={'source': 'data/dataset.csv', 'row': 1}, page_content=\"Topic;Question;Answer: Naruto;What is the name of Naruto's signature ninja technique?;Rasengan\")]"
      ]
     },
     "execution_count": 231,
     "metadata": {},
     "output_type": "execute_result"
    }
   ],
   "source": [
    "index.vectorstore.search(\"Is rasengan a powerful attack?\", search_type=\"similarity\", k=1)"
   ]
  },
  {
   "cell_type": "code",
   "execution_count": 232,
   "id": "3d796269",
   "metadata": {
    "slideshow": {
     "slide_type": "subslide"
    }
   },
   "outputs": [
    {
     "name": "stdout",
     "output_type": "stream",
     "text": [
      "\n",
      "\n",
      "\u001b[1m> Entering new RetrievalQA chain...\u001b[0m\n",
      "\n",
      "\u001b[1m> Finished chain.\u001b[0m\n"
     ]
    },
    {
     "data": {
      "text/plain": [
       "'The best attack of Naruto is the \"Rasengan\" technique, which is a powerful and deadly ninja technique that involves using the power of the eyes to strike multiple enemies at once.'"
      ]
     },
     "execution_count": 232,
     "metadata": {},
     "output_type": "execute_result"
    }
   ],
   "source": [
    "smollm = OllamaLLM(model=\"smollm:360m\")\n",
    "index.query(\"What is the best attack of Naruto? Reply with just the attack (a word)\", llm=smollm, verbose=True)"
   ]
  },
  {
   "cell_type": "code",
   "execution_count": 233,
   "id": "0d01bb1f",
   "metadata": {
    "slideshow": {
     "slide_type": "fragment"
    }
   },
   "outputs": [
    {
     "data": {
      "text/plain": [
       "\"The best attack of Naruto!\\n\\nNaruto's most iconic and effective attacks are the ones that allow him to take down enemies, defeat bosses, or complete challenges. Here are some of the best attacks of Naruto:\\n\\n1. **Katana Attack**: The Katana is Naruto's signature weapon, and it's a powerful and deadly attack. It allows him to take down enemies quickly and easily, making it an essential part of his arsenal.\\n2. **Naruto's Swords**: Naruto's swords are designed for close combat and can be used in various ways, such as stabbing enemies or using them to deflect blows. They're also incredibly effective at taking down opponents who are not well-equipped.\\n3. **Boss Attacks**: Naruto's most famous attack is the Boss Attack, which allows him to take down massive bosses like the Troll King and the Troll Queen. This attack requires a high level of skill and strategy, but it can be very effective in taking down powerful enemies.\\n4. **Naruto's Swords**: The Swords are Naruto's signature weapon, and they're designed for close combat. They allow him to take down opponents quickly and easily, making them an essential part of his arsenal.\\n5. **Katana Attack with Swords**: This attack combines the Katana with swords, allowing Naruto to take down enemies quickly and efficiently. It's a powerful and effective way to take down tough foes.\\n6. **Naruto's Swords**: The Swords are Naruto's signature weapon, and they're designed for close combat. They allow him to take down opponents quickly and easily, making them an essential part of his arsenal.\\n7. **Katana Attack with Swords**: This attack combines the Katana with swords, allowing Naruto to take down enemies quickly and efficiently. It's a powerful and effective way to take down tough foes.\\n8. **Naruto's Swords**: The Swords are Naruto's signature weapon, and they're designed for close combat. They allow him to take down opponents quickly and easily, making them an essential part of his arsenal.\\n9. **Katana Attack with Swords**: This attack combines the Katana with swords, allowing Naruto to take down enemies quickly and efficiently. It's a powerful and effective way to take down tough foes.\\n10. **Naruto's Swords**: The Swords are Naruto's signature weapon, and they're designed for close combat. They allow him to take down opponents quickly and easily, making them an essential part of his arsenal.\\n\\nThese attacks are all powerful and effective ways to take down enemies in Naruto. They require skill, strategy, and practice to master, but they can be very effective when used correctly.\""
      ]
     },
     "execution_count": 233,
     "metadata": {},
     "output_type": "execute_result"
    }
   ],
   "source": [
    "smollm.invoke(\"What is the best attack of Naruto? Reply with just the attack (a word)\")"
   ]
  },
  {
   "cell_type": "markdown",
   "id": "15e6efde",
   "metadata": {
    "slideshow": {
     "slide_type": "subslide"
    }
   },
   "source": [
    "### Indexes: How Do We Evaluate Performance?\n",
    "\n",
    "- **Why evaluate?**  \n",
    "    To measure how well your agent or retrieval system answers questions or solves tasks.\n",
    "\n",
    "- **Evaluation workflow:**\n",
    "    1. **Generate test cases:**  \n",
    "         Use an LLM to automatically create realistic questions and answers from your documents or data.\n",
    "    2. **Run the agent:**  \n",
    "         Have your agent answer these questions.\n",
    "    3. **Score the results:**  \n",
    "         Compare the agent's answers to the ground truth using automated grading (LLM-based or rule-based).\n",
    "\n",
    "- **Benefits:**\n",
    "    - Identify strengths and weaknesses of your system.\n",
    "    - Track improvements as you iterate.\n",
    "    - Ensure reliability before deploying to users.\n",
    "\n",
    "- **Tip:**  \n",
    "    Automate test case generation and evaluation for scalable, repeatable benchmarking!"
   ]
  },
  {
   "cell_type": "code",
   "execution_count": 234,
   "id": "763f818e",
   "metadata": {
    "slideshow": {
     "slide_type": "subslide"
    }
   },
   "outputs": [],
   "source": [
    "# Evaluation? How to?\n",
    "file = 'data/long_dataset.csv'\n",
    "loader = CSVLoader(file_path=file)\n",
    "data = loader.load()"
   ]
  },
  {
   "cell_type": "code",
   "execution_count": 235,
   "id": "7076a889",
   "metadata": {
    "slideshow": {
     "slide_type": "fragment"
    }
   },
   "outputs": [],
   "source": [
    "index = VectorstoreIndexCreator(\n",
    "    vectorstore_cls=DocArrayInMemorySearch,\n",
    "    embedding=google_embeddings\n",
    ").from_loaders([loader])"
   ]
  },
  {
   "cell_type": "code",
   "execution_count": 236,
   "id": "c664ac51",
   "metadata": {
    "slideshow": {
     "slide_type": "fragment"
    }
   },
   "outputs": [
    {
     "data": {
      "text/plain": [
       "Document(metadata={'source': 'data/long_dataset.csv', 'row': 0}, page_content=\"Description: Itachi's actions were driven by a profound personal sacrifice to prevent a civil war. The Uchiha clan, feeling marginalized by the Konoha leadership, was planning a coup d'état. Faced with an ultimatum from Danzo Shimura, Itachi chose to single-handedly annihilate his clan, sparing only his younger brother, to prevent a much larger conflict that would have weakened the village and potentially led to another Great Ninja War. He shouldered the immense burden of being branded a traitor and a murderer, creating a villainous persona to push Sasuke to become strong enough to one day defeat him, hoping this would ultimately redeem the Uchiha name in the eyes of the village.\")"
      ]
     },
     "execution_count": 236,
     "metadata": {},
     "output_type": "execute_result"
    }
   ],
   "source": [
    "data[0]"
   ]
  },
  {
   "cell_type": "code",
   "execution_count": 244,
   "id": "bde7666f",
   "metadata": {
    "slideshow": {
     "slide_type": "fragment"
    }
   },
   "outputs": [],
   "source": [
    "from langchain.chains import RetrievalQA\n",
    "qa = RetrievalQA.from_chain_type(\n",
    "    llm=chat_gemini, \n",
    "    chain_type=\"stuff\", # \"stuff\" is a simple chain that concatenates documents and passes them to the LLM\n",
    "    retriever=index.vectorstore.as_retriever(), \n",
    "    verbose=False,\n",
    ")"
   ]
  },
  {
   "cell_type": "markdown",
   "id": "e6511ae6",
   "metadata": {
    "slideshow": {
     "slide_type": "subslide"
    }
   },
   "source": [
    "To generate test cases, LangChain exposes the `QAGenerateChain` utility."
   ]
  },
  {
   "cell_type": "code",
   "execution_count": 245,
   "id": "4b4d19f7",
   "metadata": {
    "slideshow": {
     "slide_type": "fragment"
    }
   },
   "outputs": [],
   "source": [
    "# How to evaluate? Dataset generation\n",
    "from langchain.evaluation.qa import QAGenerateChain\n",
    "example_gen_chain = QAGenerateChain.from_llm(llm=chat_gemini)\n"
   ]
  },
  {
   "cell_type": "code",
   "execution_count": 255,
   "id": "4ae2db30",
   "metadata": {
    "slideshow": {
     "slide_type": "fragment"
    }
   },
   "outputs": [
    {
     "name": "stderr",
     "output_type": "stream",
     "text": [
      "/home/gianluca/Teaching/woa-2025-intro-to-langchain/.venv/lib/python3.13/site-packages/langchain/chains/llm.py:370: UserWarning: The apply_and_parse method is deprecated, instead pass an output parser directly to LLMChain.\n",
      "  warnings.warn(\n"
     ]
    }
   ],
   "source": [
    "new_examples = example_gen_chain.apply_and_parse(\n",
    "    [{\"doc\": t} for t in data[:5]]\n",
    ")"
   ]
  },
  {
   "cell_type": "code",
   "execution_count": 247,
   "id": "af315cf3",
   "metadata": {
    "slideshow": {
     "slide_type": "fragment"
    }
   },
   "outputs": [
    {
     "data": {
      "text/plain": [
       "[{'qa_pairs': {'query': 'According to the document, what ultimatum was Itachi faced with that led to his decision to annihilate the Uchiha clan?',\n",
       "   'answer': 'Itachi was faced with an ultimatum from Danzo Shimura, which led him to choose to single-handedly annihilate his clan.'}},\n",
       " {'qa_pairs': {'query': 'According to the document, what fundamental difference in chakra control do the Rasengan and Chidori represent?',\n",
       "   'answer': 'The Rasengan represents the pinnacle of shape manipulation, while the Chidori represents the pinnacle of nature transformation.'}},\n",
       " {'qa_pairs': {'query': 'According to the document, what is the core philosophy of Konoha known as, and what does it state?',\n",
       "   'answer': \"The core philosophy of Konoha is known as the 'Will of Fire', which states that the entire village is a family and a shinobi's strength comes from their love and loyalty to their comrades and home.\"}},\n",
       " {'qa_pairs': {'query': \"According to the document, what was the primary personal tragedy that warped Nagato's ideology and led him to believe that true peace could only be achieved through immense pain and suffering?\",\n",
       "   'answer': 'The death of his friend Yahiko.'}},\n",
       " {'qa_pairs': {'query': \"According to the document, what specific event, orchestrated by Madara Uchiha, served as the catalyst for Obito Uchiha's descent into villainy?\",\n",
       "   'answer': \"The orchestrated death of Rin Nohara at the hands of Kakashi, which Obito witnessed after being saved by Madara Uchiha, served as the catalyst for Obito Uchiha's descent into villainy.\"}}]"
      ]
     },
     "execution_count": 247,
     "metadata": {},
     "output_type": "execute_result"
    }
   ],
   "source": [
    "new_examples"
   ]
  },
  {
   "cell_type": "code",
   "execution_count": 250,
   "id": "80bbceca",
   "metadata": {
    "slideshow": {
     "slide_type": "subslide"
    }
   },
   "outputs": [
    {
     "data": {
      "text/plain": [
       "'According to the document, Itachi was faced with an ultimatum from Danzo Shimura. He had to choose between annihilating his clan or face a much larger conflict that would have weakened the village and potentially led to another Great Ninja War.'"
      ]
     },
     "execution_count": 250,
     "metadata": {},
     "output_type": "execute_result"
    }
   ],
   "source": [
    "import langchain\n",
    "qa.run(new_examples[0]['qa_pairs'][\"query\"])"
   ]
  },
  {
   "cell_type": "code",
   "execution_count": 251,
   "id": "7b851519",
   "metadata": {
    "slideshow": {
     "slide_type": "fragment"
    }
   },
   "outputs": [],
   "source": [
    "langchain.debug = False\n",
    "from langchain.evaluation.qa import QAEvalChain\n",
    "eval_chain = QAEvalChain.from_llm(chat_gemini)\n",
    "queries = [ example['qa_pairs'] for example in new_examples ]\n",
    "predictions = qa.apply(queries)"
   ]
  },
  {
   "cell_type": "code",
   "execution_count": 252,
   "id": "63332f3a",
   "metadata": {
    "slideshow": {
     "slide_type": "fragment"
    }
   },
   "outputs": [],
   "source": [
    "graded_outputs = eval_chain.evaluate(queries, predictions)"
   ]
  },
  {
   "cell_type": "code",
   "execution_count": 253,
   "id": "1c2f28df",
   "metadata": {
    "slideshow": {
     "slide_type": "fragment"
    }
   },
   "outputs": [
    {
     "data": {
      "text/plain": [
       "{'results': 'CORRECT'}"
      ]
     },
     "execution_count": 253,
     "metadata": {},
     "output_type": "execute_result"
    }
   ],
   "source": [
    "graded_outputs[0]"
   ]
  },
  {
   "cell_type": "code",
   "execution_count": 254,
   "id": "b5584956",
   "metadata": {
    "slideshow": {
     "slide_type": "subslide"
    }
   },
   "outputs": [
    {
     "name": "stdout",
     "output_type": "stream",
     "text": [
      "Example 0:\n",
      "Question: According to the document, what ultimatum was Itachi faced with that led to his decision to annihilate the Uchiha clan?\n",
      "Real Answer: Itachi was faced with an ultimatum from Danzo Shimura, which led him to choose to single-handedly annihilate his clan.\n",
      "Predicted Answer: According to the document, Itachi was faced with an ultimatum from Danzo Shimura.\n",
      "Predicted Grade: CORRECT\n",
      "\n",
      "Example 1:\n",
      "Question: According to the document, what fundamental difference in chakra control do the Rasengan and Chidori represent?\n",
      "Real Answer: The Rasengan represents the pinnacle of shape manipulation, while the Chidori represents the pinnacle of nature transformation.\n",
      "Predicted Answer: According to the document, the Rasengan is the pinnacle of shape manipulation, while the Chidori is the pinnacle of nature transformation.\n",
      "Predicted Grade: CORRECT\n",
      "\n",
      "Example 2:\n",
      "Question: According to the document, what is the core philosophy of Konoha known as, and what does it state?\n",
      "Real Answer: The core philosophy of Konoha is known as the 'Will of Fire', which states that the entire village is a family and a shinobi's strength comes from their love and loyalty to their comrades and home.\n",
      "Predicted Answer: The core philosophy of Konoha is known as the 'Will of Fire'. It states that the entire village is a family and a shinobi's strength comes from their love and loyalty to their comrades and home. This love fosters a desire for peace and cooperation.\n",
      "Predicted Grade: CORRECT\n",
      "\n",
      "Example 3:\n",
      "Question: According to the document, what was the primary personal tragedy that warped Nagato's ideology and led him to believe that true peace could only be achieved through immense pain and suffering?\n",
      "Real Answer: The death of his friend Yahiko.\n",
      "Predicted Answer: According to the document, the primary personal tragedy that warped Nagato's ideology was the death of his friend Yahiko.\n",
      "Predicted Grade: CORRECT\n",
      "\n",
      "Example 4:\n",
      "Question: According to the document, what specific event, orchestrated by Madara Uchiha, served as the catalyst for Obito Uchiha's descent into villainy?\n",
      "Real Answer: The orchestrated death of Rin Nohara at the hands of Kakashi, which Obito witnessed after being saved by Madara Uchiha, served as the catalyst for Obito Uchiha's descent into villainy.\n",
      "Predicted Answer: The orchestrated death of Rin Nohara, at the hands of Kakashi, was the catalyst for Obito Uchiha's descent into villainy. Madara Uchiha manipulated this event to break Obito's spirit.\n",
      "Predicted Grade: CORRECT\n",
      "\n"
     ]
    }
   ],
   "source": [
    "for i, eg in enumerate(queries):\n",
    "    print(f\"Example {i}:\")\n",
    "    print(\"Question: \" + predictions[i]['query'])\n",
    "    print(\"Real Answer: \" + predictions[i]['answer'])\n",
    "    print(\"Predicted Answer: \" + predictions[i]['result'])\n",
    "    print(\"Predicted Grade: \" + graded_outputs[i]['results'])\n",
    "    print()"
   ]
  },
  {
   "cell_type": "markdown",
   "id": "9b527c5d",
   "metadata": {
    "slideshow": {
     "slide_type": "slide"
    }
   },
   "source": [
    "### Conclusion\n",
    "\n",
    "- **This was a brief overview of how to build autonomous agents with LangChain.**\n",
    "- We explored how to:\n",
    "    - **Use LLMs and embeddings** for language understanding and retrieval\n",
    "    - **Create prompts** and generate structured outputs\n",
    "    - **Build and compose chains and agents** for complex workflows\n",
    "    - **Use memory** to maintain conversational context\n",
    "- **LangChain is a powerful and flexible framework for building LLM-powered applications.**\n",
    "- The field is rapidly evolving, with alternative solutions like **LlamaIndex**, **LangGraph**, and more emerging.\n",
    "- **Thank you for following along—I hope you found this talk insightful and useful!**\n"
   ]
  }
 ],
 "metadata": {
  "kernelspec": {
   "display_name": "Python 3 (ipykernel)",
   "language": "python",
   "name": "python3"
  },
  "language_info": {
   "codemirror_mode": {
    "name": "ipython",
    "version": 3
   },
   "file_extension": ".py",
   "mimetype": "text/x-python",
   "name": "python",
   "nbconvert_exporter": "python",
   "pygments_lexer": "ipython3",
   "version": "3.13.3+"
  },
  "rise": {
   "center": true,
   "theme": "white"
  }
 },
 "nbformat": 4,
 "nbformat_minor": 5
}
