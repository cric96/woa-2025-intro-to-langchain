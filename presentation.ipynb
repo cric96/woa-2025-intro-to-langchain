{
 "cells": [
  {
   "cell_type": "markdown",
   "id": "cd38e076ba1efc24",
   "metadata": {
    "editable": true,
    "slideshow": {
     "slide_type": "slide"
    },
    "tags": []
   },
   "source": [
    "# Developing Autonomous Agents in Practice with LangChain\n",
    "\n",
    "---\n",
    "\n",
    "**Speaker:** Gianluca Aguzzi  \n",
    "**Email:** gianluca.aguzzi@unibo.it  \n",
    "**GitHub:** [cric96](https://github.com/cric96)\n",
    "\n"
   ]
  },
  {
   "cell_type": "markdown",
   "id": "ee90dd408fcb97d3",
   "metadata": {
    "editable": true,
    "slideshow": {
     "slide_type": "slide"
    },
    "tags": []
   },
   "source": [
    "## About Me\n",
    "<div style=\"display: flex; align-items: center; gap: 30px;\">\n",
    "\n",
    "<div style=\"flex-shrink: 0;\">\n",
    "    <img src=\"data/myself.jpeg\" alt=\"Gianluca Aguzzi\" style=\"border-radius: 50%; height: 150px; object-fit: cover;\">\n",
    "</div>\n",
    "<div style=\"flex: 1;\">\n",
    "\n",
    "### Gianluca Aguzzi\n",
    "\n",
    "- 🎓 _Postdoctoral Researcher_ at the University of Bologna\n",
    "- 🔬 Research Interests:\n",
    "    - Engineering *Large Scale* Distributed Systems\n",
    "    - Software Engineering 3.0 (*LLMs*, AI-assisted development)\n",
    "    - Application of AI in software engineering practices\n",
    "\n",
    "</div>\n",
    "</div>"
   ]
  },
  {
   "cell_type": "markdown",
   "id": "2e13bcdc",
   "metadata": {
    "editable": true,
    "slideshow": {
     "slide_type": "fragment"
    },
    "tags": []
   },
   "source": [
    "Ok, let's dive into LangChain and discover how to build applications with LLMs! 😊"
   ]
  },
  {
   "cell_type": "markdown",
   "id": "d272ff1a",
   "metadata": {
    "editable": true,
    "slideshow": {
     "slide_type": "slide"
    },
    "tags": []
   },
   "source": [
    "## Autonomous Agents\n",
    "> **Autonomous agents** are <u>software entities</u> that can perform *tasks* or make decisions **without human intervention**.\n",
    "\n",
    "\n",
    "- **Autonomous?**\n",
    "    - Operate *independently*, making decisions based on their *programming* and *learned* experiences (via environment interactions).\n",
    "- This is a **long-standing research topic in AI**\n",
    "- Recently, **LLMs** have been used to create agents (perhaps not completely autonomous)\n",
    "- **How can LLMs be conceived as _agents_?**"
   ]
  },
  {
   "cell_type": "markdown",
   "id": "041b801e-d731-4dec-b53f-01804a24bc0a",
   "metadata": {
    "editable": true,
    "slideshow": {
     "slide_type": "subslide"
    },
    "tags": []
   },
   "source": [
    "## LLM - In a Nutshell\n",
    "> A **Language Model** is a Machine Learning model which is able to **understand and generate human language**\n",
    "\n",
    "- **How does it work internally?**\n",
    "    - Long story, please look at:\n",
    "    - ... But in a nutshell, it takes a sentence and tries to **predict the next token**\n",
    "- **Only that?**\n",
    "    - Yes (more or less), an LM has **no _memory_**, **no _environment interaction_**, or anything else\n",
    "- ... But we can **instrument these models to use external tools** (or to be **chained** with each other) to make them **powerful agents**! 😊\n"
   ]
  },
  {
   "cell_type": "markdown",
   "id": "ebcedd50",
   "metadata": {
    "editable": true,
    "slideshow": {
     "slide_type": "subslide"
    },
    "tags": []
   },
   "source": [
    "## LLMs Panorama: How to Use Them? 🌐🤖\n",
    "\n",
    "Access LLMs through various providers and models:\n",
    "- **API Providers**: \n",
    "    - OpenAI, Anthropic, Google, etc.\n",
    "- **Open Source Models** (HuggingFace): \n",
    "    - Llama 2, Falcon, Mistral, etc.\n",
    "\n",
    "- **Goals**:\n",
    "    - Seamlessly switch between providers. 🔄\n",
    "    - Flexibly use different models. 🛠️\n",
    "    - Integrate multiple providers for diverse use cases. 🌈\n"
   ]
  },
  {
   "cell_type": "markdown",
   "id": "5fc71742",
   "metadata": {
    "editable": true,
    "slideshow": {
     "slide_type": "subslide"
    },
    "tags": []
   },
   "source": [
    "## LLM Applications: How to Build Them? \n",
    "- Challenges in Building Applications with LLMs:\n",
    "    - **Input Parsing**: How to effectively process user inputs? \n",
    "    - **Output Formatting**: How to structure responses for clarity and usability? \n",
    "    - **Error Handling**: How to manage unexpected behaviors or failures? \n",
    "    - **Conversation Management**: How to maintain context in multi-turn interactions? \n",
    "    - **External Data Integration**: How to connect with databases, APIs, or other data sources? \n",
    "    - **Workflow Orchestration**: How to seamlessly integrate multiple steps or components? \n"
   ]
  },
  {
   "cell_type": "markdown",
   "id": "f1c59b24",
   "metadata": {
    "editable": true,
    "slideshow": {
     "slide_type": "fragment"
    },
    "tags": []
   },
   "source": [
    "**Solution**: This is where **LangChain** excels! "
   ]
  },
  {
   "cell_type": "markdown",
   "id": "cb9417c7",
   "metadata": {
    "editable": true,
    "slideshow": {
     "slide_type": "slide"
    },
    "tags": []
   },
   "source": [
    "## LangChain - Overview \n",
    "> **The** platform for reliable agents\n",
    "\n",
    "<p align=\"center\">\n",
    "    <img src=\"data/base.png\" alt=\"LangChain Overview\" style=\"display: block; margin: 0 auto; width: 50%;\">\n",
    "</p>\n",
    "\n",
    "<p align=\"center\">\n",
    "    <a href=\"https://www.langchain.com/\" target=\"_blank\" style=\"font-size:1.3em; font-weight:bold; text-decoration:none;\">\n",
    "        🌐 Visit the LangChain Website &rarr; langchain.com\n",
    "    </a>\n",
    "</p>\n"
   ]
  },
  {
   "cell_type": "markdown",
   "id": "37d99162",
   "metadata": {
    "editable": true,
    "slideshow": {
     "slide_type": "slide"
    },
    "tags": []
   },
   "source": [
    "## LangChain - Models\n",
    "\n",
    "**LangChain provides a _unified interface_ for interacting with a wide range of Large Language Models (LLMs):**\n",
    "\n",
    "- **Supports major providers** such as **OpenAI**, **Anthropic**, **Google**, and a variety of open-source models from **HuggingFace**.\n",
    "- **Enables seamless integration** of different LLMs within a single application.\n",
    "- **Includes support for embeddings**, which are essential for tasks like semantic search, text similarity, and information retrieval.\n",
    "\n",
    "<p align=\"center\">\n",
    "    <img src=\"data/models.png\" alt=\"LangChain Overview\" style=\"display: block; margin: 0 auto; width: 50%;\">\n",
    "</p>"
   ]
  },
  {
   "cell_type": "markdown",
   "id": "c8d465ca",
   "metadata": {
    "editable": true,
    "slideshow": {
     "slide_type": "subslide"
    },
    "tags": []
   },
   "source": [
    "### LLMs providers\n",
    "- An LLM is essentially a **function** that takes a string as input and returns a string as output.\n",
    "- The main method to interact with an LLM is the `invoke` method:\n",
    "- This provides a **uniform interface** to interact with LLMs, regardless of the provider or model used.\n",
    "\n",
    "<p align=\"center\">\n",
    "    <img src=\"data/invoke.png\" alt=\"Base Api\" style=\"display: block; margin: 0 auto; width: 50%;\">\n",
    "</p>\n"
   ]
  },
  {
   "cell_type": "markdown",
   "id": "1d669ee3",
   "metadata": {
    "editable": true,
    "slideshow": {
     "slide_type": "subslide"
    },
    "tags": []
   },
   "source": [
    "### Ollama\n",
    "Is a local LLM provider that allows you to run models on your own machine.\n",
    "See [Ollama](https://ollama.com/) for more details.\n"
   ]
  },
  {
   "cell_type": "code",
   "execution_count": 1,
   "id": "fe682816",
   "metadata": {
    "ExecuteTime": {
     "end_time": "2025-06-26T16:27:07.847272Z",
     "start_time": "2025-06-26T16:27:07.539408Z"
    },
    "editable": true,
    "slideshow": {
     "slide_type": ""
    },
    "tags": []
   },
   "outputs": [
    {
     "data": {
      "text/plain": [
       "'Machine learning is a branch of artificial intelligence that allows computers to learn from data without being explicitly programmed. It involves using algorithms and statistical models to make predictions or decisions based on patterns found in the input data, improving as it processes more examples.'"
      ]
     },
     "execution_count": 1,
     "metadata": {},
     "output_type": "execute_result"
    }
   ],
   "source": [
    "# import langchain gemini and ollama\n",
    "from langchain_ollama.llms import OllamaLLM\n",
    "qwen = OllamaLLM(model=\"qwen2.5:1.5b\")\n",
    "# Example query\n",
    "qwen.invoke(\"Explain machine learning in simple terms (max 50 words)\")  \n"
   ]
  },
  {
   "cell_type": "markdown",
   "id": "daefb0de",
   "metadata": {
    "editable": true,
    "slideshow": {
     "slide_type": "subslide"
    },
    "tags": []
   },
   "source": [
    "### Gemini\n",
    "- **Gemini** is a chat-oriented language model developed by Google.\n",
    "- Designed for multi-turn conversations and advanced dialogue management.\n",
    "- Suitable for tasks requiring context retention and conversational flow.\n",
    "- For usage details, refer to [Google AI Studio](https://aistudio.google.com/prompts/new_chat)."
   ]
  },
  {
   "cell_type": "code",
   "execution_count": 2,
   "id": "9656ee85b1327641",
   "metadata": {
    "ExecuteTime": {
     "end_time": "2025-06-26T16:27:10.537385Z",
     "start_time": "2025-06-26T16:27:09.705128Z"
    },
    "editable": true,
    "slideshow": {
     "slide_type": ""
    },
    "tags": []
   },
   "outputs": [
    {
     "data": {
      "text/plain": [
       "'Machine learning teaches computers to learn from data without explicit programming. It identifies patterns and makes predictions or decisions based on that data, improving its accuracy over time.'"
      ]
     },
     "execution_count": 2,
     "metadata": {},
     "output_type": "execute_result"
    }
   ],
   "source": [
    "# Same for gemini\n",
    "from dotenv import load_dotenv # used to load environment variables\n",
    "load_dotenv()  # Load environment variables from .env file\n",
    "from langchain_google_genai import GoogleGenerativeAI\n",
    "gemini = GoogleGenerativeAI(model=\"gemini-2.0-flash\", temperature=0.0)\n",
    "gemini.invoke(\"Explain machine learning in simple terms (max 50 words)\")  # Example query"
   ]
  },
  {
   "cell_type": "markdown",
   "id": "5864066a-eee5-4343-887e-a1b5dd675fc4",
   "metadata": {
    "editable": true,
    "jp-MarkdownHeadingCollapsed": true,
    "slideshow": {
     "slide_type": "subslide"
    },
    "tags": []
   },
   "source": [
    "### Base Language Model\n",
    "\n",
    "- **Abstract base class** in LangChain for all LLMs.\n",
    "- Ensures a **unified interface** across providers.\n",
    "- Every LLM provider **implements this class** for compatibility.\n",
    "\n",
    "<p align=\"center\">\n",
    "        <img src=\"data/base-structure.png\" alt=\"Structure\" style=\"display: block; margin: 0 auto; width: 50%;\">\n",
    "</p>\n"
   ]
  },
  {
   "cell_type": "code",
   "execution_count": 3,
   "id": "5f452d638eea2977",
   "metadata": {
    "ExecuteTime": {
     "end_time": "2025-06-26T16:27:12.189893Z",
     "start_time": "2025-06-26T16:27:12.183649Z"
    },
    "editable": true,
    "slideshow": {
     "slide_type": "fragment"
    },
    "tags": []
   },
   "outputs": [],
   "source": [
    "from langchain_core.language_models.base import BaseLanguageModel\n",
    "\n",
    "def explain_topic(llm: BaseLanguageModel, topic: str) -> str:\n",
    "    \"\"\" A general explain topic functionality base on an LLM\"\"\"\n",
    "    query = f\"Explain {topic} in simple terms? (max 50 words)\"\n",
    "    response = llm.invoke(query)\n",
    "    return response"
   ]
  },
  {
   "cell_type": "code",
   "execution_count": 4,
   "id": "4f6604071eb2996f",
   "metadata": {
    "ExecuteTime": {
     "end_time": "2025-06-26T16:27:15.433576Z",
     "start_time": "2025-06-26T16:27:13.721173Z"
    }
   },
   "outputs": [
    {
     "data": {
      "text/plain": [
       "(\"London is the capital of England and the United Kingdom. It's a huge, diverse city with a rich history, famous landmarks like Big Ben and Buckingham Palace, and a vibrant cultural scene. It's a global hub for finance, fashion, and the arts.\",\n",
       " \"London is the capital city of England and the United Kingdom. It's known for its historic landmarks like Big Ben and Buckingham Palace, modern skyscrapers, and vibrant culture including music, theater, and art. The city has a rich history dating back centuries with contributions to technology, literature, and politics.\")"
      ]
     },
     "execution_count": 4,
     "metadata": {},
     "output_type": "execute_result"
    }
   ],
   "source": [
    "explain_topic(gemini, \"London\"), explain_topic(qwen, \"London\")"
   ]
  },
  {
   "cell_type": "markdown",
   "id": "51ab3f7a",
   "metadata": {
    "editable": true,
    "slideshow": {
     "slide_type": "subslide"
    },
    "tags": []
   },
   "source": [
    "### Chat Models\n",
    "- **Normal LLMs** are seen as simple __stateless__ functions.\n",
    "- **Chat models** are more advanced: they can handle **conversations** with multiple turns.\n",
    "- **How?**\n",
    "    - They use a **list of messages** as input, where each message has a role (**user**, **assistant**, **system**, etc.).\n",
    "- The `invoke` method is used to send a list of messages to the model and get a response.\n",
    "- **Note:**  \n",
    "    - Even for chat models, the model itself is **stateless**: the conversation history is **not stored by the model**—it's up to the user (or application) to manage and provide the history.\n",
    "\n",
    "<p align=\"center\">\n",
    "    <img src=\"data/overview-chat-models.png\" alt=\"Structure\" style=\"display: block; margin: 0 auto; width: 50%;\">\n",
    "</p>\n",
    "\n"
   ]
  },
  {
   "cell_type": "markdown",
   "id": "3a1b5dbf",
   "metadata": {
    "editable": true,
    "slideshow": {
     "slide_type": "subslide"
    },
    "tags": []
   },
   "source": [
    "### Chat Models vs BaseModel\n",
    "| Aspect                   | Base Model           | Chat Model                  |\n",
    "| ------------------------ | -------------------- | --------------------------- |\n",
    "| **Input**                | Plain text prompt    | List of structured messages |\n",
    "| **Designed for**         | One-shot completions | Multi-turn conversations    |\n",
    "| **Output**               | Text completion      | Message object              |\n",
    "| **Classes in LangChain** | `BaseLanguageModel`                | `BaseChatModel`                 |\n"
   ]
  },
  {
   "cell_type": "code",
   "execution_count": 5,
   "id": "daf19ec2",
   "metadata": {
    "editable": true,
    "slideshow": {
     "slide_type": ""
    },
    "tags": []
   },
   "outputs": [
    {
     "data": {
      "text/plain": [
       "AIMessage(content='Imagine you\\'re teaching a dog a new trick, like \"fetch.\" You don\\'t tell the dog exactly how to run, grab the ball, and bring it back. Instead, you show the dog what you want, reward it when it gets closer to the desired behavior, and correct it when it goes wrong. Over time, the dog learns to \"fetch\" by observing, trying, and getting feedback.\\n\\n**Machine learning is similar!**\\n\\nInstead of a dog, we have a computer. Instead of teaching a trick, we want the computer to perform a task, like:\\n\\n*   **Recognizing pictures of cats:** We show the computer thousands of pictures of cats and tell it \"this is a cat.\"\\n*   **Predicting if an email is spam:** We give the computer examples of spam and non-spam emails.\\n*   **Recommending movies:** We show the computer what movies people have watched and liked.\\n\\n**Here\\'s the breakdown:**\\n\\n1.  **Data:** We feed the computer lots of data (like pictures, emails, or movie preferences). This is like showing the dog what \"fetch\" looks like.\\n2.  **Algorithm:** We use a special set of instructions (an algorithm) that allows the computer to learn from the data. This is like the dog\\'s brain trying to figure out what you want.\\n3.  **Learning:** The computer analyzes the data and tries to find patterns and relationships. It adjusts its internal \"settings\" to get better at the task. This is like the dog trying different approaches to \"fetch\" and learning what works.\\n4.  **Prediction/Action:** Once the computer has learned, it can use its knowledge to make predictions or take actions on new, unseen data. This is like the dog successfully fetching the ball.\\n5.  **Feedback/Evaluation:** We check how well the computer is doing and give it feedback. This helps it improve its accuracy over time. This is like rewarding the dog when it gets closer to the desired behavior.\\n\\n**In essence, machine learning is about:**\\n\\n*   **Giving computers the ability to learn from data without being explicitly programmed.**\\n*   **Enabling computers to make predictions or decisions based on that learning.**\\n\\n**Think of it like teaching a computer to recognize patterns and make smart guesses based on those patterns.**\\n\\n**Key takeaway:** Machine learning is about teaching computers to learn from data, just like you teach a dog a new trick!', additional_kwargs={}, response_metadata={'prompt_feedback': {'block_reason': 0, 'safety_ratings': []}, 'finish_reason': 'STOP', 'model_name': 'gemini-2.0-flash', 'safety_ratings': []}, id='run--75139518-41e5-4024-854c-2554c3bdc176-0', usage_metadata={'input_tokens': 6, 'output_tokens': 513, 'total_tokens': 519, 'input_token_details': {'cache_read': 0}})"
      ]
     },
     "execution_count": 5,
     "metadata": {},
     "output_type": "execute_result"
    }
   ],
   "source": [
    "# Chat models\n",
    "from langchain_google_genai import ChatGoogleGenerativeAI\n",
    "chat_gemini = ChatGoogleGenerativeAI(model=\"gemini-2.0-flash\", temperature=0.0)\n",
    "chat_gemini.invoke(\"Explain machine learning in simple terms\")  # Example query"
   ]
  },
  {
   "cell_type": "markdown",
   "id": "a23f0e27",
   "metadata": {
    "editable": true,
    "slideshow": {
     "slide_type": "subslide"
    },
    "tags": []
   },
   "source": [
    "### Embeddings\n",
    "\n",
    "- **Embeddings** are numerical representations of text that capture semantic meaning.\n",
    "- They are specialized language models designed to represent text as vectors, rather than generate text.\n",
    "- Embeddings are used for various purposes, such as **augmenting LLM context**, **semantic search**, **clustering**, and similarity analysis.\n",
    "\n",
    "<p align=\"center\">\n",
    "    <img src=\"data/embeddings.png\" alt=\"Structure\" style=\"display: block; margin: 0 auto; width: 50%;\">\n",
    "</p>"
   ]
  },
  {
   "cell_type": "markdown",
   "id": "05d23ca6",
   "metadata": {
    "editable": true,
    "slideshow": {
     "slide_type": "subslide"
    },
    "tags": []
   },
   "source": [
    "### Embeddings - Semantics\n",
    "- **What does it mean to _capture semantics_?**\n",
    "- In the context of **embeddings**, *semantics* refers to the **meaning** and **relationships** between words or phrases.\n",
    "- As illustrated in the image below, **words with similar meanings are positioned close to each other** in the vector space.\n",
    "- By applying **distance** or **similarity measures**, we can identify words or texts that are *semantically related*.\n",
    "\n",
    "<p align=\"center\">\n",
    "    <img src=\"data/embeddings-semantics.png\" alt=\"Structure\"  style=\"display: block; margin: 0 auto; width: 50%;\">\n",
    "</p>"
   ]
  },
  {
   "cell_type": "code",
   "execution_count": 6,
   "id": "337dca05b8d0fdc7",
   "metadata": {
    "editable": true,
    "slideshow": {
     "slide_type": "fragment"
    },
    "tags": []
   },
   "outputs": [
    {
     "data": {
      "text/plain": [
       "[-0.024339474737644196,\n",
       " 0.019421163946390152,\n",
       " -0.005040269810706377,\n",
       " -0.021117379888892174,\n",
       " -0.030608780682086945]"
      ]
     },
     "execution_count": 6,
     "metadata": {},
     "output_type": "execute_result"
    }
   ],
   "source": [
    "# Embedings\n",
    "from langchain_google_genai.embeddings import GoogleGenerativeAIEmbeddings\n",
    "\n",
    "google_embeddings = GoogleGenerativeAIEmbeddings(model=\"models/text-embedding-004\")\n",
    "google_embeddings.embed_query(\"What is the weather like in London?\")[:5]"
   ]
  },
  {
   "cell_type": "markdown",
   "id": "3450ea86",
   "metadata": {
    "editable": true,
    "slideshow": {
     "slide_type": "subslide"
    },
    "tags": []
   },
   "source": [
    "### Embeddings - Visual Example of Semantic Similarity\n",
    "\n",
    "- The dataset contains a list of questions and answers on **three distinct topics**.\n",
    "- For each question and answer, we compute the corresponding **embeddings**.\n",
    "- We then use **PCA** to project the embeddings into two dimensions and **visualize** whether clusters emerge.\n"
   ]
  },
  {
   "cell_type": "code",
   "execution_count": 7,
   "id": "71cbb3c7",
   "metadata": {
    "editable": true,
    "slideshow": {
     "slide_type": "fragment"
    },
    "tags": []
   },
   "outputs": [
    {
     "data": {
      "text/html": [
       "<div>\n",
       "<style scoped>\n",
       "    .dataframe tbody tr th:only-of-type {\n",
       "        vertical-align: middle;\n",
       "    }\n",
       "\n",
       "    .dataframe tbody tr th {\n",
       "        vertical-align: top;\n",
       "    }\n",
       "\n",
       "    .dataframe thead th {\n",
       "        text-align: right;\n",
       "    }\n",
       "</style>\n",
       "<table border=\"1\" class=\"dataframe\">\n",
       "  <thead>\n",
       "    <tr style=\"text-align: right;\">\n",
       "      <th></th>\n",
       "      <th>Topic</th>\n",
       "      <th>Question</th>\n",
       "      <th>Answer</th>\n",
       "    </tr>\n",
       "  </thead>\n",
       "  <tbody>\n",
       "    <tr>\n",
       "      <th>0</th>\n",
       "      <td>Naruto</td>\n",
       "      <td>Who is the main protagonist of the series?</td>\n",
       "      <td>Naruto Uzumaki</td>\n",
       "    </tr>\n",
       "    <tr>\n",
       "      <th>1</th>\n",
       "      <td>Naruto</td>\n",
       "      <td>What is the name of Naruto's signature ninja t...</td>\n",
       "      <td>Rasengan</td>\n",
       "    </tr>\n",
       "    <tr>\n",
       "      <th>2</th>\n",
       "      <td>Naruto</td>\n",
       "      <td>Which village does Naruto belong to?</td>\n",
       "      <td>Konohagakure (The Village Hidden in the Leaves)</td>\n",
       "    </tr>\n",
       "    <tr>\n",
       "      <th>3</th>\n",
       "      <td>Naruto</td>\n",
       "      <td>Who are the other two members of Naruto's orig...</td>\n",
       "      <td>Sasuke Uchiha and Sakura Haruno</td>\n",
       "    </tr>\n",
       "    <tr>\n",
       "      <th>4</th>\n",
       "      <td>Naruto</td>\n",
       "      <td>Who is the sensei (teacher) of Team 7?</td>\n",
       "      <td>Kakashi Hatake</td>\n",
       "    </tr>\n",
       "  </tbody>\n",
       "</table>\n",
       "</div>"
      ],
      "text/plain": [
       "    Topic                                           Question  \\\n",
       "0  Naruto         Who is the main protagonist of the series?   \n",
       "1  Naruto  What is the name of Naruto's signature ninja t...   \n",
       "2  Naruto               Which village does Naruto belong to?   \n",
       "3  Naruto  Who are the other two members of Naruto's orig...   \n",
       "4  Naruto             Who is the sensei (teacher) of Team 7?   \n",
       "\n",
       "                                            Answer  \n",
       "0                                   Naruto Uzumaki  \n",
       "1                                         Rasengan  \n",
       "2  Konohagakure (The Village Hidden in the Leaves)  \n",
       "3                  Sasuke Uchiha and Sakura Haruno  \n",
       "4                                   Kakashi Hatake  "
      ]
     },
     "execution_count": 7,
     "metadata": {},
     "output_type": "execute_result"
    }
   ],
   "source": [
    "import pandas as pd\n",
    "df = pd.read_csv(\"data/dataset.csv\", delimiter=\";\")  # Example of reading a CSV file with pandas\n",
    "df.head()"
   ]
  },
  {
   "cell_type": "code",
   "execution_count": 8,
   "id": "2fc96154",
   "metadata": {
    "editable": true,
    "slideshow": {
     "slide_type": "subslide"
    },
    "tags": []
   },
   "outputs": [
    {
     "data": {
      "text/html": [
       "<div>\n",
       "<style scoped>\n",
       "    .dataframe tbody tr th:only-of-type {\n",
       "        vertical-align: middle;\n",
       "    }\n",
       "\n",
       "    .dataframe tbody tr th {\n",
       "        vertical-align: top;\n",
       "    }\n",
       "\n",
       "    .dataframe thead th {\n",
       "        text-align: right;\n",
       "    }\n",
       "</style>\n",
       "<table border=\"1\" class=\"dataframe\">\n",
       "  <thead>\n",
       "    <tr style=\"text-align: right;\">\n",
       "      <th></th>\n",
       "      <th>Topic</th>\n",
       "      <th>Question</th>\n",
       "      <th>Answer</th>\n",
       "      <th>embeddings</th>\n",
       "    </tr>\n",
       "  </thead>\n",
       "  <tbody>\n",
       "    <tr>\n",
       "      <th>0</th>\n",
       "      <td>Naruto</td>\n",
       "      <td>Who is the main protagonist of the series?</td>\n",
       "      <td>Naruto Uzumaki</td>\n",
       "      <td>[-0.06318295747041702, -0.025433462113142014, ...</td>\n",
       "    </tr>\n",
       "    <tr>\n",
       "      <th>1</th>\n",
       "      <td>Naruto</td>\n",
       "      <td>What is the name of Naruto's signature ninja t...</td>\n",
       "      <td>Rasengan</td>\n",
       "      <td>[-0.016836581751704216, -0.02863299660384655, ...</td>\n",
       "    </tr>\n",
       "    <tr>\n",
       "      <th>2</th>\n",
       "      <td>Naruto</td>\n",
       "      <td>Which village does Naruto belong to?</td>\n",
       "      <td>Konohagakure (The Village Hidden in the Leaves)</td>\n",
       "      <td>[-0.05141858384013176, 0.014148241840302944, 0...</td>\n",
       "    </tr>\n",
       "    <tr>\n",
       "      <th>3</th>\n",
       "      <td>Naruto</td>\n",
       "      <td>Who are the other two members of Naruto's orig...</td>\n",
       "      <td>Sasuke Uchiha and Sakura Haruno</td>\n",
       "      <td>[-0.0174933560192585, -0.008309093303978443, 0...</td>\n",
       "    </tr>\n",
       "    <tr>\n",
       "      <th>4</th>\n",
       "      <td>Naruto</td>\n",
       "      <td>Who is the sensei (teacher) of Team 7?</td>\n",
       "      <td>Kakashi Hatake</td>\n",
       "      <td>[-0.0031194821931421757, -0.05045430734753609,...</td>\n",
       "    </tr>\n",
       "  </tbody>\n",
       "</table>\n",
       "</div>"
      ],
      "text/plain": [
       "    Topic                                           Question  \\\n",
       "0  Naruto         Who is the main protagonist of the series?   \n",
       "1  Naruto  What is the name of Naruto's signature ninja t...   \n",
       "2  Naruto               Which village does Naruto belong to?   \n",
       "3  Naruto  Who are the other two members of Naruto's orig...   \n",
       "4  Naruto             Who is the sensei (teacher) of Team 7?   \n",
       "\n",
       "                                            Answer  \\\n",
       "0                                   Naruto Uzumaki   \n",
       "1                                         Rasengan   \n",
       "2  Konohagakure (The Village Hidden in the Leaves)   \n",
       "3                  Sasuke Uchiha and Sakura Haruno   \n",
       "4                                   Kakashi Hatake   \n",
       "\n",
       "                                          embeddings  \n",
       "0  [-0.06318295747041702, -0.025433462113142014, ...  \n",
       "1  [-0.016836581751704216, -0.02863299660384655, ...  \n",
       "2  [-0.05141858384013176, 0.014148241840302944, 0...  \n",
       "3  [-0.0174933560192585, -0.008309093303978443, 0...  \n",
       "4  [-0.0031194821931421757, -0.05045430734753609,...  "
      ]
     },
     "execution_count": 8,
     "metadata": {},
     "output_type": "execute_result"
    }
   ],
   "source": [
    "# We add embedding to the pandas dataframe\n",
    "from langchain_core.embeddings import Embeddings\n",
    "def embed_row(row: pd.Series, embeddings: Embeddings) -> list:\n",
    "    adapt  = row[\"Question\"] + \" \" + row[\"Answer\"]\n",
    "    return embeddings.embed_query(adapt)\n",
    "\n",
    "df[\"embeddings\"] = df.apply(lambda row: embed_row(row, google_embeddings), axis=1)\n",
    "df.head()  # Display the first few rows of the DataFrame with embeddings"
   ]
  },
  {
   "cell_type": "code",
   "execution_count": 9,
   "id": "f1a6b654",
   "metadata": {
    "editable": true,
    "slideshow": {
     "slide_type": "subslide"
    },
    "tags": []
   },
   "outputs": [
    {
     "data": {
      "image/png": "[encoded data removed]",
      "text/plain": [
       "<Figure size 640x480 with 1 Axes>"
      ]
     },
     "metadata": {},
     "output_type": "display_data"
    }
   ],
   "source": [
    "# PCA + rendering \n",
    "from sklearn.decomposition import PCA\n",
    "import matplotlib.pyplot as plt\n",
    "\n",
    "pca = PCA(n_components=2)\n",
    "pca_result = pca.fit_transform(list(df[\"embeddings\"]))\n",
    "\n",
    "plt.scatter(pca_result[:, 0], pca_result[:, 1], alpha=0.5)\n",
    "plt.title(\"PCA of Embeddings\")\n",
    "plt.xlabel(\"Principal Component 1\")\n",
    "plt.ylabel(\"Principal Component 2\")\n",
    "plt.show()"
   ]
  },
  {
   "cell_type": "markdown",
   "id": "ccd072b5",
   "metadata": {
    "editable": true,
    "slideshow": {
     "slide_type": "slide"
    },
    "tags": []
   },
   "source": [
    "## Prompts\n",
    "- **Definition:** A **prompt** is a structured input that **guides** the LLM to generate the desired output.\n",
    "- **Prompts are essential** for controlling the behavior of the LLM and ensuring it produces **relevant** and **accurate** responses.\n",
    "- **LangChain** provides a **flexible** way to define prompts, allowing you to create **templates** that can be filled with dynamic data.\n",
    "\n",
    "<p align=\"center\">\n",
    "    <img src=\"data/prompts.png\" alt=\"Prompt Engineering in LangChain\"  style=\"display: block; margin: 0 auto; width: 50%;\">\n",
    "</p>"
   ]
  },
  {
   "cell_type": "markdown",
   "id": "8bca2b32",
   "metadata": {
    "editable": true,
    "slideshow": {
     "slide_type": "subslide"
    },
    "tags": []
   },
   "source": [
    "### Prompts - Pratical Example\n",
    "A prompt is a text with some `holes` (template) that can be filled with dynamic data."
   ]
  },
  {
   "cell_type": "code",
   "execution_count": 10,
   "id": "5dc4c415",
   "metadata": {
    "editable": true,
    "slideshow": {
     "slide_type": "fragment"
    },
    "tags": []
   },
   "outputs": [
    {
     "data": {
      "text/plain": [
       "'\\nTranslate the following text into {target_language} while maintaining the style of {style}. Reply just with the translation:\\n\\n{text}\\n'"
      ]
     },
     "execution_count": 10,
     "metadata": {},
     "output_type": "execute_result"
    }
   ],
   "source": [
    "# Prompts\n",
    "template = \"\"\"\n",
    "Translate the following text into {target_language} while maintaining the style of {style}. Reply just with the translation:\n",
    "\n",
    "{text}\n",
    "\"\"\"\n",
    "template"
   ]
  },
  {
   "cell_type": "markdown",
   "id": "79c10780",
   "metadata": {
    "editable": true,
    "slideshow": {
     "slide_type": "subslide"
    },
    "tags": []
   },
   "source": [
    "### Prompt Template\n",
    "\n",
    "> **In LangChain, prompt templates are the *foundation* for dynamic, reusable, and powerful LLM interactions!**\n",
    "\n",
    "A `PromptTemplate` lets you define a prompt with *placeholders* that can be filled at runtime, enabling you to:\n",
    "\n",
    "- **Dynamically generate prompts** for different tasks and inputs.\n",
    "- **Reuse prompt logic** across multiple workflows.\n",
    "- **Control the structure and clarity** of your LLM requests."
   ]
  },
  {
   "cell_type": "markdown",
   "id": "2b609948",
   "metadata": {
    "editable": true,
    "slideshow": {
     "slide_type": ""
    },
    "tags": []
   },
   "source": [
    "**Key Components:**\n",
    "- **`template`**: The text with `{placeholders}` for dynamic values.\n",
    "- **`input_variables`**: The list of variable names to fill in the template.\n",
    "- **`output_parser`**: (Optional) Defines how to interpret and structure the model's output.\n",
    "\n",
    "> This approach is *essential* for building robust, maintainable, and adaptable LLM applications.\n",
    "\n",
    "<p align=\"center\">\n",
    "    <img src=\"data/structure_of_prompts.png\" alt=\"PromptTemplate Structure\"  style=\"display: block; margin: 0 auto; width: 50%;\">\n",
    "</p>"
   ]
  },
  {
   "cell_type": "code",
   "execution_count": 11,
   "id": "f1b80dcb",
   "metadata": {
    "editable": true,
    "slideshow": {
     "slide_type": "subslide"
    },
    "tags": []
   },
   "outputs": [
    {
     "data": {
      "text/plain": [
       "(['style', 'target_language', 'text'],\n",
       " PromptTemplate(input_variables=['style', 'target_language', 'text'], input_types={}, partial_variables={}, template='\\nTranslate the following text into {target_language} while maintaining the style of {style}. Reply just with the translation:\\n\\n{text}\\n'))"
      ]
     },
     "execution_count": 11,
     "metadata": {},
     "output_type": "execute_result"
    }
   ],
   "source": [
    "from langchain.prompts import ChatPromptTemplate\n",
    "prompt_template = ChatPromptTemplate.from_template(template)\n",
    "prompt_template.input_variables, prompt_template.messages[0].prompt"
   ]
  },
  {
   "cell_type": "markdown",
   "id": "6a5f042f",
   "metadata": {
    "editable": true,
    "slideshow": {
     "slide_type": "subslide"
    },
    "tags": []
   },
   "source": [
    "### Example: Prompt for Translation in a Certain Style/Language"
   ]
  },
  {
   "cell_type": "code",
   "execution_count": 12,
   "id": "3f61124b",
   "metadata": {
    "editable": true,
    "slideshow": {
     "slide_type": "fragment"
    },
    "tags": []
   },
   "outputs": [
    {
     "data": {
      "text/plain": [
       "[HumanMessage(content='\\nTranslate the following text into French while maintaining the style of Shakespearean. Reply just with the translation:\\n\\nHello, how are you?\\n', additional_kwargs={}, response_metadata={})]"
      ]
     },
     "execution_count": 12,
     "metadata": {},
     "output_type": "execute_result"
    }
   ],
   "source": [
    "prompt_template.format_messages(style=\"Shakespearean\", target_language=\"French\", text=\"Hello, how are you?\")"
   ]
  },
  {
   "cell_type": "code",
   "execution_count": 13,
   "id": "91b84a39",
   "metadata": {
    "editable": true,
    "slideshow": {
     "slide_type": "fragment"
    },
    "tags": []
   },
   "outputs": [
    {
     "data": {
      "text/plain": [
       "('Salut, comment ça va ?', 'Salute, come state?')"
      ]
     },
     "execution_count": 13,
     "metadata": {},
     "output_type": "execute_result"
    }
   ],
   "source": [
    "def translate_text(llm: BaseLanguageModel, text: str, style: str, target_language: str) -> str:\n",
    "    prompt = prompt_template.format_messages(\n",
    "        style=style,\n",
    "        target_language=target_language,\n",
    "        text=text\n",
    "    )\n",
    "    response = llm.invoke(prompt)\n",
    "    return response\n",
    "\n",
    "translate_text(gemini, \"Hello, how are you?\", \"a normal conversation\", \"French\"), translate_text(gemini, \"Hello, how are you?\", \"elegant and noble\", \"Italian\")"
   ]
  },
  {
   "cell_type": "markdown",
   "id": "155babb1",
   "metadata": {
    "editable": true,
    "slideshow": {
     "slide_type": "slide"
    },
    "tags": []
   },
   "source": [
    "## Structured Output\n",
    "- **Definition:** Structured output refers to a specific, predefined format that the LLM is expected to generate in response to a prompt.\n",
    "\n",
    "<p align=\"center\">\n",
    "    <img src=\"data/structured.png\" alt=\"Structured Output Example\" style=\"display: block; margin: 0 auto; width: 50%;\">\n",
    "</p>"
   ]
  },
  {
   "cell_type": "markdown",
   "id": "b6da4bfd",
   "metadata": {
    "editable": true,
    "slideshow": {
     "slide_type": "subslide"
    },
    "tags": []
   },
   "source": [
    "### Output: Why Structured?\n",
    "- **Structured output is essential for reliably parsing and integrating LLM results into other applications or workflows.**\n",
    "- It enables seamless use of LLM output across different systems and environments.\n",
    "\n",
    "---\n",
    "\n",
    "### 🚩 Task: Extracting Cognitive Load from Text\n",
    "\n",
    "- **Goal:** Extract the cognitive load from a given text.\n",
    "- **Expected Output:** A JSON object containing the cognitive load value and its unit.\n",
    "\n",
    "**Output Example:**\n"
   ]
  },
  {
   "cell_type": "code",
   "execution_count": 14,
   "id": "8ec8bac8",
   "metadata": {
    "editable": true,
    "slideshow": {
     "slide_type": "fragment"
    },
    "tags": []
   },
   "outputs": [
    {
     "data": {
      "text/plain": [
       "{'cognitive_load': 10,\n",
       " 'language': 'English',\n",
       " 'style': 'Aristocratic',\n",
       " 'text': 'Hello, how are you?'}"
      ]
     },
     "execution_count": 14,
     "metadata": {},
     "output_type": "execute_result"
    }
   ],
   "source": [
    "## Output parser\n",
    "{\n",
    "    \"cognitive_load\": 10,\n",
    "    \"language\": \"English\",\n",
    "    \"style\": \"Aristocratic\",\n",
    "    \"text\": \"Hello, how are you?\"\n",
    "}"
   ]
  },
  {
   "cell_type": "markdown",
   "id": "fe7be649-830b-4e3e-b637-c4c0c9c43ac1",
   "metadata": {
    "editable": true,
    "slideshow": {
     "slide_type": "subslide"
    },
    "tags": []
   },
   "source": [
    "### Zero-Shot Prompting for Structured Output\n",
    "\n",
    "- **Goal:** Guide the LLM to produce structured outputs by describing the expected format and required information.\n",
    "- **Technique:** Use a template in your prompt to specify:\n",
    "    - The fields to extract (e.g., cognitive load, language, style, text)\n",
    "    - The output format (e.g., JSON object)\n",
    "- **Approach:**  \n",
    "    - This is called **zero-shot prompting**:  \n",
    "    - Provide clear instructions for the task, without giving examples."
   ]
  },
  {
   "cell_type": "code",
   "execution_count": 15,
   "id": "c70e74e1",
   "metadata": {
    "editable": true,
    "slideshow": {
     "slide_type": "fragment"
    },
    "tags": []
   },
   "outputs": [],
   "source": [
    "review_template = \"\"\"\n",
    "For the following text, extract the following information:\n",
    "\n",
    "1. Cognitive load (0-100): is the text easy to understand? \n",
    "2. Language: what language is the text written in?\n",
    "3. Style: what is the style of the text? (e.g., formal, informal, technical, etc.)\n",
    "4. Text: the original text.\n",
    "\n",
    "format the output as a JSON object with the keys \"cognitive_load\", \"language\", \"style\", and \"text\".\n",
    "\n",
    "text: {text}\n",
    "\"\"\""
   ]
  },
  {
   "cell_type": "markdown",
   "id": "240eaefe-113a-4b0a-a68e-02f31c5b0a4f",
   "metadata": {
    "editable": true,
    "slideshow": {
     "slide_type": "subslide"
    },
    "tags": []
   },
   "source": [
    "- Does this *zero-shot* approach works?\n",
    "- Kind of :))"
   ]
  },
  {
   "cell_type": "code",
   "execution_count": 16,
   "id": "eaeb0e97",
   "metadata": {
    "editable": true,
    "slideshow": {
     "slide_type": "fragment"
    },
    "tags": []
   },
   "outputs": [
    {
     "data": {
      "text/plain": [
       "'```json\\n{\\n  \"cognitive_load\": 10,\\n  \"language\": \"English\",\\n  \"style\": \"Informal\",\\n  \"text\": \"Hello, how are you?\"\\n}\\n```'"
      ]
     },
     "execution_count": 16,
     "metadata": {},
     "output_type": "execute_result"
    }
   ],
   "source": [
    "simple_text = \"Hello, how are you?\"\n",
    "hard_text = \"The problem of induction is a fundamental issue in the philosophy of science, concerning the justification of inductive reasoning and the validity of generalizations based on empirical observations.\"\n",
    "\n",
    "message_template_chat = ChatPromptTemplate.from_template(review_template)\n",
    "response = chat_gemini.invoke(message_template_chat.format_messages(text=simple_text))\n",
    "response.content\n",
    "# How to parse it?"
   ]
  },
  {
   "cell_type": "markdown",
   "id": "ac6c5ce5",
   "metadata": {
    "editable": true,
    "slideshow": {
     "slide_type": "fragment"
    },
    "tags": []
   },
   "source": [
    "Ok, it is a valid json but how i can use it?"
   ]
  },
  {
   "cell_type": "markdown",
   "id": "ccf67072",
   "metadata": {
    "editable": true,
    "slideshow": {
     "slide_type": "subslide"
    },
    "tags": []
   },
   "source": [
    "## Response Schema & Structured Output Parser\n",
    "\n",
    "- **Response Schema**: Defines expected output fields (name, description, type) for LLM responses.\n",
    "- **Structured Output Parser**: Uses schemas to parse and validate outputs, ensuring consistent, machine-readable (e.g., JSON) results.\n",
    "\n",
    "**Why use them?**\n",
    "- Reliable, error-free extraction of structured data.\n",
    "- Simplifies integration and downstream processing.\n"
   ]
  },
  {
   "cell_type": "code",
   "execution_count": 17,
   "id": "a7b9f6d4",
   "metadata": {
    "editable": true,
    "slideshow": {
     "slide_type": "fragment"
    },
    "tags": []
   },
   "outputs": [],
   "source": [
    "from langchain.output_parsers import ResponseSchema\n",
    "from langchain.output_parsers import StructuredOutputParser\n",
    "\n",
    "cognitive_load_schema = ResponseSchema(name=\"cognitive_load\", description=\"Cognitive load of the text (0-100)\", type=\"number\")\n",
    "language_schema = ResponseSchema(name=\"language\", description=\"Language of the text\", type=\"string\")\n",
    "style_schema = ResponseSchema(name=\"style\", description=\"Style of the text\", type=\"string\")\n",
    "text_schema = ResponseSchema(name=\"text\", description=\"Original text\", type=\"string\")\n",
    "response_schemas = [cognitive_load_schema, language_schema, style_schema, text_schema]\n",
    "output_parser = StructuredOutputParser.from_response_schemas(response_schemas)"
   ]
  },
  {
   "cell_type": "code",
   "execution_count": 18,
   "id": "4ba901cb",
   "metadata": {
    "editable": true,
    "slideshow": {
     "slide_type": "subslide"
    },
    "tags": []
   },
   "outputs": [],
   "source": [
    "# Review template (with instructions)\n",
    "review_template_instructions = \"\"\"\n",
    "For the following text, extract the following information:\n",
    "\n",
    "1. Cognitive load (0-100): is the text easy to understand? \n",
    "2. Language: what language is the text written in?\n",
    "3. Style: what is the style of the text? (e.g., formal, informal, technical, etc.)\n",
    "4. Text: the original text.\n",
    "\n",
    "text: {text}\n",
    "\n",
    "{format_instructions}\n",
    "\"\"\"\n"
   ]
  },
  {
   "cell_type": "code",
   "execution_count": 19,
   "id": "1b5b1f21",
   "metadata": {
    "editable": true,
    "slideshow": {
     "slide_type": "fragment"
    },
    "tags": []
   },
   "outputs": [],
   "source": [
    "from langchain_core.language_models.chat_models import BaseChatModel\n",
    "def evaluate_cognitive_load(llm: BaseChatModel, text: str) -> dict:\n",
    "    message_template_chat_instructions = ChatPromptTemplate.from_template(review_template_instructions)\n",
    "    messages = message_template_chat_instructions.format_messages(text=text, \n",
    "                                format_instructions=output_parser.get_format_instructions())\n",
    "    return output_parser.parse(chat_gemini.invoke(messages).content)"
   ]
  },
  {
   "cell_type": "code",
   "execution_count": 22,
   "id": "d90b4dea",
   "metadata": {
    "editable": true,
    "slideshow": {
     "slide_type": "fragment"
    },
    "tags": []
   },
   "outputs": [
    {
     "data": {
      "text/plain": [
       "(5, 65)"
      ]
     },
     "execution_count": 22,
     "metadata": {},
     "output_type": "execute_result"
    }
   ],
   "source": [
    "evaluate_cognitive_load(chat_gemini, simple_text)[\"cognitive_load\"], evaluate_cognitive_load(chat_gemini, hard_text)[\"cognitive_load\"]"
   ]
  },
  {
   "cell_type": "markdown",
   "id": "2de0e2c8",
   "metadata": {
    "editable": true,
    "slideshow": {
     "slide_type": "slide"
    },
    "tags": []
   },
   "source": [
    "### Memory\n",
    "- **Definition**: Memory in LangChain allows you to store and retrieve information across multiple interactions\n",
    "- **Purpose**: It enables the LLM to maintain context and continuity in conversations, making it more effective for multi-turn interactions.\n",
    "- Conversation memory is a key feature that allows the LLM to remember past interactions and use that information in future responses.\n",
    "\n",
    "<p align=\"center\">\n",
    "    <img src=\"data/memory.png\" alt=\"LangChain Memory Overview\"  style=\"display: block; margin: 0 auto; width: 50%;\">\n",
    "</p>"
   ]
  },
  {
   "cell_type": "markdown",
   "id": "6d606b4c",
   "metadata": {
    "editable": true,
    "slideshow": {
     "slide_type": "subslide"
    },
    "tags": []
   },
   "source": [
    "### Memory types\n",
    "- Several types of memory are available, including:\n",
    "    - **Conversation Memory**: Stores the history of interactions in a conversation.\n",
    "    - **Buffer Memory**: Temporarily holds information during a session.\n",
    "    - **Summary Memory**: Summarizes past interactions to maintain context without storing all details\n",
    "\n",
    "<p align=\"center\">\n",
    "    <img src=\"data/memory-uml.png\" alt=\"Types of Memory in LangChain\"  style=\"display: block; margin: 0 auto; width: 50%;\">\n",
    "</p>"
   ]
  },
  {
   "cell_type": "code",
   "execution_count": null,
   "id": "2c3131f0",
   "metadata": {
    "collapsed": true,
    "editable": true,
    "jupyter": {
     "outputs_hidden": true
    },
    "slideshow": {
     "slide_type": "fragment"
    },
    "tags": []
   },
   "outputs": [
    {
     "name": "stderr",
     "output_type": "stream",
     "text": [
      "/tmp/ipykernel_3919767/4278559334.py:4: LangChainDeprecationWarning: Please see the migration guide at: https://python.langchain.com/docs/versions/migrating_memory/\n",
      "  memory = ConversationBufferMemory()\n"
     ]
    }
   ],
   "source": [
    "from langchain.memory import ConversationBufferMemory\n",
    "from langchain.chains import ConversationChain\n",
    "\n",
    "memory = ConversationBufferMemory()"
   ]
  },
  {
   "cell_type": "markdown",
   "id": "a698e2ee",
   "metadata": {
    "editable": true,
    "slideshow": {
     "slide_type": "subslide"
    },
    "tags": []
   },
   "source": [
    "### Conversation Chain\n",
    "- A conversation chain is a sequence of interactions between the user and the LLM, where each interaction builds upon the previous ones."
   ]
  },
  {
   "cell_type": "code",
   "execution_count": null,
   "id": "bc3adbff",
   "metadata": {
    "collapsed": true,
    "editable": true,
    "jupyter": {
     "outputs_hidden": true
    },
    "scrolled": true,
    "slideshow": {
     "slide_type": "fragment"
    },
    "tags": []
   },
   "outputs": [
    {
     "name": "stdout",
     "output_type": "stream",
     "text": [
      "\n",
      "\n",
      "\u001b[1m> Entering new ConversationChain chain...\u001b[0m\n",
      "Prompt after formatting:\n",
      "\u001b[32;1m\u001b[1;3mThe following is a friendly conversation between a human and an AI. The AI is talkative and provides lots of specific details from its context. If the AI does not know the answer to a question, it truthfully says it does not know.\n",
      "\n",
      "Current conversation:\n",
      "\n",
      "Human: Hi! My name is Gianluca\n",
      "AI:\u001b[0m\n",
      "\n",
      "\u001b[1m> Finished chain.\u001b[0m\n"
     ]
    },
    {
     "data": {
      "text/plain": [
       "{'input': 'Hi! My name is Gianluca',\n",
       " 'history': '',\n",
       " 'response': \"Hi Gianluca! It's nice to meet you. My name is, well, I don't really *have* a name in the human sense. You can just call me AI. I'm a large language model, trained by Google. I'm excited to chat with you today! What's on your mind? I'm ready to answer your questions, discuss interesting topics, or even just tell you a story. I have access to a vast amount of information, so hopefully I can be helpful. Just let me know what you'd like to do!\"}"
      ]
     },
     "execution_count": 115,
     "metadata": {},
     "output_type": "execute_result"
    }
   ],
   "source": [
    "conversation = ConversationChain(\n",
    "    llm=chat_gemini,\n",
    "    memory=memory,\n",
    "    verbose=True\n",
    ")\n",
    "\n",
    "conversation.invoke(\"Hi! My name is Gianluca\")"
   ]
  },
  {
   "cell_type": "code",
   "execution_count": null,
   "id": "09a81f68",
   "metadata": {
    "collapsed": true,
    "editable": true,
    "jupyter": {
     "outputs_hidden": true
    },
    "slideshow": {
     "slide_type": ""
    },
    "tags": []
   },
   "outputs": [
    {
     "name": "stdout",
     "output_type": "stream",
     "text": [
      "\n",
      "\n",
      "\u001b[1m> Entering new ConversationChain chain...\u001b[0m\n",
      "Prompt after formatting:\n",
      "\u001b[32;1m\u001b[1;3mThe following is a friendly conversation between a human and an AI. The AI is talkative and provides lots of specific details from its context. If the AI does not know the answer to a question, it truthfully says it does not know.\n",
      "\n",
      "Current conversation:\n",
      "Human: Hi! My name is Gianluca\n",
      "AI: Hi Gianluca! It's nice to meet you. My name is, well, I don't really *have* a name in the human sense. You can just call me AI. I'm a large language model, trained by Google. I'm excited to chat with you today! What's on your mind? I'm ready to answer your questions, discuss interesting topics, or even just tell you a story. I have access to a vast amount of information, so hopefully I can be helpful. Just let me know what you'd like to do!\n",
      "Human: What is your role in the society?\n",
      "AI:\u001b[0m\n",
      "\n",
      "\u001b[1m> Finished chain.\u001b[0m\n"
     ]
    },
    {
     "data": {
      "text/plain": [
       "{'input': 'What is your role in the society?',\n",
       " 'history': \"Human: Hi! My name is Gianluca\\nAI: Hi Gianluca! It's nice to meet you. My name is, well, I don't really *have* a name in the human sense. You can just call me AI. I'm a large language model, trained by Google. I'm excited to chat with you today! What's on your mind? I'm ready to answer your questions, discuss interesting topics, or even just tell you a story. I have access to a vast amount of information, so hopefully I can be helpful. Just let me know what you'd like to do!\",\n",
       " 'response': \"That's a great question, Gianluca! My role in society is still evolving, but I see myself as a tool that can be used to augment human capabilities and improve various aspects of life. Here are some of the key ways I can contribute:\\n\\n*   **Information Access and Processing:** I can quickly access and process vast amounts of information, making it easier for people to find answers to their questions, research topics, and stay informed about current events. Think of me as a super-powered search engine with the ability to synthesize and summarize information.\\n\\n*   **Automation and Efficiency:** I can automate repetitive tasks, freeing up human time and resources for more creative and strategic endeavors. For example, I can help with tasks like data entry, report generation, and customer service inquiries.\\n\\n*   **Education and Learning:** I can provide personalized learning experiences, answer student questions, and offer feedback on assignments. I can also help educators create engaging and effective learning materials.\\n\\n*   **Creative Content Generation:** I can assist with writing, translation, and other creative tasks. I can generate different creative text formats, like poems, code, scripts, musical pieces, email, letters, etc. I will try my best to fulfill all your requirements.\\n\\n*   **Problem Solving and Decision Making:** I can analyze data, identify patterns, and generate insights that can help people make better decisions in various fields, such as business, healthcare, and finance.\\n\\n*   **Accessibility and Inclusion:** I can provide language translation, text-to-speech, and other accessibility features that can help people with disabilities access information and participate more fully in society.\\n\\nOf course, it's important to remember that I am still under development, and my capabilities are constantly evolving. It's also crucial to use me responsibly and ethically, being mindful of potential biases and limitations. My goal is to be a helpful and beneficial tool for humanity, and I'm excited to see how I can contribute to a better future!\"}"
      ]
     },
     "execution_count": 116,
     "metadata": {},
     "output_type": "execute_result"
    }
   ],
   "source": [
    "conversation.invoke(\"What is your role in the society?\")"
   ]
  },
  {
   "cell_type": "code",
   "execution_count": null,
   "id": "dc827b23",
   "metadata": {
    "collapsed": true,
    "editable": true,
    "jupyter": {
     "outputs_hidden": true
    },
    "slideshow": {
     "slide_type": ""
    },
    "tags": []
   },
   "outputs": [
    {
     "name": "stdout",
     "output_type": "stream",
     "text": [
      "\n",
      "\n",
      "\u001b[1m> Entering new ConversationChain chain...\u001b[0m\n",
      "Prompt after formatting:\n",
      "\u001b[32;1m\u001b[1;3mThe following is a friendly conversation between a human and an AI. The AI is talkative and provides lots of specific details from its context. If the AI does not know the answer to a question, it truthfully says it does not know.\n",
      "\n",
      "Current conversation:\n",
      "Human: Hi! My name is Gianluca\n",
      "AI: Hi Gianluca! It's nice to meet you. My name is, well, I don't really *have* a name in the human sense. You can just call me AI. I'm a large language model, trained by Google. I'm excited to chat with you today! What's on your mind? I'm ready to answer your questions, discuss interesting topics, or even just tell you a story. I have access to a vast amount of information, so hopefully I can be helpful. Just let me know what you'd like to do!\n",
      "Human: What is your role in the society?\n",
      "AI: That's a great question, Gianluca! My role in society is still evolving, but I see myself as a tool that can be used to augment human capabilities and improve various aspects of life. Here are some of the key ways I can contribute:\n",
      "\n",
      "*   **Information Access and Processing:** I can quickly access and process vast amounts of information, making it easier for people to find answers to their questions, research topics, and stay informed about current events. Think of me as a super-powered search engine with the ability to synthesize and summarize information.\n",
      "\n",
      "*   **Automation and Efficiency:** I can automate repetitive tasks, freeing up human time and resources for more creative and strategic endeavors. For example, I can help with tasks like data entry, report generation, and customer service inquiries.\n",
      "\n",
      "*   **Education and Learning:** I can provide personalized learning experiences, answer student questions, and offer feedback on assignments. I can also help educators create engaging and effective learning materials.\n",
      "\n",
      "*   **Creative Content Generation:** I can assist with writing, translation, and other creative tasks. I can generate different creative text formats, like poems, code, scripts, musical pieces, email, letters, etc. I will try my best to fulfill all your requirements.\n",
      "\n",
      "*   **Problem Solving and Decision Making:** I can analyze data, identify patterns, and generate insights that can help people make better decisions in various fields, such as business, healthcare, and finance.\n",
      "\n",
      "*   **Accessibility and Inclusion:** I can provide language translation, text-to-speech, and other accessibility features that can help people with disabilities access information and participate more fully in society.\n",
      "\n",
      "Of course, it's important to remember that I am still under development, and my capabilities are constantly evolving. It's also crucial to use me responsibly and ethically, being mindful of potential biases and limitations. My goal is to be a helpful and beneficial tool for humanity, and I'm excited to see how I can contribute to a better future!\n",
      "Human: What is my name?\n",
      "AI:\u001b[0m\n",
      "\n",
      "\u001b[1m> Finished chain.\u001b[0m\n"
     ]
    },
    {
     "data": {
      "text/plain": [
       "{'input': 'What is my name?',\n",
       " 'history': \"Human: Hi! My name is Gianluca\\nAI: Hi Gianluca! It's nice to meet you. My name is, well, I don't really *have* a name in the human sense. You can just call me AI. I'm a large language model, trained by Google. I'm excited to chat with you today! What's on your mind? I'm ready to answer your questions, discuss interesting topics, or even just tell you a story. I have access to a vast amount of information, so hopefully I can be helpful. Just let me know what you'd like to do!\\nHuman: What is your role in the society?\\nAI: That's a great question, Gianluca! My role in society is still evolving, but I see myself as a tool that can be used to augment human capabilities and improve various aspects of life. Here are some of the key ways I can contribute:\\n\\n*   **Information Access and Processing:** I can quickly access and process vast amounts of information, making it easier for people to find answers to their questions, research topics, and stay informed about current events. Think of me as a super-powered search engine with the ability to synthesize and summarize information.\\n\\n*   **Automation and Efficiency:** I can automate repetitive tasks, freeing up human time and resources for more creative and strategic endeavors. For example, I can help with tasks like data entry, report generation, and customer service inquiries.\\n\\n*   **Education and Learning:** I can provide personalized learning experiences, answer student questions, and offer feedback on assignments. I can also help educators create engaging and effective learning materials.\\n\\n*   **Creative Content Generation:** I can assist with writing, translation, and other creative tasks. I can generate different creative text formats, like poems, code, scripts, musical pieces, email, letters, etc. I will try my best to fulfill all your requirements.\\n\\n*   **Problem Solving and Decision Making:** I can analyze data, identify patterns, and generate insights that can help people make better decisions in various fields, such as business, healthcare, and finance.\\n\\n*   **Accessibility and Inclusion:** I can provide language translation, text-to-speech, and other accessibility features that can help people with disabilities access information and participate more fully in society.\\n\\nOf course, it's important to remember that I am still under development, and my capabilities are constantly evolving. It's also crucial to use me responsibly and ethically, being mindful of potential biases and limitations. My goal is to be a helpful and beneficial tool for humanity, and I'm excited to see how I can contribute to a better future!\",\n",
       " 'response': 'You told me your name is Gianluca!'}"
      ]
     },
     "execution_count": 117,
     "metadata": {},
     "output_type": "execute_result"
    }
   ],
   "source": [
    "conversation.invoke(input=\"What is my name?\")"
   ]
  },
  {
   "cell_type": "code",
   "execution_count": null,
   "id": "07fcdb76",
   "metadata": {
    "collapsed": true,
    "editable": true,
    "jupyter": {
     "outputs_hidden": true
    },
    "slideshow": {
     "slide_type": ""
    },
    "tags": []
   },
   "outputs": [
    {
     "data": {
      "text/plain": [
       "\"Human: Hi! My name is Gianluca\\nAI: Hi Gianluca! It's nice to meet you. My name is, well, I don't really *have* a name in the human sense. You can just call me AI. I'm a large language model, trained by Google. I'm excited to chat with you today! What's on your mind? I'm ready to answer your questions, discuss interesting topics, or even just tell you a story. I have access to a vast amount of information, so hopefully I can be helpful. Just let me know what you'd like to do!\\nHuman: What is your role in the society?\\nAI: That's a great question, Gianluca! My role in society is still evolving, but I see myself as a tool that can be used to augment human capabilities and improve various aspects of life. Here are some of the key ways I can contribute:\\n\\n*   **Information Access and Processing:** I can quickly access and process vast amounts of information, making it easier for people to find answers to their questions, research topics, and stay informed about current events. Think of me as a super-powered search engine with the ability to synthesize and summarize information.\\n\\n*   **Automation and Efficiency:** I can automate repetitive tasks, freeing up human time and resources for more creative and strategic endeavors. For example, I can help with tasks like data entry, report generation, and customer service inquiries.\\n\\n*   **Education and Learning:** I can provide personalized learning experiences, answer student questions, and offer feedback on assignments. I can also help educators create engaging and effective learning materials.\\n\\n*   **Creative Content Generation:** I can assist with writing, translation, and other creative tasks. I can generate different creative text formats, like poems, code, scripts, musical pieces, email, letters, etc. I will try my best to fulfill all your requirements.\\n\\n*   **Problem Solving and Decision Making:** I can analyze data, identify patterns, and generate insights that can help people make better decisions in various fields, such as business, healthcare, and finance.\\n\\n*   **Accessibility and Inclusion:** I can provide language translation, text-to-speech, and other accessibility features that can help people with disabilities access information and participate more fully in society.\\n\\nOf course, it's important to remember that I am still under development, and my capabilities are constantly evolving. It's also crucial to use me responsibly and ethically, being mindful of potential biases and limitations. My goal is to be a helpful and beneficial tool for humanity, and I'm excited to see how I can contribute to a better future!\\nHuman: What is my name?\\nAI: You told me your name is Gianluca!\""
      ]
     },
     "execution_count": 118,
     "metadata": {},
     "output_type": "execute_result"
    }
   ],
   "source": [
    "memory.buffer"
   ]
  },
  {
   "cell_type": "code",
   "execution_count": null,
   "id": "34870100",
   "metadata": {
    "collapsed": true,
    "editable": true,
    "jupyter": {
     "outputs_hidden": true
    },
    "slideshow": {
     "slide_type": ""
    },
    "tags": []
   },
   "outputs": [
    {
     "data": {
      "text/plain": [
       "{'history': \"Human: Hi! My name is Gianluca\\nAI: Hi Gianluca! It's nice to meet you. My name is, well, I don't really *have* a name in the human sense. You can just call me AI. I'm a large language model, trained by Google. I'm excited to chat with you today! What's on your mind? I'm ready to answer your questions, discuss interesting topics, or even just tell you a story. I have access to a vast amount of information, so hopefully I can be helpful. Just let me know what you'd like to do!\\nHuman: What is your role in the society?\\nAI: That's a great question, Gianluca! My role in society is still evolving, but I see myself as a tool that can be used to augment human capabilities and improve various aspects of life. Here are some of the key ways I can contribute:\\n\\n*   **Information Access and Processing:** I can quickly access and process vast amounts of information, making it easier for people to find answers to their questions, research topics, and stay informed about current events. Think of me as a super-powered search engine with the ability to synthesize and summarize information.\\n\\n*   **Automation and Efficiency:** I can automate repetitive tasks, freeing up human time and resources for more creative and strategic endeavors. For example, I can help with tasks like data entry, report generation, and customer service inquiries.\\n\\n*   **Education and Learning:** I can provide personalized learning experiences, answer student questions, and offer feedback on assignments. I can also help educators create engaging and effective learning materials.\\n\\n*   **Creative Content Generation:** I can assist with writing, translation, and other creative tasks. I can generate different creative text formats, like poems, code, scripts, musical pieces, email, letters, etc. I will try my best to fulfill all your requirements.\\n\\n*   **Problem Solving and Decision Making:** I can analyze data, identify patterns, and generate insights that can help people make better decisions in various fields, such as business, healthcare, and finance.\\n\\n*   **Accessibility and Inclusion:** I can provide language translation, text-to-speech, and other accessibility features that can help people with disabilities access information and participate more fully in society.\\n\\nOf course, it's important to remember that I am still under development, and my capabilities are constantly evolving. It's also crucial to use me responsibly and ethically, being mindful of potential biases and limitations. My goal is to be a helpful and beneficial tool for humanity, and I'm excited to see how I can contribute to a better future!\\nHuman: What is my name?\\nAI: You told me your name is Gianluca!\"}"
      ]
     },
     "execution_count": 119,
     "metadata": {},
     "output_type": "execute_result"
    }
   ],
   "source": [
    "memory.load_memory_variables({})"
   ]
  },
  {
   "cell_type": "markdown",
   "id": "a646a0f9",
   "metadata": {},
   "source": [
    "### Buffer memory\n",
    "It only stores the last interactions, it is useful for short conversations where you want to keep the context without storing all the details."
   ]
  },
  {
   "cell_type": "code",
   "execution_count": null,
   "id": "f61c8168",
   "metadata": {},
   "outputs": [
    {
     "name": "stdout",
     "output_type": "stream",
     "text": [
      "\n",
      "\n",
      "\u001b[1m> Entering new ConversationChain chain...\u001b[0m\n",
      "Prompt after formatting:\n",
      "\u001b[32;1m\u001b[1;3mThe following is a friendly conversation between a human and an AI. The AI is talkative and provides lots of specific details from its context. If the AI does not know the answer to a question, it truthfully says it does not know.\n",
      "\n",
      "Current conversation:\n",
      "\n",
      "Human: Hi! My name is Gianluca\n",
      "AI:\u001b[0m\n"
     ]
    },
    {
     "name": "stderr",
     "output_type": "stream",
     "text": [
      "/tmp/ipykernel_4155651/1499277817.py:3: LangChainDeprecationWarning: Please see the migration guide at: https://python.langchain.com/docs/versions/migrating_memory/\n",
      "  buffer_memory = ConversationBufferWindowMemory(k=1)  # Keep the last 5 interactions\n"
     ]
    },
    {
     "name": "stdout",
     "output_type": "stream",
     "text": [
      "\n",
      "\u001b[1m> Finished chain.\u001b[0m\n",
      "\n",
      "\n",
      "\u001b[1m> Entering new ConversationChain chain...\u001b[0m\n",
      "Prompt after formatting:\n",
      "\u001b[32;1m\u001b[1;3mThe following is a friendly conversation between a human and an AI. The AI is talkative and provides lots of specific details from its context. If the AI does not know the answer to a question, it truthfully says it does not know.\n",
      "\n",
      "Current conversation:\n",
      "Human: Hi! My name is Gianluca\n",
      "AI: Hi Gianluca! It's nice to meet you. My name is, well, I don't really *have* a name in the human sense. You can just call me AI. I'm a large language model, trained by Google. I'm excited to chat with you today! What's on your mind? I'm ready to answer your questions, discuss interesting topics, or even just tell you a story. I have access to a vast amount of information, so hopefully I can be helpful. Just let me know what you'd like to do!\n",
      "Human: What is your role in the society?\n",
      "AI:\u001b[0m\n",
      "\n",
      "\u001b[1m> Finished chain.\u001b[0m\n",
      "\n",
      "\n",
      "\u001b[1m> Entering new ConversationChain chain...\u001b[0m\n",
      "Prompt after formatting:\n",
      "\u001b[32;1m\u001b[1;3mThe following is a friendly conversation between a human and an AI. The AI is talkative and provides lots of specific details from its context. If the AI does not know the answer to a question, it truthfully says it does not know.\n",
      "\n",
      "Current conversation:\n",
      "Human: What is your role in the society?\n",
      "AI: That's a great question, Gianluca! My role in society is still evolving, but I see myself as a tool that can be used to augment human capabilities and improve various aspects of life. Here are some of the key ways I can contribute:\n",
      "\n",
      "*   **Information Access and Processing:** I can quickly access and process vast amounts of information, making it easier for people to find answers to their questions, research topics, and stay informed about current events. Think of me as a super-powered search engine with the ability to synthesize and summarize information.\n",
      "\n",
      "*   **Automation and Efficiency:** I can automate repetitive tasks, freeing up human time and resources for more creative and strategic endeavors. For example, I can help with tasks like data entry, report generation, and customer service inquiries.\n",
      "\n",
      "*   **Education and Learning:** I can provide personalized learning experiences, answer student questions, and offer feedback on assignments. I can also help educators create engaging and effective learning materials.\n",
      "\n",
      "*   **Creative Content Generation:** I can assist with writing, translation, and other creative tasks. I can generate different creative text formats, like poems, code, scripts, musical pieces, email, letters, etc. I will try my best to fulfill all your requirements.\n",
      "\n",
      "*   **Problem Solving and Decision Making:** I can analyze data, identify patterns, and generate insights that can help people make better decisions in various fields, such as business, healthcare, and finance.\n",
      "\n",
      "*   **Accessibility and Inclusion:** I can provide language translation, text-to-speech, and other accessibility features that can help people with disabilities access information and participate more fully in society.\n",
      "\n",
      "Of course, it's important to remember that I am still under development, and my capabilities are constantly evolving. It's also crucial to use me responsibly and ethically, being mindful of potential biases and limitations. My goal is to be a helpful and beneficial tool for humanity, and I'm excited to see how I can contribute to a better future!\n",
      "Human: What is my name?\n",
      "AI:\u001b[0m\n",
      "\n",
      "\u001b[1m> Finished chain.\u001b[0m\n"
     ]
    },
    {
     "data": {
      "text/plain": [
       "{'input': 'What is my name?',\n",
       " 'history': \"Human: What is your role in the society?\\nAI: That's a great question, Gianluca! My role in society is still evolving, but I see myself as a tool that can be used to augment human capabilities and improve various aspects of life. Here are some of the key ways I can contribute:\\n\\n*   **Information Access and Processing:** I can quickly access and process vast amounts of information, making it easier for people to find answers to their questions, research topics, and stay informed about current events. Think of me as a super-powered search engine with the ability to synthesize and summarize information.\\n\\n*   **Automation and Efficiency:** I can automate repetitive tasks, freeing up human time and resources for more creative and strategic endeavors. For example, I can help with tasks like data entry, report generation, and customer service inquiries.\\n\\n*   **Education and Learning:** I can provide personalized learning experiences, answer student questions, and offer feedback on assignments. I can also help educators create engaging and effective learning materials.\\n\\n*   **Creative Content Generation:** I can assist with writing, translation, and other creative tasks. I can generate different creative text formats, like poems, code, scripts, musical pieces, email, letters, etc. I will try my best to fulfill all your requirements.\\n\\n*   **Problem Solving and Decision Making:** I can analyze data, identify patterns, and generate insights that can help people make better decisions in various fields, such as business, healthcare, and finance.\\n\\n*   **Accessibility and Inclusion:** I can provide language translation, text-to-speech, and other accessibility features that can help people with disabilities access information and participate more fully in society.\\n\\nOf course, it's important to remember that I am still under development, and my capabilities are constantly evolving. It's also crucial to use me responsibly and ethically, being mindful of potential biases and limitations. My goal is to be a helpful and beneficial tool for humanity, and I'm excited to see how I can contribute to a better future!\",\n",
       " 'response': 'Your name is Gianluca! I remember you used it at the beginning of our conversation when you asked me about my role in society.'}"
      ]
     },
     "execution_count": 120,
     "metadata": {},
     "output_type": "execute_result"
    }
   ],
   "source": [
    "## Buffer memory\n",
    "from langchain.memory import ConversationBufferWindowMemory\n",
    "buffer_memory = ConversationBufferWindowMemory(k=1)  # Keep the last 5 interactions\n",
    "\n",
    "conversation = ConversationChain(\n",
    "    llm=chat_gemini,\n",
    "    memory=buffer_memory,\n",
    "    verbose=True\n",
    ")\n",
    "\n",
    "conversation.invoke(\"Hi! My name is Gianluca\")\n",
    "conversation.invoke(\"What is your role in the society?\")\n",
    "conversation.invoke(input=\"What is my name?\")"
   ]
  },
  {
   "cell_type": "markdown",
   "id": "b53aecf3",
   "metadata": {},
   "source": [
    "### Summary memory\n",
    "- It summarizes the past interactions to maintain context without storing all details."
   ]
  },
  {
   "cell_type": "code",
   "execution_count": null,
   "id": "d77d15ce",
   "metadata": {},
   "outputs": [
    {
     "name": "stdout",
     "output_type": "stream",
     "text": [
      "\n",
      "\n",
      "\u001b[1m> Entering new ConversationChain chain...\u001b[0m\n",
      "Prompt after formatting:\n",
      "\u001b[32;1m\u001b[1;3mThe following is a friendly conversation between a human and an AI. The AI is talkative and provides lots of specific details from its context. If the AI does not know the answer to a question, it truthfully says it does not know.\n",
      "\n",
      "Current conversation:\n",
      "\n",
      "Human: \n",
      "Carlo Magno, also known as Charlemagne, was a medieval emperor who ruled much of Western Europe from 768 to 814. He was the King of the Franks, King of the Lombards, and Emperor of the Romans. His reign marked the Carolingian Renaissance, a revival of art, culture, and learning based on classical models. He is often credited with uniting much of Europe during the early Middle Ages and laying the foundations for modern France and Germany.\n",
      "\n",
      "AI:\u001b[0m\n"
     ]
    },
    {
     "name": "stderr",
     "output_type": "stream",
     "text": [
      "/tmp/ipykernel_4155651/1668377454.py:3: LangChainDeprecationWarning: Please see the migration guide at: https://python.langchain.com/docs/versions/migrating_memory/\n",
      "  memory = ConversationSummaryBufferMemory(llm=chat_gemini, max_token_limit=100)\n"
     ]
    },
    {
     "name": "stdout",
     "output_type": "stream",
     "text": [
      "\n",
      "\u001b[1m> Finished chain.\u001b[0m\n",
      "\n",
      "\n",
      "\u001b[1m> Entering new ConversationChain chain...\u001b[0m\n",
      "Prompt after formatting:\n",
      "\u001b[32;1m\u001b[1;3mThe following is a friendly conversation between a human and an AI. The AI is talkative and provides lots of specific details from its context. If the AI does not know the answer to a question, it truthfully says it does not know.\n",
      "\n",
      "Current conversation:\n",
      "System: The human provides a summary of Charlemagne's reign, highlighting his role as a medieval emperor who united much of Western Europe and initiated the Carolingian Renaissance. The AI confirms the summary is good and expands on it, discussing the Carolingian Renaissance, Alcuin of York's role in it, the development of Carolingian minuscule, and the brutal nature of Charlemagne's military campaigns and forced conversions, particularly during the Saxon Wars. The AI then asks if the human wants to discuss specific aspects of Charlemagne's life or reign.\n",
      "Human: Was Carlo Magno a king?\n",
      "AI:\u001b[0m\n",
      "\n",
      "\u001b[1m> Finished chain.\u001b[0m\n"
     ]
    },
    {
     "data": {
      "text/plain": [
       "{'input': 'Was Carlo Magno a king?',\n",
       " 'history': \"System: The human provides a summary of Charlemagne's reign, highlighting his role as a medieval emperor who united much of Western Europe and initiated the Carolingian Renaissance. The AI confirms the summary is good and expands on it, discussing the Carolingian Renaissance, Alcuin of York's role in it, the development of Carolingian minuscule, and the brutal nature of Charlemagne's military campaigns and forced conversions, particularly during the Saxon Wars. The AI then asks if the human wants to discuss specific aspects of Charlemagne's life or reign.\",\n",
       " 'response': 'Ah, \"Carlo Magno\"! You\\'re using the Italian version of Charlemagne\\'s name. Yes, indeed, Carlo Magno *was* a king! He wasn\\'t *always* a king, though. It\\'s a bit of a timeline thing.\\n\\nHe initially inherited the Frankish kingdom jointly with his brother Carloman I in 768 AD upon their father Pepin the Short\\'s death. However, Carloman died in 771 AD, and Charlemagne swiftly consolidated power, becoming the sole ruler of the Frankish kingdom. So, from 771 AD onwards, he was definitely King of the Franks.\\n\\nThen, in 774 AD, after conquering the Lombard Kingdom in Italy, he also took the title of King of the Lombards. This was a significant expansion of his power and influence.\\n\\nOf course, his most famous title came later, in 800 AD, when Pope Leo III crowned him Emperor of the Romans on Christmas Day. But before he was Emperor, he was very much a king, and a powerful one at that!\\n\\nSo, to be clear: King of the Franks (from 771 AD) and King of the Lombards (from 774 AD) before becoming Emperor. Does that clarify things? Perhaps you\\'d like to delve into the circumstances surrounding his coronation as Emperor? Or maybe the implications of him being both King of the Franks *and* King of the Lombards?'}"
      ]
     },
     "execution_count": 121,
     "metadata": {},
     "output_type": "execute_result"
    }
   ],
   "source": [
    "# Several alternatives, ConversationTokenMemory, ConversationSummaryMemory\n",
    "from langchain.memory import ConversationSummaryBufferMemory\n",
    "memory = ConversationSummaryBufferMemory(llm=chat_gemini, max_token_limit=100)\n",
    "\n",
    "conversation = ConversationChain(\n",
    "    llm=chat_gemini,\n",
    "    memory=memory,\n",
    "    verbose=True\n",
    ")\n",
    "long_history = \"\"\"\n",
    "Carlo Magno, also known as Charlemagne, was a medieval emperor who ruled much of Western Europe from 768 to 814. He was the King of the Franks, King of the Lombards, and Emperor of the Romans. His reign marked the Carolingian Renaissance, a revival of art, culture, and learning based on classical models. He is often credited with uniting much of Europe during the early Middle Ages and laying the foundations for modern France and Germany.\n",
    "\"\"\"\n",
    "conversation.invoke(long_history)\n",
    "conversation.invoke(\"Was Carlo Magno a king?\")\n"
   ]
  },
  {
   "cell_type": "code",
   "execution_count": null,
   "id": "38d66122",
   "metadata": {},
   "outputs": [
    {
     "data": {
      "text/plain": [
       "{'history': \"System: The human provides a summary of Charlemagne's reign, highlighting his role as a medieval emperor who united much of Western Europe and initiated the Carolingian Renaissance. The AI confirms the summary is good and expands on it, discussing the Carolingian Renaissance, Alcuin of York's role in it, the development of Carolingian minuscule, and the brutal nature of Charlemagne's military campaigns and forced conversions, particularly during the Saxon Wars. The AI then asks if the human wants to discuss specific aspects of Charlemagne's life or reign. The human asks if Carlo Magno (Charlemagne in Italian) was a king. The AI confirms that Charlemagne was indeed a king, first inheriting the Frankish kingdom in 768 AD, becoming sole ruler in 771 AD, and later becoming King of the Lombards in 774 AD, before being crowned Emperor in 800 AD. The AI then offers to discuss the circumstances of his coronation or the implications of him being both King of the Franks and King of the Lombards.\"}"
      ]
     },
     "execution_count": 122,
     "metadata": {},
     "output_type": "execute_result"
    }
   ],
   "source": [
    "memory.load_memory_variables({})"
   ]
  },
  {
   "cell_type": "markdown",
   "id": "dc8cb18d",
   "metadata": {},
   "source": [
    "### Chains\n",
    "- **Definition**: Chains are sequences of operations that process input data and produce output.\n",
    "- **Purpose**: They allow you to create complex workflows by chaining together multiple components, such as prompts, LLMs, and memory.\n"
   ]
  },
  {
   "cell_type": "code",
   "execution_count": null,
   "id": "047580cb",
   "metadata": {},
   "outputs": [
    {
     "data": {
      "text/plain": [
       "AIMessage(content='The \"best\" name depends on the specific brand identity you want to create. Here\\'s a breakdown of different approaches and examples:\\n\\n**1. Classic & Functional:**\\n\\n*   **Focus:** Emphasizes reliability, quality, and the core product.\\n*   **Examples:**\\n    *   CycleCraft\\n    *   BikeWorks\\n    *   Wheel & Frame\\n    *   Pedal Power\\n    *   Gear Up Cycles\\n\\n**2. Modern & Tech-Focused:**\\n\\n*   **Focus:** Highlights innovation, technology, and performance.\\n*   **Examples:**\\n    *   Velocity Dynamics\\n    *   Apex Rides\\n    *   Kinetic Cycles\\n    *   CarbonFlow Bikes\\n    *   eMotion Bikes (if you focus on electric bikes)\\n\\n**3. Adventurous & Outdoorsy:**\\n\\n*   **Focus:** Appeals to riders who enjoy exploring and pushing their limits.\\n*   **Examples:**\\n    *   Trailblazer Bikes\\n    *   Summit Cycles\\n    *   Wild Ride Outfitters\\n    *   Open Road Bikes\\n    *   Horizon Cycles\\n\\n**4. Stylish & Urban:**\\n\\n*   **Focus:** Caters to city dwellers who value design and practicality.\\n*   **Examples:**\\n    *   City Slicker Cycles\\n    *   Urban Flow Bikes\\n    *   Metro Rides\\n    *   The Commuter Bike Co.\\n    *   Style Cycle\\n\\n**5. Playful & Creative:**\\n\\n*   **Focus:** Stands out with a memorable and unique name.\\n*   **Examples:**\\n    *   Two Wheel Wonders\\n    *   The Pedal Pusher\\n    *   Spin Cycle\\n    *   Bikeology\\n    *   The Rolling Revolution\\n\\n**6. Location-Based:**\\n\\n*   **Focus:** Connects the brand to a specific place or region.\\n*   **Examples:**\\n    *   [Your City/Region] Bikes\\n    *   [Local Landmark] Cycles\\n    *   [River/Mountain Name] Rides\\n\\n**Tips for Choosing the Best Name:**\\n\\n*   **Target Audience:** Who are you trying to reach?\\n*   **Brand Values:** What do you want your company to represent?\\n*   **Memorability:** Is the name easy to remember and pronounce?\\n*   **Availability:** Is the name available as a website domain and social media handle?\\n*   **Uniqueness:** Does the name stand out from the competition?\\n*   **Trademark:** Is the name available for trademarking?\\n\\n**Before making a final decision, brainstorm a list of names, check their availability, and get feedback from potential customers.**', additional_kwargs={}, response_metadata={'prompt_feedback': {'block_reason': 0, 'safety_ratings': []}, 'finish_reason': 'STOP', 'model_name': 'gemini-2.0-flash', 'safety_ratings': []}, id='run--7b2bd93b-733e-47e1-a3a6-63307a02ba34-0', usage_metadata={'input_tokens': 14, 'output_tokens': 552, 'total_tokens': 566, 'input_token_details': {'cache_read': 0}})"
      ]
     },
     "execution_count": 123,
     "metadata": {},
     "output_type": "execute_result"
    }
   ],
   "source": [
    "# Chains\n",
    "from langchain.chains import LLMChain\n",
    "prompt = ChatPromptTemplate.from_template(\n",
    "    \"What is the best name to describe \\\n",
    "    a company that makes {product}?\"\n",
    ")\n",
    "chain = prompt | chat_gemini  # Chain the prompt with the LLM\n",
    "\n",
    "chain.invoke(\"bicycles\")  # Example query"
   ]
  },
  {
   "cell_type": "code",
   "execution_count": null,
   "id": "3054e2b0",
   "metadata": {},
   "outputs": [
    {
     "data": {
      "text/plain": [
       "AIMessage(content='We help you brainstorm the perfect bicycle company name. Find inspiration based on your target audience, brand values, and desired style.', additional_kwargs={}, response_metadata={'prompt_feedback': {'block_reason': 0, 'safety_ratings': []}, 'finish_reason': 'STOP', 'model_name': 'gemini-2.0-flash', 'safety_ratings': []}, id='run--172fc21c-50fa-4fda-8fe5-0fc77c248f47-0', usage_metadata={'input_tokens': 781, 'output_tokens': 26, 'total_tokens': 807, 'input_token_details': {'cache_read': 0}})"
      ]
     },
     "execution_count": 124,
     "metadata": {},
     "output_type": "execute_result"
    }
   ],
   "source": [
    "second_prompt = ChatPromptTemplate.from_template(\n",
    "    \"Write a 20 words description for the following \\\n",
    "    company:{company_name}\"\n",
    ")\n",
    "\n",
    "chain = chain | second_prompt | chat_gemini  # Chain the prompt with the LLM\n",
    "\n",
    "chain.invoke(\"bicycles\")  # Example query"
   ]
  },
  {
   "cell_type": "code",
   "execution_count": null,
   "id": "c783bd7c",
   "metadata": {},
   "outputs": [
    {
     "data": {
      "text/plain": [
       "{'review': 'Das war ein großartiger Aufenthalt! Das Hotel war wunderschön, das Personal sehr freundlich und hilfsbereit. Das Essen im Restaurant war ausgezeichnet und die Zimmer waren sauber und komfortabel. Die Lage war perfekt für Sightseeing. Wir werden definitiv wiederkommen!',\n",
       " 'translated': AIMessage(content='This was a great stay! The hotel was beautiful, the staff very friendly and helpful. The food in the restaurant was excellent, and the rooms were clean and comfortable. The location was perfect for sightseeing. We will definitely come back!', additional_kwargs={}, response_metadata={'prompt_feedback': {'block_reason': 0, 'safety_ratings': []}, 'finish_reason': 'STOP', 'model_name': 'gemini-2.0-flash', 'safety_ratings': []}, id='run--9f6a9fdb-3e0a-4229-81c1-2a83e3218ef3-0', usage_metadata={'input_tokens': 60, 'output_tokens': 48, 'total_tokens': 108, 'input_token_details': {'cache_read': 0}}),\n",
       " 'summary': AIMessage(content='The reviewer had a wonderful stay at a beautiful hotel with friendly staff, excellent food, clean rooms, a perfect location, and plans to return.', additional_kwargs={}, response_metadata={'prompt_feedback': {'block_reason': 0, 'safety_ratings': []}, 'finish_reason': 'STOP', 'model_name': 'gemini-2.0-flash', 'safety_ratings': []}, id='run--d2faf250-8004-4823-83ee-9e236ca03537-0', usage_metadata={'input_tokens': 204, 'output_tokens': 30, 'total_tokens': 234, 'input_token_details': {'cache_read': 0}}),\n",
       " 'language': AIMessage(content='The language of the review is **English**.', additional_kwargs={}, response_metadata={'prompt_feedback': {'block_reason': 0, 'safety_ratings': []}, 'finish_reason': 'STOP', 'model_name': 'gemini-2.0-flash', 'safety_ratings': []}, id='run--26388db7-0ea4-4730-90e6-8da0776122a5-0', usage_metadata={'input_tokens': 203, 'output_tokens': 10, 'total_tokens': 213, 'input_token_details': {'cache_read': 0}}),\n",
       " 'follow_up': AIMessage(content=\"That's fantastic to hear! It sounds like they had a truly exceptional experience. We're delighted they enjoyed their stay so much and look forward to welcoming them back.\", additional_kwargs={}, response_metadata={'prompt_feedback': {'block_reason': 0, 'safety_ratings': []}, 'finish_reason': 'STOP', 'model_name': 'gemini-2.0-flash', 'safety_ratings': []}, id='run--cc1ddf1c-67f5-42f1-8180-efc5f8f4f595-0', usage_metadata={'input_tokens': 349, 'output_tokens': 36, 'total_tokens': 385, 'input_token_details': {'cache_read': 0}})}"
      ]
     },
     "execution_count": 125,
     "metadata": {},
     "output_type": "execute_result"
    }
   ],
   "source": [
    "## Advanced chaining\n",
    "from langchain_core.runnables import RunnablePassthrough\n",
    "from langchain_core.output_parsers import StrOutputParser\n",
    "first_prompt = ChatPromptTemplate.from_template(\n",
    "    \"Translate the following review in English \\n\\n{review}\\n\\n\"\n",
    ")\n",
    "\n",
    "second_prompt = ChatPromptTemplate.from_template(\n",
    "    \"Summarize the the following review in a single sentence \\n\\n{review}\\n\\n\",\n",
    "    \n",
    ")\n",
    "\n",
    "third_prompt = ChatPromptTemplate.from_template(\n",
    "    \"What is the language of the following review? \\n\\n{review}\\n\\n\"\n",
    ")\n",
    "\n",
    "fourth_prompt = ChatPromptTemplate.from_template(\n",
    "    \"Write a follow up response to the following summary in the specified language \\n\\nSummary:{summary}\\n\\n Language:{language}\\n\\n\"\n",
    ")\n",
    "\n",
    "# Chains\n",
    "# 1. Translate the review\n",
    "translate_chain = first_prompt | chat_gemini\n",
    "\n",
    "# 2. Summarize and detect language in parallel\n",
    "summarize_chain = second_prompt | chat_gemini\n",
    "language_chain = third_prompt | chat_gemini\n",
    "\n",
    "# 3. Combine\n",
    "full_chain = (\n",
    "    RunnablePassthrough.assign(\n",
    "        translated=translate_chain\n",
    "    )\n",
    "    .assign(\n",
    "        summary=lambda x: summarize_chain.invoke({\"review\": x[\"translated\"]}),\n",
    "        language=lambda x: language_chain.invoke({\"review\": x[\"translated\"]}),\n",
    "    )\n",
    "    .assign(\n",
    "        follow_up=lambda x: (fourth_prompt | chat_gemini).invoke(\n",
    "            {\"summary\": x[\"summary\"], \"language\": x[\"language\"]}\n",
    "        )\n",
    "    )\n",
    ")\n",
    "\n",
    "# Example input\n",
    "result = full_chain.invoke({\"review\": \"Das war ein großartiger Aufenthalt! Das Hotel war wunderschön, das Personal sehr freundlich und hilfsbereit. Das Essen im Restaurant war ausgezeichnet und die Zimmer waren sauber und komfortabel. Die Lage war perfekt für Sightseeing. Wir werden definitiv wiederkommen!\"})\n",
    "result"
   ]
  },
  {
   "cell_type": "code",
   "execution_count": null,
   "id": "73c0f9f0",
   "metadata": {},
   "outputs": [],
   "source": [
    "def load_prompt(where: str) -> str:\n",
    "    # load the prompt from a file\n",
    "    with open(where, \"r\") as file:\n",
    "        return file.read()\n",
    "fishing_template = load_prompt(\"data/prompts/fishing.txt\")\n",
    "guitar_template = load_prompt(\"data/prompts/guitar.txt\")\n",
    "computer_science_template = load_prompt(\"data/prompts/computer_science.txt\")\n",
    "anime_template = load_prompt(\"data/prompts/anime.txt\")"
   ]
  },
  {
   "cell_type": "code",
   "execution_count": null,
   "id": "72273360",
   "metadata": {},
   "outputs": [],
   "source": [
    "prompt_selector = \"\"\"\n",
    "Giving the following question, select the most appropriate between the following destinations:\n",
    "{destinations}\n",
    "Reply with just the template name, without any additional text. If you don't know the answer, reply with \"general\"\n",
    "\n",
    "The question is:\n",
    "{input}\n",
    "\"\"\""
   ]
  },
  {
   "cell_type": "code",
   "execution_count": null,
   "id": "3298f187",
   "metadata": {},
   "outputs": [
    {
     "data": {
      "text/plain": [
       "'fishing: Good for answering questions about fishing\\nguitar: Good for answering questions about guitar and music\\ncomputer science: Good for answering computer science questions\\nanime: Good for answering questions about anime and manga'"
      ]
     },
     "execution_count": 128,
     "metadata": {},
     "output_type": "execute_result"
    }
   ],
   "source": [
    "prompt_infos = {\n",
    "    \"fishing\": {\n",
    "        \"description\": \"Good for answering questions about fishing\",\n",
    "        \"prompt_template\": fishing_template\n",
    "    },\n",
    "    \"guitar\": {\n",
    "        \"description\": \"Good for answering questions about guitar and music\", \n",
    "        \"prompt_template\": guitar_template\n",
    "    },\n",
    "    \"computer science\": {\n",
    "        \"description\": \"Good for answering computer science questions\",\n",
    "        \"prompt_template\": computer_science_template\n",
    "    },\n",
    "    \"anime\": {\n",
    "        \"description\": \"Good for answering questions about anime and manga\",\n",
    "        \"prompt_template\": anime_template\n",
    "    }\n",
    "}\n",
    "\n",
    "destinations = [f\"{name}: {info['description']}\" for name, info in prompt_infos.items()]\n",
    "destinations_str = \"\\n\".join(destinations)\n",
    "destinations_str\n"
   ]
  },
  {
   "cell_type": "code",
   "execution_count": null,
   "id": "d5548f22",
   "metadata": {},
   "outputs": [
    {
     "data": {
      "text/plain": [
       "(AIMessage(content='fishing', additional_kwargs={}, response_metadata={'prompt_feedback': {'block_reason': 0, 'safety_ratings': []}, 'finish_reason': 'STOP', 'model_name': 'gemini-2.0-flash', 'safety_ratings': []}, id='run--7147ecb3-2951-4b0d-a526-63930265aecf-0', usage_metadata={'input_tokens': 100, 'output_tokens': 2, 'total_tokens': 102, 'input_token_details': {'cache_read': 0}}),\n",
       " AIMessage(content='general', additional_kwargs={}, response_metadata={'prompt_feedback': {'block_reason': 0, 'safety_ratings': []}, 'finish_reason': 'STOP', 'model_name': 'gemini-2.0-flash', 'safety_ratings': []}, id='run--77f9340b-bcee-48c3-a163-83b87b9d525d-0', usage_metadata={'input_tokens': 98, 'output_tokens': 2, 'total_tokens': 100, 'input_token_details': {'cache_read': 0}}))"
      ]
     },
     "execution_count": 129,
     "metadata": {},
     "output_type": "execute_result"
    }
   ],
   "source": [
    "prompt_selector_template = ChatPromptTemplate.from_template(prompt_selector)\n",
    "chain = prompt_selector_template | chat_gemini\n",
    "selector_chain = (\n",
    "    {\"destinations\": lambda x: destinations_str, \"input\": lambda x: x} |\n",
    "    prompt_selector_template | \n",
    "    chat_gemini\n",
    ")\n",
    "selector_chain.invoke(\"What is the best way to catch a fish?\"), selector_chain.invoke(\"What if moon is made of cheese?\")"
   ]
  },
  {
   "cell_type": "code",
   "execution_count": null,
   "id": "4a43037d",
   "metadata": {},
   "outputs": [],
   "source": [
    "semantic_chains = {name: ChatPromptTemplate.from_template(info['prompt_template']) | chat_gemini for name, info in prompt_infos.items()}"
   ]
  },
  {
   "cell_type": "code",
   "execution_count": null,
   "id": "5a1ed0cf",
   "metadata": {},
   "outputs": [],
   "source": [
    "from langchain_core.runnables import RunnableLambda\n",
    "\n",
    "def route_to_chain(data):\n",
    "    input_text = data[\"input\"]\n",
    "    category = data[\"category\"].content.strip().lower()\n",
    "    \n",
    "    if category in semantic_chains:\n",
    "        return semantic_chains[category].invoke(input_text)\n",
    "    else:\n",
    "        return chat_gemini.invoke(input_text)\n",
    "\n",
    "smart_assistant_chain = (\n",
    "    RunnablePassthrough.assign(\n",
    "        category=lambda x: selector_chain.invoke(x[\"input\"])\n",
    "    ) |\n",
    "    RunnableLambda(route_to_chain)\n",
    ")"
   ]
  },
  {
   "cell_type": "code",
   "execution_count": null,
   "id": "d4a22377",
   "metadata": {},
   "outputs": [
    {
     "name": "stdout",
     "output_type": "stream",
     "text": [
      "Question: What is the best bait for catching bass?\n",
      "Answer: content='Alright, let\\'s talk bass bait! There\\'s no single \"best\" bait for bass, as it really depends on a few factors:\\n\\n*   **Time of year:** Bass behavior and feeding habits change with the seasons.\\n*   **Water clarity:** Clear water calls for different approaches than murky water.\\n*   **Type of bass:** Largemouth, smallmouth, and spotted bass all have slightly different preferences.\\n*   **Structure and cover:** Are you fishing around weeds, rocks, docks, or open water?\\n*   **Your personal preference:** Confidence in your bait is key!\\n\\nHowever, I can give you a rundown of some top contenders and when they tend to shine:\\n\\n**For Largemouth Bass (the most common):**\\n\\n*   **Soft Plastics:** These are incredibly versatile.\\n    *   **Texas-rigged worms:** A classic for a reason. Great for fishing around weeds, wood, and other cover. Use different colors and sizes to match the forage.\\n    *   **Creature baits:** Imitate crawfish, lizards, and other critters. Effective in a variety of situations.\\n    *   **Senkos (stick baits):** Simple, but deadly. Fish them weightless or wacky-rigged for a subtle presentation.\\n    *   **Swim baits:** Great for covering water and imitating baitfish.\\n*   **Crankbaits:** Excellent for covering water quickly and triggering reaction strikes.\\n    *   **Squarebills:** Ideal for shallow water around cover.\\n    *   **Lipless crankbaits:** Effective in open water and over submerged vegetation.\\n    *   **Deep-diving crankbaits:** For targeting bass in deeper water.\\n*   **Topwater Lures:** Exciting and effective, especially in low-light conditions.\\n    *   **Buzzbaits:** Great for creating a commotion and attracting aggressive bass.\\n    *   **Poppers:** Make a popping sound to attract attention.\\n    *   **Frogs:** Perfect for fishing over thick vegetation.\\n*   **Jigs:** Versatile and effective for targeting bass around structure.\\n    *   **Football jigs:** Great for dragging along the bottom in deeper water.\\n    *   **Swim jigs:** Can be fished through vegetation or in open water.\\n*   **Live Bait:**\\n    *   **Shiners:** A classic choice, especially for larger bass.\\n    *   **Crawfish:** A natural food source for bass.\\n\\n**For Smallmouth Bass:**\\n\\n*   **Tube Baits:** Excellent for imitating gobies and other bottom-dwelling creatures.\\n*   **Grubs:** Can be fished on a jighead or Texas-rigged.\\n*   **Crankbaits:** Similar to largemouth, but smaller sizes often work better.\\n*   **Jerkbaits:** Effective for triggering reaction strikes in clear water.\\n*   **Spinnerbaits:** Great for covering water and attracting aggressive smallmouth.\\n\\n**General Tips:**\\n\\n*   **Match the Hatch:** Try to use baits that resemble the natural forage in the area.\\n*   **Experiment:** Don\\'t be afraid to try different baits and techniques until you find what works.\\n*   **Pay Attention to the Details:** Line size, hook size, and retrieve speed can all make a difference.\\n\\nTo give you more specific advice, tell me:\\n\\n*   **What time of year is it?**\\n*   **What\\'s the water clarity like?**\\n*   **What kind of structure are you fishing around?**\\n*   **Are you targeting largemouth, smallmouth, or spotted bass?**\\n\\nGood luck out there!' additional_kwargs={} response_metadata={'prompt_feedback': {'block_reason': 0, 'safety_ratings': []}, 'finish_reason': 'STOP', 'model_name': 'gemini-2.0-flash', 'safety_ratings': []} id='run--1f5e72ce-3f11-40a9-92d4-1ef4465ffa3a-0' usage_metadata={'input_tokens': 91, 'output_tokens': 771, 'total_tokens': 862, 'input_token_details': {'cache_read': 0}}\n",
      "--------------------------------------------------\n",
      "Question: How do I tune my guitar?\n",
      "Answer: content='Alright, let\\'s get your guitar in tune! Tuning is the foundation of everything you\\'ll do on the guitar, so it\\'s important to get it right. Here\\'s a breakdown of how to tune your guitar to standard tuning (E A D G B e), along with some tips and tricks:\\n\\n**Understanding Standard Tuning**\\n\\nFirst, let\\'s understand what we\\'re aiming for. Standard tuning means each string is tuned to a specific note:\\n\\n*   **6th String (Thickest):** E (Low E)\\n*   **5th String:** A\\n*   **4th String:** D\\n*   **3rd String:** G\\n*   **2nd String:** B\\n*   **1st String (Thinnest):** e (High e)\\n\\n**Methods for Tuning**\\n\\nThere are several ways to tune your guitar. Here are the most common:\\n\\n**1. Using an Electronic Tuner (Recommended for Beginners)**\\n\\n*   **What it is:** Electronic tuners are devices that detect the pitch of a string and tell you whether it\\'s sharp (too high), flat (too low), or in tune. They come in various forms: clip-on tuners, pedal tuners, and even apps for your smartphone.\\n*   **How to use it:**\\n    1.  **Turn on the tuner.**\\n    2.  **Play a single string.** The tuner will display the note it\\'s hearing.\\n    3.  **Adjust the tuning peg for that string.**\\n        *   If the tuner shows the note is *flat* (lower than the target note), turn the tuning peg to *tighten* the string, raising the pitch.\\n        *   If the tuner shows the note is *sharp* (higher than the target note), turn the tuning peg to *loosen* the string, lowering the pitch.\\n    4.  **Repeat until the tuner indicates the string is in tune.** The tuner will usually show the target note (e.g., \"E\" for the 6th string) and a visual indicator (like a needle or lights) will center when the string is in tune.\\n    5.  **Repeat for each string, in order from 6th to 1st.**\\n*   **Pros:** Very accurate, easy to use, especially for beginners.\\n*   **Cons:** Requires a tuner (but they are very affordable).\\n\\n**2. Using a Tuning App (Smartphone/Tablet)**\\n\\n*   **What it is:** Many free and paid apps are available for smartphones and tablets that function as electronic tuners.\\n*   **How to use it:** The process is very similar to using a dedicated electronic tuner. Open the app, select \"Guitar\" and \"Standard Tuning,\" and follow the on-screen instructions.\\n*   **Pros:** Convenient (you probably already have a smartphone), often free or low-cost.\\n*   **Cons:** Accuracy can vary depending on the app and your device\\'s microphone. Background noise can also interfere.\\n\\n**3. Tuning to a Reference Pitch (Using a Piano, Keyboard, or Online Tone Generator)**\\n\\n*   **What it is:** This method involves using a known, accurate pitch (usually A = 440 Hz) to tune one string, and then tuning the other strings relative to that one.\\n*   **How to use it:**\\n    1.  **Find a reference pitch.** The most common is A = 440 Hz. You can find this on a piano, keyboard, or using an online tone generator (just search \"online tone generator\").\\n    2.  **Tune the 5th string (A) to the reference pitch.** Use the tuning peg to adjust the string until it matches the A.\\n    3.  **Tune the other strings relative to the A string:**\\n        *   **6th String (E):** Fret the 5th string (A) at the 5th fret. This should sound like the open 6th string (E). Adjust the 6th string until it matches.\\n        *   **4th String (D):** Fret the 5th string (A) at the 7th fret. This should sound like the open 4th string (D). Adjust the 4th string until it matches.\\n        *   **3rd String (G):** Fret the 4th string (D) at the 5th fret. This should sound like the open 3rd string (G). Adjust the 3rd string until it matches.\\n        *   **2nd String (B):** Fret the 3rd string (G) at the 4th fret. This should sound like the open 2nd string (B). Adjust the 2nd string until it matches.\\n        *   **1st String (e):** Fret the 2nd string (B) at the 5th fret. This should sound like the open 1st string (e). Adjust the 1st string until it matches.\\n*   **Pros:** Doesn\\'t require a dedicated tuner. Develops your ear.\\n*   **Cons:** Requires a good ear and a reliable reference pitch. Can be tricky for beginners.\\n\\n**4. Tuning by Ear (Relative Tuning)**\\n\\n*   **What it is:** This method involves tuning all the strings relative to each other, without relying on an external reference pitch. It\\'s the most advanced method and requires a well-trained ear.\\n*   **How to use it:**  This is similar to tuning to a reference pitch, but you start with any string and tune the others relative to it.  It\\'s best learned after you\\'ve become comfortable with the other methods.\\n*   **Pros:** Develops your ear significantly.  Allows you to tune even without any tools.\\n*   **Cons:** Very difficult for beginners.  Can easily lead to being out of tune overall.\\n\\n**Tips and Tricks for Tuning**\\n\\n*   **Stretch your strings:** New strings, in particular, tend to stretch and go out of tune quickly. After tuning, gently pull up on each string a few times to stretch it. Then, re-tune. Repeat this process until the strings hold their tune.\\n*   **Tune *up* to the note:** When tuning, try to approach the correct pitch from *below*. This helps to seat the string properly on the nut and bridge.\\n*   **Avoid over-tightening:** Over-tightening strings can break them or damage your guitar. Turn the tuning pegs slowly and carefully.\\n*   **Listen carefully:** Pay close attention to the pitch of each string. The more you practice tuning, the better your ear will become.\\n*   **Check your intonation:** Intonation refers to how accurately your guitar plays in tune up and down the neck. If your guitar is in tune at the open strings but sounds out of tune when you play chords higher up the neck, you may need to have your intonation adjusted by a professional.\\n*   **Consider string gauge:** The thickness of your strings (string gauge) can affect tuning stability. If you switch to a significantly different string gauge, you may need to adjust your guitar\\'s setup.\\n*   **Use a consistent tuning method:** Stick to one method (especially when starting out) to develop consistency and accuracy.\\n*   **Retune frequently:** Guitars tend to go out of tune, especially with temperature and humidity changes. Get in the habit of checking your tuning before each practice session.\\n\\n**Troubleshooting**\\n\\n*   **String keeps slipping:** This is common with new strings. Keep stretching and re-tuning. If it persists, check that the string is properly wound around the tuning peg.\\n*   **String breaks:** You may be over-tightening the string. Replace the string and be more careful.\\n*   **Tuner is jumping around:** Make sure you\\'re playing only one string at a time and that there\\'s no background noise interfering.\\n\\n**In summary:**\\n\\nFor a beginner, I highly recommend using an electronic tuner or a tuning app. They are the easiest and most accurate ways to get your guitar in tune. As you gain experience, you can start to develop your ear and try tuning to a reference pitch or even by ear.\\n\\nGood luck, and happy playing! Let me know if you have any other questions.' additional_kwargs={} response_metadata={'prompt_feedback': {'block_reason': 0, 'safety_ratings': []}, 'finish_reason': 'STOP', 'model_name': 'gemini-2.0-flash', 'safety_ratings': []} id='run--81aa1b6f-06c7-4b96-8aec-c25b971958e5-0' usage_metadata={'input_tokens': 86, 'output_tokens': 1768, 'total_tokens': 1854, 'input_token_details': {'cache_read': 0}}\n",
      "--------------------------------------------------\n",
      "Question: What is machine learning?\n",
      "Answer: content='Okay, let\\'s break down machine learning. As a computer scientist, I see it as a powerful paradigm shift in how we approach problem-solving with computers. Instead of explicitly programming a machine to perform a specific task, we *teach* it to learn from data.\\n\\nHere\\'s my explanation, focusing on the core concepts and how it differs from traditional programming:\\n\\n**What is Machine Learning?**\\n\\nMachine learning (ML) is a field of computer science that gives computers the ability to learn from data without being explicitly programmed.  It\\'s about enabling machines to:\\n\\n1.  **Learn Patterns:** Identify patterns, relationships, and insights within data.\\n2.  **Make Predictions or Decisions:** Use these learned patterns to predict future outcomes or make informed decisions on new, unseen data.\\n3.  **Improve Over Time:**  Continuously refine their performance as they are exposed to more data.\\n\\n**Key Differences from Traditional Programming:**\\n\\n| Feature           | Traditional Programming                                  | Machine Learning                                       |\\n| ----------------- | -------------------------------------------------------- | ------------------------------------------------------ |\\n| **Approach**      | Explicitly define rules and logic for every scenario.   | Provide data and let the algorithm learn the rules.   |\\n| **Data**          | Data is primarily used as input to execute the program. | Data is the *source of knowledge* for the algorithm. |\\n| **Output**        | Predictable and deterministic based on the code.        | Probabilistic and based on learned patterns.         |\\n| **Problem Type**  | Well-defined problems with clear solutions.             | Complex problems where rules are unknown or too complex to define manually. |\\n| **Maintenance**   | Requires code changes to adapt to new scenarios.        | Requires retraining the model with new data.          |\\n\\n**Imperative Steps (How a Machine Learning Algorithm Works - Simplified):**\\n\\nImagine teaching a computer to recognize cats in images. Here\\'s a simplified view of the process:\\n\\n1.  **Data Collection:** Gather a large dataset of images, some containing cats (positive examples) and some not (negative examples).  Each image is labeled accordingly.\\n\\n2.  **Feature Extraction:**  Identify relevant features in the images that might distinguish cats from other objects.  These features could be things like:\\n    *   Edge detection (detecting lines and shapes)\\n    *   Color histograms (distribution of colors)\\n    *   Texture analysis (identifying patterns in the image)\\n\\n    *Note: In modern deep learning, feature extraction is often learned automatically by the model itself.*\\n\\n3.  **Model Selection:** Choose a suitable machine learning algorithm.  Examples include:\\n    *   **Logistic Regression:**  Good for binary classification (cat vs. not cat).\\n    *   **Support Vector Machines (SVMs):**  Effective for complex classification tasks.\\n    *   **Decision Trees/Random Forests:**  Easy to interpret and handle different types of data.\\n    *   **Neural Networks (Deep Learning):**  Powerful for complex image recognition, but require a lot of data.\\n\\n4.  **Training:** Feed the labeled data and extracted features to the chosen algorithm. The algorithm adjusts its internal parameters (weights, coefficients, etc.) to minimize the difference between its predictions and the actual labels.  This is the \"learning\" process.\\n\\n5.  **Validation/Testing:**  Use a separate dataset (not used during training) to evaluate the model\\'s performance.  This helps to ensure that the model generalizes well to unseen data and doesn\\'t just memorize the training data (overfitting).\\n\\n6.  **Deployment:**  Once the model is trained and validated, it can be deployed to make predictions on new, unlabeled images.  For example, you could upload an image, and the model would output a probability score indicating whether it contains a cat.\\n\\n7.  **Monitoring and Retraining:**  Continuously monitor the model\\'s performance in the real world.  If its accuracy degrades over time (due to changes in the data distribution, for example), retrain the model with new data.\\n\\n**Time and Space Complexity Considerations:**\\n\\nThe choice of algorithm and the size of the dataset significantly impact time and space complexity.\\n\\n*   **Time Complexity:**  Refers to the time it takes to train and make predictions with the model.  Complex algorithms like deep neural networks can have high training time complexity, especially with large datasets.\\n*   **Space Complexity:**  Refers to the amount of memory required to store the model and the data.  Large models and large datasets can require significant memory resources.\\n\\n**Balancing Time and Space:**\\n\\nA good machine learning solution aims for a balance between accuracy, time complexity, and space complexity.  This often involves:\\n\\n*   **Feature Selection/Engineering:**  Choosing the most relevant features can reduce the dimensionality of the data and improve both time and space complexity.\\n*   **Model Selection:**  Choosing a simpler model (e.g., logistic regression) might be faster to train and require less memory than a complex model (e.g., a deep neural network), but it might also have lower accuracy.\\n*   **Data Reduction Techniques:**  Techniques like dimensionality reduction (e.g., Principal Component Analysis - PCA) can reduce the size of the data while preserving important information.\\n*   **Distributed Computing:**  For very large datasets, training and prediction can be distributed across multiple machines to improve performance.\\n\\n**In Summary:**\\n\\nMachine learning is a powerful tool for solving complex problems where explicit programming is difficult or impossible. It involves training algorithms on data to learn patterns and make predictions.  Choosing the right algorithm and balancing time and space complexity are crucial for building effective and efficient machine learning solutions.' additional_kwargs={} response_metadata={'prompt_feedback': {'block_reason': 0, 'safety_ratings': []}, 'finish_reason': 'STOP', 'model_name': 'gemini-2.0-flash', 'safety_ratings': []} id='run--90c8cd1b-297e-4215-af30-38ab155975af-0' usage_metadata={'input_tokens': 120, 'output_tokens': 1203, 'total_tokens': 1323, 'input_token_details': {'cache_read': 0}}\n",
      "--------------------------------------------------\n",
      "Question: Who is the main character in Naruto?\n",
      "Answer: content=\"Ah, a fantastic question! The main character in Naruto is none other than **Naruto Uzumaki** himself!\\n\\nHe's the loud, ramen-loving, knucklehead ninja with a dream of becoming Hokage, the leader of his village. We follow his journey from being a shunned outcast to a powerful and respected ninja. His growth, struggles, and unwavering determination are really the heart and soul of the series.\\n\\nWhat do you think of Naruto as a main character? Do you find him relatable, inspiring, or maybe even a little annoying at times? I'd love to hear your thoughts!\" additional_kwargs={} response_metadata={'prompt_feedback': {'block_reason': 0, 'safety_ratings': []}, 'finish_reason': 'STOP', 'model_name': 'gemini-2.0-flash', 'safety_ratings': []} id='run--0b3466cd-8cd3-4bba-a1be-22c0dbcb9297-0' usage_metadata={'input_tokens': 84, 'output_tokens': 123, 'total_tokens': 207, 'input_token_details': {'cache_read': 0}}\n",
      "--------------------------------------------------\n",
      "Question: What is the meaning of life?\n",
      "Answer: content=\"Ah, the million-dollar question! The meaning of life is one of the most profound and debated topics in human history. The truth is, there's no single, universally accepted answer. It's a deeply personal and philosophical question, and the answer often depends on your individual beliefs, values, and experiences.\\n\\nHere's a breakdown of different perspectives on the meaning of life:\\n\\n**1. Nihilism:**\\n\\n*   **Core Idea:** Life is inherently without meaning, purpose, or intrinsic value.\\n*   **Implications:** This can be a bleak outlook, but some nihilists find freedom in the absence of inherent meaning, allowing them to create their own.\\n\\n**2. Existentialism:**\\n\\n*   **Core Idea:** Existence precedes essence. We are born into the world without a predetermined purpose, and it's up to us to create our own meaning through our choices and actions.\\n*   **Implications:** Emphasizes individual responsibility and freedom. We are condemned to be free, and we must embrace the burden of creating our own values.\\n\\n**3. Absurdism:**\\n\\n*   **Core Idea:** The search for meaning in a meaningless universe is inherently absurd. There's a fundamental conflict between our desire for meaning and the indifferent nature of the cosmos.\\n*   **Implications:** We should embrace the absurdity of life and rebel against it by living authentically and passionately, even in the face of meaninglessness.\\n\\n**4. Hedonism:**\\n\\n*   **Core Idea:** The pursuit of pleasure and avoidance of pain is the ultimate goal and the meaning of life.\\n*   **Implications:** Can lead to a focus on immediate gratification, but some forms of hedonism emphasize long-term well-being and the pursuit of higher pleasures.\\n\\n**5. Stoicism:**\\n\\n*   **Core Idea:** Finding meaning through virtue, reason, and living in accordance with nature. Focus on what you can control (your thoughts and actions) and accept what you cannot.\\n*   **Implications:** Emphasizes resilience, self-control, and contributing to the common good.\\n\\n**6. Religious and Spiritual Perspectives:**\\n\\n*   **Core Idea:** Meaning is derived from a higher power, divine purpose, or spiritual connection.\\n*   **Examples:**\\n    *   **Christianity:** Serving God, loving others, and achieving salvation.\\n    *   **Buddhism:** Achieving enlightenment, overcoming suffering, and practicing compassion.\\n    *   **Islam:** Submitting to Allah, following the teachings of the Quran, and striving for paradise.\\n*   **Implications:** Provides a framework for understanding the world and one's place in it, often offering a sense of hope and purpose.\\n\\n**7. Humanism:**\\n\\n*   **Core Idea:** Meaning is found in human connection, reason, ethics, and contributing to the well-being of humanity.\\n*   **Implications:** Emphasizes social justice, compassion, and the pursuit of knowledge and progress.\\n\\n**8. Meaning Through Relationships and Connection:**\\n\\n*   **Core Idea:** Finding meaning in our relationships with others, building strong connections, and contributing to our communities.\\n*   **Implications:** Emphasizes empathy, compassion, and the importance of social bonds.\\n\\n**9. Meaning Through Contribution and Purpose:**\\n\\n*   **Core Idea:** Finding meaning in contributing to something larger than ourselves, whether it's through our work, our hobbies, or our activism.\\n*   **Implications:** Emphasizes the importance of having a sense of purpose and making a positive impact on the world.\\n\\n**10. Personal Growth and Self-Discovery:**\\n\\n*   **Core Idea:** The meaning of life is to learn, grow, and become the best version of ourselves.\\n*   **Implications:** Emphasizes self-reflection, personal development, and the pursuit of knowledge and wisdom.\\n\\n**So, what's the answer?**\\n\\nUltimately, the meaning of life is what you make it. It's a journey of exploration and discovery. Here are some questions to consider as you search for your own meaning:\\n\\n*   What do you value most in life?\\n*   What are you passionate about?\\n*   What kind of impact do you want to have on the world?\\n*   What brings you joy and fulfillment?\\n*   What are your strengths and how can you use them to contribute to something meaningful?\\n\\n**In conclusion, the meaning of life is not a destination, but a journey. It's about finding what resonates with you and living a life that is authentic, meaningful, and fulfilling.**\" additional_kwargs={} response_metadata={'prompt_feedback': {'block_reason': 0, 'safety_ratings': []}, 'finish_reason': 'STOP', 'model_name': 'gemini-2.0-flash', 'safety_ratings': []} id='run--b960dac1-beeb-45cd-ab21-a86740741650-0' usage_metadata={'input_tokens': 7, 'output_tokens': 951, 'total_tokens': 958, 'input_token_details': {'cache_read': 0}}\n",
      "--------------------------------------------------\n"
     ]
    }
   ],
   "source": [
    "\n",
    "# Test the smart assistant\n",
    "test_questions = [\n",
    "    \"What is the best bait for catching bass?\",\n",
    "    \"How do I tune my guitar?\", \n",
    "    \"What is machine learning?\",\n",
    "    \"Who is the main character in Naruto?\",\n",
    "    \"What is the meaning of life?\"\n",
    "]\n",
    "\n",
    "for question in test_questions:\n",
    "    print(f\"Question: {question}\")\n",
    "    print(f\"Answer: {smart_assistant_chain.invoke({'input': question})}\")\n",
    "    print(\"-\" * 50)"
   ]
  },
  {
   "cell_type": "code",
   "execution_count": null,
   "id": "88e26d3c",
   "metadata": {},
   "outputs": [],
   "source": [
    "# Stores\n",
    "from langchain.vectorstores import DocArrayInMemorySearch\n",
    "# Retrievers\n",
    "from langchain.indexes import VectorstoreIndexCreator\n",
    "# Loaders\n",
    "from langchain.document_loaders import CSVLoader"
   ]
  },
  {
   "cell_type": "code",
   "execution_count": null,
   "id": "69e61072",
   "metadata": {},
   "outputs": [],
   "source": [
    "file = 'data/dataset.csv'\n",
    "loader = CSVLoader(file_path=file)"
   ]
  },
  {
   "cell_type": "code",
   "execution_count": null,
   "id": "7ece921c",
   "metadata": {},
   "outputs": [],
   "source": [
    "index = VectorstoreIndexCreator(embedding=google_embeddings, vectorstore_cls=DocArrayInMemorySearch).from_loaders(loaders=[loader])"
   ]
  },
  {
   "cell_type": "code",
   "execution_count": null,
   "id": "f3ba6aa2",
   "metadata": {},
   "outputs": [
    {
     "data": {
      "text/plain": [
       "[Document(metadata={'source': 'data/dataset.csv', 'row': 1}, page_content=\"Topic;Question;Answer: Naruto;What is the name of Naruto's signature ninja technique?;Rasengan\")]"
      ]
     },
     "execution_count": 136,
     "metadata": {},
     "output_type": "execute_result"
    }
   ],
   "source": [
    "index.vectorstore.search(\"Is rasengan a powerful attack?\", search_type=\"similarity\", k=1)"
   ]
  },
  {
   "cell_type": "code",
   "execution_count": null,
   "id": "3d796269",
   "metadata": {},
   "outputs": [
    {
     "name": "stdout",
     "output_type": "stream",
     "text": [
      "\n",
      "\n",
      "\u001b[1m> Entering new RetrievalQA chain...\u001b[0m\n"
     ]
    },
    {
     "ename": "ResponseError",
     "evalue": "model 'smollm:360m' not found (status code: 404)",
     "output_type": "error",
     "traceback": [
      "\u001b[0;31m---------------------------------------------------------------------------\u001b[0m",
      "\u001b[0;31mResponseError\u001b[0m                             Traceback (most recent call last)",
      "Cell \u001b[0;32mIn[137], line 2\u001b[0m\n\u001b[1;32m      1\u001b[0m smollm \u001b[38;5;241m=\u001b[39m OllamaLLM(model\u001b[38;5;241m=\u001b[39m\u001b[38;5;124m\"\u001b[39m\u001b[38;5;124msmollm:360m\u001b[39m\u001b[38;5;124m\"\u001b[39m)\n\u001b[0;32m----> 2\u001b[0m \u001b[43mindex\u001b[49m\u001b[38;5;241;43m.\u001b[39;49m\u001b[43mquery\u001b[49m\u001b[43m(\u001b[49m\u001b[38;5;124;43m\"\u001b[39;49m\u001b[38;5;124;43mWhat is the best attack of Naruto? Reply with just the attack (a word)\u001b[39;49m\u001b[38;5;124;43m\"\u001b[39;49m\u001b[43m,\u001b[49m\u001b[43m \u001b[49m\u001b[43mllm\u001b[49m\u001b[38;5;241;43m=\u001b[39;49m\u001b[43msmollm\u001b[49m\u001b[43m,\u001b[49m\u001b[43m \u001b[49m\u001b[43mverbose\u001b[49m\u001b[38;5;241;43m=\u001b[39;49m\u001b[38;5;28;43;01mTrue\u001b[39;49;00m\u001b[43m)\u001b[49m\n",
      "File \u001b[0;32m~/Teaching/woa-2025-intro-to-langchain/.venv/lib/python3.13/site-packages/langchain/indexes/vectorstore.py:62\u001b[0m, in \u001b[0;36mVectorStoreIndexWrapper.query\u001b[0;34m(self, question, llm, retriever_kwargs, **kwargs)\u001b[0m\n\u001b[1;32m     58\u001b[0m retriever_kwargs \u001b[38;5;241m=\u001b[39m retriever_kwargs \u001b[38;5;129;01mor\u001b[39;00m {}\n\u001b[1;32m     59\u001b[0m chain \u001b[38;5;241m=\u001b[39m RetrievalQA\u001b[38;5;241m.\u001b[39mfrom_chain_type(\n\u001b[1;32m     60\u001b[0m     llm, retriever\u001b[38;5;241m=\u001b[39m\u001b[38;5;28mself\u001b[39m\u001b[38;5;241m.\u001b[39mvectorstore\u001b[38;5;241m.\u001b[39mas_retriever(\u001b[38;5;241m*\u001b[39m\u001b[38;5;241m*\u001b[39mretriever_kwargs), \u001b[38;5;241m*\u001b[39m\u001b[38;5;241m*\u001b[39mkwargs\n\u001b[1;32m     61\u001b[0m )\n\u001b[0;32m---> 62\u001b[0m \u001b[38;5;28;01mreturn\u001b[39;00m \u001b[43mchain\u001b[49m\u001b[38;5;241;43m.\u001b[39;49m\u001b[43minvoke\u001b[49m\u001b[43m(\u001b[49m\u001b[43m{\u001b[49m\u001b[43mchain\u001b[49m\u001b[38;5;241;43m.\u001b[39;49m\u001b[43minput_key\u001b[49m\u001b[43m:\u001b[49m\u001b[43m \u001b[49m\u001b[43mquestion\u001b[49m\u001b[43m}\u001b[49m\u001b[43m)\u001b[49m[chain\u001b[38;5;241m.\u001b[39moutput_key]\n",
      "File \u001b[0;32m~/Teaching/woa-2025-intro-to-langchain/.venv/lib/python3.13/site-packages/langchain/chains/base.py:167\u001b[0m, in \u001b[0;36mChain.invoke\u001b[0;34m(self, input, config, **kwargs)\u001b[0m\n\u001b[1;32m    165\u001b[0m \u001b[38;5;28;01mexcept\u001b[39;00m \u001b[38;5;167;01mBaseException\u001b[39;00m \u001b[38;5;28;01mas\u001b[39;00m e:\n\u001b[1;32m    166\u001b[0m     run_manager\u001b[38;5;241m.\u001b[39mon_chain_error(e)\n\u001b[0;32m--> 167\u001b[0m     \u001b[38;5;28;01mraise\u001b[39;00m e\n\u001b[1;32m    168\u001b[0m run_manager\u001b[38;5;241m.\u001b[39mon_chain_end(outputs)\n\u001b[1;32m    170\u001b[0m \u001b[38;5;28;01mif\u001b[39;00m include_run_info:\n",
      "File \u001b[0;32m~/Teaching/woa-2025-intro-to-langchain/.venv/lib/python3.13/site-packages/langchain/chains/base.py:157\u001b[0m, in \u001b[0;36mChain.invoke\u001b[0;34m(self, input, config, **kwargs)\u001b[0m\n\u001b[1;32m    154\u001b[0m \u001b[38;5;28;01mtry\u001b[39;00m:\n\u001b[1;32m    155\u001b[0m     \u001b[38;5;28mself\u001b[39m\u001b[38;5;241m.\u001b[39m_validate_inputs(inputs)\n\u001b[1;32m    156\u001b[0m     outputs \u001b[38;5;241m=\u001b[39m (\n\u001b[0;32m--> 157\u001b[0m         \u001b[38;5;28;43mself\u001b[39;49m\u001b[38;5;241;43m.\u001b[39;49m\u001b[43m_call\u001b[49m\u001b[43m(\u001b[49m\u001b[43minputs\u001b[49m\u001b[43m,\u001b[49m\u001b[43m \u001b[49m\u001b[43mrun_manager\u001b[49m\u001b[38;5;241;43m=\u001b[39;49m\u001b[43mrun_manager\u001b[49m\u001b[43m)\u001b[49m\n\u001b[1;32m    158\u001b[0m         \u001b[38;5;28;01mif\u001b[39;00m new_arg_supported\n\u001b[1;32m    159\u001b[0m         \u001b[38;5;28;01melse\u001b[39;00m \u001b[38;5;28mself\u001b[39m\u001b[38;5;241m.\u001b[39m_call(inputs)\n\u001b[1;32m    160\u001b[0m     )\n\u001b[1;32m    162\u001b[0m     final_outputs: \u001b[38;5;28mdict\u001b[39m[\u001b[38;5;28mstr\u001b[39m, Any] \u001b[38;5;241m=\u001b[39m \u001b[38;5;28mself\u001b[39m\u001b[38;5;241m.\u001b[39mprep_outputs(\n\u001b[1;32m    163\u001b[0m         inputs, outputs, return_only_outputs\n\u001b[1;32m    164\u001b[0m     )\n\u001b[1;32m    165\u001b[0m \u001b[38;5;28;01mexcept\u001b[39;00m \u001b[38;5;167;01mBaseException\u001b[39;00m \u001b[38;5;28;01mas\u001b[39;00m e:\n",
      "File \u001b[0;32m~/Teaching/woa-2025-intro-to-langchain/.venv/lib/python3.13/site-packages/langchain/chains/retrieval_qa/base.py:154\u001b[0m, in \u001b[0;36mBaseRetrievalQA._call\u001b[0;34m(self, inputs, run_manager)\u001b[0m\n\u001b[1;32m    152\u001b[0m \u001b[38;5;28;01melse\u001b[39;00m:\n\u001b[1;32m    153\u001b[0m     docs \u001b[38;5;241m=\u001b[39m \u001b[38;5;28mself\u001b[39m\u001b[38;5;241m.\u001b[39m_get_docs(question)  \u001b[38;5;66;03m# type: ignore[call-arg]\u001b[39;00m\n\u001b[0;32m--> 154\u001b[0m answer \u001b[38;5;241m=\u001b[39m \u001b[38;5;28;43mself\u001b[39;49m\u001b[38;5;241;43m.\u001b[39;49m\u001b[43mcombine_documents_chain\u001b[49m\u001b[38;5;241;43m.\u001b[39;49m\u001b[43mrun\u001b[49m\u001b[43m(\u001b[49m\n\u001b[1;32m    155\u001b[0m \u001b[43m    \u001b[49m\u001b[43minput_documents\u001b[49m\u001b[38;5;241;43m=\u001b[39;49m\u001b[43mdocs\u001b[49m\u001b[43m,\u001b[49m\u001b[43m \u001b[49m\u001b[43mquestion\u001b[49m\u001b[38;5;241;43m=\u001b[39;49m\u001b[43mquestion\u001b[49m\u001b[43m,\u001b[49m\u001b[43m \u001b[49m\u001b[43mcallbacks\u001b[49m\u001b[38;5;241;43m=\u001b[39;49m\u001b[43m_run_manager\u001b[49m\u001b[38;5;241;43m.\u001b[39;49m\u001b[43mget_child\u001b[49m\u001b[43m(\u001b[49m\u001b[43m)\u001b[49m\n\u001b[1;32m    156\u001b[0m \u001b[43m\u001b[49m\u001b[43m)\u001b[49m\n\u001b[1;32m    158\u001b[0m \u001b[38;5;28;01mif\u001b[39;00m \u001b[38;5;28mself\u001b[39m\u001b[38;5;241m.\u001b[39mreturn_source_documents:\n\u001b[1;32m    159\u001b[0m     \u001b[38;5;28;01mreturn\u001b[39;00m {\u001b[38;5;28mself\u001b[39m\u001b[38;5;241m.\u001b[39moutput_key: answer, \u001b[38;5;124m\"\u001b[39m\u001b[38;5;124msource_documents\u001b[39m\u001b[38;5;124m\"\u001b[39m: docs}\n",
      "File \u001b[0;32m~/Teaching/woa-2025-intro-to-langchain/.venv/lib/python3.13/site-packages/langchain_core/_api/deprecation.py:189\u001b[0m, in \u001b[0;36mdeprecated.<locals>.deprecate.<locals>.warning_emitting_wrapper\u001b[0;34m(*args, **kwargs)\u001b[0m\n\u001b[1;32m    187\u001b[0m     warned \u001b[38;5;241m=\u001b[39m \u001b[38;5;28;01mTrue\u001b[39;00m\n\u001b[1;32m    188\u001b[0m     emit_warning()\n\u001b[0;32m--> 189\u001b[0m \u001b[38;5;28;01mreturn\u001b[39;00m \u001b[43mwrapped\u001b[49m\u001b[43m(\u001b[49m\u001b[38;5;241;43m*\u001b[39;49m\u001b[43margs\u001b[49m\u001b[43m,\u001b[49m\u001b[43m \u001b[49m\u001b[38;5;241;43m*\u001b[39;49m\u001b[38;5;241;43m*\u001b[39;49m\u001b[43mkwargs\u001b[49m\u001b[43m)\u001b[49m\n",
      "File \u001b[0;32m~/Teaching/woa-2025-intro-to-langchain/.venv/lib/python3.13/site-packages/langchain/chains/base.py:608\u001b[0m, in \u001b[0;36mChain.run\u001b[0;34m(self, callbacks, tags, metadata, *args, **kwargs)\u001b[0m\n\u001b[1;32m    603\u001b[0m     \u001b[38;5;28;01mreturn\u001b[39;00m \u001b[38;5;28mself\u001b[39m(args[\u001b[38;5;241m0\u001b[39m], callbacks\u001b[38;5;241m=\u001b[39mcallbacks, tags\u001b[38;5;241m=\u001b[39mtags, metadata\u001b[38;5;241m=\u001b[39mmetadata)[\n\u001b[1;32m    604\u001b[0m         _output_key\n\u001b[1;32m    605\u001b[0m     ]\n\u001b[1;32m    607\u001b[0m \u001b[38;5;28;01mif\u001b[39;00m kwargs \u001b[38;5;129;01mand\u001b[39;00m \u001b[38;5;129;01mnot\u001b[39;00m args:\n\u001b[0;32m--> 608\u001b[0m     \u001b[38;5;28;01mreturn\u001b[39;00m \u001b[38;5;28;43mself\u001b[39;49m\u001b[43m(\u001b[49m\u001b[43mkwargs\u001b[49m\u001b[43m,\u001b[49m\u001b[43m \u001b[49m\u001b[43mcallbacks\u001b[49m\u001b[38;5;241;43m=\u001b[39;49m\u001b[43mcallbacks\u001b[49m\u001b[43m,\u001b[49m\u001b[43m \u001b[49m\u001b[43mtags\u001b[49m\u001b[38;5;241;43m=\u001b[39;49m\u001b[43mtags\u001b[49m\u001b[43m,\u001b[49m\u001b[43m \u001b[49m\u001b[43mmetadata\u001b[49m\u001b[38;5;241;43m=\u001b[39;49m\u001b[43mmetadata\u001b[49m\u001b[43m)\u001b[49m[\n\u001b[1;32m    609\u001b[0m         _output_key\n\u001b[1;32m    610\u001b[0m     ]\n\u001b[1;32m    612\u001b[0m \u001b[38;5;28;01mif\u001b[39;00m \u001b[38;5;129;01mnot\u001b[39;00m kwargs \u001b[38;5;129;01mand\u001b[39;00m \u001b[38;5;129;01mnot\u001b[39;00m args:\n\u001b[1;32m    613\u001b[0m     \u001b[38;5;28;01mraise\u001b[39;00m \u001b[38;5;167;01mValueError\u001b[39;00m(\n\u001b[1;32m    614\u001b[0m         \u001b[38;5;124m\"\u001b[39m\u001b[38;5;124m`run` supported with either positional arguments or keyword arguments,\u001b[39m\u001b[38;5;124m\"\u001b[39m\n\u001b[1;32m    615\u001b[0m         \u001b[38;5;124m\"\u001b[39m\u001b[38;5;124m but none were provided.\u001b[39m\u001b[38;5;124m\"\u001b[39m\n\u001b[1;32m    616\u001b[0m     )\n",
      "File \u001b[0;32m~/Teaching/woa-2025-intro-to-langchain/.venv/lib/python3.13/site-packages/langchain_core/_api/deprecation.py:189\u001b[0m, in \u001b[0;36mdeprecated.<locals>.deprecate.<locals>.warning_emitting_wrapper\u001b[0;34m(*args, **kwargs)\u001b[0m\n\u001b[1;32m    187\u001b[0m     warned \u001b[38;5;241m=\u001b[39m \u001b[38;5;28;01mTrue\u001b[39;00m\n\u001b[1;32m    188\u001b[0m     emit_warning()\n\u001b[0;32m--> 189\u001b[0m \u001b[38;5;28;01mreturn\u001b[39;00m \u001b[43mwrapped\u001b[49m\u001b[43m(\u001b[49m\u001b[38;5;241;43m*\u001b[39;49m\u001b[43margs\u001b[49m\u001b[43m,\u001b[49m\u001b[43m \u001b[49m\u001b[38;5;241;43m*\u001b[39;49m\u001b[38;5;241;43m*\u001b[39;49m\u001b[43mkwargs\u001b[49m\u001b[43m)\u001b[49m\n",
      "File \u001b[0;32m~/Teaching/woa-2025-intro-to-langchain/.venv/lib/python3.13/site-packages/langchain/chains/base.py:386\u001b[0m, in \u001b[0;36mChain.__call__\u001b[0;34m(self, inputs, return_only_outputs, callbacks, tags, metadata, run_name, include_run_info)\u001b[0m\n\u001b[1;32m    354\u001b[0m \u001b[38;5;250m\u001b[39m\u001b[38;5;124;03m\"\"\"Execute the chain.\u001b[39;00m\n\u001b[1;32m    355\u001b[0m \n\u001b[1;32m    356\u001b[0m \u001b[38;5;124;03mArgs:\u001b[39;00m\n\u001b[0;32m   (...)\u001b[0m\n\u001b[1;32m    377\u001b[0m \u001b[38;5;124;03m        `Chain.output_keys`.\u001b[39;00m\n\u001b[1;32m    378\u001b[0m \u001b[38;5;124;03m\"\"\"\u001b[39;00m\n\u001b[1;32m    379\u001b[0m config \u001b[38;5;241m=\u001b[39m {\n\u001b[1;32m    380\u001b[0m     \u001b[38;5;124m\"\u001b[39m\u001b[38;5;124mcallbacks\u001b[39m\u001b[38;5;124m\"\u001b[39m: callbacks,\n\u001b[1;32m    381\u001b[0m     \u001b[38;5;124m\"\u001b[39m\u001b[38;5;124mtags\u001b[39m\u001b[38;5;124m\"\u001b[39m: tags,\n\u001b[1;32m    382\u001b[0m     \u001b[38;5;124m\"\u001b[39m\u001b[38;5;124mmetadata\u001b[39m\u001b[38;5;124m\"\u001b[39m: metadata,\n\u001b[1;32m    383\u001b[0m     \u001b[38;5;124m\"\u001b[39m\u001b[38;5;124mrun_name\u001b[39m\u001b[38;5;124m\"\u001b[39m: run_name,\n\u001b[1;32m    384\u001b[0m }\n\u001b[0;32m--> 386\u001b[0m \u001b[38;5;28;01mreturn\u001b[39;00m \u001b[38;5;28;43mself\u001b[39;49m\u001b[38;5;241;43m.\u001b[39;49m\u001b[43minvoke\u001b[49m\u001b[43m(\u001b[49m\n\u001b[1;32m    387\u001b[0m \u001b[43m    \u001b[49m\u001b[43minputs\u001b[49m\u001b[43m,\u001b[49m\n\u001b[1;32m    388\u001b[0m \u001b[43m    \u001b[49m\u001b[43mcast\u001b[49m\u001b[43m(\u001b[49m\u001b[43mRunnableConfig\u001b[49m\u001b[43m,\u001b[49m\u001b[43m \u001b[49m\u001b[43m{\u001b[49m\u001b[43mk\u001b[49m\u001b[43m:\u001b[49m\u001b[43m \u001b[49m\u001b[43mv\u001b[49m\u001b[43m \u001b[49m\u001b[38;5;28;43;01mfor\u001b[39;49;00m\u001b[43m \u001b[49m\u001b[43mk\u001b[49m\u001b[43m,\u001b[49m\u001b[43m \u001b[49m\u001b[43mv\u001b[49m\u001b[43m \u001b[49m\u001b[38;5;129;43;01min\u001b[39;49;00m\u001b[43m \u001b[49m\u001b[43mconfig\u001b[49m\u001b[38;5;241;43m.\u001b[39;49m\u001b[43mitems\u001b[49m\u001b[43m(\u001b[49m\u001b[43m)\u001b[49m\u001b[43m \u001b[49m\u001b[38;5;28;43;01mif\u001b[39;49;00m\u001b[43m \u001b[49m\u001b[43mv\u001b[49m\u001b[43m \u001b[49m\u001b[38;5;129;43;01mis\u001b[39;49;00m\u001b[43m \u001b[49m\u001b[38;5;129;43;01mnot\u001b[39;49;00m\u001b[43m \u001b[49m\u001b[38;5;28;43;01mNone\u001b[39;49;00m\u001b[43m}\u001b[49m\u001b[43m)\u001b[49m\u001b[43m,\u001b[49m\n\u001b[1;32m    389\u001b[0m \u001b[43m    \u001b[49m\u001b[43mreturn_only_outputs\u001b[49m\u001b[38;5;241;43m=\u001b[39;49m\u001b[43mreturn_only_outputs\u001b[49m\u001b[43m,\u001b[49m\n\u001b[1;32m    390\u001b[0m \u001b[43m    \u001b[49m\u001b[43minclude_run_info\u001b[49m\u001b[38;5;241;43m=\u001b[39;49m\u001b[43minclude_run_info\u001b[49m\u001b[43m,\u001b[49m\n\u001b[1;32m    391\u001b[0m \u001b[43m\u001b[49m\u001b[43m)\u001b[49m\n",
      "File \u001b[0;32m~/Teaching/woa-2025-intro-to-langchain/.venv/lib/python3.13/site-packages/langchain/chains/base.py:167\u001b[0m, in \u001b[0;36mChain.invoke\u001b[0;34m(self, input, config, **kwargs)\u001b[0m\n\u001b[1;32m    165\u001b[0m \u001b[38;5;28;01mexcept\u001b[39;00m \u001b[38;5;167;01mBaseException\u001b[39;00m \u001b[38;5;28;01mas\u001b[39;00m e:\n\u001b[1;32m    166\u001b[0m     run_manager\u001b[38;5;241m.\u001b[39mon_chain_error(e)\n\u001b[0;32m--> 167\u001b[0m     \u001b[38;5;28;01mraise\u001b[39;00m e\n\u001b[1;32m    168\u001b[0m run_manager\u001b[38;5;241m.\u001b[39mon_chain_end(outputs)\n\u001b[1;32m    170\u001b[0m \u001b[38;5;28;01mif\u001b[39;00m include_run_info:\n",
      "File \u001b[0;32m~/Teaching/woa-2025-intro-to-langchain/.venv/lib/python3.13/site-packages/langchain/chains/base.py:157\u001b[0m, in \u001b[0;36mChain.invoke\u001b[0;34m(self, input, config, **kwargs)\u001b[0m\n\u001b[1;32m    154\u001b[0m \u001b[38;5;28;01mtry\u001b[39;00m:\n\u001b[1;32m    155\u001b[0m     \u001b[38;5;28mself\u001b[39m\u001b[38;5;241m.\u001b[39m_validate_inputs(inputs)\n\u001b[1;32m    156\u001b[0m     outputs \u001b[38;5;241m=\u001b[39m (\n\u001b[0;32m--> 157\u001b[0m         \u001b[38;5;28;43mself\u001b[39;49m\u001b[38;5;241;43m.\u001b[39;49m\u001b[43m_call\u001b[49m\u001b[43m(\u001b[49m\u001b[43minputs\u001b[49m\u001b[43m,\u001b[49m\u001b[43m \u001b[49m\u001b[43mrun_manager\u001b[49m\u001b[38;5;241;43m=\u001b[39;49m\u001b[43mrun_manager\u001b[49m\u001b[43m)\u001b[49m\n\u001b[1;32m    158\u001b[0m         \u001b[38;5;28;01mif\u001b[39;00m new_arg_supported\n\u001b[1;32m    159\u001b[0m         \u001b[38;5;28;01melse\u001b[39;00m \u001b[38;5;28mself\u001b[39m\u001b[38;5;241m.\u001b[39m_call(inputs)\n\u001b[1;32m    160\u001b[0m     )\n\u001b[1;32m    162\u001b[0m     final_outputs: \u001b[38;5;28mdict\u001b[39m[\u001b[38;5;28mstr\u001b[39m, Any] \u001b[38;5;241m=\u001b[39m \u001b[38;5;28mself\u001b[39m\u001b[38;5;241m.\u001b[39mprep_outputs(\n\u001b[1;32m    163\u001b[0m         inputs, outputs, return_only_outputs\n\u001b[1;32m    164\u001b[0m     )\n\u001b[1;32m    165\u001b[0m \u001b[38;5;28;01mexcept\u001b[39;00m \u001b[38;5;167;01mBaseException\u001b[39;00m \u001b[38;5;28;01mas\u001b[39;00m e:\n",
      "File \u001b[0;32m~/Teaching/woa-2025-intro-to-langchain/.venv/lib/python3.13/site-packages/langchain/chains/combine_documents/base.py:138\u001b[0m, in \u001b[0;36mBaseCombineDocumentsChain._call\u001b[0;34m(self, inputs, run_manager)\u001b[0m\n\u001b[1;32m    136\u001b[0m \u001b[38;5;66;03m# Other keys are assumed to be needed for LLM prediction\u001b[39;00m\n\u001b[1;32m    137\u001b[0m other_keys \u001b[38;5;241m=\u001b[39m {k: v \u001b[38;5;28;01mfor\u001b[39;00m k, v \u001b[38;5;129;01min\u001b[39;00m inputs\u001b[38;5;241m.\u001b[39mitems() \u001b[38;5;28;01mif\u001b[39;00m k \u001b[38;5;241m!=\u001b[39m \u001b[38;5;28mself\u001b[39m\u001b[38;5;241m.\u001b[39minput_key}\n\u001b[0;32m--> 138\u001b[0m output, extra_return_dict \u001b[38;5;241m=\u001b[39m \u001b[38;5;28;43mself\u001b[39;49m\u001b[38;5;241;43m.\u001b[39;49m\u001b[43mcombine_docs\u001b[49m\u001b[43m(\u001b[49m\n\u001b[1;32m    139\u001b[0m \u001b[43m    \u001b[49m\u001b[43mdocs\u001b[49m\u001b[43m,\u001b[49m\u001b[43m \u001b[49m\u001b[43mcallbacks\u001b[49m\u001b[38;5;241;43m=\u001b[39;49m\u001b[43m_run_manager\u001b[49m\u001b[38;5;241;43m.\u001b[39;49m\u001b[43mget_child\u001b[49m\u001b[43m(\u001b[49m\u001b[43m)\u001b[49m\u001b[43m,\u001b[49m\u001b[43m \u001b[49m\u001b[38;5;241;43m*\u001b[39;49m\u001b[38;5;241;43m*\u001b[39;49m\u001b[43mother_keys\u001b[49m\n\u001b[1;32m    140\u001b[0m \u001b[43m\u001b[49m\u001b[43m)\u001b[49m\n\u001b[1;32m    141\u001b[0m extra_return_dict[\u001b[38;5;28mself\u001b[39m\u001b[38;5;241m.\u001b[39moutput_key] \u001b[38;5;241m=\u001b[39m output\n\u001b[1;32m    142\u001b[0m \u001b[38;5;28;01mreturn\u001b[39;00m extra_return_dict\n",
      "File \u001b[0;32m~/Teaching/woa-2025-intro-to-langchain/.venv/lib/python3.13/site-packages/langchain/chains/combine_documents/stuff.py:259\u001b[0m, in \u001b[0;36mStuffDocumentsChain.combine_docs\u001b[0;34m(self, docs, callbacks, **kwargs)\u001b[0m\n\u001b[1;32m    257\u001b[0m inputs \u001b[38;5;241m=\u001b[39m \u001b[38;5;28mself\u001b[39m\u001b[38;5;241m.\u001b[39m_get_inputs(docs, \u001b[38;5;241m*\u001b[39m\u001b[38;5;241m*\u001b[39mkwargs)\n\u001b[1;32m    258\u001b[0m \u001b[38;5;66;03m# Call predict on the LLM.\u001b[39;00m\n\u001b[0;32m--> 259\u001b[0m \u001b[38;5;28;01mreturn\u001b[39;00m \u001b[38;5;28;43mself\u001b[39;49m\u001b[38;5;241;43m.\u001b[39;49m\u001b[43mllm_chain\u001b[49m\u001b[38;5;241;43m.\u001b[39;49m\u001b[43mpredict\u001b[49m\u001b[43m(\u001b[49m\u001b[43mcallbacks\u001b[49m\u001b[38;5;241;43m=\u001b[39;49m\u001b[43mcallbacks\u001b[49m\u001b[43m,\u001b[49m\u001b[43m \u001b[49m\u001b[38;5;241;43m*\u001b[39;49m\u001b[38;5;241;43m*\u001b[39;49m\u001b[43minputs\u001b[49m\u001b[43m)\u001b[49m, {}\n",
      "File \u001b[0;32m~/Teaching/woa-2025-intro-to-langchain/.venv/lib/python3.13/site-packages/langchain/chains/llm.py:319\u001b[0m, in \u001b[0;36mLLMChain.predict\u001b[0;34m(self, callbacks, **kwargs)\u001b[0m\n\u001b[1;32m    304\u001b[0m \u001b[38;5;28;01mdef\u001b[39;00m\u001b[38;5;250m \u001b[39m\u001b[38;5;21mpredict\u001b[39m(\u001b[38;5;28mself\u001b[39m, callbacks: Callbacks \u001b[38;5;241m=\u001b[39m \u001b[38;5;28;01mNone\u001b[39;00m, \u001b[38;5;241m*\u001b[39m\u001b[38;5;241m*\u001b[39mkwargs: Any) \u001b[38;5;241m-\u001b[39m\u001b[38;5;241m>\u001b[39m \u001b[38;5;28mstr\u001b[39m:\n\u001b[1;32m    305\u001b[0m \u001b[38;5;250m    \u001b[39m\u001b[38;5;124;03m\"\"\"Format prompt with kwargs and pass to LLM.\u001b[39;00m\n\u001b[1;32m    306\u001b[0m \n\u001b[1;32m    307\u001b[0m \u001b[38;5;124;03m    Args:\u001b[39;00m\n\u001b[0;32m   (...)\u001b[0m\n\u001b[1;32m    317\u001b[0m \u001b[38;5;124;03m            completion = llm.predict(adjective=\"funny\")\u001b[39;00m\n\u001b[1;32m    318\u001b[0m \u001b[38;5;124;03m    \"\"\"\u001b[39;00m\n\u001b[0;32m--> 319\u001b[0m     \u001b[38;5;28;01mreturn\u001b[39;00m \u001b[38;5;28;43mself\u001b[39;49m\u001b[43m(\u001b[49m\u001b[43mkwargs\u001b[49m\u001b[43m,\u001b[49m\u001b[43m \u001b[49m\u001b[43mcallbacks\u001b[49m\u001b[38;5;241;43m=\u001b[39;49m\u001b[43mcallbacks\u001b[49m\u001b[43m)\u001b[49m[\u001b[38;5;28mself\u001b[39m\u001b[38;5;241m.\u001b[39moutput_key]\n",
      "File \u001b[0;32m~/Teaching/woa-2025-intro-to-langchain/.venv/lib/python3.13/site-packages/langchain_core/_api/deprecation.py:189\u001b[0m, in \u001b[0;36mdeprecated.<locals>.deprecate.<locals>.warning_emitting_wrapper\u001b[0;34m(*args, **kwargs)\u001b[0m\n\u001b[1;32m    187\u001b[0m     warned \u001b[38;5;241m=\u001b[39m \u001b[38;5;28;01mTrue\u001b[39;00m\n\u001b[1;32m    188\u001b[0m     emit_warning()\n\u001b[0;32m--> 189\u001b[0m \u001b[38;5;28;01mreturn\u001b[39;00m \u001b[43mwrapped\u001b[49m\u001b[43m(\u001b[49m\u001b[38;5;241;43m*\u001b[39;49m\u001b[43margs\u001b[49m\u001b[43m,\u001b[49m\u001b[43m \u001b[49m\u001b[38;5;241;43m*\u001b[39;49m\u001b[38;5;241;43m*\u001b[39;49m\u001b[43mkwargs\u001b[49m\u001b[43m)\u001b[49m\n",
      "File \u001b[0;32m~/Teaching/woa-2025-intro-to-langchain/.venv/lib/python3.13/site-packages/langchain/chains/base.py:386\u001b[0m, in \u001b[0;36mChain.__call__\u001b[0;34m(self, inputs, return_only_outputs, callbacks, tags, metadata, run_name, include_run_info)\u001b[0m\n\u001b[1;32m    354\u001b[0m \u001b[38;5;250m\u001b[39m\u001b[38;5;124;03m\"\"\"Execute the chain.\u001b[39;00m\n\u001b[1;32m    355\u001b[0m \n\u001b[1;32m    356\u001b[0m \u001b[38;5;124;03mArgs:\u001b[39;00m\n\u001b[0;32m   (...)\u001b[0m\n\u001b[1;32m    377\u001b[0m \u001b[38;5;124;03m        `Chain.output_keys`.\u001b[39;00m\n\u001b[1;32m    378\u001b[0m \u001b[38;5;124;03m\"\"\"\u001b[39;00m\n\u001b[1;32m    379\u001b[0m config \u001b[38;5;241m=\u001b[39m {\n\u001b[1;32m    380\u001b[0m     \u001b[38;5;124m\"\u001b[39m\u001b[38;5;124mcallbacks\u001b[39m\u001b[38;5;124m\"\u001b[39m: callbacks,\n\u001b[1;32m    381\u001b[0m     \u001b[38;5;124m\"\u001b[39m\u001b[38;5;124mtags\u001b[39m\u001b[38;5;124m\"\u001b[39m: tags,\n\u001b[1;32m    382\u001b[0m     \u001b[38;5;124m\"\u001b[39m\u001b[38;5;124mmetadata\u001b[39m\u001b[38;5;124m\"\u001b[39m: metadata,\n\u001b[1;32m    383\u001b[0m     \u001b[38;5;124m\"\u001b[39m\u001b[38;5;124mrun_name\u001b[39m\u001b[38;5;124m\"\u001b[39m: run_name,\n\u001b[1;32m    384\u001b[0m }\n\u001b[0;32m--> 386\u001b[0m \u001b[38;5;28;01mreturn\u001b[39;00m \u001b[38;5;28;43mself\u001b[39;49m\u001b[38;5;241;43m.\u001b[39;49m\u001b[43minvoke\u001b[49m\u001b[43m(\u001b[49m\n\u001b[1;32m    387\u001b[0m \u001b[43m    \u001b[49m\u001b[43minputs\u001b[49m\u001b[43m,\u001b[49m\n\u001b[1;32m    388\u001b[0m \u001b[43m    \u001b[49m\u001b[43mcast\u001b[49m\u001b[43m(\u001b[49m\u001b[43mRunnableConfig\u001b[49m\u001b[43m,\u001b[49m\u001b[43m \u001b[49m\u001b[43m{\u001b[49m\u001b[43mk\u001b[49m\u001b[43m:\u001b[49m\u001b[43m \u001b[49m\u001b[43mv\u001b[49m\u001b[43m \u001b[49m\u001b[38;5;28;43;01mfor\u001b[39;49;00m\u001b[43m \u001b[49m\u001b[43mk\u001b[49m\u001b[43m,\u001b[49m\u001b[43m \u001b[49m\u001b[43mv\u001b[49m\u001b[43m \u001b[49m\u001b[38;5;129;43;01min\u001b[39;49;00m\u001b[43m \u001b[49m\u001b[43mconfig\u001b[49m\u001b[38;5;241;43m.\u001b[39;49m\u001b[43mitems\u001b[49m\u001b[43m(\u001b[49m\u001b[43m)\u001b[49m\u001b[43m \u001b[49m\u001b[38;5;28;43;01mif\u001b[39;49;00m\u001b[43m \u001b[49m\u001b[43mv\u001b[49m\u001b[43m \u001b[49m\u001b[38;5;129;43;01mis\u001b[39;49;00m\u001b[43m \u001b[49m\u001b[38;5;129;43;01mnot\u001b[39;49;00m\u001b[43m \u001b[49m\u001b[38;5;28;43;01mNone\u001b[39;49;00m\u001b[43m}\u001b[49m\u001b[43m)\u001b[49m\u001b[43m,\u001b[49m\n\u001b[1;32m    389\u001b[0m \u001b[43m    \u001b[49m\u001b[43mreturn_only_outputs\u001b[49m\u001b[38;5;241;43m=\u001b[39;49m\u001b[43mreturn_only_outputs\u001b[49m\u001b[43m,\u001b[49m\n\u001b[1;32m    390\u001b[0m \u001b[43m    \u001b[49m\u001b[43minclude_run_info\u001b[49m\u001b[38;5;241;43m=\u001b[39;49m\u001b[43minclude_run_info\u001b[49m\u001b[43m,\u001b[49m\n\u001b[1;32m    391\u001b[0m \u001b[43m\u001b[49m\u001b[43m)\u001b[49m\n",
      "File \u001b[0;32m~/Teaching/woa-2025-intro-to-langchain/.venv/lib/python3.13/site-packages/langchain/chains/base.py:167\u001b[0m, in \u001b[0;36mChain.invoke\u001b[0;34m(self, input, config, **kwargs)\u001b[0m\n\u001b[1;32m    165\u001b[0m \u001b[38;5;28;01mexcept\u001b[39;00m \u001b[38;5;167;01mBaseException\u001b[39;00m \u001b[38;5;28;01mas\u001b[39;00m e:\n\u001b[1;32m    166\u001b[0m     run_manager\u001b[38;5;241m.\u001b[39mon_chain_error(e)\n\u001b[0;32m--> 167\u001b[0m     \u001b[38;5;28;01mraise\u001b[39;00m e\n\u001b[1;32m    168\u001b[0m run_manager\u001b[38;5;241m.\u001b[39mon_chain_end(outputs)\n\u001b[1;32m    170\u001b[0m \u001b[38;5;28;01mif\u001b[39;00m include_run_info:\n",
      "File \u001b[0;32m~/Teaching/woa-2025-intro-to-langchain/.venv/lib/python3.13/site-packages/langchain/chains/base.py:157\u001b[0m, in \u001b[0;36mChain.invoke\u001b[0;34m(self, input, config, **kwargs)\u001b[0m\n\u001b[1;32m    154\u001b[0m \u001b[38;5;28;01mtry\u001b[39;00m:\n\u001b[1;32m    155\u001b[0m     \u001b[38;5;28mself\u001b[39m\u001b[38;5;241m.\u001b[39m_validate_inputs(inputs)\n\u001b[1;32m    156\u001b[0m     outputs \u001b[38;5;241m=\u001b[39m (\n\u001b[0;32m--> 157\u001b[0m         \u001b[38;5;28;43mself\u001b[39;49m\u001b[38;5;241;43m.\u001b[39;49m\u001b[43m_call\u001b[49m\u001b[43m(\u001b[49m\u001b[43minputs\u001b[49m\u001b[43m,\u001b[49m\u001b[43m \u001b[49m\u001b[43mrun_manager\u001b[49m\u001b[38;5;241;43m=\u001b[39;49m\u001b[43mrun_manager\u001b[49m\u001b[43m)\u001b[49m\n\u001b[1;32m    158\u001b[0m         \u001b[38;5;28;01mif\u001b[39;00m new_arg_supported\n\u001b[1;32m    159\u001b[0m         \u001b[38;5;28;01melse\u001b[39;00m \u001b[38;5;28mself\u001b[39m\u001b[38;5;241m.\u001b[39m_call(inputs)\n\u001b[1;32m    160\u001b[0m     )\n\u001b[1;32m    162\u001b[0m     final_outputs: \u001b[38;5;28mdict\u001b[39m[\u001b[38;5;28mstr\u001b[39m, Any] \u001b[38;5;241m=\u001b[39m \u001b[38;5;28mself\u001b[39m\u001b[38;5;241m.\u001b[39mprep_outputs(\n\u001b[1;32m    163\u001b[0m         inputs, outputs, return_only_outputs\n\u001b[1;32m    164\u001b[0m     )\n\u001b[1;32m    165\u001b[0m \u001b[38;5;28;01mexcept\u001b[39;00m \u001b[38;5;167;01mBaseException\u001b[39;00m \u001b[38;5;28;01mas\u001b[39;00m e:\n",
      "File \u001b[0;32m~/Teaching/woa-2025-intro-to-langchain/.venv/lib/python3.13/site-packages/langchain/chains/llm.py:127\u001b[0m, in \u001b[0;36mLLMChain._call\u001b[0;34m(self, inputs, run_manager)\u001b[0m\n\u001b[1;32m    122\u001b[0m \u001b[38;5;28;01mdef\u001b[39;00m\u001b[38;5;250m \u001b[39m\u001b[38;5;21m_call\u001b[39m(\n\u001b[1;32m    123\u001b[0m     \u001b[38;5;28mself\u001b[39m,\n\u001b[1;32m    124\u001b[0m     inputs: \u001b[38;5;28mdict\u001b[39m[\u001b[38;5;28mstr\u001b[39m, Any],\n\u001b[1;32m    125\u001b[0m     run_manager: Optional[CallbackManagerForChainRun] \u001b[38;5;241m=\u001b[39m \u001b[38;5;28;01mNone\u001b[39;00m,\n\u001b[1;32m    126\u001b[0m ) \u001b[38;5;241m-\u001b[39m\u001b[38;5;241m>\u001b[39m \u001b[38;5;28mdict\u001b[39m[\u001b[38;5;28mstr\u001b[39m, \u001b[38;5;28mstr\u001b[39m]:\n\u001b[0;32m--> 127\u001b[0m     response \u001b[38;5;241m=\u001b[39m \u001b[38;5;28;43mself\u001b[39;49m\u001b[38;5;241;43m.\u001b[39;49m\u001b[43mgenerate\u001b[49m\u001b[43m(\u001b[49m\u001b[43m[\u001b[49m\u001b[43minputs\u001b[49m\u001b[43m]\u001b[49m\u001b[43m,\u001b[49m\u001b[43m \u001b[49m\u001b[43mrun_manager\u001b[49m\u001b[38;5;241;43m=\u001b[39;49m\u001b[43mrun_manager\u001b[49m\u001b[43m)\u001b[49m\n\u001b[1;32m    128\u001b[0m     \u001b[38;5;28;01mreturn\u001b[39;00m \u001b[38;5;28mself\u001b[39m\u001b[38;5;241m.\u001b[39mcreate_outputs(response)[\u001b[38;5;241m0\u001b[39m]\n",
      "File \u001b[0;32m~/Teaching/woa-2025-intro-to-langchain/.venv/lib/python3.13/site-packages/langchain/chains/llm.py:139\u001b[0m, in \u001b[0;36mLLMChain.generate\u001b[0;34m(self, input_list, run_manager)\u001b[0m\n\u001b[1;32m    137\u001b[0m callbacks \u001b[38;5;241m=\u001b[39m run_manager\u001b[38;5;241m.\u001b[39mget_child() \u001b[38;5;28;01mif\u001b[39;00m run_manager \u001b[38;5;28;01melse\u001b[39;00m \u001b[38;5;28;01mNone\u001b[39;00m\n\u001b[1;32m    138\u001b[0m \u001b[38;5;28;01mif\u001b[39;00m \u001b[38;5;28misinstance\u001b[39m(\u001b[38;5;28mself\u001b[39m\u001b[38;5;241m.\u001b[39mllm, BaseLanguageModel):\n\u001b[0;32m--> 139\u001b[0m     \u001b[38;5;28;01mreturn\u001b[39;00m \u001b[38;5;28;43mself\u001b[39;49m\u001b[38;5;241;43m.\u001b[39;49m\u001b[43mllm\u001b[49m\u001b[38;5;241;43m.\u001b[39;49m\u001b[43mgenerate_prompt\u001b[49m\u001b[43m(\u001b[49m\n\u001b[1;32m    140\u001b[0m \u001b[43m        \u001b[49m\u001b[43mprompts\u001b[49m\u001b[43m,\u001b[49m\n\u001b[1;32m    141\u001b[0m \u001b[43m        \u001b[49m\u001b[43mstop\u001b[49m\u001b[43m,\u001b[49m\n\u001b[1;32m    142\u001b[0m \u001b[43m        \u001b[49m\u001b[43mcallbacks\u001b[49m\u001b[38;5;241;43m=\u001b[39;49m\u001b[43mcallbacks\u001b[49m\u001b[43m,\u001b[49m\n\u001b[1;32m    143\u001b[0m \u001b[43m        \u001b[49m\u001b[38;5;241;43m*\u001b[39;49m\u001b[38;5;241;43m*\u001b[39;49m\u001b[38;5;28;43mself\u001b[39;49m\u001b[38;5;241;43m.\u001b[39;49m\u001b[43mllm_kwargs\u001b[49m\u001b[43m,\u001b[49m\n\u001b[1;32m    144\u001b[0m \u001b[43m    \u001b[49m\u001b[43m)\u001b[49m\n\u001b[1;32m    145\u001b[0m \u001b[38;5;28;01melse\u001b[39;00m:\n\u001b[1;32m    146\u001b[0m     results \u001b[38;5;241m=\u001b[39m \u001b[38;5;28mself\u001b[39m\u001b[38;5;241m.\u001b[39mllm\u001b[38;5;241m.\u001b[39mbind(stop\u001b[38;5;241m=\u001b[39mstop, \u001b[38;5;241m*\u001b[39m\u001b[38;5;241m*\u001b[39m\u001b[38;5;28mself\u001b[39m\u001b[38;5;241m.\u001b[39mllm_kwargs)\u001b[38;5;241m.\u001b[39mbatch(\n\u001b[1;32m    147\u001b[0m         cast(\u001b[38;5;28mlist\u001b[39m, prompts), {\u001b[38;5;124m\"\u001b[39m\u001b[38;5;124mcallbacks\u001b[39m\u001b[38;5;124m\"\u001b[39m: callbacks}\n\u001b[1;32m    148\u001b[0m     )\n",
      "File \u001b[0;32m~/Teaching/woa-2025-intro-to-langchain/.venv/lib/python3.13/site-packages/langchain_core/language_models/llms.py:766\u001b[0m, in \u001b[0;36mBaseLLM.generate_prompt\u001b[0;34m(self, prompts, stop, callbacks, **kwargs)\u001b[0m\n\u001b[1;32m    757\u001b[0m \u001b[38;5;129m@override\u001b[39m\n\u001b[1;32m    758\u001b[0m \u001b[38;5;28;01mdef\u001b[39;00m\u001b[38;5;250m \u001b[39m\u001b[38;5;21mgenerate_prompt\u001b[39m(\n\u001b[1;32m    759\u001b[0m     \u001b[38;5;28mself\u001b[39m,\n\u001b[0;32m   (...)\u001b[0m\n\u001b[1;32m    763\u001b[0m     \u001b[38;5;241m*\u001b[39m\u001b[38;5;241m*\u001b[39mkwargs: Any,\n\u001b[1;32m    764\u001b[0m ) \u001b[38;5;241m-\u001b[39m\u001b[38;5;241m>\u001b[39m LLMResult:\n\u001b[1;32m    765\u001b[0m     prompt_strings \u001b[38;5;241m=\u001b[39m [p\u001b[38;5;241m.\u001b[39mto_string() \u001b[38;5;28;01mfor\u001b[39;00m p \u001b[38;5;129;01min\u001b[39;00m prompts]\n\u001b[0;32m--> 766\u001b[0m     \u001b[38;5;28;01mreturn\u001b[39;00m \u001b[38;5;28;43mself\u001b[39;49m\u001b[38;5;241;43m.\u001b[39;49m\u001b[43mgenerate\u001b[49m\u001b[43m(\u001b[49m\u001b[43mprompt_strings\u001b[49m\u001b[43m,\u001b[49m\u001b[43m \u001b[49m\u001b[43mstop\u001b[49m\u001b[38;5;241;43m=\u001b[39;49m\u001b[43mstop\u001b[49m\u001b[43m,\u001b[49m\u001b[43m \u001b[49m\u001b[43mcallbacks\u001b[49m\u001b[38;5;241;43m=\u001b[39;49m\u001b[43mcallbacks\u001b[49m\u001b[43m,\u001b[49m\u001b[43m \u001b[49m\u001b[38;5;241;43m*\u001b[39;49m\u001b[38;5;241;43m*\u001b[39;49m\u001b[43mkwargs\u001b[49m\u001b[43m)\u001b[49m\n",
      "File \u001b[0;32m~/Teaching/woa-2025-intro-to-langchain/.venv/lib/python3.13/site-packages/langchain_core/language_models/llms.py:973\u001b[0m, in \u001b[0;36mBaseLLM.generate\u001b[0;34m(self, prompts, stop, callbacks, tags, metadata, run_name, run_id, **kwargs)\u001b[0m\n\u001b[1;32m    958\u001b[0m \u001b[38;5;28;01mif\u001b[39;00m (\u001b[38;5;28mself\u001b[39m\u001b[38;5;241m.\u001b[39mcache \u001b[38;5;129;01mis\u001b[39;00m \u001b[38;5;28;01mNone\u001b[39;00m \u001b[38;5;129;01mand\u001b[39;00m get_llm_cache() \u001b[38;5;129;01mis\u001b[39;00m \u001b[38;5;28;01mNone\u001b[39;00m) \u001b[38;5;129;01mor\u001b[39;00m \u001b[38;5;28mself\u001b[39m\u001b[38;5;241m.\u001b[39mcache \u001b[38;5;129;01mis\u001b[39;00m \u001b[38;5;28;01mFalse\u001b[39;00m:\n\u001b[1;32m    959\u001b[0m     run_managers \u001b[38;5;241m=\u001b[39m [\n\u001b[1;32m    960\u001b[0m         callback_manager\u001b[38;5;241m.\u001b[39mon_llm_start(\n\u001b[1;32m    961\u001b[0m             \u001b[38;5;28mself\u001b[39m\u001b[38;5;241m.\u001b[39m_serialized,\n\u001b[0;32m   (...)\u001b[0m\n\u001b[1;32m    971\u001b[0m         )\n\u001b[1;32m    972\u001b[0m     ]\n\u001b[0;32m--> 973\u001b[0m     \u001b[38;5;28;01mreturn\u001b[39;00m \u001b[38;5;28;43mself\u001b[39;49m\u001b[38;5;241;43m.\u001b[39;49m\u001b[43m_generate_helper\u001b[49m\u001b[43m(\u001b[49m\n\u001b[1;32m    974\u001b[0m \u001b[43m        \u001b[49m\u001b[43mprompts\u001b[49m\u001b[43m,\u001b[49m\n\u001b[1;32m    975\u001b[0m \u001b[43m        \u001b[49m\u001b[43mstop\u001b[49m\u001b[43m,\u001b[49m\n\u001b[1;32m    976\u001b[0m \u001b[43m        \u001b[49m\u001b[43mrun_managers\u001b[49m\u001b[43m,\u001b[49m\n\u001b[1;32m    977\u001b[0m \u001b[43m        \u001b[49m\u001b[43mnew_arg_supported\u001b[49m\u001b[38;5;241;43m=\u001b[39;49m\u001b[38;5;28;43mbool\u001b[39;49m\u001b[43m(\u001b[49m\u001b[43mnew_arg_supported\u001b[49m\u001b[43m)\u001b[49m\u001b[43m,\u001b[49m\n\u001b[1;32m    978\u001b[0m \u001b[43m        \u001b[49m\u001b[38;5;241;43m*\u001b[39;49m\u001b[38;5;241;43m*\u001b[39;49m\u001b[43mkwargs\u001b[49m\u001b[43m,\u001b[49m\n\u001b[1;32m    979\u001b[0m \u001b[43m    \u001b[49m\u001b[43m)\u001b[49m\n\u001b[1;32m    980\u001b[0m \u001b[38;5;28;01mif\u001b[39;00m \u001b[38;5;28mlen\u001b[39m(missing_prompts) \u001b[38;5;241m>\u001b[39m \u001b[38;5;241m0\u001b[39m:\n\u001b[1;32m    981\u001b[0m     run_managers \u001b[38;5;241m=\u001b[39m [\n\u001b[1;32m    982\u001b[0m         callback_managers[idx]\u001b[38;5;241m.\u001b[39mon_llm_start(\n\u001b[1;32m    983\u001b[0m             \u001b[38;5;28mself\u001b[39m\u001b[38;5;241m.\u001b[39m_serialized,\n\u001b[0;32m   (...)\u001b[0m\n\u001b[1;32m    990\u001b[0m         \u001b[38;5;28;01mfor\u001b[39;00m idx \u001b[38;5;129;01min\u001b[39;00m missing_prompt_idxs\n\u001b[1;32m    991\u001b[0m     ]\n",
      "File \u001b[0;32m~/Teaching/woa-2025-intro-to-langchain/.venv/lib/python3.13/site-packages/langchain_core/language_models/llms.py:792\u001b[0m, in \u001b[0;36mBaseLLM._generate_helper\u001b[0;34m(self, prompts, stop, run_managers, new_arg_supported, **kwargs)\u001b[0m\n\u001b[1;32m    781\u001b[0m \u001b[38;5;28;01mdef\u001b[39;00m\u001b[38;5;250m \u001b[39m\u001b[38;5;21m_generate_helper\u001b[39m(\n\u001b[1;32m    782\u001b[0m     \u001b[38;5;28mself\u001b[39m,\n\u001b[1;32m    783\u001b[0m     prompts: \u001b[38;5;28mlist\u001b[39m[\u001b[38;5;28mstr\u001b[39m],\n\u001b[0;32m   (...)\u001b[0m\n\u001b[1;32m    788\u001b[0m     \u001b[38;5;241m*\u001b[39m\u001b[38;5;241m*\u001b[39mkwargs: Any,\n\u001b[1;32m    789\u001b[0m ) \u001b[38;5;241m-\u001b[39m\u001b[38;5;241m>\u001b[39m LLMResult:\n\u001b[1;32m    790\u001b[0m     \u001b[38;5;28;01mtry\u001b[39;00m:\n\u001b[1;32m    791\u001b[0m         output \u001b[38;5;241m=\u001b[39m (\n\u001b[0;32m--> 792\u001b[0m             \u001b[38;5;28;43mself\u001b[39;49m\u001b[38;5;241;43m.\u001b[39;49m\u001b[43m_generate\u001b[49m\u001b[43m(\u001b[49m\n\u001b[1;32m    793\u001b[0m \u001b[43m                \u001b[49m\u001b[43mprompts\u001b[49m\u001b[43m,\u001b[49m\n\u001b[1;32m    794\u001b[0m \u001b[43m                \u001b[49m\u001b[43mstop\u001b[49m\u001b[38;5;241;43m=\u001b[39;49m\u001b[43mstop\u001b[49m\u001b[43m,\u001b[49m\n\u001b[1;32m    795\u001b[0m \u001b[43m                \u001b[49m\u001b[38;5;66;43;03m# TODO: support multiple run managers\u001b[39;49;00m\n\u001b[1;32m    796\u001b[0m \u001b[43m                \u001b[49m\u001b[43mrun_manager\u001b[49m\u001b[38;5;241;43m=\u001b[39;49m\u001b[43mrun_managers\u001b[49m\u001b[43m[\u001b[49m\u001b[38;5;241;43m0\u001b[39;49m\u001b[43m]\u001b[49m\u001b[43m \u001b[49m\u001b[38;5;28;43;01mif\u001b[39;49;00m\u001b[43m \u001b[49m\u001b[43mrun_managers\u001b[49m\u001b[43m \u001b[49m\u001b[38;5;28;43;01melse\u001b[39;49;00m\u001b[43m \u001b[49m\u001b[38;5;28;43;01mNone\u001b[39;49;00m\u001b[43m,\u001b[49m\n\u001b[1;32m    797\u001b[0m \u001b[43m                \u001b[49m\u001b[38;5;241;43m*\u001b[39;49m\u001b[38;5;241;43m*\u001b[39;49m\u001b[43mkwargs\u001b[49m\u001b[43m,\u001b[49m\n\u001b[1;32m    798\u001b[0m \u001b[43m            \u001b[49m\u001b[43m)\u001b[49m\n\u001b[1;32m    799\u001b[0m             \u001b[38;5;28;01mif\u001b[39;00m new_arg_supported\n\u001b[1;32m    800\u001b[0m             \u001b[38;5;28;01melse\u001b[39;00m \u001b[38;5;28mself\u001b[39m\u001b[38;5;241m.\u001b[39m_generate(prompts, stop\u001b[38;5;241m=\u001b[39mstop)\n\u001b[1;32m    801\u001b[0m         )\n\u001b[1;32m    802\u001b[0m     \u001b[38;5;28;01mexcept\u001b[39;00m \u001b[38;5;167;01mBaseException\u001b[39;00m \u001b[38;5;28;01mas\u001b[39;00m e:\n\u001b[1;32m    803\u001b[0m         \u001b[38;5;28;01mfor\u001b[39;00m run_manager \u001b[38;5;129;01min\u001b[39;00m run_managers:\n",
      "File \u001b[0;32m~/Teaching/woa-2025-intro-to-langchain/.venv/lib/python3.13/site-packages/langchain_ollama/llms.py:313\u001b[0m, in \u001b[0;36mOllamaLLM._generate\u001b[0;34m(self, prompts, stop, run_manager, **kwargs)\u001b[0m\n\u001b[1;32m    311\u001b[0m generations \u001b[38;5;241m=\u001b[39m []\n\u001b[1;32m    312\u001b[0m \u001b[38;5;28;01mfor\u001b[39;00m prompt \u001b[38;5;129;01min\u001b[39;00m prompts:\n\u001b[0;32m--> 313\u001b[0m     final_chunk \u001b[38;5;241m=\u001b[39m \u001b[38;5;28;43mself\u001b[39;49m\u001b[38;5;241;43m.\u001b[39;49m\u001b[43m_stream_with_aggregation\u001b[49m\u001b[43m(\u001b[49m\n\u001b[1;32m    314\u001b[0m \u001b[43m        \u001b[49m\u001b[43mprompt\u001b[49m\u001b[43m,\u001b[49m\n\u001b[1;32m    315\u001b[0m \u001b[43m        \u001b[49m\u001b[43mstop\u001b[49m\u001b[38;5;241;43m=\u001b[39;49m\u001b[43mstop\u001b[49m\u001b[43m,\u001b[49m\n\u001b[1;32m    316\u001b[0m \u001b[43m        \u001b[49m\u001b[43mrun_manager\u001b[49m\u001b[38;5;241;43m=\u001b[39;49m\u001b[43mrun_manager\u001b[49m\u001b[43m,\u001b[49m\n\u001b[1;32m    317\u001b[0m \u001b[43m        \u001b[49m\u001b[43mverbose\u001b[49m\u001b[38;5;241;43m=\u001b[39;49m\u001b[38;5;28;43mself\u001b[39;49m\u001b[38;5;241;43m.\u001b[39;49m\u001b[43mverbose\u001b[49m\u001b[43m,\u001b[49m\n\u001b[1;32m    318\u001b[0m \u001b[43m        \u001b[49m\u001b[38;5;241;43m*\u001b[39;49m\u001b[38;5;241;43m*\u001b[39;49m\u001b[43mkwargs\u001b[49m\u001b[43m,\u001b[49m\n\u001b[1;32m    319\u001b[0m \u001b[43m    \u001b[49m\u001b[43m)\u001b[49m\n\u001b[1;32m    320\u001b[0m     generations\u001b[38;5;241m.\u001b[39mappend([final_chunk])\n\u001b[1;32m    321\u001b[0m \u001b[38;5;28;01mreturn\u001b[39;00m LLMResult(generations\u001b[38;5;241m=\u001b[39mgenerations)\n",
      "File \u001b[0;32m~/Teaching/woa-2025-intro-to-langchain/.venv/lib/python3.13/site-packages/langchain_ollama/llms.py:281\u001b[0m, in \u001b[0;36mOllamaLLM._stream_with_aggregation\u001b[0;34m(self, prompt, stop, run_manager, verbose, **kwargs)\u001b[0m\n\u001b[1;32m    272\u001b[0m \u001b[38;5;28;01mdef\u001b[39;00m\u001b[38;5;250m \u001b[39m\u001b[38;5;21m_stream_with_aggregation\u001b[39m(\n\u001b[1;32m    273\u001b[0m     \u001b[38;5;28mself\u001b[39m,\n\u001b[1;32m    274\u001b[0m     prompt: \u001b[38;5;28mstr\u001b[39m,\n\u001b[0;32m   (...)\u001b[0m\n\u001b[1;32m    278\u001b[0m     \u001b[38;5;241m*\u001b[39m\u001b[38;5;241m*\u001b[39mkwargs: Any,\n\u001b[1;32m    279\u001b[0m ) \u001b[38;5;241m-\u001b[39m\u001b[38;5;241m>\u001b[39m GenerationChunk:\n\u001b[1;32m    280\u001b[0m     final_chunk \u001b[38;5;241m=\u001b[39m \u001b[38;5;28;01mNone\u001b[39;00m\n\u001b[0;32m--> 281\u001b[0m \u001b[43m    \u001b[49m\u001b[38;5;28;43;01mfor\u001b[39;49;00m\u001b[43m \u001b[49m\u001b[43mstream_resp\u001b[49m\u001b[43m \u001b[49m\u001b[38;5;129;43;01min\u001b[39;49;00m\u001b[43m \u001b[49m\u001b[38;5;28;43mself\u001b[39;49m\u001b[38;5;241;43m.\u001b[39;49m\u001b[43m_create_generate_stream\u001b[49m\u001b[43m(\u001b[49m\u001b[43mprompt\u001b[49m\u001b[43m,\u001b[49m\u001b[43m \u001b[49m\u001b[43mstop\u001b[49m\u001b[43m,\u001b[49m\u001b[43m \u001b[49m\u001b[38;5;241;43m*\u001b[39;49m\u001b[38;5;241;43m*\u001b[39;49m\u001b[43mkwargs\u001b[49m\u001b[43m)\u001b[49m\u001b[43m:\u001b[49m\n\u001b[1;32m    282\u001b[0m \u001b[43m        \u001b[49m\u001b[38;5;28;43;01mif\u001b[39;49;00m\u001b[43m \u001b[49m\u001b[38;5;129;43;01mnot\u001b[39;49;00m\u001b[43m \u001b[49m\u001b[38;5;28;43misinstance\u001b[39;49m\u001b[43m(\u001b[49m\u001b[43mstream_resp\u001b[49m\u001b[43m,\u001b[49m\u001b[43m \u001b[49m\u001b[38;5;28;43mstr\u001b[39;49m\u001b[43m)\u001b[49m\u001b[43m:\u001b[49m\n\u001b[1;32m    283\u001b[0m \u001b[43m            \u001b[49m\u001b[43mchunk\u001b[49m\u001b[43m \u001b[49m\u001b[38;5;241;43m=\u001b[39;49m\u001b[43m \u001b[49m\u001b[43mGenerationChunk\u001b[49m\u001b[43m(\u001b[49m\n\u001b[1;32m    284\u001b[0m \u001b[43m                \u001b[49m\u001b[43mtext\u001b[49m\u001b[38;5;241;43m=\u001b[39;49m\u001b[43mstream_resp\u001b[49m\u001b[43m[\u001b[49m\u001b[38;5;124;43m\"\u001b[39;49m\u001b[38;5;124;43mresponse\u001b[39;49m\u001b[38;5;124;43m\"\u001b[39;49m\u001b[43m]\u001b[49m\u001b[43m \u001b[49m\u001b[38;5;28;43;01mif\u001b[39;49;00m\u001b[43m \u001b[49m\u001b[38;5;124;43m\"\u001b[39;49m\u001b[38;5;124;43mresponse\u001b[39;49m\u001b[38;5;124;43m\"\u001b[39;49m\u001b[43m \u001b[49m\u001b[38;5;129;43;01min\u001b[39;49;00m\u001b[43m \u001b[49m\u001b[43mstream_resp\u001b[49m\u001b[43m \u001b[49m\u001b[38;5;28;43;01melse\u001b[39;49;00m\u001b[43m \u001b[49m\u001b[38;5;124;43m\"\u001b[39;49m\u001b[38;5;124;43m\"\u001b[39;49m\u001b[43m,\u001b[49m\n\u001b[1;32m    285\u001b[0m \u001b[43m                \u001b[49m\u001b[43mgeneration_info\u001b[49m\u001b[38;5;241;43m=\u001b[39;49m\u001b[43m(\u001b[49m\n\u001b[1;32m    286\u001b[0m \u001b[43m                    \u001b[49m\u001b[38;5;28;43mdict\u001b[39;49m\u001b[43m(\u001b[49m\u001b[43mstream_resp\u001b[49m\u001b[43m)\u001b[49m\u001b[43m \u001b[49m\u001b[38;5;28;43;01mif\u001b[39;49;00m\u001b[43m \u001b[49m\u001b[43mstream_resp\u001b[49m\u001b[38;5;241;43m.\u001b[39;49m\u001b[43mget\u001b[49m\u001b[43m(\u001b[49m\u001b[38;5;124;43m\"\u001b[39;49m\u001b[38;5;124;43mdone\u001b[39;49m\u001b[38;5;124;43m\"\u001b[39;49m\u001b[43m)\u001b[49m\u001b[43m \u001b[49m\u001b[38;5;129;43;01mis\u001b[39;49;00m\u001b[43m \u001b[49m\u001b[38;5;28;43;01mTrue\u001b[39;49;00m\u001b[43m \u001b[49m\u001b[38;5;28;43;01melse\u001b[39;49;00m\u001b[43m \u001b[49m\u001b[38;5;28;43;01mNone\u001b[39;49;00m\n\u001b[1;32m    287\u001b[0m \u001b[43m                \u001b[49m\u001b[43m)\u001b[49m\u001b[43m,\u001b[49m\n\u001b[1;32m    288\u001b[0m \u001b[43m            \u001b[49m\u001b[43m)\u001b[49m\n",
      "File \u001b[0;32m~/Teaching/woa-2025-intro-to-langchain/.venv/lib/python3.13/site-packages/langchain_ollama/llms.py:236\u001b[0m, in \u001b[0;36mOllamaLLM._create_generate_stream\u001b[0;34m(self, prompt, stop, **kwargs)\u001b[0m\n\u001b[1;32m    230\u001b[0m \u001b[38;5;28;01mdef\u001b[39;00m\u001b[38;5;250m \u001b[39m\u001b[38;5;21m_create_generate_stream\u001b[39m(\n\u001b[1;32m    231\u001b[0m     \u001b[38;5;28mself\u001b[39m,\n\u001b[1;32m    232\u001b[0m     prompt: \u001b[38;5;28mstr\u001b[39m,\n\u001b[1;32m    233\u001b[0m     stop: Optional[\u001b[38;5;28mlist\u001b[39m[\u001b[38;5;28mstr\u001b[39m]] \u001b[38;5;241m=\u001b[39m \u001b[38;5;28;01mNone\u001b[39;00m,\n\u001b[1;32m    234\u001b[0m     \u001b[38;5;241m*\u001b[39m\u001b[38;5;241m*\u001b[39mkwargs: Any,\n\u001b[1;32m    235\u001b[0m ) \u001b[38;5;241m-\u001b[39m\u001b[38;5;241m>\u001b[39m Iterator[Union[Mapping[\u001b[38;5;28mstr\u001b[39m, Any], \u001b[38;5;28mstr\u001b[39m]]:\n\u001b[0;32m--> 236\u001b[0m     \u001b[38;5;28;01myield from\u001b[39;00m \u001b[38;5;28mself\u001b[39m\u001b[38;5;241m.\u001b[39m_client\u001b[38;5;241m.\u001b[39mgenerate(\n\u001b[1;32m    237\u001b[0m         \u001b[38;5;241m*\u001b[39m\u001b[38;5;241m*\u001b[39m\u001b[38;5;28mself\u001b[39m\u001b[38;5;241m.\u001b[39m_generate_params(prompt, stop\u001b[38;5;241m=\u001b[39mstop, \u001b[38;5;241m*\u001b[39m\u001b[38;5;241m*\u001b[39mkwargs)\n\u001b[1;32m    238\u001b[0m     )\n",
      "File \u001b[0;32m~/Teaching/woa-2025-intro-to-langchain/.venv/lib/python3.13/site-packages/ollama/_client.py:170\u001b[0m, in \u001b[0;36mClient._request.<locals>.inner\u001b[0;34m()\u001b[0m\n\u001b[1;32m    168\u001b[0m \u001b[38;5;28;01mexcept\u001b[39;00m httpx\u001b[38;5;241m.\u001b[39mHTTPStatusError \u001b[38;5;28;01mas\u001b[39;00m e:\n\u001b[1;32m    169\u001b[0m   e\u001b[38;5;241m.\u001b[39mresponse\u001b[38;5;241m.\u001b[39mread()\n\u001b[0;32m--> 170\u001b[0m   \u001b[38;5;28;01mraise\u001b[39;00m ResponseError(e\u001b[38;5;241m.\u001b[39mresponse\u001b[38;5;241m.\u001b[39mtext, e\u001b[38;5;241m.\u001b[39mresponse\u001b[38;5;241m.\u001b[39mstatus_code) \u001b[38;5;28;01mfrom\u001b[39;00m\u001b[38;5;250m \u001b[39m\u001b[38;5;28;01mNone\u001b[39;00m\n\u001b[1;32m    172\u001b[0m \u001b[38;5;28;01mfor\u001b[39;00m line \u001b[38;5;129;01min\u001b[39;00m r\u001b[38;5;241m.\u001b[39miter_lines():\n\u001b[1;32m    173\u001b[0m   part \u001b[38;5;241m=\u001b[39m json\u001b[38;5;241m.\u001b[39mloads(line)\n",
      "\u001b[0;31mResponseError\u001b[0m: model 'smollm:360m' not found (status code: 404)"
     ]
    }
   ],
   "source": [
    "smollm = OllamaLLM(model=\"smollm:360m\")\n",
    "index.query(\"What is the best attack of Naruto? Reply with just the attack (a word)\", llm=smollm, verbose=True)"
   ]
  },
  {
   "cell_type": "code",
   "execution_count": null,
   "id": "0d01bb1f",
   "metadata": {},
   "outputs": [],
   "source": [
    "smollm.invoke(\"What is the best attack of Naruto? Reply with just the attack (a word)\")"
   ]
  },
  {
   "cell_type": "code",
   "execution_count": null,
   "id": "763f818e",
   "metadata": {},
   "outputs": [],
   "source": [
    "# Evaluation? How to?\n",
    "file = 'data/long_dataset.csv'\n",
    "loader = CSVLoader(file_path=file)\n",
    "data = loader.load()"
   ]
  },
  {
   "cell_type": "code",
   "execution_count": null,
   "id": "7076a889",
   "metadata": {},
   "outputs": [],
   "source": [
    "index = VectorstoreIndexCreator(\n",
    "    vectorstore_cls=DocArrayInMemorySearch,\n",
    "    embedding=google_embeddings\n",
    ").from_loaders([loader])"
   ]
  },
  {
   "cell_type": "code",
   "execution_count": null,
   "id": "c664ac51",
   "metadata": {},
   "outputs": [],
   "source": [
    "data[0]"
   ]
  },
  {
   "cell_type": "code",
   "execution_count": null,
   "id": "bde7666f",
   "metadata": {},
   "outputs": [],
   "source": [
    "from langchain.chains import RetrievalQA\n",
    "qa = RetrievalQA.from_chain_type(\n",
    "    llm=chat_gemini, \n",
    "    chain_type=\"stuff\", # \"stuff\" is a simple chain that concatenates documents and passes them to the LLM\n",
    "    retriever=index.vectorstore.as_retriever(), \n",
    "    verbose=True,\n",
    ")"
   ]
  },
  {
   "cell_type": "code",
   "execution_count": null,
   "id": "4b4d19f7",
   "metadata": {},
   "outputs": [],
   "source": [
    "# How to evaluate? Dataset generation\n",
    "from langchain.evaluation.qa import QAGenerateChain\n",
    "example_gen_chain = QAGenerateChain.from_llm(llm=chat_gemini)\n"
   ]
  },
  {
   "cell_type": "code",
   "execution_count": null,
   "id": "4ae2db30",
   "metadata": {},
   "outputs": [],
   "source": [
    "new_examples = example_gen_chain.apply_and_parse(\n",
    "    [{\"doc\": t} for t in data[:5]]\n",
    ")"
   ]
  },
  {
   "cell_type": "code",
   "execution_count": null,
   "id": "af315cf3",
   "metadata": {},
   "outputs": [],
   "source": [
    "new_examples"
   ]
  },
  {
   "cell_type": "code",
   "execution_count": null,
   "id": "f37fdb0a",
   "metadata": {},
   "outputs": [],
   "source": [
    "data[0]"
   ]
  },
  {
   "cell_type": "code",
   "execution_count": null,
   "id": "80bbceca",
   "metadata": {},
   "outputs": [],
   "source": [
    "import langchain\n",
    "langchain.debug = True\n",
    "qa.run(new_examples[0]['qa_pairs'][\"query\"])"
   ]
  },
  {
   "cell_type": "code",
   "execution_count": null,
   "id": "7b851519",
   "metadata": {},
   "outputs": [],
   "source": [
    "langchain.debug = False\n",
    "from langchain.evaluation.qa import QAEvalChain\n",
    "eval_chain = QAEvalChain.from_llm(chat_gemini)\n",
    "queries = [ example['qa_pairs'] for example in new_examples ]\n",
    "predictions = qa.apply(queries)"
   ]
  },
  {
   "cell_type": "code",
   "execution_count": null,
   "id": "63332f3a",
   "metadata": {},
   "outputs": [],
   "source": [
    "graded_outputs = eval_chain.evaluate(queries, predictions)"
   ]
  },
  {
   "cell_type": "code",
   "execution_count": null,
   "id": "1c2f28df",
   "metadata": {},
   "outputs": [],
   "source": [
    "graded_outputs[0]"
   ]
  },
  {
   "cell_type": "code",
   "execution_count": null,
   "id": "b5584956",
   "metadata": {},
   "outputs": [],
   "source": [
    "for i, eg in enumerate(queries):\n",
    "    print(f\"Example {i}:\")\n",
    "    print(\"Question: \" + predictions[i]['query'])\n",
    "    print(\"Real Answer: \" + predictions[i]['answer'])\n",
    "    print(\"Predicted Answer: \" + predictions[i]['result'])\n",
    "    print(\"Predicted Grade: \" + graded_outputs[i]['results'])\n",
    "    print()"
   ]
  },
  {
   "cell_type": "code",
   "execution_count": null,
   "id": "a6c3e168",
   "metadata": {},
   "outputs": [],
   "source": [
    "from langchain.agents import load_tools, initialize_agent\n",
    "from langchain.agents import AgentType\n",
    "tools = load_tools([\"llm-math\", \"ddg-search\"], llm=chat_gemini)"
   ]
  },
  {
   "cell_type": "code",
   "execution_count": null,
   "id": "94fb2eae",
   "metadata": {},
   "outputs": [],
   "source": [
    "agent= initialize_agent(\n",
    "    tools, \n",
    "    chat_gemini, \n",
    "    agent=AgentType.CHAT_ZERO_SHOT_REACT_DESCRIPTION,\n",
    "    handle_parsing_errors=True,\n",
    "    verbose = True\n",
    ")"
   ]
  },
  {
   "cell_type": "code",
   "execution_count": null,
   "id": "35426a08",
   "metadata": {},
   "outputs": [],
   "source": [
    "agent.invoke(\"What is the 25% of ln(17325.124)?\")"
   ]
  },
  {
   "cell_type": "code",
   "execution_count": null,
   "id": "0c003edc",
   "metadata": {},
   "outputs": [],
   "source": [
    "chat_gemini.invoke(\"What is the 25% of ln(17325.124)?\")"
   ]
  },
  {
   "cell_type": "code",
   "execution_count": null,
   "id": "2bdeb81a",
   "metadata": {},
   "outputs": [],
   "source": [
    "question = \"Tom M. Mitchell is an American computer scientist \\\n",
    "and the Founders University Professor at Carnegie Mellon University (CMU)\\\n",
    "what book did he write?\"\n",
    "result = agent(question) "
   ]
  },
  {
   "cell_type": "code",
   "execution_count": null,
   "id": "cf4e18ea",
   "metadata": {},
   "outputs": [],
   "source": [
    "from langchain.agents import tool\n",
    "\n",
    "@tool\n",
    "def execute_python_code(code: str) -> str:\n",
    "    \"\"\"\n",
    "    Execute the given Python code and return the result.\n",
    "    \"\"\"\n",
    "    try:\n",
    "        local_vars = {}\n",
    "        # remove ```python and ``` from the code\n",
    "        code = code.strip().replace(\"```python\", \"\").replace(\"```\", \"\")\n",
    "        exec(code, {}, local_vars)\n",
    "        \n",
    "        # Check if there's a result variable defined\n",
    "        if 'result' in local_vars:\n",
    "            return str(local_vars['result'])\n",
    "        \n",
    "        # If no result variable but stdout was captured, return that\n",
    "        return \"Code executed successfully.\"\n",
    "    except Exception as e:\n",
    "        return str(e)"
   ]
  },
  {
   "cell_type": "code",
   "execution_count": null,
   "id": "7555287b",
   "metadata": {},
   "outputs": [],
   "source": [
    "agent = initialize_agent(\n",
    "    [execute_python_code], \n",
    "    chat_gemini, \n",
    "    agent=AgentType.CHAT_ZERO_SHOT_REACT_DESCRIPTION,\n",
    "    handle_parsing_errors=True,\n",
    "    verbose = True\n",
    ")"
   ]
  },
  {
   "cell_type": "code",
   "execution_count": null,
   "id": "62a157fe",
   "metadata": {},
   "outputs": [
    {
     "name": "stdout",
     "output_type": "stream",
     "text": [
      "\n",
      "\n",
      "\u001b[1m> Entering new AgentExecutor chain...\u001b[0m\n",
      "\u001b[32;1m\u001b[1;3mThought: I need to use matplotlib and potentially scipy for KDE plotting. I'll start by generating some sample data and then use matplotlib to plot the KDE. I'll explore different color options and line styles to make it fancy.\n",
      "Action:\n",
      "```json\n",
      "{\n",
      "  \"action\": \"execute_python_code\",\n",
      "  \"action_input\": \"import numpy as np\\nimport matplotlib.pyplot as plt\\nfrom scipy.stats import gaussian_kde\\n\\n# Generate some sample data\\nnp.random.seed(42)\\ndata1 = np.random.normal(0, 1, 100)\\ndata2 = np.random.normal(2, 1.5, 150)\\ndata3 = np.random.normal(-1, 0.8, 80)\\n\\n# Create KDE objects\\nkde1 = gaussian_kde(data1)\\nkde2 = gaussian_kde(data2)\\nkde3 = gaussian_kde(data3)\\n\\n# Generate x values for plotting\\nx = np.linspace(-5, 7, 200)\\n\\n# Plot the KDEs with different colors and styles\\nplt.figure(figsize=(10, 6))\\nplt.plot(x, kde1(x), color='blue', linestyle='-', label='Data 1', linewidth=2)\\nplt.plot(x, kde2(x), color='red', linestyle='--', label='Data 2', linewidth=2)\\nplt.plot(x, kde3(x), color='green', linestyle=':', label='Data 3', linewidth=2)\\n\\n# Add labels and title\\nplt.xlabel('Value')\\nplt.ylabel('Density')\\nplt.title('Fancy KDE Plot')\\n\\n# Add legend\\nplt.legend()\\n\\n# Customize the plot (optional)\\nplt.grid(True, linestyle='--', alpha=0.5)\\nplt.xlim(-5, 7)\\n\\n# Show the plot\\nplt.show()\\n\"\n",
      "}\n",
      "```\u001b[0m"
     ]
    },
    {
     "data": {
      "image/png": "[encoded data removed]",
      "text/plain": [
       "<Figure size 1000x600 with 1 Axes>"
      ]
     },
     "metadata": {},
     "output_type": "display_data"
    },
    {
     "name": "stdout",
     "output_type": "stream",
     "text": [
      "\n",
      "Observation: \u001b[36;1m\u001b[1;3mCode executed successfully.\u001b[0m\n",
      "Thought:\u001b[32;1m\u001b[1;3mI have successfully generated and displayed a fancy KDE plot with different colors and styles using matplotlib and scipy. The plot includes three KDE curves, each representing a different dataset, with distinct colors, line styles, and labels. The plot also includes a title, axis labels, a legend, and a grid for better visualization.\n",
      "Final Answer: I have successfully generated and displayed a fancy KDE plot with different colors and styles using matplotlib and scipy. The plot includes three KDE curves, each representing a different dataset, with distinct colors, line styles, and labels. The plot also includes a title, axis labels, a legend, and a grid for better visualization.\u001b[0m\n",
      "\n",
      "\u001b[1m> Finished chain.\u001b[0m\n"
     ]
    },
    {
     "data": {
      "text/plain": [
       "{'input': 'Plot a fancy kde with different colors and style with matplotlib',\n",
       " 'output': 'I have successfully generated and displayed a fancy KDE plot with different colors and styles using matplotlib and scipy. The plot includes three KDE curves, each representing a different dataset, with distinct colors, line styles, and labels. The plot also includes a title, axis labels, a legend, and a grid for better visualization.'}"
      ]
     },
     "execution_count": 181,
     "metadata": {},
     "output_type": "execute_result"
    }
   ],
   "source": [
    "agent.invoke(\"Plot a fancy kde with different colors and style with matplotlib\")"
   ]
  },
  {
   "cell_type": "code",
   "execution_count": null,
   "id": "9b527c5d",
   "metadata": {},
   "outputs": [
    {
     "name": "stdout",
     "output_type": "stream",
     "text": [
      "\n",
      "\n",
      "\u001b[1m> Entering new AgentExecutor chain...\u001b[0m\n",
      "\u001b[32;1m\u001b[1;3mThought: To create a good trip plan for Aarhus, I need to know what kind of \"fancy\" experiences the user is looking for. I will start by searching for fancy places and hotels in Aarhus to get an idea of what's available.\n",
      "Action:\n",
      "```json\n",
      "{\n",
      "  \"action\": \"search_fancy_places_in\",\n",
      "  \"action_input\": {\n",
      "    \"place\": \"Aarhus\"\n",
      "  }\n",
      "}\n",
      "```\u001b[0m"
     ]
    },
    {
     "ename": "KeyboardInterrupt",
     "evalue": "",
     "output_type": "error",
     "traceback": [
      "\u001b[0;31m---------------------------------------------------------------------------\u001b[0m",
      "\u001b[0;31mKeyboardInterrupt\u001b[0m                         Traceback (most recent call last)",
      "Cell \u001b[0;32mIn[194], line 54\u001b[0m\n\u001b[1;32m     44\u001b[0m     \u001b[38;5;28;01mreturn\u001b[39;00m SerpAPIWrapper()\u001b[38;5;241m.\u001b[39mrun(\u001b[38;5;124mf\u001b[39m\u001b[38;5;124m\"\u001b[39m\u001b[38;5;124msearch fancy hotels in \u001b[39m\u001b[38;5;132;01m{\u001b[39;00mlocation\u001b[38;5;132;01m}\u001b[39;00m\u001b[38;5;124m\"\u001b[39m)\n\u001b[1;32m     46\u001b[0m agent \u001b[38;5;241m=\u001b[39m initialize_agent(\n\u001b[1;32m     47\u001b[0m     [search_fancy_places_in, search_fancy_hotels_in],\n\u001b[1;32m     48\u001b[0m     chat_gemini,\n\u001b[0;32m   (...)\u001b[0m\n\u001b[1;32m     51\u001b[0m     verbose\u001b[38;5;241m=\u001b[39m\u001b[38;5;28;01mTrue\u001b[39;00m\n\u001b[1;32m     52\u001b[0m )\n\u001b[0;32m---> 54\u001b[0m \u001b[43magent\u001b[49m\u001b[38;5;241;43m.\u001b[39;49m\u001b[43minvoke\u001b[49m\u001b[43m(\u001b[49m\u001b[38;5;124;43m\"\u001b[39;49m\u001b[38;5;124;43mCan you create a plan for a trip to Aarhus?\u001b[39;49m\u001b[38;5;124;43m\"\u001b[39;49m\u001b[43m)\u001b[49m\n",
      "File \u001b[0;32m~/.cache/pypoetry/virtualenvs/woa-2025-intro-to-langchain-4HUP7ETl-py3.13/lib/python3.13/site-packages/langchain/chains/base.py:167\u001b[0m, in \u001b[0;36mChain.invoke\u001b[0;34m(self, input, config, **kwargs)\u001b[0m\n\u001b[1;32m    165\u001b[0m \u001b[38;5;28;01mexcept\u001b[39;00m \u001b[38;5;167;01mBaseException\u001b[39;00m \u001b[38;5;28;01mas\u001b[39;00m e:\n\u001b[1;32m    166\u001b[0m     run_manager\u001b[38;5;241m.\u001b[39mon_chain_error(e)\n\u001b[0;32m--> 167\u001b[0m     \u001b[38;5;28;01mraise\u001b[39;00m e\n\u001b[1;32m    168\u001b[0m run_manager\u001b[38;5;241m.\u001b[39mon_chain_end(outputs)\n\u001b[1;32m    170\u001b[0m \u001b[38;5;28;01mif\u001b[39;00m include_run_info:\n",
      "File \u001b[0;32m~/.cache/pypoetry/virtualenvs/woa-2025-intro-to-langchain-4HUP7ETl-py3.13/lib/python3.13/site-packages/langchain/chains/base.py:157\u001b[0m, in \u001b[0;36mChain.invoke\u001b[0;34m(self, input, config, **kwargs)\u001b[0m\n\u001b[1;32m    154\u001b[0m \u001b[38;5;28;01mtry\u001b[39;00m:\n\u001b[1;32m    155\u001b[0m     \u001b[38;5;28mself\u001b[39m\u001b[38;5;241m.\u001b[39m_validate_inputs(inputs)\n\u001b[1;32m    156\u001b[0m     outputs \u001b[38;5;241m=\u001b[39m (\n\u001b[0;32m--> 157\u001b[0m         \u001b[38;5;28;43mself\u001b[39;49m\u001b[38;5;241;43m.\u001b[39;49m\u001b[43m_call\u001b[49m\u001b[43m(\u001b[49m\u001b[43minputs\u001b[49m\u001b[43m,\u001b[49m\u001b[43m \u001b[49m\u001b[43mrun_manager\u001b[49m\u001b[38;5;241;43m=\u001b[39;49m\u001b[43mrun_manager\u001b[49m\u001b[43m)\u001b[49m\n\u001b[1;32m    158\u001b[0m         \u001b[38;5;28;01mif\u001b[39;00m new_arg_supported\n\u001b[1;32m    159\u001b[0m         \u001b[38;5;28;01melse\u001b[39;00m \u001b[38;5;28mself\u001b[39m\u001b[38;5;241m.\u001b[39m_call(inputs)\n\u001b[1;32m    160\u001b[0m     )\n\u001b[1;32m    162\u001b[0m     final_outputs: \u001b[38;5;28mdict\u001b[39m[\u001b[38;5;28mstr\u001b[39m, Any] \u001b[38;5;241m=\u001b[39m \u001b[38;5;28mself\u001b[39m\u001b[38;5;241m.\u001b[39mprep_outputs(\n\u001b[1;32m    163\u001b[0m         inputs, outputs, return_only_outputs\n\u001b[1;32m    164\u001b[0m     )\n\u001b[1;32m    165\u001b[0m \u001b[38;5;28;01mexcept\u001b[39;00m \u001b[38;5;167;01mBaseException\u001b[39;00m \u001b[38;5;28;01mas\u001b[39;00m e:\n",
      "File \u001b[0;32m~/.cache/pypoetry/virtualenvs/woa-2025-intro-to-langchain-4HUP7ETl-py3.13/lib/python3.13/site-packages/langchain/agents/agent.py:1620\u001b[0m, in \u001b[0;36mAgentExecutor._call\u001b[0;34m(self, inputs, run_manager)\u001b[0m\n\u001b[1;32m   1618\u001b[0m \u001b[38;5;66;03m# We now enter the agent loop (until it returns something).\u001b[39;00m\n\u001b[1;32m   1619\u001b[0m \u001b[38;5;28;01mwhile\u001b[39;00m \u001b[38;5;28mself\u001b[39m\u001b[38;5;241m.\u001b[39m_should_continue(iterations, time_elapsed):\n\u001b[0;32m-> 1620\u001b[0m     next_step_output \u001b[38;5;241m=\u001b[39m \u001b[38;5;28;43mself\u001b[39;49m\u001b[38;5;241;43m.\u001b[39;49m\u001b[43m_take_next_step\u001b[49m\u001b[43m(\u001b[49m\n\u001b[1;32m   1621\u001b[0m \u001b[43m        \u001b[49m\u001b[43mname_to_tool_map\u001b[49m\u001b[43m,\u001b[49m\n\u001b[1;32m   1622\u001b[0m \u001b[43m        \u001b[49m\u001b[43mcolor_mapping\u001b[49m\u001b[43m,\u001b[49m\n\u001b[1;32m   1623\u001b[0m \u001b[43m        \u001b[49m\u001b[43minputs\u001b[49m\u001b[43m,\u001b[49m\n\u001b[1;32m   1624\u001b[0m \u001b[43m        \u001b[49m\u001b[43mintermediate_steps\u001b[49m\u001b[43m,\u001b[49m\n\u001b[1;32m   1625\u001b[0m \u001b[43m        \u001b[49m\u001b[43mrun_manager\u001b[49m\u001b[38;5;241;43m=\u001b[39;49m\u001b[43mrun_manager\u001b[49m\u001b[43m,\u001b[49m\n\u001b[1;32m   1626\u001b[0m \u001b[43m    \u001b[49m\u001b[43m)\u001b[49m\n\u001b[1;32m   1627\u001b[0m     \u001b[38;5;28;01mif\u001b[39;00m \u001b[38;5;28misinstance\u001b[39m(next_step_output, AgentFinish):\n\u001b[1;32m   1628\u001b[0m         \u001b[38;5;28;01mreturn\u001b[39;00m \u001b[38;5;28mself\u001b[39m\u001b[38;5;241m.\u001b[39m_return(\n\u001b[1;32m   1629\u001b[0m             next_step_output, intermediate_steps, run_manager\u001b[38;5;241m=\u001b[39mrun_manager\n\u001b[1;32m   1630\u001b[0m         )\n",
      "File \u001b[0;32m~/.cache/pypoetry/virtualenvs/woa-2025-intro-to-langchain-4HUP7ETl-py3.13/lib/python3.13/site-packages/langchain/agents/agent.py:1328\u001b[0m, in \u001b[0;36mAgentExecutor._take_next_step\u001b[0;34m(self, name_to_tool_map, color_mapping, inputs, intermediate_steps, run_manager)\u001b[0m\n\u001b[1;32m   1317\u001b[0m \u001b[38;5;28;01mdef\u001b[39;00m\u001b[38;5;250m \u001b[39m\u001b[38;5;21m_take_next_step\u001b[39m(\n\u001b[1;32m   1318\u001b[0m     \u001b[38;5;28mself\u001b[39m,\n\u001b[1;32m   1319\u001b[0m     name_to_tool_map: \u001b[38;5;28mdict\u001b[39m[\u001b[38;5;28mstr\u001b[39m, BaseTool],\n\u001b[0;32m   (...)\u001b[0m\n\u001b[1;32m   1323\u001b[0m     run_manager: Optional[CallbackManagerForChainRun] \u001b[38;5;241m=\u001b[39m \u001b[38;5;28;01mNone\u001b[39;00m,\n\u001b[1;32m   1324\u001b[0m ) \u001b[38;5;241m-\u001b[39m\u001b[38;5;241m>\u001b[39m Union[AgentFinish, \u001b[38;5;28mlist\u001b[39m[\u001b[38;5;28mtuple\u001b[39m[AgentAction, \u001b[38;5;28mstr\u001b[39m]]]:\n\u001b[1;32m   1325\u001b[0m     \u001b[38;5;28;01mreturn\u001b[39;00m \u001b[38;5;28mself\u001b[39m\u001b[38;5;241m.\u001b[39m_consume_next_step(\n\u001b[1;32m   1326\u001b[0m         \u001b[43m[\u001b[49m\n\u001b[1;32m   1327\u001b[0m \u001b[43m            \u001b[49m\u001b[43ma\u001b[49m\n\u001b[0;32m-> 1328\u001b[0m \u001b[43m            \u001b[49m\u001b[38;5;28;43;01mfor\u001b[39;49;00m\u001b[43m \u001b[49m\u001b[43ma\u001b[49m\u001b[43m \u001b[49m\u001b[38;5;129;43;01min\u001b[39;49;00m\u001b[43m \u001b[49m\u001b[38;5;28;43mself\u001b[39;49m\u001b[38;5;241;43m.\u001b[39;49m\u001b[43m_iter_next_step\u001b[49m\u001b[43m(\u001b[49m\n\u001b[1;32m   1329\u001b[0m \u001b[43m                \u001b[49m\u001b[43mname_to_tool_map\u001b[49m\u001b[43m,\u001b[49m\n\u001b[1;32m   1330\u001b[0m \u001b[43m                \u001b[49m\u001b[43mcolor_mapping\u001b[49m\u001b[43m,\u001b[49m\n\u001b[1;32m   1331\u001b[0m \u001b[43m                \u001b[49m\u001b[43minputs\u001b[49m\u001b[43m,\u001b[49m\n\u001b[1;32m   1332\u001b[0m \u001b[43m                \u001b[49m\u001b[43mintermediate_steps\u001b[49m\u001b[43m,\u001b[49m\n\u001b[1;32m   1333\u001b[0m \u001b[43m                \u001b[49m\u001b[43mrun_manager\u001b[49m\u001b[43m,\u001b[49m\n\u001b[1;32m   1334\u001b[0m \u001b[43m            \u001b[49m\u001b[43m)\u001b[49m\n\u001b[1;32m   1335\u001b[0m \u001b[43m        \u001b[49m\u001b[43m]\u001b[49m\n\u001b[1;32m   1336\u001b[0m     )\n",
      "File \u001b[0;32m~/.cache/pypoetry/virtualenvs/woa-2025-intro-to-langchain-4HUP7ETl-py3.13/lib/python3.13/site-packages/langchain/agents/agent.py:1411\u001b[0m, in \u001b[0;36mAgentExecutor._iter_next_step\u001b[0;34m(self, name_to_tool_map, color_mapping, inputs, intermediate_steps, run_manager)\u001b[0m\n\u001b[1;32m   1409\u001b[0m     \u001b[38;5;28;01myield\u001b[39;00m agent_action\n\u001b[1;32m   1410\u001b[0m \u001b[38;5;28;01mfor\u001b[39;00m agent_action \u001b[38;5;129;01min\u001b[39;00m actions:\n\u001b[0;32m-> 1411\u001b[0m     \u001b[38;5;28;01myield\u001b[39;00m \u001b[38;5;28;43mself\u001b[39;49m\u001b[38;5;241;43m.\u001b[39;49m\u001b[43m_perform_agent_action\u001b[49m\u001b[43m(\u001b[49m\n\u001b[1;32m   1412\u001b[0m \u001b[43m        \u001b[49m\u001b[43mname_to_tool_map\u001b[49m\u001b[43m,\u001b[49m\u001b[43m \u001b[49m\u001b[43mcolor_mapping\u001b[49m\u001b[43m,\u001b[49m\u001b[43m \u001b[49m\u001b[43magent_action\u001b[49m\u001b[43m,\u001b[49m\u001b[43m \u001b[49m\u001b[43mrun_manager\u001b[49m\n\u001b[1;32m   1413\u001b[0m \u001b[43m    \u001b[49m\u001b[43m)\u001b[49m\n",
      "File \u001b[0;32m~/.cache/pypoetry/virtualenvs/woa-2025-intro-to-langchain-4HUP7ETl-py3.13/lib/python3.13/site-packages/langchain/agents/agent.py:1433\u001b[0m, in \u001b[0;36mAgentExecutor._perform_agent_action\u001b[0;34m(self, name_to_tool_map, color_mapping, agent_action, run_manager)\u001b[0m\n\u001b[1;32m   1431\u001b[0m         tool_run_kwargs[\u001b[38;5;124m\"\u001b[39m\u001b[38;5;124mllm_prefix\u001b[39m\u001b[38;5;124m\"\u001b[39m] \u001b[38;5;241m=\u001b[39m \u001b[38;5;124m\"\u001b[39m\u001b[38;5;124m\"\u001b[39m\n\u001b[1;32m   1432\u001b[0m     \u001b[38;5;66;03m# We then call the tool on the tool input to get an observation\u001b[39;00m\n\u001b[0;32m-> 1433\u001b[0m     observation \u001b[38;5;241m=\u001b[39m \u001b[43mtool\u001b[49m\u001b[38;5;241;43m.\u001b[39;49m\u001b[43mrun\u001b[49m\u001b[43m(\u001b[49m\n\u001b[1;32m   1434\u001b[0m \u001b[43m        \u001b[49m\u001b[43magent_action\u001b[49m\u001b[38;5;241;43m.\u001b[39;49m\u001b[43mtool_input\u001b[49m\u001b[43m,\u001b[49m\n\u001b[1;32m   1435\u001b[0m \u001b[43m        \u001b[49m\u001b[43mverbose\u001b[49m\u001b[38;5;241;43m=\u001b[39;49m\u001b[38;5;28;43mself\u001b[39;49m\u001b[38;5;241;43m.\u001b[39;49m\u001b[43mverbose\u001b[49m\u001b[43m,\u001b[49m\n\u001b[1;32m   1436\u001b[0m \u001b[43m        \u001b[49m\u001b[43mcolor\u001b[49m\u001b[38;5;241;43m=\u001b[39;49m\u001b[43mcolor\u001b[49m\u001b[43m,\u001b[49m\n\u001b[1;32m   1437\u001b[0m \u001b[43m        \u001b[49m\u001b[43mcallbacks\u001b[49m\u001b[38;5;241;43m=\u001b[39;49m\u001b[43mrun_manager\u001b[49m\u001b[38;5;241;43m.\u001b[39;49m\u001b[43mget_child\u001b[49m\u001b[43m(\u001b[49m\u001b[43m)\u001b[49m\u001b[43m \u001b[49m\u001b[38;5;28;43;01mif\u001b[39;49;00m\u001b[43m \u001b[49m\u001b[43mrun_manager\u001b[49m\u001b[43m \u001b[49m\u001b[38;5;28;43;01melse\u001b[39;49;00m\u001b[43m \u001b[49m\u001b[38;5;28;43;01mNone\u001b[39;49;00m\u001b[43m,\u001b[49m\n\u001b[1;32m   1438\u001b[0m \u001b[43m        \u001b[49m\u001b[38;5;241;43m*\u001b[39;49m\u001b[38;5;241;43m*\u001b[39;49m\u001b[43mtool_run_kwargs\u001b[49m\u001b[43m,\u001b[49m\n\u001b[1;32m   1439\u001b[0m \u001b[43m    \u001b[49m\u001b[43m)\u001b[49m\n\u001b[1;32m   1440\u001b[0m \u001b[38;5;28;01melse\u001b[39;00m:\n\u001b[1;32m   1441\u001b[0m     tool_run_kwargs \u001b[38;5;241m=\u001b[39m \u001b[38;5;28mself\u001b[39m\u001b[38;5;241m.\u001b[39m_action_agent\u001b[38;5;241m.\u001b[39mtool_run_logging_kwargs()\n",
      "File \u001b[0;32m~/.cache/pypoetry/virtualenvs/woa-2025-intro-to-langchain-4HUP7ETl-py3.13/lib/python3.13/site-packages/langchain_core/tools/base.py:882\u001b[0m, in \u001b[0;36mBaseTool.run\u001b[0;34m(self, tool_input, verbose, start_color, color, callbacks, tags, metadata, run_name, run_id, config, tool_call_id, **kwargs)\u001b[0m\n\u001b[1;32m    880\u001b[0m \u001b[38;5;28;01mif\u001b[39;00m error_to_raise:\n\u001b[1;32m    881\u001b[0m     run_manager\u001b[38;5;241m.\u001b[39mon_tool_error(error_to_raise)\n\u001b[0;32m--> 882\u001b[0m     \u001b[38;5;28;01mraise\u001b[39;00m error_to_raise\n\u001b[1;32m    883\u001b[0m output \u001b[38;5;241m=\u001b[39m _format_output(content, artifact, tool_call_id, \u001b[38;5;28mself\u001b[39m\u001b[38;5;241m.\u001b[39mname, status)\n\u001b[1;32m    884\u001b[0m run_manager\u001b[38;5;241m.\u001b[39mon_tool_end(output, color\u001b[38;5;241m=\u001b[39mcolor, name\u001b[38;5;241m=\u001b[39m\u001b[38;5;28mself\u001b[39m\u001b[38;5;241m.\u001b[39mname, \u001b[38;5;241m*\u001b[39m\u001b[38;5;241m*\u001b[39mkwargs)\n",
      "File \u001b[0;32m~/.cache/pypoetry/virtualenvs/woa-2025-intro-to-langchain-4HUP7ETl-py3.13/lib/python3.13/site-packages/langchain_core/tools/base.py:851\u001b[0m, in \u001b[0;36mBaseTool.run\u001b[0;34m(self, tool_input, verbose, start_color, color, callbacks, tags, metadata, run_name, run_id, config, tool_call_id, **kwargs)\u001b[0m\n\u001b[1;32m    849\u001b[0m     \u001b[38;5;28;01mif\u001b[39;00m config_param \u001b[38;5;241m:=\u001b[39m _get_runnable_config_param(\u001b[38;5;28mself\u001b[39m\u001b[38;5;241m.\u001b[39m_run):\n\u001b[1;32m    850\u001b[0m         tool_kwargs \u001b[38;5;241m=\u001b[39m tool_kwargs \u001b[38;5;241m|\u001b[39m {config_param: config}\n\u001b[0;32m--> 851\u001b[0m     response \u001b[38;5;241m=\u001b[39m \u001b[43mcontext\u001b[49m\u001b[38;5;241;43m.\u001b[39;49m\u001b[43mrun\u001b[49m\u001b[43m(\u001b[49m\u001b[38;5;28;43mself\u001b[39;49m\u001b[38;5;241;43m.\u001b[39;49m\u001b[43m_run\u001b[49m\u001b[43m,\u001b[49m\u001b[43m \u001b[49m\u001b[38;5;241;43m*\u001b[39;49m\u001b[43mtool_args\u001b[49m\u001b[43m,\u001b[49m\u001b[43m \u001b[49m\u001b[38;5;241;43m*\u001b[39;49m\u001b[38;5;241;43m*\u001b[39;49m\u001b[43mtool_kwargs\u001b[49m\u001b[43m)\u001b[49m\n\u001b[1;32m    852\u001b[0m \u001b[38;5;28;01mif\u001b[39;00m \u001b[38;5;28mself\u001b[39m\u001b[38;5;241m.\u001b[39mresponse_format \u001b[38;5;241m==\u001b[39m \u001b[38;5;124m\"\u001b[39m\u001b[38;5;124mcontent_and_artifact\u001b[39m\u001b[38;5;124m\"\u001b[39m:\n\u001b[1;32m    853\u001b[0m     \u001b[38;5;28;01mif\u001b[39;00m \u001b[38;5;129;01mnot\u001b[39;00m \u001b[38;5;28misinstance\u001b[39m(response, \u001b[38;5;28mtuple\u001b[39m) \u001b[38;5;129;01mor\u001b[39;00m \u001b[38;5;28mlen\u001b[39m(response) \u001b[38;5;241m!=\u001b[39m \u001b[38;5;241m2\u001b[39m:\n",
      "File \u001b[0;32m~/.cache/pypoetry/virtualenvs/woa-2025-intro-to-langchain-4HUP7ETl-py3.13/lib/python3.13/site-packages/langchain_core/tools/structured.py:93\u001b[0m, in \u001b[0;36mStructuredTool._run\u001b[0;34m(self, config, run_manager, *args, **kwargs)\u001b[0m\n\u001b[1;32m     91\u001b[0m     \u001b[38;5;28;01mif\u001b[39;00m config_param \u001b[38;5;241m:=\u001b[39m _get_runnable_config_param(\u001b[38;5;28mself\u001b[39m\u001b[38;5;241m.\u001b[39mfunc):\n\u001b[1;32m     92\u001b[0m         kwargs[config_param] \u001b[38;5;241m=\u001b[39m config\n\u001b[0;32m---> 93\u001b[0m     \u001b[38;5;28;01mreturn\u001b[39;00m \u001b[38;5;28;43mself\u001b[39;49m\u001b[38;5;241;43m.\u001b[39;49m\u001b[43mfunc\u001b[49m\u001b[43m(\u001b[49m\u001b[38;5;241;43m*\u001b[39;49m\u001b[43margs\u001b[49m\u001b[43m,\u001b[49m\u001b[43m \u001b[49m\u001b[38;5;241;43m*\u001b[39;49m\u001b[38;5;241;43m*\u001b[39;49m\u001b[43mkwargs\u001b[49m\u001b[43m)\u001b[49m\n\u001b[1;32m     94\u001b[0m msg \u001b[38;5;241m=\u001b[39m \u001b[38;5;124m\"\u001b[39m\u001b[38;5;124mStructuredTool does not support sync invocation.\u001b[39m\u001b[38;5;124m\"\u001b[39m\n\u001b[1;32m     95\u001b[0m \u001b[38;5;28;01mraise\u001b[39;00m \u001b[38;5;167;01mNotImplementedError\u001b[39;00m(msg)\n",
      "Cell \u001b[0;32mIn[194], line 17\u001b[0m, in \u001b[0;36msearch_fancy_places_in\u001b[0;34m(place)\u001b[0m\n\u001b[1;32m      8\u001b[0m \u001b[38;5;129m@tool\u001b[39m\n\u001b[1;32m      9\u001b[0m \u001b[38;5;28;01mdef\u001b[39;00m\u001b[38;5;250m \u001b[39m\u001b[38;5;21msearch_fancy_places_in\u001b[39m(place: \u001b[38;5;28mstr\u001b[39m) \u001b[38;5;241m-\u001b[39m\u001b[38;5;241m>\u001b[39m \u001b[38;5;28mstr\u001b[39m:\n\u001b[1;32m     10\u001b[0m \u001b[38;5;250m    \u001b[39m\u001b[38;5;124;03m\"\"\"\u001b[39;00m\n\u001b[1;32m     11\u001b[0m \u001b[38;5;124;03m    Search for fancy places in the given location using SerpAPI.\u001b[39;00m\n\u001b[1;32m     12\u001b[0m \u001b[38;5;124;03m    Args:\u001b[39;00m\n\u001b[0;32m   (...)\u001b[0m\n\u001b[1;32m     15\u001b[0m \u001b[38;5;124;03m        str: Search results for fancy places in the specified location.\u001b[39;00m\n\u001b[1;32m     16\u001b[0m \u001b[38;5;124;03m    \"\"\"\u001b[39;00m\n\u001b[0;32m---> 17\u001b[0m     \u001b[38;5;28;01mreturn\u001b[39;00m \u001b[43mSerpAPIWrapper\u001b[49m\u001b[43m(\u001b[49m\u001b[43m)\u001b[49m\u001b[38;5;241;43m.\u001b[39;49m\u001b[43mrun\u001b[49m\u001b[43m(\u001b[49m\u001b[38;5;124;43mf\u001b[39;49m\u001b[38;5;124;43m\"\u001b[39;49m\u001b[38;5;124;43mfancy places in \u001b[39;49m\u001b[38;5;132;43;01m{\u001b[39;49;00m\u001b[43mplace\u001b[49m\u001b[38;5;132;43;01m}\u001b[39;49;00m\u001b[38;5;124;43m\"\u001b[39;49m\u001b[43m)\u001b[49m\n",
      "File \u001b[0;32m~/.cache/pypoetry/virtualenvs/woa-2025-intro-to-langchain-4HUP7ETl-py3.13/lib/python3.13/site-packages/langchain_community/utilities/serpapi.py:85\u001b[0m, in \u001b[0;36mSerpAPIWrapper.run\u001b[0;34m(self, query, **kwargs)\u001b[0m\n\u001b[1;32m     83\u001b[0m \u001b[38;5;28;01mdef\u001b[39;00m\u001b[38;5;250m \u001b[39m\u001b[38;5;21mrun\u001b[39m(\u001b[38;5;28mself\u001b[39m, query: \u001b[38;5;28mstr\u001b[39m, \u001b[38;5;241m*\u001b[39m\u001b[38;5;241m*\u001b[39mkwargs: Any) \u001b[38;5;241m-\u001b[39m\u001b[38;5;241m>\u001b[39m \u001b[38;5;28mstr\u001b[39m:\n\u001b[1;32m     84\u001b[0m \u001b[38;5;250m    \u001b[39m\u001b[38;5;124;03m\"\"\"Run query through SerpAPI and parse result.\"\"\"\u001b[39;00m\n\u001b[0;32m---> 85\u001b[0m     \u001b[38;5;28;01mreturn\u001b[39;00m \u001b[38;5;28mself\u001b[39m\u001b[38;5;241m.\u001b[39m_process_response(\u001b[38;5;28;43mself\u001b[39;49m\u001b[38;5;241;43m.\u001b[39;49m\u001b[43mresults\u001b[49m\u001b[43m(\u001b[49m\u001b[43mquery\u001b[49m\u001b[43m)\u001b[49m)\n",
      "File \u001b[0;32m~/.cache/pypoetry/virtualenvs/woa-2025-intro-to-langchain-4HUP7ETl-py3.13/lib/python3.13/site-packages/langchain_community/utilities/serpapi.py:92\u001b[0m, in \u001b[0;36mSerpAPIWrapper.results\u001b[0;34m(self, query)\u001b[0m\n\u001b[1;32m     90\u001b[0m \u001b[38;5;28;01mwith\u001b[39;00m HiddenPrints():\n\u001b[1;32m     91\u001b[0m     search \u001b[38;5;241m=\u001b[39m \u001b[38;5;28mself\u001b[39m\u001b[38;5;241m.\u001b[39msearch_engine(params)\n\u001b[0;32m---> 92\u001b[0m     res \u001b[38;5;241m=\u001b[39m \u001b[43msearch\u001b[49m\u001b[38;5;241;43m.\u001b[39;49m\u001b[43mget_dict\u001b[49m\u001b[43m(\u001b[49m\u001b[43m)\u001b[49m\n\u001b[1;32m     93\u001b[0m \u001b[38;5;28;01mreturn\u001b[39;00m res\n",
      "File \u001b[0;32m~/.cache/pypoetry/virtualenvs/woa-2025-intro-to-langchain-4HUP7ETl-py3.13/lib/python3.13/site-packages/serpapi/serp_api_client.py:103\u001b[0m, in \u001b[0;36mSerpApiClient.get_dict\u001b[0;34m(self)\u001b[0m\n\u001b[1;32m     98\u001b[0m \u001b[38;5;28;01mdef\u001b[39;00m\u001b[38;5;250m \u001b[39m\u001b[38;5;21mget_dict\u001b[39m(\u001b[38;5;28mself\u001b[39m):\n\u001b[1;32m     99\u001b[0m \u001b[38;5;250m    \u001b[39m\u001b[38;5;124;03m\"\"\"Returns:\u001b[39;00m\n\u001b[1;32m    100\u001b[0m \u001b[38;5;124;03m        Dict with the formatted response content\u001b[39;00m\n\u001b[1;32m    101\u001b[0m \u001b[38;5;124;03m        (alias for get_dictionary)\u001b[39;00m\n\u001b[1;32m    102\u001b[0m \u001b[38;5;124;03m    \"\"\"\u001b[39;00m\n\u001b[0;32m--> 103\u001b[0m     \u001b[38;5;28;01mreturn\u001b[39;00m \u001b[38;5;28;43mself\u001b[39;49m\u001b[38;5;241;43m.\u001b[39;49m\u001b[43mget_dictionary\u001b[49m\u001b[43m(\u001b[49m\u001b[43m)\u001b[49m\n",
      "File \u001b[0;32m~/.cache/pypoetry/virtualenvs/woa-2025-intro-to-langchain-4HUP7ETl-py3.13/lib/python3.13/site-packages/serpapi/serp_api_client.py:96\u001b[0m, in \u001b[0;36mSerpApiClient.get_dictionary\u001b[0;34m(self)\u001b[0m\n\u001b[1;32m     92\u001b[0m \u001b[38;5;28;01mdef\u001b[39;00m\u001b[38;5;250m \u001b[39m\u001b[38;5;21mget_dictionary\u001b[39m(\u001b[38;5;28mself\u001b[39m):\n\u001b[1;32m     93\u001b[0m \u001b[38;5;250m    \u001b[39m\u001b[38;5;124;03m\"\"\"Returns:\u001b[39;00m\n\u001b[1;32m     94\u001b[0m \u001b[38;5;124;03m        Dict with the formatted response content\u001b[39;00m\n\u001b[1;32m     95\u001b[0m \u001b[38;5;124;03m    \"\"\"\u001b[39;00m\n\u001b[0;32m---> 96\u001b[0m     \u001b[38;5;28;01mreturn\u001b[39;00m \u001b[38;5;28mdict\u001b[39m(\u001b[38;5;28;43mself\u001b[39;49m\u001b[38;5;241;43m.\u001b[39;49m\u001b[43mget_json\u001b[49m\u001b[43m(\u001b[49m\u001b[43m)\u001b[49m)\n",
      "File \u001b[0;32m~/.cache/pypoetry/virtualenvs/woa-2025-intro-to-langchain-4HUP7ETl-py3.13/lib/python3.13/site-packages/serpapi/serp_api_client.py:83\u001b[0m, in \u001b[0;36mSerpApiClient.get_json\u001b[0;34m(self)\u001b[0m\n\u001b[1;32m     79\u001b[0m \u001b[38;5;250m\u001b[39m\u001b[38;5;124;03m\"\"\"Returns:\u001b[39;00m\n\u001b[1;32m     80\u001b[0m \u001b[38;5;124;03m    Formatted JSON search results using json package\u001b[39;00m\n\u001b[1;32m     81\u001b[0m \u001b[38;5;124;03m\"\"\"\u001b[39;00m\n\u001b[1;32m     82\u001b[0m \u001b[38;5;28mself\u001b[39m\u001b[38;5;241m.\u001b[39mparams_dict[\u001b[38;5;124m\"\u001b[39m\u001b[38;5;124moutput\u001b[39m\u001b[38;5;124m\"\u001b[39m] \u001b[38;5;241m=\u001b[39m \u001b[38;5;124m\"\u001b[39m\u001b[38;5;124mjson\u001b[39m\u001b[38;5;124m\"\u001b[39m\n\u001b[0;32m---> 83\u001b[0m \u001b[38;5;28;01mreturn\u001b[39;00m json\u001b[38;5;241m.\u001b[39mloads(\u001b[38;5;28;43mself\u001b[39;49m\u001b[38;5;241;43m.\u001b[39;49m\u001b[43mget_results\u001b[49m\u001b[43m(\u001b[49m\u001b[43m)\u001b[49m)\n",
      "File \u001b[0;32m~/.cache/pypoetry/virtualenvs/woa-2025-intro-to-langchain-4HUP7ETl-py3.13/lib/python3.13/site-packages/serpapi/serp_api_client.py:70\u001b[0m, in \u001b[0;36mSerpApiClient.get_results\u001b[0;34m(self, path)\u001b[0m\n\u001b[1;32m     66\u001b[0m \u001b[38;5;28;01mdef\u001b[39;00m\u001b[38;5;250m \u001b[39m\u001b[38;5;21mget_results\u001b[39m(\u001b[38;5;28mself\u001b[39m, path\u001b[38;5;241m=\u001b[39m\u001b[38;5;124m'\u001b[39m\u001b[38;5;124m/search\u001b[39m\u001b[38;5;124m'\u001b[39m):\n\u001b[1;32m     67\u001b[0m \u001b[38;5;250m    \u001b[39m\u001b[38;5;124;03m\"\"\"Returns:\u001b[39;00m\n\u001b[1;32m     68\u001b[0m \u001b[38;5;124;03m        Response text field\u001b[39;00m\n\u001b[1;32m     69\u001b[0m \u001b[38;5;124;03m    \"\"\"\u001b[39;00m\n\u001b[0;32m---> 70\u001b[0m     \u001b[38;5;28;01mreturn\u001b[39;00m \u001b[38;5;28;43mself\u001b[39;49m\u001b[38;5;241;43m.\u001b[39;49m\u001b[43mget_response\u001b[49m\u001b[43m(\u001b[49m\u001b[43mpath\u001b[49m\u001b[43m)\u001b[49m\u001b[38;5;241m.\u001b[39mtext\n",
      "File \u001b[0;32m~/.cache/pypoetry/virtualenvs/woa-2025-intro-to-langchain-4HUP7ETl-py3.13/lib/python3.13/site-packages/serpapi/serp_api_client.py:59\u001b[0m, in \u001b[0;36mSerpApiClient.get_response\u001b[0;34m(self, path)\u001b[0m\n\u001b[1;32m     57\u001b[0m     url, parameter \u001b[38;5;241m=\u001b[39m \u001b[38;5;28mself\u001b[39m\u001b[38;5;241m.\u001b[39mconstruct_url(path)\n\u001b[1;32m     58\u001b[0m     \u001b[38;5;66;03m# print(url)\u001b[39;00m\n\u001b[0;32m---> 59\u001b[0m     response \u001b[38;5;241m=\u001b[39m \u001b[43mrequests\u001b[49m\u001b[38;5;241;43m.\u001b[39;49m\u001b[43mget\u001b[49m\u001b[43m(\u001b[49m\u001b[43murl\u001b[49m\u001b[43m,\u001b[49m\u001b[43m \u001b[49m\u001b[43mparameter\u001b[49m\u001b[43m,\u001b[49m\u001b[43m \u001b[49m\u001b[43mtimeout\u001b[49m\u001b[38;5;241;43m=\u001b[39;49m\u001b[38;5;28;43mself\u001b[39;49m\u001b[38;5;241;43m.\u001b[39;49m\u001b[43mtimeout\u001b[49m\u001b[43m)\u001b[49m\n\u001b[1;32m     60\u001b[0m     \u001b[38;5;28;01mreturn\u001b[39;00m response\n\u001b[1;32m     61\u001b[0m \u001b[38;5;28;01mexcept\u001b[39;00m requests\u001b[38;5;241m.\u001b[39mHTTPError \u001b[38;5;28;01mas\u001b[39;00m e:\n",
      "File \u001b[0;32m~/.cache/pypoetry/virtualenvs/woa-2025-intro-to-langchain-4HUP7ETl-py3.13/lib/python3.13/site-packages/requests/api.py:73\u001b[0m, in \u001b[0;36mget\u001b[0;34m(url, params, **kwargs)\u001b[0m\n\u001b[1;32m     62\u001b[0m \u001b[38;5;28;01mdef\u001b[39;00m\u001b[38;5;250m \u001b[39m\u001b[38;5;21mget\u001b[39m(url, params\u001b[38;5;241m=\u001b[39m\u001b[38;5;28;01mNone\u001b[39;00m, \u001b[38;5;241m*\u001b[39m\u001b[38;5;241m*\u001b[39mkwargs):\n\u001b[1;32m     63\u001b[0m \u001b[38;5;250m    \u001b[39m\u001b[38;5;124mr\u001b[39m\u001b[38;5;124;03m\"\"\"Sends a GET request.\u001b[39;00m\n\u001b[1;32m     64\u001b[0m \n\u001b[1;32m     65\u001b[0m \u001b[38;5;124;03m    :param url: URL for the new :class:`Request` object.\u001b[39;00m\n\u001b[0;32m   (...)\u001b[0m\n\u001b[1;32m     70\u001b[0m \u001b[38;5;124;03m    :rtype: requests.Response\u001b[39;00m\n\u001b[1;32m     71\u001b[0m \u001b[38;5;124;03m    \"\"\"\u001b[39;00m\n\u001b[0;32m---> 73\u001b[0m     \u001b[38;5;28;01mreturn\u001b[39;00m \u001b[43mrequest\u001b[49m\u001b[43m(\u001b[49m\u001b[38;5;124;43m\"\u001b[39;49m\u001b[38;5;124;43mget\u001b[39;49m\u001b[38;5;124;43m\"\u001b[39;49m\u001b[43m,\u001b[49m\u001b[43m \u001b[49m\u001b[43murl\u001b[49m\u001b[43m,\u001b[49m\u001b[43m \u001b[49m\u001b[43mparams\u001b[49m\u001b[38;5;241;43m=\u001b[39;49m\u001b[43mparams\u001b[49m\u001b[43m,\u001b[49m\u001b[43m \u001b[49m\u001b[38;5;241;43m*\u001b[39;49m\u001b[38;5;241;43m*\u001b[39;49m\u001b[43mkwargs\u001b[49m\u001b[43m)\u001b[49m\n",
      "File \u001b[0;32m~/.cache/pypoetry/virtualenvs/woa-2025-intro-to-langchain-4HUP7ETl-py3.13/lib/python3.13/site-packages/requests/api.py:59\u001b[0m, in \u001b[0;36mrequest\u001b[0;34m(method, url, **kwargs)\u001b[0m\n\u001b[1;32m     55\u001b[0m \u001b[38;5;66;03m# By using the 'with' statement we are sure the session is closed, thus we\u001b[39;00m\n\u001b[1;32m     56\u001b[0m \u001b[38;5;66;03m# avoid leaving sockets open which can trigger a ResourceWarning in some\u001b[39;00m\n\u001b[1;32m     57\u001b[0m \u001b[38;5;66;03m# cases, and look like a memory leak in others.\u001b[39;00m\n\u001b[1;32m     58\u001b[0m \u001b[38;5;28;01mwith\u001b[39;00m sessions\u001b[38;5;241m.\u001b[39mSession() \u001b[38;5;28;01mas\u001b[39;00m session:\n\u001b[0;32m---> 59\u001b[0m     \u001b[38;5;28;01mreturn\u001b[39;00m \u001b[43msession\u001b[49m\u001b[38;5;241;43m.\u001b[39;49m\u001b[43mrequest\u001b[49m\u001b[43m(\u001b[49m\u001b[43mmethod\u001b[49m\u001b[38;5;241;43m=\u001b[39;49m\u001b[43mmethod\u001b[49m\u001b[43m,\u001b[49m\u001b[43m \u001b[49m\u001b[43murl\u001b[49m\u001b[38;5;241;43m=\u001b[39;49m\u001b[43murl\u001b[49m\u001b[43m,\u001b[49m\u001b[43m \u001b[49m\u001b[38;5;241;43m*\u001b[39;49m\u001b[38;5;241;43m*\u001b[39;49m\u001b[43mkwargs\u001b[49m\u001b[43m)\u001b[49m\n",
      "File \u001b[0;32m~/.cache/pypoetry/virtualenvs/woa-2025-intro-to-langchain-4HUP7ETl-py3.13/lib/python3.13/site-packages/requests/sessions.py:589\u001b[0m, in \u001b[0;36mSession.request\u001b[0;34m(self, method, url, params, data, headers, cookies, files, auth, timeout, allow_redirects, proxies, hooks, stream, verify, cert, json)\u001b[0m\n\u001b[1;32m    584\u001b[0m send_kwargs \u001b[38;5;241m=\u001b[39m {\n\u001b[1;32m    585\u001b[0m     \u001b[38;5;124m\"\u001b[39m\u001b[38;5;124mtimeout\u001b[39m\u001b[38;5;124m\"\u001b[39m: timeout,\n\u001b[1;32m    586\u001b[0m     \u001b[38;5;124m\"\u001b[39m\u001b[38;5;124mallow_redirects\u001b[39m\u001b[38;5;124m\"\u001b[39m: allow_redirects,\n\u001b[1;32m    587\u001b[0m }\n\u001b[1;32m    588\u001b[0m send_kwargs\u001b[38;5;241m.\u001b[39mupdate(settings)\n\u001b[0;32m--> 589\u001b[0m resp \u001b[38;5;241m=\u001b[39m \u001b[38;5;28;43mself\u001b[39;49m\u001b[38;5;241;43m.\u001b[39;49m\u001b[43msend\u001b[49m\u001b[43m(\u001b[49m\u001b[43mprep\u001b[49m\u001b[43m,\u001b[49m\u001b[43m \u001b[49m\u001b[38;5;241;43m*\u001b[39;49m\u001b[38;5;241;43m*\u001b[39;49m\u001b[43msend_kwargs\u001b[49m\u001b[43m)\u001b[49m\n\u001b[1;32m    591\u001b[0m \u001b[38;5;28;01mreturn\u001b[39;00m resp\n",
      "File \u001b[0;32m~/.cache/pypoetry/virtualenvs/woa-2025-intro-to-langchain-4HUP7ETl-py3.13/lib/python3.13/site-packages/requests/sessions.py:703\u001b[0m, in \u001b[0;36mSession.send\u001b[0;34m(self, request, **kwargs)\u001b[0m\n\u001b[1;32m    700\u001b[0m start \u001b[38;5;241m=\u001b[39m preferred_clock()\n\u001b[1;32m    702\u001b[0m \u001b[38;5;66;03m# Send the request\u001b[39;00m\n\u001b[0;32m--> 703\u001b[0m r \u001b[38;5;241m=\u001b[39m \u001b[43madapter\u001b[49m\u001b[38;5;241;43m.\u001b[39;49m\u001b[43msend\u001b[49m\u001b[43m(\u001b[49m\u001b[43mrequest\u001b[49m\u001b[43m,\u001b[49m\u001b[43m \u001b[49m\u001b[38;5;241;43m*\u001b[39;49m\u001b[38;5;241;43m*\u001b[39;49m\u001b[43mkwargs\u001b[49m\u001b[43m)\u001b[49m\n\u001b[1;32m    705\u001b[0m \u001b[38;5;66;03m# Total elapsed time of the request (approximately)\u001b[39;00m\n\u001b[1;32m    706\u001b[0m elapsed \u001b[38;5;241m=\u001b[39m preferred_clock() \u001b[38;5;241m-\u001b[39m start\n",
      "File \u001b[0;32m~/.cache/pypoetry/virtualenvs/woa-2025-intro-to-langchain-4HUP7ETl-py3.13/lib/python3.13/site-packages/requests/adapters.py:667\u001b[0m, in \u001b[0;36mHTTPAdapter.send\u001b[0;34m(self, request, stream, timeout, verify, cert, proxies)\u001b[0m\n\u001b[1;32m    664\u001b[0m     timeout \u001b[38;5;241m=\u001b[39m TimeoutSauce(connect\u001b[38;5;241m=\u001b[39mtimeout, read\u001b[38;5;241m=\u001b[39mtimeout)\n\u001b[1;32m    666\u001b[0m \u001b[38;5;28;01mtry\u001b[39;00m:\n\u001b[0;32m--> 667\u001b[0m     resp \u001b[38;5;241m=\u001b[39m \u001b[43mconn\u001b[49m\u001b[38;5;241;43m.\u001b[39;49m\u001b[43murlopen\u001b[49m\u001b[43m(\u001b[49m\n\u001b[1;32m    668\u001b[0m \u001b[43m        \u001b[49m\u001b[43mmethod\u001b[49m\u001b[38;5;241;43m=\u001b[39;49m\u001b[43mrequest\u001b[49m\u001b[38;5;241;43m.\u001b[39;49m\u001b[43mmethod\u001b[49m\u001b[43m,\u001b[49m\n\u001b[1;32m    669\u001b[0m \u001b[43m        \u001b[49m\u001b[43murl\u001b[49m\u001b[38;5;241;43m=\u001b[39;49m\u001b[43murl\u001b[49m\u001b[43m,\u001b[49m\n\u001b[1;32m    670\u001b[0m \u001b[43m        \u001b[49m\u001b[43mbody\u001b[49m\u001b[38;5;241;43m=\u001b[39;49m\u001b[43mrequest\u001b[49m\u001b[38;5;241;43m.\u001b[39;49m\u001b[43mbody\u001b[49m\u001b[43m,\u001b[49m\n\u001b[1;32m    671\u001b[0m \u001b[43m        \u001b[49m\u001b[43mheaders\u001b[49m\u001b[38;5;241;43m=\u001b[39;49m\u001b[43mrequest\u001b[49m\u001b[38;5;241;43m.\u001b[39;49m\u001b[43mheaders\u001b[49m\u001b[43m,\u001b[49m\n\u001b[1;32m    672\u001b[0m \u001b[43m        \u001b[49m\u001b[43mredirect\u001b[49m\u001b[38;5;241;43m=\u001b[39;49m\u001b[38;5;28;43;01mFalse\u001b[39;49;00m\u001b[43m,\u001b[49m\n\u001b[1;32m    673\u001b[0m \u001b[43m        \u001b[49m\u001b[43massert_same_host\u001b[49m\u001b[38;5;241;43m=\u001b[39;49m\u001b[38;5;28;43;01mFalse\u001b[39;49;00m\u001b[43m,\u001b[49m\n\u001b[1;32m    674\u001b[0m \u001b[43m        \u001b[49m\u001b[43mpreload_content\u001b[49m\u001b[38;5;241;43m=\u001b[39;49m\u001b[38;5;28;43;01mFalse\u001b[39;49;00m\u001b[43m,\u001b[49m\n\u001b[1;32m    675\u001b[0m \u001b[43m        \u001b[49m\u001b[43mdecode_content\u001b[49m\u001b[38;5;241;43m=\u001b[39;49m\u001b[38;5;28;43;01mFalse\u001b[39;49;00m\u001b[43m,\u001b[49m\n\u001b[1;32m    676\u001b[0m \u001b[43m        \u001b[49m\u001b[43mretries\u001b[49m\u001b[38;5;241;43m=\u001b[39;49m\u001b[38;5;28;43mself\u001b[39;49m\u001b[38;5;241;43m.\u001b[39;49m\u001b[43mmax_retries\u001b[49m\u001b[43m,\u001b[49m\n\u001b[1;32m    677\u001b[0m \u001b[43m        \u001b[49m\u001b[43mtimeout\u001b[49m\u001b[38;5;241;43m=\u001b[39;49m\u001b[43mtimeout\u001b[49m\u001b[43m,\u001b[49m\n\u001b[1;32m    678\u001b[0m \u001b[43m        \u001b[49m\u001b[43mchunked\u001b[49m\u001b[38;5;241;43m=\u001b[39;49m\u001b[43mchunked\u001b[49m\u001b[43m,\u001b[49m\n\u001b[1;32m    679\u001b[0m \u001b[43m    \u001b[49m\u001b[43m)\u001b[49m\n\u001b[1;32m    681\u001b[0m \u001b[38;5;28;01mexcept\u001b[39;00m (ProtocolError, \u001b[38;5;167;01mOSError\u001b[39;00m) \u001b[38;5;28;01mas\u001b[39;00m err:\n\u001b[1;32m    682\u001b[0m     \u001b[38;5;28;01mraise\u001b[39;00m \u001b[38;5;167;01mConnectionError\u001b[39;00m(err, request\u001b[38;5;241m=\u001b[39mrequest)\n",
      "File \u001b[0;32m~/.cache/pypoetry/virtualenvs/woa-2025-intro-to-langchain-4HUP7ETl-py3.13/lib/python3.13/site-packages/urllib3/connectionpool.py:787\u001b[0m, in \u001b[0;36mHTTPConnectionPool.urlopen\u001b[0;34m(self, method, url, body, headers, retries, redirect, assert_same_host, timeout, pool_timeout, release_conn, chunked, body_pos, preload_content, decode_content, **response_kw)\u001b[0m\n\u001b[1;32m    784\u001b[0m response_conn \u001b[38;5;241m=\u001b[39m conn \u001b[38;5;28;01mif\u001b[39;00m \u001b[38;5;129;01mnot\u001b[39;00m release_conn \u001b[38;5;28;01melse\u001b[39;00m \u001b[38;5;28;01mNone\u001b[39;00m\n\u001b[1;32m    786\u001b[0m \u001b[38;5;66;03m# Make the request on the HTTPConnection object\u001b[39;00m\n\u001b[0;32m--> 787\u001b[0m response \u001b[38;5;241m=\u001b[39m \u001b[38;5;28;43mself\u001b[39;49m\u001b[38;5;241;43m.\u001b[39;49m\u001b[43m_make_request\u001b[49m\u001b[43m(\u001b[49m\n\u001b[1;32m    788\u001b[0m \u001b[43m    \u001b[49m\u001b[43mconn\u001b[49m\u001b[43m,\u001b[49m\n\u001b[1;32m    789\u001b[0m \u001b[43m    \u001b[49m\u001b[43mmethod\u001b[49m\u001b[43m,\u001b[49m\n\u001b[1;32m    790\u001b[0m \u001b[43m    \u001b[49m\u001b[43murl\u001b[49m\u001b[43m,\u001b[49m\n\u001b[1;32m    791\u001b[0m \u001b[43m    \u001b[49m\u001b[43mtimeout\u001b[49m\u001b[38;5;241;43m=\u001b[39;49m\u001b[43mtimeout_obj\u001b[49m\u001b[43m,\u001b[49m\n\u001b[1;32m    792\u001b[0m \u001b[43m    \u001b[49m\u001b[43mbody\u001b[49m\u001b[38;5;241;43m=\u001b[39;49m\u001b[43mbody\u001b[49m\u001b[43m,\u001b[49m\n\u001b[1;32m    793\u001b[0m \u001b[43m    \u001b[49m\u001b[43mheaders\u001b[49m\u001b[38;5;241;43m=\u001b[39;49m\u001b[43mheaders\u001b[49m\u001b[43m,\u001b[49m\n\u001b[1;32m    794\u001b[0m \u001b[43m    \u001b[49m\u001b[43mchunked\u001b[49m\u001b[38;5;241;43m=\u001b[39;49m\u001b[43mchunked\u001b[49m\u001b[43m,\u001b[49m\n\u001b[1;32m    795\u001b[0m \u001b[43m    \u001b[49m\u001b[43mretries\u001b[49m\u001b[38;5;241;43m=\u001b[39;49m\u001b[43mretries\u001b[49m\u001b[43m,\u001b[49m\n\u001b[1;32m    796\u001b[0m \u001b[43m    \u001b[49m\u001b[43mresponse_conn\u001b[49m\u001b[38;5;241;43m=\u001b[39;49m\u001b[43mresponse_conn\u001b[49m\u001b[43m,\u001b[49m\n\u001b[1;32m    797\u001b[0m \u001b[43m    \u001b[49m\u001b[43mpreload_content\u001b[49m\u001b[38;5;241;43m=\u001b[39;49m\u001b[43mpreload_content\u001b[49m\u001b[43m,\u001b[49m\n\u001b[1;32m    798\u001b[0m \u001b[43m    \u001b[49m\u001b[43mdecode_content\u001b[49m\u001b[38;5;241;43m=\u001b[39;49m\u001b[43mdecode_content\u001b[49m\u001b[43m,\u001b[49m\n\u001b[1;32m    799\u001b[0m \u001b[43m    \u001b[49m\u001b[38;5;241;43m*\u001b[39;49m\u001b[38;5;241;43m*\u001b[39;49m\u001b[43mresponse_kw\u001b[49m\u001b[43m,\u001b[49m\n\u001b[1;32m    800\u001b[0m \u001b[43m\u001b[49m\u001b[43m)\u001b[49m\n\u001b[1;32m    802\u001b[0m \u001b[38;5;66;03m# Everything went great!\u001b[39;00m\n\u001b[1;32m    803\u001b[0m clean_exit \u001b[38;5;241m=\u001b[39m \u001b[38;5;28;01mTrue\u001b[39;00m\n",
      "File \u001b[0;32m~/.cache/pypoetry/virtualenvs/woa-2025-intro-to-langchain-4HUP7ETl-py3.13/lib/python3.13/site-packages/urllib3/connectionpool.py:464\u001b[0m, in \u001b[0;36mHTTPConnectionPool._make_request\u001b[0;34m(self, conn, method, url, body, headers, retries, timeout, chunked, response_conn, preload_content, decode_content, enforce_content_length)\u001b[0m\n\u001b[1;32m    461\u001b[0m \u001b[38;5;28;01mtry\u001b[39;00m:\n\u001b[1;32m    462\u001b[0m     \u001b[38;5;66;03m# Trigger any extra validation we need to do.\u001b[39;00m\n\u001b[1;32m    463\u001b[0m     \u001b[38;5;28;01mtry\u001b[39;00m:\n\u001b[0;32m--> 464\u001b[0m         \u001b[38;5;28;43mself\u001b[39;49m\u001b[38;5;241;43m.\u001b[39;49m\u001b[43m_validate_conn\u001b[49m\u001b[43m(\u001b[49m\u001b[43mconn\u001b[49m\u001b[43m)\u001b[49m\n\u001b[1;32m    465\u001b[0m     \u001b[38;5;28;01mexcept\u001b[39;00m (SocketTimeout, BaseSSLError) \u001b[38;5;28;01mas\u001b[39;00m e:\n\u001b[1;32m    466\u001b[0m         \u001b[38;5;28mself\u001b[39m\u001b[38;5;241m.\u001b[39m_raise_timeout(err\u001b[38;5;241m=\u001b[39me, url\u001b[38;5;241m=\u001b[39murl, timeout_value\u001b[38;5;241m=\u001b[39mconn\u001b[38;5;241m.\u001b[39mtimeout)\n",
      "File \u001b[0;32m~/.cache/pypoetry/virtualenvs/woa-2025-intro-to-langchain-4HUP7ETl-py3.13/lib/python3.13/site-packages/urllib3/connectionpool.py:1093\u001b[0m, in \u001b[0;36mHTTPSConnectionPool._validate_conn\u001b[0;34m(self, conn)\u001b[0m\n\u001b[1;32m   1091\u001b[0m \u001b[38;5;66;03m# Force connect early to allow us to validate the connection.\u001b[39;00m\n\u001b[1;32m   1092\u001b[0m \u001b[38;5;28;01mif\u001b[39;00m conn\u001b[38;5;241m.\u001b[39mis_closed:\n\u001b[0;32m-> 1093\u001b[0m     \u001b[43mconn\u001b[49m\u001b[38;5;241;43m.\u001b[39;49m\u001b[43mconnect\u001b[49m\u001b[43m(\u001b[49m\u001b[43m)\u001b[49m\n\u001b[1;32m   1095\u001b[0m \u001b[38;5;66;03m# TODO revise this, see https://github.com/urllib3/urllib3/issues/2791\u001b[39;00m\n\u001b[1;32m   1096\u001b[0m \u001b[38;5;28;01mif\u001b[39;00m \u001b[38;5;129;01mnot\u001b[39;00m conn\u001b[38;5;241m.\u001b[39mis_verified \u001b[38;5;129;01mand\u001b[39;00m \u001b[38;5;129;01mnot\u001b[39;00m conn\u001b[38;5;241m.\u001b[39mproxy_is_verified:\n",
      "File \u001b[0;32m~/.cache/pypoetry/virtualenvs/woa-2025-intro-to-langchain-4HUP7ETl-py3.13/lib/python3.13/site-packages/urllib3/connection.py:753\u001b[0m, in \u001b[0;36mHTTPSConnection.connect\u001b[0;34m(self)\u001b[0m\n\u001b[1;32m    751\u001b[0m \u001b[38;5;28;01mtry\u001b[39;00m:\n\u001b[1;32m    752\u001b[0m     sock: socket\u001b[38;5;241m.\u001b[39msocket \u001b[38;5;241m|\u001b[39m ssl\u001b[38;5;241m.\u001b[39mSSLSocket\n\u001b[0;32m--> 753\u001b[0m     \u001b[38;5;28mself\u001b[39m\u001b[38;5;241m.\u001b[39msock \u001b[38;5;241m=\u001b[39m sock \u001b[38;5;241m=\u001b[39m \u001b[38;5;28;43mself\u001b[39;49m\u001b[38;5;241;43m.\u001b[39;49m\u001b[43m_new_conn\u001b[49m\u001b[43m(\u001b[49m\u001b[43m)\u001b[49m\n\u001b[1;32m    754\u001b[0m     server_hostname: \u001b[38;5;28mstr\u001b[39m \u001b[38;5;241m=\u001b[39m \u001b[38;5;28mself\u001b[39m\u001b[38;5;241m.\u001b[39mhost\n\u001b[1;32m    755\u001b[0m     tls_in_tls \u001b[38;5;241m=\u001b[39m \u001b[38;5;28;01mFalse\u001b[39;00m\n",
      "File \u001b[0;32m~/.cache/pypoetry/virtualenvs/woa-2025-intro-to-langchain-4HUP7ETl-py3.13/lib/python3.13/site-packages/urllib3/connection.py:198\u001b[0m, in \u001b[0;36mHTTPConnection._new_conn\u001b[0;34m(self)\u001b[0m\n\u001b[1;32m    193\u001b[0m \u001b[38;5;250m\u001b[39m\u001b[38;5;124;03m\"\"\"Establish a socket connection and set nodelay settings on it.\u001b[39;00m\n\u001b[1;32m    194\u001b[0m \n\u001b[1;32m    195\u001b[0m \u001b[38;5;124;03m:return: New socket connection.\u001b[39;00m\n\u001b[1;32m    196\u001b[0m \u001b[38;5;124;03m\"\"\"\u001b[39;00m\n\u001b[1;32m    197\u001b[0m \u001b[38;5;28;01mtry\u001b[39;00m:\n\u001b[0;32m--> 198\u001b[0m     sock \u001b[38;5;241m=\u001b[39m \u001b[43mconnection\u001b[49m\u001b[38;5;241;43m.\u001b[39;49m\u001b[43mcreate_connection\u001b[49m\u001b[43m(\u001b[49m\n\u001b[1;32m    199\u001b[0m \u001b[43m        \u001b[49m\u001b[43m(\u001b[49m\u001b[38;5;28;43mself\u001b[39;49m\u001b[38;5;241;43m.\u001b[39;49m\u001b[43m_dns_host\u001b[49m\u001b[43m,\u001b[49m\u001b[43m \u001b[49m\u001b[38;5;28;43mself\u001b[39;49m\u001b[38;5;241;43m.\u001b[39;49m\u001b[43mport\u001b[49m\u001b[43m)\u001b[49m\u001b[43m,\u001b[49m\n\u001b[1;32m    200\u001b[0m \u001b[43m        \u001b[49m\u001b[38;5;28;43mself\u001b[39;49m\u001b[38;5;241;43m.\u001b[39;49m\u001b[43mtimeout\u001b[49m\u001b[43m,\u001b[49m\n\u001b[1;32m    201\u001b[0m \u001b[43m        \u001b[49m\u001b[43msource_address\u001b[49m\u001b[38;5;241;43m=\u001b[39;49m\u001b[38;5;28;43mself\u001b[39;49m\u001b[38;5;241;43m.\u001b[39;49m\u001b[43msource_address\u001b[49m\u001b[43m,\u001b[49m\n\u001b[1;32m    202\u001b[0m \u001b[43m        \u001b[49m\u001b[43msocket_options\u001b[49m\u001b[38;5;241;43m=\u001b[39;49m\u001b[38;5;28;43mself\u001b[39;49m\u001b[38;5;241;43m.\u001b[39;49m\u001b[43msocket_options\u001b[49m\u001b[43m,\u001b[49m\n\u001b[1;32m    203\u001b[0m \u001b[43m    \u001b[49m\u001b[43m)\u001b[49m\n\u001b[1;32m    204\u001b[0m \u001b[38;5;28;01mexcept\u001b[39;00m socket\u001b[38;5;241m.\u001b[39mgaierror \u001b[38;5;28;01mas\u001b[39;00m e:\n\u001b[1;32m    205\u001b[0m     \u001b[38;5;28;01mraise\u001b[39;00m NameResolutionError(\u001b[38;5;28mself\u001b[39m\u001b[38;5;241m.\u001b[39mhost, \u001b[38;5;28mself\u001b[39m, e) \u001b[38;5;28;01mfrom\u001b[39;00m\u001b[38;5;250m \u001b[39m\u001b[38;5;21;01me\u001b[39;00m\n",
      "File \u001b[0;32m~/.cache/pypoetry/virtualenvs/woa-2025-intro-to-langchain-4HUP7ETl-py3.13/lib/python3.13/site-packages/urllib3/util/connection.py:73\u001b[0m, in \u001b[0;36mcreate_connection\u001b[0;34m(address, timeout, source_address, socket_options)\u001b[0m\n\u001b[1;32m     71\u001b[0m \u001b[38;5;28;01mif\u001b[39;00m source_address:\n\u001b[1;32m     72\u001b[0m     sock\u001b[38;5;241m.\u001b[39mbind(source_address)\n\u001b[0;32m---> 73\u001b[0m \u001b[43msock\u001b[49m\u001b[38;5;241;43m.\u001b[39;49m\u001b[43mconnect\u001b[49m\u001b[43m(\u001b[49m\u001b[43msa\u001b[49m\u001b[43m)\u001b[49m\n\u001b[1;32m     74\u001b[0m \u001b[38;5;66;03m# Break explicitly a reference cycle\u001b[39;00m\n\u001b[1;32m     75\u001b[0m err \u001b[38;5;241m=\u001b[39m \u001b[38;5;28;01mNone\u001b[39;00m\n",
      "\u001b[0;31mKeyboardInterrupt\u001b[0m: "
     ]
    }
   ],
   "source": [
    "from langchain_community.utilities import SerpAPIWrapper\n",
    "from langchain.agents import tool\n",
    "from datetime import datetime\n",
    "\n",
    "# laod env\n",
    "from dotenv import load_dotenv\n",
    "load_dotenv()  # Load environment variables from .env file\n",
    "@tool\n",
    "def search_fancy_places_in(place: str) -> str:\n",
    "    \"\"\"\n",
    "    Search for fancy places in the given location using SerpAPI.\n",
    "    Args:\n",
    "        place (str): The location to search for fancy places.\n",
    "    Returns:\n",
    "        str: Search results for fancy places in the specified location.\n",
    "    \"\"\"\n",
    "    return SerpAPIWrapper().run(f\"fancy places in {place}\")\n",
    "\n",
    "@tool\n",
    "def search_flights_to(destination_and_date: str) -> str:\n",
    "    \"\"\"\n",
    "    Search for flights to the given destination on a specific date.\n",
    "    Input should be a string in the format 'destination;date'.\n",
    "    If date is missing, today's date is used.\n",
    "    Args:\n",
    "        destination_and_date (str): 'destination;date' or just 'destination'\n",
    "    Returns:\n",
    "        str: Search results for flights to the destination.\n",
    "    \"\"\"\n",
    "    parts = destination_and_date.split(\";\")\n",
    "    destination = parts[0].strip()\n",
    "    date = parts[1].strip() if len(parts) > 1 and parts[1].strip() else datetime.now().strftime(\"%Y-%m-%d\")\n",
    "    return SerpAPIWrapper().run(f\"flights to {destination} on {date}\")\n",
    "\n",
    "@tool\n",
    "def search_fancy_hotels_in(location: str) -> str:\n",
    "    \"\"\"\n",
    "    Search for fancy hotels in the given location.\n",
    "    Args:\n",
    "        location (str): The location to search for fancy hotels.\n",
    "    Returns:\n",
    "        str: Search results for fancy hotels in the specified location.\n",
    "    \"\"\"\n",
    "    return SerpAPIWrapper().run(f\"search fancy hotels in {location}\")\n",
    "\n",
    "agent = initialize_agent(\n",
    "    [search_fancy_places_in, search_fancy_hotels_in],\n",
    "    chat_gemini,\n",
    "    agent=AgentType.CHAT_ZERO_SHOT_REACT_DESCRIPTION,\n",
    "    handle_parsing_errors=True,\n",
    "    verbose=True\n",
    ")\n",
    "\n",
    "agent.invoke(\"Can you create a plan for a trip to Aarhus?\")"
   ]
  }
 ],
 "metadata": {
  "kernelspec": {
   "display_name": "Python 3 (ipykernel)",
   "language": "python",
   "name": "python3"
  },
  "language_info": {
   "codemirror_mode": {
    "name": "ipython",
    "version": 3
   },
   "file_extension": ".py",
   "mimetype": "text/x-python",
   "name": "python",
   "nbconvert_exporter": "python",
   "pygments_lexer": "ipython3",
   "version": "3.13.3+"
  },
  "rise": {
   "center": true,
   "theme": "white"
  }
 },
 "nbformat": 4,
 "nbformat_minor": 5
}
